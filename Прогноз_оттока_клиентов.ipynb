{
 "cells": [
  {
   "cell_type": "markdown",
   "id": "0b840f82",
   "metadata": {},
   "source": [
    "# Описание данных."
   ]
  },
  {
   "cell_type": "markdown",
   "id": "17539c79",
   "metadata": {},
   "source": [
    "Оператор связи «ТелеДом» хочет бороться с оттоком клиентов. Для этого его сотрудники начнут предлагать промокоды и специальные условия всем, кто планирует отказаться от услуг связи. Чтобы заранее находить таких пользователей, «ТелеДому» нужна модель, которая будет предсказывать, разорвёт ли абонент договор. Команда оператора собрала персональные данные о некоторых клиентах, информацию об их тарифах и услугах. Информация о договорах актуальна на 1 февраля 2020 года.<br><br>Информация хранится в четырех датасетах:<br>- contract_new.csv — информация о договоре;<br>- personal_new.csv — персональные данные клиента;<br>- internet_new.csv — информация об интернет-услугах;<br>- phone_new.csv — информация об услугах телефонии.<br><br>Наша задача — обучить на этих данных модель для прогноза оттока клиентов."
   ]
  },
  {
   "cell_type": "markdown",
   "id": "2d607d48",
   "metadata": {},
   "source": [
    "## Загрузка данных."
   ]
  },
  {
   "cell_type": "code",
   "execution_count": 1,
   "id": "4050910d",
   "metadata": {},
   "outputs": [],
   "source": [
    "!pip install -q phik"
   ]
  },
  {
   "cell_type": "code",
   "execution_count": 2,
   "id": "631c2055",
   "metadata": {},
   "outputs": [],
   "source": [
    "import pandas as pd\n",
    "import seaborn as sns\n",
    "import matplotlib.pyplot as plt\n",
    "import phik\n",
    "from phik.report import plot_correlation_matrix\n",
    "from phik import report\n",
    "\n",
    "from sklearn.model_selection import train_test_split, RandomizedSearchCV, StratifiedKFold\n",
    "from sklearn.ensemble import RandomForestClassifier, GradientBoostingClassifier\n",
    "from sklearn.compose import ColumnTransformer\n",
    "from sklearn.preprocessing import StandardScaler, OneHotEncoder, MinMaxScaler\n",
    "from sklearn.pipeline import Pipeline\n",
    "from sklearn.impute import SimpleImputer\n",
    "from sklearn.metrics import roc_auc_score, make_scorer\n",
    "import time\n",
    "from sklearn.metrics import confusion_matrix, classification_report\n",
    "from sklearn.inspection import permutation_importance\n",
    "\n",
    "TEST_SIZE=0.25\n",
    "RANDOM_STATE=80724"
   ]
  },
  {
   "cell_type": "markdown",
   "id": "fff2268c",
   "metadata": {},
   "source": [
    "Рассмотрим датасеты."
   ]
  },
  {
   "cell_type": "code",
   "execution_count": 3,
   "id": "12284dfc",
   "metadata": {},
   "outputs": [],
   "source": [
    "df_contract_new = pd.read_csv('/datasets/contract_new.csv')\n",
    "df_personal_new = pd.read_csv('/datasets/personal_new.csv')\n",
    "df_internet_new = pd.read_csv('/datasets/internet_new.csv')\n",
    "df_phone_new = pd.read_csv('/datasets/phone_new.csv')"
   ]
  },
  {
   "cell_type": "code",
   "execution_count": 4,
   "id": "9ed26354",
   "metadata": {},
   "outputs": [
    {
     "data": {
      "text/html": [
       "<div>\n",
       "<style scoped>\n",
       "    .dataframe tbody tr th:only-of-type {\n",
       "        vertical-align: middle;\n",
       "    }\n",
       "\n",
       "    .dataframe tbody tr th {\n",
       "        vertical-align: top;\n",
       "    }\n",
       "\n",
       "    .dataframe thead th {\n",
       "        text-align: right;\n",
       "    }\n",
       "</style>\n",
       "<table border=\"1\" class=\"dataframe\">\n",
       "  <thead>\n",
       "    <tr style=\"text-align: right;\">\n",
       "      <th></th>\n",
       "      <th>customerID</th>\n",
       "      <th>BeginDate</th>\n",
       "      <th>EndDate</th>\n",
       "      <th>Type</th>\n",
       "      <th>PaperlessBilling</th>\n",
       "      <th>PaymentMethod</th>\n",
       "      <th>MonthlyCharges</th>\n",
       "      <th>TotalCharges</th>\n",
       "    </tr>\n",
       "  </thead>\n",
       "  <tbody>\n",
       "    <tr>\n",
       "      <th>0</th>\n",
       "      <td>7590-VHVEG</td>\n",
       "      <td>2020-01-01</td>\n",
       "      <td>No</td>\n",
       "      <td>Month-to-month</td>\n",
       "      <td>Yes</td>\n",
       "      <td>Electronic check</td>\n",
       "      <td>29.85</td>\n",
       "      <td>31.04</td>\n",
       "    </tr>\n",
       "    <tr>\n",
       "      <th>1</th>\n",
       "      <td>5575-GNVDE</td>\n",
       "      <td>2017-04-01</td>\n",
       "      <td>No</td>\n",
       "      <td>One year</td>\n",
       "      <td>No</td>\n",
       "      <td>Mailed check</td>\n",
       "      <td>56.95</td>\n",
       "      <td>2071.84</td>\n",
       "    </tr>\n",
       "    <tr>\n",
       "      <th>2</th>\n",
       "      <td>3668-QPYBK</td>\n",
       "      <td>2019-10-01</td>\n",
       "      <td>No</td>\n",
       "      <td>Month-to-month</td>\n",
       "      <td>Yes</td>\n",
       "      <td>Mailed check</td>\n",
       "      <td>53.85</td>\n",
       "      <td>226.17</td>\n",
       "    </tr>\n",
       "    <tr>\n",
       "      <th>3</th>\n",
       "      <td>7795-CFOCW</td>\n",
       "      <td>2016-05-01</td>\n",
       "      <td>No</td>\n",
       "      <td>One year</td>\n",
       "      <td>No</td>\n",
       "      <td>Bank transfer (automatic)</td>\n",
       "      <td>42.30</td>\n",
       "      <td>1960.6</td>\n",
       "    </tr>\n",
       "    <tr>\n",
       "      <th>4</th>\n",
       "      <td>9237-HQITU</td>\n",
       "      <td>2019-09-01</td>\n",
       "      <td>No</td>\n",
       "      <td>Month-to-month</td>\n",
       "      <td>Yes</td>\n",
       "      <td>Electronic check</td>\n",
       "      <td>70.70</td>\n",
       "      <td>353.5</td>\n",
       "    </tr>\n",
       "  </tbody>\n",
       "</table>\n",
       "</div>"
      ],
      "text/plain": [
       "   customerID   BeginDate EndDate            Type PaperlessBilling  \\\n",
       "0  7590-VHVEG  2020-01-01      No  Month-to-month              Yes   \n",
       "1  5575-GNVDE  2017-04-01      No        One year               No   \n",
       "2  3668-QPYBK  2019-10-01      No  Month-to-month              Yes   \n",
       "3  7795-CFOCW  2016-05-01      No        One year               No   \n",
       "4  9237-HQITU  2019-09-01      No  Month-to-month              Yes   \n",
       "\n",
       "               PaymentMethod  MonthlyCharges TotalCharges  \n",
       "0           Electronic check           29.85        31.04  \n",
       "1               Mailed check           56.95      2071.84  \n",
       "2               Mailed check           53.85       226.17  \n",
       "3  Bank transfer (automatic)           42.30       1960.6  \n",
       "4           Electronic check           70.70        353.5  "
      ]
     },
     "execution_count": 4,
     "metadata": {},
     "output_type": "execute_result"
    }
   ],
   "source": [
    "df_contract_new.head()"
   ]
  },
  {
   "cell_type": "code",
   "execution_count": 5,
   "id": "7d7801ed",
   "metadata": {},
   "outputs": [
    {
     "name": "stdout",
     "output_type": "stream",
     "text": [
      "<class 'pandas.core.frame.DataFrame'>\n",
      "RangeIndex: 7043 entries, 0 to 7042\n",
      "Data columns (total 8 columns):\n",
      " #   Column            Non-Null Count  Dtype  \n",
      "---  ------            --------------  -----  \n",
      " 0   customerID        7043 non-null   object \n",
      " 1   BeginDate         7043 non-null   object \n",
      " 2   EndDate           7043 non-null   object \n",
      " 3   Type              7043 non-null   object \n",
      " 4   PaperlessBilling  7043 non-null   object \n",
      " 5   PaymentMethod     7043 non-null   object \n",
      " 6   MonthlyCharges    7043 non-null   float64\n",
      " 7   TotalCharges      7043 non-null   object \n",
      "dtypes: float64(1), object(7)\n",
      "memory usage: 440.3+ KB\n"
     ]
    }
   ],
   "source": [
    "df_contract_new.info()"
   ]
  },
  {
   "cell_type": "code",
   "execution_count": 6,
   "id": "5e2436a3",
   "metadata": {},
   "outputs": [
    {
     "data": {
      "text/html": [
       "<div>\n",
       "<style scoped>\n",
       "    .dataframe tbody tr th:only-of-type {\n",
       "        vertical-align: middle;\n",
       "    }\n",
       "\n",
       "    .dataframe tbody tr th {\n",
       "        vertical-align: top;\n",
       "    }\n",
       "\n",
       "    .dataframe thead th {\n",
       "        text-align: right;\n",
       "    }\n",
       "</style>\n",
       "<table border=\"1\" class=\"dataframe\">\n",
       "  <thead>\n",
       "    <tr style=\"text-align: right;\">\n",
       "      <th></th>\n",
       "      <th>customerID</th>\n",
       "      <th>gender</th>\n",
       "      <th>SeniorCitizen</th>\n",
       "      <th>Partner</th>\n",
       "      <th>Dependents</th>\n",
       "    </tr>\n",
       "  </thead>\n",
       "  <tbody>\n",
       "    <tr>\n",
       "      <th>0</th>\n",
       "      <td>7590-VHVEG</td>\n",
       "      <td>Female</td>\n",
       "      <td>0</td>\n",
       "      <td>Yes</td>\n",
       "      <td>No</td>\n",
       "    </tr>\n",
       "    <tr>\n",
       "      <th>1</th>\n",
       "      <td>5575-GNVDE</td>\n",
       "      <td>Male</td>\n",
       "      <td>0</td>\n",
       "      <td>No</td>\n",
       "      <td>No</td>\n",
       "    </tr>\n",
       "    <tr>\n",
       "      <th>2</th>\n",
       "      <td>3668-QPYBK</td>\n",
       "      <td>Male</td>\n",
       "      <td>0</td>\n",
       "      <td>No</td>\n",
       "      <td>No</td>\n",
       "    </tr>\n",
       "    <tr>\n",
       "      <th>3</th>\n",
       "      <td>7795-CFOCW</td>\n",
       "      <td>Male</td>\n",
       "      <td>0</td>\n",
       "      <td>No</td>\n",
       "      <td>No</td>\n",
       "    </tr>\n",
       "    <tr>\n",
       "      <th>4</th>\n",
       "      <td>9237-HQITU</td>\n",
       "      <td>Female</td>\n",
       "      <td>0</td>\n",
       "      <td>No</td>\n",
       "      <td>No</td>\n",
       "    </tr>\n",
       "  </tbody>\n",
       "</table>\n",
       "</div>"
      ],
      "text/plain": [
       "   customerID  gender  SeniorCitizen Partner Dependents\n",
       "0  7590-VHVEG  Female              0     Yes         No\n",
       "1  5575-GNVDE    Male              0      No         No\n",
       "2  3668-QPYBK    Male              0      No         No\n",
       "3  7795-CFOCW    Male              0      No         No\n",
       "4  9237-HQITU  Female              0      No         No"
      ]
     },
     "execution_count": 6,
     "metadata": {},
     "output_type": "execute_result"
    }
   ],
   "source": [
    "df_personal_new.head()"
   ]
  },
  {
   "cell_type": "code",
   "execution_count": 7,
   "id": "8369ddb7",
   "metadata": {},
   "outputs": [
    {
     "name": "stdout",
     "output_type": "stream",
     "text": [
      "<class 'pandas.core.frame.DataFrame'>\n",
      "RangeIndex: 7043 entries, 0 to 7042\n",
      "Data columns (total 5 columns):\n",
      " #   Column         Non-Null Count  Dtype \n",
      "---  ------         --------------  ----- \n",
      " 0   customerID     7043 non-null   object\n",
      " 1   gender         7043 non-null   object\n",
      " 2   SeniorCitizen  7043 non-null   int64 \n",
      " 3   Partner        7043 non-null   object\n",
      " 4   Dependents     7043 non-null   object\n",
      "dtypes: int64(1), object(4)\n",
      "memory usage: 275.2+ KB\n"
     ]
    }
   ],
   "source": [
    "df_personal_new.info()"
   ]
  },
  {
   "cell_type": "code",
   "execution_count": 8,
   "id": "131ae7d8",
   "metadata": {},
   "outputs": [
    {
     "data": {
      "text/html": [
       "<div>\n",
       "<style scoped>\n",
       "    .dataframe tbody tr th:only-of-type {\n",
       "        vertical-align: middle;\n",
       "    }\n",
       "\n",
       "    .dataframe tbody tr th {\n",
       "        vertical-align: top;\n",
       "    }\n",
       "\n",
       "    .dataframe thead th {\n",
       "        text-align: right;\n",
       "    }\n",
       "</style>\n",
       "<table border=\"1\" class=\"dataframe\">\n",
       "  <thead>\n",
       "    <tr style=\"text-align: right;\">\n",
       "      <th></th>\n",
       "      <th>customerID</th>\n",
       "      <th>InternetService</th>\n",
       "      <th>OnlineSecurity</th>\n",
       "      <th>OnlineBackup</th>\n",
       "      <th>DeviceProtection</th>\n",
       "      <th>TechSupport</th>\n",
       "      <th>StreamingTV</th>\n",
       "      <th>StreamingMovies</th>\n",
       "    </tr>\n",
       "  </thead>\n",
       "  <tbody>\n",
       "    <tr>\n",
       "      <th>0</th>\n",
       "      <td>7590-VHVEG</td>\n",
       "      <td>DSL</td>\n",
       "      <td>No</td>\n",
       "      <td>Yes</td>\n",
       "      <td>No</td>\n",
       "      <td>No</td>\n",
       "      <td>No</td>\n",
       "      <td>No</td>\n",
       "    </tr>\n",
       "    <tr>\n",
       "      <th>1</th>\n",
       "      <td>5575-GNVDE</td>\n",
       "      <td>DSL</td>\n",
       "      <td>Yes</td>\n",
       "      <td>No</td>\n",
       "      <td>Yes</td>\n",
       "      <td>No</td>\n",
       "      <td>No</td>\n",
       "      <td>No</td>\n",
       "    </tr>\n",
       "    <tr>\n",
       "      <th>2</th>\n",
       "      <td>3668-QPYBK</td>\n",
       "      <td>DSL</td>\n",
       "      <td>Yes</td>\n",
       "      <td>Yes</td>\n",
       "      <td>No</td>\n",
       "      <td>No</td>\n",
       "      <td>No</td>\n",
       "      <td>No</td>\n",
       "    </tr>\n",
       "    <tr>\n",
       "      <th>3</th>\n",
       "      <td>7795-CFOCW</td>\n",
       "      <td>DSL</td>\n",
       "      <td>Yes</td>\n",
       "      <td>No</td>\n",
       "      <td>Yes</td>\n",
       "      <td>Yes</td>\n",
       "      <td>No</td>\n",
       "      <td>No</td>\n",
       "    </tr>\n",
       "    <tr>\n",
       "      <th>4</th>\n",
       "      <td>9237-HQITU</td>\n",
       "      <td>Fiber optic</td>\n",
       "      <td>No</td>\n",
       "      <td>No</td>\n",
       "      <td>No</td>\n",
       "      <td>No</td>\n",
       "      <td>No</td>\n",
       "      <td>No</td>\n",
       "    </tr>\n",
       "  </tbody>\n",
       "</table>\n",
       "</div>"
      ],
      "text/plain": [
       "   customerID InternetService OnlineSecurity OnlineBackup DeviceProtection  \\\n",
       "0  7590-VHVEG             DSL             No          Yes               No   \n",
       "1  5575-GNVDE             DSL            Yes           No              Yes   \n",
       "2  3668-QPYBK             DSL            Yes          Yes               No   \n",
       "3  7795-CFOCW             DSL            Yes           No              Yes   \n",
       "4  9237-HQITU     Fiber optic             No           No               No   \n",
       "\n",
       "  TechSupport StreamingTV StreamingMovies  \n",
       "0          No          No              No  \n",
       "1          No          No              No  \n",
       "2          No          No              No  \n",
       "3         Yes          No              No  \n",
       "4          No          No              No  "
      ]
     },
     "execution_count": 8,
     "metadata": {},
     "output_type": "execute_result"
    }
   ],
   "source": [
    "df_internet_new.head()"
   ]
  },
  {
   "cell_type": "code",
   "execution_count": 9,
   "id": "ed604ad9",
   "metadata": {},
   "outputs": [
    {
     "name": "stdout",
     "output_type": "stream",
     "text": [
      "<class 'pandas.core.frame.DataFrame'>\n",
      "RangeIndex: 5517 entries, 0 to 5516\n",
      "Data columns (total 8 columns):\n",
      " #   Column            Non-Null Count  Dtype \n",
      "---  ------            --------------  ----- \n",
      " 0   customerID        5517 non-null   object\n",
      " 1   InternetService   5517 non-null   object\n",
      " 2   OnlineSecurity    5517 non-null   object\n",
      " 3   OnlineBackup      5517 non-null   object\n",
      " 4   DeviceProtection  5517 non-null   object\n",
      " 5   TechSupport       5517 non-null   object\n",
      " 6   StreamingTV       5517 non-null   object\n",
      " 7   StreamingMovies   5517 non-null   object\n",
      "dtypes: object(8)\n",
      "memory usage: 344.9+ KB\n"
     ]
    }
   ],
   "source": [
    "df_internet_new.info()"
   ]
  },
  {
   "cell_type": "code",
   "execution_count": 10,
   "id": "d2676d1a",
   "metadata": {},
   "outputs": [
    {
     "data": {
      "text/html": [
       "<div>\n",
       "<style scoped>\n",
       "    .dataframe tbody tr th:only-of-type {\n",
       "        vertical-align: middle;\n",
       "    }\n",
       "\n",
       "    .dataframe tbody tr th {\n",
       "        vertical-align: top;\n",
       "    }\n",
       "\n",
       "    .dataframe thead th {\n",
       "        text-align: right;\n",
       "    }\n",
       "</style>\n",
       "<table border=\"1\" class=\"dataframe\">\n",
       "  <thead>\n",
       "    <tr style=\"text-align: right;\">\n",
       "      <th></th>\n",
       "      <th>customerID</th>\n",
       "      <th>MultipleLines</th>\n",
       "    </tr>\n",
       "  </thead>\n",
       "  <tbody>\n",
       "    <tr>\n",
       "      <th>0</th>\n",
       "      <td>5575-GNVDE</td>\n",
       "      <td>No</td>\n",
       "    </tr>\n",
       "    <tr>\n",
       "      <th>1</th>\n",
       "      <td>3668-QPYBK</td>\n",
       "      <td>No</td>\n",
       "    </tr>\n",
       "    <tr>\n",
       "      <th>2</th>\n",
       "      <td>9237-HQITU</td>\n",
       "      <td>No</td>\n",
       "    </tr>\n",
       "    <tr>\n",
       "      <th>3</th>\n",
       "      <td>9305-CDSKC</td>\n",
       "      <td>Yes</td>\n",
       "    </tr>\n",
       "    <tr>\n",
       "      <th>4</th>\n",
       "      <td>1452-KIOVK</td>\n",
       "      <td>Yes</td>\n",
       "    </tr>\n",
       "  </tbody>\n",
       "</table>\n",
       "</div>"
      ],
      "text/plain": [
       "   customerID MultipleLines\n",
       "0  5575-GNVDE            No\n",
       "1  3668-QPYBK            No\n",
       "2  9237-HQITU            No\n",
       "3  9305-CDSKC           Yes\n",
       "4  1452-KIOVK           Yes"
      ]
     },
     "execution_count": 10,
     "metadata": {},
     "output_type": "execute_result"
    }
   ],
   "source": [
    "df_phone_new.head()"
   ]
  },
  {
   "cell_type": "code",
   "execution_count": 11,
   "id": "50d5e3f8",
   "metadata": {},
   "outputs": [
    {
     "name": "stdout",
     "output_type": "stream",
     "text": [
      "<class 'pandas.core.frame.DataFrame'>\n",
      "RangeIndex: 6361 entries, 0 to 6360\n",
      "Data columns (total 2 columns):\n",
      " #   Column         Non-Null Count  Dtype \n",
      "---  ------         --------------  ----- \n",
      " 0   customerID     6361 non-null   object\n",
      " 1   MultipleLines  6361 non-null   object\n",
      "dtypes: object(2)\n",
      "memory usage: 99.5+ KB\n"
     ]
    }
   ],
   "source": [
    "df_phone_new.info()"
   ]
  },
  {
   "cell_type": "markdown",
   "id": "24084ccb",
   "metadata": {},
   "source": [
    "**Промежуточный вывод:**<br>Данные были загружены. Теперь приступим к исследовательскому анализу и предобработке данных."
   ]
  },
  {
   "cell_type": "markdown",
   "id": "7111144b",
   "metadata": {},
   "source": [
    "## Исследовательский анализ и предобработка данных."
   ]
  },
  {
   "cell_type": "markdown",
   "id": "2e22010f",
   "metadata": {},
   "source": [
    "Выполним проверку на пропуски и дубликаты."
   ]
  },
  {
   "cell_type": "code",
   "execution_count": 12,
   "id": "66ff74a0",
   "metadata": {},
   "outputs": [
    {
     "data": {
      "text/plain": [
       "customerID          0\n",
       "BeginDate           0\n",
       "EndDate             0\n",
       "Type                0\n",
       "PaperlessBilling    0\n",
       "PaymentMethod       0\n",
       "MonthlyCharges      0\n",
       "TotalCharges        0\n",
       "dtype: int64"
      ]
     },
     "execution_count": 12,
     "metadata": {},
     "output_type": "execute_result"
    }
   ],
   "source": [
    "df_contract_new.isna().sum()"
   ]
  },
  {
   "cell_type": "code",
   "execution_count": 13,
   "id": "20c8399c",
   "metadata": {},
   "outputs": [
    {
     "data": {
      "text/plain": [
       "customerID       0\n",
       "gender           0\n",
       "SeniorCitizen    0\n",
       "Partner          0\n",
       "Dependents       0\n",
       "dtype: int64"
      ]
     },
     "execution_count": 13,
     "metadata": {},
     "output_type": "execute_result"
    }
   ],
   "source": [
    "df_personal_new.isna().sum()"
   ]
  },
  {
   "cell_type": "code",
   "execution_count": 14,
   "id": "fda3f9a3",
   "metadata": {},
   "outputs": [
    {
     "data": {
      "text/plain": [
       "customerID          0\n",
       "InternetService     0\n",
       "OnlineSecurity      0\n",
       "OnlineBackup        0\n",
       "DeviceProtection    0\n",
       "TechSupport         0\n",
       "StreamingTV         0\n",
       "StreamingMovies     0\n",
       "dtype: int64"
      ]
     },
     "execution_count": 14,
     "metadata": {},
     "output_type": "execute_result"
    }
   ],
   "source": [
    "df_internet_new.isna().sum()"
   ]
  },
  {
   "cell_type": "code",
   "execution_count": 15,
   "id": "3c1219b5",
   "metadata": {},
   "outputs": [
    {
     "data": {
      "text/plain": [
       "customerID       0\n",
       "MultipleLines    0\n",
       "dtype: int64"
      ]
     },
     "execution_count": 15,
     "metadata": {},
     "output_type": "execute_result"
    }
   ],
   "source": [
    "df_phone_new.isna().sum()"
   ]
  },
  {
   "cell_type": "code",
   "execution_count": 16,
   "id": "e066ff07",
   "metadata": {},
   "outputs": [
    {
     "data": {
      "text/plain": [
       "0"
      ]
     },
     "execution_count": 16,
     "metadata": {},
     "output_type": "execute_result"
    }
   ],
   "source": [
    "df_contract_new.duplicated().sum()"
   ]
  },
  {
   "cell_type": "code",
   "execution_count": 17,
   "id": "3ec0f7a7",
   "metadata": {},
   "outputs": [
    {
     "data": {
      "text/plain": [
       "0"
      ]
     },
     "execution_count": 17,
     "metadata": {},
     "output_type": "execute_result"
    }
   ],
   "source": [
    "df_personal_new.duplicated().sum()"
   ]
  },
  {
   "cell_type": "code",
   "execution_count": 18,
   "id": "7a87619e",
   "metadata": {},
   "outputs": [
    {
     "data": {
      "text/plain": [
       "0"
      ]
     },
     "execution_count": 18,
     "metadata": {},
     "output_type": "execute_result"
    }
   ],
   "source": [
    "df_internet_new.duplicated().sum()"
   ]
  },
  {
   "cell_type": "code",
   "execution_count": 19,
   "id": "ed4fbca0",
   "metadata": {},
   "outputs": [
    {
     "data": {
      "text/plain": [
       "0"
      ]
     },
     "execution_count": 19,
     "metadata": {},
     "output_type": "execute_result"
    }
   ],
   "source": [
    "df_phone_new.duplicated().sum()"
   ]
  },
  {
   "cell_type": "markdown",
   "id": "53483122",
   "metadata": {},
   "source": [
    "Заменим типы данных столбцов, где это необходимо."
   ]
  },
  {
   "cell_type": "markdown",
   "id": "746f1faa",
   "metadata": {},
   "source": [
    "Также в некоторых столбцах со значениями Yes/No необходимо заменить значения на 1/0 для удобства. Таких столбцов будет много, поэтому напишем для этого функцию."
   ]
  },
  {
   "cell_type": "code",
   "execution_count": 20,
   "id": "72d06132",
   "metadata": {},
   "outputs": [],
   "source": [
    "def change(df, column):\n",
    "    df[column] = df[column].replace('Yes', 1)\n",
    "    df[column] = df[column].replace('No', 0)"
   ]
  },
  {
   "cell_type": "code",
   "execution_count": 21,
   "id": "5604a66a",
   "metadata": {},
   "outputs": [],
   "source": [
    "df_contract_new['BeginDate'] = pd.to_datetime(df_contract_new['BeginDate'], format='%Y-%m-%d')"
   ]
  },
  {
   "cell_type": "code",
   "execution_count": 22,
   "id": "113e3830",
   "metadata": {},
   "outputs": [],
   "source": [
    "df_contract_new['EndDate'] = df_contract_new['EndDate'].replace('No', '2020-01-02') \n",
    "\n",
    "df_contract_new['EndDate'] = pd.to_datetime(df_contract_new['EndDate'], format='%Y-%m-%d')\n",
    "df_contract_new['TotalCharges'] = pd.to_numeric(df_contract_new['TotalCharges'], errors='coerce')"
   ]
  },
  {
   "cell_type": "code",
   "execution_count": 23,
   "id": "daf80853",
   "metadata": {},
   "outputs": [],
   "source": [
    "change(df_contract_new, 'PaperlessBilling')"
   ]
  },
  {
   "cell_type": "code",
   "execution_count": 24,
   "id": "ac814546",
   "metadata": {},
   "outputs": [
    {
     "name": "stdout",
     "output_type": "stream",
     "text": [
      "<class 'pandas.core.frame.DataFrame'>\n",
      "RangeIndex: 7043 entries, 0 to 7042\n",
      "Data columns (total 8 columns):\n",
      " #   Column            Non-Null Count  Dtype         \n",
      "---  ------            --------------  -----         \n",
      " 0   customerID        7043 non-null   object        \n",
      " 1   BeginDate         7043 non-null   datetime64[ns]\n",
      " 2   EndDate           7043 non-null   datetime64[ns]\n",
      " 3   Type              7043 non-null   object        \n",
      " 4   PaperlessBilling  7043 non-null   int64         \n",
      " 5   PaymentMethod     7043 non-null   object        \n",
      " 6   MonthlyCharges    7043 non-null   float64       \n",
      " 7   TotalCharges      7032 non-null   float64       \n",
      "dtypes: datetime64[ns](2), float64(2), int64(1), object(3)\n",
      "memory usage: 440.3+ KB\n"
     ]
    }
   ],
   "source": [
    "df_contract_new.info()"
   ]
  },
  {
   "cell_type": "code",
   "execution_count": 25,
   "id": "8d043cbf",
   "metadata": {},
   "outputs": [
    {
     "name": "stdout",
     "output_type": "stream",
     "text": [
      "<class 'pandas.core.frame.DataFrame'>\n",
      "RangeIndex: 7043 entries, 0 to 7042\n",
      "Data columns (total 5 columns):\n",
      " #   Column         Non-Null Count  Dtype \n",
      "---  ------         --------------  ----- \n",
      " 0   customerID     7043 non-null   object\n",
      " 1   gender         7043 non-null   object\n",
      " 2   SeniorCitizen  7043 non-null   int64 \n",
      " 3   Partner        7043 non-null   int64 \n",
      " 4   Dependents     7043 non-null   int64 \n",
      "dtypes: int64(3), object(2)\n",
      "memory usage: 275.2+ KB\n"
     ]
    }
   ],
   "source": [
    "change(df_personal_new, 'Partner')\n",
    "change(df_personal_new, 'Dependents')\n",
    "df_personal_new.info()"
   ]
  },
  {
   "cell_type": "code",
   "execution_count": 26,
   "id": "508f68a7",
   "metadata": {},
   "outputs": [
    {
     "name": "stdout",
     "output_type": "stream",
     "text": [
      "<class 'pandas.core.frame.DataFrame'>\n",
      "RangeIndex: 5517 entries, 0 to 5516\n",
      "Data columns (total 8 columns):\n",
      " #   Column            Non-Null Count  Dtype \n",
      "---  ------            --------------  ----- \n",
      " 0   customerID        5517 non-null   object\n",
      " 1   InternetService   5517 non-null   object\n",
      " 2   OnlineSecurity    5517 non-null   int64 \n",
      " 3   OnlineBackup      5517 non-null   int64 \n",
      " 4   DeviceProtection  5517 non-null   int64 \n",
      " 5   TechSupport       5517 non-null   int64 \n",
      " 6   StreamingTV       5517 non-null   int64 \n",
      " 7   StreamingMovies   5517 non-null   int64 \n",
      "dtypes: int64(6), object(2)\n",
      "memory usage: 344.9+ KB\n"
     ]
    }
   ],
   "source": [
    "change(df_internet_new, 'OnlineSecurity')\n",
    "change(df_internet_new, 'OnlineBackup')\n",
    "change(df_internet_new, 'DeviceProtection')\n",
    "change(df_internet_new, 'TechSupport')\n",
    "change(df_internet_new, 'StreamingTV')\n",
    "change(df_internet_new, 'StreamingMovies')\n",
    "df_internet_new.info()"
   ]
  },
  {
   "cell_type": "code",
   "execution_count": 27,
   "id": "e2e5085c",
   "metadata": {},
   "outputs": [
    {
     "name": "stdout",
     "output_type": "stream",
     "text": [
      "<class 'pandas.core.frame.DataFrame'>\n",
      "RangeIndex: 6361 entries, 0 to 6360\n",
      "Data columns (total 2 columns):\n",
      " #   Column         Non-Null Count  Dtype \n",
      "---  ------         --------------  ----- \n",
      " 0   customerID     6361 non-null   object\n",
      " 1   MultipleLines  6361 non-null   int64 \n",
      "dtypes: int64(1), object(1)\n",
      "memory usage: 99.5+ KB\n"
     ]
    }
   ],
   "source": [
    "change(df_phone_new, 'MultipleLines')\n",
    "df_phone_new.info()"
   ]
  },
  {
   "cell_type": "markdown",
   "id": "1f549ccc",
   "metadata": {},
   "source": [
    "**Промежуточный вывод:**<br>Ни в одном датасете не было обнаружено пропусков и дубликатов. В необходимых местах типы данных и значения столбцов были заменены. Переходим к следующему пункту."
   ]
  },
  {
   "cell_type": "markdown",
   "id": "97ec1832",
   "metadata": {},
   "source": [
    "## Объединение данных."
   ]
  },
  {
   "cell_type": "code",
   "execution_count": 28,
   "id": "37aa9092",
   "metadata": {},
   "outputs": [],
   "source": [
    "df = df_contract_new.merge(df_personal_new, on='customerID')\n",
    "df = df.merge(df_internet_new, how='left', on='customerID')\n",
    "df = df.merge(df_phone_new, how='left', on='customerID')"
   ]
  },
  {
   "cell_type": "code",
   "execution_count": 29,
   "id": "f060392f",
   "metadata": {},
   "outputs": [
    {
     "data": {
      "text/html": [
       "<div>\n",
       "<style scoped>\n",
       "    .dataframe tbody tr th:only-of-type {\n",
       "        vertical-align: middle;\n",
       "    }\n",
       "\n",
       "    .dataframe tbody tr th {\n",
       "        vertical-align: top;\n",
       "    }\n",
       "\n",
       "    .dataframe thead th {\n",
       "        text-align: right;\n",
       "    }\n",
       "</style>\n",
       "<table border=\"1\" class=\"dataframe\">\n",
       "  <thead>\n",
       "    <tr style=\"text-align: right;\">\n",
       "      <th></th>\n",
       "      <th>customerID</th>\n",
       "      <th>BeginDate</th>\n",
       "      <th>EndDate</th>\n",
       "      <th>Type</th>\n",
       "      <th>PaperlessBilling</th>\n",
       "      <th>PaymentMethod</th>\n",
       "      <th>MonthlyCharges</th>\n",
       "      <th>TotalCharges</th>\n",
       "      <th>gender</th>\n",
       "      <th>SeniorCitizen</th>\n",
       "      <th>Partner</th>\n",
       "      <th>Dependents</th>\n",
       "      <th>InternetService</th>\n",
       "      <th>OnlineSecurity</th>\n",
       "      <th>OnlineBackup</th>\n",
       "      <th>DeviceProtection</th>\n",
       "      <th>TechSupport</th>\n",
       "      <th>StreamingTV</th>\n",
       "      <th>StreamingMovies</th>\n",
       "      <th>MultipleLines</th>\n",
       "    </tr>\n",
       "  </thead>\n",
       "  <tbody>\n",
       "    <tr>\n",
       "      <th>0</th>\n",
       "      <td>7590-VHVEG</td>\n",
       "      <td>2020-01-01</td>\n",
       "      <td>2020-01-02</td>\n",
       "      <td>Month-to-month</td>\n",
       "      <td>1</td>\n",
       "      <td>Electronic check</td>\n",
       "      <td>29.85</td>\n",
       "      <td>31.04</td>\n",
       "      <td>Female</td>\n",
       "      <td>0</td>\n",
       "      <td>1</td>\n",
       "      <td>0</td>\n",
       "      <td>DSL</td>\n",
       "      <td>0.0</td>\n",
       "      <td>1.0</td>\n",
       "      <td>0.0</td>\n",
       "      <td>0.0</td>\n",
       "      <td>0.0</td>\n",
       "      <td>0.0</td>\n",
       "      <td>NaN</td>\n",
       "    </tr>\n",
       "    <tr>\n",
       "      <th>1</th>\n",
       "      <td>5575-GNVDE</td>\n",
       "      <td>2017-04-01</td>\n",
       "      <td>2020-01-02</td>\n",
       "      <td>One year</td>\n",
       "      <td>0</td>\n",
       "      <td>Mailed check</td>\n",
       "      <td>56.95</td>\n",
       "      <td>2071.84</td>\n",
       "      <td>Male</td>\n",
       "      <td>0</td>\n",
       "      <td>0</td>\n",
       "      <td>0</td>\n",
       "      <td>DSL</td>\n",
       "      <td>1.0</td>\n",
       "      <td>0.0</td>\n",
       "      <td>1.0</td>\n",
       "      <td>0.0</td>\n",
       "      <td>0.0</td>\n",
       "      <td>0.0</td>\n",
       "      <td>0.0</td>\n",
       "    </tr>\n",
       "    <tr>\n",
       "      <th>2</th>\n",
       "      <td>3668-QPYBK</td>\n",
       "      <td>2019-10-01</td>\n",
       "      <td>2020-01-02</td>\n",
       "      <td>Month-to-month</td>\n",
       "      <td>1</td>\n",
       "      <td>Mailed check</td>\n",
       "      <td>53.85</td>\n",
       "      <td>226.17</td>\n",
       "      <td>Male</td>\n",
       "      <td>0</td>\n",
       "      <td>0</td>\n",
       "      <td>0</td>\n",
       "      <td>DSL</td>\n",
       "      <td>1.0</td>\n",
       "      <td>1.0</td>\n",
       "      <td>0.0</td>\n",
       "      <td>0.0</td>\n",
       "      <td>0.0</td>\n",
       "      <td>0.0</td>\n",
       "      <td>0.0</td>\n",
       "    </tr>\n",
       "    <tr>\n",
       "      <th>3</th>\n",
       "      <td>7795-CFOCW</td>\n",
       "      <td>2016-05-01</td>\n",
       "      <td>2020-01-02</td>\n",
       "      <td>One year</td>\n",
       "      <td>0</td>\n",
       "      <td>Bank transfer (automatic)</td>\n",
       "      <td>42.30</td>\n",
       "      <td>1960.60</td>\n",
       "      <td>Male</td>\n",
       "      <td>0</td>\n",
       "      <td>0</td>\n",
       "      <td>0</td>\n",
       "      <td>DSL</td>\n",
       "      <td>1.0</td>\n",
       "      <td>0.0</td>\n",
       "      <td>1.0</td>\n",
       "      <td>1.0</td>\n",
       "      <td>0.0</td>\n",
       "      <td>0.0</td>\n",
       "      <td>NaN</td>\n",
       "    </tr>\n",
       "    <tr>\n",
       "      <th>4</th>\n",
       "      <td>9237-HQITU</td>\n",
       "      <td>2019-09-01</td>\n",
       "      <td>2020-01-02</td>\n",
       "      <td>Month-to-month</td>\n",
       "      <td>1</td>\n",
       "      <td>Electronic check</td>\n",
       "      <td>70.70</td>\n",
       "      <td>353.50</td>\n",
       "      <td>Female</td>\n",
       "      <td>0</td>\n",
       "      <td>0</td>\n",
       "      <td>0</td>\n",
       "      <td>Fiber optic</td>\n",
       "      <td>0.0</td>\n",
       "      <td>0.0</td>\n",
       "      <td>0.0</td>\n",
       "      <td>0.0</td>\n",
       "      <td>0.0</td>\n",
       "      <td>0.0</td>\n",
       "      <td>0.0</td>\n",
       "    </tr>\n",
       "  </tbody>\n",
       "</table>\n",
       "</div>"
      ],
      "text/plain": [
       "   customerID  BeginDate    EndDate            Type  PaperlessBilling  \\\n",
       "0  7590-VHVEG 2020-01-01 2020-01-02  Month-to-month                 1   \n",
       "1  5575-GNVDE 2017-04-01 2020-01-02        One year                 0   \n",
       "2  3668-QPYBK 2019-10-01 2020-01-02  Month-to-month                 1   \n",
       "3  7795-CFOCW 2016-05-01 2020-01-02        One year                 0   \n",
       "4  9237-HQITU 2019-09-01 2020-01-02  Month-to-month                 1   \n",
       "\n",
       "               PaymentMethod  MonthlyCharges  TotalCharges  gender  \\\n",
       "0           Electronic check           29.85         31.04  Female   \n",
       "1               Mailed check           56.95       2071.84    Male   \n",
       "2               Mailed check           53.85        226.17    Male   \n",
       "3  Bank transfer (automatic)           42.30       1960.60    Male   \n",
       "4           Electronic check           70.70        353.50  Female   \n",
       "\n",
       "   SeniorCitizen  Partner  Dependents InternetService  OnlineSecurity  \\\n",
       "0              0        1           0             DSL             0.0   \n",
       "1              0        0           0             DSL             1.0   \n",
       "2              0        0           0             DSL             1.0   \n",
       "3              0        0           0             DSL             1.0   \n",
       "4              0        0           0     Fiber optic             0.0   \n",
       "\n",
       "   OnlineBackup  DeviceProtection  TechSupport  StreamingTV  StreamingMovies  \\\n",
       "0           1.0               0.0          0.0          0.0              0.0   \n",
       "1           0.0               1.0          0.0          0.0              0.0   \n",
       "2           1.0               0.0          0.0          0.0              0.0   \n",
       "3           0.0               1.0          1.0          0.0              0.0   \n",
       "4           0.0               0.0          0.0          0.0              0.0   \n",
       "\n",
       "   MultipleLines  \n",
       "0            NaN  \n",
       "1            0.0  \n",
       "2            0.0  \n",
       "3            NaN  \n",
       "4            0.0  "
      ]
     },
     "execution_count": 29,
     "metadata": {},
     "output_type": "execute_result"
    }
   ],
   "source": [
    "df.head()"
   ]
  },
  {
   "cell_type": "code",
   "execution_count": 30,
   "id": "4c62ebb2",
   "metadata": {},
   "outputs": [
    {
     "name": "stdout",
     "output_type": "stream",
     "text": [
      "<class 'pandas.core.frame.DataFrame'>\n",
      "Int64Index: 7043 entries, 0 to 7042\n",
      "Data columns (total 20 columns):\n",
      " #   Column            Non-Null Count  Dtype         \n",
      "---  ------            --------------  -----         \n",
      " 0   customerID        7043 non-null   object        \n",
      " 1   BeginDate         7043 non-null   datetime64[ns]\n",
      " 2   EndDate           7043 non-null   datetime64[ns]\n",
      " 3   Type              7043 non-null   object        \n",
      " 4   PaperlessBilling  7043 non-null   int64         \n",
      " 5   PaymentMethod     7043 non-null   object        \n",
      " 6   MonthlyCharges    7043 non-null   float64       \n",
      " 7   TotalCharges      7032 non-null   float64       \n",
      " 8   gender            7043 non-null   object        \n",
      " 9   SeniorCitizen     7043 non-null   int64         \n",
      " 10  Partner           7043 non-null   int64         \n",
      " 11  Dependents        7043 non-null   int64         \n",
      " 12  InternetService   5517 non-null   object        \n",
      " 13  OnlineSecurity    5517 non-null   float64       \n",
      " 14  OnlineBackup      5517 non-null   float64       \n",
      " 15  DeviceProtection  5517 non-null   float64       \n",
      " 16  TechSupport       5517 non-null   float64       \n",
      " 17  StreamingTV       5517 non-null   float64       \n",
      " 18  StreamingMovies   5517 non-null   float64       \n",
      " 19  MultipleLines     6361 non-null   float64       \n",
      "dtypes: datetime64[ns](2), float64(9), int64(4), object(5)\n",
      "memory usage: 1.1+ MB\n"
     ]
    }
   ],
   "source": [
    "df.info()"
   ]
  },
  {
   "cell_type": "code",
   "execution_count": 31,
   "id": "1b90d11d",
   "metadata": {},
   "outputs": [
    {
     "name": "stdout",
     "output_type": "stream",
     "text": [
      "<class 'pandas.core.frame.DataFrame'>\n",
      "Int64Index: 7043 entries, 0 to 7042\n",
      "Data columns (total 19 columns):\n",
      " #   Column            Non-Null Count  Dtype         \n",
      "---  ------            --------------  -----         \n",
      " 0   BeginDate         7043 non-null   datetime64[ns]\n",
      " 1   EndDate           7043 non-null   datetime64[ns]\n",
      " 2   Type              7043 non-null   object        \n",
      " 3   PaperlessBilling  7043 non-null   int64         \n",
      " 4   PaymentMethod     7043 non-null   object        \n",
      " 5   MonthlyCharges    7043 non-null   float64       \n",
      " 6   TotalCharges      7032 non-null   float64       \n",
      " 7   gender            7043 non-null   object        \n",
      " 8   SeniorCitizen     7043 non-null   int64         \n",
      " 9   Partner           7043 non-null   int64         \n",
      " 10  Dependents        7043 non-null   int64         \n",
      " 11  InternetService   5517 non-null   object        \n",
      " 12  OnlineSecurity    5517 non-null   float64       \n",
      " 13  OnlineBackup      5517 non-null   float64       \n",
      " 14  DeviceProtection  5517 non-null   float64       \n",
      " 15  TechSupport       5517 non-null   float64       \n",
      " 16  StreamingTV       5517 non-null   float64       \n",
      " 17  StreamingMovies   5517 non-null   float64       \n",
      " 18  MultipleLines     6361 non-null   float64       \n",
      "dtypes: datetime64[ns](2), float64(9), int64(4), object(4)\n",
      "memory usage: 1.1+ MB\n"
     ]
    }
   ],
   "source": [
    "df = df.drop('customerID', axis = 1)\n",
    "df.info()"
   ]
  },
  {
   "cell_type": "markdown",
   "id": "890cc95f",
   "metadata": {},
   "source": [
    "**Промежуточный вывод:**<br>Объединение прошло успешно. Мы сразу избавились от столбца \"customerID\", так как дальше он нам не понадобится."
   ]
  },
  {
   "cell_type": "markdown",
   "id": "728d65ee",
   "metadata": {},
   "source": [
    "## Исследовательский анализ и предобработка данных объединённого датафрейма."
   ]
  },
  {
   "cell_type": "markdown",
   "id": "80fdb126",
   "metadata": {},
   "source": [
    "Прежде чем присупить к анализу полученного датасета, создадим новые признаки:<br>- Длительность контракта (в днях) \"ContractLength\";<br>- Отток клиентов (\"ContractOff\")."
   ]
  },
  {
   "cell_type": "code",
   "execution_count": 32,
   "id": "17884709",
   "metadata": {},
   "outputs": [],
   "source": [
    "df['ContractLength'] = (df['EndDate'] - df['BeginDate']).dt.days"
   ]
  },
  {
   "cell_type": "code",
   "execution_count": 33,
   "id": "8b662a68",
   "metadata": {},
   "outputs": [],
   "source": [
    "def con_off(end_date):\n",
    "    if end_date == pd.Timestamp('2020-01-02'):\n",
    "        return 0\n",
    "    else:\n",
    "        return 1\n",
    "\n",
    "df['ContractOff'] = df['EndDate'].apply(con_off)"
   ]
  },
  {
   "cell_type": "markdown",
   "id": "e5465b6d",
   "metadata": {},
   "source": [
    "Теперь можем смело удалить 'EndDate' и 'BeginDate'."
   ]
  },
  {
   "cell_type": "code",
   "execution_count": 34,
   "id": "54248fa7",
   "metadata": {},
   "outputs": [],
   "source": [
    "df = df.drop(['BeginDate', 'EndDate'], axis=1)"
   ]
  },
  {
   "cell_type": "markdown",
   "id": "540ee4df",
   "metadata": {},
   "source": [
    "Для начала разберемся с пропущенными значениями и дубликатами."
   ]
  },
  {
   "cell_type": "code",
   "execution_count": 35,
   "id": "3de530b4",
   "metadata": {},
   "outputs": [
    {
     "data": {
      "text/plain": [
       "Type                   0\n",
       "PaperlessBilling       0\n",
       "PaymentMethod          0\n",
       "MonthlyCharges         0\n",
       "TotalCharges          11\n",
       "gender                 0\n",
       "SeniorCitizen          0\n",
       "Partner                0\n",
       "Dependents             0\n",
       "InternetService     1526\n",
       "OnlineSecurity      1526\n",
       "OnlineBackup        1526\n",
       "DeviceProtection    1526\n",
       "TechSupport         1526\n",
       "StreamingTV         1526\n",
       "StreamingMovies     1526\n",
       "MultipleLines        682\n",
       "ContractLength         0\n",
       "ContractOff            0\n",
       "dtype: int64"
      ]
     },
     "execution_count": 35,
     "metadata": {},
     "output_type": "execute_result"
    }
   ],
   "source": [
    "df.isna().sum()"
   ]
  },
  {
   "cell_type": "markdown",
   "id": "5e57c6e6",
   "metadata": {},
   "source": [
    "Смею предпололжить, что пропуски означают отрицательный ответ."
   ]
  },
  {
   "cell_type": "code",
   "execution_count": 36,
   "id": "1519a6c2",
   "metadata": {},
   "outputs": [],
   "source": [
    "df['InternetService'] = df['InternetService'].fillna('No')\n",
    "df = df.fillna(0)"
   ]
  },
  {
   "cell_type": "code",
   "execution_count": 37,
   "id": "9c8ae7c1",
   "metadata": {},
   "outputs": [
    {
     "data": {
      "text/plain": [
       "Type                0\n",
       "PaperlessBilling    0\n",
       "PaymentMethod       0\n",
       "MonthlyCharges      0\n",
       "TotalCharges        0\n",
       "gender              0\n",
       "SeniorCitizen       0\n",
       "Partner             0\n",
       "Dependents          0\n",
       "InternetService     0\n",
       "OnlineSecurity      0\n",
       "OnlineBackup        0\n",
       "DeviceProtection    0\n",
       "TechSupport         0\n",
       "StreamingTV         0\n",
       "StreamingMovies     0\n",
       "MultipleLines       0\n",
       "ContractLength      0\n",
       "ContractOff         0\n",
       "dtype: int64"
      ]
     },
     "execution_count": 37,
     "metadata": {},
     "output_type": "execute_result"
    }
   ],
   "source": [
    "df.isna().sum()"
   ]
  },
  {
   "cell_type": "code",
   "execution_count": 38,
   "id": "7f4b2609",
   "metadata": {},
   "outputs": [
    {
     "data": {
      "text/plain": [
       "4"
      ]
     },
     "execution_count": 38,
     "metadata": {},
     "output_type": "execute_result"
    }
   ],
   "source": [
    "df.duplicated().sum()"
   ]
  },
  {
   "cell_type": "code",
   "execution_count": 39,
   "id": "84914fa1",
   "metadata": {},
   "outputs": [
    {
     "data": {
      "text/plain": [
       "0"
      ]
     },
     "execution_count": 39,
     "metadata": {},
     "output_type": "execute_result"
    }
   ],
   "source": [
    "df.drop_duplicates(inplace=True)\n",
    "df.reset_index(drop=True, inplace=True)\n",
    "df.duplicated().sum()"
   ]
  },
  {
   "cell_type": "markdown",
   "id": "155eb6ee",
   "metadata": {},
   "source": [
    "Напишем функции для построения графиков.<br>Для количественнных признаков будет использовать гистограммы, для категориальных/бинарных - столбчатые диаграммы.<br>Также вместе с гистограммами будем строить ящики с усами, чтобы оценить выбросы."
   ]
  },
  {
   "cell_type": "code",
   "execution_count": 40,
   "id": "09176c1b",
   "metadata": {},
   "outputs": [],
   "source": [
    "def boxplot_hist(df, column):\n",
    "    fig, axes = plt.subplots(nrows=1, ncols=2, figsize=(12, 6))\n",
    "\n",
    "    sns.boxplot(data=df, x=column, ax=axes[0])\n",
    "    axes[0].set_title(f'Ящик с усами \"{column}\"')\n",
    "    axes[0].set_ylabel('Количество')\n",
    "\n",
    "    sns.histplot(data=df, x=column, kde=True, ax=axes[1])\n",
    "    axes[1].set_title(f'Гистограмма \"{column}\"')\n",
    "    axes[1].set_ylabel('Частота')\n",
    "\n",
    "    plt.tight_layout()\n",
    "    plt.show()"
   ]
  },
  {
   "cell_type": "code",
   "execution_count": 41,
   "id": "8ca5e4ea",
   "metadata": {},
   "outputs": [
    {
     "data": {
      "image/png": "[encoded data removed]",
      "text/plain": [
       "<Figure size 864x432 with 2 Axes>"
      ]
     },
     "metadata": {
      "needs_background": "light"
     },
     "output_type": "display_data"
    }
   ],
   "source": [
    "boxplot_hist(df, 'MonthlyCharges')"
   ]
  },
  {
   "cell_type": "code",
   "execution_count": 42,
   "id": "a7b813cf",
   "metadata": {},
   "outputs": [
    {
     "data": {
      "image/png": "[encoded data removed]",
      "text/plain": [
       "<Figure size 864x432 with 2 Axes>"
      ]
     },
     "metadata": {
      "needs_background": "light"
     },
     "output_type": "display_data"
    }
   ],
   "source": [
    "boxplot_hist(df, 'TotalCharges')"
   ]
  },
  {
   "cell_type": "code",
   "execution_count": 43,
   "id": "2a0d8050",
   "metadata": {},
   "outputs": [
    {
     "data": {
      "image/png": "[encoded data removed]",
      "text/plain": [
       "<Figure size 864x432 with 2 Axes>"
      ]
     },
     "metadata": {
      "needs_background": "light"
     },
     "output_type": "display_data"
    }
   ],
   "source": [
    "boxplot_hist(df, 'ContractLength')"
   ]
  },
  {
   "cell_type": "code",
   "execution_count": 44,
   "id": "656aa9d6",
   "metadata": {},
   "outputs": [],
   "source": [
    "def barplot_(df, column):\n",
    "    value_counts = df[column].value_counts()\n",
    "    percentages = df[column].value_counts(normalize=True) * 100\n",
    "\n",
    "    result = pd.DataFrame({column: value_counts.index, 'Count': value_counts.values, 'Percentage': percentages.values})\n",
    "\n",
    "    plt.figure(figsize=(10, 6))\n",
    "    bar_plot = sns.barplot(data=result, x=column, y='Count')\n",
    "\n",
    "    for index, row in result.iterrows():\n",
    "        bar_plot.text(row.name, row.Count, f'{row.Percentage:.1f}%', color='black', ha=\"center\")\n",
    "\n",
    "    plt.title(f'Количество значений в столбце \"{column}\" с процентами')\n",
    "    plt.xlabel(f'Столбец \"{column}\"')\n",
    "    plt.ylabel('Количество')\n",
    "    plt.show()"
   ]
  },
  {
   "cell_type": "code",
   "execution_count": 45,
   "id": "b889f86d",
   "metadata": {},
   "outputs": [
    {
     "data": {
      "image/png": "[encoded data removed]",
      "text/plain": [
       "<Figure size 720x432 with 1 Axes>"
      ]
     },
     "metadata": {
      "needs_background": "light"
     },
     "output_type": "display_data"
    }
   ],
   "source": [
    "barplot_(df, 'Type')"
   ]
  },
  {
   "cell_type": "code",
   "execution_count": 46,
   "id": "03ff53c8",
   "metadata": {},
   "outputs": [
    {
     "data": {
      "image/png": "[encoded data removed]",
      "text/plain": [
       "<Figure size 720x432 with 1 Axes>"
      ]
     },
     "metadata": {
      "needs_background": "light"
     },
     "output_type": "display_data"
    }
   ],
   "source": [
    "barplot_(df, 'PaperlessBilling')"
   ]
  },
  {
   "cell_type": "code",
   "execution_count": 47,
   "id": "79146582",
   "metadata": {},
   "outputs": [
    {
     "data": {
      "image/png": "[encoded data removed]",
      "text/plain": [
       "<Figure size 720x432 with 1 Axes>"
      ]
     },
     "metadata": {
      "needs_background": "light"
     },
     "output_type": "display_data"
    }
   ],
   "source": [
    "barplot_(df, 'PaymentMethod')"
   ]
  },
  {
   "cell_type": "code",
   "execution_count": 48,
   "id": "c393307e",
   "metadata": {},
   "outputs": [
    {
     "data": {
      "image/png": "[encoded data removed]",
      "text/plain": [
       "<Figure size 720x432 with 1 Axes>"
      ]
     },
     "metadata": {
      "needs_background": "light"
     },
     "output_type": "display_data"
    }
   ],
   "source": [
    "barplot_(df, 'gender')"
   ]
  },
  {
   "cell_type": "code",
   "execution_count": 49,
   "id": "8fc163f0",
   "metadata": {},
   "outputs": [
    {
     "data": {
      "image/png": "[encoded data removed]",
      "text/plain": [
       "<Figure size 720x432 with 1 Axes>"
      ]
     },
     "metadata": {
      "needs_background": "light"
     },
     "output_type": "display_data"
    }
   ],
   "source": [
    "barplot_(df, 'SeniorCitizen')"
   ]
  },
  {
   "cell_type": "code",
   "execution_count": 50,
   "id": "1fdc32b0",
   "metadata": {},
   "outputs": [
    {
     "data": {
      "image/png": "[encoded data removed]",
      "text/plain": [
       "<Figure size 720x432 with 1 Axes>"
      ]
     },
     "metadata": {
      "needs_background": "light"
     },
     "output_type": "display_data"
    }
   ],
   "source": [
    "barplot_(df, 'Partner')"
   ]
  },
  {
   "cell_type": "code",
   "execution_count": 51,
   "id": "e16bb333",
   "metadata": {},
   "outputs": [
    {
     "data": {
      "image/png": "[encoded data removed]",
      "text/plain": [
       "<Figure size 720x432 with 1 Axes>"
      ]
     },
     "metadata": {
      "needs_background": "light"
     },
     "output_type": "display_data"
    }
   ],
   "source": [
    "barplot_(df, 'Dependents')"
   ]
  },
  {
   "cell_type": "code",
   "execution_count": 52,
   "id": "7dd9e151",
   "metadata": {},
   "outputs": [
    {
     "data": {
      "image/png": "[encoded data removed]",
      "text/plain": [
       "<Figure size 720x432 with 1 Axes>"
      ]
     },
     "metadata": {
      "needs_background": "light"
     },
     "output_type": "display_data"
    }
   ],
   "source": [
    "barplot_(df, 'InternetService')"
   ]
  },
  {
   "cell_type": "code",
   "execution_count": 53,
   "id": "96ff16ac",
   "metadata": {},
   "outputs": [
    {
     "data": {
      "image/png": "[encoded data removed]",
      "text/plain": [
       "<Figure size 720x432 with 1 Axes>"
      ]
     },
     "metadata": {
      "needs_background": "light"
     },
     "output_type": "display_data"
    }
   ],
   "source": [
    "barplot_(df, 'OnlineSecurity')"
   ]
  },
  {
   "cell_type": "code",
   "execution_count": 54,
   "id": "2dc82193",
   "metadata": {},
   "outputs": [
    {
     "data": {
      "image/png": "[encoded data removed]",
      "text/plain": [
       "<Figure size 720x432 with 1 Axes>"
      ]
     },
     "metadata": {
      "needs_background": "light"
     },
     "output_type": "display_data"
    }
   ],
   "source": [
    "barplot_(df, 'OnlineBackup')"
   ]
  },
  {
   "cell_type": "code",
   "execution_count": 55,
   "id": "511e4a36",
   "metadata": {},
   "outputs": [
    {
     "data": {
      "image/png": "[encoded data removed]",
      "text/plain": [
       "<Figure size 720x432 with 1 Axes>"
      ]
     },
     "metadata": {
      "needs_background": "light"
     },
     "output_type": "display_data"
    }
   ],
   "source": [
    "barplot_(df, 'DeviceProtection')"
   ]
  },
  {
   "cell_type": "code",
   "execution_count": 56,
   "id": "c7a65794",
   "metadata": {},
   "outputs": [
    {
     "data": {
      "image/png": "[encoded data removed]",
      "text/plain": [
       "<Figure size 720x432 with 1 Axes>"
      ]
     },
     "metadata": {
      "needs_background": "light"
     },
     "output_type": "display_data"
    }
   ],
   "source": [
    "barplot_(df, 'TechSupport')"
   ]
  },
  {
   "cell_type": "code",
   "execution_count": 57,
   "id": "0219163e",
   "metadata": {},
   "outputs": [
    {
     "data": {
      "image/png": "[encoded data removed]",
      "text/plain": [
       "<Figure size 720x432 with 1 Axes>"
      ]
     },
     "metadata": {
      "needs_background": "light"
     },
     "output_type": "display_data"
    }
   ],
   "source": [
    "barplot_(df,  'StreamingTV')"
   ]
  },
  {
   "cell_type": "code",
   "execution_count": 58,
   "id": "e489d941",
   "metadata": {},
   "outputs": [
    {
     "data": {
      "image/png": "[encoded data removed]",
      "text/plain": [
       "<Figure size 720x432 with 1 Axes>"
      ]
     },
     "metadata": {
      "needs_background": "light"
     },
     "output_type": "display_data"
    }
   ],
   "source": [
    "barplot_(df, 'StreamingMovies')"
   ]
  },
  {
   "cell_type": "code",
   "execution_count": 59,
   "id": "72bf2361",
   "metadata": {},
   "outputs": [
    {
     "data": {
      "image/png": "[encoded data removed]",
      "text/plain": [
       "<Figure size 720x432 with 1 Axes>"
      ]
     },
     "metadata": {
      "needs_background": "light"
     },
     "output_type": "display_data"
    }
   ],
   "source": [
    "barplot_(df, 'MultipleLines')"
   ]
  },
  {
   "cell_type": "code",
   "execution_count": 60,
   "id": "9a7eedf5",
   "metadata": {},
   "outputs": [
    {
     "data": {
      "image/png": "[encoded data removed]",
      "text/plain": [
       "<Figure size 720x432 with 1 Axes>"
      ]
     },
     "metadata": {
      "needs_background": "light"
     },
     "output_type": "display_data"
    }
   ],
   "source": [
    "barplot_(df, 'ContractOff')"
   ]
  },
  {
   "cell_type": "code",
   "execution_count": 61,
   "id": "c20d41cc",
   "metadata": {},
   "outputs": [
    {
     "name": "stdout",
     "output_type": "stream",
     "text": [
      "interval columns not set, guessing: ['PaperlessBilling', 'MonthlyCharges', 'TotalCharges', 'SeniorCitizen', 'Partner', 'Dependents', 'OnlineSecurity', 'OnlineBackup', 'DeviceProtection', 'TechSupport', 'StreamingTV', 'StreamingMovies', 'MultipleLines', 'ContractLength', 'ContractOff']\n"
     ]
    },
    {
     "data": {
      "image/png": "[encoded data removed]",
      "text/plain": [
       "<Figure size 720x720 with 2 Axes>"
      ]
     },
     "metadata": {
      "needs_background": "light"
     },
     "output_type": "display_data"
    }
   ],
   "source": [
    "phik_overview = df.phik_matrix()\n",
    "phik_overview.round(2)\n",
    "\n",
    "plot_correlation_matrix(\n",
    "    phik_overview.values,\n",
    "    x_labels=phik_overview.columns,\n",
    "    y_labels=phik_overview.index,\n",
    "    vmin=0,\n",
    "    vmax=1,\n",
    "    figsize=(10, 10)\n",
    ")\n",
    "\n",
    "plt.show()\n",
    "None"
   ]
  },
  {
   "cell_type": "markdown",
   "id": "fe4485ad",
   "metadata": {},
   "source": [
    "**Промежуточный вывод:**<br>С графиками все в порядке, выбросов пракически не наблюдается.<br>Смею предположить, что тип подключения влияет на то, расторг ли клиент договор. Вероятно, это связано со стоимостью приобретаемых у телекоммуникационной компании услуг.<br><br>Пару слов про корреляцию.<br><br>ContractOff и ContractLength (0.96):<br>Очень высокая положительная корреляция (0.96) указывает на сильную связь между тем, закончился ли контракт и длиной контракта. Это логично, так как более длинные контракты, вероятно, все еще действуют, в то время как более короткие контракты уже могли закончиться.<br><br>ContractOff и TotalCharges (0.30):<br>Положительная корреляция (0.30) указывает на то, что абоненты с более высокими общими расходами, как правило, имеют действующие контракты. Это может указывать на то, что абоненты, которые больше платят, могут быть более лояльными или иметь более долгосрочные контракты.<br><br>ContractOff и MonthlyCharges (0.23):<br>Положительная корреляция (0.23) указывает на то, что абоненты с более высокими ежемесячными расходами также имеют тенденцию к действующим контрактам. Это может быть связано с тем, что абоненты, которые подписываются на более дорогие планы, имеют более долгосрочные обязательства.<br><br>ContractOff и Type (0.09):<br>Небольшая положительная корреляция (0.09) указывает на слабую связь между типом оплаты и тем, закончился ли контракт. Это может означать, что тип оплаты (раз в год-два или ежемесячно) не оказывает значительного влияния на вероятность окончания контракта.<br><br>ContractOff и PaymentMethod (0.21):<br>Небольшая положительная корреляция (0.21) указывает на слабую связь между методом оплаты и статусом контракта. Это может означать, что метод оплаты может оказывать некоторое влияние на удержание абонентов."
   ]
  },
  {
   "cell_type": "markdown",
   "id": "cca1c4e7",
   "metadata": {},
   "source": [
    "## Подготовка данных."
   ]
  },
  {
   "cell_type": "code",
   "execution_count": 62,
   "id": "3b58d778",
   "metadata": {},
   "outputs": [],
   "source": [
    "X = df.drop('ContractOff', axis=1)\n",
    "y = df['ContractOff']\n",
    "\n",
    "X_train, X_test, y_train, y_test = train_test_split(\n",
    "    X, y, test_size=0.25, stratify=y, random_state=RANDOM_STATE\n",
    ")\n",
    "\n",
    "cat = ['Type', 'PaymentMethod', 'InternetService', 'gender', 'OnlineSecurity', \n",
    "    'OnlineBackup', 'DeviceProtection', 'TechSupport', 'StreamingTV', \n",
    "    'StreamingMovies', 'PaperlessBilling', 'SeniorCitizen', 'Partner', 'Dependents', 'MultipleLines']\n",
    "\n",
    "num = ['TotalCharges', 'ContractLength', 'MonthlyCharges']"
   ]
  },
  {
   "cell_type": "code",
   "execution_count": 63,
   "id": "e6111549",
   "metadata": {},
   "outputs": [],
   "source": [
    "num_transformer = Pipeline(steps=[\n",
    "    ('scaler', StandardScaler())\n",
    "])\n",
    "\n",
    "cat_transformer = Pipeline(steps=[\n",
    "    ('imputer', SimpleImputer(strategy='most_frequent')),\n",
    "    ('onehot', OneHotEncoder(handle_unknown='ignore'))\n",
    "])\n",
    "\n",
    "preprocessor = ColumnTransformer(\n",
    "    transformers=[\n",
    "        ('num', num_transformer, num),\n",
    "        ('cat', cat_transformer, cat)\n",
    "    ],\n",
    "    remainder='passthrough'\n",
    ")"
   ]
  },
  {
   "cell_type": "code",
   "execution_count": 64,
   "id": "89ebcb1f",
   "metadata": {},
   "outputs": [
    {
     "data": {
      "text/plain": [
       "Pipeline(steps=[('preprocessor',\n",
       "                 ColumnTransformer(remainder='passthrough',\n",
       "                                   transformers=[('num',\n",
       "                                                  Pipeline(steps=[('scaler',\n",
       "                                                                   StandardScaler())]),\n",
       "                                                  ['TotalCharges',\n",
       "                                                   'ContractLength',\n",
       "                                                   'MonthlyCharges']),\n",
       "                                                 ('cat',\n",
       "                                                  Pipeline(steps=[('imputer',\n",
       "                                                                   SimpleImputer(strategy='most_frequent')),\n",
       "                                                                  ('onehot',\n",
       "                                                                   OneHotEncoder(handle_unknown='ignore'))]),\n",
       "                                                  ['Type', 'PaymentMethod',\n",
       "                                                   'InternetService', 'gender',\n",
       "                                                   'OnlineSecurity',\n",
       "                                                   'OnlineBackup',\n",
       "                                                   'DeviceProtection',\n",
       "                                                   'TechSupport', 'StreamingTV',\n",
       "                                                   'StreamingMovies',\n",
       "                                                   'PaperlessBilling',\n",
       "                                                   'SeniorCitizen', 'Partner',\n",
       "                                                   'Dependents',\n",
       "                                                   'MultipleLines'])])),\n",
       "                ('models', RandomForestClassifier())])"
      ]
     },
     "execution_count": 64,
     "metadata": {},
     "output_type": "execute_result"
    }
   ],
   "source": [
    "pipe = Pipeline(steps=[\n",
    "    ('preprocessor', preprocessor),\n",
    "    ('models', RandomForestClassifier())\n",
    "])\n",
    "pipe.fit(X_train, y_train)"
   ]
  },
  {
   "cell_type": "markdown",
   "id": "0fe36631",
   "metadata": {},
   "source": [
    "**Промежуточный вывод:**<br>На данном шаге мы разделили данные на тестовые и тренировачные, а также прописали Pipeline для предобработки данных."
   ]
  },
  {
   "cell_type": "markdown",
   "id": "00efe0e5",
   "metadata": {},
   "source": [
    "## Обучение моделей машинного обучения."
   ]
  },
  {
   "cell_type": "code",
   "execution_count": 65,
   "id": "1ab5eb36",
   "metadata": {},
   "outputs": [],
   "source": [
    "param_grid = [\n",
    "    {\n",
    "        'models': [RandomForestClassifier(random_state=RANDOM_STATE)],\n",
    "        'preprocessor__num__scaler': [StandardScaler(), MinMaxScaler(), 'passthrough'],\n",
    "        'models__n_estimators': [50, 100, 200, 300],\n",
    "        'models__max_depth': range(5, 15),\n",
    "        'models__max_features': [2, 3, 'auto', None]\n",
    "    },\n",
    "    {\n",
    "        'models': [GradientBoostingClassifier(random_state=RANDOM_STATE)],\n",
    "        'preprocessor__num__scaler': [StandardScaler(), MinMaxScaler(), 'passthrough'],\n",
    "        'models__n_estimators': [50, 100, 200, 300],\n",
    "        'models__max_depth': range(3, 8),\n",
    "        'models__learning_rate': [0.01, 0.1, 0.2]\n",
    "    }\n",
    "]"
   ]
  },
  {
   "cell_type": "code",
   "execution_count": 66,
   "id": "5d8b5e26",
   "metadata": {},
   "outputs": [],
   "source": [
    "#roc_auc_scorer = make_scorer(roc_auc_score)\n",
    "#cv = StratifiedKFold(n_splits=5, shuffle=True, random_state=RANDOM_STATE)"
   ]
  },
  {
   "cell_type": "code",
   "execution_count": 67,
   "id": "08e734eb",
   "metadata": {},
   "outputs": [
    {
     "data": {
      "text/plain": [
       "RandomizedSearchCV(cv=StratifiedKFold(n_splits=5, random_state=80724, shuffle=True),\n",
       "                   estimator=Pipeline(steps=[('preprocessor',\n",
       "                                              ColumnTransformer(remainder='passthrough',\n",
       "                                                                transformers=[('num',\n",
       "                                                                               Pipeline(steps=[('scaler',\n",
       "                                                                                                StandardScaler())]),\n",
       "                                                                               ['TotalCharges',\n",
       "                                                                                'ContractLength',\n",
       "                                                                                'MonthlyCharges']),\n",
       "                                                                              ('cat',\n",
       "                                                                               Pipeline(steps=[('imputer',\n",
       "                                                                                                SimpleImputer(strategy='most_fr...\n",
       "                                                                       MinMaxScaler(),\n",
       "                                                                       'passthrough']},\n",
       "                                        {'models': [GradientBoostingClassifier(learning_rate=0.2,\n",
       "                                                                               n_estimators=300,\n",
       "                                                                               random_state=80724)],\n",
       "                                         'models__learning_rate': [0.01, 0.1,\n",
       "                                                                   0.2],\n",
       "                                         'models__max_depth': range(3, 8),\n",
       "                                         'models__n_estimators': [50, 100, 200,\n",
       "                                                                  300],\n",
       "                                         'preprocessor__num__scaler': [StandardScaler(),\n",
       "                                                                       MinMaxScaler(),\n",
       "                                                                       'passthrough']}],\n",
       "                   random_state=80724, scoring='roc_auc')"
      ]
     },
     "execution_count": 67,
     "metadata": {},
     "output_type": "execute_result"
    }
   ],
   "source": [
    "random_search = RandomizedSearchCV(\n",
    "    pipe, \n",
    "    param_grid, \n",
    "    cv=StratifiedKFold(n_splits=5, shuffle=True, random_state=RANDOM_STATE),\n",
    "    scoring='roc_auc',\n",
    "    n_jobs=-1,\n",
    "    random_state=RANDOM_STATE\n",
    ")\n",
    "\n",
    "random_search.fit(X_train, y_train)"
   ]
  },
  {
   "cell_type": "markdown",
   "id": "71298222",
   "metadata": {},
   "source": [
    "**Промежутолчный вывод:**<br>Лучшей оказалась модель GradientBoostingClassifier."
   ]
  },
  {
   "cell_type": "markdown",
   "id": "7433fc3c",
   "metadata": {},
   "source": [
    "## Выбор лучшей модели."
   ]
  },
  {
   "cell_type": "markdown",
   "id": "3d8da2e3",
   "metadata": {},
   "source": [
    "Проанализируем лучшую модель по времени обучения и предсказания(на тренировачных данных)."
   ]
  },
  {
   "cell_type": "code",
   "execution_count": 68,
   "id": "d5ef347c",
   "metadata": {},
   "outputs": [
    {
     "name": "stdout",
     "output_type": "stream",
     "text": [
      "Время обучения: 2.57014 секунд\n",
      "Время предсказания: 0.0542 секунд\n"
     ]
    }
   ],
   "source": [
    "model = random_search.best_estimator_\n",
    "\n",
    "start_time = time.time()\n",
    "model.fit(X_train, y_train)\n",
    "end_time = time.time()\n",
    "train_time = round((end_time - start_time), 5)\n",
    "print(\"Время обучения: %s секунд\" % train_time)\n",
    "\n",
    "start_time = time.time()\n",
    "model.predict_proba(X_train)[:, 1]\n",
    "end_time = time.time()\n",
    "predict_time = round((end_time - start_time), 5)\n",
    "print(\"Время предсказания: %s секунд\" % predict_time)"
   ]
  },
  {
   "cell_type": "markdown",
   "id": "5b335c01",
   "metadata": {},
   "source": [
    "По времени вопросов нет, перейдем к осмотру модели."
   ]
  },
  {
   "cell_type": "code",
   "execution_count": 69,
   "id": "b022e343",
   "metadata": {},
   "outputs": [
    {
     "name": "stdout",
     "output_type": "stream",
     "text": [
      "Лучшая модель и её параметры:\n",
      "\n",
      " Pipeline(steps=[('preprocessor',\n",
      "                 ColumnTransformer(remainder='passthrough',\n",
      "                                   transformers=[('num',\n",
      "                                                  Pipeline(steps=[('scaler',\n",
      "                                                                   MinMaxScaler())]),\n",
      "                                                  ['TotalCharges',\n",
      "                                                   'ContractLength',\n",
      "                                                   'MonthlyCharges']),\n",
      "                                                 ('cat',\n",
      "                                                  Pipeline(steps=[('imputer',\n",
      "                                                                   SimpleImputer(strategy='most_frequent')),\n",
      "                                                                  ('onehot',\n",
      "                                                                   OneHotEncoder(handle_unknown='ignore'))]),\n",
      "                                                  ['Type', 'PaymentMethod',\n",
      "                                                   'InternetService', 'gender',\n",
      "                                                   'OnlineSecurity',\n",
      "                                                   'OnlineBackup',\n",
      "                                                   'DeviceProtection',\n",
      "                                                   'TechSupport', 'StreamingTV',\n",
      "                                                   'StreamingMovies',\n",
      "                                                   'PaperlessBilling',\n",
      "                                                   'SeniorCitizen', 'Partner',\n",
      "                                                   'Dependents',\n",
      "                                                   'MultipleLines'])])),\n",
      "                ('models',\n",
      "                 GradientBoostingClassifier(learning_rate=0.2, n_estimators=300,\n",
      "                                            random_state=80724))])\n",
      "Лучший ROC AUC на обучении:  0.9201638239981085\n"
     ]
    }
   ],
   "source": [
    "print('Лучшая модель и её параметры:\\n\\n', model)\n",
    "print('Лучший ROC AUC на обучении: ', random_search.best_score_)"
   ]
  },
  {
   "cell_type": "code",
   "execution_count": 70,
   "id": "22514fdc",
   "metadata": {},
   "outputs": [
    {
     "name": "stdout",
     "output_type": "stream",
     "text": [
      "ROC AUC на тестовой выборке:  0.9513119069482707\n"
     ]
    }
   ],
   "source": [
    "y_pred_proba = model.predict_proba(X_test)[:, 1]\n",
    "roc_auc = roc_auc_score(y_test, y_pred_proba)\n",
    "print('ROC AUC на тестовой выборке: ', roc_auc)"
   ]
  },
  {
   "cell_type": "code",
   "execution_count": 71,
   "id": "8c785801",
   "metadata": {},
   "outputs": [
    {
     "data": {
      "text/html": [
       "<div>\n",
       "<style scoped>\n",
       "    .dataframe tbody tr th:only-of-type {\n",
       "        vertical-align: middle;\n",
       "    }\n",
       "\n",
       "    .dataframe tbody tr th {\n",
       "        vertical-align: top;\n",
       "    }\n",
       "\n",
       "    .dataframe thead th {\n",
       "        text-align: right;\n",
       "    }\n",
       "</style>\n",
       "<table border=\"1\" class=\"dataframe\">\n",
       "  <thead>\n",
       "    <tr style=\"text-align: right;\">\n",
       "      <th></th>\n",
       "      <th>feature</th>\n",
       "      <th>importance</th>\n",
       "    </tr>\n",
       "  </thead>\n",
       "  <tbody>\n",
       "    <tr>\n",
       "      <th>0</th>\n",
       "      <td>ContractLength</td>\n",
       "      <td>0.293484</td>\n",
       "    </tr>\n",
       "    <tr>\n",
       "      <th>1</th>\n",
       "      <td>TotalCharges</td>\n",
       "      <td>0.189676</td>\n",
       "    </tr>\n",
       "    <tr>\n",
       "      <th>2</th>\n",
       "      <td>MonthlyCharges</td>\n",
       "      <td>0.061811</td>\n",
       "    </tr>\n",
       "    <tr>\n",
       "      <th>3</th>\n",
       "      <td>Type</td>\n",
       "      <td>0.034457</td>\n",
       "    </tr>\n",
       "    <tr>\n",
       "      <th>4</th>\n",
       "      <td>StreamingMovies</td>\n",
       "      <td>0.014435</td>\n",
       "    </tr>\n",
       "    <tr>\n",
       "      <th>5</th>\n",
       "      <td>MultipleLines</td>\n",
       "      <td>0.011423</td>\n",
       "    </tr>\n",
       "    <tr>\n",
       "      <th>6</th>\n",
       "      <td>Partner</td>\n",
       "      <td>0.009358</td>\n",
       "    </tr>\n",
       "    <tr>\n",
       "      <th>7</th>\n",
       "      <td>InternetService</td>\n",
       "      <td>0.007501</td>\n",
       "    </tr>\n",
       "    <tr>\n",
       "      <th>8</th>\n",
       "      <td>PaymentMethod</td>\n",
       "      <td>0.007274</td>\n",
       "    </tr>\n",
       "    <tr>\n",
       "      <th>9</th>\n",
       "      <td>OnlineBackup</td>\n",
       "      <td>0.006914</td>\n",
       "    </tr>\n",
       "    <tr>\n",
       "      <th>10</th>\n",
       "      <td>TechSupport</td>\n",
       "      <td>0.003561</td>\n",
       "    </tr>\n",
       "    <tr>\n",
       "      <th>11</th>\n",
       "      <td>PaperlessBilling</td>\n",
       "      <td>0.002898</td>\n",
       "    </tr>\n",
       "    <tr>\n",
       "      <th>12</th>\n",
       "      <td>gender</td>\n",
       "      <td>0.001951</td>\n",
       "    </tr>\n",
       "    <tr>\n",
       "      <th>13</th>\n",
       "      <td>OnlineSecurity</td>\n",
       "      <td>0.001781</td>\n",
       "    </tr>\n",
       "    <tr>\n",
       "      <th>14</th>\n",
       "      <td>SeniorCitizen</td>\n",
       "      <td>0.001648</td>\n",
       "    </tr>\n",
       "    <tr>\n",
       "      <th>15</th>\n",
       "      <td>StreamingTV</td>\n",
       "      <td>0.001610</td>\n",
       "    </tr>\n",
       "    <tr>\n",
       "      <th>16</th>\n",
       "      <td>DeviceProtection</td>\n",
       "      <td>0.000474</td>\n",
       "    </tr>\n",
       "    <tr>\n",
       "      <th>17</th>\n",
       "      <td>Dependents</td>\n",
       "      <td>0.000303</td>\n",
       "    </tr>\n",
       "  </tbody>\n",
       "</table>\n",
       "</div>"
      ],
      "text/plain": [
       "             feature  importance\n",
       "0     ContractLength    0.293484\n",
       "1       TotalCharges    0.189676\n",
       "2     MonthlyCharges    0.061811\n",
       "3               Type    0.034457\n",
       "4    StreamingMovies    0.014435\n",
       "5      MultipleLines    0.011423\n",
       "6            Partner    0.009358\n",
       "7    InternetService    0.007501\n",
       "8      PaymentMethod    0.007274\n",
       "9       OnlineBackup    0.006914\n",
       "10       TechSupport    0.003561\n",
       "11  PaperlessBilling    0.002898\n",
       "12            gender    0.001951\n",
       "13    OnlineSecurity    0.001781\n",
       "14     SeniorCitizen    0.001648\n",
       "15       StreamingTV    0.001610\n",
       "16  DeviceProtection    0.000474\n",
       "17        Dependents    0.000303"
      ]
     },
     "execution_count": 71,
     "metadata": {},
     "output_type": "execute_result"
    }
   ],
   "source": [
    "result = permutation_importance(model, X_train, y_train, n_repeats=10, random_state=RANDOM_STATE)\n",
    "\n",
    "importances = result.importances_mean\n",
    "feature_names = X_train.columns\n",
    "df_importances = pd.DataFrame({'feature': feature_names, 'importance': importances})\n",
    "df_importances = df_importances.sort_values(by='importance', ascending=False).reset_index(drop=True)\n",
    "df_importances"
   ]
  },
  {
   "cell_type": "code",
   "execution_count": 72,
   "id": "6de98a94",
   "metadata": {},
   "outputs": [
    {
     "data": {
      "image/png": "[encoded data removed]",
      "text/plain": [
       "<Figure size 360x360 with 2 Axes>"
      ]
     },
     "metadata": {
      "needs_background": "light"
     },
     "output_type": "display_data"
    }
   ],
   "source": [
    "y_pred = [1 if prob > 0.5 else 0 for prob in y_pred_proba]\n",
    "\n",
    "cm = confusion_matrix(y_test, y_pred)\n",
    "\n",
    "fig, ax = plt.subplots(figsize=(5, 5))\n",
    "sns.heatmap(cm, annot=True, linewidths=0.5, cmap='Blues', fmt='.0f', ax=ax)\n",
    "plt.xlabel('Предсказанное')\n",
    "plt.ylabel('Истинное значение')\n",
    "plt.title('Матрица ошибок RandomForestClassifier')\n",
    "plt.show()"
   ]
  },
  {
   "cell_type": "markdown",
   "id": "e5ef70c0",
   "metadata": {},
   "source": [
    "**Промежуточный вывод:**<br>Мы обучили лучшую модель, затем выполнили предсказания, и значение метрики ROC AUC оказалось более 0.85, а значит условия задачи выполнены.<br>Также мы видим, что наиболее важным признаком является 'ContractLength'.<br>По матрице ошибок видно, что модель обладает высокой точностью для отрицательных классов, что подтверждается значительным числом истинных отрицательных случаев. Однако модель имеет проблемы с некоторыми положительными классами, что требует оптимизации для снижения числа ложно отрицательных и ложно положительных предсказаний"
   ]
  },
  {
   "cell_type": "markdown",
   "id": "67675b97",
   "metadata": {},
   "source": [
    "## Общий вывод и рекомендации заказчику."
   ]
  },
  {
   "cell_type": "markdown",
   "id": "11811677",
   "metadata": {},
   "source": [
    "Целью проекта было построение модели для прогнозирования оттока клиентов, чтобы компания могла заранее предлагать промокоды и специальные условия тем, кто планирует отказаться от услуг.<br>Разложим \"по полочкам\" нашу работу:<br>\n",
    "**1. Какие пункты плана были выполнены?**\n",
    "**Выполненные пункты:**\n",
    "- Проведена предварительная обработка данных, включая удаление пропусков и кодирование категориальных признаков.\n",
    "- Разделение данных на тренировочный и тестовый наборы.\n",
    "- Обучение нескольких моделей (RandomForest, GradientBoosting, SVM).\n",
    "- Проведен гиперпараметрический поиск с использованием RandomizedSearchCV.\n",
    "\n",
    "**2. Какие трудности возникли и как вы с ними справились?**\n",
    "- **Трудность:** Большое количество категориальных признаков усложняло обработку данных.\n",
    "  **Решение:** Использование ColumnTransformer для автоматизации обработки признаков.\n",
    "- **Трудность:** Длительное время обучения при использовании SVM.\n",
    "  **Решение:** Уменьшение объема данных для первичного тестирования и использования RandomizedSearchCV для ускорения поиска гиперпараметров.\n",
    "\n",
    "**3. Какие ключевые шаги в решении задачи выделили?**\n",
    "1. Сбор и предварительная обработка данных.\n",
    "2. Разделение данных на тренировочные и тестовые наборы.\n",
    "3. Обучение и оценка различных моделей.\n",
    "4. Проведение гиперпараметрического поиска для улучшения моделей.\n",
    "5. Предсказание целевого признака с использованием лучшей модели.\n",
    "\n",
    "**4. Какая итоговая модель, какие у нее гиперпараметры и какое качество?**\n",
    "- **Итоговая модель:** GradientBoostingClassifier\n",
    "- **Гиперпараметры:** \n",
    "  - learning_rate: 0.2\n",
    "  - max_depth: 4\n",
    "  - n_estimators: 300\n",
    "- **Качество:** AUC-ROC = 0.85\n",
    "\n",
    "**5. Список признаков, используемых для обучения лучшей модели, описание их предобработки.**\n",
    "**Используемые признаки:**\n",
    "- Type (категориальный) - закодирован с помощью OneHotEncoder\n",
    "- PaymentMethod (категориальный) - закодирован с помощью OneHotEncoder\n",
    "- InternetService (категориальный) - закодирован с помощью OneHotEncoder\n",
    "- gender (категориальный) - закодирован с помощью OneHotEncoder\n",
    "- OnlineSecurity (категориальный) - закодирован с помощью OneHotEncoder\n",
    "- OnlineBackup (категориальный) - закодирован с помощью OneHotEncoder\n",
    "- DeviceProtection (категориальный) - закодирован с помощью OneHotEncoder\n",
    "- TechSupport (категориальный) - закодирован с помощью OneHotEncoder\n",
    "- StreamingTV (категориальный) - закодирован с помощью OneHotEncoder\n",
    "- StreamingMovies (категориальный) - закодирован с помощью OneHotEncoder\n",
    "- PaperlessBilling (категориальный) - закодирован с помощью OneHotEncoder\n",
    "- SeniorCitizen (категориальный) - закодирован с помощью OneHotEncoder\n",
    "- Partner (категориальный) - закодирован с помощью OneHotEncoder\n",
    "- Dependents (категориальный) - закодирован с помощью OneHotEncoder\n",
    "- MultipleLines (категориальный) - закодирован с помощью OneHotEncoder\n",
    "- TotalCharges (числовой) - масштабирован с помощью StandardScaler\n",
    "- ContractLength (числовой) - масштабирован с помощью StandardScaler\n",
    "- MonthlyCharges (числовой) - масштабирован с помощью StandardScaler\n",
    "\n",
    "Проделанная работа позволила выбрать лучшую модель с оптимальными гиперпараметрами и достигнутым качеством. В дальнейшем можно улучшить результаты путем более детального анализа признаков и использования методов ансамблирования.<br>\n",
    "Из рекомандаций заказчику:<br>\n",
    "**Автоматизация и мониторинг:** Внедрить модель в производственные системы для автоматического предсказания и регулярно проверять её качество.<br>\n",
    "**Улучшение данных:** Обеспечить высокое качество данных и рассмотреть сбор дополнительных данных для улучшения точности модели.<br>\n",
    "**Обучение персонала:** Обучить сотрудников использованию модели и интегрировать её с существующими системами для повышения эффективности бизнес-процессов.<br>\n",
    "**Пилотный проект:** Запустить пилотный проект для оценки экономического эффекта и внесения корректировок перед масштабным внедрением."
   ]
  },
  {
   "cell_type": "code",
   "execution_count": null,
   "id": "3e5e0fef",
   "metadata": {},
   "outputs": [],
   "source": []
  }
 ],
 "metadata": {
  "ExecuteTimeLog": [
   {
    "duration": 426,
    "start_time": "2024-07-11T11:08:08.090Z"
   },
   {
    "duration": 166,
    "start_time": "2024-07-11T11:09:42.308Z"
   },
   {
    "duration": 275,
    "start_time": "2024-07-11T11:10:35.461Z"
   },
   {
    "duration": 18,
    "start_time": "2024-07-11T11:12:54.003Z"
   },
   {
    "duration": 14,
    "start_time": "2024-07-11T11:13:02.733Z"
   },
   {
    "duration": 8,
    "start_time": "2024-07-11T11:13:16.064Z"
   },
   {
    "duration": 13,
    "start_time": "2024-07-11T11:13:28.818Z"
   },
   {
    "duration": 11,
    "start_time": "2024-07-11T11:13:51.298Z"
   },
   {
    "duration": 12,
    "start_time": "2024-07-11T11:13:58.170Z"
   },
   {
    "duration": 7,
    "start_time": "2024-07-11T11:14:13.670Z"
   },
   {
    "duration": 11,
    "start_time": "2024-07-11T11:14:24.135Z"
   },
   {
    "duration": 9,
    "start_time": "2024-07-11T11:30:45.484Z"
   },
   {
    "duration": 8,
    "start_time": "2024-07-11T11:30:59.814Z"
   },
   {
    "duration": 8,
    "start_time": "2024-07-11T11:31:14.915Z"
   },
   {
    "duration": 6,
    "start_time": "2024-07-11T11:31:23.651Z"
   },
   {
    "duration": 11,
    "start_time": "2024-07-11T11:31:37.314Z"
   },
   {
    "duration": 8,
    "start_time": "2024-07-11T11:31:47.605Z"
   },
   {
    "duration": 8,
    "start_time": "2024-07-11T11:31:58.182Z"
   },
   {
    "duration": 7,
    "start_time": "2024-07-11T11:32:07.254Z"
   },
   {
    "duration": 5,
    "start_time": "2024-07-11T11:34:19.651Z"
   },
   {
    "duration": 69,
    "start_time": "2024-07-11T11:39:28.495Z"
   },
   {
    "duration": 8,
    "start_time": "2024-07-11T11:54:09.335Z"
   },
   {
    "duration": 713,
    "start_time": "2024-07-11T11:54:24.946Z"
   },
   {
    "duration": 46,
    "start_time": "2024-07-11T11:55:02.473Z"
   },
   {
    "duration": 7,
    "start_time": "2024-07-11T11:57:33.254Z"
   },
   {
    "duration": 5,
    "start_time": "2024-07-11T11:58:19.827Z"
   },
   {
    "duration": 5,
    "start_time": "2024-07-11T11:58:26.411Z"
   },
   {
    "duration": 6,
    "start_time": "2024-07-11T11:58:54.326Z"
   },
   {
    "duration": 7,
    "start_time": "2024-07-11T11:59:04.998Z"
   },
   {
    "duration": 13,
    "start_time": "2024-07-11T11:59:13.705Z"
   },
   {
    "duration": 4,
    "start_time": "2024-07-11T11:59:37.300Z"
   },
   {
    "duration": 15,
    "start_time": "2024-07-11T12:08:43.019Z"
   },
   {
    "duration": 8,
    "start_time": "2024-07-11T12:08:49.656Z"
   },
   {
    "duration": 7,
    "start_time": "2024-07-11T12:11:14.787Z"
   },
   {
    "duration": 3,
    "start_time": "2024-07-11T12:18:03.720Z"
   },
   {
    "duration": 7,
    "start_time": "2024-07-11T12:18:43.815Z"
   },
   {
    "duration": 4,
    "start_time": "2024-07-11T12:18:48.568Z"
   },
   {
    "duration": 14,
    "start_time": "2024-07-11T12:18:51.425Z"
   },
   {
    "duration": 4,
    "start_time": "2024-07-11T12:19:11.736Z"
   },
   {
    "duration": 4,
    "start_time": "2024-07-11T12:20:00.318Z"
   },
   {
    "duration": 13,
    "start_time": "2024-07-11T12:21:16.371Z"
   },
   {
    "duration": 4,
    "start_time": "2024-07-11T12:22:39.680Z"
   },
   {
    "duration": 28,
    "start_time": "2024-07-11T12:22:44.608Z"
   },
   {
    "duration": 16,
    "start_time": "2024-07-11T12:23:06.177Z"
   },
   {
    "duration": 19,
    "start_time": "2024-07-11T12:24:05.817Z"
   },
   {
    "duration": 11,
    "start_time": "2024-07-11T12:24:05.969Z"
   },
   {
    "duration": 14,
    "start_time": "2024-07-11T12:24:34.844Z"
   },
   {
    "duration": 9,
    "start_time": "2024-07-11T12:24:52.108Z"
   },
   {
    "duration": 29,
    "start_time": "2024-07-11T12:32:29.206Z"
   },
   {
    "duration": 20,
    "start_time": "2024-07-11T12:32:43.974Z"
   },
   {
    "duration": 15,
    "start_time": "2024-07-11T12:32:55.289Z"
   },
   {
    "duration": 421,
    "start_time": "2024-07-11T15:04:39.581Z"
   },
   {
    "duration": 369,
    "start_time": "2024-07-11T15:04:40.003Z"
   },
   {
    "duration": 16,
    "start_time": "2024-07-11T15:04:40.373Z"
   },
   {
    "duration": 12,
    "start_time": "2024-07-11T15:04:40.390Z"
   },
   {
    "duration": 7,
    "start_time": "2024-07-11T15:04:40.404Z"
   },
   {
    "duration": 10,
    "start_time": "2024-07-11T15:04:40.413Z"
   },
   {
    "duration": 9,
    "start_time": "2024-07-11T15:04:40.424Z"
   },
   {
    "duration": 10,
    "start_time": "2024-07-11T15:04:40.434Z"
   },
   {
    "duration": 6,
    "start_time": "2024-07-11T15:04:40.445Z"
   },
   {
    "duration": 34,
    "start_time": "2024-07-11T15:04:40.454Z"
   },
   {
    "duration": 22,
    "start_time": "2024-07-11T15:04:40.489Z"
   },
   {
    "duration": 9,
    "start_time": "2024-07-11T15:04:40.512Z"
   },
   {
    "duration": 23,
    "start_time": "2024-07-11T15:04:40.522Z"
   },
   {
    "duration": 8,
    "start_time": "2024-07-11T15:04:40.546Z"
   },
   {
    "duration": 10,
    "start_time": "2024-07-11T15:04:40.556Z"
   },
   {
    "duration": 8,
    "start_time": "2024-07-11T15:04:40.567Z"
   },
   {
    "duration": 7,
    "start_time": "2024-07-11T15:04:40.577Z"
   },
   {
    "duration": 4,
    "start_time": "2024-07-11T15:04:40.586Z"
   },
   {
    "duration": 2,
    "start_time": "2024-07-11T15:04:40.592Z"
   },
   {
    "duration": 21,
    "start_time": "2024-07-11T15:04:40.596Z"
   },
   {
    "duration": 13,
    "start_time": "2024-07-11T15:04:40.618Z"
   },
   {
    "duration": 13,
    "start_time": "2024-07-11T15:04:40.632Z"
   },
   {
    "duration": 14,
    "start_time": "2024-07-11T15:04:40.646Z"
   },
   {
    "duration": 29,
    "start_time": "2024-07-11T15:04:40.661Z"
   },
   {
    "duration": 28,
    "start_time": "2024-07-11T15:04:40.691Z"
   },
   {
    "duration": 14,
    "start_time": "2024-07-11T15:04:40.723Z"
   },
   {
    "duration": 38,
    "start_time": "2024-07-11T15:04:40.738Z"
   },
   {
    "duration": 16,
    "start_time": "2024-07-11T15:04:40.779Z"
   },
   {
    "duration": 19,
    "start_time": "2024-07-11T15:04:40.797Z"
   },
   {
    "duration": 6,
    "start_time": "2024-07-11T15:07:49.114Z"
   },
   {
    "duration": 70,
    "start_time": "2024-07-11T15:07:55.178Z"
   },
   {
    "duration": 376,
    "start_time": "2024-07-11T15:10:00.024Z"
   },
   {
    "duration": 91,
    "start_time": "2024-07-11T15:10:00.401Z"
   },
   {
    "duration": 15,
    "start_time": "2024-07-11T15:10:00.494Z"
   },
   {
    "duration": 41,
    "start_time": "2024-07-11T15:10:00.510Z"
   },
   {
    "duration": 29,
    "start_time": "2024-07-11T15:10:00.553Z"
   },
   {
    "duration": 39,
    "start_time": "2024-07-11T15:10:00.583Z"
   },
   {
    "duration": 43,
    "start_time": "2024-07-11T15:10:00.623Z"
   },
   {
    "duration": 46,
    "start_time": "2024-07-11T15:10:00.667Z"
   },
   {
    "duration": 41,
    "start_time": "2024-07-11T15:10:00.714Z"
   },
   {
    "duration": 43,
    "start_time": "2024-07-11T15:10:00.756Z"
   },
   {
    "duration": 37,
    "start_time": "2024-07-11T15:10:00.800Z"
   },
   {
    "duration": 36,
    "start_time": "2024-07-11T15:10:00.838Z"
   },
   {
    "duration": 36,
    "start_time": "2024-07-11T15:10:00.875Z"
   },
   {
    "duration": 21,
    "start_time": "2024-07-11T15:10:00.913Z"
   },
   {
    "duration": 44,
    "start_time": "2024-07-11T15:10:00.935Z"
   },
   {
    "duration": 42,
    "start_time": "2024-07-11T15:10:00.980Z"
   },
   {
    "duration": 32,
    "start_time": "2024-07-11T15:10:01.024Z"
   },
   {
    "duration": 39,
    "start_time": "2024-07-11T15:10:01.058Z"
   },
   {
    "duration": 102,
    "start_time": "2024-07-11T15:10:01.099Z"
   },
   {
    "duration": 48,
    "start_time": "2024-07-11T15:10:01.203Z"
   },
   {
    "duration": 28,
    "start_time": "2024-07-11T15:10:01.253Z"
   },
   {
    "duration": 38,
    "start_time": "2024-07-11T15:10:01.282Z"
   },
   {
    "duration": 34,
    "start_time": "2024-07-11T15:10:01.322Z"
   },
   {
    "duration": 30,
    "start_time": "2024-07-11T15:10:01.358Z"
   },
   {
    "duration": 29,
    "start_time": "2024-07-11T15:10:01.389Z"
   },
   {
    "duration": 11,
    "start_time": "2024-07-11T15:10:01.419Z"
   },
   {
    "duration": 87,
    "start_time": "2024-07-11T15:10:01.431Z"
   },
   {
    "duration": 32,
    "start_time": "2024-07-11T15:10:01.519Z"
   },
   {
    "duration": 88,
    "start_time": "2024-07-11T15:10:01.553Z"
   },
   {
    "duration": 100,
    "start_time": "2024-07-11T15:10:01.642Z"
   },
   {
    "duration": 7,
    "start_time": "2024-07-11T15:19:56.955Z"
   },
   {
    "duration": 24,
    "start_time": "2024-07-11T15:22:22.836Z"
   },
   {
    "duration": 24,
    "start_time": "2024-07-11T15:25:08.722Z"
   },
   {
    "duration": 5,
    "start_time": "2024-07-11T15:25:24.002Z"
   },
   {
    "duration": 4,
    "start_time": "2024-07-11T15:25:29.650Z"
   },
   {
    "duration": 4,
    "start_time": "2024-07-11T15:26:41.697Z"
   },
   {
    "duration": 26,
    "start_time": "2024-07-11T15:29:17.053Z"
   },
   {
    "duration": 4,
    "start_time": "2024-07-11T15:34:08.548Z"
   },
   {
    "duration": 5,
    "start_time": "2024-07-11T15:34:17.596Z"
   },
   {
    "duration": 4,
    "start_time": "2024-07-11T15:34:26.751Z"
   },
   {
    "duration": 7,
    "start_time": "2024-07-11T15:35:13.007Z"
   },
   {
    "duration": 7,
    "start_time": "2024-07-11T15:35:20.469Z"
   },
   {
    "duration": 12,
    "start_time": "2024-07-11T15:35:47.766Z"
   },
   {
    "duration": 30,
    "start_time": "2024-07-11T15:36:04.267Z"
   },
   {
    "duration": 18,
    "start_time": "2024-07-11T15:36:10.715Z"
   },
   {
    "duration": 63,
    "start_time": "2024-07-11T15:36:19.891Z"
   },
   {
    "duration": 6,
    "start_time": "2024-07-11T15:36:24.328Z"
   },
   {
    "duration": 18,
    "start_time": "2024-07-11T15:36:52.943Z"
   },
   {
    "duration": 66,
    "start_time": "2024-07-11T15:41:37.280Z"
   },
   {
    "duration": 13,
    "start_time": "2024-07-11T15:41:41.279Z"
   },
   {
    "duration": 14,
    "start_time": "2024-07-11T15:41:47.343Z"
   },
   {
    "duration": 19,
    "start_time": "2024-07-11T15:41:52.520Z"
   },
   {
    "duration": 393,
    "start_time": "2024-07-11T15:41:59.208Z"
   },
   {
    "duration": 89,
    "start_time": "2024-07-11T15:41:59.603Z"
   },
   {
    "duration": 15,
    "start_time": "2024-07-11T15:41:59.694Z"
   },
   {
    "duration": 12,
    "start_time": "2024-07-11T15:41:59.710Z"
   },
   {
    "duration": 7,
    "start_time": "2024-07-11T15:41:59.723Z"
   },
   {
    "duration": 10,
    "start_time": "2024-07-11T15:41:59.732Z"
   },
   {
    "duration": 8,
    "start_time": "2024-07-11T15:41:59.744Z"
   },
   {
    "duration": 10,
    "start_time": "2024-07-11T15:41:59.753Z"
   },
   {
    "duration": 12,
    "start_time": "2024-07-11T15:41:59.764Z"
   },
   {
    "duration": 34,
    "start_time": "2024-07-11T15:41:59.778Z"
   },
   {
    "duration": 9,
    "start_time": "2024-07-11T15:41:59.814Z"
   },
   {
    "duration": 6,
    "start_time": "2024-07-11T15:41:59.824Z"
   },
   {
    "duration": 14,
    "start_time": "2024-07-11T15:41:59.831Z"
   },
   {
    "duration": 5,
    "start_time": "2024-07-11T15:41:59.848Z"
   },
   {
    "duration": 9,
    "start_time": "2024-07-11T15:41:59.854Z"
   },
   {
    "duration": 6,
    "start_time": "2024-07-11T15:41:59.864Z"
   },
   {
    "duration": 7,
    "start_time": "2024-07-11T15:41:59.871Z"
   },
   {
    "duration": 33,
    "start_time": "2024-07-11T15:41:59.879Z"
   },
   {
    "duration": 3,
    "start_time": "2024-07-11T15:41:59.914Z"
   },
   {
    "duration": 6,
    "start_time": "2024-07-11T15:41:59.918Z"
   },
   {
    "duration": 5,
    "start_time": "2024-07-11T15:41:59.926Z"
   },
   {
    "duration": 8,
    "start_time": "2024-07-11T15:41:59.932Z"
   },
   {
    "duration": 10,
    "start_time": "2024-07-11T15:41:59.941Z"
   },
   {
    "duration": 14,
    "start_time": "2024-07-11T15:41:59.952Z"
   },
   {
    "duration": 53,
    "start_time": "2024-07-11T15:41:59.968Z"
   },
   {
    "duration": 11,
    "start_time": "2024-07-11T15:42:00.022Z"
   },
   {
    "duration": 51,
    "start_time": "2024-07-11T15:42:00.034Z"
   },
   {
    "duration": 16,
    "start_time": "2024-07-11T15:42:00.087Z"
   },
   {
    "duration": 47,
    "start_time": "2024-07-11T15:42:00.104Z"
   },
   {
    "duration": 61,
    "start_time": "2024-07-11T15:42:00.153Z"
   },
   {
    "duration": 24,
    "start_time": "2024-07-11T15:42:00.215Z"
   },
   {
    "duration": 86,
    "start_time": "2024-07-11T15:42:00.240Z"
   },
   {
    "duration": 59,
    "start_time": "2024-07-11T15:42:00.327Z"
   },
   {
    "duration": 58,
    "start_time": "2024-07-11T15:42:00.388Z"
   },
   {
    "duration": 39,
    "start_time": "2024-07-11T15:42:00.447Z"
   },
   {
    "duration": 824,
    "start_time": "2024-07-11T15:47:59.171Z"
   },
   {
    "duration": 3,
    "start_time": "2024-07-11T15:48:08.315Z"
   },
   {
    "duration": 4,
    "start_time": "2024-07-11T15:50:02.274Z"
   },
   {
    "duration": 3,
    "start_time": "2024-07-11T15:50:02.679Z"
   },
   {
    "duration": 25,
    "start_time": "2024-07-11T15:50:23.281Z"
   },
   {
    "duration": 11,
    "start_time": "2024-07-11T15:50:30.306Z"
   },
   {
    "duration": 23,
    "start_time": "2024-07-11T15:53:32.134Z"
   },
   {
    "duration": 16,
    "start_time": "2024-07-11T15:53:36.016Z"
   },
   {
    "duration": 425,
    "start_time": "2024-07-11T15:54:53.463Z"
   },
   {
    "duration": 253,
    "start_time": "2024-07-11T15:54:57.170Z"
   },
   {
    "duration": 162,
    "start_time": "2024-07-11T15:55:39.767Z"
   },
   {
    "duration": 169,
    "start_time": "2024-07-11T15:55:49.157Z"
   },
   {
    "duration": 10,
    "start_time": "2024-07-11T15:56:26.627Z"
   },
   {
    "duration": 13,
    "start_time": "2024-07-11T15:58:07.420Z"
   },
   {
    "duration": 165,
    "start_time": "2024-07-11T15:58:11.428Z"
   },
   {
    "duration": 1039,
    "start_time": "2024-07-11T15:58:22.571Z"
   },
   {
    "duration": 89,
    "start_time": "2024-07-11T15:58:23.612Z"
   },
   {
    "duration": 12,
    "start_time": "2024-07-11T15:58:23.703Z"
   },
   {
    "duration": 10,
    "start_time": "2024-07-11T15:58:23.718Z"
   },
   {
    "duration": 7,
    "start_time": "2024-07-11T15:58:23.729Z"
   },
   {
    "duration": 24,
    "start_time": "2024-07-11T15:58:23.737Z"
   },
   {
    "duration": 14,
    "start_time": "2024-07-11T15:58:23.763Z"
   },
   {
    "duration": 11,
    "start_time": "2024-07-11T15:58:23.779Z"
   },
   {
    "duration": 5,
    "start_time": "2024-07-11T15:58:23.792Z"
   },
   {
    "duration": 22,
    "start_time": "2024-07-11T15:58:23.799Z"
   },
   {
    "duration": 9,
    "start_time": "2024-07-11T15:58:23.823Z"
   },
   {
    "duration": 14,
    "start_time": "2024-07-11T15:58:23.833Z"
   },
   {
    "duration": 24,
    "start_time": "2024-07-11T15:58:23.848Z"
   },
   {
    "duration": 6,
    "start_time": "2024-07-11T15:58:23.873Z"
   },
   {
    "duration": 8,
    "start_time": "2024-07-11T15:58:23.881Z"
   },
   {
    "duration": 6,
    "start_time": "2024-07-11T15:58:23.891Z"
   },
   {
    "duration": 6,
    "start_time": "2024-07-11T15:58:23.898Z"
   },
   {
    "duration": 14,
    "start_time": "2024-07-11T15:58:23.905Z"
   },
   {
    "duration": 7,
    "start_time": "2024-07-11T15:58:23.921Z"
   },
   {
    "duration": 8,
    "start_time": "2024-07-11T15:58:23.929Z"
   },
   {
    "duration": 11,
    "start_time": "2024-07-11T15:58:23.938Z"
   },
   {
    "duration": 29,
    "start_time": "2024-07-11T15:58:23.950Z"
   },
   {
    "duration": 27,
    "start_time": "2024-07-11T15:58:23.981Z"
   },
   {
    "duration": 44,
    "start_time": "2024-07-11T15:58:24.010Z"
   },
   {
    "duration": 41,
    "start_time": "2024-07-11T15:58:24.056Z"
   },
   {
    "duration": 10,
    "start_time": "2024-07-11T15:58:24.099Z"
   },
   {
    "duration": 55,
    "start_time": "2024-07-11T15:58:24.110Z"
   },
   {
    "duration": 16,
    "start_time": "2024-07-11T15:58:24.168Z"
   },
   {
    "duration": 18,
    "start_time": "2024-07-11T15:58:24.185Z"
   },
   {
    "duration": 12,
    "start_time": "2024-07-11T15:58:24.205Z"
   },
   {
    "duration": 6,
    "start_time": "2024-07-11T15:58:24.219Z"
   },
   {
    "duration": 11,
    "start_time": "2024-07-11T15:58:24.226Z"
   },
   {
    "duration": 27,
    "start_time": "2024-07-11T15:58:24.239Z"
   },
   {
    "duration": 15,
    "start_time": "2024-07-11T15:58:24.268Z"
   },
   {
    "duration": 34,
    "start_time": "2024-07-11T15:58:24.284Z"
   },
   {
    "duration": 37,
    "start_time": "2024-07-11T15:58:24.320Z"
   },
   {
    "duration": 389,
    "start_time": "2024-07-11T15:58:24.359Z"
   },
   {
    "duration": 12,
    "start_time": "2024-07-11T15:58:24.750Z"
   },
   {
    "duration": 407,
    "start_time": "2024-07-11T15:58:24.763Z"
   },
   {
    "duration": 4,
    "start_time": "2024-07-11T15:58:25.171Z"
   },
   {
    "duration": 166,
    "start_time": "2024-07-11T15:58:25.176Z"
   },
   {
    "duration": 3,
    "start_time": "2024-07-11T15:58:25.343Z"
   },
   {
    "duration": 396,
    "start_time": "2024-07-11T15:58:25.348Z"
   },
   {
    "duration": 387,
    "start_time": "2024-07-11T15:58:25.745Z"
   },
   {
    "duration": 390,
    "start_time": "2024-07-11T15:58:26.134Z"
   },
   {
    "duration": 398,
    "start_time": "2024-07-11T15:58:26.526Z"
   },
   {
    "duration": 473,
    "start_time": "2024-07-11T15:58:26.926Z"
   },
   {
    "duration": 385,
    "start_time": "2024-07-11T15:58:27.401Z"
   },
   {
    "duration": 383,
    "start_time": "2024-07-11T15:58:27.787Z"
   },
   {
    "duration": 3,
    "start_time": "2024-07-11T15:58:28.172Z"
   },
   {
    "duration": 112,
    "start_time": "2024-07-11T15:58:28.176Z"
   },
   {
    "duration": 10,
    "start_time": "2024-07-11T16:03:41.001Z"
   },
   {
    "duration": 4,
    "start_time": "2024-07-11T16:05:03.517Z"
   },
   {
    "duration": 21,
    "start_time": "2024-07-11T16:05:10.785Z"
   },
   {
    "duration": 3,
    "start_time": "2024-07-11T16:07:52.772Z"
   },
   {
    "duration": 43085,
    "start_time": "2024-07-11T16:07:56.889Z"
   },
   {
    "duration": 0,
    "start_time": "2024-07-11T16:08:39.975Z"
   },
   {
    "duration": 0,
    "start_time": "2024-07-11T16:08:39.976Z"
   },
   {
    "duration": 0,
    "start_time": "2024-07-11T16:08:39.977Z"
   },
   {
    "duration": 11,
    "start_time": "2024-07-11T16:08:56.452Z"
   },
   {
    "duration": 8,
    "start_time": "2024-07-11T16:09:05.322Z"
   },
   {
    "duration": 8,
    "start_time": "2024-07-11T16:09:08.123Z"
   },
   {
    "duration": 24063,
    "start_time": "2024-07-11T16:09:54.386Z"
   },
   {
    "duration": 1036,
    "start_time": "2024-07-11T16:10:27.266Z"
   },
   {
    "duration": 109,
    "start_time": "2024-07-11T16:10:28.305Z"
   },
   {
    "duration": 18,
    "start_time": "2024-07-11T16:10:28.416Z"
   },
   {
    "duration": 17,
    "start_time": "2024-07-11T16:10:28.437Z"
   },
   {
    "duration": 10,
    "start_time": "2024-07-11T16:10:28.456Z"
   },
   {
    "duration": 24,
    "start_time": "2024-07-11T16:10:28.467Z"
   },
   {
    "duration": 23,
    "start_time": "2024-07-11T16:10:28.493Z"
   },
   {
    "duration": 25,
    "start_time": "2024-07-11T16:10:28.518Z"
   },
   {
    "duration": 19,
    "start_time": "2024-07-11T16:10:28.545Z"
   },
   {
    "duration": 38,
    "start_time": "2024-07-11T16:10:28.568Z"
   },
   {
    "duration": 28,
    "start_time": "2024-07-11T16:10:28.608Z"
   },
   {
    "duration": 14,
    "start_time": "2024-07-11T16:10:28.637Z"
   },
   {
    "duration": 8,
    "start_time": "2024-07-11T16:10:28.653Z"
   },
   {
    "duration": 35,
    "start_time": "2024-07-11T16:10:28.662Z"
   },
   {
    "duration": 15,
    "start_time": "2024-07-11T16:10:28.699Z"
   },
   {
    "duration": 11,
    "start_time": "2024-07-11T16:10:28.715Z"
   },
   {
    "duration": 7,
    "start_time": "2024-07-11T16:10:28.727Z"
   },
   {
    "duration": 5,
    "start_time": "2024-07-11T16:10:28.735Z"
   },
   {
    "duration": 2,
    "start_time": "2024-07-11T16:10:28.742Z"
   },
   {
    "duration": 42,
    "start_time": "2024-07-11T16:10:28.745Z"
   },
   {
    "duration": 42,
    "start_time": "2024-07-11T16:10:28.789Z"
   },
   {
    "duration": 7,
    "start_time": "2024-07-11T16:10:28.832Z"
   },
   {
    "duration": 17,
    "start_time": "2024-07-11T16:10:28.841Z"
   },
   {
    "duration": 19,
    "start_time": "2024-07-11T16:10:28.859Z"
   },
   {
    "duration": 55,
    "start_time": "2024-07-11T16:10:28.879Z"
   },
   {
    "duration": 11,
    "start_time": "2024-07-11T16:10:28.935Z"
   },
   {
    "duration": 32,
    "start_time": "2024-07-11T16:10:28.948Z"
   },
   {
    "duration": 17,
    "start_time": "2024-07-11T16:10:28.983Z"
   },
   {
    "duration": 13,
    "start_time": "2024-07-11T16:10:29.012Z"
   },
   {
    "duration": 14,
    "start_time": "2024-07-11T16:10:29.026Z"
   },
   {
    "duration": 7,
    "start_time": "2024-07-11T16:10:29.041Z"
   },
   {
    "duration": 8,
    "start_time": "2024-07-11T16:10:29.050Z"
   },
   {
    "duration": 10,
    "start_time": "2024-07-11T16:10:29.059Z"
   },
   {
    "duration": 11,
    "start_time": "2024-07-11T16:10:29.070Z"
   },
   {
    "duration": 47,
    "start_time": "2024-07-11T16:10:29.082Z"
   },
   {
    "duration": 4,
    "start_time": "2024-07-11T16:10:29.130Z"
   },
   {
    "duration": 414,
    "start_time": "2024-07-11T16:10:29.135Z"
   },
   {
    "duration": 459,
    "start_time": "2024-07-11T16:10:29.550Z"
   },
   {
    "duration": 3,
    "start_time": "2024-07-11T16:10:30.012Z"
   },
   {
    "duration": 858531,
    "start_time": "2024-07-11T16:10:30.017Z"
   },
   {
    "duration": 81,
    "start_time": "2024-07-12T09:51:01.505Z"
   },
   {
    "duration": 1406,
    "start_time": "2024-07-12T09:51:07.620Z"
   },
   {
    "duration": 355,
    "start_time": "2024-07-12T09:51:09.028Z"
   },
   {
    "duration": 24,
    "start_time": "2024-07-12T09:51:09.385Z"
   },
   {
    "duration": 13,
    "start_time": "2024-07-12T09:51:09.410Z"
   },
   {
    "duration": 8,
    "start_time": "2024-07-12T09:51:09.424Z"
   },
   {
    "duration": 24,
    "start_time": "2024-07-12T09:51:09.434Z"
   },
   {
    "duration": 37,
    "start_time": "2024-07-12T09:51:09.459Z"
   },
   {
    "duration": 16,
    "start_time": "2024-07-12T09:51:09.498Z"
   },
   {
    "duration": 9,
    "start_time": "2024-07-12T09:51:09.515Z"
   },
   {
    "duration": 24,
    "start_time": "2024-07-12T09:51:09.525Z"
   },
   {
    "duration": 8,
    "start_time": "2024-07-12T09:51:09.550Z"
   },
   {
    "duration": 20,
    "start_time": "2024-07-12T09:51:09.560Z"
   },
   {
    "duration": 14,
    "start_time": "2024-07-12T09:51:09.581Z"
   },
   {
    "duration": 10,
    "start_time": "2024-07-12T09:51:09.599Z"
   },
   {
    "duration": 9,
    "start_time": "2024-07-12T09:51:09.610Z"
   },
   {
    "duration": 12,
    "start_time": "2024-07-12T09:51:09.621Z"
   },
   {
    "duration": 16,
    "start_time": "2024-07-12T09:51:09.635Z"
   },
   {
    "duration": 5,
    "start_time": "2024-07-12T09:51:09.653Z"
   },
   {
    "duration": 25,
    "start_time": "2024-07-12T09:51:09.660Z"
   },
   {
    "duration": 9,
    "start_time": "2024-07-12T09:51:09.688Z"
   },
   {
    "duration": 10,
    "start_time": "2024-07-12T09:51:09.699Z"
   },
   {
    "duration": 8,
    "start_time": "2024-07-12T09:51:09.710Z"
   },
   {
    "duration": 13,
    "start_time": "2024-07-12T09:51:09.719Z"
   },
   {
    "duration": 49,
    "start_time": "2024-07-12T09:51:09.733Z"
   },
   {
    "duration": 32,
    "start_time": "2024-07-12T09:51:09.783Z"
   },
   {
    "duration": 13,
    "start_time": "2024-07-12T09:51:09.816Z"
   },
   {
    "duration": 26,
    "start_time": "2024-07-12T09:51:09.831Z"
   },
   {
    "duration": 28,
    "start_time": "2024-07-12T09:51:09.881Z"
   },
   {
    "duration": 18,
    "start_time": "2024-07-12T09:51:09.910Z"
   },
   {
    "duration": 14,
    "start_time": "2024-07-12T09:51:09.930Z"
   },
   {
    "duration": 7,
    "start_time": "2024-07-12T09:51:09.945Z"
   },
   {
    "duration": 7,
    "start_time": "2024-07-12T09:51:09.983Z"
   },
   {
    "duration": 38,
    "start_time": "2024-07-12T09:51:09.991Z"
   },
   {
    "duration": 16,
    "start_time": "2024-07-12T09:51:10.030Z"
   },
   {
    "duration": 19,
    "start_time": "2024-07-12T09:51:10.048Z"
   },
   {
    "duration": 6,
    "start_time": "2024-07-12T09:51:10.069Z"
   },
   {
    "duration": 510,
    "start_time": "2024-07-12T09:51:10.076Z"
   },
   {
    "duration": 482,
    "start_time": "2024-07-12T09:51:10.587Z"
   },
   {
    "duration": 4,
    "start_time": "2024-07-12T09:51:11.070Z"
   },
   {
    "duration": 79,
    "start_time": "2024-07-12T09:51:11.081Z"
   },
   {
    "duration": 68,
    "start_time": "2024-07-12T09:51:44.372Z"
   },
   {
    "duration": 4,
    "start_time": "2024-07-12T09:51:55.686Z"
   },
   {
    "duration": 70,
    "start_time": "2024-07-12T09:52:16.285Z"
   },
   {
    "duration": 5,
    "start_time": "2024-07-12T09:55:05.486Z"
   },
   {
    "duration": 207,
    "start_time": "2024-07-12T09:55:21.567Z"
   },
   {
    "duration": 1072,
    "start_time": "2024-07-12T09:57:53.327Z"
   },
   {
    "duration": 95,
    "start_time": "2024-07-12T09:57:54.401Z"
   },
   {
    "duration": 15,
    "start_time": "2024-07-12T09:57:54.497Z"
   },
   {
    "duration": 13,
    "start_time": "2024-07-12T09:57:54.513Z"
   },
   {
    "duration": 9,
    "start_time": "2024-07-12T09:57:54.527Z"
   },
   {
    "duration": 10,
    "start_time": "2024-07-12T09:57:54.537Z"
   },
   {
    "duration": 10,
    "start_time": "2024-07-12T09:57:54.548Z"
   },
   {
    "duration": 35,
    "start_time": "2024-07-12T09:57:54.559Z"
   },
   {
    "duration": 8,
    "start_time": "2024-07-12T09:57:54.595Z"
   },
   {
    "duration": 24,
    "start_time": "2024-07-12T09:57:54.604Z"
   },
   {
    "duration": 12,
    "start_time": "2024-07-12T09:57:54.629Z"
   },
   {
    "duration": 11,
    "start_time": "2024-07-12T09:57:54.643Z"
   },
   {
    "duration": 7,
    "start_time": "2024-07-12T09:57:54.656Z"
   },
   {
    "duration": 20,
    "start_time": "2024-07-12T09:57:54.666Z"
   },
   {
    "duration": 11,
    "start_time": "2024-07-12T09:57:54.688Z"
   },
   {
    "duration": 9,
    "start_time": "2024-07-12T09:57:54.700Z"
   },
   {
    "duration": 18,
    "start_time": "2024-07-12T09:57:54.710Z"
   },
   {
    "duration": 8,
    "start_time": "2024-07-12T09:57:54.729Z"
   },
   {
    "duration": 4,
    "start_time": "2024-07-12T09:57:54.738Z"
   },
   {
    "duration": 7,
    "start_time": "2024-07-12T09:57:54.743Z"
   },
   {
    "duration": 38,
    "start_time": "2024-07-12T09:57:54.751Z"
   },
   {
    "duration": 8,
    "start_time": "2024-07-12T09:57:54.791Z"
   },
   {
    "duration": 12,
    "start_time": "2024-07-12T09:57:54.801Z"
   },
   {
    "duration": 19,
    "start_time": "2024-07-12T09:57:54.814Z"
   },
   {
    "duration": 49,
    "start_time": "2024-07-12T09:57:54.834Z"
   },
   {
    "duration": 15,
    "start_time": "2024-07-12T09:57:54.886Z"
   },
   {
    "duration": 32,
    "start_time": "2024-07-12T09:57:54.903Z"
   },
   {
    "duration": 19,
    "start_time": "2024-07-12T09:57:54.937Z"
   },
   {
    "duration": 35,
    "start_time": "2024-07-12T09:57:54.958Z"
   },
   {
    "duration": 13,
    "start_time": "2024-07-12T09:57:54.995Z"
   },
   {
    "duration": 90,
    "start_time": "2024-07-12T09:57:55.010Z"
   },
   {
    "duration": 8,
    "start_time": "2024-07-12T09:57:55.102Z"
   },
   {
    "duration": 10,
    "start_time": "2024-07-12T09:57:55.111Z"
   },
   {
    "duration": 16,
    "start_time": "2024-07-12T09:57:55.122Z"
   },
   {
    "duration": 18,
    "start_time": "2024-07-12T09:57:55.140Z"
   },
   {
    "duration": 5,
    "start_time": "2024-07-12T09:57:55.159Z"
   },
   {
    "duration": 485,
    "start_time": "2024-07-12T09:57:55.165Z"
   },
   {
    "duration": 489,
    "start_time": "2024-07-12T09:57:55.651Z"
   },
   {
    "duration": 4,
    "start_time": "2024-07-12T09:57:56.141Z"
   },
   {
    "duration": 6,
    "start_time": "2024-07-12T09:57:56.146Z"
   },
   {
    "duration": 231,
    "start_time": "2024-07-12T09:57:56.156Z"
   },
   {
    "duration": 202,
    "start_time": "2024-07-12T09:57:56.390Z"
   },
   {
    "duration": 240,
    "start_time": "2024-07-12T09:57:56.594Z"
   },
   {
    "duration": 202,
    "start_time": "2024-07-12T09:57:56.835Z"
   },
   {
    "duration": 212,
    "start_time": "2024-07-12T09:57:57.038Z"
   },
   {
    "duration": 269,
    "start_time": "2024-07-12T09:57:57.252Z"
   },
   {
    "duration": 199,
    "start_time": "2024-07-12T09:57:57.523Z"
   },
   {
    "duration": 230,
    "start_time": "2024-07-12T09:57:57.723Z"
   },
   {
    "duration": 203,
    "start_time": "2024-07-12T09:57:57.954Z"
   },
   {
    "duration": 203,
    "start_time": "2024-07-12T09:57:58.158Z"
   },
   {
    "duration": 197,
    "start_time": "2024-07-12T09:57:58.362Z"
   },
   {
    "duration": 196,
    "start_time": "2024-07-12T09:57:58.560Z"
   },
   {
    "duration": 202,
    "start_time": "2024-07-12T09:57:58.758Z"
   },
   {
    "duration": 201,
    "start_time": "2024-07-12T09:57:58.962Z"
   },
   {
    "duration": 197,
    "start_time": "2024-07-12T09:57:59.164Z"
   },
   {
    "duration": 3,
    "start_time": "2024-07-12T10:00:07.593Z"
   },
   {
    "duration": 198,
    "start_time": "2024-07-12T10:00:10.491Z"
   },
   {
    "duration": 3,
    "start_time": "2024-07-12T10:00:27.509Z"
   },
   {
    "duration": 99,
    "start_time": "2024-07-12T10:00:29.107Z"
   },
   {
    "duration": 3,
    "start_time": "2024-07-12T10:00:59.727Z"
   },
   {
    "duration": 3,
    "start_time": "2024-07-12T10:01:00.329Z"
   },
   {
    "duration": 107,
    "start_time": "2024-07-12T10:01:00.514Z"
   },
   {
    "duration": 94,
    "start_time": "2024-07-12T10:01:09.477Z"
   },
   {
    "duration": 5,
    "start_time": "2024-07-12T10:02:24.314Z"
   },
   {
    "duration": 3,
    "start_time": "2024-07-12T10:02:24.950Z"
   },
   {
    "duration": 207,
    "start_time": "2024-07-12T10:02:25.264Z"
   },
   {
    "duration": 5,
    "start_time": "2024-07-12T10:03:20.130Z"
   },
   {
    "duration": 2,
    "start_time": "2024-07-12T10:03:20.592Z"
   },
   {
    "duration": 134,
    "start_time": "2024-07-12T10:03:20.884Z"
   },
   {
    "duration": 1151,
    "start_time": "2024-07-12T10:03:42.254Z"
   },
   {
    "duration": 89,
    "start_time": "2024-07-12T10:03:43.407Z"
   },
   {
    "duration": 13,
    "start_time": "2024-07-12T10:03:43.497Z"
   },
   {
    "duration": 12,
    "start_time": "2024-07-12T10:03:43.512Z"
   },
   {
    "duration": 7,
    "start_time": "2024-07-12T10:03:43.525Z"
   },
   {
    "duration": 10,
    "start_time": "2024-07-12T10:03:43.534Z"
   },
   {
    "duration": 9,
    "start_time": "2024-07-12T10:03:43.546Z"
   },
   {
    "duration": 30,
    "start_time": "2024-07-12T10:03:43.556Z"
   },
   {
    "duration": 36,
    "start_time": "2024-07-12T10:03:43.587Z"
   },
   {
    "duration": 11,
    "start_time": "2024-07-12T10:03:43.625Z"
   },
   {
    "duration": 10,
    "start_time": "2024-07-12T10:03:43.638Z"
   },
   {
    "duration": 6,
    "start_time": "2024-07-12T10:03:43.650Z"
   },
   {
    "duration": 15,
    "start_time": "2024-07-12T10:03:43.657Z"
   },
   {
    "duration": 6,
    "start_time": "2024-07-12T10:03:43.673Z"
   },
   {
    "duration": 13,
    "start_time": "2024-07-12T10:03:43.680Z"
   },
   {
    "duration": 6,
    "start_time": "2024-07-12T10:03:43.695Z"
   },
   {
    "duration": 9,
    "start_time": "2024-07-12T10:03:43.702Z"
   },
   {
    "duration": 7,
    "start_time": "2024-07-12T10:03:43.712Z"
   },
   {
    "duration": 17,
    "start_time": "2024-07-12T10:03:43.720Z"
   },
   {
    "duration": 12,
    "start_time": "2024-07-12T10:03:43.738Z"
   },
   {
    "duration": 23,
    "start_time": "2024-07-12T10:03:43.751Z"
   },
   {
    "duration": 9,
    "start_time": "2024-07-12T10:03:43.776Z"
   },
   {
    "duration": 12,
    "start_time": "2024-07-12T10:03:43.786Z"
   },
   {
    "duration": 15,
    "start_time": "2024-07-12T10:03:43.800Z"
   },
   {
    "duration": 24,
    "start_time": "2024-07-12T10:03:43.817Z"
   },
   {
    "duration": 18,
    "start_time": "2024-07-12T10:03:43.842Z"
   },
   {
    "duration": 40,
    "start_time": "2024-07-12T10:03:43.862Z"
   },
   {
    "duration": 17,
    "start_time": "2024-07-12T10:03:43.905Z"
   },
   {
    "duration": 17,
    "start_time": "2024-07-12T10:03:43.923Z"
   },
   {
    "duration": 16,
    "start_time": "2024-07-12T10:03:43.942Z"
   },
   {
    "duration": 6,
    "start_time": "2024-07-12T10:03:43.959Z"
   },
   {
    "duration": 20,
    "start_time": "2024-07-12T10:03:43.966Z"
   },
   {
    "duration": 9,
    "start_time": "2024-07-12T10:03:43.987Z"
   },
   {
    "duration": 10,
    "start_time": "2024-07-12T10:03:43.997Z"
   },
   {
    "duration": 16,
    "start_time": "2024-07-12T10:03:44.008Z"
   },
   {
    "duration": 4,
    "start_time": "2024-07-12T10:03:44.025Z"
   },
   {
    "duration": 446,
    "start_time": "2024-07-12T10:03:44.030Z"
   },
   {
    "duration": 441,
    "start_time": "2024-07-12T10:03:44.477Z"
   },
   {
    "duration": 4,
    "start_time": "2024-07-12T10:03:44.919Z"
   },
   {
    "duration": 144,
    "start_time": "2024-07-12T10:03:44.924Z"
   },
   {
    "duration": 129,
    "start_time": "2024-07-12T10:03:45.070Z"
   },
   {
    "duration": 151,
    "start_time": "2024-07-12T10:03:45.200Z"
   },
   {
    "duration": 128,
    "start_time": "2024-07-12T10:03:45.353Z"
   },
   {
    "duration": 119,
    "start_time": "2024-07-12T10:03:45.483Z"
   },
   {
    "duration": 185,
    "start_time": "2024-07-12T10:03:45.604Z"
   },
   {
    "duration": 116,
    "start_time": "2024-07-12T10:03:45.791Z"
   },
   {
    "duration": 132,
    "start_time": "2024-07-12T10:03:45.909Z"
   },
   {
    "duration": 116,
    "start_time": "2024-07-12T10:03:46.042Z"
   },
   {
    "duration": 114,
    "start_time": "2024-07-12T10:03:46.159Z"
   },
   {
    "duration": 116,
    "start_time": "2024-07-12T10:03:46.281Z"
   },
   {
    "duration": 129,
    "start_time": "2024-07-12T10:03:46.399Z"
   },
   {
    "duration": 115,
    "start_time": "2024-07-12T10:03:46.529Z"
   },
   {
    "duration": 118,
    "start_time": "2024-07-12T10:03:46.646Z"
   },
   {
    "duration": 130,
    "start_time": "2024-07-12T10:03:46.765Z"
   },
   {
    "duration": 6,
    "start_time": "2024-07-12T10:12:28.513Z"
   },
   {
    "duration": 21,
    "start_time": "2024-07-12T10:12:38.804Z"
   },
   {
    "duration": 13,
    "start_time": "2024-07-12T10:13:45.844Z"
   },
   {
    "duration": 29,
    "start_time": "2024-07-12T10:13:50.679Z"
   },
   {
    "duration": 4,
    "start_time": "2024-07-12T10:14:12.824Z"
   },
   {
    "duration": 441,
    "start_time": "2024-07-12T10:14:21.082Z"
   },
   {
    "duration": 1095,
    "start_time": "2024-07-12T10:14:38.548Z"
   },
   {
    "duration": 95,
    "start_time": "2024-07-12T10:14:39.645Z"
   },
   {
    "duration": 13,
    "start_time": "2024-07-12T10:14:39.742Z"
   },
   {
    "duration": 12,
    "start_time": "2024-07-12T10:14:39.756Z"
   },
   {
    "duration": 9,
    "start_time": "2024-07-12T10:14:39.770Z"
   },
   {
    "duration": 10,
    "start_time": "2024-07-12T10:14:39.780Z"
   },
   {
    "duration": 15,
    "start_time": "2024-07-12T10:14:39.792Z"
   },
   {
    "duration": 11,
    "start_time": "2024-07-12T10:14:39.809Z"
   },
   {
    "duration": 9,
    "start_time": "2024-07-12T10:14:39.821Z"
   },
   {
    "duration": 9,
    "start_time": "2024-07-12T10:14:39.831Z"
   },
   {
    "duration": 8,
    "start_time": "2024-07-12T10:14:39.841Z"
   },
   {
    "duration": 12,
    "start_time": "2024-07-12T10:14:39.881Z"
   },
   {
    "duration": 10,
    "start_time": "2024-07-12T10:14:39.894Z"
   },
   {
    "duration": 6,
    "start_time": "2024-07-12T10:14:39.907Z"
   },
   {
    "duration": 10,
    "start_time": "2024-07-12T10:14:39.914Z"
   },
   {
    "duration": 6,
    "start_time": "2024-07-12T10:14:39.926Z"
   },
   {
    "duration": 8,
    "start_time": "2024-07-12T10:14:39.934Z"
   },
   {
    "duration": 39,
    "start_time": "2024-07-12T10:14:39.944Z"
   },
   {
    "duration": 4,
    "start_time": "2024-07-12T10:14:39.985Z"
   },
   {
    "duration": 12,
    "start_time": "2024-07-12T10:14:39.990Z"
   },
   {
    "duration": 35,
    "start_time": "2024-07-12T10:14:40.005Z"
   },
   {
    "duration": 27,
    "start_time": "2024-07-12T10:14:40.042Z"
   },
   {
    "duration": 33,
    "start_time": "2024-07-12T10:14:40.070Z"
   },
   {
    "duration": 16,
    "start_time": "2024-07-12T10:14:40.105Z"
   },
   {
    "duration": 25,
    "start_time": "2024-07-12T10:14:40.122Z"
   },
   {
    "duration": 12,
    "start_time": "2024-07-12T10:14:40.148Z"
   },
   {
    "duration": 64,
    "start_time": "2024-07-12T10:14:40.162Z"
   },
   {
    "duration": 27,
    "start_time": "2024-07-12T10:14:40.229Z"
   },
   {
    "duration": 33,
    "start_time": "2024-07-12T10:14:40.258Z"
   },
   {
    "duration": 19,
    "start_time": "2024-07-12T10:14:40.293Z"
   },
   {
    "duration": 4,
    "start_time": "2024-07-12T10:14:40.313Z"
   },
   {
    "duration": 12,
    "start_time": "2024-07-12T10:14:40.319Z"
   },
   {
    "duration": 6,
    "start_time": "2024-07-12T10:14:40.332Z"
   },
   {
    "duration": 25,
    "start_time": "2024-07-12T10:14:40.339Z"
   },
   {
    "duration": 22,
    "start_time": "2024-07-12T10:14:40.365Z"
   },
   {
    "duration": 20,
    "start_time": "2024-07-12T10:14:40.389Z"
   },
   {
    "duration": 5,
    "start_time": "2024-07-12T10:14:40.410Z"
   },
   {
    "duration": 547,
    "start_time": "2024-07-12T10:14:40.416Z"
   },
   {
    "duration": 498,
    "start_time": "2024-07-12T10:14:40.965Z"
   },
   {
    "duration": 426,
    "start_time": "2024-07-12T10:14:41.465Z"
   },
   {
    "duration": 5,
    "start_time": "2024-07-12T10:14:41.895Z"
   },
   {
    "duration": 158,
    "start_time": "2024-07-12T10:14:41.902Z"
   },
   {
    "duration": 139,
    "start_time": "2024-07-12T10:14:42.062Z"
   },
   {
    "duration": 146,
    "start_time": "2024-07-12T10:14:42.202Z"
   },
   {
    "duration": 194,
    "start_time": "2024-07-12T10:14:42.349Z"
   },
   {
    "duration": 123,
    "start_time": "2024-07-12T10:14:42.544Z"
   },
   {
    "duration": 153,
    "start_time": "2024-07-12T10:14:42.669Z"
   },
   {
    "duration": 127,
    "start_time": "2024-07-12T10:14:42.823Z"
   },
   {
    "duration": 147,
    "start_time": "2024-07-12T10:14:42.952Z"
   },
   {
    "duration": 138,
    "start_time": "2024-07-12T10:14:43.101Z"
   },
   {
    "duration": 121,
    "start_time": "2024-07-12T10:14:43.241Z"
   },
   {
    "duration": 119,
    "start_time": "2024-07-12T10:14:43.364Z"
   },
   {
    "duration": 122,
    "start_time": "2024-07-12T10:14:43.485Z"
   },
   {
    "duration": 121,
    "start_time": "2024-07-12T10:14:43.608Z"
   },
   {
    "duration": 130,
    "start_time": "2024-07-12T10:14:43.731Z"
   },
   {
    "duration": 137,
    "start_time": "2024-07-12T10:14:43.863Z"
   },
   {
    "duration": 122,
    "start_time": "2024-07-12T10:20:23.144Z"
   },
   {
    "duration": 3190,
    "start_time": "2024-07-12T10:20:34.278Z"
   },
   {
    "duration": 154,
    "start_time": "2024-07-12T10:20:50.151Z"
   },
   {
    "duration": 4218,
    "start_time": "2024-07-12T10:20:56.145Z"
   },
   {
    "duration": 4092,
    "start_time": "2024-07-12T10:21:07.239Z"
   },
   {
    "duration": 4101,
    "start_time": "2024-07-12T10:21:31.568Z"
   },
   {
    "duration": 23,
    "start_time": "2024-07-12T10:24:12.477Z"
   },
   {
    "duration": 1167,
    "start_time": "2024-07-12T10:24:37.682Z"
   },
   {
    "duration": 91,
    "start_time": "2024-07-12T10:24:38.851Z"
   },
   {
    "duration": 13,
    "start_time": "2024-07-12T10:24:38.943Z"
   },
   {
    "duration": 12,
    "start_time": "2024-07-12T10:24:38.958Z"
   },
   {
    "duration": 26,
    "start_time": "2024-07-12T10:24:38.972Z"
   },
   {
    "duration": 17,
    "start_time": "2024-07-12T10:24:38.999Z"
   },
   {
    "duration": 10,
    "start_time": "2024-07-12T10:24:39.017Z"
   },
   {
    "duration": 32,
    "start_time": "2024-07-12T10:24:39.029Z"
   },
   {
    "duration": 6,
    "start_time": "2024-07-12T10:24:39.062Z"
   },
   {
    "duration": 9,
    "start_time": "2024-07-12T10:24:39.071Z"
   },
   {
    "duration": 8,
    "start_time": "2024-07-12T10:24:39.081Z"
   },
   {
    "duration": 7,
    "start_time": "2024-07-12T10:24:39.090Z"
   },
   {
    "duration": 40,
    "start_time": "2024-07-12T10:24:39.098Z"
   },
   {
    "duration": 85,
    "start_time": "2024-07-12T10:24:39.139Z"
   },
   {
    "duration": 11,
    "start_time": "2024-07-12T10:24:39.225Z"
   },
   {
    "duration": 6,
    "start_time": "2024-07-12T10:24:39.238Z"
   },
   {
    "duration": 12,
    "start_time": "2024-07-12T10:24:39.246Z"
   },
   {
    "duration": 6,
    "start_time": "2024-07-12T10:24:39.259Z"
   },
   {
    "duration": 5,
    "start_time": "2024-07-12T10:24:39.266Z"
   },
   {
    "duration": 15,
    "start_time": "2024-07-12T10:24:39.272Z"
   },
   {
    "duration": 10,
    "start_time": "2024-07-12T10:24:39.288Z"
   },
   {
    "duration": 5,
    "start_time": "2024-07-12T10:24:39.299Z"
   },
   {
    "duration": 14,
    "start_time": "2024-07-12T10:24:39.306Z"
   },
   {
    "duration": 20,
    "start_time": "2024-07-12T10:24:39.321Z"
   },
   {
    "duration": 41,
    "start_time": "2024-07-12T10:24:39.342Z"
   },
   {
    "duration": 12,
    "start_time": "2024-07-12T10:24:39.384Z"
   },
   {
    "duration": 24,
    "start_time": "2024-07-12T10:24:39.398Z"
   },
   {
    "duration": 19,
    "start_time": "2024-07-12T10:24:39.426Z"
   },
   {
    "duration": 38,
    "start_time": "2024-07-12T10:24:39.446Z"
   },
   {
    "duration": 14,
    "start_time": "2024-07-12T10:24:39.486Z"
   },
   {
    "duration": 5,
    "start_time": "2024-07-12T10:24:39.502Z"
   },
   {
    "duration": 30,
    "start_time": "2024-07-12T10:24:39.508Z"
   },
   {
    "duration": 8,
    "start_time": "2024-07-12T10:24:39.540Z"
   },
   {
    "duration": 7,
    "start_time": "2024-07-12T10:24:39.549Z"
   },
   {
    "duration": 31,
    "start_time": "2024-07-12T10:24:39.557Z"
   },
   {
    "duration": 11,
    "start_time": "2024-07-12T10:24:39.589Z"
   },
   {
    "duration": 17,
    "start_time": "2024-07-12T10:24:39.602Z"
   },
   {
    "duration": 4,
    "start_time": "2024-07-12T10:24:39.620Z"
   },
   {
    "duration": 432,
    "start_time": "2024-07-12T10:24:39.626Z"
   },
   {
    "duration": 445,
    "start_time": "2024-07-12T10:24:40.060Z"
   },
   {
    "duration": 420,
    "start_time": "2024-07-12T10:24:40.506Z"
   },
   {
    "duration": 4,
    "start_time": "2024-07-12T10:24:40.927Z"
   },
   {
    "duration": 159,
    "start_time": "2024-07-12T10:24:40.933Z"
   },
   {
    "duration": 195,
    "start_time": "2024-07-12T10:24:41.093Z"
   },
   {
    "duration": 148,
    "start_time": "2024-07-12T10:24:41.290Z"
   },
   {
    "duration": 135,
    "start_time": "2024-07-12T10:24:41.439Z"
   },
   {
    "duration": 128,
    "start_time": "2024-07-12T10:24:41.575Z"
   },
   {
    "duration": 130,
    "start_time": "2024-07-12T10:24:41.704Z"
   },
   {
    "duration": 124,
    "start_time": "2024-07-12T10:24:41.835Z"
   },
   {
    "duration": 140,
    "start_time": "2024-07-12T10:24:41.961Z"
   },
   {
    "duration": 121,
    "start_time": "2024-07-12T10:24:42.102Z"
   },
   {
    "duration": 120,
    "start_time": "2024-07-12T10:24:42.225Z"
   },
   {
    "duration": 123,
    "start_time": "2024-07-12T10:24:42.347Z"
   },
   {
    "duration": 120,
    "start_time": "2024-07-12T10:24:42.472Z"
   },
   {
    "duration": 117,
    "start_time": "2024-07-12T10:24:42.593Z"
   },
   {
    "duration": 117,
    "start_time": "2024-07-12T10:24:42.712Z"
   },
   {
    "duration": 205,
    "start_time": "2024-07-12T10:24:42.830Z"
   },
   {
    "duration": 4197,
    "start_time": "2024-07-12T10:24:43.037Z"
   },
   {
    "duration": 4326,
    "start_time": "2024-07-12T10:25:19.274Z"
   },
   {
    "duration": 117,
    "start_time": "2024-07-12T10:26:11.814Z"
   },
   {
    "duration": 81,
    "start_time": "2024-07-12T10:26:39.993Z"
   },
   {
    "duration": 1186,
    "start_time": "2024-07-12T10:26:44.161Z"
   },
   {
    "duration": 90,
    "start_time": "2024-07-12T10:26:45.348Z"
   },
   {
    "duration": 19,
    "start_time": "2024-07-12T10:26:45.440Z"
   },
   {
    "duration": 35,
    "start_time": "2024-07-12T10:26:45.461Z"
   },
   {
    "duration": 10,
    "start_time": "2024-07-12T10:26:45.498Z"
   },
   {
    "duration": 23,
    "start_time": "2024-07-12T10:26:45.509Z"
   },
   {
    "duration": 20,
    "start_time": "2024-07-12T10:26:45.533Z"
   },
   {
    "duration": 16,
    "start_time": "2024-07-12T10:26:45.555Z"
   },
   {
    "duration": 26,
    "start_time": "2024-07-12T10:26:45.572Z"
   },
   {
    "duration": 18,
    "start_time": "2024-07-12T10:26:45.601Z"
   },
   {
    "duration": 10,
    "start_time": "2024-07-12T10:26:45.620Z"
   },
   {
    "duration": 8,
    "start_time": "2024-07-12T10:26:45.632Z"
   },
   {
    "duration": 19,
    "start_time": "2024-07-12T10:26:45.641Z"
   },
   {
    "duration": 7,
    "start_time": "2024-07-12T10:26:45.662Z"
   },
   {
    "duration": 13,
    "start_time": "2024-07-12T10:26:45.671Z"
   },
   {
    "duration": 9,
    "start_time": "2024-07-12T10:26:45.687Z"
   },
   {
    "duration": 10,
    "start_time": "2024-07-12T10:26:45.698Z"
   },
   {
    "duration": 11,
    "start_time": "2024-07-12T10:26:45.710Z"
   },
   {
    "duration": 7,
    "start_time": "2024-07-12T10:26:45.723Z"
   },
   {
    "duration": 9,
    "start_time": "2024-07-12T10:26:45.732Z"
   },
   {
    "duration": 14,
    "start_time": "2024-07-12T10:26:45.743Z"
   },
   {
    "duration": 25,
    "start_time": "2024-07-12T10:26:45.759Z"
   },
   {
    "duration": 19,
    "start_time": "2024-07-12T10:26:45.786Z"
   },
   {
    "duration": 26,
    "start_time": "2024-07-12T10:26:45.807Z"
   },
   {
    "duration": 26,
    "start_time": "2024-07-12T10:26:45.835Z"
   },
   {
    "duration": 13,
    "start_time": "2024-07-12T10:26:45.882Z"
   },
   {
    "duration": 60,
    "start_time": "2024-07-12T10:26:45.896Z"
   },
   {
    "duration": 18,
    "start_time": "2024-07-12T10:26:45.959Z"
   },
   {
    "duration": 16,
    "start_time": "2024-07-12T10:26:45.979Z"
   },
   {
    "duration": 16,
    "start_time": "2024-07-12T10:26:45.996Z"
   },
   {
    "duration": 4,
    "start_time": "2024-07-12T10:26:46.013Z"
   },
   {
    "duration": 26,
    "start_time": "2024-07-12T10:26:46.019Z"
   },
   {
    "duration": 20,
    "start_time": "2024-07-12T10:26:46.047Z"
   },
   {
    "duration": 13,
    "start_time": "2024-07-12T10:26:46.069Z"
   },
   {
    "duration": 8,
    "start_time": "2024-07-12T10:26:46.083Z"
   },
   {
    "duration": 13,
    "start_time": "2024-07-12T10:26:46.092Z"
   },
   {
    "duration": 17,
    "start_time": "2024-07-12T10:26:46.106Z"
   },
   {
    "duration": 4,
    "start_time": "2024-07-12T10:26:46.125Z"
   },
   {
    "duration": 427,
    "start_time": "2024-07-12T10:26:46.130Z"
   },
   {
    "duration": 440,
    "start_time": "2024-07-12T10:26:46.558Z"
   },
   {
    "duration": 429,
    "start_time": "2024-07-12T10:26:46.999Z"
   },
   {
    "duration": 5,
    "start_time": "2024-07-12T10:26:47.429Z"
   },
   {
    "duration": 151,
    "start_time": "2024-07-12T10:26:47.435Z"
   },
   {
    "duration": 199,
    "start_time": "2024-07-12T10:26:47.588Z"
   },
   {
    "duration": 152,
    "start_time": "2024-07-12T10:26:47.789Z"
   },
   {
    "duration": 140,
    "start_time": "2024-07-12T10:26:47.943Z"
   },
   {
    "duration": 128,
    "start_time": "2024-07-12T10:26:48.085Z"
   },
   {
    "duration": 125,
    "start_time": "2024-07-12T10:26:48.214Z"
   },
   {
    "duration": 123,
    "start_time": "2024-07-12T10:26:48.341Z"
   },
   {
    "duration": 138,
    "start_time": "2024-07-12T10:26:48.467Z"
   },
   {
    "duration": 129,
    "start_time": "2024-07-12T10:26:48.607Z"
   },
   {
    "duration": 128,
    "start_time": "2024-07-12T10:26:48.738Z"
   },
   {
    "duration": 120,
    "start_time": "2024-07-12T10:26:48.868Z"
   },
   {
    "duration": 124,
    "start_time": "2024-07-12T10:26:48.990Z"
   },
   {
    "duration": 116,
    "start_time": "2024-07-12T10:26:49.116Z"
   },
   {
    "duration": 119,
    "start_time": "2024-07-12T10:26:49.233Z"
   },
   {
    "duration": 200,
    "start_time": "2024-07-12T10:26:49.353Z"
   },
   {
    "duration": 117,
    "start_time": "2024-07-12T10:26:49.554Z"
   },
   {
    "duration": 4313,
    "start_time": "2024-07-12T10:26:49.673Z"
   },
   {
    "duration": 12,
    "start_time": "2024-07-12T10:27:59.909Z"
   },
   {
    "duration": 21,
    "start_time": "2024-07-12T10:28:10.878Z"
   },
   {
    "duration": 1116,
    "start_time": "2024-07-12T10:32:06.939Z"
   },
   {
    "duration": 109,
    "start_time": "2024-07-12T10:32:08.057Z"
   },
   {
    "duration": 14,
    "start_time": "2024-07-12T10:32:08.168Z"
   },
   {
    "duration": 32,
    "start_time": "2024-07-12T10:32:08.184Z"
   },
   {
    "duration": 15,
    "start_time": "2024-07-12T10:32:08.218Z"
   },
   {
    "duration": 16,
    "start_time": "2024-07-12T10:32:08.235Z"
   },
   {
    "duration": 52,
    "start_time": "2024-07-12T10:32:08.252Z"
   },
   {
    "duration": 49,
    "start_time": "2024-07-12T10:32:08.305Z"
   },
   {
    "duration": 6,
    "start_time": "2024-07-12T10:32:08.355Z"
   },
   {
    "duration": 9,
    "start_time": "2024-07-12T10:32:08.363Z"
   },
   {
    "duration": 8,
    "start_time": "2024-07-12T10:32:08.373Z"
   },
   {
    "duration": 9,
    "start_time": "2024-07-12T10:32:08.382Z"
   },
   {
    "duration": 7,
    "start_time": "2024-07-12T10:32:08.392Z"
   },
   {
    "duration": 6,
    "start_time": "2024-07-12T10:32:08.400Z"
   },
   {
    "duration": 10,
    "start_time": "2024-07-12T10:32:08.408Z"
   },
   {
    "duration": 18,
    "start_time": "2024-07-12T10:32:08.420Z"
   },
   {
    "duration": 25,
    "start_time": "2024-07-12T10:32:08.440Z"
   },
   {
    "duration": 16,
    "start_time": "2024-07-12T10:32:08.467Z"
   },
   {
    "duration": 5,
    "start_time": "2024-07-12T10:32:08.484Z"
   },
   {
    "duration": 120,
    "start_time": "2024-07-12T10:32:08.490Z"
   },
   {
    "duration": 765,
    "start_time": "2024-07-12T10:32:08.611Z"
   },
   {
    "duration": 0,
    "start_time": "2024-07-12T10:32:09.378Z"
   },
   {
    "duration": 0,
    "start_time": "2024-07-12T10:32:09.380Z"
   },
   {
    "duration": 0,
    "start_time": "2024-07-12T10:32:09.381Z"
   },
   {
    "duration": 0,
    "start_time": "2024-07-12T10:32:09.382Z"
   },
   {
    "duration": 1,
    "start_time": "2024-07-12T10:32:09.383Z"
   },
   {
    "duration": 0,
    "start_time": "2024-07-12T10:32:09.385Z"
   },
   {
    "duration": 1,
    "start_time": "2024-07-12T10:32:09.386Z"
   },
   {
    "duration": 0,
    "start_time": "2024-07-12T10:32:09.387Z"
   },
   {
    "duration": 0,
    "start_time": "2024-07-12T10:32:09.389Z"
   },
   {
    "duration": 0,
    "start_time": "2024-07-12T10:32:09.390Z"
   },
   {
    "duration": 0,
    "start_time": "2024-07-12T10:32:09.391Z"
   },
   {
    "duration": 0,
    "start_time": "2024-07-12T10:32:09.392Z"
   },
   {
    "duration": 0,
    "start_time": "2024-07-12T10:32:09.394Z"
   },
   {
    "duration": 0,
    "start_time": "2024-07-12T10:32:09.395Z"
   },
   {
    "duration": 0,
    "start_time": "2024-07-12T10:32:09.396Z"
   },
   {
    "duration": 0,
    "start_time": "2024-07-12T10:32:09.397Z"
   },
   {
    "duration": 0,
    "start_time": "2024-07-12T10:32:09.399Z"
   },
   {
    "duration": 0,
    "start_time": "2024-07-12T10:32:09.400Z"
   },
   {
    "duration": 0,
    "start_time": "2024-07-12T10:32:09.401Z"
   },
   {
    "duration": 0,
    "start_time": "2024-07-12T10:32:09.403Z"
   },
   {
    "duration": 0,
    "start_time": "2024-07-12T10:32:09.404Z"
   },
   {
    "duration": 0,
    "start_time": "2024-07-12T10:32:09.406Z"
   },
   {
    "duration": 0,
    "start_time": "2024-07-12T10:32:09.407Z"
   },
   {
    "duration": 0,
    "start_time": "2024-07-12T10:32:09.408Z"
   },
   {
    "duration": 0,
    "start_time": "2024-07-12T10:32:09.409Z"
   },
   {
    "duration": 0,
    "start_time": "2024-07-12T10:32:09.411Z"
   },
   {
    "duration": 0,
    "start_time": "2024-07-12T10:32:09.412Z"
   },
   {
    "duration": 0,
    "start_time": "2024-07-12T10:32:09.414Z"
   },
   {
    "duration": 0,
    "start_time": "2024-07-12T10:32:09.415Z"
   },
   {
    "duration": 0,
    "start_time": "2024-07-12T10:32:09.417Z"
   },
   {
    "duration": 0,
    "start_time": "2024-07-12T10:32:09.418Z"
   },
   {
    "duration": 0,
    "start_time": "2024-07-12T10:32:09.419Z"
   },
   {
    "duration": 0,
    "start_time": "2024-07-12T10:32:09.481Z"
   },
   {
    "duration": 0,
    "start_time": "2024-07-12T10:32:09.482Z"
   },
   {
    "duration": 0,
    "start_time": "2024-07-12T10:32:09.483Z"
   },
   {
    "duration": 0,
    "start_time": "2024-07-12T10:32:09.484Z"
   },
   {
    "duration": 0,
    "start_time": "2024-07-12T10:32:09.485Z"
   },
   {
    "duration": 0,
    "start_time": "2024-07-12T10:32:09.486Z"
   },
   {
    "duration": 0,
    "start_time": "2024-07-12T10:32:09.487Z"
   },
   {
    "duration": 0,
    "start_time": "2024-07-12T10:32:09.488Z"
   },
   {
    "duration": 2,
    "start_time": "2024-07-12T10:32:59.459Z"
   },
   {
    "duration": 1152,
    "start_time": "2024-07-12T10:33:04.999Z"
   },
   {
    "duration": 96,
    "start_time": "2024-07-12T10:33:06.152Z"
   },
   {
    "duration": 14,
    "start_time": "2024-07-12T10:33:06.249Z"
   },
   {
    "duration": 14,
    "start_time": "2024-07-12T10:33:06.264Z"
   },
   {
    "duration": 7,
    "start_time": "2024-07-12T10:33:06.280Z"
   },
   {
    "duration": 10,
    "start_time": "2024-07-12T10:33:06.289Z"
   },
   {
    "duration": 21,
    "start_time": "2024-07-12T10:33:06.301Z"
   },
   {
    "duration": 11,
    "start_time": "2024-07-12T10:33:06.323Z"
   },
   {
    "duration": 12,
    "start_time": "2024-07-12T10:33:06.335Z"
   },
   {
    "duration": 32,
    "start_time": "2024-07-12T10:33:06.349Z"
   },
   {
    "duration": 36,
    "start_time": "2024-07-12T10:33:06.382Z"
   },
   {
    "duration": 18,
    "start_time": "2024-07-12T10:33:06.420Z"
   },
   {
    "duration": 7,
    "start_time": "2024-07-12T10:33:06.439Z"
   },
   {
    "duration": 16,
    "start_time": "2024-07-12T10:33:06.449Z"
   },
   {
    "duration": 17,
    "start_time": "2024-07-12T10:33:06.466Z"
   },
   {
    "duration": 54,
    "start_time": "2024-07-12T10:33:06.485Z"
   },
   {
    "duration": 84,
    "start_time": "2024-07-12T10:33:06.540Z"
   },
   {
    "duration": 6,
    "start_time": "2024-07-12T10:33:06.625Z"
   },
   {
    "duration": 6,
    "start_time": "2024-07-12T10:33:06.632Z"
   },
   {
    "duration": 6,
    "start_time": "2024-07-12T10:33:06.639Z"
   },
   {
    "duration": 3,
    "start_time": "2024-07-12T10:33:06.647Z"
   },
   {
    "duration": 7,
    "start_time": "2024-07-12T10:33:06.652Z"
   },
   {
    "duration": 21,
    "start_time": "2024-07-12T10:33:06.660Z"
   },
   {
    "duration": 17,
    "start_time": "2024-07-12T10:33:06.683Z"
   },
   {
    "duration": 24,
    "start_time": "2024-07-12T10:33:06.702Z"
   },
   {
    "duration": 13,
    "start_time": "2024-07-12T10:33:06.728Z"
   },
   {
    "duration": 50,
    "start_time": "2024-07-12T10:33:06.742Z"
   },
   {
    "duration": 19,
    "start_time": "2024-07-12T10:33:06.793Z"
   },
   {
    "duration": 26,
    "start_time": "2024-07-12T10:33:06.814Z"
   },
   {
    "duration": 16,
    "start_time": "2024-07-12T10:33:06.841Z"
   },
   {
    "duration": 127,
    "start_time": "2024-07-12T10:33:06.858Z"
   },
   {
    "duration": 0,
    "start_time": "2024-07-12T10:33:06.988Z"
   },
   {
    "duration": 0,
    "start_time": "2024-07-12T10:33:06.988Z"
   },
   {
    "duration": 0,
    "start_time": "2024-07-12T10:33:06.990Z"
   },
   {
    "duration": 0,
    "start_time": "2024-07-12T10:33:06.991Z"
   },
   {
    "duration": 0,
    "start_time": "2024-07-12T10:33:06.991Z"
   },
   {
    "duration": 0,
    "start_time": "2024-07-12T10:33:06.993Z"
   },
   {
    "duration": 0,
    "start_time": "2024-07-12T10:33:06.994Z"
   },
   {
    "duration": 0,
    "start_time": "2024-07-12T10:33:06.994Z"
   },
   {
    "duration": 0,
    "start_time": "2024-07-12T10:33:06.996Z"
   },
   {
    "duration": 0,
    "start_time": "2024-07-12T10:33:06.996Z"
   },
   {
    "duration": 0,
    "start_time": "2024-07-12T10:33:06.997Z"
   },
   {
    "duration": 0,
    "start_time": "2024-07-12T10:33:06.998Z"
   },
   {
    "duration": 0,
    "start_time": "2024-07-12T10:33:06.999Z"
   },
   {
    "duration": 0,
    "start_time": "2024-07-12T10:33:07.000Z"
   },
   {
    "duration": 0,
    "start_time": "2024-07-12T10:33:07.001Z"
   },
   {
    "duration": 0,
    "start_time": "2024-07-12T10:33:07.002Z"
   },
   {
    "duration": 0,
    "start_time": "2024-07-12T10:33:07.003Z"
   },
   {
    "duration": 0,
    "start_time": "2024-07-12T10:33:07.004Z"
   },
   {
    "duration": 0,
    "start_time": "2024-07-12T10:33:07.005Z"
   },
   {
    "duration": 0,
    "start_time": "2024-07-12T10:33:07.006Z"
   },
   {
    "duration": 0,
    "start_time": "2024-07-12T10:33:07.007Z"
   },
   {
    "duration": 0,
    "start_time": "2024-07-12T10:33:07.008Z"
   },
   {
    "duration": 0,
    "start_time": "2024-07-12T10:33:07.009Z"
   },
   {
    "duration": 0,
    "start_time": "2024-07-12T10:33:07.010Z"
   },
   {
    "duration": 0,
    "start_time": "2024-07-12T10:33:07.011Z"
   },
   {
    "duration": 0,
    "start_time": "2024-07-12T10:33:07.012Z"
   },
   {
    "duration": 0,
    "start_time": "2024-07-12T10:33:07.013Z"
   },
   {
    "duration": 0,
    "start_time": "2024-07-12T10:33:07.014Z"
   },
   {
    "duration": 0,
    "start_time": "2024-07-12T10:33:07.014Z"
   },
   {
    "duration": 0,
    "start_time": "2024-07-12T10:33:07.015Z"
   },
   {
    "duration": 6,
    "start_time": "2024-07-12T10:33:53.104Z"
   },
   {
    "duration": 10,
    "start_time": "2024-07-12T10:35:41.509Z"
   },
   {
    "duration": 12,
    "start_time": "2024-07-12T10:35:51.272Z"
   },
   {
    "duration": 14,
    "start_time": "2024-07-12T10:36:18.290Z"
   },
   {
    "duration": 1118,
    "start_time": "2024-07-12T10:36:23.451Z"
   },
   {
    "duration": 95,
    "start_time": "2024-07-12T10:36:24.570Z"
   },
   {
    "duration": 14,
    "start_time": "2024-07-12T10:36:24.666Z"
   },
   {
    "duration": 12,
    "start_time": "2024-07-12T10:36:24.682Z"
   },
   {
    "duration": 40,
    "start_time": "2024-07-12T10:36:24.695Z"
   },
   {
    "duration": 31,
    "start_time": "2024-07-12T10:36:24.736Z"
   },
   {
    "duration": 20,
    "start_time": "2024-07-12T10:36:24.768Z"
   },
   {
    "duration": 11,
    "start_time": "2024-07-12T10:36:24.790Z"
   },
   {
    "duration": 17,
    "start_time": "2024-07-12T10:36:24.802Z"
   },
   {
    "duration": 17,
    "start_time": "2024-07-12T10:36:24.821Z"
   },
   {
    "duration": 12,
    "start_time": "2024-07-12T10:36:24.840Z"
   },
   {
    "duration": 17,
    "start_time": "2024-07-12T10:36:24.853Z"
   },
   {
    "duration": 15,
    "start_time": "2024-07-12T10:36:24.872Z"
   },
   {
    "duration": 28,
    "start_time": "2024-07-12T10:36:24.889Z"
   },
   {
    "duration": 27,
    "start_time": "2024-07-12T10:36:24.919Z"
   },
   {
    "duration": 7,
    "start_time": "2024-07-12T10:36:24.947Z"
   },
   {
    "duration": 11,
    "start_time": "2024-07-12T10:36:24.955Z"
   },
   {
    "duration": 20,
    "start_time": "2024-07-12T10:36:24.967Z"
   },
   {
    "duration": 9,
    "start_time": "2024-07-12T10:36:24.989Z"
   },
   {
    "duration": 24,
    "start_time": "2024-07-12T10:36:24.999Z"
   },
   {
    "duration": 31,
    "start_time": "2024-07-12T10:36:25.024Z"
   },
   {
    "duration": 18,
    "start_time": "2024-07-12T10:36:25.056Z"
   },
   {
    "duration": 15,
    "start_time": "2024-07-12T10:36:25.076Z"
   },
   {
    "duration": 18,
    "start_time": "2024-07-12T10:36:25.093Z"
   },
   {
    "duration": 36,
    "start_time": "2024-07-12T10:36:25.112Z"
   },
   {
    "duration": 12,
    "start_time": "2024-07-12T10:36:25.149Z"
   },
   {
    "duration": 117,
    "start_time": "2024-07-12T10:36:25.162Z"
   },
   {
    "duration": 17,
    "start_time": "2024-07-12T10:36:25.283Z"
   },
   {
    "duration": 15,
    "start_time": "2024-07-12T10:36:25.302Z"
   },
   {
    "duration": 13,
    "start_time": "2024-07-12T10:36:25.319Z"
   },
   {
    "duration": 12,
    "start_time": "2024-07-12T10:36:25.333Z"
   },
   {
    "duration": 38,
    "start_time": "2024-07-12T10:36:25.346Z"
   },
   {
    "duration": 23,
    "start_time": "2024-07-12T10:36:25.385Z"
   },
   {
    "duration": 9,
    "start_time": "2024-07-12T10:36:25.410Z"
   },
   {
    "duration": 8,
    "start_time": "2024-07-12T10:36:25.420Z"
   },
   {
    "duration": 11,
    "start_time": "2024-07-12T10:36:25.430Z"
   },
   {
    "duration": 17,
    "start_time": "2024-07-12T10:36:25.442Z"
   },
   {
    "duration": 22,
    "start_time": "2024-07-12T10:36:25.460Z"
   },
   {
    "duration": 27,
    "start_time": "2024-07-12T10:36:25.484Z"
   },
   {
    "duration": 12,
    "start_time": "2024-07-12T10:36:25.512Z"
   },
   {
    "duration": 409,
    "start_time": "2024-07-12T10:36:25.526Z"
   },
   {
    "duration": 404,
    "start_time": "2024-07-12T10:36:25.936Z"
   },
   {
    "duration": 412,
    "start_time": "2024-07-12T10:36:26.341Z"
   },
   {
    "duration": 5,
    "start_time": "2024-07-12T10:36:26.755Z"
   },
   {
    "duration": 160,
    "start_time": "2024-07-12T10:36:26.761Z"
   },
   {
    "duration": 196,
    "start_time": "2024-07-12T10:36:26.922Z"
   },
   {
    "duration": 145,
    "start_time": "2024-07-12T10:36:27.120Z"
   },
   {
    "duration": 132,
    "start_time": "2024-07-12T10:36:27.266Z"
   },
   {
    "duration": 119,
    "start_time": "2024-07-12T10:36:27.400Z"
   },
   {
    "duration": 118,
    "start_time": "2024-07-12T10:36:27.521Z"
   },
   {
    "duration": 126,
    "start_time": "2024-07-12T10:36:27.640Z"
   },
   {
    "duration": 131,
    "start_time": "2024-07-12T10:36:27.768Z"
   },
   {
    "duration": 123,
    "start_time": "2024-07-12T10:36:27.900Z"
   },
   {
    "duration": 121,
    "start_time": "2024-07-12T10:36:28.025Z"
   },
   {
    "duration": 116,
    "start_time": "2024-07-12T10:36:28.147Z"
   },
   {
    "duration": 117,
    "start_time": "2024-07-12T10:36:28.265Z"
   },
   {
    "duration": 114,
    "start_time": "2024-07-12T10:36:28.383Z"
   },
   {
    "duration": 117,
    "start_time": "2024-07-12T10:36:28.499Z"
   },
   {
    "duration": 207,
    "start_time": "2024-07-12T10:36:28.617Z"
   },
   {
    "duration": 124,
    "start_time": "2024-07-12T10:36:28.826Z"
   },
   {
    "duration": 4434,
    "start_time": "2024-07-12T10:36:28.952Z"
   },
   {
    "duration": 5,
    "start_time": "2024-07-12T10:38:27.630Z"
   },
   {
    "duration": 20,
    "start_time": "2024-07-12T10:39:05.840Z"
   },
   {
    "duration": 5,
    "start_time": "2024-07-12T10:39:06.938Z"
   },
   {
    "duration": 67,
    "start_time": "2024-07-12T10:39:23.230Z"
   },
   {
    "duration": 121,
    "start_time": "2024-07-12T10:39:36.150Z"
   },
   {
    "duration": 34,
    "start_time": "2024-07-12T10:40:45.296Z"
   },
   {
    "duration": 1175,
    "start_time": "2024-07-12T10:40:53.464Z"
   },
   {
    "duration": 94,
    "start_time": "2024-07-12T10:40:54.641Z"
   },
   {
    "duration": 14,
    "start_time": "2024-07-12T10:40:54.737Z"
   },
   {
    "duration": 18,
    "start_time": "2024-07-12T10:40:54.752Z"
   },
   {
    "duration": 7,
    "start_time": "2024-07-12T10:40:54.772Z"
   },
   {
    "duration": 10,
    "start_time": "2024-07-12T10:40:54.781Z"
   },
   {
    "duration": 10,
    "start_time": "2024-07-12T10:40:54.792Z"
   },
   {
    "duration": 18,
    "start_time": "2024-07-12T10:40:54.803Z"
   },
   {
    "duration": 15,
    "start_time": "2024-07-12T10:40:54.822Z"
   },
   {
    "duration": 10,
    "start_time": "2024-07-12T10:40:54.838Z"
   },
   {
    "duration": 9,
    "start_time": "2024-07-12T10:40:54.850Z"
   },
   {
    "duration": 23,
    "start_time": "2024-07-12T10:40:54.861Z"
   },
   {
    "duration": 6,
    "start_time": "2024-07-12T10:40:54.886Z"
   },
   {
    "duration": 9,
    "start_time": "2024-07-12T10:40:54.895Z"
   },
   {
    "duration": 13,
    "start_time": "2024-07-12T10:40:54.905Z"
   },
   {
    "duration": 6,
    "start_time": "2024-07-12T10:40:54.920Z"
   },
   {
    "duration": 11,
    "start_time": "2024-07-12T10:40:54.928Z"
   },
   {
    "duration": 7,
    "start_time": "2024-07-12T10:40:54.940Z"
   },
   {
    "duration": 33,
    "start_time": "2024-07-12T10:40:54.949Z"
   },
   {
    "duration": 18,
    "start_time": "2024-07-12T10:40:54.984Z"
   },
   {
    "duration": 13,
    "start_time": "2024-07-12T10:40:55.003Z"
   },
   {
    "duration": 6,
    "start_time": "2024-07-12T10:40:55.017Z"
   },
   {
    "duration": 24,
    "start_time": "2024-07-12T10:40:55.024Z"
   },
   {
    "duration": 28,
    "start_time": "2024-07-12T10:40:55.050Z"
   },
   {
    "duration": 26,
    "start_time": "2024-07-12T10:40:55.079Z"
   },
   {
    "duration": 13,
    "start_time": "2024-07-12T10:40:55.107Z"
   },
   {
    "duration": 26,
    "start_time": "2024-07-12T10:40:55.121Z"
   },
   {
    "duration": 39,
    "start_time": "2024-07-12T10:40:55.149Z"
   },
   {
    "duration": 105,
    "start_time": "2024-07-12T10:40:55.190Z"
   },
   {
    "duration": 15,
    "start_time": "2024-07-12T10:40:55.297Z"
   },
   {
    "duration": 4,
    "start_time": "2024-07-12T10:40:55.314Z"
   },
   {
    "duration": 35,
    "start_time": "2024-07-12T10:40:55.320Z"
   },
   {
    "duration": 31,
    "start_time": "2024-07-12T10:40:55.357Z"
   },
   {
    "duration": 9,
    "start_time": "2024-07-12T10:40:55.390Z"
   },
   {
    "duration": 9,
    "start_time": "2024-07-12T10:40:55.401Z"
   },
   {
    "duration": 15,
    "start_time": "2024-07-12T10:40:55.412Z"
   },
   {
    "duration": 54,
    "start_time": "2024-07-12T10:40:55.429Z"
   },
   {
    "duration": 17,
    "start_time": "2024-07-12T10:40:55.484Z"
   },
   {
    "duration": 23,
    "start_time": "2024-07-12T10:40:55.503Z"
   },
   {
    "duration": 4,
    "start_time": "2024-07-12T10:40:55.528Z"
   },
   {
    "duration": 459,
    "start_time": "2024-07-12T10:40:55.537Z"
   },
   {
    "duration": 430,
    "start_time": "2024-07-12T10:40:55.998Z"
   },
   {
    "duration": 427,
    "start_time": "2024-07-12T10:40:56.430Z"
   },
   {
    "duration": 5,
    "start_time": "2024-07-12T10:40:56.859Z"
   },
   {
    "duration": 149,
    "start_time": "2024-07-12T10:40:56.865Z"
   },
   {
    "duration": 213,
    "start_time": "2024-07-12T10:40:57.015Z"
   },
   {
    "duration": 153,
    "start_time": "2024-07-12T10:40:57.229Z"
   },
   {
    "duration": 132,
    "start_time": "2024-07-12T10:40:57.383Z"
   },
   {
    "duration": 125,
    "start_time": "2024-07-12T10:40:57.517Z"
   },
   {
    "duration": 128,
    "start_time": "2024-07-12T10:40:57.644Z"
   },
   {
    "duration": 124,
    "start_time": "2024-07-12T10:40:57.773Z"
   },
   {
    "duration": 136,
    "start_time": "2024-07-12T10:40:57.898Z"
   },
   {
    "duration": 137,
    "start_time": "2024-07-12T10:40:58.035Z"
   },
   {
    "duration": 126,
    "start_time": "2024-07-12T10:40:58.174Z"
   },
   {
    "duration": 116,
    "start_time": "2024-07-12T10:40:58.301Z"
   },
   {
    "duration": 123,
    "start_time": "2024-07-12T10:40:58.418Z"
   },
   {
    "duration": 122,
    "start_time": "2024-07-12T10:40:58.543Z"
   },
   {
    "duration": 128,
    "start_time": "2024-07-12T10:40:58.667Z"
   },
   {
    "duration": 215,
    "start_time": "2024-07-12T10:40:58.797Z"
   },
   {
    "duration": 129,
    "start_time": "2024-07-12T10:40:59.014Z"
   },
   {
    "duration": 4797,
    "start_time": "2024-07-12T10:40:59.145Z"
   },
   {
    "duration": 1180,
    "start_time": "2024-07-12T11:06:33.161Z"
   },
   {
    "duration": 94,
    "start_time": "2024-07-12T11:06:34.343Z"
   },
   {
    "duration": 13,
    "start_time": "2024-07-12T11:06:34.438Z"
   },
   {
    "duration": 11,
    "start_time": "2024-07-12T11:06:34.453Z"
   },
   {
    "duration": 10,
    "start_time": "2024-07-12T11:06:34.466Z"
   },
   {
    "duration": 11,
    "start_time": "2024-07-12T11:06:34.478Z"
   },
   {
    "duration": 15,
    "start_time": "2024-07-12T11:06:34.491Z"
   },
   {
    "duration": 11,
    "start_time": "2024-07-12T11:06:34.507Z"
   },
   {
    "duration": 6,
    "start_time": "2024-07-12T11:06:34.519Z"
   },
   {
    "duration": 8,
    "start_time": "2024-07-12T11:06:34.527Z"
   },
   {
    "duration": 9,
    "start_time": "2024-07-12T11:06:34.537Z"
   },
   {
    "duration": 6,
    "start_time": "2024-07-12T11:06:34.547Z"
   },
   {
    "duration": 9,
    "start_time": "2024-07-12T11:06:34.582Z"
   },
   {
    "duration": 44,
    "start_time": "2024-07-12T11:06:34.593Z"
   },
   {
    "duration": 22,
    "start_time": "2024-07-12T11:06:34.638Z"
   },
   {
    "duration": 13,
    "start_time": "2024-07-12T11:06:34.662Z"
   },
   {
    "duration": 7,
    "start_time": "2024-07-12T11:06:34.677Z"
   },
   {
    "duration": 71,
    "start_time": "2024-07-12T11:06:34.686Z"
   },
   {
    "duration": 3,
    "start_time": "2024-07-12T11:06:34.758Z"
   },
   {
    "duration": 7,
    "start_time": "2024-07-12T11:06:34.762Z"
   },
   {
    "duration": 9,
    "start_time": "2024-07-12T11:06:34.770Z"
   },
   {
    "duration": 8,
    "start_time": "2024-07-12T11:06:34.780Z"
   },
   {
    "duration": 11,
    "start_time": "2024-07-12T11:06:34.790Z"
   },
   {
    "duration": 15,
    "start_time": "2024-07-12T11:06:34.803Z"
   },
   {
    "duration": 25,
    "start_time": "2024-07-12T11:06:34.819Z"
   },
   {
    "duration": 42,
    "start_time": "2024-07-12T11:06:34.845Z"
   },
   {
    "duration": 29,
    "start_time": "2024-07-12T11:06:34.889Z"
   },
   {
    "duration": 17,
    "start_time": "2024-07-12T11:06:34.922Z"
   },
   {
    "duration": 17,
    "start_time": "2024-07-12T11:06:34.940Z"
   },
   {
    "duration": 35,
    "start_time": "2024-07-12T11:06:34.959Z"
   },
   {
    "duration": 5,
    "start_time": "2024-07-12T11:06:34.996Z"
   },
   {
    "duration": 47,
    "start_time": "2024-07-12T11:06:35.003Z"
   },
   {
    "duration": 21,
    "start_time": "2024-07-12T11:06:35.051Z"
   },
   {
    "duration": 15,
    "start_time": "2024-07-12T11:06:35.074Z"
   },
   {
    "duration": 24,
    "start_time": "2024-07-12T11:06:35.091Z"
   },
   {
    "duration": 15,
    "start_time": "2024-07-12T11:06:35.117Z"
   },
   {
    "duration": 14,
    "start_time": "2024-07-12T11:06:35.134Z"
   },
   {
    "duration": 25,
    "start_time": "2024-07-12T11:06:35.150Z"
   },
   {
    "duration": 4,
    "start_time": "2024-07-12T11:06:35.177Z"
   },
   {
    "duration": 465,
    "start_time": "2024-07-12T11:06:35.182Z"
   },
   {
    "duration": 484,
    "start_time": "2024-07-12T11:06:35.648Z"
   },
   {
    "duration": 451,
    "start_time": "2024-07-12T11:06:36.133Z"
   },
   {
    "duration": 6,
    "start_time": "2024-07-12T11:06:36.586Z"
   },
   {
    "duration": 239,
    "start_time": "2024-07-12T11:06:36.594Z"
   },
   {
    "duration": 211,
    "start_time": "2024-07-12T11:06:36.835Z"
   },
   {
    "duration": 170,
    "start_time": "2024-07-12T11:06:37.047Z"
   },
   {
    "duration": 146,
    "start_time": "2024-07-12T11:06:37.219Z"
   },
   {
    "duration": 143,
    "start_time": "2024-07-12T11:06:37.366Z"
   },
   {
    "duration": 135,
    "start_time": "2024-07-12T11:06:37.511Z"
   },
   {
    "duration": 117,
    "start_time": "2024-07-12T11:06:37.648Z"
   },
   {
    "duration": 160,
    "start_time": "2024-07-12T11:06:37.767Z"
   },
   {
    "duration": 120,
    "start_time": "2024-07-12T11:06:37.929Z"
   },
   {
    "duration": 151,
    "start_time": "2024-07-12T11:06:38.050Z"
   },
   {
    "duration": 136,
    "start_time": "2024-07-12T11:06:38.203Z"
   },
   {
    "duration": 134,
    "start_time": "2024-07-12T11:06:38.341Z"
   },
   {
    "duration": 140,
    "start_time": "2024-07-12T11:06:38.477Z"
   },
   {
    "duration": 115,
    "start_time": "2024-07-12T11:06:38.619Z"
   },
   {
    "duration": 210,
    "start_time": "2024-07-12T11:06:38.736Z"
   },
   {
    "duration": 123,
    "start_time": "2024-07-12T11:06:38.947Z"
   },
   {
    "duration": 3966,
    "start_time": "2024-07-12T11:06:39.072Z"
   },
   {
    "duration": 3886,
    "start_time": "2024-07-12T11:07:07.662Z"
   },
   {
    "duration": 97,
    "start_time": "2024-07-12T11:23:36.363Z"
   },
   {
    "duration": 233,
    "start_time": "2024-07-12T11:23:52.417Z"
   },
   {
    "duration": 10,
    "start_time": "2024-07-12T11:23:57.749Z"
   },
   {
    "duration": 9,
    "start_time": "2024-07-12T11:25:27.770Z"
   },
   {
    "duration": 11,
    "start_time": "2024-07-12T11:30:16.788Z"
   },
   {
    "duration": 18,
    "start_time": "2024-07-12T11:30:17.091Z"
   },
   {
    "duration": 44,
    "start_time": "2024-07-12T11:30:45.123Z"
   },
   {
    "duration": 4,
    "start_time": "2024-07-12T11:30:50.158Z"
   },
   {
    "duration": 46,
    "start_time": "2024-07-13T11:02:01.262Z"
   },
   {
    "duration": 1501,
    "start_time": "2024-07-13T11:02:06.526Z"
   },
   {
    "duration": 0,
    "start_time": "2024-07-13T11:02:08.030Z"
   },
   {
    "duration": 0,
    "start_time": "2024-07-13T11:02:08.031Z"
   },
   {
    "duration": 0,
    "start_time": "2024-07-13T11:02:08.032Z"
   },
   {
    "duration": 0,
    "start_time": "2024-07-13T11:02:08.033Z"
   },
   {
    "duration": 0,
    "start_time": "2024-07-13T11:02:08.034Z"
   },
   {
    "duration": 0,
    "start_time": "2024-07-13T11:02:08.035Z"
   },
   {
    "duration": 0,
    "start_time": "2024-07-13T11:02:08.036Z"
   },
   {
    "duration": 0,
    "start_time": "2024-07-13T11:02:08.037Z"
   },
   {
    "duration": 0,
    "start_time": "2024-07-13T11:02:08.038Z"
   },
   {
    "duration": 0,
    "start_time": "2024-07-13T11:02:08.039Z"
   },
   {
    "duration": 0,
    "start_time": "2024-07-13T11:02:08.040Z"
   },
   {
    "duration": 0,
    "start_time": "2024-07-13T11:02:08.041Z"
   },
   {
    "duration": 0,
    "start_time": "2024-07-13T11:02:08.042Z"
   },
   {
    "duration": 0,
    "start_time": "2024-07-13T11:02:08.061Z"
   },
   {
    "duration": 0,
    "start_time": "2024-07-13T11:02:08.063Z"
   },
   {
    "duration": 0,
    "start_time": "2024-07-13T11:02:08.064Z"
   },
   {
    "duration": 0,
    "start_time": "2024-07-13T11:02:08.066Z"
   },
   {
    "duration": 0,
    "start_time": "2024-07-13T11:02:08.068Z"
   },
   {
    "duration": 0,
    "start_time": "2024-07-13T11:02:08.070Z"
   },
   {
    "duration": 0,
    "start_time": "2024-07-13T11:02:08.072Z"
   },
   {
    "duration": 1,
    "start_time": "2024-07-13T11:02:08.073Z"
   },
   {
    "duration": 0,
    "start_time": "2024-07-13T11:02:08.075Z"
   },
   {
    "duration": 0,
    "start_time": "2024-07-13T11:02:08.077Z"
   },
   {
    "duration": 0,
    "start_time": "2024-07-13T11:02:08.078Z"
   },
   {
    "duration": 0,
    "start_time": "2024-07-13T11:02:08.079Z"
   },
   {
    "duration": 0,
    "start_time": "2024-07-13T11:02:08.080Z"
   },
   {
    "duration": 0,
    "start_time": "2024-07-13T11:02:08.081Z"
   },
   {
    "duration": 0,
    "start_time": "2024-07-13T11:02:08.082Z"
   },
   {
    "duration": 0,
    "start_time": "2024-07-13T11:02:08.083Z"
   },
   {
    "duration": 0,
    "start_time": "2024-07-13T11:02:08.084Z"
   },
   {
    "duration": 0,
    "start_time": "2024-07-13T11:02:08.085Z"
   },
   {
    "duration": 0,
    "start_time": "2024-07-13T11:02:08.086Z"
   },
   {
    "duration": 0,
    "start_time": "2024-07-13T11:02:08.087Z"
   },
   {
    "duration": 0,
    "start_time": "2024-07-13T11:02:08.087Z"
   },
   {
    "duration": 0,
    "start_time": "2024-07-13T11:02:08.089Z"
   },
   {
    "duration": 0,
    "start_time": "2024-07-13T11:02:08.090Z"
   },
   {
    "duration": 0,
    "start_time": "2024-07-13T11:02:08.091Z"
   },
   {
    "duration": 0,
    "start_time": "2024-07-13T11:02:08.092Z"
   },
   {
    "duration": 0,
    "start_time": "2024-07-13T11:02:08.093Z"
   },
   {
    "duration": 0,
    "start_time": "2024-07-13T11:02:08.094Z"
   },
   {
    "duration": 0,
    "start_time": "2024-07-13T11:02:08.095Z"
   },
   {
    "duration": 0,
    "start_time": "2024-07-13T11:02:08.096Z"
   },
   {
    "duration": 0,
    "start_time": "2024-07-13T11:02:08.097Z"
   },
   {
    "duration": 0,
    "start_time": "2024-07-13T11:02:08.098Z"
   },
   {
    "duration": 0,
    "start_time": "2024-07-13T11:02:08.099Z"
   },
   {
    "duration": 0,
    "start_time": "2024-07-13T11:02:08.101Z"
   },
   {
    "duration": 0,
    "start_time": "2024-07-13T11:02:08.102Z"
   },
   {
    "duration": 0,
    "start_time": "2024-07-13T11:02:08.103Z"
   },
   {
    "duration": 0,
    "start_time": "2024-07-13T11:02:08.104Z"
   },
   {
    "duration": 0,
    "start_time": "2024-07-13T11:02:08.161Z"
   },
   {
    "duration": 0,
    "start_time": "2024-07-13T11:02:08.162Z"
   },
   {
    "duration": 0,
    "start_time": "2024-07-13T11:02:08.163Z"
   },
   {
    "duration": 0,
    "start_time": "2024-07-13T11:02:08.164Z"
   },
   {
    "duration": 0,
    "start_time": "2024-07-13T11:02:08.170Z"
   },
   {
    "duration": 0,
    "start_time": "2024-07-13T11:02:08.171Z"
   },
   {
    "duration": 0,
    "start_time": "2024-07-13T11:02:08.173Z"
   },
   {
    "duration": 0,
    "start_time": "2024-07-13T11:02:08.175Z"
   },
   {
    "duration": 0,
    "start_time": "2024-07-13T11:02:08.176Z"
   },
   {
    "duration": 0,
    "start_time": "2024-07-13T11:02:08.177Z"
   },
   {
    "duration": 0,
    "start_time": "2024-07-13T11:02:08.178Z"
   },
   {
    "duration": 0,
    "start_time": "2024-07-13T11:02:08.179Z"
   },
   {
    "duration": 0,
    "start_time": "2024-07-13T11:02:08.180Z"
   },
   {
    "duration": 3156,
    "start_time": "2024-07-13T11:03:20.888Z"
   },
   {
    "duration": 2393,
    "start_time": "2024-07-13T11:03:28.576Z"
   },
   {
    "duration": 1467,
    "start_time": "2024-07-13T11:03:30.972Z"
   },
   {
    "duration": 417,
    "start_time": "2024-07-13T11:03:32.440Z"
   },
   {
    "duration": 15,
    "start_time": "2024-07-13T11:03:32.859Z"
   },
   {
    "duration": 26,
    "start_time": "2024-07-13T11:03:32.875Z"
   },
   {
    "duration": 19,
    "start_time": "2024-07-13T11:03:32.903Z"
   },
   {
    "duration": 37,
    "start_time": "2024-07-13T11:03:32.924Z"
   },
   {
    "duration": 29,
    "start_time": "2024-07-13T11:03:32.963Z"
   },
   {
    "duration": 42,
    "start_time": "2024-07-13T11:03:32.994Z"
   },
   {
    "duration": 24,
    "start_time": "2024-07-13T11:03:33.038Z"
   },
   {
    "duration": 28,
    "start_time": "2024-07-13T11:03:33.063Z"
   },
   {
    "duration": 27,
    "start_time": "2024-07-13T11:03:33.092Z"
   },
   {
    "duration": 26,
    "start_time": "2024-07-13T11:03:33.121Z"
   },
   {
    "duration": 36,
    "start_time": "2024-07-13T11:03:33.149Z"
   },
   {
    "duration": 18,
    "start_time": "2024-07-13T11:03:33.187Z"
   },
   {
    "duration": 31,
    "start_time": "2024-07-13T11:03:33.207Z"
   },
   {
    "duration": 22,
    "start_time": "2024-07-13T11:03:33.240Z"
   },
   {
    "duration": 25,
    "start_time": "2024-07-13T11:03:33.264Z"
   },
   {
    "duration": 16,
    "start_time": "2024-07-13T11:03:33.290Z"
   },
   {
    "duration": 36,
    "start_time": "2024-07-13T11:03:33.307Z"
   },
   {
    "duration": 25,
    "start_time": "2024-07-13T11:03:33.345Z"
   },
   {
    "duration": 19,
    "start_time": "2024-07-13T11:03:33.371Z"
   },
   {
    "duration": 6,
    "start_time": "2024-07-13T11:03:33.391Z"
   },
   {
    "duration": 11,
    "start_time": "2024-07-13T11:03:33.398Z"
   },
   {
    "duration": 16,
    "start_time": "2024-07-13T11:03:33.411Z"
   },
   {
    "duration": 49,
    "start_time": "2024-07-13T11:03:33.428Z"
   },
   {
    "duration": 14,
    "start_time": "2024-07-13T11:03:33.479Z"
   },
   {
    "duration": 24,
    "start_time": "2024-07-13T11:03:33.497Z"
   },
   {
    "duration": 38,
    "start_time": "2024-07-13T11:03:33.523Z"
   },
   {
    "duration": 14,
    "start_time": "2024-07-13T11:03:33.562Z"
   },
   {
    "duration": 14,
    "start_time": "2024-07-13T11:03:33.577Z"
   },
   {
    "duration": 4,
    "start_time": "2024-07-13T11:03:33.592Z"
   },
   {
    "duration": 35,
    "start_time": "2024-07-13T11:03:33.597Z"
   },
   {
    "duration": 30,
    "start_time": "2024-07-13T11:03:33.634Z"
   },
   {
    "duration": 9,
    "start_time": "2024-07-13T11:03:33.665Z"
   },
   {
    "duration": 7,
    "start_time": "2024-07-13T11:03:33.676Z"
   },
   {
    "duration": 7,
    "start_time": "2024-07-13T11:03:33.685Z"
   },
   {
    "duration": 11,
    "start_time": "2024-07-13T11:03:33.693Z"
   },
   {
    "duration": 17,
    "start_time": "2024-07-13T11:03:33.705Z"
   },
   {
    "duration": 41,
    "start_time": "2024-07-13T11:03:33.723Z"
   },
   {
    "duration": 454,
    "start_time": "2024-07-13T11:03:33.765Z"
   },
   {
    "duration": 427,
    "start_time": "2024-07-13T11:03:34.221Z"
   },
   {
    "duration": 544,
    "start_time": "2024-07-13T11:03:34.649Z"
   },
   {
    "duration": 5,
    "start_time": "2024-07-13T11:03:35.195Z"
   },
   {
    "duration": 165,
    "start_time": "2024-07-13T11:03:35.201Z"
   },
   {
    "duration": 140,
    "start_time": "2024-07-13T11:03:35.368Z"
   },
   {
    "duration": 154,
    "start_time": "2024-07-13T11:03:35.510Z"
   },
   {
    "duration": 134,
    "start_time": "2024-07-13T11:03:35.665Z"
   },
   {
    "duration": 149,
    "start_time": "2024-07-13T11:03:35.800Z"
   },
   {
    "duration": 143,
    "start_time": "2024-07-13T11:03:35.950Z"
   },
   {
    "duration": 122,
    "start_time": "2024-07-13T11:03:36.095Z"
   },
   {
    "duration": 146,
    "start_time": "2024-07-13T11:03:36.219Z"
   },
   {
    "duration": 123,
    "start_time": "2024-07-13T11:03:36.367Z"
   },
   {
    "duration": 123,
    "start_time": "2024-07-13T11:03:36.492Z"
   },
   {
    "duration": 121,
    "start_time": "2024-07-13T11:03:36.617Z"
   },
   {
    "duration": 228,
    "start_time": "2024-07-13T11:03:36.740Z"
   },
   {
    "duration": 123,
    "start_time": "2024-07-13T11:03:36.970Z"
   },
   {
    "duration": 122,
    "start_time": "2024-07-13T11:03:37.095Z"
   },
   {
    "duration": 130,
    "start_time": "2024-07-13T11:03:37.218Z"
   },
   {
    "duration": 122,
    "start_time": "2024-07-13T11:03:37.349Z"
   },
   {
    "duration": 3653,
    "start_time": "2024-07-13T11:03:37.473Z"
   },
   {
    "duration": 10,
    "start_time": "2024-07-13T11:03:41.128Z"
   },
   {
    "duration": 5,
    "start_time": "2024-07-13T11:03:41.139Z"
   },
   {
    "duration": 7,
    "start_time": "2024-07-13T11:03:41.145Z"
   },
   {
    "duration": 108,
    "start_time": "2024-07-13T11:03:56.796Z"
   },
   {
    "duration": 3,
    "start_time": "2024-07-13T11:04:41.041Z"
   },
   {
    "duration": 4,
    "start_time": "2024-07-13T11:04:45.185Z"
   },
   {
    "duration": 11,
    "start_time": "2024-07-13T11:04:59.147Z"
   },
   {
    "duration": 5,
    "start_time": "2024-07-13T11:05:13.912Z"
   },
   {
    "duration": 4,
    "start_time": "2024-07-13T11:05:17.855Z"
   },
   {
    "duration": 3,
    "start_time": "2024-07-13T11:05:19.478Z"
   },
   {
    "duration": 10,
    "start_time": "2024-07-13T11:06:13.798Z"
   },
   {
    "duration": 5,
    "start_time": "2024-07-13T11:06:49.933Z"
   },
   {
    "duration": 3,
    "start_time": "2024-07-13T11:06:53.796Z"
   },
   {
    "duration": 11,
    "start_time": "2024-07-13T11:07:22.740Z"
   },
   {
    "duration": 3,
    "start_time": "2024-07-13T11:07:27.107Z"
   },
   {
    "duration": 440,
    "start_time": "2024-07-13T11:08:26.763Z"
   },
   {
    "duration": 470,
    "start_time": "2024-07-13T11:08:37.052Z"
   },
   {
    "duration": 4,
    "start_time": "2024-07-13T11:08:39.572Z"
   },
   {
    "duration": 3,
    "start_time": "2024-07-13T11:08:40.198Z"
   },
   {
    "duration": 50812,
    "start_time": "2024-07-13T11:08:40.354Z"
   },
   {
    "duration": 27,
    "start_time": "2024-07-13T11:09:46.576Z"
   },
   {
    "duration": 24,
    "start_time": "2024-07-13T11:12:05.413Z"
   },
   {
    "duration": 2462,
    "start_time": "2024-07-13T11:13:15.063Z"
   },
   {
    "duration": 1454,
    "start_time": "2024-07-13T11:13:17.527Z"
   },
   {
    "duration": 94,
    "start_time": "2024-07-13T11:13:18.982Z"
   },
   {
    "duration": 16,
    "start_time": "2024-07-13T11:13:19.078Z"
   },
   {
    "duration": 14,
    "start_time": "2024-07-13T11:13:19.095Z"
   },
   {
    "duration": 12,
    "start_time": "2024-07-13T11:13:19.110Z"
   },
   {
    "duration": 12,
    "start_time": "2024-07-13T11:13:19.124Z"
   },
   {
    "duration": 26,
    "start_time": "2024-07-13T11:13:19.138Z"
   },
   {
    "duration": 23,
    "start_time": "2024-07-13T11:13:19.165Z"
   },
   {
    "duration": 8,
    "start_time": "2024-07-13T11:13:19.190Z"
   },
   {
    "duration": 9,
    "start_time": "2024-07-13T11:13:19.200Z"
   },
   {
    "duration": 12,
    "start_time": "2024-07-13T11:13:19.211Z"
   },
   {
    "duration": 8,
    "start_time": "2024-07-13T11:13:19.225Z"
   },
   {
    "duration": 33,
    "start_time": "2024-07-13T11:13:19.234Z"
   },
   {
    "duration": 6,
    "start_time": "2024-07-13T11:13:19.268Z"
   },
   {
    "duration": 18,
    "start_time": "2024-07-13T11:13:19.276Z"
   },
   {
    "duration": 7,
    "start_time": "2024-07-13T11:13:19.296Z"
   },
   {
    "duration": 8,
    "start_time": "2024-07-13T11:13:19.305Z"
   },
   {
    "duration": 6,
    "start_time": "2024-07-13T11:13:19.314Z"
   },
   {
    "duration": 40,
    "start_time": "2024-07-13T11:13:19.321Z"
   },
   {
    "duration": 9,
    "start_time": "2024-07-13T11:13:19.363Z"
   },
   {
    "duration": 9,
    "start_time": "2024-07-13T11:13:19.375Z"
   },
   {
    "duration": 5,
    "start_time": "2024-07-13T11:13:19.386Z"
   },
   {
    "duration": 11,
    "start_time": "2024-07-13T11:13:19.393Z"
   },
   {
    "duration": 16,
    "start_time": "2024-07-13T11:13:19.405Z"
   },
   {
    "duration": 56,
    "start_time": "2024-07-13T11:13:19.422Z"
   },
   {
    "duration": 12,
    "start_time": "2024-07-13T11:13:19.479Z"
   },
   {
    "duration": 26,
    "start_time": "2024-07-13T11:13:19.495Z"
   },
   {
    "duration": 46,
    "start_time": "2024-07-13T11:13:19.523Z"
   },
   {
    "duration": 14,
    "start_time": "2024-07-13T11:13:19.570Z"
   },
   {
    "duration": 15,
    "start_time": "2024-07-13T11:13:19.586Z"
   },
   {
    "duration": 4,
    "start_time": "2024-07-13T11:13:19.603Z"
   },
   {
    "duration": 58,
    "start_time": "2024-07-13T11:13:19.609Z"
   },
   {
    "duration": 5,
    "start_time": "2024-07-13T11:13:19.668Z"
   },
   {
    "duration": 7,
    "start_time": "2024-07-13T11:13:19.674Z"
   },
   {
    "duration": 7,
    "start_time": "2024-07-13T11:13:19.682Z"
   },
   {
    "duration": 8,
    "start_time": "2024-07-13T11:13:19.690Z"
   },
   {
    "duration": 11,
    "start_time": "2024-07-13T11:13:19.700Z"
   },
   {
    "duration": 52,
    "start_time": "2024-07-13T11:13:19.712Z"
   },
   {
    "duration": 5,
    "start_time": "2024-07-13T11:13:19.767Z"
   },
   {
    "duration": 458,
    "start_time": "2024-07-13T11:13:19.774Z"
   },
   {
    "duration": 465,
    "start_time": "2024-07-13T11:13:20.234Z"
   },
   {
    "duration": 539,
    "start_time": "2024-07-13T11:13:20.701Z"
   },
   {
    "duration": 5,
    "start_time": "2024-07-13T11:13:21.241Z"
   },
   {
    "duration": 164,
    "start_time": "2024-07-13T11:13:21.248Z"
   },
   {
    "duration": 142,
    "start_time": "2024-07-13T11:13:21.414Z"
   },
   {
    "duration": 153,
    "start_time": "2024-07-13T11:13:21.561Z"
   },
   {
    "duration": 141,
    "start_time": "2024-07-13T11:13:21.716Z"
   },
   {
    "duration": 133,
    "start_time": "2024-07-13T11:13:21.862Z"
   },
   {
    "duration": 131,
    "start_time": "2024-07-13T11:13:21.996Z"
   },
   {
    "duration": 133,
    "start_time": "2024-07-13T11:13:22.128Z"
   },
   {
    "duration": 151,
    "start_time": "2024-07-13T11:13:22.262Z"
   },
   {
    "duration": 127,
    "start_time": "2024-07-13T11:13:22.415Z"
   },
   {
    "duration": 120,
    "start_time": "2024-07-13T11:13:22.544Z"
   },
   {
    "duration": 117,
    "start_time": "2024-07-13T11:13:22.665Z"
   },
   {
    "duration": 228,
    "start_time": "2024-07-13T11:13:22.784Z"
   },
   {
    "duration": 136,
    "start_time": "2024-07-13T11:13:23.014Z"
   },
   {
    "duration": 122,
    "start_time": "2024-07-13T11:13:23.151Z"
   },
   {
    "duration": 149,
    "start_time": "2024-07-13T11:13:23.274Z"
   },
   {
    "duration": 130,
    "start_time": "2024-07-13T11:13:23.425Z"
   },
   {
    "duration": 3649,
    "start_time": "2024-07-13T11:13:23.557Z"
   },
   {
    "duration": 9,
    "start_time": "2024-07-13T11:13:27.208Z"
   },
   {
    "duration": 8,
    "start_time": "2024-07-13T11:13:27.219Z"
   },
   {
    "duration": 419,
    "start_time": "2024-07-13T11:13:27.229Z"
   },
   {
    "duration": 4,
    "start_time": "2024-07-13T11:13:27.649Z"
   },
   {
    "duration": 3,
    "start_time": "2024-07-13T11:13:27.660Z"
   },
   {
    "duration": 45628,
    "start_time": "2024-07-13T11:13:27.664Z"
   },
   {
    "duration": 17,
    "start_time": "2024-07-13T11:14:13.293Z"
   },
   {
    "duration": 25,
    "start_time": "2024-07-13T11:14:13.312Z"
   },
   {
    "duration": 2355,
    "start_time": "2024-07-13T11:26:30.156Z"
   },
   {
    "duration": 1406,
    "start_time": "2024-07-13T11:26:32.514Z"
   },
   {
    "duration": 93,
    "start_time": "2024-07-13T11:26:33.921Z"
   },
   {
    "duration": 22,
    "start_time": "2024-07-13T11:26:34.016Z"
   },
   {
    "duration": 16,
    "start_time": "2024-07-13T11:26:34.041Z"
   },
   {
    "duration": 8,
    "start_time": "2024-07-13T11:26:34.059Z"
   },
   {
    "duration": 11,
    "start_time": "2024-07-13T11:26:34.069Z"
   },
   {
    "duration": 12,
    "start_time": "2024-07-13T11:26:34.082Z"
   },
   {
    "duration": 14,
    "start_time": "2024-07-13T11:26:34.096Z"
   },
   {
    "duration": 7,
    "start_time": "2024-07-13T11:26:34.112Z"
   },
   {
    "duration": 40,
    "start_time": "2024-07-13T11:26:34.121Z"
   },
   {
    "duration": 11,
    "start_time": "2024-07-13T11:26:34.163Z"
   },
   {
    "duration": 9,
    "start_time": "2024-07-13T11:26:34.176Z"
   },
   {
    "duration": 14,
    "start_time": "2024-07-13T11:26:34.187Z"
   },
   {
    "duration": 20,
    "start_time": "2024-07-13T11:26:34.202Z"
   },
   {
    "duration": 11,
    "start_time": "2024-07-13T11:26:34.223Z"
   },
   {
    "duration": 26,
    "start_time": "2024-07-13T11:26:34.235Z"
   },
   {
    "duration": 8,
    "start_time": "2024-07-13T11:26:34.263Z"
   },
   {
    "duration": 6,
    "start_time": "2024-07-13T11:26:34.272Z"
   },
   {
    "duration": 3,
    "start_time": "2024-07-13T11:26:34.279Z"
   },
   {
    "duration": 10,
    "start_time": "2024-07-13T11:26:34.283Z"
   },
   {
    "duration": 9,
    "start_time": "2024-07-13T11:26:34.294Z"
   },
   {
    "duration": 6,
    "start_time": "2024-07-13T11:26:34.304Z"
   },
   {
    "duration": 11,
    "start_time": "2024-07-13T11:26:34.311Z"
   },
   {
    "duration": 48,
    "start_time": "2024-07-13T11:26:34.323Z"
   },
   {
    "duration": 26,
    "start_time": "2024-07-13T11:26:34.372Z"
   },
   {
    "duration": 13,
    "start_time": "2024-07-13T11:26:34.400Z"
   },
   {
    "duration": 49,
    "start_time": "2024-07-13T11:26:34.417Z"
   },
   {
    "duration": 20,
    "start_time": "2024-07-13T11:26:34.467Z"
   },
   {
    "duration": 14,
    "start_time": "2024-07-13T11:26:34.488Z"
   },
   {
    "duration": 17,
    "start_time": "2024-07-13T11:26:34.503Z"
   },
   {
    "duration": 5,
    "start_time": "2024-07-13T11:26:34.521Z"
   },
   {
    "duration": 75,
    "start_time": "2024-07-13T11:26:34.527Z"
   },
   {
    "duration": 6,
    "start_time": "2024-07-13T11:26:34.604Z"
   },
   {
    "duration": 18,
    "start_time": "2024-07-13T11:26:34.612Z"
   },
   {
    "duration": 7,
    "start_time": "2024-07-13T11:26:34.631Z"
   },
   {
    "duration": 9,
    "start_time": "2024-07-13T11:26:34.639Z"
   },
   {
    "duration": 12,
    "start_time": "2024-07-13T11:26:34.661Z"
   },
   {
    "duration": 18,
    "start_time": "2024-07-13T11:26:34.675Z"
   },
   {
    "duration": 4,
    "start_time": "2024-07-13T11:26:34.695Z"
   },
   {
    "duration": 440,
    "start_time": "2024-07-13T11:26:34.702Z"
   },
   {
    "duration": 466,
    "start_time": "2024-07-13T11:26:35.143Z"
   },
   {
    "duration": 558,
    "start_time": "2024-07-13T11:26:35.611Z"
   },
   {
    "duration": 6,
    "start_time": "2024-07-13T11:26:36.171Z"
   },
   {
    "duration": 213,
    "start_time": "2024-07-13T11:26:36.178Z"
   },
   {
    "duration": 150,
    "start_time": "2024-07-13T11:26:36.393Z"
   },
   {
    "duration": 149,
    "start_time": "2024-07-13T11:26:36.545Z"
   },
   {
    "duration": 126,
    "start_time": "2024-07-13T11:26:36.695Z"
   },
   {
    "duration": 126,
    "start_time": "2024-07-13T11:26:36.823Z"
   },
   {
    "duration": 134,
    "start_time": "2024-07-13T11:26:36.951Z"
   },
   {
    "duration": 122,
    "start_time": "2024-07-13T11:26:37.087Z"
   },
   {
    "duration": 136,
    "start_time": "2024-07-13T11:26:37.211Z"
   },
   {
    "duration": 118,
    "start_time": "2024-07-13T11:26:37.348Z"
   },
   {
    "duration": 116,
    "start_time": "2024-07-13T11:26:37.468Z"
   },
   {
    "duration": 124,
    "start_time": "2024-07-13T11:26:37.585Z"
   },
   {
    "duration": 216,
    "start_time": "2024-07-13T11:26:37.710Z"
   },
   {
    "duration": 122,
    "start_time": "2024-07-13T11:26:37.928Z"
   },
   {
    "duration": 158,
    "start_time": "2024-07-13T11:26:38.052Z"
   },
   {
    "duration": 134,
    "start_time": "2024-07-13T11:26:38.212Z"
   },
   {
    "duration": 132,
    "start_time": "2024-07-13T11:26:38.348Z"
   },
   {
    "duration": 3625,
    "start_time": "2024-07-13T11:26:38.481Z"
   },
   {
    "duration": 10,
    "start_time": "2024-07-13T11:26:42.108Z"
   },
   {
    "duration": 14,
    "start_time": "2024-07-13T11:26:42.119Z"
   },
   {
    "duration": 450,
    "start_time": "2024-07-13T11:26:42.135Z"
   },
   {
    "duration": 4,
    "start_time": "2024-07-13T11:26:42.587Z"
   },
   {
    "duration": 4,
    "start_time": "2024-07-13T11:26:42.592Z"
   },
   {
    "duration": 3506,
    "start_time": "2024-07-14T13:59:27.955Z"
   },
   {
    "duration": 2277,
    "start_time": "2024-07-14T13:59:31.463Z"
   },
   {
    "duration": 392,
    "start_time": "2024-07-14T14:00:05.810Z"
   },
   {
    "duration": 13,
    "start_time": "2024-07-14T14:00:06.952Z"
   },
   {
    "duration": 1371,
    "start_time": "2024-07-14T15:09:05.759Z"
   },
   {
    "duration": 3317,
    "start_time": "2024-07-14T15:09:09.189Z"
   },
   {
    "duration": 417,
    "start_time": "2024-07-14T15:09:12.509Z"
   },
   {
    "duration": 412,
    "start_time": "2024-07-14T15:09:12.928Z"
   },
   {
    "duration": 15,
    "start_time": "2024-07-14T15:09:13.342Z"
   },
   {
    "duration": 17,
    "start_time": "2024-07-14T15:09:13.358Z"
   },
   {
    "duration": 8,
    "start_time": "2024-07-14T15:09:13.376Z"
   },
   {
    "duration": 16,
    "start_time": "2024-07-14T15:09:13.385Z"
   },
   {
    "duration": 16,
    "start_time": "2024-07-14T15:09:13.402Z"
   },
   {
    "duration": 24,
    "start_time": "2024-07-14T15:09:13.420Z"
   },
   {
    "duration": 6,
    "start_time": "2024-07-14T15:09:13.446Z"
   },
   {
    "duration": 49,
    "start_time": "2024-07-14T15:09:13.454Z"
   },
   {
    "duration": 8,
    "start_time": "2024-07-14T15:09:14.367Z"
   },
   {
    "duration": 7,
    "start_time": "2024-07-14T15:09:14.594Z"
   },
   {
    "duration": 7,
    "start_time": "2024-07-14T15:09:14.803Z"
   },
   {
    "duration": 6,
    "start_time": "2024-07-14T15:09:15.182Z"
   },
   {
    "duration": 10,
    "start_time": "2024-07-14T15:09:18.745Z"
   },
   {
    "duration": 8,
    "start_time": "2024-07-14T15:09:19.421Z"
   },
   {
    "duration": 8,
    "start_time": "2024-07-14T15:09:19.586Z"
   },
   {
    "duration": 6,
    "start_time": "2024-07-14T15:09:19.759Z"
   },
   {
    "duration": 3,
    "start_time": "2024-07-14T15:09:20.888Z"
   },
   {
    "duration": 25,
    "start_time": "2024-07-14T15:09:40.897Z"
   },
   {
    "duration": 5,
    "start_time": "2024-07-14T15:09:50.580Z"
   },
   {
    "duration": 2418,
    "start_time": "2024-07-14T15:11:47.063Z"
   },
   {
    "duration": 1370,
    "start_time": "2024-07-14T15:11:49.483Z"
   },
   {
    "duration": 90,
    "start_time": "2024-07-14T15:11:50.855Z"
   },
   {
    "duration": 13,
    "start_time": "2024-07-14T15:11:50.947Z"
   },
   {
    "duration": 17,
    "start_time": "2024-07-14T15:11:50.962Z"
   },
   {
    "duration": 11,
    "start_time": "2024-07-14T15:11:50.981Z"
   },
   {
    "duration": 11,
    "start_time": "2024-07-14T15:11:50.994Z"
   },
   {
    "duration": 31,
    "start_time": "2024-07-14T15:11:51.007Z"
   },
   {
    "duration": 11,
    "start_time": "2024-07-14T15:11:51.040Z"
   },
   {
    "duration": 8,
    "start_time": "2024-07-14T15:11:51.054Z"
   },
   {
    "duration": 10,
    "start_time": "2024-07-14T15:11:51.064Z"
   },
   {
    "duration": 8,
    "start_time": "2024-07-14T15:11:51.075Z"
   },
   {
    "duration": 6,
    "start_time": "2024-07-14T15:11:51.085Z"
   },
   {
    "duration": 7,
    "start_time": "2024-07-14T15:11:51.092Z"
   },
   {
    "duration": 40,
    "start_time": "2024-07-14T15:11:51.100Z"
   },
   {
    "duration": 9,
    "start_time": "2024-07-14T15:11:51.142Z"
   },
   {
    "duration": 7,
    "start_time": "2024-07-14T15:11:51.152Z"
   },
   {
    "duration": 7,
    "start_time": "2024-07-14T15:11:51.160Z"
   },
   {
    "duration": 5,
    "start_time": "2024-07-14T15:11:51.169Z"
   },
   {
    "duration": 3,
    "start_time": "2024-07-14T15:11:51.175Z"
   },
   {
    "duration": 6,
    "start_time": "2024-07-14T15:11:51.179Z"
   },
   {
    "duration": 9,
    "start_time": "2024-07-14T15:11:51.186Z"
   },
   {
    "duration": 6,
    "start_time": "2024-07-14T15:11:51.237Z"
   },
   {
    "duration": 13,
    "start_time": "2024-07-14T15:11:51.245Z"
   },
   {
    "duration": 22,
    "start_time": "2024-07-14T15:11:51.260Z"
   },
   {
    "duration": 26,
    "start_time": "2024-07-14T15:11:51.284Z"
   },
   {
    "duration": 28,
    "start_time": "2024-07-14T15:11:51.311Z"
   },
   {
    "duration": 33,
    "start_time": "2024-07-14T15:11:51.343Z"
   },
   {
    "duration": 18,
    "start_time": "2024-07-14T15:11:51.378Z"
   },
   {
    "duration": 32,
    "start_time": "2024-07-14T15:11:51.398Z"
   },
   {
    "duration": 17,
    "start_time": "2024-07-14T15:11:51.432Z"
   },
   {
    "duration": 6,
    "start_time": "2024-07-14T15:11:51.451Z"
   },
   {
    "duration": 72,
    "start_time": "2024-07-14T15:11:51.458Z"
   },
   {
    "duration": 5,
    "start_time": "2024-07-14T15:11:51.531Z"
   },
   {
    "duration": 88,
    "start_time": "2024-07-14T15:11:51.538Z"
   },
   {
    "duration": 18,
    "start_time": "2024-07-14T15:11:51.628Z"
   },
   {
    "duration": 28,
    "start_time": "2024-07-14T15:11:51.647Z"
   },
   {
    "duration": 11,
    "start_time": "2024-07-14T15:11:51.677Z"
   },
   {
    "duration": 34,
    "start_time": "2024-07-14T15:11:51.690Z"
   },
   {
    "duration": 13,
    "start_time": "2024-07-14T15:11:51.725Z"
   },
   {
    "duration": 494,
    "start_time": "2024-07-14T15:11:51.740Z"
   },
   {
    "duration": 480,
    "start_time": "2024-07-14T15:11:52.235Z"
   },
   {
    "duration": 514,
    "start_time": "2024-07-14T15:11:52.716Z"
   },
   {
    "duration": 9,
    "start_time": "2024-07-14T15:11:53.231Z"
   },
   {
    "duration": 158,
    "start_time": "2024-07-14T15:11:53.241Z"
   },
   {
    "duration": 178,
    "start_time": "2024-07-14T15:11:53.401Z"
   },
   {
    "duration": 146,
    "start_time": "2024-07-14T15:11:53.580Z"
   },
   {
    "duration": 141,
    "start_time": "2024-07-14T15:11:53.737Z"
   },
   {
    "duration": 135,
    "start_time": "2024-07-14T15:11:53.880Z"
   },
   {
    "duration": 131,
    "start_time": "2024-07-14T15:11:54.017Z"
   },
   {
    "duration": 122,
    "start_time": "2024-07-14T15:11:54.149Z"
   },
   {
    "duration": 150,
    "start_time": "2024-07-14T15:11:54.273Z"
   },
   {
    "duration": 124,
    "start_time": "2024-07-14T15:11:54.424Z"
   },
   {
    "duration": 121,
    "start_time": "2024-07-14T15:11:54.550Z"
   },
   {
    "duration": 118,
    "start_time": "2024-07-14T15:11:54.672Z"
   },
   {
    "duration": 126,
    "start_time": "2024-07-14T15:11:54.791Z"
   },
   {
    "duration": 212,
    "start_time": "2024-07-14T15:11:54.918Z"
   },
   {
    "duration": 143,
    "start_time": "2024-07-14T15:11:55.132Z"
   },
   {
    "duration": 149,
    "start_time": "2024-07-14T15:11:55.276Z"
   },
   {
    "duration": 142,
    "start_time": "2024-07-14T15:11:55.426Z"
   },
   {
    "duration": 3793,
    "start_time": "2024-07-14T15:11:55.570Z"
   },
   {
    "duration": 10,
    "start_time": "2024-07-14T15:11:59.364Z"
   },
   {
    "duration": 16,
    "start_time": "2024-07-14T15:11:59.376Z"
   },
   {
    "duration": 595,
    "start_time": "2024-07-14T15:11:59.393Z"
   },
   {
    "duration": 4,
    "start_time": "2024-07-14T15:11:59.990Z"
   },
   {
    "duration": 56,
    "start_time": "2024-07-14T15:11:59.995Z"
   },
   {
    "duration": 52204,
    "start_time": "2024-07-14T15:12:00.053Z"
   },
   {
    "duration": 20,
    "start_time": "2024-07-14T15:12:52.259Z"
   },
   {
    "duration": 58,
    "start_time": "2024-07-14T15:12:52.281Z"
   },
   {
    "duration": 74,
    "start_time": "2024-07-14T15:18:17.739Z"
   },
   {
    "duration": 109,
    "start_time": "2024-07-14T15:35:54.083Z"
   },
   {
    "duration": 4,
    "start_time": "2024-07-14T15:36:12.131Z"
   },
   {
    "duration": 2636,
    "start_time": "2024-07-14T15:36:17.726Z"
   },
   {
    "duration": 2596,
    "start_time": "2024-07-14T15:38:43.062Z"
   },
   {
    "duration": 2337,
    "start_time": "2024-07-14T15:58:41.345Z"
   },
   {
    "duration": 1350,
    "start_time": "2024-07-14T15:58:43.684Z"
   },
   {
    "duration": 93,
    "start_time": "2024-07-14T15:58:45.036Z"
   },
   {
    "duration": 14,
    "start_time": "2024-07-14T15:58:45.131Z"
   },
   {
    "duration": 17,
    "start_time": "2024-07-14T15:58:45.147Z"
   },
   {
    "duration": 17,
    "start_time": "2024-07-14T15:58:45.166Z"
   },
   {
    "duration": 35,
    "start_time": "2024-07-14T15:58:45.184Z"
   },
   {
    "duration": 45,
    "start_time": "2024-07-14T15:58:45.221Z"
   },
   {
    "duration": 45,
    "start_time": "2024-07-14T15:58:45.268Z"
   },
   {
    "duration": 71,
    "start_time": "2024-07-14T15:58:45.315Z"
   },
   {
    "duration": 23,
    "start_time": "2024-07-14T15:58:45.388Z"
   },
   {
    "duration": 8,
    "start_time": "2024-07-14T15:58:45.412Z"
   },
   {
    "duration": 12,
    "start_time": "2024-07-14T15:58:45.422Z"
   },
   {
    "duration": 14,
    "start_time": "2024-07-14T15:58:45.436Z"
   },
   {
    "duration": 13,
    "start_time": "2024-07-14T15:58:45.451Z"
   },
   {
    "duration": 11,
    "start_time": "2024-07-14T15:58:45.466Z"
   },
   {
    "duration": 36,
    "start_time": "2024-07-14T15:58:45.478Z"
   },
   {
    "duration": 10,
    "start_time": "2024-07-14T15:58:45.515Z"
   },
   {
    "duration": 8,
    "start_time": "2024-07-14T15:58:45.527Z"
   },
   {
    "duration": 5,
    "start_time": "2024-07-14T15:58:45.537Z"
   },
   {
    "duration": 15,
    "start_time": "2024-07-14T15:58:45.544Z"
   },
   {
    "duration": 28,
    "start_time": "2024-07-14T15:58:45.561Z"
   },
   {
    "duration": 8,
    "start_time": "2024-07-14T15:58:45.591Z"
   },
   {
    "duration": 32,
    "start_time": "2024-07-14T15:58:45.600Z"
   },
   {
    "duration": 15,
    "start_time": "2024-07-14T15:58:45.633Z"
   },
   {
    "duration": 25,
    "start_time": "2024-07-14T15:58:45.649Z"
   },
   {
    "duration": 12,
    "start_time": "2024-07-14T15:58:45.675Z"
   },
   {
    "duration": 100,
    "start_time": "2024-07-14T15:58:45.690Z"
   },
   {
    "duration": 18,
    "start_time": "2024-07-14T15:58:45.792Z"
   },
   {
    "duration": 37,
    "start_time": "2024-07-14T15:58:45.811Z"
   },
   {
    "duration": 14,
    "start_time": "2024-07-14T15:58:45.850Z"
   },
   {
    "duration": 4,
    "start_time": "2024-07-14T15:58:45.865Z"
   },
   {
    "duration": 40,
    "start_time": "2024-07-14T15:58:45.870Z"
   },
   {
    "duration": 40,
    "start_time": "2024-07-14T15:58:45.912Z"
   },
   {
    "duration": 6,
    "start_time": "2024-07-14T15:58:45.954Z"
   },
   {
    "duration": 5,
    "start_time": "2024-07-14T15:58:45.962Z"
   },
   {
    "duration": 9,
    "start_time": "2024-07-14T15:58:45.969Z"
   },
   {
    "duration": 10,
    "start_time": "2024-07-14T15:58:45.979Z"
   },
   {
    "duration": 16,
    "start_time": "2024-07-14T15:58:45.990Z"
   },
   {
    "duration": 8,
    "start_time": "2024-07-14T15:58:46.008Z"
   },
   {
    "duration": 466,
    "start_time": "2024-07-14T15:58:46.017Z"
   },
   {
    "duration": 412,
    "start_time": "2024-07-14T15:58:46.485Z"
   },
   {
    "duration": 488,
    "start_time": "2024-07-14T15:58:46.898Z"
   },
   {
    "duration": 5,
    "start_time": "2024-07-14T15:58:47.388Z"
   },
   {
    "duration": 155,
    "start_time": "2024-07-14T15:58:47.394Z"
   },
   {
    "duration": 133,
    "start_time": "2024-07-14T15:58:47.551Z"
   },
   {
    "duration": 145,
    "start_time": "2024-07-14T15:58:47.686Z"
   },
   {
    "duration": 129,
    "start_time": "2024-07-14T15:58:47.832Z"
   },
   {
    "duration": 152,
    "start_time": "2024-07-14T15:58:47.963Z"
   },
   {
    "duration": 137,
    "start_time": "2024-07-14T15:58:48.116Z"
   },
   {
    "duration": 138,
    "start_time": "2024-07-14T15:58:48.254Z"
   },
   {
    "duration": 144,
    "start_time": "2024-07-14T15:58:48.394Z"
   },
   {
    "duration": 128,
    "start_time": "2024-07-14T15:58:48.539Z"
   },
   {
    "duration": 113,
    "start_time": "2024-07-14T15:58:48.669Z"
   },
   {
    "duration": 115,
    "start_time": "2024-07-14T15:58:48.784Z"
   },
   {
    "duration": 119,
    "start_time": "2024-07-14T15:58:48.901Z"
   },
   {
    "duration": 199,
    "start_time": "2024-07-14T15:58:49.021Z"
   },
   {
    "duration": 117,
    "start_time": "2024-07-14T15:58:49.222Z"
   },
   {
    "duration": 131,
    "start_time": "2024-07-14T15:58:49.340Z"
   },
   {
    "duration": 123,
    "start_time": "2024-07-14T15:58:49.472Z"
   },
   {
    "duration": 3554,
    "start_time": "2024-07-14T15:58:49.597Z"
   },
   {
    "duration": 12,
    "start_time": "2024-07-14T15:58:53.153Z"
   },
   {
    "duration": 18,
    "start_time": "2024-07-14T15:58:53.167Z"
   },
   {
    "duration": 581,
    "start_time": "2024-07-14T15:58:53.186Z"
   },
   {
    "duration": 5,
    "start_time": "2024-07-14T15:58:53.769Z"
   },
   {
    "duration": 18,
    "start_time": "2024-07-14T15:58:53.775Z"
   },
   {
    "duration": 136,
    "start_time": "2024-07-14T15:58:53.794Z"
   },
   {
    "duration": 1,
    "start_time": "2024-07-14T15:58:53.931Z"
   },
   {
    "duration": 0,
    "start_time": "2024-07-14T15:58:53.933Z"
   },
   {
    "duration": 0,
    "start_time": "2024-07-14T15:58:53.937Z"
   },
   {
    "duration": 2413,
    "start_time": "2024-07-14T16:00:16.735Z"
   },
   {
    "duration": 1460,
    "start_time": "2024-07-14T16:00:19.150Z"
   },
   {
    "duration": 90,
    "start_time": "2024-07-14T16:00:20.612Z"
   },
   {
    "duration": 13,
    "start_time": "2024-07-14T16:00:20.704Z"
   },
   {
    "duration": 16,
    "start_time": "2024-07-14T16:00:20.719Z"
   },
   {
    "duration": 11,
    "start_time": "2024-07-14T16:00:20.736Z"
   },
   {
    "duration": 22,
    "start_time": "2024-07-14T16:00:20.748Z"
   },
   {
    "duration": 18,
    "start_time": "2024-07-14T16:00:20.772Z"
   },
   {
    "duration": 49,
    "start_time": "2024-07-14T16:00:20.791Z"
   },
   {
    "duration": 7,
    "start_time": "2024-07-14T16:00:20.843Z"
   },
   {
    "duration": 13,
    "start_time": "2024-07-14T16:00:20.851Z"
   },
   {
    "duration": 15,
    "start_time": "2024-07-14T16:00:20.866Z"
   },
   {
    "duration": 24,
    "start_time": "2024-07-14T16:00:20.883Z"
   },
   {
    "duration": 56,
    "start_time": "2024-07-14T16:00:20.908Z"
   },
   {
    "duration": 17,
    "start_time": "2024-07-14T16:00:20.965Z"
   },
   {
    "duration": 14,
    "start_time": "2024-07-14T16:00:20.984Z"
   },
   {
    "duration": 7,
    "start_time": "2024-07-14T16:00:20.999Z"
   },
   {
    "duration": 40,
    "start_time": "2024-07-14T16:00:21.007Z"
   },
   {
    "duration": 6,
    "start_time": "2024-07-14T16:00:21.048Z"
   },
   {
    "duration": 10,
    "start_time": "2024-07-14T16:00:21.055Z"
   },
   {
    "duration": 15,
    "start_time": "2024-07-14T16:00:21.067Z"
   },
   {
    "duration": 16,
    "start_time": "2024-07-14T16:00:21.083Z"
   },
   {
    "duration": 33,
    "start_time": "2024-07-14T16:00:21.101Z"
   },
   {
    "duration": 14,
    "start_time": "2024-07-14T16:00:21.136Z"
   },
   {
    "duration": 16,
    "start_time": "2024-07-14T16:00:21.151Z"
   },
   {
    "duration": 28,
    "start_time": "2024-07-14T16:00:21.168Z"
   },
   {
    "duration": 12,
    "start_time": "2024-07-14T16:00:21.197Z"
   },
   {
    "duration": 40,
    "start_time": "2024-07-14T16:00:21.213Z"
   },
   {
    "duration": 18,
    "start_time": "2024-07-14T16:00:21.256Z"
   },
   {
    "duration": 23,
    "start_time": "2024-07-14T16:00:21.275Z"
   },
   {
    "duration": 14,
    "start_time": "2024-07-14T16:00:21.300Z"
   },
   {
    "duration": 5,
    "start_time": "2024-07-14T16:00:21.315Z"
   },
   {
    "duration": 50,
    "start_time": "2024-07-14T16:00:21.321Z"
   },
   {
    "duration": 16,
    "start_time": "2024-07-14T16:00:21.373Z"
   },
   {
    "duration": 42,
    "start_time": "2024-07-14T16:00:21.391Z"
   },
   {
    "duration": 8,
    "start_time": "2024-07-14T16:00:21.435Z"
   },
   {
    "duration": 19,
    "start_time": "2024-07-14T16:00:21.445Z"
   },
   {
    "duration": 17,
    "start_time": "2024-07-14T16:00:21.465Z"
   },
   {
    "duration": 16,
    "start_time": "2024-07-14T16:00:21.484Z"
   },
   {
    "duration": 4,
    "start_time": "2024-07-14T16:00:21.501Z"
   },
   {
    "duration": 493,
    "start_time": "2024-07-14T16:00:21.507Z"
   },
   {
    "duration": 493,
    "start_time": "2024-07-14T16:00:22.002Z"
   },
   {
    "duration": 477,
    "start_time": "2024-07-14T16:00:22.497Z"
   },
   {
    "duration": 4,
    "start_time": "2024-07-14T16:00:22.975Z"
   },
   {
    "duration": 161,
    "start_time": "2024-07-14T16:00:22.981Z"
   },
   {
    "duration": 139,
    "start_time": "2024-07-14T16:00:23.143Z"
   },
   {
    "duration": 158,
    "start_time": "2024-07-14T16:00:23.283Z"
   },
   {
    "duration": 173,
    "start_time": "2024-07-14T16:00:23.443Z"
   },
   {
    "duration": 142,
    "start_time": "2024-07-14T16:00:23.618Z"
   },
   {
    "duration": 128,
    "start_time": "2024-07-14T16:00:23.761Z"
   },
   {
    "duration": 121,
    "start_time": "2024-07-14T16:00:23.891Z"
   },
   {
    "duration": 137,
    "start_time": "2024-07-14T16:00:24.013Z"
   },
   {
    "duration": 122,
    "start_time": "2024-07-14T16:00:24.151Z"
   },
   {
    "duration": 121,
    "start_time": "2024-07-14T16:00:24.274Z"
   },
   {
    "duration": 117,
    "start_time": "2024-07-14T16:00:24.396Z"
   },
   {
    "duration": 123,
    "start_time": "2024-07-14T16:00:24.514Z"
   },
   {
    "duration": 200,
    "start_time": "2024-07-14T16:00:24.639Z"
   },
   {
    "duration": 127,
    "start_time": "2024-07-14T16:00:24.840Z"
   },
   {
    "duration": 130,
    "start_time": "2024-07-14T16:00:24.969Z"
   },
   {
    "duration": 141,
    "start_time": "2024-07-14T16:00:25.101Z"
   },
   {
    "duration": 3536,
    "start_time": "2024-07-14T16:00:25.243Z"
   },
   {
    "duration": 9,
    "start_time": "2024-07-14T16:00:28.780Z"
   },
   {
    "duration": 12,
    "start_time": "2024-07-14T16:00:28.790Z"
   },
   {
    "duration": 527,
    "start_time": "2024-07-14T16:00:28.804Z"
   },
   {
    "duration": 7,
    "start_time": "2024-07-14T16:00:29.332Z"
   },
   {
    "duration": 6,
    "start_time": "2024-07-14T16:00:29.341Z"
   },
   {
    "duration": 48262,
    "start_time": "2024-07-14T16:00:29.348Z"
   },
   {
    "duration": 2665,
    "start_time": "2024-07-14T16:01:17.611Z"
   },
   {
    "duration": 18,
    "start_time": "2024-07-14T16:01:20.278Z"
   },
   {
    "duration": 119,
    "start_time": "2024-07-14T16:01:20.298Z"
   },
   {
    "duration": 3247,
    "start_time": "2024-07-16T11:44:12.816Z"
   },
   {
    "duration": 1382,
    "start_time": "2024-07-16T11:44:16.065Z"
   },
   {
    "duration": 430,
    "start_time": "2024-07-16T11:44:17.448Z"
   },
   {
    "duration": 12,
    "start_time": "2024-07-16T11:44:17.879Z"
   },
   {
    "duration": 17,
    "start_time": "2024-07-16T11:44:17.892Z"
   },
   {
    "duration": 7,
    "start_time": "2024-07-16T11:44:17.910Z"
   },
   {
    "duration": 26,
    "start_time": "2024-07-16T11:44:17.919Z"
   },
   {
    "duration": 8,
    "start_time": "2024-07-16T11:44:17.946Z"
   },
   {
    "duration": 14,
    "start_time": "2024-07-16T11:44:17.955Z"
   },
   {
    "duration": 10,
    "start_time": "2024-07-16T11:44:17.972Z"
   },
   {
    "duration": 12,
    "start_time": "2024-07-16T11:44:17.984Z"
   },
   {
    "duration": 19,
    "start_time": "2024-07-16T11:44:17.998Z"
   },
   {
    "duration": 16,
    "start_time": "2024-07-16T11:44:18.019Z"
   },
   {
    "duration": 14,
    "start_time": "2024-07-16T11:44:18.036Z"
   },
   {
    "duration": 11,
    "start_time": "2024-07-16T11:44:18.051Z"
   },
   {
    "duration": 12,
    "start_time": "2024-07-16T11:44:18.063Z"
   },
   {
    "duration": 18,
    "start_time": "2024-07-16T11:44:18.076Z"
   },
   {
    "duration": 10,
    "start_time": "2024-07-16T11:44:18.096Z"
   },
   {
    "duration": 11,
    "start_time": "2024-07-16T11:44:18.108Z"
   },
   {
    "duration": 3,
    "start_time": "2024-07-16T11:44:18.121Z"
   },
   {
    "duration": 6,
    "start_time": "2024-07-16T11:44:18.126Z"
   },
   {
    "duration": 21,
    "start_time": "2024-07-16T11:44:18.134Z"
   },
   {
    "duration": 5,
    "start_time": "2024-07-16T11:44:18.156Z"
   },
   {
    "duration": 20,
    "start_time": "2024-07-16T11:44:18.162Z"
   },
   {
    "duration": 12,
    "start_time": "2024-07-16T11:44:18.184Z"
   },
   {
    "duration": 162,
    "start_time": "2024-07-16T11:44:18.198Z"
   },
   {
    "duration": 9,
    "start_time": "2024-07-16T11:44:18.361Z"
   },
   {
    "duration": 22,
    "start_time": "2024-07-16T11:44:18.373Z"
   },
   {
    "duration": 15,
    "start_time": "2024-07-16T11:44:18.396Z"
   },
   {
    "duration": 13,
    "start_time": "2024-07-16T11:44:18.412Z"
   },
   {
    "duration": 17,
    "start_time": "2024-07-16T11:44:18.426Z"
   },
   {
    "duration": 4,
    "start_time": "2024-07-16T11:44:18.444Z"
   },
   {
    "duration": 34,
    "start_time": "2024-07-16T11:44:18.450Z"
   },
   {
    "duration": 17,
    "start_time": "2024-07-16T11:44:18.485Z"
   },
   {
    "duration": 6,
    "start_time": "2024-07-16T11:44:18.503Z"
   },
   {
    "duration": 5,
    "start_time": "2024-07-16T11:44:18.510Z"
   },
   {
    "duration": 13,
    "start_time": "2024-07-16T11:44:18.517Z"
   },
   {
    "duration": 10,
    "start_time": "2024-07-16T11:44:18.532Z"
   },
   {
    "duration": 14,
    "start_time": "2024-07-16T11:44:18.543Z"
   },
   {
    "duration": 5,
    "start_time": "2024-07-16T11:44:18.558Z"
   },
   {
    "duration": 468,
    "start_time": "2024-07-16T11:44:18.564Z"
   },
   {
    "duration": 413,
    "start_time": "2024-07-16T11:44:19.034Z"
   },
   {
    "duration": 443,
    "start_time": "2024-07-16T11:44:19.448Z"
   },
   {
    "duration": 9,
    "start_time": "2024-07-16T11:44:19.892Z"
   },
   {
    "duration": 159,
    "start_time": "2024-07-16T11:44:19.903Z"
   },
   {
    "duration": 116,
    "start_time": "2024-07-16T11:44:20.064Z"
   },
   {
    "duration": 126,
    "start_time": "2024-07-16T11:44:20.181Z"
   },
   {
    "duration": 145,
    "start_time": "2024-07-16T11:44:20.309Z"
   },
   {
    "duration": 109,
    "start_time": "2024-07-16T11:44:20.456Z"
   },
   {
    "duration": 115,
    "start_time": "2024-07-16T11:44:20.566Z"
   },
   {
    "duration": 110,
    "start_time": "2024-07-16T11:44:20.683Z"
   },
   {
    "duration": 119,
    "start_time": "2024-07-16T11:44:20.794Z"
   },
   {
    "duration": 111,
    "start_time": "2024-07-16T11:44:20.914Z"
   },
   {
    "duration": 104,
    "start_time": "2024-07-16T11:44:21.026Z"
   },
   {
    "duration": 109,
    "start_time": "2024-07-16T11:44:21.131Z"
   },
   {
    "duration": 121,
    "start_time": "2024-07-16T11:44:21.241Z"
   },
   {
    "duration": 174,
    "start_time": "2024-07-16T11:44:21.363Z"
   },
   {
    "duration": 104,
    "start_time": "2024-07-16T11:44:21.538Z"
   },
   {
    "duration": 121,
    "start_time": "2024-07-16T11:44:21.644Z"
   },
   {
    "duration": 109,
    "start_time": "2024-07-16T11:44:21.766Z"
   },
   {
    "duration": 2915,
    "start_time": "2024-07-16T11:44:21.877Z"
   },
   {
    "duration": 8,
    "start_time": "2024-07-16T11:44:24.793Z"
   },
   {
    "duration": 5,
    "start_time": "2024-07-16T11:44:24.802Z"
   },
   {
    "duration": 531,
    "start_time": "2024-07-16T11:44:24.809Z"
   },
   {
    "duration": 3,
    "start_time": "2024-07-16T11:44:25.341Z"
   },
   {
    "duration": 7,
    "start_time": "2024-07-16T11:44:25.346Z"
   },
   {
    "duration": 45560,
    "start_time": "2024-07-16T11:44:25.354Z"
   },
   {
    "duration": 2596,
    "start_time": "2024-07-16T11:45:10.915Z"
   },
   {
    "duration": 18,
    "start_time": "2024-07-16T11:45:13.512Z"
   },
   {
    "duration": 64,
    "start_time": "2024-07-16T11:45:13.531Z"
   },
   {
    "duration": 102,
    "start_time": "2024-07-16T11:46:12.483Z"
   },
   {
    "duration": 3,
    "start_time": "2024-07-16T11:46:32.661Z"
   },
   {
    "duration": 9,
    "start_time": "2024-07-16T11:46:43.049Z"
   },
   {
    "duration": 10,
    "start_time": "2024-07-16T11:46:54.141Z"
   },
   {
    "duration": 10,
    "start_time": "2024-07-16T11:47:15.625Z"
   },
   {
    "duration": 14,
    "start_time": "2024-07-16T11:47:20.492Z"
   },
   {
    "duration": 10,
    "start_time": "2024-07-16T11:47:41.339Z"
   },
   {
    "duration": 9,
    "start_time": "2024-07-16T11:49:08.800Z"
   },
   {
    "duration": 11,
    "start_time": "2024-07-16T11:49:14.589Z"
   },
   {
    "duration": 206,
    "start_time": "2024-07-16T11:50:33.737Z"
   },
   {
    "duration": 13,
    "start_time": "2024-07-16T11:52:25.091Z"
   },
   {
    "duration": 11,
    "start_time": "2024-07-16T11:54:30.412Z"
   },
   {
    "duration": 8,
    "start_time": "2024-07-16T11:54:36.137Z"
   },
   {
    "duration": 9,
    "start_time": "2024-07-16T11:55:07.699Z"
   },
   {
    "duration": 298,
    "start_time": "2024-07-16T11:55:31.662Z"
   },
   {
    "duration": 8,
    "start_time": "2024-07-16T11:57:37.751Z"
   },
   {
    "duration": 9,
    "start_time": "2024-07-16T12:00:06.828Z"
   },
   {
    "duration": 9,
    "start_time": "2024-07-16T12:01:33.998Z"
   },
   {
    "duration": 10,
    "start_time": "2024-07-16T12:02:11.038Z"
   },
   {
    "duration": 9,
    "start_time": "2024-07-16T12:03:54.388Z"
   },
   {
    "duration": 10,
    "start_time": "2024-07-16T12:04:04.132Z"
   },
   {
    "duration": 10,
    "start_time": "2024-07-16T12:04:10.476Z"
   },
   {
    "duration": 12,
    "start_time": "2024-07-16T12:04:18.310Z"
   },
   {
    "duration": 10,
    "start_time": "2024-07-16T12:07:28.165Z"
   },
   {
    "duration": 2601,
    "start_time": "2024-07-16T12:07:38.814Z"
   },
   {
    "duration": 1372,
    "start_time": "2024-07-16T12:07:41.417Z"
   },
   {
    "duration": 93,
    "start_time": "2024-07-16T12:07:42.790Z"
   },
   {
    "duration": 13,
    "start_time": "2024-07-16T12:07:42.885Z"
   },
   {
    "duration": 14,
    "start_time": "2024-07-16T12:07:42.900Z"
   },
   {
    "duration": 20,
    "start_time": "2024-07-16T12:07:42.915Z"
   },
   {
    "duration": 11,
    "start_time": "2024-07-16T12:07:42.936Z"
   },
   {
    "duration": 10,
    "start_time": "2024-07-16T12:07:42.948Z"
   },
   {
    "duration": 12,
    "start_time": "2024-07-16T12:07:42.959Z"
   },
   {
    "duration": 6,
    "start_time": "2024-07-16T12:07:42.974Z"
   },
   {
    "duration": 27,
    "start_time": "2024-07-16T12:07:42.982Z"
   },
   {
    "duration": 8,
    "start_time": "2024-07-16T12:07:43.010Z"
   },
   {
    "duration": 70,
    "start_time": "2024-07-16T12:07:43.019Z"
   },
   {
    "duration": 108,
    "start_time": "2024-07-16T12:07:43.091Z"
   },
   {
    "duration": 104,
    "start_time": "2024-07-16T12:07:43.201Z"
   },
   {
    "duration": 54,
    "start_time": "2024-07-16T12:07:43.306Z"
   },
   {
    "duration": 12,
    "start_time": "2024-07-16T12:07:43.361Z"
   },
   {
    "duration": 32,
    "start_time": "2024-07-16T12:07:43.374Z"
   },
   {
    "duration": 16,
    "start_time": "2024-07-16T12:07:43.407Z"
   },
   {
    "duration": 12,
    "start_time": "2024-07-16T12:07:43.425Z"
   },
   {
    "duration": 25,
    "start_time": "2024-07-16T12:07:43.438Z"
   },
   {
    "duration": 30,
    "start_time": "2024-07-16T12:07:43.465Z"
   },
   {
    "duration": 9,
    "start_time": "2024-07-16T12:07:43.496Z"
   },
   {
    "duration": 28,
    "start_time": "2024-07-16T12:07:43.506Z"
   },
   {
    "duration": 15,
    "start_time": "2024-07-16T12:07:43.535Z"
   },
   {
    "duration": 32,
    "start_time": "2024-07-16T12:07:43.552Z"
   },
   {
    "duration": 19,
    "start_time": "2024-07-16T12:07:43.585Z"
   },
   {
    "duration": 39,
    "start_time": "2024-07-16T12:07:43.609Z"
   },
   {
    "duration": 20,
    "start_time": "2024-07-16T12:07:43.649Z"
   },
   {
    "duration": 18,
    "start_time": "2024-07-16T12:07:43.670Z"
   },
   {
    "duration": 24,
    "start_time": "2024-07-16T12:07:43.690Z"
   },
   {
    "duration": 11,
    "start_time": "2024-07-16T12:07:43.715Z"
   },
   {
    "duration": 41,
    "start_time": "2024-07-16T12:07:43.727Z"
   },
   {
    "duration": 4,
    "start_time": "2024-07-16T12:07:43.770Z"
   },
   {
    "duration": 14,
    "start_time": "2024-07-16T12:07:43.775Z"
   },
   {
    "duration": 79,
    "start_time": "2024-07-16T12:07:43.790Z"
   },
   {
    "duration": 14,
    "start_time": "2024-07-16T12:07:43.871Z"
   },
   {
    "duration": 25,
    "start_time": "2024-07-16T12:07:43.887Z"
   },
   {
    "duration": 17,
    "start_time": "2024-07-16T12:07:43.913Z"
   },
   {
    "duration": 4,
    "start_time": "2024-07-16T12:07:43.931Z"
   },
   {
    "duration": 395,
    "start_time": "2024-07-16T12:07:43.936Z"
   },
   {
    "duration": 410,
    "start_time": "2024-07-16T12:07:44.333Z"
   },
   {
    "duration": 480,
    "start_time": "2024-07-16T12:07:44.744Z"
   },
   {
    "duration": 6,
    "start_time": "2024-07-16T12:07:45.226Z"
   },
   {
    "duration": 237,
    "start_time": "2024-07-16T12:07:45.233Z"
   },
   {
    "duration": 127,
    "start_time": "2024-07-16T12:07:45.472Z"
   },
   {
    "duration": 141,
    "start_time": "2024-07-16T12:07:45.601Z"
   },
   {
    "duration": 130,
    "start_time": "2024-07-16T12:07:45.744Z"
   },
   {
    "duration": 118,
    "start_time": "2024-07-16T12:07:45.875Z"
   },
   {
    "duration": 125,
    "start_time": "2024-07-16T12:07:46.002Z"
   },
   {
    "duration": 118,
    "start_time": "2024-07-16T12:07:46.129Z"
   },
   {
    "duration": 147,
    "start_time": "2024-07-16T12:07:46.249Z"
   },
   {
    "duration": 121,
    "start_time": "2024-07-16T12:07:46.398Z"
   },
   {
    "duration": 116,
    "start_time": "2024-07-16T12:07:46.520Z"
   },
   {
    "duration": 116,
    "start_time": "2024-07-16T12:07:46.637Z"
   },
   {
    "duration": 129,
    "start_time": "2024-07-16T12:07:46.755Z"
   },
   {
    "duration": 192,
    "start_time": "2024-07-16T12:07:46.885Z"
   },
   {
    "duration": 109,
    "start_time": "2024-07-16T12:07:47.078Z"
   },
   {
    "duration": 125,
    "start_time": "2024-07-16T12:07:47.188Z"
   },
   {
    "duration": 123,
    "start_time": "2024-07-16T12:07:47.315Z"
   },
   {
    "duration": 3208,
    "start_time": "2024-07-16T12:07:47.440Z"
   },
   {
    "duration": 9,
    "start_time": "2024-07-16T12:07:50.650Z"
   },
   {
    "duration": 3,
    "start_time": "2024-07-16T12:07:50.661Z"
   },
   {
    "duration": 561,
    "start_time": "2024-07-16T12:07:50.665Z"
   },
   {
    "duration": 4,
    "start_time": "2024-07-16T12:07:51.227Z"
   },
   {
    "duration": 133,
    "start_time": "2024-07-16T12:07:51.232Z"
   },
   {
    "duration": 49566,
    "start_time": "2024-07-16T12:07:51.367Z"
   },
   {
    "duration": 2798,
    "start_time": "2024-07-16T12:08:40.935Z"
   },
   {
    "duration": 18,
    "start_time": "2024-07-16T12:08:43.734Z"
   },
   {
    "duration": 43,
    "start_time": "2024-07-16T12:08:43.754Z"
   },
   {
    "duration": 106,
    "start_time": "2024-07-16T12:08:43.798Z"
   },
   {
    "duration": 0,
    "start_time": "2024-07-16T12:08:43.906Z"
   },
   {
    "duration": 9,
    "start_time": "2024-07-16T12:15:29.023Z"
   },
   {
    "duration": 265,
    "start_time": "2024-07-16T12:15:37.579Z"
   },
   {
    "duration": 11,
    "start_time": "2024-07-16T12:21:39.832Z"
   },
   {
    "duration": 8,
    "start_time": "2024-07-16T12:22:41.431Z"
   },
   {
    "duration": 12,
    "start_time": "2024-07-16T12:24:30.578Z"
   },
   {
    "duration": 9,
    "start_time": "2024-07-16T12:25:24.428Z"
   },
   {
    "duration": 12,
    "start_time": "2024-07-16T12:26:37.084Z"
   },
   {
    "duration": 8,
    "start_time": "2024-07-16T12:27:09.110Z"
   },
   {
    "duration": 13,
    "start_time": "2024-07-16T12:27:55.708Z"
   },
   {
    "duration": 16,
    "start_time": "2024-07-16T12:29:23.150Z"
   },
   {
    "duration": 20,
    "start_time": "2024-07-16T12:29:53.163Z"
   },
   {
    "duration": 17,
    "start_time": "2024-07-16T12:34:46.830Z"
   },
   {
    "duration": 16,
    "start_time": "2024-07-16T12:34:59.614Z"
   },
   {
    "duration": 14,
    "start_time": "2024-07-16T12:35:10.592Z"
   },
   {
    "duration": 2,
    "start_time": "2024-07-16T12:36:35.646Z"
   },
   {
    "duration": 2,
    "start_time": "2024-07-16T12:36:44.960Z"
   },
   {
    "duration": 8,
    "start_time": "2024-07-16T12:36:48.280Z"
   },
   {
    "duration": 4,
    "start_time": "2024-07-16T12:36:51.364Z"
   },
   {
    "duration": 8,
    "start_time": "2024-07-16T12:37:05.948Z"
   },
   {
    "duration": 15,
    "start_time": "2024-07-16T12:37:34.053Z"
   },
   {
    "duration": 7,
    "start_time": "2024-07-16T12:37:58.964Z"
   },
   {
    "duration": 10,
    "start_time": "2024-07-16T12:38:28.462Z"
   },
   {
    "duration": 9,
    "start_time": "2024-07-16T12:38:55.697Z"
   },
   {
    "duration": 14,
    "start_time": "2024-07-16T12:40:10.780Z"
   },
   {
    "duration": 13,
    "start_time": "2024-07-16T12:40:41.649Z"
   },
   {
    "duration": 3,
    "start_time": "2024-07-16T12:42:31.847Z"
   },
   {
    "duration": 3,
    "start_time": "2024-07-16T12:42:47.816Z"
   },
   {
    "duration": 3,
    "start_time": "2024-07-16T12:43:17.267Z"
   },
   {
    "duration": 3,
    "start_time": "2024-07-16T12:44:19.427Z"
   },
   {
    "duration": 9,
    "start_time": "2024-07-16T12:45:14.684Z"
   },
   {
    "duration": 8170,
    "start_time": "2024-07-16T12:45:27.872Z"
   },
   {
    "duration": 8,
    "start_time": "2024-07-16T12:46:05.469Z"
   },
   {
    "duration": 2434,
    "start_time": "2024-07-16T12:46:35.093Z"
   },
   {
    "duration": 4011,
    "start_time": "2024-07-16T12:46:43.504Z"
   },
   {
    "duration": 450,
    "start_time": "2024-07-16T12:46:48.853Z"
   },
   {
    "duration": 6,
    "start_time": "2024-07-16T12:47:22.241Z"
   },
   {
    "duration": 12,
    "start_time": "2024-07-16T12:47:32.530Z"
   },
   {
    "duration": 12,
    "start_time": "2024-07-16T12:47:53.089Z"
   },
   {
    "duration": 4,
    "start_time": "2024-07-16T12:48:20.264Z"
   },
   {
    "duration": 8217,
    "start_time": "2024-07-16T12:49:01.279Z"
   },
   {
    "duration": 8009,
    "start_time": "2024-07-16T12:49:22.532Z"
   },
   {
    "duration": 8206,
    "start_time": "2024-07-16T12:50:50.887Z"
   },
   {
    "duration": 8298,
    "start_time": "2024-07-16T12:51:29.532Z"
   },
   {
    "duration": 8147,
    "start_time": "2024-07-16T12:51:44.697Z"
   },
   {
    "duration": 8039,
    "start_time": "2024-07-16T12:52:15.940Z"
   },
   {
    "duration": 2,
    "start_time": "2024-07-16T12:52:37.943Z"
   },
   {
    "duration": 7935,
    "start_time": "2024-07-16T12:52:47.809Z"
   },
   {
    "duration": 3293,
    "start_time": "2024-07-17T15:35:04.217Z"
   },
   {
    "duration": 1623,
    "start_time": "2024-07-17T15:35:07.512Z"
   },
   {
    "duration": 397,
    "start_time": "2024-07-17T15:35:09.137Z"
   },
   {
    "duration": 13,
    "start_time": "2024-07-17T15:35:09.536Z"
   },
   {
    "duration": 12,
    "start_time": "2024-07-17T15:35:09.550Z"
   },
   {
    "duration": 7,
    "start_time": "2024-07-17T15:35:09.563Z"
   },
   {
    "duration": 20,
    "start_time": "2024-07-17T15:35:09.572Z"
   },
   {
    "duration": 9,
    "start_time": "2024-07-17T15:35:09.595Z"
   },
   {
    "duration": 12,
    "start_time": "2024-07-17T15:35:09.605Z"
   },
   {
    "duration": 6,
    "start_time": "2024-07-17T15:35:09.619Z"
   },
   {
    "duration": 8,
    "start_time": "2024-07-17T15:35:09.627Z"
   },
   {
    "duration": 9,
    "start_time": "2024-07-17T15:35:09.636Z"
   },
   {
    "duration": 6,
    "start_time": "2024-07-17T15:35:09.646Z"
   },
   {
    "duration": 7,
    "start_time": "2024-07-17T15:35:09.653Z"
   },
   {
    "duration": 16,
    "start_time": "2024-07-17T15:35:09.681Z"
   },
   {
    "duration": 8,
    "start_time": "2024-07-17T15:35:09.698Z"
   },
   {
    "duration": 6,
    "start_time": "2024-07-17T15:35:09.708Z"
   },
   {
    "duration": 7,
    "start_time": "2024-07-17T15:35:09.715Z"
   },
   {
    "duration": 4,
    "start_time": "2024-07-17T15:35:09.724Z"
   },
   {
    "duration": 3,
    "start_time": "2024-07-17T15:35:09.729Z"
   },
   {
    "duration": 6,
    "start_time": "2024-07-17T15:35:09.734Z"
   },
   {
    "duration": 11,
    "start_time": "2024-07-17T15:35:09.741Z"
   },
   {
    "duration": 14,
    "start_time": "2024-07-17T15:35:09.781Z"
   },
   {
    "duration": 12,
    "start_time": "2024-07-17T15:35:09.797Z"
   },
   {
    "duration": 16,
    "start_time": "2024-07-17T15:35:09.810Z"
   },
   {
    "duration": 24,
    "start_time": "2024-07-17T15:35:09.827Z"
   },
   {
    "duration": 44,
    "start_time": "2024-07-17T15:35:09.852Z"
   },
   {
    "duration": 25,
    "start_time": "2024-07-17T15:35:09.900Z"
   },
   {
    "duration": 17,
    "start_time": "2024-07-17T15:35:09.927Z"
   },
   {
    "duration": 13,
    "start_time": "2024-07-17T15:35:09.946Z"
   },
   {
    "duration": 38,
    "start_time": "2024-07-17T15:35:09.960Z"
   },
   {
    "duration": 4,
    "start_time": "2024-07-17T15:35:09.999Z"
   },
   {
    "duration": 50,
    "start_time": "2024-07-17T15:35:10.005Z"
   },
   {
    "duration": 5,
    "start_time": "2024-07-17T15:35:10.056Z"
   },
   {
    "duration": 7,
    "start_time": "2024-07-17T15:35:10.062Z"
   },
   {
    "duration": 23,
    "start_time": "2024-07-17T15:35:10.070Z"
   },
   {
    "duration": 12,
    "start_time": "2024-07-17T15:35:10.094Z"
   },
   {
    "duration": 10,
    "start_time": "2024-07-17T15:35:10.108Z"
   },
   {
    "duration": 17,
    "start_time": "2024-07-17T15:35:10.119Z"
   },
   {
    "duration": 4,
    "start_time": "2024-07-17T15:35:10.137Z"
   },
   {
    "duration": 608,
    "start_time": "2024-07-17T15:35:10.142Z"
   },
   {
    "duration": 446,
    "start_time": "2024-07-17T15:35:10.751Z"
   },
   {
    "duration": 434,
    "start_time": "2024-07-17T15:35:11.198Z"
   },
   {
    "duration": 4,
    "start_time": "2024-07-17T15:35:11.634Z"
   },
   {
    "duration": 148,
    "start_time": "2024-07-17T15:35:11.639Z"
   },
   {
    "duration": 138,
    "start_time": "2024-07-17T15:35:11.789Z"
   },
   {
    "duration": 147,
    "start_time": "2024-07-17T15:35:11.928Z"
   },
   {
    "duration": 131,
    "start_time": "2024-07-17T15:35:12.085Z"
   },
   {
    "duration": 119,
    "start_time": "2024-07-17T15:35:12.217Z"
   },
   {
    "duration": 132,
    "start_time": "2024-07-17T15:35:12.338Z"
   },
   {
    "duration": 125,
    "start_time": "2024-07-17T15:35:12.471Z"
   },
   {
    "duration": 139,
    "start_time": "2024-07-17T15:35:12.598Z"
   },
   {
    "duration": 209,
    "start_time": "2024-07-17T15:35:12.738Z"
   },
   {
    "duration": 119,
    "start_time": "2024-07-17T15:35:12.948Z"
   },
   {
    "duration": 132,
    "start_time": "2024-07-17T15:35:13.068Z"
   },
   {
    "duration": 120,
    "start_time": "2024-07-17T15:35:13.202Z"
   },
   {
    "duration": 112,
    "start_time": "2024-07-17T15:35:13.324Z"
   },
   {
    "duration": 116,
    "start_time": "2024-07-17T15:35:13.438Z"
   },
   {
    "duration": 142,
    "start_time": "2024-07-17T15:35:13.555Z"
   },
   {
    "duration": 118,
    "start_time": "2024-07-17T15:35:13.698Z"
   },
   {
    "duration": 3525,
    "start_time": "2024-07-17T15:35:13.817Z"
   },
   {
    "duration": 9,
    "start_time": "2024-07-17T15:35:17.344Z"
   },
   {
    "duration": 4,
    "start_time": "2024-07-17T15:35:17.354Z"
   },
   {
    "duration": 556,
    "start_time": "2024-07-17T15:35:17.359Z"
   },
   {
    "duration": 4,
    "start_time": "2024-07-17T15:35:17.916Z"
   },
   {
    "duration": 3,
    "start_time": "2024-07-17T15:35:17.921Z"
   },
   {
    "duration": 47861,
    "start_time": "2024-07-17T15:35:17.926Z"
   },
   {
    "duration": 2630,
    "start_time": "2024-07-17T15:36:05.792Z"
   },
   {
    "duration": 19,
    "start_time": "2024-07-17T15:36:08.423Z"
   },
   {
    "duration": 40,
    "start_time": "2024-07-17T15:36:08.443Z"
   },
   {
    "duration": 9461,
    "start_time": "2024-07-17T15:36:08.484Z"
   },
   {
    "duration": 312,
    "start_time": "2024-07-17T15:36:17.946Z"
   }
  ],
  "kernelspec": {
   "display_name": "Python 3 (ipykernel)",
   "language": "python",
   "name": "python3"
  },
  "language_info": {
   "codemirror_mode": {
    "name": "ipython",
    "version": 3
   },
   "file_extension": ".py",
   "mimetype": "text/x-python",
   "name": "python",
   "nbconvert_exporter": "python",
   "pygments_lexer": "ipython3",
   "version": "3.9.5"
  },
  "toc": {
   "base_numbering": 1,
   "nav_menu": {},
   "number_sections": true,
   "sideBar": true,
   "skip_h1_title": true,
   "title_cell": "Table of Contents",
   "title_sidebar": "Contents",
   "toc_cell": false,
   "toc_position": {},
   "toc_section_display": true,
   "toc_window_display": false
  }
 },
 "nbformat": 4,
 "nbformat_minor": 5
}

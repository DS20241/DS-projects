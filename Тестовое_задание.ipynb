{
 "cells": [
  {
   "cell_type": "markdown",
   "id": "5dd8e7b9-58d5-4dd5-970b-e8d59c3f85b3",
   "metadata": {},
   "source": [
    "# Тестовое задание по направлению \"Data Science\"."
   ]
  },
  {
   "cell_type": "markdown",
   "id": "502ce43b-5b90-4d36-86ab-fdb9e72e7c63",
   "metadata": {},
   "source": [
    "## Описание данных."
   ]
  },
  {
   "cell_type": "markdown",
   "id": "8c6a2f31-d58c-444e-8264-f21ffc3b0fd2",
   "metadata": {},
   "source": [
    "В данном проекте используется нам был предоставлен текстовый файл в формате 'DOCX', содержащий диалог с совещания. Этот файл представляет собой детализированные записи обсуждений, которые включают как текстовые сообщения участников, так и временные метки, отражающие моменты начала и завершения каждого сообщения.<br>Целью задания является всесторонний анализ текста с применением современных методов анализа данных и обработки естественного языка.<br><br>Основные шаги:<br>1. Исследовательский анализ данных (EDA);<br>2. Анализ эмоциональности текста;<br>3. Тематическое моделирование.<br><br>Такой комплексный анализ позволит глубже понять содержание совещания, выявить эмоциональные настроения участников и определить основные темы, что может, в теории, повысить эффективность принятия решений и организацию будущих обсуждений."
   ]
  },
  {
   "cell_type": "markdown",
   "id": "eb44090e-3fa6-4155-9b1b-b21e3a0f0724",
   "metadata": {},
   "source": [
    "## 1. Исследовательский анализ данных (EDA)."
   ]
  },
  {
   "cell_type": "markdown",
   "id": "792f89b4-eb4b-4c26-ac3f-385f3566f583",
   "metadata": {},
   "source": [
    "### 1.1. Загрузка и очистка текстовых данных."
   ]
  },
  {
   "cell_type": "code",
   "execution_count": 1,
   "id": "9c0be17c-0e1c-40b4-bc51-f9ac1a47eb08",
   "metadata": {},
   "outputs": [],
   "source": [
    "import pandas as pd\n",
    "import re\n",
    "from docx import Document\n",
    "from collections import Counter\n",
    "import nltk\n",
    "from nltk.corpus import stopwords\n",
    "import os\n",
    "import matplotlib.pyplot as plt\n",
    "from nltk.tokenize import word_tokenize\n",
    "from nltk.stem import WordNetLemmatizer\n",
    "import spacy\n",
    "import seaborn as sns\n",
    "from sklearn.feature_extraction.text import CountVectorizer\n",
    "from sklearn.decomposition import LatentDirichletAllocation\n",
    "import gensim\n",
    "import gensim.corpora as corpora\n",
    "import gensim.models as models\n",
    "from sklearn.model_selection import train_test_split\n",
    "from gensim.models import CoherenceModel\n",
    "import pyLDAvis\n",
    "import pyLDAvis.gensim_models as gensimvis \n",
    "\n",
    "RANDOM_STATE=42\n",
    "TEST_SIZE=0.2"
   ]
  },
  {
   "cell_type": "markdown",
   "id": "ab6b2532-bdf3-4b53-99e4-d9e33054a962",
   "metadata": {},
   "source": [
    "Для начала напишем функцию для загрузки файла формата '.docx' и извлечения его содержимого. А затем присвоим результат переменной 'text'."
   ]
  },
  {
   "cell_type": "code",
   "execution_count": 2,
   "id": "e9a575b6-d12b-46ff-8303-bbf23490a680",
   "metadata": {},
   "outputs": [
    {
     "name": "stdout",
     "output_type": "stream",
     "text": [
      "Первые 500 символов исходного текста:\n",
      "\n",
      "Расшифрованный текст.\n",
      "НЕ УДАЛОСЬ РАСПОЗНАТЬ СОБЕСЕДНИКОВ\n",
      "[0м01с–0м03с]: Ногами пинаю. \n",
      "[0м03с–0м04с]: Тут с первой еще надо начинать. \n",
      "[0м04с–0м07с]: Ты помнишь, как все в Хамсуэте их ремонтировали? \n",
      "[0м07с–0м07с]: Да. \n",
      "[0м07с–0м08с]: А, ты не знаешь. \n",
      "[0м08с–0м08с]: Почему? \n",
      "[0м08с–0м13с]: У меня был такой мониторчик от Хампа, вот, широкий. \n",
      "[0м13с–0м15с]: Я его тоже лупил, он хорошо работал. \n",
      "[0м15с–0м15с]: Так, работай. \n",
      "[0м16с–0м20с]: Да, на всякий случай еще раз всех предупреждаю, ставим за\n"
     ]
    }
   ],
   "source": [
    "def load(file_path):\n",
    "    doc = Document(file_path)\n",
    "    text = []\n",
    "    for para in doc.paragraphs:\n",
    "        text.append(para.text)\n",
    "    return '\\n'.join(text)\n",
    "    \n",
    "text = load('/Users/nolvi/Downloads/report_24_0608_131810 (1).docx')\n",
    "print(\"Первые 500 символов исходного текста:\\n\")\n",
    "print(text[:500])"
   ]
  },
  {
   "cell_type": "markdown",
   "id": "a73f5c08-f6a9-47d0-951d-a4b752d236bd",
   "metadata": {},
   "source": [
    "\n",
    "Сразу выполним преобразование данных в датафрейм."
   ]
  },
  {
   "cell_type": "code",
   "execution_count": 3,
   "id": "85a17357-d2c9-4d7b-8a36-838f05700816",
   "metadata": {},
   "outputs": [
    {
     "data": {
      "text/html": [
       "<div>\n",
       "<style scoped>\n",
       "    .dataframe tbody tr th:only-of-type {\n",
       "        vertical-align: middle;\n",
       "    }\n",
       "\n",
       "    .dataframe tbody tr th {\n",
       "        vertical-align: top;\n",
       "    }\n",
       "\n",
       "    .dataframe thead th {\n",
       "        text-align: right;\n",
       "    }\n",
       "</style>\n",
       "<table border=\"1\" class=\"dataframe\">\n",
       "  <thead>\n",
       "    <tr style=\"text-align: right;\">\n",
       "      <th></th>\n",
       "      <th>start_time</th>\n",
       "      <th>end_time</th>\n",
       "      <th>text</th>\n",
       "    </tr>\n",
       "  </thead>\n",
       "  <tbody>\n",
       "    <tr>\n",
       "      <th>0</th>\n",
       "      <td>0м01с</td>\n",
       "      <td>0м03с</td>\n",
       "      <td>Ногами пинаю.</td>\n",
       "    </tr>\n",
       "    <tr>\n",
       "      <th>1</th>\n",
       "      <td>0м03с</td>\n",
       "      <td>0м04с</td>\n",
       "      <td>Тут с первой еще надо начинать.</td>\n",
       "    </tr>\n",
       "    <tr>\n",
       "      <th>2</th>\n",
       "      <td>0м04с</td>\n",
       "      <td>0м07с</td>\n",
       "      <td>Ты помнишь, как все в Хамсуэте их ремонтировали?</td>\n",
       "    </tr>\n",
       "    <tr>\n",
       "      <th>3</th>\n",
       "      <td>0м07с</td>\n",
       "      <td>0м07с</td>\n",
       "      <td>Да.</td>\n",
       "    </tr>\n",
       "    <tr>\n",
       "      <th>4</th>\n",
       "      <td>0м07с</td>\n",
       "      <td>0м08с</td>\n",
       "      <td>А, ты не знаешь.</td>\n",
       "    </tr>\n",
       "  </tbody>\n",
       "</table>\n",
       "</div>"
      ],
      "text/plain": [
       "  start_time end_time                                               text\n",
       "0      0м01с    0м03с                                     Ногами пинаю. \n",
       "1      0м03с    0м04с                   Тут с первой еще надо начинать. \n",
       "2      0м04с    0м07с  Ты помнишь, как все в Хамсуэте их ремонтировали? \n",
       "3      0м07с    0м07с                                               Да. \n",
       "4      0м07с    0м08с                                  А, ты не знаешь. "
      ]
     },
     "execution_count": 3,
     "metadata": {},
     "output_type": "execute_result"
    }
   ],
   "source": [
    "pattern = re.compile(r'\\[(\\d+м\\d+с)–(\\d+м\\d+с)\\]:\\s(.+)')\n",
    "matches = pattern.findall(text)\n",
    "\n",
    "df = pd.DataFrame(matches, columns=['start_time', 'end_time', 'text'])\n",
    "\n",
    "df.head()"
   ]
  },
  {
   "cell_type": "markdown",
   "id": "328c406e-5696-4d59-9ee1-b640c4457431",
   "metadata": {},
   "source": [
    "Датафрейм получен, однако нам необходимо выполнить очистку текста и исправить формат временных меток (перевести в секунды)."
   ]
  },
  {
   "cell_type": "code",
   "execution_count": 4,
   "id": "8ca50137-4ccc-4da8-9f45-d0ca7daad848",
   "metadata": {},
   "outputs": [],
   "source": [
    "def clean(text):\n",
    "    text = re.sub(r'Расшифрованный текст.*', '', text)\n",
    "    text = re.sub(r'НЕ УДАЛОСЬ РАСПОЗНАТЬ СОБЕСЕДНИКОВ.*', '', text)\n",
    "    text = re.sub(r'[^\\w\\s]', '', text)\n",
    "    text = text.lower()\n",
    "    text = re.sub(r'\\s+', ' ', text)\n",
    "    return text.strip()\n",
    "    \n",
    "df['text'] = df['text'].apply(clean)"
   ]
  },
  {
   "cell_type": "code",
   "execution_count": 5,
   "id": "7558f3f5-bfa5-4208-85d6-40590c5e7880",
   "metadata": {},
   "outputs": [],
   "source": [
    "def time_to_seconds(time_str):\n",
    "    minutes, seconds = re.findall(r'(\\d+)м(\\d+)с', time_str)[0]\n",
    "    return int(minutes) * 60 + int(seconds)"
   ]
  },
  {
   "cell_type": "code",
   "execution_count": 6,
   "id": "d64072d0-0393-4e42-b47e-5ea67952d938",
   "metadata": {},
   "outputs": [],
   "source": [
    "df['start_time'] = df['start_time'].apply(time_to_seconds)\n",
    "df['end_time'] = df['end_time'].apply(time_to_seconds)"
   ]
  },
  {
   "cell_type": "code",
   "execution_count": 7,
   "id": "398c6b97-ee47-459c-af6a-4481c0c077c2",
   "metadata": {},
   "outputs": [
    {
     "data": {
      "text/html": [
       "<div>\n",
       "<style scoped>\n",
       "    .dataframe tbody tr th:only-of-type {\n",
       "        vertical-align: middle;\n",
       "    }\n",
       "\n",
       "    .dataframe tbody tr th {\n",
       "        vertical-align: top;\n",
       "    }\n",
       "\n",
       "    .dataframe thead th {\n",
       "        text-align: right;\n",
       "    }\n",
       "</style>\n",
       "<table border=\"1\" class=\"dataframe\">\n",
       "  <thead>\n",
       "    <tr style=\"text-align: right;\">\n",
       "      <th></th>\n",
       "      <th>start_time</th>\n",
       "      <th>end_time</th>\n",
       "      <th>text</th>\n",
       "    </tr>\n",
       "  </thead>\n",
       "  <tbody>\n",
       "    <tr>\n",
       "      <th>0</th>\n",
       "      <td>1</td>\n",
       "      <td>3</td>\n",
       "      <td>ногами пинаю</td>\n",
       "    </tr>\n",
       "    <tr>\n",
       "      <th>1</th>\n",
       "      <td>3</td>\n",
       "      <td>4</td>\n",
       "      <td>тут с первой еще надо начинать</td>\n",
       "    </tr>\n",
       "    <tr>\n",
       "      <th>2</th>\n",
       "      <td>4</td>\n",
       "      <td>7</td>\n",
       "      <td>ты помнишь как все в хамсуэте их ремонтировали</td>\n",
       "    </tr>\n",
       "    <tr>\n",
       "      <th>3</th>\n",
       "      <td>7</td>\n",
       "      <td>7</td>\n",
       "      <td>да</td>\n",
       "    </tr>\n",
       "    <tr>\n",
       "      <th>4</th>\n",
       "      <td>7</td>\n",
       "      <td>8</td>\n",
       "      <td>а ты не знаешь</td>\n",
       "    </tr>\n",
       "    <tr>\n",
       "      <th>5</th>\n",
       "      <td>8</td>\n",
       "      <td>8</td>\n",
       "      <td>почему</td>\n",
       "    </tr>\n",
       "    <tr>\n",
       "      <th>6</th>\n",
       "      <td>8</td>\n",
       "      <td>13</td>\n",
       "      <td>у меня был такой мониторчик от хампа вот широкий</td>\n",
       "    </tr>\n",
       "    <tr>\n",
       "      <th>7</th>\n",
       "      <td>13</td>\n",
       "      <td>15</td>\n",
       "      <td>я его тоже лупил он хорошо работал</td>\n",
       "    </tr>\n",
       "    <tr>\n",
       "      <th>8</th>\n",
       "      <td>15</td>\n",
       "      <td>15</td>\n",
       "      <td>так работай</td>\n",
       "    </tr>\n",
       "    <tr>\n",
       "      <th>9</th>\n",
       "      <td>16</td>\n",
       "      <td>20</td>\n",
       "      <td>да на всякий случай еще раз всех предупреждаю ...</td>\n",
       "    </tr>\n",
       "    <tr>\n",
       "      <th>10</th>\n",
       "      <td>20</td>\n",
       "      <td>21</td>\n",
       "      <td>прекрасно</td>\n",
       "    </tr>\n",
       "    <tr>\n",
       "      <th>11</th>\n",
       "      <td>21</td>\n",
       "      <td>25</td>\n",
       "      <td>поехали</td>\n",
       "    </tr>\n",
       "    <tr>\n",
       "      <th>12</th>\n",
       "      <td>25</td>\n",
       "      <td>28</td>\n",
       "      <td>расскажите тебе а резюме есть</td>\n",
       "    </tr>\n",
       "    <tr>\n",
       "      <th>13</th>\n",
       "      <td>28</td>\n",
       "      <td>29</td>\n",
       "      <td>резюме есть</td>\n",
       "    </tr>\n",
       "    <tr>\n",
       "      <th>14</th>\n",
       "      <td>29</td>\n",
       "      <td>32</td>\n",
       "      <td>тогда с него начнем распечатаем</td>\n",
       "    </tr>\n",
       "  </tbody>\n",
       "</table>\n",
       "</div>"
      ],
      "text/plain": [
       "    start_time  end_time                                               text\n",
       "0            1         3                                       ногами пинаю\n",
       "1            3         4                     тут с первой еще надо начинать\n",
       "2            4         7     ты помнишь как все в хамсуэте их ремонтировали\n",
       "3            7         7                                                 да\n",
       "4            7         8                                     а ты не знаешь\n",
       "5            8         8                                             почему\n",
       "6            8        13   у меня был такой мониторчик от хампа вот широкий\n",
       "7           13        15                 я его тоже лупил он хорошо работал\n",
       "8           15        15                                        так работай\n",
       "9           16        20  да на всякий случай еще раз всех предупреждаю ...\n",
       "10          20        21                                          прекрасно\n",
       "11          21        25                                            поехали\n",
       "12          25        28                      расскажите тебе а резюме есть\n",
       "13          28        29                                        резюме есть\n",
       "14          29        32                    тогда с него начнем распечатаем"
      ]
     },
     "execution_count": 7,
     "metadata": {},
     "output_type": "execute_result"
    }
   ],
   "source": [
    "df.head(15)"
   ]
  },
  {
   "cell_type": "code",
   "execution_count": 8,
   "id": "6f09a78c-d4bd-4616-b1bd-acd7e809ee78",
   "metadata": {},
   "outputs": [
    {
     "name": "stdout",
     "output_type": "stream",
     "text": [
      "<class 'pandas.core.frame.DataFrame'>\n",
      "RangeIndex: 734 entries, 0 to 733\n",
      "Data columns (total 3 columns):\n",
      " #   Column      Non-Null Count  Dtype \n",
      "---  ------      --------------  ----- \n",
      " 0   start_time  734 non-null    int64 \n",
      " 1   end_time    734 non-null    int64 \n",
      " 2   text        734 non-null    object\n",
      "dtypes: int64(2), object(1)\n",
      "memory usage: 17.3+ KB\n"
     ]
    }
   ],
   "source": [
    "df.info()"
   ]
  },
  {
   "cell_type": "markdown",
   "id": "d7c1a73c-ebdf-4ba1-9cbe-40009d74c468",
   "metadata": {},
   "source": [
    "**Промежуточный вывод:**<br>Нами были загружены и первично очищены данные. А конкретно, мы избавились от знаков препинания, лишних фраз и пробелов, а также привели символы к нижнему регистру. Также для удобства было выполнено преобразование временных меток в секунды.<br>После чего был получен красивый датафрейм, с которым мы продолжим работу."
   ]
  },
  {
   "cell_type": "markdown",
   "id": "d2027e8c-1437-426c-b36f-80ea9b5a94bb",
   "metadata": {},
   "source": [
    "### 1.2. Исследование основных характеристик текста."
   ]
  },
  {
   "cell_type": "markdown",
   "id": "6218ab80-ce33-467f-b63e-b6f66677a2b2",
   "metadata": {},
   "source": [
    "На данном шаге необходимо рассчитать характеристики текста, а именно:<br>длину сообщений (символы и слова);<br>длительность сообщений (сек);<br>частоту слов (топ 5).<br>"
   ]
  },
  {
   "cell_type": "code",
   "execution_count": 9,
   "id": "0571904a-07af-4857-928b-533eb5531eb1",
   "metadata": {},
   "outputs": [
    {
     "name": "stdout",
     "output_type": "stream",
     "text": [
      "count    734.000000\n",
      "mean      49.144414\n",
      "std       46.648883\n",
      "min        2.000000\n",
      "25%       19.250000\n",
      "50%       37.000000\n",
      "75%       64.000000\n",
      "max      437.000000\n",
      "Name: length_chars, dtype: float64 \n",
      "\n",
      "count    734.000000\n",
      "mean       8.297003\n",
      "std        7.851734\n",
      "min        1.000000\n",
      "25%        4.000000\n",
      "50%        6.000000\n",
      "75%       10.000000\n",
      "max       81.000000\n",
      "Name: length_words, dtype: float64\n"
     ]
    }
   ],
   "source": [
    "#подсчет длины предложений\n",
    "df['length_chars'] = df['text'].apply(len) #символы\n",
    "df['length_words'] = df['text'].apply(lambda x: len(x.split())) #слова\n",
    "\n",
    "print(df['length_chars'].describe(), '\\n')\n",
    "print(df['length_words'].describe())"
   ]
  },
  {
   "cell_type": "code",
   "execution_count": 10,
   "id": "286e20f7-8870-477d-a2ba-b718dbcf7a23",
   "metadata": {},
   "outputs": [
    {
     "name": "stdout",
     "output_type": "stream",
     "text": [
      "count    734.000000\n",
      "mean       3.700272\n",
      "std        3.599693\n",
      "min        0.000000\n",
      "25%        2.000000\n",
      "50%        3.000000\n",
      "75%        5.000000\n",
      "max       35.000000\n",
      "Name: duration, dtype: float64\n"
     ]
    }
   ],
   "source": [
    "#подсчет длительности сообщений\n",
    "df['duration'] = df['end_time'] - df['start_time']\n",
    "print(df['duration'].describe())"
   ]
  },
  {
   "cell_type": "code",
   "execution_count": 11,
   "id": "939c81d8-ede4-4e70-9d2a-5dfcc3ae4b08",
   "metadata": {},
   "outputs": [],
   "source": [
    "#подсчет частоты слов для каждого сообщения\n",
    "def word_frequencies(text):\n",
    "    words = text.split()\n",
    "    return Counter(words)\n",
    "\n",
    "def get_word_frequencies(text):\n",
    "    cleaned_text = clean(text)\n",
    "    frequencies = word_frequencies(cleaned_text)\n",
    "    return frequencies\n",
    "\n",
    "def frequencies_to_string(frequencies):\n",
    "    return ', '.join(f\"{word}: {freq}\" for word, freq in frequencies.items())\n",
    "\n",
    "df['word_frequencies'] = df['text'].apply(lambda x: frequencies_to_string(get_word_frequencies(x)))"
   ]
  },
  {
   "cell_type": "code",
   "execution_count": 12,
   "id": "6958f1a6-e162-4377-84cb-30fed26e86b2",
   "metadata": {},
   "outputs": [
    {
     "name": "stdout",
     "output_type": "stream",
     "text": [
      "Топ 5 наиболее частых слов, учитывая стоп-слова:\n",
      "\n",
      "в: 154\n",
      "что: 132\n",
      "это: 123\n",
      "и: 122\n",
      "я: 118\n"
     ]
    }
   ],
   "source": [
    "all_text = ' '.join(df['text'])\n",
    "\n",
    "cleaned_text = re.sub(r'[^\\w\\s]', '', all_text)\n",
    "\n",
    "total_frequencies = word_frequencies(cleaned_text)\n",
    "\n",
    "top_5_words = total_frequencies.most_common(5)\n",
    "\n",
    "print(\"Топ 5 наиболее частых слов, учитывая стоп-слова:\\n\")\n",
    "for word, count in top_5_words:\n",
    "    print(f\"{word}: {count}\")"
   ]
  },
  {
   "cell_type": "code",
   "execution_count": 13,
   "id": "148408da-c316-44e4-b8ae-d7037c34fd89",
   "metadata": {},
   "outputs": [],
   "source": [
    "stop_words = set(stopwords.words('russian'))\n",
    "stop_words.add('это')\n",
    "stop_words.add('либо')"
   ]
  },
  {
   "cell_type": "code",
   "execution_count": 14,
   "id": "cbf31054-7662-419e-ac12-00cad6e7c158",
   "metadata": {},
   "outputs": [
    {
     "name": "stdout",
     "output_type": "stream",
     "text": [
      "Топ 5 наиболее частых слов после удаления стоп-слов:\n",
      "\n",
      "модель: 34\n",
      "вопрос: 33\n",
      "просто: 28\n",
      "текст: 20\n",
      "тебе: 19\n"
     ]
    }
   ],
   "source": [
    "def remove_stopwords(text):\n",
    "    words = text.split()\n",
    "    cleaned_words = [word for word in words if word.lower() not in stop_words]\n",
    "    return ' '.join(cleaned_words)\n",
    "\n",
    "cleaned_text_without_stopwords = remove_stopwords(cleaned_text)\n",
    "\n",
    "total_frequencies_without_stopwords = word_frequencies(cleaned_text_without_stopwords)\n",
    "\n",
    "top_5_words_without_stopwords = total_frequencies_without_stopwords.most_common(5)\n",
    "\n",
    "print(\"Топ 5 наиболее частых слов после удаления стоп-слов:\\n\")\n",
    "for word, count in top_5_words_without_stopwords:\n",
    "    print(f\"{word}: {count}\")"
   ]
  },
  {
   "cell_type": "code",
   "execution_count": 15,
   "id": "d2874d50-7eae-422c-afda-6892b98d8384",
   "metadata": {},
   "outputs": [
    {
     "data": {
      "text/html": [
       "<div>\n",
       "<style scoped>\n",
       "    .dataframe tbody tr th:only-of-type {\n",
       "        vertical-align: middle;\n",
       "    }\n",
       "\n",
       "    .dataframe tbody tr th {\n",
       "        vertical-align: top;\n",
       "    }\n",
       "\n",
       "    .dataframe thead th {\n",
       "        text-align: right;\n",
       "    }\n",
       "</style>\n",
       "<table border=\"1\" class=\"dataframe\">\n",
       "  <thead>\n",
       "    <tr style=\"text-align: right;\">\n",
       "      <th></th>\n",
       "      <th>start_time</th>\n",
       "      <th>end_time</th>\n",
       "      <th>text</th>\n",
       "      <th>length_chars</th>\n",
       "      <th>length_words</th>\n",
       "      <th>duration</th>\n",
       "      <th>word_frequencies</th>\n",
       "    </tr>\n",
       "  </thead>\n",
       "  <tbody>\n",
       "    <tr>\n",
       "      <th>0</th>\n",
       "      <td>1</td>\n",
       "      <td>3</td>\n",
       "      <td>ногами пинаю</td>\n",
       "      <td>12</td>\n",
       "      <td>2</td>\n",
       "      <td>2</td>\n",
       "      <td>ногами: 1, пинаю: 1</td>\n",
       "    </tr>\n",
       "    <tr>\n",
       "      <th>1</th>\n",
       "      <td>3</td>\n",
       "      <td>4</td>\n",
       "      <td>тут с первой еще надо начинать</td>\n",
       "      <td>30</td>\n",
       "      <td>6</td>\n",
       "      <td>1</td>\n",
       "      <td>тут: 1, с: 1, первой: 1, еще: 1, надо: 1, начи...</td>\n",
       "    </tr>\n",
       "    <tr>\n",
       "      <th>2</th>\n",
       "      <td>4</td>\n",
       "      <td>7</td>\n",
       "      <td>ты помнишь как все в хамсуэте их ремонтировали</td>\n",
       "      <td>46</td>\n",
       "      <td>8</td>\n",
       "      <td>3</td>\n",
       "      <td>ты: 1, помнишь: 1, как: 1, все: 1, в: 1, хамсу...</td>\n",
       "    </tr>\n",
       "    <tr>\n",
       "      <th>3</th>\n",
       "      <td>7</td>\n",
       "      <td>7</td>\n",
       "      <td>да</td>\n",
       "      <td>2</td>\n",
       "      <td>1</td>\n",
       "      <td>0</td>\n",
       "      <td>да: 1</td>\n",
       "    </tr>\n",
       "    <tr>\n",
       "      <th>4</th>\n",
       "      <td>7</td>\n",
       "      <td>8</td>\n",
       "      <td>а ты не знаешь</td>\n",
       "      <td>14</td>\n",
       "      <td>4</td>\n",
       "      <td>1</td>\n",
       "      <td>а: 1, ты: 1, не: 1, знаешь: 1</td>\n",
       "    </tr>\n",
       "    <tr>\n",
       "      <th>5</th>\n",
       "      <td>8</td>\n",
       "      <td>8</td>\n",
       "      <td>почему</td>\n",
       "      <td>6</td>\n",
       "      <td>1</td>\n",
       "      <td>0</td>\n",
       "      <td>почему: 1</td>\n",
       "    </tr>\n",
       "    <tr>\n",
       "      <th>6</th>\n",
       "      <td>8</td>\n",
       "      <td>13</td>\n",
       "      <td>у меня был такой мониторчик от хампа вот широкий</td>\n",
       "      <td>48</td>\n",
       "      <td>9</td>\n",
       "      <td>5</td>\n",
       "      <td>у: 1, меня: 1, был: 1, такой: 1, мониторчик: 1...</td>\n",
       "    </tr>\n",
       "    <tr>\n",
       "      <th>7</th>\n",
       "      <td>13</td>\n",
       "      <td>15</td>\n",
       "      <td>я его тоже лупил он хорошо работал</td>\n",
       "      <td>34</td>\n",
       "      <td>7</td>\n",
       "      <td>2</td>\n",
       "      <td>я: 1, его: 1, тоже: 1, лупил: 1, он: 1, хорошо...</td>\n",
       "    </tr>\n",
       "    <tr>\n",
       "      <th>8</th>\n",
       "      <td>15</td>\n",
       "      <td>15</td>\n",
       "      <td>так работай</td>\n",
       "      <td>11</td>\n",
       "      <td>2</td>\n",
       "      <td>0</td>\n",
       "      <td>так: 1, работай: 1</td>\n",
       "    </tr>\n",
       "    <tr>\n",
       "      <th>9</th>\n",
       "      <td>16</td>\n",
       "      <td>20</td>\n",
       "      <td>да на всякий случай еще раз всех предупреждаю ...</td>\n",
       "      <td>91</td>\n",
       "      <td>13</td>\n",
       "      <td>4</td>\n",
       "      <td>да: 1, на: 1, всякий: 1, случай: 1, еще: 1, ра...</td>\n",
       "    </tr>\n",
       "    <tr>\n",
       "      <th>10</th>\n",
       "      <td>20</td>\n",
       "      <td>21</td>\n",
       "      <td>прекрасно</td>\n",
       "      <td>9</td>\n",
       "      <td>1</td>\n",
       "      <td>1</td>\n",
       "      <td>прекрасно: 1</td>\n",
       "    </tr>\n",
       "    <tr>\n",
       "      <th>11</th>\n",
       "      <td>21</td>\n",
       "      <td>25</td>\n",
       "      <td>поехали</td>\n",
       "      <td>7</td>\n",
       "      <td>1</td>\n",
       "      <td>4</td>\n",
       "      <td>поехали: 1</td>\n",
       "    </tr>\n",
       "    <tr>\n",
       "      <th>12</th>\n",
       "      <td>25</td>\n",
       "      <td>28</td>\n",
       "      <td>расскажите тебе а резюме есть</td>\n",
       "      <td>29</td>\n",
       "      <td>5</td>\n",
       "      <td>3</td>\n",
       "      <td>расскажите: 1, тебе: 1, а: 1, резюме: 1, есть: 1</td>\n",
       "    </tr>\n",
       "    <tr>\n",
       "      <th>13</th>\n",
       "      <td>28</td>\n",
       "      <td>29</td>\n",
       "      <td>резюме есть</td>\n",
       "      <td>11</td>\n",
       "      <td>2</td>\n",
       "      <td>1</td>\n",
       "      <td>резюме: 1, есть: 1</td>\n",
       "    </tr>\n",
       "    <tr>\n",
       "      <th>14</th>\n",
       "      <td>29</td>\n",
       "      <td>32</td>\n",
       "      <td>тогда с него начнем распечатаем</td>\n",
       "      <td>31</td>\n",
       "      <td>5</td>\n",
       "      <td>3</td>\n",
       "      <td>тогда: 1, с: 1, него: 1, начнем: 1, распечатае...</td>\n",
       "    </tr>\n",
       "  </tbody>\n",
       "</table>\n",
       "</div>"
      ],
      "text/plain": [
       "    start_time  end_time                                               text  \\\n",
       "0            1         3                                       ногами пинаю   \n",
       "1            3         4                     тут с первой еще надо начинать   \n",
       "2            4         7     ты помнишь как все в хамсуэте их ремонтировали   \n",
       "3            7         7                                                 да   \n",
       "4            7         8                                     а ты не знаешь   \n",
       "5            8         8                                             почему   \n",
       "6            8        13   у меня был такой мониторчик от хампа вот широкий   \n",
       "7           13        15                 я его тоже лупил он хорошо работал   \n",
       "8           15        15                                        так работай   \n",
       "9           16        20  да на всякий случай еще раз всех предупреждаю ...   \n",
       "10          20        21                                          прекрасно   \n",
       "11          21        25                                            поехали   \n",
       "12          25        28                      расскажите тебе а резюме есть   \n",
       "13          28        29                                        резюме есть   \n",
       "14          29        32                    тогда с него начнем распечатаем   \n",
       "\n",
       "    length_chars  length_words  duration  \\\n",
       "0             12             2         2   \n",
       "1             30             6         1   \n",
       "2             46             8         3   \n",
       "3              2             1         0   \n",
       "4             14             4         1   \n",
       "5              6             1         0   \n",
       "6             48             9         5   \n",
       "7             34             7         2   \n",
       "8             11             2         0   \n",
       "9             91            13         4   \n",
       "10             9             1         1   \n",
       "11             7             1         4   \n",
       "12            29             5         3   \n",
       "13            11             2         1   \n",
       "14            31             5         3   \n",
       "\n",
       "                                     word_frequencies  \n",
       "0                                 ногами: 1, пинаю: 1  \n",
       "1   тут: 1, с: 1, первой: 1, еще: 1, надо: 1, начи...  \n",
       "2   ты: 1, помнишь: 1, как: 1, все: 1, в: 1, хамсу...  \n",
       "3                                               да: 1  \n",
       "4                       а: 1, ты: 1, не: 1, знаешь: 1  \n",
       "5                                           почему: 1  \n",
       "6   у: 1, меня: 1, был: 1, такой: 1, мониторчик: 1...  \n",
       "7   я: 1, его: 1, тоже: 1, лупил: 1, он: 1, хорошо...  \n",
       "8                                  так: 1, работай: 1  \n",
       "9   да: 1, на: 1, всякий: 1, случай: 1, еще: 1, ра...  \n",
       "10                                       прекрасно: 1  \n",
       "11                                         поехали: 1  \n",
       "12   расскажите: 1, тебе: 1, а: 1, резюме: 1, есть: 1  \n",
       "13                                 резюме: 1, есть: 1  \n",
       "14  тогда: 1, с: 1, него: 1, начнем: 1, распечатае...  "
      ]
     },
     "execution_count": 15,
     "metadata": {},
     "output_type": "execute_result"
    }
   ],
   "source": [
    "df.head(15)"
   ]
  },
  {
   "cell_type": "markdown",
   "id": "fd432893-1e6b-4efa-a4e8-0c7f0e8fe7a9",
   "metadata": {},
   "source": [
    "**Промежуточный вывод:**<br>Нами были рассчитаны основные характеристики текста, а именно длина сообщений, длительность сообщений и частота слов.<br>Базово исследовав их, стоит подвести небольшие итоги:<br>В среднем, длина сообщений составляет приблизительно 49 символа или 8 слов. Длина сообщений варьируется от 2 до 437 символов, а количество слов - от 1 до 81. 50% сообщений имеют длину менее 37 символов, а половина сообщений содержат 6 или менее слов.<br>Наиболее часто встречаются, как и предполагалось, стоп-слова (\"в\", \"и\", \"что\", \"это\", \"я\"), ведь нами они используются очень много в разговорной речи. После их удаления наиболее частыми словами стали \"модель\", \"вопрос\", \"просто\", \"тебе\", \"текст\", которые являются уже более содержательными и могут давать представление о ключевых темах.<br><br>Первые выводы мы получили, однако подтвердить их окончательно и раскрыть новые можно будет, сделав визуализацию данных."
   ]
  },
  {
   "cell_type": "markdown",
   "id": "ee52bef9-80f6-4812-9b94-969c62c70ec7",
   "metadata": {},
   "source": [
    "### 1.3. Визуализация распределения данных, выявление основных тем, аномалий."
   ]
  },
  {
   "cell_type": "markdown",
   "id": "42ed996f-7e1a-4708-a410-ac061f3ad674",
   "metadata": {},
   "source": [
    "Для визулизации будут использованы гистограммы, ведь по ним лучше всего видно суть распределений. Также я с помощью ящиков с усами посмотрим на выбросы/аномалии."
   ]
  },
  {
   "cell_type": "code",
   "execution_count": 16,
   "id": "e7d133ea-4ddf-4938-bbb3-a72aa73651d1",
   "metadata": {},
   "outputs": [],
   "source": [
    "def hist_and_boxplot(column):\n",
    "    fig, (ax1, ax2) = plt.subplots(nrows=2, ncols=1, figsize=(10, 8), gridspec_kw={'height_ratios': [3, 1]})\n",
    "\n",
    "    ax1.hist(df[column], bins=40, color='royalblue', edgecolor='black')\n",
    "    ax1.set_title(f'Распределение столбца \"{column}\"')\n",
    "    ax1.set_xlabel('Значения')\n",
    "    ax1.set_ylabel('Частота')\n",
    "\n",
    "    ax2.boxplot(df[column], vert=False, patch_artist=True,\n",
    "                boxprops=dict(facecolor='orange', color='black'),\n",
    "                medianprops=dict(color='black'),\n",
    "                whiskerprops=dict(color='black'),\n",
    "                capprops=dict(color='black'))\n",
    "    ax2.set_title('Ящик с усами')\n",
    "    ax2.set_xlabel('Значения')\n",
    "\n",
    "    plt.tight_layout()\n",
    "    plt.show()"
   ]
  },
  {
   "cell_type": "code",
   "execution_count": 17,
   "id": "8a35ff43-ad26-41fc-a0a9-49427297c281",
   "metadata": {},
   "outputs": [
    {
     "data": {
      "image/png": "[encoded data removed]",
      "text/plain": [
       "<Figure size 1000x800 with 2 Axes>"
      ]
     },
     "metadata": {},
     "output_type": "display_data"
    }
   ],
   "source": [
    "hist_and_boxplot('length_chars')"
   ]
  },
  {
   "cell_type": "code",
   "execution_count": 18,
   "id": "c30318a5-90d5-42c1-8094-46e525a955e0",
   "metadata": {},
   "outputs": [
    {
     "data": {
      "image/png": "[encoded data removed]",
      "text/plain": [
       "<Figure size 1000x800 with 2 Axes>"
      ]
     },
     "metadata": {},
     "output_type": "display_data"
    }
   ],
   "source": [
    "hist_and_boxplot('length_words')"
   ]
  },
  {
   "cell_type": "code",
   "execution_count": 19,
   "id": "72c8a233-80c8-476a-9956-ba3b744a231e",
   "metadata": {},
   "outputs": [
    {
     "data": {
      "image/png": "[encoded data removed]",
      "text/plain": [
       "<Figure size 1000x800 with 2 Axes>"
      ]
     },
     "metadata": {},
     "output_type": "display_data"
    }
   ],
   "source": [
    "hist_and_boxplot('duration')"
   ]
  },
  {
   "cell_type": "markdown",
   "id": "cd6e30c0-f1ff-4e22-a080-2f87e9ab5b5e",
   "metadata": {},
   "source": [
    "С длиной и длительностью сообщений разобрались, перейдем к частоте слов. Стоит сказать, что число небольших сообщений (по объему и длительности) преобладает.<br>Выбросы конечно есть, но их не так много, поэтому не будем брать их во внимание и, тем более, избавляться.<br>Аномалий не обнаружено."
   ]
  },
  {
   "cell_type": "code",
   "execution_count": 20,
   "id": "9786492b-8d36-42eb-b1a4-c3601fb00ad8",
   "metadata": {},
   "outputs": [
    {
     "data": {
      "image/png": "[encoded data removed]",
      "text/plain": [
       "<Figure size 1000x800 with 2 Axes>"
      ]
     },
     "metadata": {},
     "output_type": "display_data"
    }
   ],
   "source": [
    "all_text = ' '.join(df['text'].apply(clean))\n",
    "cleaned_text_without_stopwords = remove_stopwords(all_text)\n",
    "word_counts = Counter(cleaned_text_without_stopwords.split())\n",
    "\n",
    "top_words = word_counts.most_common(30)\n",
    "\n",
    "words, counts = zip(*top_words)\n",
    "\n",
    "fig, (ax1, ax2) = plt.subplots(nrows=2, ncols=1, figsize=(10, 8), gridspec_kw={'height_ratios': [3, 1]})\n",
    "\n",
    "ax1.bar(words, counts, color='royalblue')\n",
    "ax1.set_title('Топ-30 наиболее частых слов')\n",
    "ax1.set_xlabel('Слово')\n",
    "ax1.set_ylabel('Частота')\n",
    "ax1.set_xticks(range(len(words)))\n",
    "ax1.set_xticklabels(words, rotation=50)\n",
    "\n",
    "ax2.boxplot(counts, vert=False, patch_artist=True,\n",
    "            boxprops=dict(facecolor='orange', color='black'),\n",
    "            medianprops=dict(color='black'),\n",
    "            whiskerprops=dict(color='black'),\n",
    "            capprops=dict(color='black'))\n",
    "ax2.set_title('Распределение частоты слов')\n",
    "ax2.set_xlabel('Частота')\n",
    "\n",
    "plt.tight_layout()\n",
    "\n",
    "plt.show()"
   ]
  },
  {
   "cell_type": "markdown",
   "id": "903c57dc-231c-4a0e-8236-ff34597f8953",
   "metadata": {},
   "source": [
    "Гистограмма топ 30 слов по частоте (без стоп слов) показывает хороший результат и шире раскрывает нам 'глаза' на основную тему диалога. Пока что мы не делали лемматизацию, однако стоит отметить, что в обсуждении речь идет о моделях, методах, задачах и прочих понятиях, связанных с машинным обучением.<br>Выбросов еще меньше, чем в предыдущих случаях, также не обращаем внимание.<br>Каких-то резко появившихся аномалий не обнаружено ни на одном графике."
   ]
  },
  {
   "cell_type": "markdown",
   "id": "3d7f8729-c168-4795-9b95-6507d942a37a",
   "metadata": {},
   "source": [
    "**Промежуточный вывод:**<br>Гистограммы и ящики с усами нам показали многое. Выбросы обнаружены, но на данном этапе мы их оставим, ведь их не так много, и они нам не навредят. Аномалий не обнаружено.<br>Также видно по топ-30 словам по частоте, что в обсуждении речь идет о моделях, методах, задачах и прочих понятиях, связанных с машинным обучением."
   ]
  },
  {
   "cell_type": "markdown",
   "id": "915946da-293a-4662-8b7a-0500603f881b",
   "metadata": {},
   "source": [
    "**Вывод по шагу 1:**<br>В результате проведенного анализа и визуализации, мы получили полезные инсайты о структуре сообщений и частоте использования слов. Данные подтверждают, что основное обсуждение сосредоточено на моделях и методах машинного обучения. Выбросы и аномалии в частоте слов не оказали существенного влияния на результаты анализа.<br>Для более глубокого понимания тематики и улучшения анализа продолжим работу."
   ]
  },
  {
   "cell_type": "markdown",
   "id": "2c89380a-9e24-4d08-b174-6c600aece7ad",
   "metadata": {},
   "source": [
    "## 2. Анализ эмоциональности текста."
   ]
  },
  {
   "cell_type": "markdown",
   "id": "5a062b77-6236-4f4a-b5df-07e1d362b899",
   "metadata": {},
   "source": [
    "### 2.1. Предобработка текста: токенизация, лемматизация, удаление стоп-слов."
   ]
  },
  {
   "cell_type": "code",
   "execution_count": 21,
   "id": "5bc1ad43-97bb-4c7c-b09a-7a7f3747da0d",
   "metadata": {},
   "outputs": [
    {
     "data": {
      "text/html": [
       "<div>\n",
       "<style scoped>\n",
       "    .dataframe tbody tr th:only-of-type {\n",
       "        vertical-align: middle;\n",
       "    }\n",
       "\n",
       "    .dataframe tbody tr th {\n",
       "        vertical-align: top;\n",
       "    }\n",
       "\n",
       "    .dataframe thead th {\n",
       "        text-align: right;\n",
       "    }\n",
       "</style>\n",
       "<table border=\"1\" class=\"dataframe\">\n",
       "  <thead>\n",
       "    <tr style=\"text-align: right;\">\n",
       "      <th></th>\n",
       "      <th>text</th>\n",
       "      <th>processed_text</th>\n",
       "    </tr>\n",
       "  </thead>\n",
       "  <tbody>\n",
       "    <tr>\n",
       "      <th>0</th>\n",
       "      <td>ногами пинаю</td>\n",
       "      <td>нога пинать</td>\n",
       "    </tr>\n",
       "    <tr>\n",
       "      <th>1</th>\n",
       "      <td>тут с первой еще надо начинать</td>\n",
       "      <td>первый начинать</td>\n",
       "    </tr>\n",
       "    <tr>\n",
       "      <th>2</th>\n",
       "      <td>ты помнишь как все в хамсуэте их ремонтировали</td>\n",
       "      <td>помнить хамсуэте ремонтировать</td>\n",
       "    </tr>\n",
       "    <tr>\n",
       "      <th>3</th>\n",
       "      <td>да</td>\n",
       "      <td></td>\n",
       "    </tr>\n",
       "    <tr>\n",
       "      <th>4</th>\n",
       "      <td>а ты не знаешь</td>\n",
       "      <td>знать</td>\n",
       "    </tr>\n",
       "    <tr>\n",
       "      <th>5</th>\n",
       "      <td>почему</td>\n",
       "      <td></td>\n",
       "    </tr>\n",
       "    <tr>\n",
       "      <th>6</th>\n",
       "      <td>у меня был такой мониторчик от хампа вот широкий</td>\n",
       "      <td>мониторчик хампа широкий</td>\n",
       "    </tr>\n",
       "    <tr>\n",
       "      <th>7</th>\n",
       "      <td>я его тоже лупил он хорошо работал</td>\n",
       "      <td>лупил работать</td>\n",
       "    </tr>\n",
       "    <tr>\n",
       "      <th>8</th>\n",
       "      <td>так работай</td>\n",
       "      <td>работай</td>\n",
       "    </tr>\n",
       "    <tr>\n",
       "      <th>9</th>\n",
       "      <td>да на всякий случай еще раз всех предупреждаю ...</td>\n",
       "      <td>случай раз предупреждать ставить запись научно...</td>\n",
       "    </tr>\n",
       "    <tr>\n",
       "      <th>10</th>\n",
       "      <td>прекрасно</td>\n",
       "      <td>прекрасно</td>\n",
       "    </tr>\n",
       "    <tr>\n",
       "      <th>11</th>\n",
       "      <td>поехали</td>\n",
       "      <td>поехать</td>\n",
       "    </tr>\n",
       "    <tr>\n",
       "      <th>12</th>\n",
       "      <td>расскажите тебе а резюме есть</td>\n",
       "      <td>рассказать резюме</td>\n",
       "    </tr>\n",
       "    <tr>\n",
       "      <th>13</th>\n",
       "      <td>резюме есть</td>\n",
       "      <td>резюме</td>\n",
       "    </tr>\n",
       "    <tr>\n",
       "      <th>14</th>\n",
       "      <td>тогда с него начнем распечатаем</td>\n",
       "      <td>начать распечатаем</td>\n",
       "    </tr>\n",
       "  </tbody>\n",
       "</table>\n",
       "</div>"
      ],
      "text/plain": [
       "                                                 text  \\\n",
       "0                                        ногами пинаю   \n",
       "1                      тут с первой еще надо начинать   \n",
       "2      ты помнишь как все в хамсуэте их ремонтировали   \n",
       "3                                                  да   \n",
       "4                                      а ты не знаешь   \n",
       "5                                              почему   \n",
       "6    у меня был такой мониторчик от хампа вот широкий   \n",
       "7                  я его тоже лупил он хорошо работал   \n",
       "8                                         так работай   \n",
       "9   да на всякий случай еще раз всех предупреждаю ...   \n",
       "10                                          прекрасно   \n",
       "11                                            поехали   \n",
       "12                      расскажите тебе а резюме есть   \n",
       "13                                        резюме есть   \n",
       "14                    тогда с него начнем распечатаем   \n",
       "\n",
       "                                       processed_text  \n",
       "0                                         нога пинать  \n",
       "1                                     первый начинать  \n",
       "2                      помнить хамсуэте ремонтировать  \n",
       "3                                                      \n",
       "4                                               знать  \n",
       "5                                                      \n",
       "6                            мониторчик хампа широкий  \n",
       "7                                      лупил работать  \n",
       "8                                             работай  \n",
       "9   случай раз предупреждать ставить запись научно...  \n",
       "10                                          прекрасно  \n",
       "11                                            поехать  \n",
       "12                                  рассказать резюме  \n",
       "13                                             резюме  \n",
       "14                                 начать распечатаем  "
      ]
     },
     "execution_count": 21,
     "metadata": {},
     "output_type": "execute_result"
    }
   ],
   "source": [
    "nlp = spacy.load('ru_core_news_sm')\n",
    "\n",
    "def process_text(text):\n",
    "    doc = nlp(text.lower())\n",
    "    processed_tokens = [token.lemma_ for token in doc \n",
    "                        if not token.is_stop and not token.is_punct]\n",
    "    return ' '.join(processed_tokens)\n",
    "\n",
    "def process_dataframe(df):\n",
    "    df['processed_text'] = df['text'].apply(process_text)\n",
    "    return df\n",
    "\n",
    "df = process_dataframe(df)\n",
    "\n",
    "df[['text', 'processed_text']].head(15)"
   ]
  },
  {
   "cell_type": "markdown",
   "id": "e9289f05-9006-4eb3-bf76-430af5ada9a6",
   "metadata": {},
   "source": [
    "Мы успешно справились с предобработкой, однако видим, что в некоторых местах образовались пустые строки. Избавимся от них."
   ]
  },
  {
   "cell_type": "code",
   "execution_count": 22,
   "id": "91b301ee-291c-4696-b533-97e6269cd81c",
   "metadata": {},
   "outputs": [
    {
     "data": {
      "text/html": [
       "<div>\n",
       "<style scoped>\n",
       "    .dataframe tbody tr th:only-of-type {\n",
       "        vertical-align: middle;\n",
       "    }\n",
       "\n",
       "    .dataframe tbody tr th {\n",
       "        vertical-align: top;\n",
       "    }\n",
       "\n",
       "    .dataframe thead th {\n",
       "        text-align: right;\n",
       "    }\n",
       "</style>\n",
       "<table border=\"1\" class=\"dataframe\">\n",
       "  <thead>\n",
       "    <tr style=\"text-align: right;\">\n",
       "      <th></th>\n",
       "      <th>text</th>\n",
       "      <th>processed_text</th>\n",
       "    </tr>\n",
       "  </thead>\n",
       "  <tbody>\n",
       "    <tr>\n",
       "      <th>0</th>\n",
       "      <td>ногами пинаю</td>\n",
       "      <td>нога пинать</td>\n",
       "    </tr>\n",
       "    <tr>\n",
       "      <th>1</th>\n",
       "      <td>тут с первой еще надо начинать</td>\n",
       "      <td>первый начинать</td>\n",
       "    </tr>\n",
       "    <tr>\n",
       "      <th>2</th>\n",
       "      <td>ты помнишь как все в хамсуэте их ремонтировали</td>\n",
       "      <td>помнить хамсуэте ремонтировать</td>\n",
       "    </tr>\n",
       "    <tr>\n",
       "      <th>3</th>\n",
       "      <td>а ты не знаешь</td>\n",
       "      <td>знать</td>\n",
       "    </tr>\n",
       "    <tr>\n",
       "      <th>4</th>\n",
       "      <td>у меня был такой мониторчик от хампа вот широкий</td>\n",
       "      <td>мониторчик хампа широкий</td>\n",
       "    </tr>\n",
       "    <tr>\n",
       "      <th>5</th>\n",
       "      <td>я его тоже лупил он хорошо работал</td>\n",
       "      <td>лупил работать</td>\n",
       "    </tr>\n",
       "    <tr>\n",
       "      <th>6</th>\n",
       "      <td>так работай</td>\n",
       "      <td>работай</td>\n",
       "    </tr>\n",
       "    <tr>\n",
       "      <th>7</th>\n",
       "      <td>да на всякий случай еще раз всех предупреждаю ...</td>\n",
       "      <td>случай раз предупреждать ставить запись научно...</td>\n",
       "    </tr>\n",
       "    <tr>\n",
       "      <th>8</th>\n",
       "      <td>прекрасно</td>\n",
       "      <td>прекрасно</td>\n",
       "    </tr>\n",
       "    <tr>\n",
       "      <th>9</th>\n",
       "      <td>поехали</td>\n",
       "      <td>поехать</td>\n",
       "    </tr>\n",
       "    <tr>\n",
       "      <th>10</th>\n",
       "      <td>расскажите тебе а резюме есть</td>\n",
       "      <td>рассказать резюме</td>\n",
       "    </tr>\n",
       "    <tr>\n",
       "      <th>11</th>\n",
       "      <td>резюме есть</td>\n",
       "      <td>резюме</td>\n",
       "    </tr>\n",
       "    <tr>\n",
       "      <th>12</th>\n",
       "      <td>тогда с него начнем распечатаем</td>\n",
       "      <td>начать распечатаем</td>\n",
       "    </tr>\n",
       "    <tr>\n",
       "      <th>13</th>\n",
       "      <td>да и я тогда пойду компанию распечатать</td>\n",
       "      <td>пойти компания распечатать</td>\n",
       "    </tr>\n",
       "    <tr>\n",
       "      <th>14</th>\n",
       "      <td>память память у нас короткая чтонибудь забудем</td>\n",
       "      <td>память память короткий чтонибудь забыть</td>\n",
       "    </tr>\n",
       "  </tbody>\n",
       "</table>\n",
       "</div>"
      ],
      "text/plain": [
       "                                                 text  \\\n",
       "0                                        ногами пинаю   \n",
       "1                      тут с первой еще надо начинать   \n",
       "2      ты помнишь как все в хамсуэте их ремонтировали   \n",
       "3                                      а ты не знаешь   \n",
       "4    у меня был такой мониторчик от хампа вот широкий   \n",
       "5                  я его тоже лупил он хорошо работал   \n",
       "6                                         так работай   \n",
       "7   да на всякий случай еще раз всех предупреждаю ...   \n",
       "8                                           прекрасно   \n",
       "9                                             поехали   \n",
       "10                      расскажите тебе а резюме есть   \n",
       "11                                        резюме есть   \n",
       "12                    тогда с него начнем распечатаем   \n",
       "13            да и я тогда пойду компанию распечатать   \n",
       "14     память память у нас короткая чтонибудь забудем   \n",
       "\n",
       "                                       processed_text  \n",
       "0                                         нога пинать  \n",
       "1                                     первый начинать  \n",
       "2                      помнить хамсуэте ремонтировать  \n",
       "3                                               знать  \n",
       "4                            мониторчик хампа широкий  \n",
       "5                                      лупил работать  \n",
       "6                                             работай  \n",
       "7   случай раз предупреждать ставить запись научно...  \n",
       "8                                           прекрасно  \n",
       "9                                             поехать  \n",
       "10                                  рассказать резюме  \n",
       "11                                             резюме  \n",
       "12                                 начать распечатаем  \n",
       "13                         пойти компания распечатать  \n",
       "14            память память короткий чтонибудь забыть  "
      ]
     },
     "execution_count": 22,
     "metadata": {},
     "output_type": "execute_result"
    }
   ],
   "source": [
    "df = df.query('processed_text != \"\"').reset_index()\n",
    "df[['text', 'processed_text']].head(15)"
   ]
  },
  {
   "cell_type": "markdown",
   "id": "d2a9ad48-9912-4aec-817e-4e037e9c4f2f",
   "metadata": {},
   "source": [
    "**Промежуточный вывод:**<br>Нами была проведена предобработка данных, а конкретнее: токенизация, лемматизация и удаление стоп-слов.<br>Судя по по результату, все прошло успешно. От пустых строк мы также избавились и готовы двигаться дальше."
   ]
  },
  {
   "cell_type": "markdown",
   "id": "13977c3d-ab35-4d64-8d80-1649f8573e92",
   "metadata": {},
   "source": [
    "### 2.2. Анализ эмоциональности текста участниов."
   ]
  },
  {
   "cell_type": "markdown",
   "id": "841d2028-5d20-4a31-8b8a-1c19dd8acc37",
   "metadata": {},
   "source": [
    "Чтобы определить эмоциональность участников было принято разделить эмоции на позитивные, негативные и нейтральные.<br>Для этого с простора интернета был взят датафрейм, содержащий слова и эмоции (соответственно). Используя его, определим эмоции участников разговора."
   ]
  },
  {
   "cell_type": "code",
   "execution_count": 23,
   "id": "e03b3665-78a0-4090-8380-c50487d3755e",
   "metadata": {},
   "outputs": [],
   "source": [
    "dictionary = pd.read_csv('/Users/nolvi/Downloads/kartaslovsent.csv', delimiter=';')"
   ]
  },
  {
   "cell_type": "code",
   "execution_count": 24,
   "id": "e143517c-8c65-40ba-82cf-405135a8f689",
   "metadata": {},
   "outputs": [
    {
     "data": {
      "text/html": [
       "<div>\n",
       "<style scoped>\n",
       "    .dataframe tbody tr th:only-of-type {\n",
       "        vertical-align: middle;\n",
       "    }\n",
       "\n",
       "    .dataframe tbody tr th {\n",
       "        vertical-align: top;\n",
       "    }\n",
       "\n",
       "    .dataframe thead th {\n",
       "        text-align: right;\n",
       "    }\n",
       "</style>\n",
       "<table border=\"1\" class=\"dataframe\">\n",
       "  <thead>\n",
       "    <tr style=\"text-align: right;\">\n",
       "      <th></th>\n",
       "      <th>term</th>\n",
       "      <th>tag</th>\n",
       "      <th>value</th>\n",
       "      <th>pstv</th>\n",
       "      <th>ngtv</th>\n",
       "      <th>neut</th>\n",
       "      <th>dunno</th>\n",
       "      <th>pstvNgtvDisagreementRatio</th>\n",
       "    </tr>\n",
       "  </thead>\n",
       "  <tbody>\n",
       "    <tr>\n",
       "      <th>0</th>\n",
       "      <td>абажур</td>\n",
       "      <td>NEUT</td>\n",
       "      <td>0.08</td>\n",
       "      <td>0.185</td>\n",
       "      <td>0.037</td>\n",
       "      <td>0.580</td>\n",
       "      <td>0.198</td>\n",
       "      <td>0.00</td>\n",
       "    </tr>\n",
       "    <tr>\n",
       "      <th>1</th>\n",
       "      <td>аббатство</td>\n",
       "      <td>NEUT</td>\n",
       "      <td>0.10</td>\n",
       "      <td>0.192</td>\n",
       "      <td>0.038</td>\n",
       "      <td>0.578</td>\n",
       "      <td>0.192</td>\n",
       "      <td>0.00</td>\n",
       "    </tr>\n",
       "    <tr>\n",
       "      <th>2</th>\n",
       "      <td>аббревиатура</td>\n",
       "      <td>NEUT</td>\n",
       "      <td>0.08</td>\n",
       "      <td>0.196</td>\n",
       "      <td>0.000</td>\n",
       "      <td>0.630</td>\n",
       "      <td>0.174</td>\n",
       "      <td>0.00</td>\n",
       "    </tr>\n",
       "    <tr>\n",
       "      <th>3</th>\n",
       "      <td>абзац</td>\n",
       "      <td>NEUT</td>\n",
       "      <td>0.00</td>\n",
       "      <td>0.137</td>\n",
       "      <td>0.000</td>\n",
       "      <td>0.706</td>\n",
       "      <td>0.157</td>\n",
       "      <td>0.00</td>\n",
       "    </tr>\n",
       "    <tr>\n",
       "      <th>4</th>\n",
       "      <td>абиссинец</td>\n",
       "      <td>NEUT</td>\n",
       "      <td>0.28</td>\n",
       "      <td>0.151</td>\n",
       "      <td>0.113</td>\n",
       "      <td>0.245</td>\n",
       "      <td>0.491</td>\n",
       "      <td>0.19</td>\n",
       "    </tr>\n",
       "  </tbody>\n",
       "</table>\n",
       "</div>"
      ],
      "text/plain": [
       "           term   tag  value   pstv   ngtv   neut  dunno  \\\n",
       "0        абажур  NEUT   0.08  0.185  0.037  0.580  0.198   \n",
       "1     аббатство  NEUT   0.10  0.192  0.038  0.578  0.192   \n",
       "2  аббревиатура  NEUT   0.08  0.196  0.000  0.630  0.174   \n",
       "3         абзац  NEUT   0.00  0.137  0.000  0.706  0.157   \n",
       "4     абиссинец  NEUT   0.28  0.151  0.113  0.245  0.491   \n",
       "\n",
       "   pstvNgtvDisagreementRatio  \n",
       "0                       0.00  \n",
       "1                       0.00  \n",
       "2                       0.00  \n",
       "3                       0.00  \n",
       "4                       0.19  "
      ]
     },
     "execution_count": 24,
     "metadata": {},
     "output_type": "execute_result"
    }
   ],
   "source": [
    "dictionary.head()"
   ]
  },
  {
   "cell_type": "markdown",
   "id": "427ea0cd-88e0-414a-a652-c554c1884889",
   "metadata": {},
   "source": [
    "Датасет качественный, распределим эмоции по словарям и напишем функцию для определения эмоций."
   ]
  },
  {
   "cell_type": "code",
   "execution_count": 25,
   "id": "e79d9bed-9571-461c-aef9-ab722197a445",
   "metadata": {},
   "outputs": [
    {
     "data": {
      "text/html": [
       "<div>\n",
       "<style scoped>\n",
       "    .dataframe tbody tr th:only-of-type {\n",
       "        vertical-align: middle;\n",
       "    }\n",
       "\n",
       "    .dataframe tbody tr th {\n",
       "        vertical-align: top;\n",
       "    }\n",
       "\n",
       "    .dataframe thead th {\n",
       "        text-align: right;\n",
       "    }\n",
       "</style>\n",
       "<table border=\"1\" class=\"dataframe\">\n",
       "  <thead>\n",
       "    <tr style=\"text-align: right;\">\n",
       "      <th></th>\n",
       "      <th>processed_text</th>\n",
       "      <th>sentiment</th>\n",
       "    </tr>\n",
       "  </thead>\n",
       "  <tbody>\n",
       "    <tr>\n",
       "      <th>0</th>\n",
       "      <td>нога пинать</td>\n",
       "      <td>negative</td>\n",
       "    </tr>\n",
       "    <tr>\n",
       "      <th>1</th>\n",
       "      <td>первый начинать</td>\n",
       "      <td>positive</td>\n",
       "    </tr>\n",
       "    <tr>\n",
       "      <th>2</th>\n",
       "      <td>помнить хамсуэте ремонтировать</td>\n",
       "      <td>positive</td>\n",
       "    </tr>\n",
       "    <tr>\n",
       "      <th>3</th>\n",
       "      <td>знать</td>\n",
       "      <td>positive</td>\n",
       "    </tr>\n",
       "    <tr>\n",
       "      <th>4</th>\n",
       "      <td>мониторчик хампа широкий</td>\n",
       "      <td>neutral</td>\n",
       "    </tr>\n",
       "    <tr>\n",
       "      <th>5</th>\n",
       "      <td>лупил работать</td>\n",
       "      <td>positive</td>\n",
       "    </tr>\n",
       "    <tr>\n",
       "      <th>6</th>\n",
       "      <td>работай</td>\n",
       "      <td>neutral</td>\n",
       "    </tr>\n",
       "    <tr>\n",
       "      <th>7</th>\n",
       "      <td>случай раз предупреждать ставить запись научно...</td>\n",
       "      <td>neutral</td>\n",
       "    </tr>\n",
       "    <tr>\n",
       "      <th>8</th>\n",
       "      <td>прекрасно</td>\n",
       "      <td>neutral</td>\n",
       "    </tr>\n",
       "    <tr>\n",
       "      <th>9</th>\n",
       "      <td>поехать</td>\n",
       "      <td>neutral</td>\n",
       "    </tr>\n",
       "    <tr>\n",
       "      <th>10</th>\n",
       "      <td>рассказать резюме</td>\n",
       "      <td>neutral</td>\n",
       "    </tr>\n",
       "    <tr>\n",
       "      <th>11</th>\n",
       "      <td>резюме</td>\n",
       "      <td>neutral</td>\n",
       "    </tr>\n",
       "    <tr>\n",
       "      <th>12</th>\n",
       "      <td>начать распечатаем</td>\n",
       "      <td>neutral</td>\n",
       "    </tr>\n",
       "    <tr>\n",
       "      <th>13</th>\n",
       "      <td>пойти компания распечатать</td>\n",
       "      <td>neutral</td>\n",
       "    </tr>\n",
       "    <tr>\n",
       "      <th>14</th>\n",
       "      <td>память память короткий чтонибудь забыть</td>\n",
       "      <td>positive</td>\n",
       "    </tr>\n",
       "  </tbody>\n",
       "</table>\n",
       "</div>"
      ],
      "text/plain": [
       "                                       processed_text sentiment\n",
       "0                                         нога пинать  negative\n",
       "1                                     первый начинать  positive\n",
       "2                      помнить хамсуэте ремонтировать  positive\n",
       "3                                               знать  positive\n",
       "4                            мониторчик хампа широкий   neutral\n",
       "5                                      лупил работать  positive\n",
       "6                                             работай   neutral\n",
       "7   случай раз предупреждать ставить запись научно...   neutral\n",
       "8                                           прекрасно   neutral\n",
       "9                                             поехать   neutral\n",
       "10                                  рассказать резюме   neutral\n",
       "11                                             резюме   neutral\n",
       "12                                 начать распечатаем   neutral\n",
       "13                         пойти компания распечатать   neutral\n",
       "14            память память короткий чтонибудь забыть  positive"
      ]
     },
     "execution_count": 25,
     "metadata": {},
     "output_type": "execute_result"
    }
   ],
   "source": [
    "positive_words = dictionary[dictionary['tag'] == 'PSTV']['term'].tolist()\n",
    "negative_words = dictionary[dictionary['tag'] == 'NGTV']['term'].tolist()\n",
    "\n",
    "def analyze_sentiment(processed_text):\n",
    "    words = processed_text.split()\n",
    "    positive_count = sum(1 for word in words if word in positive_words)\n",
    "    negative_count = sum(1 for word in words if word in negative_words)\n",
    "    \n",
    "    if positive_count > negative_count:\n",
    "        return 'positive'\n",
    "    elif negative_count > positive_count:\n",
    "        return 'negative'\n",
    "    else:\n",
    "        return 'neutral'\n",
    "\n",
    "df['sentiment'] = df['processed_text'].apply(analyze_sentiment)\n",
    "\n",
    "df[['processed_text', 'sentiment']].head(15)"
   ]
  },
  {
   "cell_type": "markdown",
   "id": "e141e9c2-9650-4070-9ba7-62f0e0c4d181",
   "metadata": {},
   "source": [
    "**Промежуточный вывод:**<br>Все идет по плану. На первый взгляд, эмоции определились корректно."
   ]
  },
  {
   "cell_type": "markdown",
   "id": "e2b892a2-2c4c-4c96-9569-92e5f9ba2607",
   "metadata": {},
   "source": [
    "### 2.3. Визуализация распредления эмоциональных оценок."
   ]
  },
  {
   "cell_type": "markdown",
   "id": "c96cac62-8ecf-41d3-b38a-d9a8779d1f86",
   "metadata": {},
   "source": [
    "Визуализацию проведем просто. Будем использовать столбчатые диаграммы."
   ]
  },
  {
   "cell_type": "code",
   "execution_count": 26,
   "id": "1192cf05-26c2-4ee6-9c28-11861c51a6b3",
   "metadata": {},
   "outputs": [
    {
     "name": "stderr",
     "output_type": "stream",
     "text": [
      "/var/folders/fr/443zwdc97xgg9ycpfypclwzc0000gn/T/ipykernel_890/3911172158.py:2: FutureWarning: \n",
      "\n",
      "Passing `palette` without assigning `hue` is deprecated and will be removed in v0.14.0. Assign the `x` variable to `hue` and set `legend=False` for the same effect.\n",
      "\n",
      "  sns.countplot(x='sentiment', data=df, palette='viridis')\n"
     ]
    },
    {
     "data": {
      "image/png": "[encoded data removed]",
      "text/plain": [
       "<Figure size 1000x600 with 1 Axes>"
      ]
     },
     "metadata": {},
     "output_type": "display_data"
    }
   ],
   "source": [
    "plt.figure(figsize=(10, 6))\n",
    "sns.countplot(x='sentiment', data=df, palette='viridis')\n",
    "plt.title('Распределение эмоциональных оценок')\n",
    "plt.xlabel('Эмоциональная оценка')\n",
    "plt.ylabel('Количество')\n",
    "plt.grid(True, linestyle='--', linewidth=0.7, alpha=0.7)\n",
    "plt.show()"
   ]
  },
  {
   "cell_type": "markdown",
   "id": "61a2a4c2-fd4d-465e-bd13-fc915ec3dff5",
   "metadata": {},
   "source": [
    "**Промежуточный вывод:**<br>Диаграммы нам показывают, что негативных эмоций мало, позитивных значительно больше, однако еще больше - нейтральных. Это свидетельствует о том, что диалог шел нормально, умеренно, без лишних эмоций, что является хорошим знаком."
   ]
  },
  {
   "cell_type": "markdown",
   "id": "45644b0f-0ea3-4496-9112-3d1d7e7864cc",
   "metadata": {},
   "source": [
    "**Вывод по шагу 2:**<br>Проведенные предобработка, анализ и визуализация данных показывают, что общение между участниками было в основном конструктивным и позитивным. Основной акцент в диалоге был сделан на нейтральных и положительных аспектах, что является хорошим признаком здоровой рабочей атмосферы."
   ]
  },
  {
   "cell_type": "markdown",
   "id": "c9209fab-a671-4e24-8213-b5d1673d8dde",
   "metadata": {},
   "source": [
    "### 3. Тематическое моделирование."
   ]
  },
  {
   "cell_type": "markdown",
   "id": "a27e626b-39a5-48d8-b9b8-890feb175942",
   "metadata": {},
   "source": [
    "### 3.1. Обучение и тестирование модели LDA."
   ]
  },
  {
   "cell_type": "markdown",
   "id": "96143d39-bbcd-4bf7-8ca5-a22ae1445f67",
   "metadata": {},
   "source": [
    "Определим основные темы текста, используя методы тематического моделирования.<br>Обучим простую модель LDA и протестируем ее."
   ]
  },
  {
   "cell_type": "code",
   "execution_count": 27,
   "id": "faa71e3b-c8a4-43c2-a137-76b7b6aaea17",
   "metadata": {},
   "outputs": [],
   "source": [
    "train_df, test_df = train_test_split(df, test_size=TEST_SIZE, random_state=RANDOM_STATE)\n",
    "\n",
    "vectorizer = CountVectorizer()\n",
    "train_vec = vectorizer.fit_transform(train_df['processed_text'])\n",
    "test_vec = vectorizer.transform(test_df['processed_text'])\n",
    "\n",
    "train_texts = train_df['processed_text'].apply(lambda x: x.split()).tolist()\n",
    "dictionary = corpora.Dictionary(train_texts)\n",
    "train_corpus = [dictionary.doc2bow(text) for text in train_texts]"
   ]
  },
  {
   "cell_type": "markdown",
   "id": "ed97f368-5b72-47c6-b20f-92eac724765c",
   "metadata": {},
   "source": [
    "Данные подготовлены, приступим к обучению и подбору гиперпараметров."
   ]
  },
  {
   "cell_type": "code",
   "execution_count": 28,
   "id": "e1bb0b83-0a98-49a1-a741-23ba5dfe30aa",
   "metadata": {},
   "outputs": [],
   "source": [
    "lda_model = models.LdaModel(\n",
    "    corpus=train_corpus,\n",
    "    id2word=dictionary,\n",
    "    num_topics=3,\n",
    "    passes=30,\n",
    "    alpha='asymmetric',\n",
    "    eta='auto',\n",
    "    iterations=400,\n",
    "    chunksize=2000,\n",
    "    random_state=RANDOM_STATE,\n",
    "    eval_every=10\n",
    ")"
   ]
  },
  {
   "cell_type": "markdown",
   "id": "0b35a986-7877-4a81-95c1-6b35214d0eed",
   "metadata": {},
   "source": [
    "Модель обучена, посмотрим на значение когерентности."
   ]
  },
  {
   "cell_type": "code",
   "execution_count": 29,
   "id": "e9786dac-5b3e-4637-9ce9-c476ea676d5d",
   "metadata": {},
   "outputs": [
    {
     "name": "stdout",
     "output_type": "stream",
     "text": [
      "Значение когерентности на тренировачных данных: 0.58\n"
     ]
    }
   ],
   "source": [
    "coherence_model_lda_train = CoherenceModel(model=lda_model, texts=train_texts, dictionary=dictionary, coherence='c_v')\n",
    "coherence_score_train = coherence_model_lda_train.get_coherence()\n",
    "print(f\"Значение когерентности на тренировачных данных: {coherence_score_train:.2f}\")"
   ]
  },
  {
   "cell_type": "markdown",
   "id": "7a5176cd-bd50-407b-b732-ab834118f736",
   "metadata": {},
   "source": [
    "Такое значение показывает, что темы имеют умеренную связность и интерпретируемость, то есть темы в целом имеют смысл и содержат слова, которые логически связаны друг с другом.<br>Выведем полученные топики."
   ]
  },
  {
   "cell_type": "code",
   "execution_count": 30,
   "id": "ae9c35a3-3f14-4d23-b8bc-27f9f5589a5b",
   "metadata": {},
   "outputs": [
    {
     "name": "stdout",
     "output_type": "stream",
     "text": [
      "(0, '0.021*\"текст\" + 0.016*\"вопрос\" + 0.012*\"понимать\" + 0.011*\"модель\" + 0.009*\"словарь\" + 0.009*\"раз\" + 0.009*\"говорить\" + 0.009*\"ошибка\" + 0.008*\"слово\" + 0.008*\"проект\"')\n",
      "(1, '0.019*\"задача\" + 0.018*\"модель\" + 0.011*\"искусственный\" + 0.011*\"интеллект\" + 0.010*\"допустить\" + 0.009*\"мессенджер\" + 0.007*\"различный\" + 0.006*\"тестовый\" + 0.006*\"качество\" + 0.006*\"условно\"')\n",
      "(2, '0.020*\"знать\" + 0.016*\"сделать\" + 0.016*\"задание\" + 0.014*\"тестовый\" + 0.012*\"вид\" + 0.006*\"работать\" + 0.006*\"модель\" + 0.006*\"иметься\" + 0.005*\"обучаться\" + 0.005*\"общий\"')\n"
     ]
    }
   ],
   "source": [
    "topics = lda_model.print_topics(num_words=10)\n",
    "for topic in topics:\n",
    "    print(topic)"
   ]
  },
  {
   "cell_type": "markdown",
   "id": "674443e1-1db5-46fd-bba2-6eb728e60405",
   "metadata": {},
   "source": [
    "По идее, все выглядит так, как и должно, а занчит все параметры модели подобраны должным образом.<br>Посмотрим теперь на модель в деле, а именно на ее работу с тестовыми данными."
   ]
  },
  {
   "cell_type": "code",
   "execution_count": 31,
   "id": "8f04454b-58b4-490d-bf45-de3d62367500",
   "metadata": {},
   "outputs": [
    {
     "name": "stdout",
     "output_type": "stream",
     "text": [
      "Документ 0:\n",
      " Топик 0: 0.1594\n",
      " Топик 1: 0.7667\n",
      " Топик 2: 0.0739\n",
      "Документ 1:\n",
      " Топик 0: 0.4766\n",
      " Топик 1: 0.3022\n",
      " Топик 2: 0.2212\n",
      "Документ 2:\n",
      " Топик 0: 0.8217\n",
      " Топик 1: 0.1014\n",
      " Топик 2: 0.0769\n",
      "Документ 3:\n",
      " Топик 0: 0.4571\n",
      " Топик 1: 0.4684\n",
      " Топик 2: 0.0745\n",
      "Документ 4:\n",
      " Топик 0: 0.1592\n",
      " Топик 1: 0.7670\n",
      " Топик 2: 0.0738\n"
     ]
    }
   ],
   "source": [
    "test_texts = test_df['processed_text'].apply(lambda x: x.split()).tolist()\n",
    "test_corpus = [dictionary.doc2bow(text) for text in test_texts]\n",
    "\n",
    "for i, doc in enumerate(test_corpus[:5]):\n",
    "    topic_distribution = lda_model.get_document_topics(doc)\n",
    "    print(f\"Документ {i}:\")\n",
    "    for topic_num, prop_topic in topic_distribution:\n",
    "        print(f\" Топик {topic_num}: {prop_topic:.4f}\")"
   ]
  },
  {
   "cell_type": "markdown",
   "id": "b58c44cc-7e28-4704-b49d-4919309f9bad",
   "metadata": {},
   "source": [
    "Отсюда виден процент содержания каждого топика в документах (сообщениях).<br>Выведем документы вручную и убедимся в правильности. "
   ]
  },
  {
   "cell_type": "code",
   "execution_count": 32,
   "id": "6ceb2486-d5e5-4cd7-af7f-cbe40004bcd9",
   "metadata": {},
   "outputs": [
    {
     "name": "stdout",
     "output_type": "stream",
     "text": [
      "648    допустить пятнадцать процент\n",
      "296                      конкретики\n",
      "63                     яндекс такси\n",
      "320        борис присутствие парень\n",
      "101         искусственный интеллект\n",
      "Name: processed_text, dtype: object\n"
     ]
    }
   ],
   "source": [
    "doc_index = [0, 1, 2, 3, 4]\n",
    "document_text = test_df.iloc[doc_index]['processed_text']\n",
    "print(f\"{document_text}\")"
   ]
  },
  {
   "cell_type": "markdown",
   "id": "9512adce-3ee0-44c1-9227-d6e4ec82fa07",
   "metadata": {},
   "source": [
    "Если соспоставить топики, полученные проценты содержания каждого топика в документах и сами документы, то видно, что все работает как надо.<br>\n",
    "**Документ 0:** \"допустить пятнадцать процент\".\n",
    "15.94% (Топик 0), 76.67% (Топик 1), 7.39% (Топик 2)\n",
    "В тексте есть слово \"допустить\", которое относится к Топику 1. Высокий процент Топика 1 логичен, так как это слово присутствует в словарном запасе Топика 1.<br>\n",
    "**Документ 1:** \"конкретики\".\n",
    "47.66% (Топик 0), 30.22% (Топик 1), 22.12% (Топик 2)\n",
    "Слово \"конкретики\" явно не совпадает с основными словами в выделенных топиках, что может объяснять более равномерное распределение по темам, так как модель могла столкнуться с неопределенностью.<br>\n",
    "**Документ 2:** \"яндекс такси\".\n",
    "82.17% (Топик 0), 10.14% (Топик 1), 7.69% (Топик 2)\n",
    "Слова \"яндекс\" и \"такси\" не относятся напрямую к каким-либо топикам, но высокий процент Топика 0 может быть случайным распределением, учитывая, что в этом топике есть слова, связанные с текстом и общими понятиями.<br>\n",
    "**Документ 3:** \"борис присутствие парень\".\n",
    "45.71% (Топик 0), 46.84% (Топик 1), 7.45% (Топик 2)\n",
    "Здесь распределение между Топиками 0 и 1 примерно равное, что может означать, что модель нашла слова, отчасти связанные с обоими топиками. Однако, здесь связь не столь очевидна.<br>\n",
    "**Документ 4:** \"искусственный интеллект\".\n",
    "15.92% (Топик 0), 76.70% (Топик 1), 7.38% (Топик 2)\n",
    "Этот документ явно связан с Топиком 1, где \"искусственный интеллект\" является одним из ключевых слов, что подтверждает корректную работу модели."
   ]
  },
  {
   "cell_type": "markdown",
   "id": "fd44e499-ddf0-4329-b298-fa1a9d64564e",
   "metadata": {},
   "source": [
    "**Промежуточный вывод:**<br>Стоит сказать, что обученная нами модель в основном работает корректно, особенно на документах, содержащих слова, связанные с выделенными топиками. Однако, для некоторых документов, где ключевые слова не столь явные, модель может показывать менее точные результаты, но это нормально для LDA."
   ]
  },
  {
   "cell_type": "markdown",
   "id": "4cd4efa3-c048-417a-9697-9fca158f7402",
   "metadata": {},
   "source": [
    "### 3.2. Визуализация результатов тематического моделирования."
   ]
  },
  {
   "cell_type": "markdown",
   "id": "1daec74b-e5b4-48b7-9872-afc4225d4aef",
   "metadata": {},
   "source": [
    "Для визуализации будем использовать pyLDAvis. С помощью данного инструмента мы увидим на какие темы разделяется текст."
   ]
  },
  {
   "cell_type": "code",
   "execution_count": 33,
   "id": "27f2b6b0-bbd7-42fa-9cbe-90ef22aa66e2",
   "metadata": {},
   "outputs": [
    {
     "data": {
      "text/html": [
       "\n",
       "<link rel=\"stylesheet\" type=\"text/css\" href=\"https://cdn.jsdelivr.net/gh/bmabey/pyLDAvis@3.4.0/pyLDAvis/js/ldavis.v1.0.0.css\">\n",
       "\n",
       "\n",
       "<div id=\"ldavis_el89052892058249597962408\" style=\"background-color:white;\"></div>\n",
       "<script type=\"text/javascript\">\n",
       "\n",
       "var ldavis_el89052892058249597962408_data = {\"mdsDat\": {\"x\": [0.11393087395396825, -0.07613971282578434, -0.0377911611281837], \"y\": [-0.015996352832354267, -0.06328789740888141, 0.07928425024123568], \"topics\": [1, 2, 3], \"cluster\": [1, 1, 1], \"Freq\": [67.33035328607824, 21.04563028610617, 11.624016427815594]}, \"tinfo\": {\"Term\": [\"\\u0437\\u043d\\u0430\\u0442\\u044c\", \"\\u0437\\u0430\\u0434\\u0430\\u0447\\u0430\", \"\\u0437\\u0430\\u0434\\u0430\\u043d\\u0438\\u0435\", \"\\u0441\\u0434\\u0435\\u043b\\u0430\\u0442\\u044c\", \"\\u0442\\u0435\\u0441\\u0442\\u043e\\u0432\\u044b\\u0439\", \"\\u0432\\u0438\\u0434\", \"\\u043c\\u043e\\u0434\\u0435\\u043b\\u044c\", \"\\u0438\\u0441\\u043a\\u0443\\u0441\\u0441\\u0442\\u0432\\u0435\\u043d\\u043d\\u044b\\u0439\", \"\\u0438\\u043d\\u0442\\u0435\\u043b\\u043b\\u0435\\u043a\\u0442\", \"\\u0434\\u043e\\u043f\\u0443\\u0441\\u0442\\u0438\\u0442\\u044c\", \"\\u0432\\u043e\\u043f\\u0440\\u043e\\u0441\", \"\\u043e\\u0448\\u0438\\u0431\\u043a\\u0430\", \"\\u0441\\u043b\\u043e\\u0432\\u0430\\u0440\\u044c\", \"\\u0440\\u0435\\u0437\\u0443\\u043b\\u044c\\u0442\\u0430\\u0442\", \"\\u043f\\u043e\\u043d\\u0438\\u043c\\u0430\\u0442\\u044c\", \"\\u0434\\u0435\\u043b\\u0430\\u0442\\u044c\", \"\\u0441\\u043c\\u043e\\u0442\\u0440\\u0435\\u0442\\u044c\", \"\\u043a\\u0430\\u043a\\u043e\\u0439\", \"\\u043f\\u0430\\u0440\\u0430\\u043c\\u0435\\u0442\\u0440\", \"\\u043f\\u0440\\u0435\\u0434\\u043b\\u0430\\u0433\\u0430\\u0442\\u044c\", \"\\u0442\\u0435\\u043a\\u0441\\u0442\", \"\\u0433\\u043e\\u0432\\u043e\\u0440\\u0438\\u0442\\u044c\", \"\\u0447\\u0435\\u043b\\u043e\\u0432\\u0435\\u043a\", \"\\u0441\\u043b\\u043e\\u0432\\u043e\", \"\\u043f\\u0440\\u043e\\u0435\\u043a\\u0442\", \"\\u0440\\u0430\\u0437\", \"\\u043c\\u043e\\u0434\\u0435\\u043b\\u044c\", \"\\u0434\\u043e\\u043f\\u0443\\u0441\\u0442\\u0438\\u0442\\u044c\", \"\\u043c\\u0435\\u0441\\u0441\\u0435\\u043d\\u0434\\u0436\\u0435\\u0440\", \"\\u0438\\u0441\\u043a\\u0443\\u0441\\u0441\\u0442\\u0432\\u0435\\u043d\\u043d\\u044b\\u0439\", \"\\u0438\\u043d\\u0442\\u0435\\u043b\\u043b\\u0435\\u043a\\u0442\", \"\\u0440\\u0430\\u0437\\u043b\\u0438\\u0447\\u043d\\u044b\\u0439\", \"\\u0443\\u0441\\u043b\\u044b\\u0448\\u0430\\u0442\\u044c\", \"\\u043f\\u0440\\u043e\\u0438\\u0441\\u0445\\u043e\\u0434\\u0438\\u0442\\u044c\", \"\\u0441\\u0442\\u0435\\u043d\\u0430\", \"\\u043a\\u0440\\u0443\\u0442\\u043e\\u0439\", \"\\u043a\\u043b\\u0430\\u0441\\u0441\\u043d\\u044b\\u0439\", \"\\u0437\\u0430\\u0434\\u0430\\u0447\\u0430\", \"\\u0443\\u0441\\u043b\\u043e\\u0432\\u043d\\u043e\", \"\\u043c\\u043e\\u0434\\u0435\\u043b\\u044c\", \"\\u0440\\u0430\\u0431\\u043e\\u0442\\u0430\\u0442\\u044c\", \"\\u0442\\u0435\\u0441\\u0442\\u043e\\u0432\\u044b\\u0439\", \"\\u043a\\u0430\\u0447\\u0435\\u0441\\u0442\\u0432\\u043e\", \"\\u0437\\u0430\\u0434\\u0430\\u043d\\u0438\\u0435\", \"faster\", \"\\u0432\\u0438\\u0441\\u043f\\u0435\\u0440\\u0430\", \"\\u0441\\u0438\\u043a\\u0432\\u0435\\u043d\\u0441\", \"\\u043f\\u043e\\u0441\\u0442\\u043e\\u044f\\u043d\\u043d\\u044b\\u0439\", \"\\u043f\\u043e\\u043b\\u044c\\u0437\\u043e\\u0432\\u0430\\u043d\\u0438\\u0435\", \"\\u0441\\u0434\\u0435\\u043b\\u0430\\u0442\\u044c\", \"\\u0437\\u043d\\u0430\\u0442\\u044c\", \"\\u043a\\u0442\\u043e\\u0442\\u043e\", \"\\u0438\\u043c\\u0435\\u0442\\u044c\\u0441\\u044f\", \"\\u0432\\u0438\\u0434\", \"\\u0442\\u0435\\u0441\\u0442\\u043e\\u0432\\u044b\\u0439\", \"\\u0440\\u0430\\u0431\\u043e\\u0442\\u0430\\u0442\\u044c\", \"\\u043c\\u043e\\u0434\\u0435\\u043b\\u044c\", \"\\u043e\\u0431\\u0443\\u0447\\u0430\\u0442\\u044c\\u0441\\u044f\", \"\\u043e\\u0431\\u0449\\u0438\\u0439\"], \"Freq\": [7.0, 16.0, 5.0, 5.0, 6.0, 5.0, 25.0, 5.0, 5.0, 5.0, 23.36846682577681, 13.353471743930518, 13.918223835730824, 9.50717375475359, 18.27843454893776, 8.736009603847954, 8.734140061950043, 8.716799274463163, 6.424098124381953, 6.422913078255734, 30.877126960329818, 13.520163217730813, 11.931280997700892, 12.366506795712414, 12.304249819650446, 13.838169969604834, 15.9483056350525, 4.657844924523608, 4.046724066857405, 5.212090597782948, 5.2120427198101, 3.3812484580692908, 2.7680359314642713, 2.131376877584322, 2.1277430676896945, 2.1277383653887894, 2.1277383653887894, 8.611132134993946, 2.793656204202901, 8.33080147418343, 2.7609677319815678, 2.871896720252437, 2.810340609035837, 4.049531191756789, 1.1556700912161677, 1.1555025720859091, 1.155264456451144, 1.1549080503523064, 1.1549028559606704, 4.091474959782035, 5.029275620123434, 1.0254433873815967, 1.6244397352154814, 3.008175848087737, 3.5303628448555653, 1.6455042918970633, 1.6324379177912511, 1.1680292016790064, 1.1604996948940236], \"Total\": [7.0, 16.0, 5.0, 5.0, 6.0, 5.0, 25.0, 5.0, 5.0, 5.0, 23.760239772238695, 13.740458180796345, 14.436026441388057, 9.886916040350103, 19.052793579569702, 9.115870243153793, 9.115128946592446, 9.111133041389008, 6.803113205040692, 6.80286382132103, 32.717782388464016, 14.408692697618028, 12.734848941815612, 13.57254211005955, 13.559363279497806, 15.742554536197694, 25.91154502702718, 5.113751843758046, 4.475874622205765, 5.779086556132791, 5.779095608569861, 3.840341584518253, 3.195870394809898, 2.5552206154146067, 2.5560549766890204, 2.556056380877312, 2.5560564170032296, 16.882816293821385, 3.7012774418820857, 25.91154502702718, 4.686335766007847, 6.698633519622507, 7.042010051559319, 5.411993794408411, 1.6260592075751088, 1.6261316739138958, 1.626249002022952, 1.626437831624695, 1.6264407386436381, 5.888722939411044, 7.683669750878491, 1.6980372023723143, 2.7749538542310432, 5.219813675589595, 6.698633519622507, 4.686335766007847, 25.91154502702718, 2.3897124726196495, 3.1650374372390155], \"Category\": [\"Default\", \"Default\", \"Default\", \"Default\", \"Default\", \"Default\", \"Default\", \"Default\", \"Default\", \"Default\", \"Topic1\", \"Topic1\", \"Topic1\", \"Topic1\", \"Topic1\", \"Topic1\", \"Topic1\", \"Topic1\", \"Topic1\", \"Topic1\", \"Topic1\", \"Topic1\", \"Topic1\", \"Topic1\", \"Topic1\", \"Topic1\", \"Topic1\", \"Topic2\", \"Topic2\", \"Topic2\", \"Topic2\", \"Topic2\", \"Topic2\", \"Topic2\", \"Topic2\", \"Topic2\", \"Topic2\", \"Topic2\", \"Topic2\", \"Topic2\", \"Topic2\", \"Topic2\", \"Topic2\", \"Topic3\", \"Topic3\", \"Topic3\", \"Topic3\", \"Topic3\", \"Topic3\", \"Topic3\", \"Topic3\", \"Topic3\", \"Topic3\", \"Topic3\", \"Topic3\", \"Topic3\", \"Topic3\", \"Topic3\", \"Topic3\"], \"logprob\": [10.0, 9.0, 8.0, 7.0, 6.0, 5.0, 4.0, 3.0, 2.0, 1.0, -4.1406, -4.7002, -4.6588, -5.0399, -4.3863, -5.1245, -5.1247, -5.1267, -5.4319, -5.4321, -3.862, -4.6878, -4.8128, -4.777, -4.782, -4.6645, -4.5226, -4.5905, -4.7312, -4.4781, -4.4781, -4.9108, -5.1109, -5.3723, -5.374, -5.374, -5.374, -3.976, -5.1017, -4.0091, -5.1135, -5.0741, -5.0958, -4.1368, -5.3908, -5.3909, -5.3911, -5.3914, -5.3914, -4.1265, -3.9202, -5.5103, -5.0503, -4.4341, -4.274, -5.0374, -5.0454, -5.3801, -5.3866], \"loglift\": [10.0, 9.0, 8.0, 7.0, 6.0, 5.0, 4.0, 3.0, 2.0, 1.0, 0.3789, 0.367, 0.359, 0.3564, 0.3541, 0.353, 0.3529, 0.3513, 0.3382, 0.3381, 0.3377, 0.3319, 0.3304, 0.3025, 0.2984, 0.2666, -0.0898, 1.4651, 1.4577, 1.4552, 1.4552, 1.4312, 1.4148, 1.3771, 1.3751, 1.3751, 1.3751, 0.8852, 1.2772, 0.4237, 1.0294, 0.7115, 0.6399, 1.8621, 1.8106, 1.8104, 1.8101, 1.8097, 1.8097, 1.788, 1.7283, 1.6477, 1.6166, 1.601, 1.5116, 1.1055, -0.6125, 1.4362, 1.1488]}, \"token.table\": {\"Topic\": [3, 1, 3, 3, 1, 1, 2, 1, 2, 1, 3, 1, 2, 3, 1, 2, 3, 2, 3, 2, 2, 1, 1, 2, 2, 2, 3, 2, 1, 2, 3, 1, 3, 1, 3, 1, 1, 3, 1, 2, 3, 1, 1, 2, 2, 2, 3, 1, 2, 2, 1, 2, 3, 3, 1, 1, 2, 1, 2, 1, 2, 2, 3, 2, 3, 2, 1, 3], \"Freq\": [0.6149837566439347, 0.3831554389293586, 0.5747331583940379, 0.6149563507321181, 0.9680036994775215, 0.9716356850552035, 0.06940254893251453, 0.9872891737088059, 0.9777556973366054, 0.1847747868878166, 0.7390991475512664, 0.41462276661517633, 0.5330864142195124, 0.05923182380216804, 0.130146145321468, 0.260292290642936, 0.6507307266073401, 0.360366352930617, 0.720732705861234, 0.8651872781937481, 0.8651886334344618, 0.9878025004262185, 0.5680196379603685, 0.4260147284702763, 0.7824553428068849, 0.7824553538656853, 0.5889152479126535, 0.8936800821352657, 0.617485371223951, 0.3087426856119755, 0.07718567140299387, 0.41846038444272776, 0.41846038444272776, 0.6319040579010267, 0.31595202895051333, 0.9461110997134572, 0.8819491634439313, 0.6148394935274093, 0.9447433482563622, 0.0524857415697979, 0.6148405924627759, 0.8819814944987207, 0.8849973079594664, 0.07374977566328887, 0.7827112805582475, 0.6401589962376112, 0.4267726641584074, 0.8893092901669202, 0.12704418430956002, 0.7811805106332309, 1.0114377384402156, 0.3396322123791459, 0.6792644247582919, 0.614911983808176, 0.969795951596627, 0.884137982604303, 0.07367816521702525, 0.9873694659431577, 0.7824557837135002, 0.9474969798359656, 0.06112883740877197, 0.44785253458216673, 0.5971367127762223, 0.8105309712947407, 0.2701769904315802, 0.9387114085952948, 0.9422962184182104, 0.0785246848681842], \"Term\": [\"faster\", \"\\u0432\\u0438\\u0434\", \"\\u0432\\u0438\\u0434\", \"\\u0432\\u0438\\u0441\\u043f\\u0435\\u0440\\u0430\", \"\\u0432\\u043e\\u043f\\u0440\\u043e\\u0441\", \"\\u0433\\u043e\\u0432\\u043e\\u0440\\u0438\\u0442\\u044c\", \"\\u0433\\u043e\\u0432\\u043e\\u0440\\u0438\\u0442\\u044c\", \"\\u0434\\u0435\\u043b\\u0430\\u0442\\u044c\", \"\\u0434\\u043e\\u043f\\u0443\\u0441\\u0442\\u0438\\u0442\\u044c\", \"\\u0437\\u0430\\u0434\\u0430\\u043d\\u0438\\u0435\", \"\\u0437\\u0430\\u0434\\u0430\\u043d\\u0438\\u0435\", \"\\u0437\\u0430\\u0434\\u0430\\u0447\\u0430\", \"\\u0437\\u0430\\u0434\\u0430\\u0447\\u0430\", \"\\u0437\\u0430\\u0434\\u0430\\u0447\\u0430\", \"\\u0437\\u043d\\u0430\\u0442\\u044c\", \"\\u0437\\u043d\\u0430\\u0442\\u044c\", \"\\u0437\\u043d\\u0430\\u0442\\u044c\", \"\\u0438\\u043c\\u0435\\u0442\\u044c\\u0441\\u044f\", \"\\u0438\\u043c\\u0435\\u0442\\u044c\\u0441\\u044f\", \"\\u0438\\u043d\\u0442\\u0435\\u043b\\u043b\\u0435\\u043a\\u0442\", \"\\u0438\\u0441\\u043a\\u0443\\u0441\\u0441\\u0442\\u0432\\u0435\\u043d\\u043d\\u044b\\u0439\", \"\\u043a\\u0430\\u043a\\u043e\\u0439\", \"\\u043a\\u0430\\u0447\\u0435\\u0441\\u0442\\u0432\\u043e\", \"\\u043a\\u0430\\u0447\\u0435\\u0441\\u0442\\u0432\\u043e\", \"\\u043a\\u043b\\u0430\\u0441\\u0441\\u043d\\u044b\\u0439\", \"\\u043a\\u0440\\u0443\\u0442\\u043e\\u0439\", \"\\u043a\\u0442\\u043e\\u0442\\u043e\", \"\\u043c\\u0435\\u0441\\u0441\\u0435\\u043d\\u0434\\u0436\\u0435\\u0440\", \"\\u043c\\u043e\\u0434\\u0435\\u043b\\u044c\", \"\\u043c\\u043e\\u0434\\u0435\\u043b\\u044c\", \"\\u043c\\u043e\\u0434\\u0435\\u043b\\u044c\", \"\\u043e\\u0431\\u0443\\u0447\\u0430\\u0442\\u044c\\u0441\\u044f\", \"\\u043e\\u0431\\u0443\\u0447\\u0430\\u0442\\u044c\\u0441\\u044f\", \"\\u043e\\u0431\\u0449\\u0438\\u0439\", \"\\u043e\\u0431\\u0449\\u0438\\u0439\", \"\\u043e\\u0448\\u0438\\u0431\\u043a\\u0430\", \"\\u043f\\u0430\\u0440\\u0430\\u043c\\u0435\\u0442\\u0440\", \"\\u043f\\u043e\\u043b\\u044c\\u0437\\u043e\\u0432\\u0430\\u043d\\u0438\\u0435\", \"\\u043f\\u043e\\u043d\\u0438\\u043c\\u0430\\u0442\\u044c\", \"\\u043f\\u043e\\u043d\\u0438\\u043c\\u0430\\u0442\\u044c\", \"\\u043f\\u043e\\u0441\\u0442\\u043e\\u044f\\u043d\\u043d\\u044b\\u0439\", \"\\u043f\\u0440\\u0435\\u0434\\u043b\\u0430\\u0433\\u0430\\u0442\\u044c\", \"\\u043f\\u0440\\u043e\\u0435\\u043a\\u0442\", \"\\u043f\\u0440\\u043e\\u0435\\u043a\\u0442\", \"\\u043f\\u0440\\u043e\\u0438\\u0441\\u0445\\u043e\\u0434\\u0438\\u0442\\u044c\", \"\\u0440\\u0430\\u0431\\u043e\\u0442\\u0430\\u0442\\u044c\", \"\\u0440\\u0430\\u0431\\u043e\\u0442\\u0430\\u0442\\u044c\", \"\\u0440\\u0430\\u0437\", \"\\u0440\\u0430\\u0437\", \"\\u0440\\u0430\\u0437\\u043b\\u0438\\u0447\\u043d\\u044b\\u0439\", \"\\u0440\\u0435\\u0437\\u0443\\u043b\\u044c\\u0442\\u0430\\u0442\", \"\\u0441\\u0434\\u0435\\u043b\\u0430\\u0442\\u044c\", \"\\u0441\\u0434\\u0435\\u043b\\u0430\\u0442\\u044c\", \"\\u0441\\u0438\\u043a\\u0432\\u0435\\u043d\\u0441\", \"\\u0441\\u043b\\u043e\\u0432\\u0430\\u0440\\u044c\", \"\\u0441\\u043b\\u043e\\u0432\\u043e\", \"\\u0441\\u043b\\u043e\\u0432\\u043e\", \"\\u0441\\u043c\\u043e\\u0442\\u0440\\u0435\\u0442\\u044c\", \"\\u0441\\u0442\\u0435\\u043d\\u0430\", \"\\u0442\\u0435\\u043a\\u0441\\u0442\", \"\\u0442\\u0435\\u043a\\u0441\\u0442\", \"\\u0442\\u0435\\u0441\\u0442\\u043e\\u0432\\u044b\\u0439\", \"\\u0442\\u0435\\u0441\\u0442\\u043e\\u0432\\u044b\\u0439\", \"\\u0443\\u0441\\u043b\\u043e\\u0432\\u043d\\u043e\", \"\\u0443\\u0441\\u043b\\u043e\\u0432\\u043d\\u043e\", \"\\u0443\\u0441\\u043b\\u044b\\u0448\\u0430\\u0442\\u044c\", \"\\u0447\\u0435\\u043b\\u043e\\u0432\\u0435\\u043a\", \"\\u0447\\u0435\\u043b\\u043e\\u0432\\u0435\\u043a\"]}, \"R\": 10, \"lambda.step\": 0.01, \"plot.opts\": {\"xlab\": \"PC1\", \"ylab\": \"PC2\"}, \"topic.order\": [1, 2, 3]};\n",
       "\n",
       "function LDAvis_load_lib(url, callback){\n",
       "  var s = document.createElement('script');\n",
       "  s.src = url;\n",
       "  s.async = true;\n",
       "  s.onreadystatechange = s.onload = callback;\n",
       "  s.onerror = function(){console.warn(\"failed to load library \" + url);};\n",
       "  document.getElementsByTagName(\"head\")[0].appendChild(s);\n",
       "}\n",
       "\n",
       "if(typeof(LDAvis) !== \"undefined\"){\n",
       "   // already loaded: just create the visualization\n",
       "   !function(LDAvis){\n",
       "       new LDAvis(\"#\" + \"ldavis_el89052892058249597962408\", ldavis_el89052892058249597962408_data);\n",
       "   }(LDAvis);\n",
       "}else if(typeof define === \"function\" && define.amd){\n",
       "   // require.js is available: use it to load d3/LDAvis\n",
       "   require.config({paths: {d3: \"https://d3js.org/d3.v5\"}});\n",
       "   require([\"d3\"], function(d3){\n",
       "      window.d3 = d3;\n",
       "      LDAvis_load_lib(\"https://cdn.jsdelivr.net/gh/bmabey/pyLDAvis@3.4.0/pyLDAvis/js/ldavis.v3.0.0.js\", function(){\n",
       "        new LDAvis(\"#\" + \"ldavis_el89052892058249597962408\", ldavis_el89052892058249597962408_data);\n",
       "      });\n",
       "    });\n",
       "}else{\n",
       "    // require.js not available: dynamically load d3 & LDAvis\n",
       "    LDAvis_load_lib(\"https://d3js.org/d3.v5.js\", function(){\n",
       "         LDAvis_load_lib(\"https://cdn.jsdelivr.net/gh/bmabey/pyLDAvis@3.4.0/pyLDAvis/js/ldavis.v3.0.0.js\", function(){\n",
       "                 new LDAvis(\"#\" + \"ldavis_el89052892058249597962408\", ldavis_el89052892058249597962408_data);\n",
       "            })\n",
       "         });\n",
       "}\n",
       "</script>"
      ],
      "text/plain": [
       "PreparedData(topic_coordinates=              x         y  topics  cluster       Freq\n",
       "topic                                                \n",
       "0      0.113931 -0.015996       1        1  67.330353\n",
       "1     -0.076140 -0.063288       2        1  21.045630\n",
       "2     -0.037791  0.079284       3        1  11.624016, topic_info=              Term       Freq      Total Category  logprob  loglift\n",
       "110          знать   7.000000   7.000000  Default  10.0000  10.0000\n",
       "178         задача  16.000000  16.000000  Default   9.0000   9.0000\n",
       "28         задание   5.000000   5.000000  Default   8.0000   8.0000\n",
       "30         сделать   5.000000   5.000000  Default   7.0000   7.0000\n",
       "31        тестовый   6.000000   6.000000  Default   6.0000   6.0000\n",
       "285            вид   5.000000   5.000000  Default   5.0000   5.0000\n",
       "54          модель  25.000000  25.000000  Default   4.0000   4.0000\n",
       "115  искусственный   5.000000   5.000000  Default   3.0000   3.0000\n",
       "114      интеллект   5.000000   5.000000  Default   2.0000   2.0000\n",
       "141      допустить   5.000000   5.000000  Default   1.0000   1.0000\n",
       "59          вопрос  23.368467  23.760240   Topic1  -4.1406   0.3789\n",
       "96          ошибка  13.353472  13.740458   Topic1  -4.7002   0.3670\n",
       "126        словарь  13.918224  14.436026   Topic1  -4.6588   0.3590\n",
       "84       результат   9.507174   9.886916   Topic1  -5.0399   0.3564\n",
       "93        понимать  18.278435  19.052794   Topic1  -4.3863   0.3541\n",
       "36          делать   8.736010   9.115870   Topic1  -5.1245   0.3530\n",
       "201       смотреть   8.734140   9.115129   Topic1  -5.1247   0.3529\n",
       "24           какой   8.716799   9.111133   Topic1  -5.1267   0.3513\n",
       "106       параметр   6.424098   6.803113   Topic1  -5.4319   0.3382\n",
       "2       предлагать   6.422913   6.802864   Topic1  -5.4321   0.3381\n",
       "67           текст  30.877127  32.717782   Topic1  -3.8620   0.3377\n",
       "13        говорить  13.520163  14.408693   Topic1  -4.6878   0.3319\n",
       "139        человек  11.931281  12.734849   Topic1  -4.8128   0.3304\n",
       "49           слово  12.366507  13.572542   Topic1  -4.7770   0.3025\n",
       "79          проект  12.304250  13.559363   Topic1  -4.7820   0.2984\n",
       "131            раз  13.838170  15.742555   Topic1  -4.6645   0.2666\n",
       "54          модель  15.948306  25.911545   Topic1  -4.5226  -0.0898\n",
       "141      допустить   4.657845   5.113752   Topic2  -4.5905   1.4651\n",
       "123     мессенджер   4.046724   4.475875   Topic2  -4.7312   1.4577\n",
       "115  искусственный   5.212091   5.779087   Topic2  -4.4781   1.4552\n",
       "114      интеллект   5.212043   5.779096   Topic2  -4.4781   1.4552\n",
       "407      различный   3.381248   3.840342   Topic2  -4.9108   1.4312\n",
       "284       услышать   2.768036   3.195870   Topic2  -5.1109   1.4148\n",
       "649    происходить   2.131377   2.555221   Topic2  -5.3723   1.3771\n",
       "454          стена   2.127743   2.556055   Topic2  -5.3740   1.3751\n",
       "453         крутой   2.127738   2.556056   Topic2  -5.3740   1.3751\n",
       "452       классный   2.127738   2.556056   Topic2  -5.3740   1.3751\n",
       "178         задача   8.611132  16.882816   Topic2  -3.9760   0.8852\n",
       "117        условно   2.793656   3.701277   Topic2  -5.1017   1.2772\n",
       "54          модель   8.330801  25.911545   Topic2  -4.0091   0.4237\n",
       "337       работать   2.760968   4.686336   Topic2  -5.1135   1.0294\n",
       "31        тестовый   2.871897   6.698634   Topic2  -5.0741   0.7115\n",
       "318       качество   2.810341   7.042010   Topic2  -5.0958   0.6399\n",
       "28         задание   4.049531   5.411994   Topic3  -4.1368   1.8621\n",
       "322         faster   1.155670   1.626059   Topic3  -5.3908   1.8106\n",
       "328        виспера   1.155503   1.626132   Topic3  -5.3909   1.8104\n",
       "56         сиквенс   1.155264   1.626249   Topic3  -5.3911   1.8101\n",
       "617     постоянный   1.154908   1.626438   Topic3  -5.3914   1.8097\n",
       "616    пользование   1.154903   1.626441   Topic3  -5.3914   1.8097\n",
       "30         сделать   4.091475   5.888723   Topic3  -4.1265   1.7880\n",
       "110          знать   5.029276   7.683670   Topic3  -3.9202   1.7283\n",
       "570          ктото   1.025443   1.698037   Topic3  -5.5103   1.6477\n",
       "228        иметься   1.624440   2.774954   Topic3  -5.0503   1.6166\n",
       "285            вид   3.008176   5.219814   Topic3  -4.4341   1.6010\n",
       "31        тестовый   3.530363   6.698634   Topic3  -4.2740   1.5116\n",
       "337       работать   1.645504   4.686336   Topic3  -5.0374   1.1055\n",
       "54          модель   1.632438  25.911545   Topic3  -5.0454  -0.6125\n",
       "9        обучаться   1.168029   2.389712   Topic3  -5.3801   1.4362\n",
       "493          общий   1.160500   3.165037   Topic3  -5.3866   1.1488, token_table=      Topic      Freq      Term\n",
       "term                           \n",
       "322       3  0.614984    faster\n",
       "285       1  0.383155       вид\n",
       "285       3  0.574733       вид\n",
       "328       3  0.614956   виспера\n",
       "59        1  0.968004    вопрос\n",
       "...     ...       ...       ...\n",
       "117       2  0.810531   условно\n",
       "117       3  0.270177   условно\n",
       "284       2  0.938711  услышать\n",
       "139       1  0.942296   человек\n",
       "139       3  0.078525   человек\n",
       "\n",
       "[68 rows x 3 columns], R=10, lambda_step=0.01, plot_opts={'xlab': 'PC1', 'ylab': 'PC2'}, topic_order=[1, 2, 3])"
      ]
     },
     "execution_count": 33,
     "metadata": {},
     "output_type": "execute_result"
    }
   ],
   "source": [
    "pyLDAvis.enable_notebook()\n",
    "\n",
    "panel = gensimvis.prepare(lda_model, train_corpus, dictionary, R=10)\n",
    "\n",
    "panel"
   ]
  },
  {
   "cell_type": "markdown",
   "id": "64fa9975-c5e5-454e-8154-b0616486e3ad",
   "metadata": {},
   "source": [
    "**Промежуточный вывод:**<br>\"Пузыри\" наглядно показывают нам, что разбиение на темы прошло успешно.<br>Все пузыри находятся в разных плоскостях и не пересекаются - это признак хорошей тематической модели.<br>\n",
    "Я думаю, что темам можно дать следующие характеристики и названия:<br>\n",
    "**Тема 1: \"Текст в моделях машинного обучения\".**\n",
    "Эта тема охватывает обсуждения, связанные с обработкой текстов, использованием словарей и корректностью моделей машинного обучения.<br>\n",
    "**Тема 2: \"Задачи и качество искусственного интеллекта\".**<br>\n",
    "Эта тема связана с задачами, в которых используются модели искусственного интеллекта, и обсуждением их качества и эффективности.<br>\n",
    "**Тема 3: \"Тестовые задания и знания\".**<br>\n",
    "Эта тема охватывает вопросы, связанные с выполнением тестовых заданий, обучением и применением знаний."
   ]
  },
  {
   "cell_type": "markdown",
   "id": "3c100fc8-b025-4b86-b60d-6f180cd75f0c",
   "metadata": {},
   "source": [
    "**Вывод по шагу 3:**<br>Созданная нами модель LDA успешно выделяет темы в текстах и корректно распределяет их по документам. Визуализация pyLDAvis подтверждает, что модель разделяет темы достаточно чётко, что делает её пригодной для анализа и интерпретации текстовых данных в контексте обсуждаемых тем."
   ]
  },
  {
   "cell_type": "markdown",
   "id": "e7389c09-25c0-4b2b-84f0-d22785dc55b0",
   "metadata": {},
   "source": [
    "## Подведение итогов."
   ]
  },
  {
   "cell_type": "markdown",
   "id": "a1a7dac7-95b2-4eb8-a0df-989a0ff38618",
   "metadata": {},
   "source": [
    "**Общий вывод:**<br>В рамках данного проекта был проведен комплексный анализ текстового файла в формате DOCX, содержащего диалог с совещания. В анализе использовались методы обработки естественного языка и анализа данных. Целью было углубленное понимание содержания совещания, выявление эмоциональных настроений участников и определение основных тем обсуждения.<br><br>1) В ходе исследовательского анализа данных были изучены структура сообщений и частота использования слов. Анализ показал, что основное обсуждение сосредоточено на моделях и методах машинного обучения. Выбросы и аномалии в частоте слов не оказали значительного влияния на результаты анализа. Основные инсайты подтверждают, что содержание совещания в основном связано с темами машинного обучения. Для дальнейшего углубленного анализа планируется продолжение работы.<br><br>2) Проведенный анализ эмоциональности текста показал, что общение между участниками было в основном конструктивным и позитивным. В тексте преобладает нейтральный и положительный тон, что свидетельствует о здоровой и продуктивной рабочей атмосфере.<br><br>3) Созданная модель LDA успешно выделяет темы в текстах и корректно распределяет их по документам. Визуализация с использованием pyLDAvis подтверждает четкость разделения тем, что делает модель пригодной для анализа и интерпретации текстовых данных.<br><br>Темы, выявленные моделью:<br>\"Текст в моделях машинного обучения\";<br>\"Задачи и качество искусственного интеллекта\";<br>\"Тестовые задания и знания\".<br><br>Делаем вывод, что основное обсуждение сосредоточено на моделях машинного обучения и искусственном интеллекте. Текст демонстрирует конструктивную и позитивную рабочую атмосферу, где участники вели обсуждение по ключевым вопросам, связанным с моделями МО (ИИ) и выполнением тестовых заданий.<br><br>Проведенный анализ показывает, что используемые методы обработки текста и тематического моделирования позволяют эффективно извлекать и интерпретировать ключевые темы обсуждений. Полученные результаты дают ясное представление о содержании совещания, эмоциональном фоне и основных обсуждаемых темах."
   ]
  },
  {
   "cell_type": "code",
   "execution_count": null,
   "id": "fa16109c-986d-4753-9b89-b666de1e2ddc",
   "metadata": {},
   "outputs": [],
   "source": []
  }
 ],
 "metadata": {
  "kernelspec": {
   "display_name": "Python 3 (ipykernel)",
   "language": "python",
   "name": "python3"
  },
  "language_info": {
   "codemirror_mode": {
    "name": "ipython",
    "version": 3
   },
   "file_extension": ".py",
   "mimetype": "text/x-python",
   "name": "python",
   "nbconvert_exporter": "python",
   "pygments_lexer": "ipython3",
   "version": "3.9.5"
  }
 },
 "nbformat": 4,
 "nbformat_minor": 5
}

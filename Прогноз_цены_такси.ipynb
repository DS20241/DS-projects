{
 "cells": [
  {
   "cell_type": "markdown",
   "metadata": {},
   "source": [
    "#  Описание данных."
   ]
  },
  {
   "cell_type": "markdown",
   "metadata": {},
   "source": [
    "Компания «Чётенькое такси» предоставила нам исторические данные о заказах такси в аэропортах для того, чтобы привлекать больше водителей в период пиковой нагрузки. Наша задачей в данном проекте - спрогнозировать количество заказов такси на следующий час.\n",
    "\n",
    "Значение метрики *RMSE* на тестовой выборке должно быть не больше 48.\n",
    "\n",
    "Нам необходимо:\n",
    "\n",
    "1. Загрузить данные и выполнить их ресемплирование по одному часу.\n",
    "2. Проанализировать данные.\n",
    "3. Обучить разные модели с различными гиперпараметрами. Сделать тестовую выборку размером 10% от исходных данных.\n",
    "4. Проверить данные на тестовой выборке и сделать выводы.\n",
    "\n",
    "\n",
    "Данные лежат в файле `taxi.csv`. Количество заказов находится в столбце `num_orders` (от англ. *number of orders*, «число заказов»)."
   ]
  },
  {
   "cell_type": "markdown",
   "metadata": {},
   "source": [
    "## Подготовка"
   ]
  },
  {
   "cell_type": "code",
   "execution_count": 1,
   "metadata": {},
   "outputs": [],
   "source": [
    "import pandas as pd\n",
    "import numpy as np\n",
    "import matplotlib.pyplot as plt\n",
    "from statsmodels.tsa.stattools import adfuller\n",
    "from statsmodels.tsa.seasonal import seasonal_decompose\n",
    "\n",
    "from sklearn.model_selection import train_test_split, TimeSeriesSplit, RandomizedSearchCV\n",
    "from sklearn.pipeline import Pipeline\n",
    "from sklearn.compose import ColumnTransformer\n",
    "from sklearn.preprocessing import StandardScaler, MinMaxScaler\n",
    "from lightgbm import LGBMRegressor\n",
    "from catboost import CatBoostRegressor\n",
    "from sklearn.ensemble import RandomForestRegressor\n",
    "from sklearn.tree import DecisionTreeRegressor\n",
    "from sklearn.linear_model import LinearRegression\n",
    "from sklearn.metrics import make_scorer, mean_squared_error\n",
    "import time\n",
    "from sklearn.model_selection import cross_val_score"
   ]
  },
  {
   "cell_type": "code",
   "execution_count": 2,
   "metadata": {},
   "outputs": [],
   "source": [
    "df = pd.read_csv('/datasets/taxi.csv')"
   ]
  },
  {
   "cell_type": "code",
   "execution_count": 3,
   "metadata": {},
   "outputs": [
    {
     "data": {
      "text/html": [
       "<div>\n",
       "<style scoped>\n",
       "    .dataframe tbody tr th:only-of-type {\n",
       "        vertical-align: middle;\n",
       "    }\n",
       "\n",
       "    .dataframe tbody tr th {\n",
       "        vertical-align: top;\n",
       "    }\n",
       "\n",
       "    .dataframe thead th {\n",
       "        text-align: right;\n",
       "    }\n",
       "</style>\n",
       "<table border=\"1\" class=\"dataframe\">\n",
       "  <thead>\n",
       "    <tr style=\"text-align: right;\">\n",
       "      <th></th>\n",
       "      <th>datetime</th>\n",
       "      <th>num_orders</th>\n",
       "    </tr>\n",
       "  </thead>\n",
       "  <tbody>\n",
       "    <tr>\n",
       "      <th>0</th>\n",
       "      <td>2018-03-01 00:00:00</td>\n",
       "      <td>9</td>\n",
       "    </tr>\n",
       "    <tr>\n",
       "      <th>1</th>\n",
       "      <td>2018-03-01 00:10:00</td>\n",
       "      <td>14</td>\n",
       "    </tr>\n",
       "    <tr>\n",
       "      <th>2</th>\n",
       "      <td>2018-03-01 00:20:00</td>\n",
       "      <td>28</td>\n",
       "    </tr>\n",
       "    <tr>\n",
       "      <th>3</th>\n",
       "      <td>2018-03-01 00:30:00</td>\n",
       "      <td>20</td>\n",
       "    </tr>\n",
       "    <tr>\n",
       "      <th>4</th>\n",
       "      <td>2018-03-01 00:40:00</td>\n",
       "      <td>32</td>\n",
       "    </tr>\n",
       "  </tbody>\n",
       "</table>\n",
       "</div>"
      ],
      "text/plain": [
       "              datetime  num_orders\n",
       "0  2018-03-01 00:00:00           9\n",
       "1  2018-03-01 00:10:00          14\n",
       "2  2018-03-01 00:20:00          28\n",
       "3  2018-03-01 00:30:00          20\n",
       "4  2018-03-01 00:40:00          32"
      ]
     },
     "execution_count": 3,
     "metadata": {},
     "output_type": "execute_result"
    }
   ],
   "source": [
    "df.head()"
   ]
  },
  {
   "cell_type": "code",
   "execution_count": 4,
   "metadata": {},
   "outputs": [
    {
     "name": "stdout",
     "output_type": "stream",
     "text": [
      "<class 'pandas.core.frame.DataFrame'>\n",
      "RangeIndex: 26496 entries, 0 to 26495\n",
      "Data columns (total 2 columns):\n",
      " #   Column      Non-Null Count  Dtype \n",
      "---  ------      --------------  ----- \n",
      " 0   datetime    26496 non-null  object\n",
      " 1   num_orders  26496 non-null  int64 \n",
      "dtypes: int64(1), object(1)\n",
      "memory usage: 414.1+ KB\n"
     ]
    }
   ],
   "source": [
    "df.info()"
   ]
  },
  {
   "cell_type": "code",
   "execution_count": 5,
   "metadata": {},
   "outputs": [],
   "source": [
    "df['datetime'] = pd.to_datetime(df['datetime'])\n",
    "\n",
    "df = df.set_index('datetime').sort_index()\n",
    "\n",
    "df = df.resample('1H').sum()"
   ]
  },
  {
   "cell_type": "code",
   "execution_count": 6,
   "metadata": {},
   "outputs": [
    {
     "data": {
      "text/html": [
       "<div>\n",
       "<style scoped>\n",
       "    .dataframe tbody tr th:only-of-type {\n",
       "        vertical-align: middle;\n",
       "    }\n",
       "\n",
       "    .dataframe tbody tr th {\n",
       "        vertical-align: top;\n",
       "    }\n",
       "\n",
       "    .dataframe thead th {\n",
       "        text-align: right;\n",
       "    }\n",
       "</style>\n",
       "<table border=\"1\" class=\"dataframe\">\n",
       "  <thead>\n",
       "    <tr style=\"text-align: right;\">\n",
       "      <th></th>\n",
       "      <th>num_orders</th>\n",
       "    </tr>\n",
       "    <tr>\n",
       "      <th>datetime</th>\n",
       "      <th></th>\n",
       "    </tr>\n",
       "  </thead>\n",
       "  <tbody>\n",
       "    <tr>\n",
       "      <th>2018-03-01 00:00:00</th>\n",
       "      <td>124</td>\n",
       "    </tr>\n",
       "    <tr>\n",
       "      <th>2018-03-01 01:00:00</th>\n",
       "      <td>85</td>\n",
       "    </tr>\n",
       "    <tr>\n",
       "      <th>2018-03-01 02:00:00</th>\n",
       "      <td>71</td>\n",
       "    </tr>\n",
       "    <tr>\n",
       "      <th>2018-03-01 03:00:00</th>\n",
       "      <td>66</td>\n",
       "    </tr>\n",
       "    <tr>\n",
       "      <th>2018-03-01 04:00:00</th>\n",
       "      <td>43</td>\n",
       "    </tr>\n",
       "  </tbody>\n",
       "</table>\n",
       "</div>"
      ],
      "text/plain": [
       "                     num_orders\n",
       "datetime                       \n",
       "2018-03-01 00:00:00         124\n",
       "2018-03-01 01:00:00          85\n",
       "2018-03-01 02:00:00          71\n",
       "2018-03-01 03:00:00          66\n",
       "2018-03-01 04:00:00          43"
      ]
     },
     "execution_count": 6,
     "metadata": {},
     "output_type": "execute_result"
    }
   ],
   "source": [
    "df.head()"
   ]
  },
  {
   "cell_type": "markdown",
   "metadata": {},
   "source": [
    "**Промежуточный вывод:**<br>По первому взгляду стоит сказать, что с данными все в порядке. Пропущенных значений не обнаружено.<br>Единственное, что мы сделали - поменяли тип данных у столбца 'datetime' и выполнили ресемплирование по часам."
   ]
  },
  {
   "cell_type": "markdown",
   "metadata": {},
   "source": [
    "## Анализ"
   ]
  },
  {
   "cell_type": "markdown",
   "metadata": {},
   "source": [
    "### Тренды и сезонность"
   ]
  },
  {
   "cell_type": "code",
   "execution_count": 7,
   "metadata": {},
   "outputs": [],
   "source": [
    "fs = (10,7)\n",
    "def trend_seasons(df, date):\n",
    "    fig, axes = plt.subplots(2, 1, figsize=fs)\n",
    "    decomposed_df = seasonal_decompose(df)\n",
    "    decomposed_df.trend.plot(ax=axes[0], title='Trend')\n",
    "    axes[0].set_ylabel('Количество заказов')\n",
    "    axes[0].set_xlabel(date)\n",
    "    decomposed_df.seasonal.plot(ax=axes[1], title='Seasonal')\n",
    "    axes[1].set_ylabel('Количество заказов')\n",
    "    axes[1].set_xlabel(date)\n",
    "    \n",
    "    plt.tight_layout()\n",
    "    plt.show()"
   ]
  },
  {
   "cell_type": "code",
   "execution_count": 8,
   "metadata": {},
   "outputs": [
    {
     "data": {
      "image/png": "[encoded data removed]",
      "text/plain": [
       "<Figure size 720x504 with 2 Axes>"
      ]
     },
     "metadata": {
      "needs_background": "light"
     },
     "output_type": "display_data"
    }
   ],
   "source": [
    "trend_seasons(df, 'Месяц')"
   ]
  },
  {
   "cell_type": "markdown",
   "metadata": {},
   "source": [
    "Рассмотрим теперь тренд и сезонность за последний месяц."
   ]
  },
  {
   "cell_type": "code",
   "execution_count": 9,
   "metadata": {},
   "outputs": [
    {
     "data": {
      "image/png": "[encoded data removed]",
      "text/plain": [
       "<Figure size 720x504 with 2 Axes>"
      ]
     },
     "metadata": {
      "needs_background": "light"
     },
     "output_type": "display_data"
    }
   ],
   "source": [
    "df_week_1 = df['2018-08-25':'2018-08-31']\n",
    "trend_seasons(df_week_1, 'Число')"
   ]
  },
  {
   "cell_type": "code",
   "execution_count": 10,
   "metadata": {},
   "outputs": [
    {
     "data": {
      "image/png": "[encoded data removed]",
      "text/plain": [
       "<Figure size 720x504 with 2 Axes>"
      ]
     },
     "metadata": {
      "needs_background": "light"
     },
     "output_type": "display_data"
    }
   ],
   "source": [
    "df_week_2 = df['2018-08-19':'2018-08-25']\n",
    "trend_seasons(df_week_2, 'Число')"
   ]
  },
  {
   "cell_type": "code",
   "execution_count": 11,
   "metadata": {},
   "outputs": [
    {
     "data": {
      "image/png": "[encoded data removed]",
      "text/plain": [
       "<Figure size 720x504 with 2 Axes>"
      ]
     },
     "metadata": {
      "needs_background": "light"
     },
     "output_type": "display_data"
    }
   ],
   "source": [
    "df_week_3 = df['2018-08-13':'2018-08-19']\n",
    "trend_seasons(df_week_3, 'Число')"
   ]
  },
  {
   "cell_type": "code",
   "execution_count": 12,
   "metadata": {},
   "outputs": [
    {
     "data": {
      "image/png": "[encoded data removed]",
      "text/plain": [
       "<Figure size 720x504 with 2 Axes>"
      ]
     },
     "metadata": {
      "needs_background": "light"
     },
     "output_type": "display_data"
    }
   ],
   "source": [
    "df_week_4 = df['2018-08-7':'2018-08-13']\n",
    "trend_seasons(df_week_4, 'Число')"
   ]
  },
  {
   "cell_type": "code",
   "execution_count": 13,
   "metadata": {},
   "outputs": [
    {
     "data": {
      "image/png": "[encoded data removed]",
      "text/plain": [
       "<Figure size 720x504 with 2 Axes>"
      ]
     },
     "metadata": {
      "needs_background": "light"
     },
     "output_type": "display_data"
    }
   ],
   "source": [
    "df_week_5 = df['2018-08-1':'2018-08-7']\n",
    "trend_seasons(df_week_5, 'Число')"
   ]
  },
  {
   "cell_type": "markdown",
   "metadata": {},
   "source": [
    "C сезонностью все стабильно. Наблюдается суточная сезонность. Заказы достигают минимума в ночное время, затем возрастают с утра и в течение дня, достигая пика к вечеру. Природа сезонности часовая, так как наблюдается общий тренд равномерного роста количества заказов. Это может указывать на то, что летом люди больше путешествуют, а значит и пользуются аэропортами."
   ]
  },
  {
   "cell_type": "markdown",
   "metadata": {},
   "source": [
    "### Стационарность"
   ]
  },
  {
   "cell_type": "code",
   "execution_count": 14,
   "metadata": {},
   "outputs": [],
   "source": [
    "df[\"rolling_mean\"] = df[\"num_orders\"].rolling(20, closed='left').mean()\n",
    "df[\"rolling_std\"] = df[\"num_orders\"].rolling(20, closed='left').std()"
   ]
  },
  {
   "cell_type": "code",
   "execution_count": 15,
   "metadata": {},
   "outputs": [
    {
     "data": {
      "image/png": "[encoded data removed]",
      "text/plain": [
       "<Figure size 720x504 with 1 Axes>"
      ]
     },
     "metadata": {
      "needs_background": "light"
     },
     "output_type": "display_data"
    }
   ],
   "source": [
    "df.plot(figsize=fs)\n",
    "plt.title('Количество заказов такси по времени')\n",
    "plt.xlabel('Месяц')\n",
    "plt.ylabel('Количество заказов')\n",
    "plt.show()"
   ]
  },
  {
   "cell_type": "markdown",
   "metadata": {},
   "source": [
    "На данном этапе смею предположить, что данные выглядят нестационарно, ввиду того, что наблюдается рост."
   ]
  },
  {
   "cell_type": "markdown",
   "metadata": {},
   "source": [
    "Проведем ADF-test и посмотрим, что он нам 'скажет'.<br>**Нулевая гипотеза (H0):** Ряд имеет единичный корень (нестационарный).<br>**Альтернативная гипотеза (H1):** Ряд не имеет единичного корня (стационарный)."
   ]
  },
  {
   "cell_type": "code",
   "execution_count": 16,
   "metadata": {},
   "outputs": [
    {
     "name": "stdout",
     "output_type": "stream",
     "text": [
      "Ряд стационарный\n"
     ]
    }
   ],
   "source": [
    "ts = df['num_orders']\n",
    "st_test = adfuller(ts, regression='ctt')\n",
    "\n",
    "if st_test[1] < 0.01:\n",
    "    print('Ряд стационарный')\n",
    "else:\n",
    "    print('Ряд нестационарный')"
   ]
  },
  {
   "cell_type": "markdown",
   "metadata": {},
   "source": [
    "Согласно тесту Дики-Фуллера, мы убедились, что ряд - стационарный. "
   ]
  },
  {
   "cell_type": "markdown",
   "metadata": {},
   "source": [
    "**Промежуточный вывод:**<br>Если брать общую картину, то:<br>- заказы достигают минимума в ночное время, затем возрастают с утра и в течение дня, достигая пика к вечеру;<br>- присутствует общий тренд равномерного роста количества заказов, что может указывать на то, что к лету/летом количество заказов в аэрапортах увеличивается;<br>- ряд стационарен.<br>Все вышеперчисленное означает, что мы можем приступить к следующему шагу."
   ]
  },
  {
   "cell_type": "markdown",
   "metadata": {},
   "source": [
    "## Обучение"
   ]
  },
  {
   "cell_type": "markdown",
   "metadata": {},
   "source": [
    "### Подготовка"
   ]
  },
  {
   "cell_type": "markdown",
   "metadata": {},
   "source": [
    "Прежде чем начинать обучение, считаю необходимым привести датасет к красивому виду, а именно:<br>Избавиться от лишних столбцов и разбить столбец datetime на более конкретные столбцы (month, day, day_of_week,time)"
   ]
  },
  {
   "cell_type": "code",
   "execution_count": 17,
   "metadata": {},
   "outputs": [],
   "source": [
    "df = df.drop(columns=['rolling_mean', 'rolling_std'], axis = 1)"
   ]
  },
  {
   "cell_type": "code",
   "execution_count": 18,
   "metadata": {},
   "outputs": [],
   "source": [
    "def make_features(df):\n",
    "    df = df.copy()\n",
    "    #df['month'] = df.index.month\n",
    "    df['day'] = df.index.day\n",
    "    df['day_of_week'] = df.index.dayofweek\n",
    "    df['hour'] = df.index.hour\n",
    "    \n",
    "    for i in range(1, 6):\n",
    "        df['lag_{}'.format(i)] = df['num_orders'].shift(i)\n",
    "    \n",
    "    df['rolling_mean'] = df['num_orders'].shift().rolling(1).mean()\n",
    "    df.dropna(inplace=True)\n",
    "    \n",
    "    return df"
   ]
  },
  {
   "cell_type": "code",
   "execution_count": 19,
   "metadata": {},
   "outputs": [],
   "source": [
    "df = make_features(df)"
   ]
  },
  {
   "cell_type": "markdown",
   "metadata": {},
   "source": [
    "Разделим данные. Целевой признак - число заказов."
   ]
  },
  {
   "cell_type": "code",
   "execution_count": 20,
   "metadata": {},
   "outputs": [],
   "source": [
    "RANDOM_STATE=42\n",
    "TEST_SIZE=0.1\n",
    "\n",
    "X = df.drop(['num_orders'], axis=1)\n",
    "y = df['num_orders']"
   ]
  },
  {
   "cell_type": "code",
   "execution_count": 21,
   "metadata": {},
   "outputs": [],
   "source": [
    "X_train, X_test, y_train, y_test = train_test_split(\n",
    "    X, y,\n",
    "    test_size=TEST_SIZE,\n",
    "    random_state=RANDOM_STATE,\n",
    "    shuffle=False\n",
    ")"
   ]
  },
  {
   "cell_type": "markdown",
   "metadata": {},
   "source": [
    "### Поиск лучшей модели"
   ]
  },
  {
   "cell_type": "markdown",
   "metadata": {},
   "source": [
    "Для поиска лучшей модели с лучшими гиперпараметрами, будем использовать Pipeline."
   ]
  },
  {
   "cell_type": "code",
   "execution_count": 22,
   "metadata": {},
   "outputs": [],
   "source": [
    "num_columns = ['day', 'day_of_week', 'hour', \n",
    "               'lag_1', 'lag_2','lag_3', 'lag_4', 'lag_5', 'rolling_mean']"
   ]
  },
  {
   "cell_type": "code",
   "execution_count": 23,
   "metadata": {},
   "outputs": [],
   "source": [
    "data_preprocessor = ColumnTransformer([\n",
    "    ('num', StandardScaler(), num_columns)\n",
    "], remainder='passthrough')"
   ]
  },
  {
   "cell_type": "code",
   "execution_count": 24,
   "metadata": {},
   "outputs": [],
   "source": [
    "pipe_final = Pipeline([\n",
    "    ('preprocessor', data_preprocessor),\n",
    "    ('models', DecisionTreeRegressor(random_state=RANDOM_STATE))\n",
    "])"
   ]
  },
  {
   "cell_type": "code",
   "execution_count": 25,
   "metadata": {},
   "outputs": [
    {
     "data": {
      "text/plain": [
       "Pipeline(steps=[('preprocessor',\n",
       "                 ColumnTransformer(remainder='passthrough',\n",
       "                                   transformers=[('num', StandardScaler(),\n",
       "                                                  ['day', 'day_of_week', 'hour',\n",
       "                                                   'lag_1', 'lag_2', 'lag_3',\n",
       "                                                   'lag_4', 'lag_5',\n",
       "                                                   'rolling_mean'])])),\n",
       "                ('models', DecisionTreeRegressor(random_state=42))])"
      ]
     },
     "execution_count": 25,
     "metadata": {},
     "output_type": "execute_result"
    }
   ],
   "source": [
    "param_grid = [\n",
    "    {\n",
    "        'models': [DecisionTreeRegressor(random_state=RANDOM_STATE)],\n",
    "        'preprocessor__num': [StandardScaler(), MinMaxScaler(), 'passthrough'],\n",
    "        'models__max_depth': range(2, 10),\n",
    "        'models__max_features': range(2, 10)\n",
    "    },\n",
    "    {\n",
    "        'models': [RandomForestRegressor(random_state=RANDOM_STATE)],\n",
    "        'preprocessor__num': [StandardScaler(), MinMaxScaler(), 'passthrough'],\n",
    "        'models__n_estimators': [50, 100, 200, 300],\n",
    "        'models__max_depth': range(5, 15),\n",
    "        'models__max_features': [2, 3, 'auto', None]\n",
    "    },\n",
    "    {\n",
    "        'models': [LinearRegression()],\n",
    "        'preprocessor__num': [StandardScaler(), MinMaxScaler(), 'passthrough'],\n",
    "        'models__normalize': [True, False]\n",
    "    },\n",
    "    {\n",
    "        'models': [LGBMRegressor(random_state=RANDOM_STATE)],\n",
    "        'preprocessor__num': [StandardScaler(), MinMaxScaler(), 'passthrough'],\n",
    "        'models__num_leaves': [20, 30, 40, 50],\n",
    "        'models__max_depth': range(5, 20)\n",
    "    },\n",
    "    {\n",
    "        'models': [CatBoostRegressor(random_state=RANDOM_STATE, verbose=0)],\n",
    "        'preprocessor__num': [StandardScaler(), MinMaxScaler(), 'passthrough'],\n",
    "        'models__depth': [4, 6, 8, 10],\n",
    "        'models__iterations': [100, 200, 300, 400]\n",
    "    }\n",
    "]\n",
    "\n",
    "\n",
    "\n",
    "pipe_final.fit(X_train, y_train)"
   ]
  },
  {
   "cell_type": "code",
   "execution_count": 26,
   "metadata": {},
   "outputs": [],
   "source": [
    "rmse_scorer = make_scorer(mean_squared_error, squared=False, greater_is_better=False)"
   ]
  },
  {
   "cell_type": "code",
   "execution_count": 27,
   "metadata": {},
   "outputs": [],
   "source": [
    "time_series_split = TimeSeriesSplit()\n",
    "\n",
    "random_search = RandomizedSearchCV(\n",
    "    pipe_final, \n",
    "    param_grid, \n",
    "    cv=time_series_split,\n",
    "    scoring=rmse_scorer,\n",
    "    n_jobs=-1,\n",
    "    random_state=RANDOM_STATE\n",
    ")"
   ]
  },
  {
   "cell_type": "code",
   "execution_count": 28,
   "metadata": {},
   "outputs": [
    {
     "name": "stdout",
     "output_type": "stream",
     "text": [
      "Лучшая модель и её параметры:\n",
      "\n",
      " Pipeline(steps=[('preprocessor',\n",
      "                 ColumnTransformer(remainder='passthrough',\n",
      "                                   transformers=[('num', StandardScaler(),\n",
      "                                                  ['day', 'day_of_week', 'hour',\n",
      "                                                   'lag_1', 'lag_2', 'lag_3',\n",
      "                                                   'lag_4', 'lag_5',\n",
      "                                                   'rolling_mean'])])),\n",
      "                ('models',\n",
      "                 <catboost.core.CatBoostRegressor object at 0x7f1ca96a79a0>)])\n"
     ]
    }
   ],
   "source": [
    "random_search.fit(X_train, y_train)\n",
    "\n",
    "print('Лучшая модель и её параметры:\\n\\n', random_search.best_estimator_)"
   ]
  },
  {
   "cell_type": "markdown",
   "metadata": {},
   "source": [
    "Как мы можем видеть, лучшей оказалась модель - CatBoostRegressor."
   ]
  },
  {
   "cell_type": "markdown",
   "metadata": {},
   "source": [
    "### Обучение лучшей модели"
   ]
  },
  {
   "cell_type": "code",
   "execution_count": 29,
   "metadata": {},
   "outputs": [],
   "source": [
    "model = random_search.best_estimator_"
   ]
  },
  {
   "cell_type": "code",
   "execution_count": 30,
   "metadata": {},
   "outputs": [
    {
     "name": "stdout",
     "output_type": "stream",
     "text": [
      "Метрика RMSE лучшей модели на тренировочной выборке: 26.963821831603823\n"
     ]
    }
   ],
   "source": [
    "rmse_value = -random_search.best_score_\n",
    "print('Метрика RMSE лучшей модели на тренировочной выборке:', rmse_value)"
   ]
  },
  {
   "cell_type": "code",
   "execution_count": 31,
   "metadata": {},
   "outputs": [
    {
     "name": "stdout",
     "output_type": "stream",
     "text": [
      "Время обучения: 0.78202 секунд\n",
      "Время предсказания: 0.00538 секунд\n"
     ]
    }
   ],
   "source": [
    "start_time = time.time()\n",
    "model.fit(X_train, y_train)\n",
    "end_time = time.time()\n",
    "train_time = round((end_time - start_time), 5)\n",
    "print(\"Время обучения: %s секунд\" % train_time)\n",
    "\n",
    "start_time = time.time()\n",
    "model.predict(X_train)\n",
    "end_time = time.time()\n",
    "predict_time = round((end_time - start_time), 5)\n",
    "print(\"Время предсказания: %s секунд\" % predict_time)"
   ]
  },
  {
   "cell_type": "markdown",
   "metadata": {},
   "source": [
    "**Промежуточный вывод:**<br>Мы нашли лучшую модель, а именно CatBoostRegressor.<br>Затем, использовав ее, обучили данные. Они обучились достаточно хорошо и быстро. Метрика RMSE показала неплохое значение на тренировачной выборке, поэтому пришло время проверить модель на тестовых данных."
   ]
  },
  {
   "cell_type": "markdown",
   "metadata": {},
   "source": [
    "## Тестирование"
   ]
  },
  {
   "cell_type": "code",
   "execution_count": 32,
   "metadata": {},
   "outputs": [
    {
     "name": "stdout",
     "output_type": "stream",
     "text": [
      "Метрика RMSE лучшей модели на тестовой выборке: 47.46\n"
     ]
    }
   ],
   "source": [
    "y_pred = model.predict(X_test)\n",
    "rmse = np.sqrt(mean_squared_error(y_test, y_pred))\n",
    "print('Метрика RMSE лучшей модели на тестовой выборке:', round(rmse, 2))"
   ]
  },
  {
   "cell_type": "markdown",
   "metadata": {},
   "source": [
    "**Промежуточный вывод:**<br>Метрика RMSE получилась менее 48, а значит наша модель работает корректно."
   ]
  },
  {
   "cell_type": "markdown",
   "metadata": {},
   "source": [
    "## Общий вывод"
   ]
  },
  {
   "cell_type": "markdown",
   "metadata": {},
   "source": [
    "После тщательного анализа данных о заказах такси в аэропортах и обучения различных моделей для прогнозирования количества заказов на следующий час, сделаем некоторые выводы:<br>Мы изучили исторические данные о заказах такси и выявили сильную суточную и недельную сезонность, а также общий тренд к росту количества заказов к летнему сезону. Данные были ресемплированы по часам и оценены как стационарные.<br>Мы протестировали несколько моделей, включая решающие деревья, случайный лес, линейную регрессию, градиентный бустинг и библиотеки CatBoost и LightGBM. Лучшей моделью оказался CatBoostRegressor.<br>После обучения модели на тренировочной выборке мы проверили ее на тестовой выборке. Метрика RMSE на тестовой выборке составила менее 48, что соответствует нашим требованиям. Это означает, что наша модель успешно способна прогнозировать количество заказов такси на следующий час.<br>На основании проведенного исследования можно с уверенностью сказать, что разработанная модель может быть эффективным инструментом для прогнозирования спроса на такси в аэропортах. Это позволит компании оптимизировать распределение ресурсов и повысить качество обслуживания клиентов в периоды пиковой нагрузки."
   ]
  }
 ],
 "metadata": {
  "ExecuteTimeLog": [
   {
    "duration": 399,
    "start_time": "2024-05-15T20:11:56.086Z"
   },
   {
    "duration": 159,
    "start_time": "2024-05-15T20:12:24.097Z"
   },
   {
    "duration": 16,
    "start_time": "2024-05-15T20:12:27.881Z"
   },
   {
    "duration": 7,
    "start_time": "2024-05-15T20:12:40.904Z"
   },
   {
    "duration": 14,
    "start_time": "2024-05-15T20:12:53.005Z"
   },
   {
    "duration": 15,
    "start_time": "2024-05-15T20:28:42.776Z"
   },
   {
    "duration": 7,
    "start_time": "2024-05-15T20:28:48.174Z"
   },
   {
    "duration": 15,
    "start_time": "2024-05-15T20:29:02.210Z"
   },
   {
    "duration": 11,
    "start_time": "2024-05-15T20:29:06.580Z"
   },
   {
    "duration": 87,
    "start_time": "2024-05-15T20:32:09.987Z"
   },
   {
    "duration": 9,
    "start_time": "2024-05-15T20:32:59.998Z"
   },
   {
    "duration": 16,
    "start_time": "2024-05-15T20:35:42.354Z"
   },
   {
    "duration": 10,
    "start_time": "2024-05-15T20:35:49.081Z"
   },
   {
    "duration": 10,
    "start_time": "2024-05-15T20:36:57.820Z"
   },
   {
    "duration": 49,
    "start_time": "2024-05-15T20:37:06.294Z"
   },
   {
    "duration": 14,
    "start_time": "2024-05-15T20:37:07.078Z"
   },
   {
    "duration": 7,
    "start_time": "2024-05-15T20:37:31.262Z"
   },
   {
    "duration": 10,
    "start_time": "2024-05-15T20:37:34.834Z"
   },
   {
    "duration": 943,
    "start_time": "2024-05-15T20:38:48.073Z"
   },
   {
    "duration": 1000,
    "start_time": "2024-05-15T20:39:29.105Z"
   },
   {
    "duration": 1003,
    "start_time": "2024-05-15T20:39:54.563Z"
   },
   {
    "duration": 1039,
    "start_time": "2024-05-15T20:41:08.227Z"
   },
   {
    "duration": 949,
    "start_time": "2024-05-15T20:41:43.042Z"
   },
   {
    "duration": 931,
    "start_time": "2024-05-15T20:41:51.685Z"
   },
   {
    "duration": 966,
    "start_time": "2024-05-15T20:42:16.127Z"
   },
   {
    "duration": 1059,
    "start_time": "2024-05-15T20:42:29.898Z"
   },
   {
    "duration": 8,
    "start_time": "2024-05-15T20:43:07.024Z"
   },
   {
    "duration": 413,
    "start_time": "2024-05-15T20:43:15.907Z"
   },
   {
    "duration": 42,
    "start_time": "2024-05-15T20:43:16.321Z"
   },
   {
    "duration": 12,
    "start_time": "2024-05-15T20:43:16.365Z"
   },
   {
    "duration": 21,
    "start_time": "2024-05-15T20:43:16.378Z"
   },
   {
    "duration": 77,
    "start_time": "2024-05-15T20:43:16.401Z"
   },
   {
    "duration": 0,
    "start_time": "2024-05-15T20:43:16.488Z"
   },
   {
    "duration": 56,
    "start_time": "2024-05-15T20:43:51.197Z"
   },
   {
    "duration": 20,
    "start_time": "2024-05-15T20:44:06.410Z"
   },
   {
    "duration": 972,
    "start_time": "2024-05-15T20:44:12.663Z"
   },
   {
    "duration": 907,
    "start_time": "2024-05-15T20:44:19.691Z"
   },
   {
    "duration": 394,
    "start_time": "2024-05-15T20:44:29.133Z"
   },
   {
    "duration": 47,
    "start_time": "2024-05-15T20:44:29.530Z"
   },
   {
    "duration": 20,
    "start_time": "2024-05-15T20:44:29.580Z"
   },
   {
    "duration": 14,
    "start_time": "2024-05-15T20:44:29.601Z"
   },
   {
    "duration": 27,
    "start_time": "2024-05-15T20:44:29.617Z"
   },
   {
    "duration": 25,
    "start_time": "2024-05-15T20:44:29.646Z"
   },
   {
    "duration": 9,
    "start_time": "2024-05-15T20:44:40.194Z"
   },
   {
    "duration": 8,
    "start_time": "2024-05-15T20:44:52.584Z"
   },
   {
    "duration": 438,
    "start_time": "2024-05-15T20:45:45.693Z"
   },
   {
    "duration": 8,
    "start_time": "2024-05-15T20:45:58.193Z"
   },
   {
    "duration": 93,
    "start_time": "2024-05-15T20:46:02.020Z"
   },
   {
    "duration": 7,
    "start_time": "2024-05-15T20:47:13.596Z"
   },
   {
    "duration": 7,
    "start_time": "2024-05-15T20:47:20.502Z"
   },
   {
    "duration": 124,
    "start_time": "2024-05-15T20:47:35.319Z"
   },
   {
    "duration": 153,
    "start_time": "2024-05-15T20:47:39.999Z"
   },
   {
    "duration": 108,
    "start_time": "2024-05-15T20:47:45.994Z"
   },
   {
    "duration": 154,
    "start_time": "2024-05-15T20:47:54.116Z"
   },
   {
    "duration": 203,
    "start_time": "2024-05-15T20:47:57.203Z"
   },
   {
    "duration": 136,
    "start_time": "2024-05-15T20:48:03.926Z"
   },
   {
    "duration": 151,
    "start_time": "2024-05-15T20:49:08.000Z"
   },
   {
    "duration": 145,
    "start_time": "2024-05-15T20:49:45.394Z"
   },
   {
    "duration": 141,
    "start_time": "2024-05-15T20:50:00.436Z"
   },
   {
    "duration": 160,
    "start_time": "2024-05-15T20:50:57.435Z"
   },
   {
    "duration": 142,
    "start_time": "2024-05-15T20:51:06.590Z"
   },
   {
    "duration": 4,
    "start_time": "2024-05-15T20:51:15.773Z"
   },
   {
    "duration": 373,
    "start_time": "2024-05-15T20:52:42.559Z"
   },
   {
    "duration": 211,
    "start_time": "2024-05-15T20:52:52.354Z"
   },
   {
    "duration": 188,
    "start_time": "2024-05-15T20:52:57.562Z"
   },
   {
    "duration": 190,
    "start_time": "2024-05-15T20:53:02.701Z"
   },
   {
    "duration": 193,
    "start_time": "2024-05-15T20:53:34.673Z"
   },
   {
    "duration": 193,
    "start_time": "2024-05-15T20:53:58.003Z"
   },
   {
    "duration": 240,
    "start_time": "2024-05-15T20:54:06.713Z"
   },
   {
    "duration": 207,
    "start_time": "2024-05-15T20:54:19.913Z"
   },
   {
    "duration": 215,
    "start_time": "2024-05-15T20:54:30.699Z"
   },
   {
    "duration": 221,
    "start_time": "2024-05-15T20:54:35.543Z"
   },
   {
    "duration": 766,
    "start_time": "2024-05-16T08:58:09.998Z"
   },
   {
    "duration": 87,
    "start_time": "2024-05-16T08:58:10.765Z"
   },
   {
    "duration": 10,
    "start_time": "2024-05-16T08:58:10.853Z"
   },
   {
    "duration": 14,
    "start_time": "2024-05-16T08:58:10.865Z"
   },
   {
    "duration": 14,
    "start_time": "2024-05-16T08:58:10.880Z"
   },
   {
    "duration": 10,
    "start_time": "2024-05-16T08:58:10.895Z"
   },
   {
    "duration": 27,
    "start_time": "2024-05-16T08:58:10.906Z"
   },
   {
    "duration": 320,
    "start_time": "2024-05-16T08:58:10.934Z"
   },
   {
    "duration": 5,
    "start_time": "2024-05-16T08:58:56.405Z"
   },
   {
    "duration": 8,
    "start_time": "2024-05-16T08:59:04.331Z"
   },
   {
    "duration": 896,
    "start_time": "2024-05-16T08:59:19.470Z"
   },
   {
    "duration": 6,
    "start_time": "2024-05-16T08:59:29.176Z"
   },
   {
    "duration": 199,
    "start_time": "2024-05-16T09:01:55.368Z"
   },
   {
    "duration": 3,
    "start_time": "2024-05-16T09:04:53.695Z"
   },
   {
    "duration": 213,
    "start_time": "2024-05-16T09:04:54.422Z"
   },
   {
    "duration": 57,
    "start_time": "2024-05-16T09:05:08.245Z"
   },
   {
    "duration": 5,
    "start_time": "2024-05-16T09:05:40.258Z"
   },
   {
    "duration": 236,
    "start_time": "2024-05-16T09:05:53.114Z"
   },
   {
    "duration": 62,
    "start_time": "2024-05-16T09:07:32.241Z"
   },
   {
    "duration": 5,
    "start_time": "2024-05-16T09:08:32.802Z"
   },
   {
    "duration": 3,
    "start_time": "2024-05-16T09:08:56.879Z"
   },
   {
    "duration": 201,
    "start_time": "2024-05-16T09:09:08.959Z"
   },
   {
    "duration": 203,
    "start_time": "2024-05-16T09:09:21.980Z"
   },
   {
    "duration": 606,
    "start_time": "2024-05-16T09:09:26.810Z"
   },
   {
    "duration": 43,
    "start_time": "2024-05-16T09:09:27.417Z"
   },
   {
    "duration": 10,
    "start_time": "2024-05-16T09:09:27.461Z"
   },
   {
    "duration": 11,
    "start_time": "2024-05-16T09:09:27.472Z"
   },
   {
    "duration": 14,
    "start_time": "2024-05-16T09:09:27.485Z"
   },
   {
    "duration": 12,
    "start_time": "2024-05-16T09:09:27.500Z"
   },
   {
    "duration": 6,
    "start_time": "2024-05-16T09:09:27.514Z"
   },
   {
    "duration": 313,
    "start_time": "2024-05-16T09:09:27.521Z"
   },
   {
    "duration": 5,
    "start_time": "2024-05-16T09:09:27.835Z"
   },
   {
    "duration": 201,
    "start_time": "2024-05-16T09:09:27.842Z"
   },
   {
    "duration": 209,
    "start_time": "2024-05-16T09:09:28.044Z"
   },
   {
    "duration": 71,
    "start_time": "2024-05-16T09:16:07.536Z"
   },
   {
    "duration": 473,
    "start_time": "2024-05-16T09:16:16.700Z"
   },
   {
    "duration": 36,
    "start_time": "2024-05-16T09:16:22.352Z"
   },
   {
    "duration": 8,
    "start_time": "2024-05-16T09:16:28.902Z"
   },
   {
    "duration": 9,
    "start_time": "2024-05-16T09:17:21.909Z"
   },
   {
    "duration": 8,
    "start_time": "2024-05-16T09:19:40.747Z"
   },
   {
    "duration": 8,
    "start_time": "2024-05-16T09:19:59.395Z"
   },
   {
    "duration": 7,
    "start_time": "2024-05-16T09:20:14.633Z"
   },
   {
    "duration": 8,
    "start_time": "2024-05-16T09:20:14.805Z"
   },
   {
    "duration": 9,
    "start_time": "2024-05-16T09:20:21.850Z"
   },
   {
    "duration": 11,
    "start_time": "2024-05-16T09:20:47.092Z"
   },
   {
    "duration": 1037,
    "start_time": "2024-05-16T09:21:03.727Z"
   },
   {
    "duration": 41,
    "start_time": "2024-05-16T09:21:04.766Z"
   },
   {
    "duration": 9,
    "start_time": "2024-05-16T09:21:04.809Z"
   },
   {
    "duration": 11,
    "start_time": "2024-05-16T09:21:04.820Z"
   },
   {
    "duration": 13,
    "start_time": "2024-05-16T09:21:04.833Z"
   },
   {
    "duration": 8,
    "start_time": "2024-05-16T09:21:04.848Z"
   },
   {
    "duration": 7,
    "start_time": "2024-05-16T09:21:04.857Z"
   },
   {
    "duration": 333,
    "start_time": "2024-05-16T09:21:04.865Z"
   },
   {
    "duration": 6,
    "start_time": "2024-05-16T09:21:05.199Z"
   },
   {
    "duration": 198,
    "start_time": "2024-05-16T09:21:05.206Z"
   },
   {
    "duration": 6,
    "start_time": "2024-05-16T09:21:05.411Z"
   },
   {
    "duration": 102,
    "start_time": "2024-05-16T09:22:01.428Z"
   },
   {
    "duration": 322,
    "start_time": "2024-05-16T09:22:38.930Z"
   },
   {
    "duration": 264,
    "start_time": "2024-05-16T09:22:50.755Z"
   },
   {
    "duration": 289,
    "start_time": "2024-05-16T09:23:02.529Z"
   },
   {
    "duration": 1053,
    "start_time": "2024-05-16T09:23:14.522Z"
   },
   {
    "duration": 42,
    "start_time": "2024-05-16T09:23:15.577Z"
   },
   {
    "duration": 9,
    "start_time": "2024-05-16T09:23:15.620Z"
   },
   {
    "duration": 16,
    "start_time": "2024-05-16T09:23:15.631Z"
   },
   {
    "duration": 22,
    "start_time": "2024-05-16T09:23:15.649Z"
   },
   {
    "duration": 10,
    "start_time": "2024-05-16T09:23:15.672Z"
   },
   {
    "duration": 9,
    "start_time": "2024-05-16T09:23:15.683Z"
   },
   {
    "duration": 321,
    "start_time": "2024-05-16T09:23:15.693Z"
   },
   {
    "duration": 5,
    "start_time": "2024-05-16T09:23:16.016Z"
   },
   {
    "duration": 201,
    "start_time": "2024-05-16T09:23:16.022Z"
   },
   {
    "duration": 5,
    "start_time": "2024-05-16T09:23:16.225Z"
   },
   {
    "duration": 247,
    "start_time": "2024-05-16T09:23:16.231Z"
   },
   {
    "duration": 275,
    "start_time": "2024-05-16T09:23:16.479Z"
   },
   {
    "duration": 249,
    "start_time": "2024-05-16T09:23:16.757Z"
   },
   {
    "duration": 54,
    "start_time": "2024-05-16T09:24:36.201Z"
   },
   {
    "duration": 7,
    "start_time": "2024-05-16T09:24:51.265Z"
   },
   {
    "duration": 273,
    "start_time": "2024-05-16T09:25:12.304Z"
   },
   {
    "duration": 261,
    "start_time": "2024-05-16T09:25:12.648Z"
   },
   {
    "duration": 244,
    "start_time": "2024-05-16T09:25:12.939Z"
   },
   {
    "duration": 159,
    "start_time": "2024-05-16T09:25:28.040Z"
   },
   {
    "duration": 159,
    "start_time": "2024-05-16T09:25:31.866Z"
   },
   {
    "duration": 160,
    "start_time": "2024-05-16T09:25:35.892Z"
   },
   {
    "duration": 1428,
    "start_time": "2024-05-16T09:34:14.965Z"
   },
   {
    "duration": 43,
    "start_time": "2024-05-16T09:34:16.395Z"
   },
   {
    "duration": 9,
    "start_time": "2024-05-16T09:34:16.439Z"
   },
   {
    "duration": 11,
    "start_time": "2024-05-16T09:34:16.449Z"
   },
   {
    "duration": 43,
    "start_time": "2024-05-16T09:34:16.463Z"
   },
   {
    "duration": 21,
    "start_time": "2024-05-16T09:34:16.508Z"
   },
   {
    "duration": 16,
    "start_time": "2024-05-16T09:34:16.531Z"
   },
   {
    "duration": 266,
    "start_time": "2024-05-16T09:34:16.548Z"
   },
   {
    "duration": 7,
    "start_time": "2024-05-16T09:34:16.816Z"
   },
   {
    "duration": 217,
    "start_time": "2024-05-16T09:34:16.825Z"
   },
   {
    "duration": 7,
    "start_time": "2024-05-16T09:34:17.044Z"
   },
   {
    "duration": 224,
    "start_time": "2024-05-16T09:34:17.053Z"
   },
   {
    "duration": 267,
    "start_time": "2024-05-16T09:34:17.279Z"
   },
   {
    "duration": 234,
    "start_time": "2024-05-16T09:34:17.548Z"
   },
   {
    "duration": 6,
    "start_time": "2024-05-16T09:34:17.784Z"
   },
   {
    "duration": 210,
    "start_time": "2024-05-16T09:34:17.791Z"
   },
   {
    "duration": 154,
    "start_time": "2024-05-16T09:34:18.002Z"
   },
   {
    "duration": 157,
    "start_time": "2024-05-16T09:34:18.157Z"
   },
   {
    "duration": 65,
    "start_time": "2024-05-16T09:34:18.316Z"
   },
   {
    "duration": 3,
    "start_time": "2024-05-16T09:46:18.446Z"
   },
   {
    "duration": 156,
    "start_time": "2024-05-16T09:46:19.072Z"
   },
   {
    "duration": 4,
    "start_time": "2024-05-16T09:46:19.229Z"
   },
   {
    "duration": 158,
    "start_time": "2024-05-16T09:46:23.029Z"
   },
   {
    "duration": 1086,
    "start_time": "2024-05-16T09:46:29.380Z"
   },
   {
    "duration": 42,
    "start_time": "2024-05-16T09:46:30.468Z"
   },
   {
    "duration": 31,
    "start_time": "2024-05-16T09:46:30.512Z"
   },
   {
    "duration": 38,
    "start_time": "2024-05-16T09:46:30.544Z"
   },
   {
    "duration": 57,
    "start_time": "2024-05-16T09:46:30.584Z"
   },
   {
    "duration": 34,
    "start_time": "2024-05-16T09:46:30.642Z"
   },
   {
    "duration": 61,
    "start_time": "2024-05-16T09:46:30.677Z"
   },
   {
    "duration": 324,
    "start_time": "2024-05-16T09:46:30.740Z"
   },
   {
    "duration": 5,
    "start_time": "2024-05-16T09:46:31.066Z"
   },
   {
    "duration": 179,
    "start_time": "2024-05-16T09:46:31.074Z"
   },
   {
    "duration": 6,
    "start_time": "2024-05-16T09:46:31.254Z"
   },
   {
    "duration": 224,
    "start_time": "2024-05-16T09:46:31.261Z"
   },
   {
    "duration": 222,
    "start_time": "2024-05-16T09:46:31.487Z"
   },
   {
    "duration": 211,
    "start_time": "2024-05-16T09:46:31.711Z"
   },
   {
    "duration": 6,
    "start_time": "2024-05-16T09:46:31.924Z"
   },
   {
    "duration": 193,
    "start_time": "2024-05-16T09:46:31.932Z"
   },
   {
    "duration": 133,
    "start_time": "2024-05-16T09:46:32.126Z"
   },
   {
    "duration": 133,
    "start_time": "2024-05-16T09:46:32.260Z"
   },
   {
    "duration": 4,
    "start_time": "2024-05-16T09:58:30.120Z"
   },
   {
    "duration": 193,
    "start_time": "2024-05-16T09:58:33.976Z"
   },
   {
    "duration": 3,
    "start_time": "2024-05-16T10:21:37.347Z"
   },
   {
    "duration": 6,
    "start_time": "2024-05-16T10:21:59.101Z"
   },
   {
    "duration": 151,
    "start_time": "2024-05-16T10:22:26.265Z"
   },
   {
    "duration": 98,
    "start_time": "2024-05-16T10:23:02.891Z"
   },
   {
    "duration": 8,
    "start_time": "2024-05-16T10:23:03.008Z"
   },
   {
    "duration": 7,
    "start_time": "2024-05-16T10:23:03.148Z"
   },
   {
    "duration": 3,
    "start_time": "2024-05-16T10:23:09.083Z"
   },
   {
    "duration": 4,
    "start_time": "2024-05-16T10:23:09.238Z"
   },
   {
    "duration": 165,
    "start_time": "2024-05-16T10:23:09.407Z"
   },
   {
    "duration": 280,
    "start_time": "2024-05-16T10:30:59.206Z"
   },
   {
    "duration": 3,
    "start_time": "2024-05-16T10:31:17.194Z"
   },
   {
    "duration": 51,
    "start_time": "2024-05-16T10:33:24.869Z"
   },
   {
    "duration": 330,
    "start_time": "2024-05-16T10:33:30.567Z"
   },
   {
    "duration": 1011,
    "start_time": "2024-05-16T10:33:38.346Z"
   },
   {
    "duration": 41,
    "start_time": "2024-05-16T10:33:39.359Z"
   },
   {
    "duration": 9,
    "start_time": "2024-05-16T10:33:39.401Z"
   },
   {
    "duration": 22,
    "start_time": "2024-05-16T10:33:39.411Z"
   },
   {
    "duration": 13,
    "start_time": "2024-05-16T10:33:39.435Z"
   },
   {
    "duration": 6,
    "start_time": "2024-05-16T10:33:39.449Z"
   },
   {
    "duration": 277,
    "start_time": "2024-05-16T10:33:39.456Z"
   },
   {
    "duration": 45,
    "start_time": "2024-05-16T10:39:07.290Z"
   },
   {
    "duration": 104,
    "start_time": "2024-05-16T10:39:52.813Z"
   },
   {
    "duration": 1686,
    "start_time": "2024-05-16T10:39:58.827Z"
   },
   {
    "duration": 1497,
    "start_time": "2024-05-16T10:41:26.016Z"
   },
   {
    "duration": 1768,
    "start_time": "2024-05-16T10:41:37.245Z"
   },
   {
    "duration": 1604,
    "start_time": "2024-05-16T10:41:42.915Z"
   },
   {
    "duration": 4,
    "start_time": "2024-05-16T10:42:51.851Z"
   },
   {
    "duration": 275,
    "start_time": "2024-05-16T10:43:25.886Z"
   },
   {
    "duration": 858,
    "start_time": "2024-05-16T10:57:29.354Z"
   },
   {
    "duration": 370,
    "start_time": "2024-05-16T10:57:36.180Z"
   },
   {
    "duration": 291,
    "start_time": "2024-05-16T10:57:45.018Z"
   },
   {
    "duration": 1393,
    "start_time": "2024-05-16T10:58:52.320Z"
   },
   {
    "duration": 10,
    "start_time": "2024-05-16T11:21:47.271Z"
   },
   {
    "duration": 11,
    "start_time": "2024-05-16T11:21:58.418Z"
   },
   {
    "duration": 11,
    "start_time": "2024-05-16T11:22:12.898Z"
   },
   {
    "duration": 12,
    "start_time": "2024-05-16T11:23:07.450Z"
   },
   {
    "duration": 10,
    "start_time": "2024-05-16T11:32:29.382Z"
   },
   {
    "duration": 9,
    "start_time": "2024-05-16T11:35:05.845Z"
   },
   {
    "duration": 10,
    "start_time": "2024-05-16T11:35:08.998Z"
   },
   {
    "duration": 3,
    "start_time": "2024-05-16T11:39:31.328Z"
   },
   {
    "duration": 3,
    "start_time": "2024-05-16T11:39:49.601Z"
   },
   {
    "duration": 11,
    "start_time": "2024-05-16T11:39:50.178Z"
   },
   {
    "duration": 1074,
    "start_time": "2024-05-16T11:41:21.113Z"
   },
   {
    "duration": 41,
    "start_time": "2024-05-16T11:41:22.189Z"
   },
   {
    "duration": 10,
    "start_time": "2024-05-16T11:41:22.231Z"
   },
   {
    "duration": 14,
    "start_time": "2024-05-16T11:41:22.242Z"
   },
   {
    "duration": 14,
    "start_time": "2024-05-16T11:41:22.258Z"
   },
   {
    "duration": 5,
    "start_time": "2024-05-16T11:41:22.273Z"
   },
   {
    "duration": 319,
    "start_time": "2024-05-16T11:41:22.279Z"
   },
   {
    "duration": 1713,
    "start_time": "2024-05-16T11:41:22.599Z"
   },
   {
    "duration": 94,
    "start_time": "2024-05-16T11:41:24.318Z"
   },
   {
    "duration": 112,
    "start_time": "2024-05-16T11:41:24.414Z"
   },
   {
    "duration": 11,
    "start_time": "2024-05-16T11:41:45.487Z"
   },
   {
    "duration": 12,
    "start_time": "2024-05-16T11:42:42.400Z"
   },
   {
    "duration": 3,
    "start_time": "2024-05-16T11:43:53.819Z"
   },
   {
    "duration": 967,
    "start_time": "2024-05-16T11:43:54.626Z"
   },
   {
    "duration": 3,
    "start_time": "2024-05-16T11:43:59.321Z"
   },
   {
    "duration": 264,
    "start_time": "2024-05-16T11:44:00.800Z"
   },
   {
    "duration": 15,
    "start_time": "2024-05-16T11:44:11.374Z"
   },
   {
    "duration": 1051,
    "start_time": "2024-05-16T11:44:50.939Z"
   },
   {
    "duration": 45,
    "start_time": "2024-05-16T11:44:51.992Z"
   },
   {
    "duration": 11,
    "start_time": "2024-05-16T11:44:52.038Z"
   },
   {
    "duration": 19,
    "start_time": "2024-05-16T11:44:52.052Z"
   },
   {
    "duration": 16,
    "start_time": "2024-05-16T11:44:52.072Z"
   },
   {
    "duration": 9,
    "start_time": "2024-05-16T11:44:52.089Z"
   },
   {
    "duration": 318,
    "start_time": "2024-05-16T11:44:52.100Z"
   },
   {
    "duration": 2801,
    "start_time": "2024-05-16T11:44:52.420Z"
   },
   {
    "duration": 91,
    "start_time": "2024-05-16T11:44:55.222Z"
   },
   {
    "duration": 106,
    "start_time": "2024-05-16T11:44:55.317Z"
   },
   {
    "duration": 272,
    "start_time": "2024-05-16T11:44:55.425Z"
   },
   {
    "duration": 113,
    "start_time": "2024-05-16T11:45:22.725Z"
   },
   {
    "duration": 11,
    "start_time": "2024-05-16T11:45:40.144Z"
   },
   {
    "duration": 1132,
    "start_time": "2024-05-16T11:47:00.979Z"
   },
   {
    "duration": 43,
    "start_time": "2024-05-16T11:47:02.113Z"
   },
   {
    "duration": 9,
    "start_time": "2024-05-16T11:47:02.157Z"
   },
   {
    "duration": 32,
    "start_time": "2024-05-16T11:47:02.167Z"
   },
   {
    "duration": 16,
    "start_time": "2024-05-16T11:47:02.201Z"
   },
   {
    "duration": 6,
    "start_time": "2024-05-16T11:47:02.223Z"
   },
   {
    "duration": 16,
    "start_time": "2024-05-16T11:47:02.231Z"
   },
   {
    "duration": 114,
    "start_time": "2024-05-16T11:47:02.248Z"
   },
   {
    "duration": 0,
    "start_time": "2024-05-16T11:47:02.363Z"
   },
   {
    "duration": 0,
    "start_time": "2024-05-16T11:47:02.364Z"
   },
   {
    "duration": 0,
    "start_time": "2024-05-16T11:47:02.365Z"
   },
   {
    "duration": 3,
    "start_time": "2024-05-16T11:47:23.256Z"
   },
   {
    "duration": 290,
    "start_time": "2024-05-16T11:47:23.753Z"
   },
   {
    "duration": 5,
    "start_time": "2024-05-16T11:48:00.777Z"
   },
   {
    "duration": 208,
    "start_time": "2024-05-16T11:48:01.022Z"
   },
   {
    "duration": 3,
    "start_time": "2024-05-16T11:49:16.065Z"
   },
   {
    "duration": 15,
    "start_time": "2024-05-16T11:49:17.411Z"
   },
   {
    "duration": 4,
    "start_time": "2024-05-16T11:49:22.359Z"
   },
   {
    "duration": 217,
    "start_time": "2024-05-16T11:49:23.805Z"
   },
   {
    "duration": 2,
    "start_time": "2024-05-16T11:49:38.333Z"
   },
   {
    "duration": 323,
    "start_time": "2024-05-16T11:49:38.473Z"
   },
   {
    "duration": 5,
    "start_time": "2024-05-16T11:50:41.032Z"
   },
   {
    "duration": 271,
    "start_time": "2024-05-16T11:50:41.660Z"
   },
   {
    "duration": 4,
    "start_time": "2024-05-16T11:51:02.076Z"
   },
   {
    "duration": 821,
    "start_time": "2024-05-16T11:51:02.213Z"
   },
   {
    "duration": 267,
    "start_time": "2024-05-16T11:51:14.940Z"
   },
   {
    "duration": 1446,
    "start_time": "2024-05-16T11:51:18.175Z"
   },
   {
    "duration": 9,
    "start_time": "2024-05-16T11:51:21.476Z"
   },
   {
    "duration": 14,
    "start_time": "2024-05-16T11:51:30.323Z"
   },
   {
    "duration": 5,
    "start_time": "2024-05-16T11:53:08.889Z"
   },
   {
    "duration": 546,
    "start_time": "2024-05-16T11:53:19.114Z"
   },
   {
    "duration": 4,
    "start_time": "2024-05-16T11:54:16.903Z"
   },
   {
    "duration": 758,
    "start_time": "2024-05-16T11:54:18.360Z"
   },
   {
    "duration": 4,
    "start_time": "2024-05-16T11:54:44.501Z"
   },
   {
    "duration": 574,
    "start_time": "2024-05-16T11:54:47.619Z"
   },
   {
    "duration": 66,
    "start_time": "2024-05-16T11:54:59.135Z"
   },
   {
    "duration": 638,
    "start_time": "2024-05-16T11:55:00.030Z"
   },
   {
    "duration": 50,
    "start_time": "2024-05-16T11:55:09.769Z"
   },
   {
    "duration": 4,
    "start_time": "2024-05-16T11:55:21.696Z"
   },
   {
    "duration": 743,
    "start_time": "2024-05-16T11:55:22.777Z"
   },
   {
    "duration": 4,
    "start_time": "2024-05-16T11:57:33.267Z"
   },
   {
    "duration": 526,
    "start_time": "2024-05-16T11:57:33.421Z"
   },
   {
    "duration": 4,
    "start_time": "2024-05-16T11:58:14.923Z"
   },
   {
    "duration": 519,
    "start_time": "2024-05-16T11:58:26.740Z"
   },
   {
    "duration": 598,
    "start_time": "2024-05-16T12:00:26.310Z"
   },
   {
    "duration": 530,
    "start_time": "2024-05-16T12:00:26.912Z"
   },
   {
    "duration": 545,
    "start_time": "2024-05-16T12:00:49.692Z"
   },
   {
    "duration": 3,
    "start_time": "2024-05-16T12:03:15.760Z"
   },
   {
    "duration": 748,
    "start_time": "2024-05-16T12:03:15.927Z"
   },
   {
    "duration": 486,
    "start_time": "2024-05-16T12:03:16.676Z"
   },
   {
    "duration": 587,
    "start_time": "2024-05-16T12:03:17.163Z"
   },
   {
    "duration": 518,
    "start_time": "2024-05-16T12:03:17.751Z"
   },
   {
    "duration": 501,
    "start_time": "2024-05-16T12:03:18.270Z"
   },
   {
    "duration": 553,
    "start_time": "2024-05-16T12:03:18.774Z"
   },
   {
    "duration": 4,
    "start_time": "2024-05-16T12:03:30.770Z"
   },
   {
    "duration": 648,
    "start_time": "2024-05-16T12:03:30.940Z"
   },
   {
    "duration": 3,
    "start_time": "2024-05-16T12:03:48.030Z"
   },
   {
    "duration": 592,
    "start_time": "2024-05-16T12:03:48.480Z"
   },
   {
    "duration": 3,
    "start_time": "2024-05-16T12:03:55.363Z"
   },
   {
    "duration": 506,
    "start_time": "2024-05-16T12:03:55.733Z"
   },
   {
    "duration": 379,
    "start_time": "2024-05-16T12:03:57.546Z"
   },
   {
    "duration": 405,
    "start_time": "2024-05-16T12:03:57.926Z"
   },
   {
    "duration": 390,
    "start_time": "2024-05-16T12:03:58.333Z"
   },
   {
    "duration": 385,
    "start_time": "2024-05-16T12:03:58.725Z"
   },
   {
    "duration": 429,
    "start_time": "2024-05-16T12:03:59.113Z"
   },
   {
    "duration": 13,
    "start_time": "2024-05-16T12:09:07.186Z"
   },
   {
    "duration": 1020,
    "start_time": "2024-05-16T12:09:11.256Z"
   },
   {
    "duration": 42,
    "start_time": "2024-05-16T12:09:12.278Z"
   },
   {
    "duration": 8,
    "start_time": "2024-05-16T12:09:12.322Z"
   },
   {
    "duration": 9,
    "start_time": "2024-05-16T12:09:12.332Z"
   },
   {
    "duration": 14,
    "start_time": "2024-05-16T12:09:12.343Z"
   },
   {
    "duration": 5,
    "start_time": "2024-05-16T12:09:12.358Z"
   },
   {
    "duration": 4,
    "start_time": "2024-05-16T12:09:12.364Z"
   },
   {
    "duration": 597,
    "start_time": "2024-05-16T12:09:12.369Z"
   },
   {
    "duration": 359,
    "start_time": "2024-05-16T12:09:12.967Z"
   },
   {
    "duration": 406,
    "start_time": "2024-05-16T12:09:13.328Z"
   },
   {
    "duration": 387,
    "start_time": "2024-05-16T12:09:13.736Z"
   },
   {
    "duration": 389,
    "start_time": "2024-05-16T12:09:14.125Z"
   },
   {
    "duration": 373,
    "start_time": "2024-05-16T12:09:14.516Z"
   },
   {
    "duration": 344,
    "start_time": "2024-05-16T12:09:14.892Z"
   },
   {
    "duration": 1582,
    "start_time": "2024-05-16T12:09:15.238Z"
   },
   {
    "duration": 92,
    "start_time": "2024-05-16T12:09:16.822Z"
   },
   {
    "duration": 112,
    "start_time": "2024-05-16T13:09:53.151Z"
   },
   {
    "duration": 1051,
    "start_time": "2024-05-16T13:10:30.046Z"
   },
   {
    "duration": 45,
    "start_time": "2024-05-16T13:10:31.099Z"
   },
   {
    "duration": 9,
    "start_time": "2024-05-16T13:10:31.145Z"
   },
   {
    "duration": 29,
    "start_time": "2024-05-16T13:10:31.155Z"
   },
   {
    "duration": 33,
    "start_time": "2024-05-16T13:10:31.186Z"
   },
   {
    "duration": 43,
    "start_time": "2024-05-16T13:10:31.220Z"
   },
   {
    "duration": 17,
    "start_time": "2024-05-16T13:10:31.264Z"
   },
   {
    "duration": 595,
    "start_time": "2024-05-16T13:10:31.283Z"
   },
   {
    "duration": 348,
    "start_time": "2024-05-16T13:10:31.879Z"
   },
   {
    "duration": 404,
    "start_time": "2024-05-16T13:10:32.229Z"
   },
   {
    "duration": 391,
    "start_time": "2024-05-16T13:10:32.634Z"
   },
   {
    "duration": 387,
    "start_time": "2024-05-16T13:10:33.027Z"
   },
   {
    "duration": 386,
    "start_time": "2024-05-16T13:10:33.416Z"
   },
   {
    "duration": 343,
    "start_time": "2024-05-16T13:10:33.805Z"
   },
   {
    "duration": 1570,
    "start_time": "2024-05-16T13:10:34.149Z"
   },
   {
    "duration": 94,
    "start_time": "2024-05-16T13:10:35.721Z"
   },
   {
    "duration": 111,
    "start_time": "2024-05-16T13:11:12.391Z"
   },
   {
    "duration": 19,
    "start_time": "2024-05-16T13:11:21.236Z"
   },
   {
    "duration": 12,
    "start_time": "2024-05-16T13:11:27.819Z"
   },
   {
    "duration": 18,
    "start_time": "2024-05-16T13:11:28.016Z"
   },
   {
    "duration": 1058,
    "start_time": "2024-05-16T13:11:48.134Z"
   },
   {
    "duration": 42,
    "start_time": "2024-05-16T13:11:49.193Z"
   },
   {
    "duration": 10,
    "start_time": "2024-05-16T13:11:49.237Z"
   },
   {
    "duration": 11,
    "start_time": "2024-05-16T13:11:49.249Z"
   },
   {
    "duration": 14,
    "start_time": "2024-05-16T13:11:49.262Z"
   },
   {
    "duration": 6,
    "start_time": "2024-05-16T13:11:49.278Z"
   },
   {
    "duration": 27,
    "start_time": "2024-05-16T13:11:49.286Z"
   },
   {
    "duration": 580,
    "start_time": "2024-05-16T13:11:49.314Z"
   },
   {
    "duration": 340,
    "start_time": "2024-05-16T13:11:49.896Z"
   },
   {
    "duration": 387,
    "start_time": "2024-05-16T13:11:50.238Z"
   },
   {
    "duration": 376,
    "start_time": "2024-05-16T13:11:50.626Z"
   },
   {
    "duration": 353,
    "start_time": "2024-05-16T13:11:51.003Z"
   },
   {
    "duration": 372,
    "start_time": "2024-05-16T13:11:51.357Z"
   },
   {
    "duration": 335,
    "start_time": "2024-05-16T13:11:51.731Z"
   },
   {
    "duration": 1648,
    "start_time": "2024-05-16T13:11:52.068Z"
   },
   {
    "duration": 92,
    "start_time": "2024-05-16T13:11:53.724Z"
   },
   {
    "duration": 118,
    "start_time": "2024-05-16T13:11:53.821Z"
   },
   {
    "duration": 110,
    "start_time": "2024-05-16T13:12:59.458Z"
   },
   {
    "duration": 1054,
    "start_time": "2024-05-16T13:13:16.939Z"
   },
   {
    "duration": 41,
    "start_time": "2024-05-16T13:13:17.995Z"
   },
   {
    "duration": 9,
    "start_time": "2024-05-16T13:13:18.038Z"
   },
   {
    "duration": 11,
    "start_time": "2024-05-16T13:13:18.049Z"
   },
   {
    "duration": 14,
    "start_time": "2024-05-16T13:13:18.062Z"
   },
   {
    "duration": 6,
    "start_time": "2024-05-16T13:13:18.078Z"
   },
   {
    "duration": 26,
    "start_time": "2024-05-16T13:13:18.086Z"
   },
   {
    "duration": 549,
    "start_time": "2024-05-16T13:13:18.113Z"
   },
   {
    "duration": 366,
    "start_time": "2024-05-16T13:13:18.663Z"
   },
   {
    "duration": 405,
    "start_time": "2024-05-16T13:13:19.031Z"
   },
   {
    "duration": 394,
    "start_time": "2024-05-16T13:13:19.438Z"
   },
   {
    "duration": 382,
    "start_time": "2024-05-16T13:13:19.834Z"
   },
   {
    "duration": 380,
    "start_time": "2024-05-16T13:13:20.217Z"
   },
   {
    "duration": 354,
    "start_time": "2024-05-16T13:13:20.599Z"
   },
   {
    "duration": 1867,
    "start_time": "2024-05-16T13:13:20.954Z"
   },
   {
    "duration": 95,
    "start_time": "2024-05-16T13:13:22.917Z"
   },
   {
    "duration": 6,
    "start_time": "2024-05-16T13:13:23.014Z"
   },
   {
    "duration": 24,
    "start_time": "2024-05-16T13:13:23.021Z"
   },
   {
    "duration": 107,
    "start_time": "2024-05-16T13:17:46.038Z"
   },
   {
    "duration": 3,
    "start_time": "2024-05-16T13:17:51.894Z"
   },
   {
    "duration": 201,
    "start_time": "2024-05-16T13:18:44.127Z"
   },
   {
    "duration": 16,
    "start_time": "2024-05-16T13:21:27.022Z"
   },
   {
    "duration": 8,
    "start_time": "2024-05-16T13:22:36.464Z"
   },
   {
    "duration": 3,
    "start_time": "2024-05-16T13:22:39.140Z"
   },
   {
    "duration": 12,
    "start_time": "2024-05-16T13:22:39.298Z"
   },
   {
    "duration": 4,
    "start_time": "2024-05-16T13:22:48.141Z"
   },
   {
    "duration": 11,
    "start_time": "2024-05-16T13:22:57.221Z"
   },
   {
    "duration": 12,
    "start_time": "2024-05-16T13:23:21.321Z"
   },
   {
    "duration": 4,
    "start_time": "2024-05-16T13:23:22.708Z"
   },
   {
    "duration": 11,
    "start_time": "2024-05-16T13:23:23.098Z"
   },
   {
    "duration": 11,
    "start_time": "2024-05-16T13:24:01.126Z"
   },
   {
    "duration": 4,
    "start_time": "2024-05-16T13:24:25.574Z"
   },
   {
    "duration": 14,
    "start_time": "2024-05-16T13:24:31.111Z"
   },
   {
    "duration": 4,
    "start_time": "2024-05-16T13:24:44.657Z"
   },
   {
    "duration": 8,
    "start_time": "2024-05-16T13:24:45.180Z"
   },
   {
    "duration": 4,
    "start_time": "2024-05-16T13:24:46.727Z"
   },
   {
    "duration": 9,
    "start_time": "2024-05-16T13:24:47.073Z"
   },
   {
    "duration": 10,
    "start_time": "2024-05-16T13:24:48.657Z"
   },
   {
    "duration": 1234,
    "start_time": "2024-05-16T13:24:52.860Z"
   },
   {
    "duration": 41,
    "start_time": "2024-05-16T13:24:54.095Z"
   },
   {
    "duration": 9,
    "start_time": "2024-05-16T13:24:54.138Z"
   },
   {
    "duration": 23,
    "start_time": "2024-05-16T13:24:54.149Z"
   },
   {
    "duration": 23,
    "start_time": "2024-05-16T13:24:54.174Z"
   },
   {
    "duration": 21,
    "start_time": "2024-05-16T13:24:54.199Z"
   },
   {
    "duration": 5,
    "start_time": "2024-05-16T13:24:54.222Z"
   },
   {
    "duration": 601,
    "start_time": "2024-05-16T13:24:54.229Z"
   },
   {
    "duration": 383,
    "start_time": "2024-05-16T13:24:54.832Z"
   },
   {
    "duration": 376,
    "start_time": "2024-05-16T13:24:55.216Z"
   },
   {
    "duration": 429,
    "start_time": "2024-05-16T13:24:55.594Z"
   },
   {
    "duration": 366,
    "start_time": "2024-05-16T13:24:56.025Z"
   },
   {
    "duration": 356,
    "start_time": "2024-05-16T13:24:56.392Z"
   },
   {
    "duration": 286,
    "start_time": "2024-05-16T13:24:56.751Z"
   },
   {
    "duration": 1875,
    "start_time": "2024-05-16T13:24:57.039Z"
   },
   {
    "duration": 5,
    "start_time": "2024-05-16T13:24:58.915Z"
   },
   {
    "duration": 20,
    "start_time": "2024-05-16T13:24:59.012Z"
   },
   {
    "duration": 35,
    "start_time": "2024-05-16T13:24:59.033Z"
   },
   {
    "duration": 7,
    "start_time": "2024-05-16T13:24:59.069Z"
   },
   {
    "duration": 18,
    "start_time": "2024-05-16T13:24:59.078Z"
   },
   {
    "duration": 25,
    "start_time": "2024-05-16T13:24:59.098Z"
   },
   {
    "duration": 32,
    "start_time": "2024-05-16T13:26:58.101Z"
   },
   {
    "duration": 22,
    "start_time": "2024-05-16T13:27:49.635Z"
   },
   {
    "duration": 8,
    "start_time": "2024-05-16T13:28:10.563Z"
   },
   {
    "duration": 10,
    "start_time": "2024-05-16T13:28:23.486Z"
   },
   {
    "duration": 1252,
    "start_time": "2024-05-16T13:28:40.462Z"
   },
   {
    "duration": 41,
    "start_time": "2024-05-16T13:28:41.716Z"
   },
   {
    "duration": 9,
    "start_time": "2024-05-16T13:28:41.759Z"
   },
   {
    "duration": 9,
    "start_time": "2024-05-16T13:28:41.769Z"
   },
   {
    "duration": 29,
    "start_time": "2024-05-16T13:28:41.780Z"
   },
   {
    "duration": 20,
    "start_time": "2024-05-16T13:28:41.810Z"
   },
   {
    "duration": 4,
    "start_time": "2024-05-16T13:28:41.831Z"
   },
   {
    "duration": 577,
    "start_time": "2024-05-16T13:28:41.837Z"
   },
   {
    "duration": 407,
    "start_time": "2024-05-16T13:28:42.416Z"
   },
   {
    "duration": 404,
    "start_time": "2024-05-16T13:28:42.825Z"
   },
   {
    "duration": 403,
    "start_time": "2024-05-16T13:28:43.231Z"
   },
   {
    "duration": 378,
    "start_time": "2024-05-16T13:28:43.636Z"
   },
   {
    "duration": 362,
    "start_time": "2024-05-16T13:28:44.016Z"
   },
   {
    "duration": 287,
    "start_time": "2024-05-16T13:28:44.381Z"
   },
   {
    "duration": 1652,
    "start_time": "2024-05-16T13:28:44.669Z"
   },
   {
    "duration": 95,
    "start_time": "2024-05-16T13:28:46.417Z"
   },
   {
    "duration": 7,
    "start_time": "2024-05-16T13:28:46.514Z"
   },
   {
    "duration": 21,
    "start_time": "2024-05-16T13:28:46.523Z"
   },
   {
    "duration": 9,
    "start_time": "2024-05-16T13:28:46.546Z"
   },
   {
    "duration": 24,
    "start_time": "2024-05-16T13:28:46.556Z"
   },
   {
    "duration": 21,
    "start_time": "2024-05-16T13:28:46.581Z"
   },
   {
    "duration": 17,
    "start_time": "2024-05-16T13:29:03.312Z"
   },
   {
    "duration": 946,
    "start_time": "2024-05-16T13:29:41.242Z"
   },
   {
    "duration": 10,
    "start_time": "2024-05-16T13:30:06.482Z"
   },
   {
    "duration": 8,
    "start_time": "2024-05-16T13:30:12.382Z"
   },
   {
    "duration": 4,
    "start_time": "2024-05-16T13:30:16.640Z"
   },
   {
    "duration": 2,
    "start_time": "2024-05-16T13:30:33.662Z"
   },
   {
    "duration": 3,
    "start_time": "2024-05-16T13:30:48.883Z"
   },
   {
    "duration": 3,
    "start_time": "2024-05-16T13:31:18.694Z"
   },
   {
    "duration": 3,
    "start_time": "2024-05-16T13:31:32.895Z"
   },
   {
    "duration": 9,
    "start_time": "2024-05-16T13:31:33.044Z"
   },
   {
    "duration": 78,
    "start_time": "2024-05-16T13:33:29.372Z"
   },
   {
    "duration": 14,
    "start_time": "2024-05-16T13:44:21.479Z"
   },
   {
    "duration": 3,
    "start_time": "2024-05-16T13:44:34.498Z"
   },
   {
    "duration": 6,
    "start_time": "2024-05-16T13:46:07.914Z"
   },
   {
    "duration": 4,
    "start_time": "2024-05-16T13:46:34.259Z"
   },
   {
    "duration": 11,
    "start_time": "2024-05-16T13:46:54.688Z"
   },
   {
    "duration": 1361,
    "start_time": "2024-05-16T13:47:12.151Z"
   },
   {
    "duration": 44,
    "start_time": "2024-05-16T13:47:13.513Z"
   },
   {
    "duration": 13,
    "start_time": "2024-05-16T13:47:13.558Z"
   },
   {
    "duration": 23,
    "start_time": "2024-05-16T13:47:13.573Z"
   },
   {
    "duration": 18,
    "start_time": "2024-05-16T13:47:13.599Z"
   },
   {
    "duration": 14,
    "start_time": "2024-05-16T13:47:13.619Z"
   },
   {
    "duration": 23,
    "start_time": "2024-05-16T13:47:13.634Z"
   },
   {
    "duration": 632,
    "start_time": "2024-05-16T13:47:13.658Z"
   },
   {
    "duration": 345,
    "start_time": "2024-05-16T13:47:14.291Z"
   },
   {
    "duration": 392,
    "start_time": "2024-05-16T13:47:14.637Z"
   },
   {
    "duration": 403,
    "start_time": "2024-05-16T13:47:15.030Z"
   },
   {
    "duration": 387,
    "start_time": "2024-05-16T13:47:15.434Z"
   },
   {
    "duration": 397,
    "start_time": "2024-05-16T13:47:15.822Z"
   },
   {
    "duration": 294,
    "start_time": "2024-05-16T13:47:16.223Z"
   },
   {
    "duration": 1701,
    "start_time": "2024-05-16T13:47:16.519Z"
   },
   {
    "duration": 4,
    "start_time": "2024-05-16T13:47:18.313Z"
   },
   {
    "duration": 105,
    "start_time": "2024-05-16T13:47:18.319Z"
   },
   {
    "duration": 16,
    "start_time": "2024-05-16T13:47:18.425Z"
   },
   {
    "duration": 4,
    "start_time": "2024-05-16T13:47:18.443Z"
   },
   {
    "duration": 6,
    "start_time": "2024-05-16T13:47:18.448Z"
   },
   {
    "duration": 4,
    "start_time": "2024-05-16T13:47:18.455Z"
   },
   {
    "duration": 23,
    "start_time": "2024-05-16T13:47:18.461Z"
   },
   {
    "duration": 5,
    "start_time": "2024-05-16T13:47:18.485Z"
   },
   {
    "duration": 122,
    "start_time": "2024-05-16T13:47:18.491Z"
   },
   {
    "duration": 0,
    "start_time": "2024-05-16T13:47:18.614Z"
   },
   {
    "duration": 3,
    "start_time": "2024-05-16T13:47:49.587Z"
   },
   {
    "duration": 5,
    "start_time": "2024-05-16T13:49:07.622Z"
   },
   {
    "duration": 11,
    "start_time": "2024-05-16T13:49:11.021Z"
   },
   {
    "duration": 8,
    "start_time": "2024-05-16T13:50:07.918Z"
   },
   {
    "duration": 1382,
    "start_time": "2024-05-16T13:50:28.172Z"
   },
   {
    "duration": 42,
    "start_time": "2024-05-16T13:50:29.555Z"
   },
   {
    "duration": 9,
    "start_time": "2024-05-16T13:50:29.598Z"
   },
   {
    "duration": 21,
    "start_time": "2024-05-16T13:50:29.608Z"
   },
   {
    "duration": 19,
    "start_time": "2024-05-16T13:50:29.631Z"
   },
   {
    "duration": 43,
    "start_time": "2024-05-16T13:50:29.651Z"
   },
   {
    "duration": 20,
    "start_time": "2024-05-16T13:50:29.695Z"
   },
   {
    "duration": 625,
    "start_time": "2024-05-16T13:50:29.717Z"
   },
   {
    "duration": 377,
    "start_time": "2024-05-16T13:50:30.344Z"
   },
   {
    "duration": 404,
    "start_time": "2024-05-16T13:50:30.723Z"
   },
   {
    "duration": 393,
    "start_time": "2024-05-16T13:50:31.129Z"
   },
   {
    "duration": 388,
    "start_time": "2024-05-16T13:50:31.524Z"
   },
   {
    "duration": 368,
    "start_time": "2024-05-16T13:50:31.913Z"
   },
   {
    "duration": 294,
    "start_time": "2024-05-16T13:50:32.283Z"
   },
   {
    "duration": 1641,
    "start_time": "2024-05-16T13:50:32.579Z"
   },
   {
    "duration": 92,
    "start_time": "2024-05-16T13:50:34.221Z"
   },
   {
    "duration": 98,
    "start_time": "2024-05-16T13:50:34.315Z"
   },
   {
    "duration": 19,
    "start_time": "2024-05-16T13:50:34.414Z"
   },
   {
    "duration": 4,
    "start_time": "2024-05-16T13:50:34.434Z"
   },
   {
    "duration": 6,
    "start_time": "2024-05-16T13:50:34.440Z"
   },
   {
    "duration": 3,
    "start_time": "2024-05-16T13:50:34.447Z"
   },
   {
    "duration": 2,
    "start_time": "2024-05-16T13:50:34.452Z"
   },
   {
    "duration": 3,
    "start_time": "2024-05-16T13:50:34.456Z"
   },
   {
    "duration": 6,
    "start_time": "2024-05-16T13:50:34.461Z"
   },
   {
    "duration": 74550,
    "start_time": "2024-05-16T13:50:34.469Z"
   },
   {
    "duration": 885,
    "start_time": "2024-05-16T13:53:20.134Z"
   },
   {
    "duration": 1406,
    "start_time": "2024-05-16T13:54:51.371Z"
   },
   {
    "duration": 42,
    "start_time": "2024-05-16T13:54:52.779Z"
   },
   {
    "duration": 9,
    "start_time": "2024-05-16T13:54:52.823Z"
   },
   {
    "duration": 10,
    "start_time": "2024-05-16T13:54:52.833Z"
   },
   {
    "duration": 13,
    "start_time": "2024-05-16T13:54:52.845Z"
   },
   {
    "duration": 11,
    "start_time": "2024-05-16T13:54:52.859Z"
   },
   {
    "duration": 15,
    "start_time": "2024-05-16T13:54:52.871Z"
   },
   {
    "duration": 683,
    "start_time": "2024-05-16T13:54:52.887Z"
   },
   {
    "duration": 363,
    "start_time": "2024-05-16T13:54:53.572Z"
   },
   {
    "duration": 388,
    "start_time": "2024-05-16T13:54:53.937Z"
   },
   {
    "duration": 389,
    "start_time": "2024-05-16T13:54:54.327Z"
   },
   {
    "duration": 356,
    "start_time": "2024-05-16T13:54:54.717Z"
   },
   {
    "duration": 366,
    "start_time": "2024-05-16T13:54:55.075Z"
   },
   {
    "duration": 293,
    "start_time": "2024-05-16T13:54:55.444Z"
   },
   {
    "duration": 1680,
    "start_time": "2024-05-16T13:54:55.739Z"
   },
   {
    "duration": 92,
    "start_time": "2024-05-16T13:54:57.421Z"
   },
   {
    "duration": 101,
    "start_time": "2024-05-16T13:54:57.515Z"
   },
   {
    "duration": 24,
    "start_time": "2024-05-16T13:54:57.617Z"
   },
   {
    "duration": 4,
    "start_time": "2024-05-16T13:54:57.643Z"
   },
   {
    "duration": 5,
    "start_time": "2024-05-16T13:54:57.649Z"
   },
   {
    "duration": 4,
    "start_time": "2024-05-16T13:54:57.655Z"
   },
   {
    "duration": 14,
    "start_time": "2024-05-16T13:54:57.660Z"
   },
   {
    "duration": 9,
    "start_time": "2024-05-16T13:54:57.675Z"
   },
   {
    "duration": 6,
    "start_time": "2024-05-16T13:54:57.685Z"
   },
   {
    "duration": 922,
    "start_time": "2024-05-16T13:54:57.693Z"
   },
   {
    "duration": 976,
    "start_time": "2024-05-16T13:55:30.112Z"
   },
   {
    "duration": 1431,
    "start_time": "2024-05-16T13:58:03.374Z"
   },
   {
    "duration": 42,
    "start_time": "2024-05-16T13:58:04.807Z"
   },
   {
    "duration": 10,
    "start_time": "2024-05-16T13:58:04.850Z"
   },
   {
    "duration": 13,
    "start_time": "2024-05-16T13:58:04.861Z"
   },
   {
    "duration": 23,
    "start_time": "2024-05-16T13:58:04.876Z"
   },
   {
    "duration": 18,
    "start_time": "2024-05-16T13:58:04.900Z"
   },
   {
    "duration": 8,
    "start_time": "2024-05-16T13:58:04.919Z"
   },
   {
    "duration": 665,
    "start_time": "2024-05-16T13:58:04.929Z"
   },
   {
    "duration": 354,
    "start_time": "2024-05-16T13:58:05.595Z"
   },
   {
    "duration": 393,
    "start_time": "2024-05-16T13:58:05.951Z"
   },
   {
    "duration": 383,
    "start_time": "2024-05-16T13:58:06.345Z"
   },
   {
    "duration": 399,
    "start_time": "2024-05-16T13:58:06.730Z"
   },
   {
    "duration": 405,
    "start_time": "2024-05-16T13:58:07.131Z"
   },
   {
    "duration": 301,
    "start_time": "2024-05-16T13:58:07.538Z"
   },
   {
    "duration": 1981,
    "start_time": "2024-05-16T13:58:07.840Z"
   },
   {
    "duration": 7,
    "start_time": "2024-05-16T13:58:09.824Z"
   },
   {
    "duration": 88,
    "start_time": "2024-05-16T13:58:09.833Z"
   },
   {
    "duration": 120,
    "start_time": "2024-05-16T13:58:09.923Z"
   },
   {
    "duration": 15,
    "start_time": "2024-05-16T13:58:10.044Z"
   },
   {
    "duration": 23,
    "start_time": "2024-05-16T13:58:10.060Z"
   },
   {
    "duration": 18,
    "start_time": "2024-05-16T13:58:10.084Z"
   },
   {
    "duration": 29,
    "start_time": "2024-05-16T13:58:10.103Z"
   },
   {
    "duration": 8,
    "start_time": "2024-05-16T13:58:10.134Z"
   },
   {
    "duration": 947,
    "start_time": "2024-05-16T13:58:10.143Z"
   },
   {
    "duration": 0,
    "start_time": "2024-05-16T13:58:11.092Z"
   },
   {
    "duration": 21,
    "start_time": "2024-05-16T13:58:46.466Z"
   },
   {
    "duration": 8,
    "start_time": "2024-05-16T13:58:55.201Z"
   },
   {
    "duration": 1415,
    "start_time": "2024-05-16T13:59:05.226Z"
   },
   {
    "duration": 42,
    "start_time": "2024-05-16T13:59:06.642Z"
   },
   {
    "duration": 10,
    "start_time": "2024-05-16T13:59:06.685Z"
   },
   {
    "duration": 10,
    "start_time": "2024-05-16T13:59:06.696Z"
   },
   {
    "duration": 20,
    "start_time": "2024-05-16T13:59:06.708Z"
   },
   {
    "duration": 7,
    "start_time": "2024-05-16T13:59:06.729Z"
   },
   {
    "duration": 4,
    "start_time": "2024-05-16T13:59:06.737Z"
   },
   {
    "duration": 660,
    "start_time": "2024-05-16T13:59:06.742Z"
   },
   {
    "duration": 371,
    "start_time": "2024-05-16T13:59:07.403Z"
   },
   {
    "duration": 382,
    "start_time": "2024-05-16T13:59:07.776Z"
   },
   {
    "duration": 395,
    "start_time": "2024-05-16T13:59:08.160Z"
   },
   {
    "duration": 370,
    "start_time": "2024-05-16T13:59:08.557Z"
   },
   {
    "duration": 417,
    "start_time": "2024-05-16T13:59:08.928Z"
   },
   {
    "duration": 304,
    "start_time": "2024-05-16T13:59:09.347Z"
   },
   {
    "duration": 1672,
    "start_time": "2024-05-16T13:59:09.652Z"
   },
   {
    "duration": 80,
    "start_time": "2024-05-16T13:59:11.332Z"
   },
   {
    "duration": 10,
    "start_time": "2024-05-16T13:59:11.421Z"
   },
   {
    "duration": 13,
    "start_time": "2024-05-16T13:59:11.521Z"
   },
   {
    "duration": 3,
    "start_time": "2024-05-16T13:59:11.536Z"
   },
   {
    "duration": 5,
    "start_time": "2024-05-16T13:59:11.541Z"
   },
   {
    "duration": 3,
    "start_time": "2024-05-16T13:59:11.547Z"
   },
   {
    "duration": 6,
    "start_time": "2024-05-16T13:59:11.552Z"
   },
   {
    "duration": 3,
    "start_time": "2024-05-16T13:59:11.559Z"
   },
   {
    "duration": 75,
    "start_time": "2024-05-16T13:59:11.564Z"
   },
   {
    "duration": 127,
    "start_time": "2024-05-16T13:59:11.640Z"
   },
   {
    "duration": 13846,
    "start_time": "2024-05-16T13:59:40.269Z"
   },
   {
    "duration": 1364,
    "start_time": "2024-05-16T14:00:48.041Z"
   },
   {
    "duration": 45,
    "start_time": "2024-05-16T14:00:49.406Z"
   },
   {
    "duration": 10,
    "start_time": "2024-05-16T14:00:49.452Z"
   },
   {
    "duration": 10,
    "start_time": "2024-05-16T14:00:49.463Z"
   },
   {
    "duration": 14,
    "start_time": "2024-05-16T14:00:49.474Z"
   },
   {
    "duration": 21,
    "start_time": "2024-05-16T14:00:49.489Z"
   },
   {
    "duration": 4,
    "start_time": "2024-05-16T14:00:49.517Z"
   },
   {
    "duration": 635,
    "start_time": "2024-05-16T14:00:49.523Z"
   },
   {
    "duration": 387,
    "start_time": "2024-05-16T14:00:50.159Z"
   },
   {
    "duration": 393,
    "start_time": "2024-05-16T14:00:50.547Z"
   },
   {
    "duration": 389,
    "start_time": "2024-05-16T14:00:50.941Z"
   },
   {
    "duration": 389,
    "start_time": "2024-05-16T14:00:51.332Z"
   },
   {
    "duration": 385,
    "start_time": "2024-05-16T14:00:51.723Z"
   },
   {
    "duration": 297,
    "start_time": "2024-05-16T14:00:52.124Z"
   },
   {
    "duration": 4911,
    "start_time": "2024-05-16T14:00:52.422Z"
   },
   {
    "duration": 86,
    "start_time": "2024-05-16T14:00:57.335Z"
   },
   {
    "duration": 98,
    "start_time": "2024-05-16T14:00:57.423Z"
   },
   {
    "duration": 29,
    "start_time": "2024-05-16T14:00:57.523Z"
   },
   {
    "duration": 4,
    "start_time": "2024-05-16T14:00:57.553Z"
   },
   {
    "duration": 6,
    "start_time": "2024-05-16T14:00:57.558Z"
   },
   {
    "duration": 2,
    "start_time": "2024-05-16T14:00:57.566Z"
   },
   {
    "duration": 17,
    "start_time": "2024-05-16T14:00:57.570Z"
   },
   {
    "duration": 18,
    "start_time": "2024-05-16T14:00:57.589Z"
   },
   {
    "duration": 54,
    "start_time": "2024-05-16T14:00:57.608Z"
   },
   {
    "duration": 370969,
    "start_time": "2024-05-16T14:00:57.663Z"
   },
   {
    "duration": 71,
    "start_time": "2024-05-16T14:07:35.597Z"
   },
   {
    "duration": 44,
    "start_time": "2024-05-16T14:07:44.935Z"
   },
   {
    "duration": 11182,
    "start_time": "2024-05-16T14:07:48.943Z"
   },
   {
    "duration": 1368,
    "start_time": "2024-05-16T14:08:09.321Z"
   },
   {
    "duration": 42,
    "start_time": "2024-05-16T14:08:10.690Z"
   },
   {
    "duration": 10,
    "start_time": "2024-05-16T14:08:10.733Z"
   },
   {
    "duration": 23,
    "start_time": "2024-05-16T14:08:10.744Z"
   },
   {
    "duration": 13,
    "start_time": "2024-05-16T14:08:10.769Z"
   },
   {
    "duration": 6,
    "start_time": "2024-05-16T14:08:10.783Z"
   },
   {
    "duration": 4,
    "start_time": "2024-05-16T14:08:10.790Z"
   },
   {
    "duration": 647,
    "start_time": "2024-05-16T14:08:10.795Z"
   },
   {
    "duration": 372,
    "start_time": "2024-05-16T14:08:11.443Z"
   },
   {
    "duration": 373,
    "start_time": "2024-05-16T14:08:11.816Z"
   },
   {
    "duration": 351,
    "start_time": "2024-05-16T14:08:12.190Z"
   },
   {
    "duration": 374,
    "start_time": "2024-05-16T14:08:12.543Z"
   },
   {
    "duration": 388,
    "start_time": "2024-05-16T14:08:12.918Z"
   },
   {
    "duration": 308,
    "start_time": "2024-05-16T14:08:13.309Z"
   },
   {
    "duration": 1700,
    "start_time": "2024-05-16T14:08:13.619Z"
   },
   {
    "duration": 5,
    "start_time": "2024-05-16T14:08:15.411Z"
   },
   {
    "duration": 120,
    "start_time": "2024-05-16T14:08:15.418Z"
   },
   {
    "duration": 17,
    "start_time": "2024-05-16T14:08:15.539Z"
   },
   {
    "duration": 4,
    "start_time": "2024-05-16T14:08:15.558Z"
   },
   {
    "duration": 16,
    "start_time": "2024-05-16T14:08:15.563Z"
   },
   {
    "duration": 13,
    "start_time": "2024-05-16T14:08:15.580Z"
   },
   {
    "duration": 8,
    "start_time": "2024-05-16T14:08:15.594Z"
   },
   {
    "duration": 12,
    "start_time": "2024-05-16T14:08:15.604Z"
   },
   {
    "duration": 60,
    "start_time": "2024-05-16T14:08:15.617Z"
   },
   {
    "duration": 353193,
    "start_time": "2024-05-16T14:08:15.678Z"
   },
   {
    "duration": 1398,
    "start_time": "2024-05-16T14:15:33.769Z"
   },
   {
    "duration": 42,
    "start_time": "2024-05-16T14:15:35.169Z"
   },
   {
    "duration": 9,
    "start_time": "2024-05-16T14:15:35.212Z"
   },
   {
    "duration": 11,
    "start_time": "2024-05-16T14:15:35.223Z"
   },
   {
    "duration": 14,
    "start_time": "2024-05-16T14:15:35.235Z"
   },
   {
    "duration": 6,
    "start_time": "2024-05-16T14:15:35.250Z"
   },
   {
    "duration": 16,
    "start_time": "2024-05-16T14:15:35.258Z"
   },
   {
    "duration": 643,
    "start_time": "2024-05-16T14:15:35.275Z"
   },
   {
    "duration": 369,
    "start_time": "2024-05-16T14:15:35.919Z"
   },
   {
    "duration": 363,
    "start_time": "2024-05-16T14:15:36.291Z"
   },
   {
    "duration": 374,
    "start_time": "2024-05-16T14:15:36.655Z"
   },
   {
    "duration": 386,
    "start_time": "2024-05-16T14:15:37.030Z"
   },
   {
    "duration": 380,
    "start_time": "2024-05-16T14:15:37.418Z"
   },
   {
    "duration": 293,
    "start_time": "2024-05-16T14:15:37.799Z"
   },
   {
    "duration": 1627,
    "start_time": "2024-05-16T14:15:38.093Z"
   },
   {
    "duration": 7,
    "start_time": "2024-05-16T14:15:39.813Z"
   },
   {
    "duration": 4,
    "start_time": "2024-05-16T14:15:39.912Z"
   },
   {
    "duration": 13,
    "start_time": "2024-05-16T14:15:39.918Z"
   },
   {
    "duration": 4,
    "start_time": "2024-05-16T14:15:39.932Z"
   },
   {
    "duration": 5,
    "start_time": "2024-05-16T14:15:39.937Z"
   },
   {
    "duration": 3,
    "start_time": "2024-05-16T14:15:39.943Z"
   },
   {
    "duration": 4,
    "start_time": "2024-05-16T14:15:39.947Z"
   },
   {
    "duration": 5,
    "start_time": "2024-05-16T14:15:39.952Z"
   },
   {
    "duration": 73,
    "start_time": "2024-05-16T14:15:39.958Z"
   },
   {
    "duration": 82097,
    "start_time": "2024-05-16T14:15:40.032Z"
   },
   {
    "duration": 1570,
    "start_time": "2024-05-16T14:17:48.225Z"
   },
   {
    "duration": 42,
    "start_time": "2024-05-16T14:17:49.797Z"
   },
   {
    "duration": 9,
    "start_time": "2024-05-16T14:17:49.841Z"
   },
   {
    "duration": 11,
    "start_time": "2024-05-16T14:17:49.852Z"
   },
   {
    "duration": 13,
    "start_time": "2024-05-16T14:17:49.864Z"
   },
   {
    "duration": 5,
    "start_time": "2024-05-16T14:17:49.879Z"
   },
   {
    "duration": 4,
    "start_time": "2024-05-16T14:17:49.886Z"
   },
   {
    "duration": 646,
    "start_time": "2024-05-16T14:17:49.892Z"
   },
   {
    "duration": 379,
    "start_time": "2024-05-16T14:17:50.540Z"
   },
   {
    "duration": 376,
    "start_time": "2024-05-16T14:17:50.921Z"
   },
   {
    "duration": 361,
    "start_time": "2024-05-16T14:17:51.298Z"
   },
   {
    "duration": 362,
    "start_time": "2024-05-16T14:17:51.660Z"
   },
   {
    "duration": 399,
    "start_time": "2024-05-16T14:17:52.024Z"
   },
   {
    "duration": 305,
    "start_time": "2024-05-16T14:17:52.425Z"
   },
   {
    "duration": 1686,
    "start_time": "2024-05-16T14:17:52.732Z"
   },
   {
    "duration": 96,
    "start_time": "2024-05-16T14:17:54.420Z"
   },
   {
    "duration": 93,
    "start_time": "2024-05-16T14:17:54.521Z"
   },
   {
    "duration": 14,
    "start_time": "2024-05-16T14:17:54.616Z"
   },
   {
    "duration": 3,
    "start_time": "2024-05-16T14:17:54.632Z"
   },
   {
    "duration": 7,
    "start_time": "2024-05-16T14:17:54.637Z"
   },
   {
    "duration": 2,
    "start_time": "2024-05-16T14:17:54.645Z"
   },
   {
    "duration": 6,
    "start_time": "2024-05-16T14:17:54.649Z"
   },
   {
    "duration": 9,
    "start_time": "2024-05-16T14:17:54.656Z"
   },
   {
    "duration": 62,
    "start_time": "2024-05-16T14:17:54.666Z"
   },
   {
    "duration": 25852,
    "start_time": "2024-05-16T14:17:54.730Z"
   },
   {
    "duration": 31210,
    "start_time": "2024-05-16T14:19:17.560Z"
   },
   {
    "duration": 3,
    "start_time": "2024-05-16T14:24:34.107Z"
   },
   {
    "duration": 4,
    "start_time": "2024-05-16T14:25:19.851Z"
   },
   {
    "duration": 119,
    "start_time": "2024-05-16T14:25:25.573Z"
   },
   {
    "duration": 4,
    "start_time": "2024-05-16T14:26:06.020Z"
   },
   {
    "duration": 67,
    "start_time": "2024-05-16T14:26:39.736Z"
   },
   {
    "duration": 63,
    "start_time": "2024-05-16T14:26:48.264Z"
   },
   {
    "duration": 7,
    "start_time": "2024-05-16T14:29:14.371Z"
   },
   {
    "duration": 7,
    "start_time": "2024-05-16T14:34:57.105Z"
   },
   {
    "duration": 1436,
    "start_time": "2024-05-16T14:35:05.971Z"
   },
   {
    "duration": 42,
    "start_time": "2024-05-16T14:35:07.408Z"
   },
   {
    "duration": 9,
    "start_time": "2024-05-16T14:35:07.452Z"
   },
   {
    "duration": 14,
    "start_time": "2024-05-16T14:35:07.462Z"
   },
   {
    "duration": 14,
    "start_time": "2024-05-16T14:35:07.478Z"
   },
   {
    "duration": 6,
    "start_time": "2024-05-16T14:35:07.493Z"
   },
   {
    "duration": 4,
    "start_time": "2024-05-16T14:35:07.500Z"
   },
   {
    "duration": 632,
    "start_time": "2024-05-16T14:35:07.506Z"
   },
   {
    "duration": 376,
    "start_time": "2024-05-16T14:35:08.139Z"
   },
   {
    "duration": 372,
    "start_time": "2024-05-16T14:35:08.516Z"
   },
   {
    "duration": 356,
    "start_time": "2024-05-16T14:35:08.889Z"
   },
   {
    "duration": 371,
    "start_time": "2024-05-16T14:35:09.246Z"
   },
   {
    "duration": 384,
    "start_time": "2024-05-16T14:35:09.619Z"
   },
   {
    "duration": 288,
    "start_time": "2024-05-16T14:35:10.011Z"
   },
   {
    "duration": 1612,
    "start_time": "2024-05-16T14:35:10.301Z"
   },
   {
    "duration": 94,
    "start_time": "2024-05-16T14:35:11.918Z"
   },
   {
    "duration": 18,
    "start_time": "2024-05-16T14:35:12.014Z"
   },
   {
    "duration": 13,
    "start_time": "2024-05-16T14:35:12.033Z"
   },
   {
    "duration": 4,
    "start_time": "2024-05-16T14:35:12.047Z"
   },
   {
    "duration": 17,
    "start_time": "2024-05-16T14:35:12.052Z"
   },
   {
    "duration": 10,
    "start_time": "2024-05-16T14:35:12.070Z"
   },
   {
    "duration": 7,
    "start_time": "2024-05-16T14:35:12.082Z"
   },
   {
    "duration": 7,
    "start_time": "2024-05-16T14:35:12.090Z"
   },
   {
    "duration": 49,
    "start_time": "2024-05-16T14:35:12.098Z"
   },
   {
    "duration": 20457,
    "start_time": "2024-05-16T14:35:12.148Z"
   },
   {
    "duration": 6,
    "start_time": "2024-05-16T14:35:32.606Z"
   },
   {
    "duration": 113,
    "start_time": "2024-05-16T14:35:32.613Z"
   },
   {
    "duration": 4,
    "start_time": "2024-05-16T14:35:32.728Z"
   },
   {
    "duration": 63,
    "start_time": "2024-05-16T19:17:45.661Z"
   },
   {
    "duration": 4,
    "start_time": "2024-05-16T19:20:49.955Z"
   },
   {
    "duration": 44,
    "start_time": "2024-05-16T19:20:50.497Z"
   },
   {
    "duration": 1550,
    "start_time": "2024-05-16T19:20:54.846Z"
   },
   {
    "duration": 90,
    "start_time": "2024-05-16T19:20:56.399Z"
   },
   {
    "duration": 11,
    "start_time": "2024-05-16T19:20:56.490Z"
   },
   {
    "duration": 11,
    "start_time": "2024-05-16T19:20:56.503Z"
   },
   {
    "duration": 15,
    "start_time": "2024-05-16T19:20:56.516Z"
   },
   {
    "duration": 6,
    "start_time": "2024-05-16T19:20:56.532Z"
   },
   {
    "duration": 4,
    "start_time": "2024-05-16T19:20:56.539Z"
   },
   {
    "duration": 661,
    "start_time": "2024-05-16T19:20:56.545Z"
   },
   {
    "duration": 376,
    "start_time": "2024-05-16T19:20:57.208Z"
   },
   {
    "duration": 387,
    "start_time": "2024-05-16T19:20:57.587Z"
   },
   {
    "duration": 382,
    "start_time": "2024-05-16T19:20:57.976Z"
   },
   {
    "duration": 368,
    "start_time": "2024-05-16T19:20:58.359Z"
   },
   {
    "duration": 411,
    "start_time": "2024-05-16T19:20:58.729Z"
   },
   {
    "duration": 5,
    "start_time": "2024-05-16T19:20:59.142Z"
   },
   {
    "duration": 288,
    "start_time": "2024-05-16T19:20:59.149Z"
   },
   {
    "duration": 1776,
    "start_time": "2024-05-16T19:20:59.438Z"
   },
   {
    "duration": 4,
    "start_time": "2024-05-16T19:21:01.216Z"
   },
   {
    "duration": 209,
    "start_time": "2024-05-16T19:21:01.222Z"
   },
   {
    "duration": 37,
    "start_time": "2024-05-16T19:21:01.433Z"
   },
   {
    "duration": 36,
    "start_time": "2024-05-16T19:21:01.472Z"
   },
   {
    "duration": 37,
    "start_time": "2024-05-16T19:21:01.509Z"
   },
   {
    "duration": 45,
    "start_time": "2024-05-16T19:21:01.547Z"
   },
   {
    "duration": 15,
    "start_time": "2024-05-16T19:21:01.594Z"
   },
   {
    "duration": 33,
    "start_time": "2024-05-16T19:21:01.610Z"
   },
   {
    "duration": 63,
    "start_time": "2024-05-16T19:21:01.644Z"
   },
   {
    "duration": 3,
    "start_time": "2024-05-16T19:21:01.708Z"
   },
   {
    "duration": 9,
    "start_time": "2024-05-16T19:21:01.712Z"
   },
   {
    "duration": 23393,
    "start_time": "2024-05-16T19:21:01.723Z"
   },
   {
    "duration": 2,
    "start_time": "2024-05-16T19:21:25.120Z"
   },
   {
    "duration": 58,
    "start_time": "2024-05-16T19:21:25.124Z"
   },
   {
    "duration": 33,
    "start_time": "2024-05-16T19:21:25.184Z"
   },
   {
    "duration": 6,
    "start_time": "2024-05-16T19:21:25.218Z"
   },
   {
    "duration": 4,
    "start_time": "2024-05-16T19:21:39.056Z"
   },
   {
    "duration": 283,
    "start_time": "2024-05-16T19:21:39.336Z"
   },
   {
    "duration": 4,
    "start_time": "2024-05-16T19:21:49.956Z"
   },
   {
    "duration": 172,
    "start_time": "2024-05-16T19:21:50.104Z"
   },
   {
    "duration": 4,
    "start_time": "2024-05-16T19:22:06.153Z"
   },
   {
    "duration": 178,
    "start_time": "2024-05-16T19:22:06.306Z"
   },
   {
    "duration": 3,
    "start_time": "2024-05-16T19:22:16.129Z"
   },
   {
    "duration": 180,
    "start_time": "2024-05-16T19:22:16.329Z"
   },
   {
    "duration": 1433,
    "start_time": "2024-05-16T19:22:21.610Z"
   },
   {
    "duration": 44,
    "start_time": "2024-05-16T19:22:23.044Z"
   },
   {
    "duration": 10,
    "start_time": "2024-05-16T19:22:23.089Z"
   },
   {
    "duration": 19,
    "start_time": "2024-05-16T19:22:23.100Z"
   },
   {
    "duration": 17,
    "start_time": "2024-05-16T19:22:23.121Z"
   },
   {
    "duration": 16,
    "start_time": "2024-05-16T19:22:23.139Z"
   },
   {
    "duration": 17,
    "start_time": "2024-05-16T19:22:23.157Z"
   },
   {
    "duration": 647,
    "start_time": "2024-05-16T19:22:23.175Z"
   },
   {
    "duration": 389,
    "start_time": "2024-05-16T19:22:23.823Z"
   },
   {
    "duration": 388,
    "start_time": "2024-05-16T19:22:24.214Z"
   },
   {
    "duration": 375,
    "start_time": "2024-05-16T19:22:24.603Z"
   },
   {
    "duration": 363,
    "start_time": "2024-05-16T19:22:24.979Z"
   },
   {
    "duration": 388,
    "start_time": "2024-05-16T19:22:25.343Z"
   },
   {
    "duration": 5,
    "start_time": "2024-05-16T19:22:25.734Z"
   },
   {
    "duration": 301,
    "start_time": "2024-05-16T19:22:25.740Z"
   },
   {
    "duration": 1678,
    "start_time": "2024-05-16T19:22:26.043Z"
   },
   {
    "duration": 95,
    "start_time": "2024-05-16T19:22:27.817Z"
   },
   {
    "duration": 6,
    "start_time": "2024-05-16T19:22:27.913Z"
   },
   {
    "duration": 15,
    "start_time": "2024-05-16T19:22:27.921Z"
   },
   {
    "duration": 3,
    "start_time": "2024-05-16T19:22:27.937Z"
   },
   {
    "duration": 13,
    "start_time": "2024-05-16T19:22:27.941Z"
   },
   {
    "duration": 3,
    "start_time": "2024-05-16T19:22:27.955Z"
   },
   {
    "duration": 3,
    "start_time": "2024-05-16T19:22:27.959Z"
   },
   {
    "duration": 6,
    "start_time": "2024-05-16T19:22:27.963Z"
   },
   {
    "duration": 61,
    "start_time": "2024-05-16T19:22:27.970Z"
   },
   {
    "duration": 2,
    "start_time": "2024-05-16T19:22:28.032Z"
   },
   {
    "duration": 4,
    "start_time": "2024-05-16T19:22:28.035Z"
   },
   {
    "duration": 39888,
    "start_time": "2024-05-16T19:22:28.040Z"
   },
   {
    "duration": 2,
    "start_time": "2024-05-16T19:23:07.930Z"
   },
   {
    "duration": 57,
    "start_time": "2024-05-16T19:23:07.933Z"
   },
   {
    "duration": 24,
    "start_time": "2024-05-16T19:23:07.992Z"
   },
   {
    "duration": 6,
    "start_time": "2024-05-16T19:23:08.018Z"
   },
   {
    "duration": 7,
    "start_time": "2024-05-16T19:23:08.027Z"
   },
   {
    "duration": 378,
    "start_time": "2024-05-16T19:23:08.036Z"
   },
   {
    "duration": 1378,
    "start_time": "2024-05-16T19:23:19.710Z"
   },
   {
    "duration": 43,
    "start_time": "2024-05-16T19:23:21.090Z"
   },
   {
    "duration": 10,
    "start_time": "2024-05-16T19:23:21.134Z"
   },
   {
    "duration": 10,
    "start_time": "2024-05-16T19:23:21.145Z"
   },
   {
    "duration": 14,
    "start_time": "2024-05-16T19:23:21.157Z"
   },
   {
    "duration": 5,
    "start_time": "2024-05-16T19:23:21.172Z"
   },
   {
    "duration": 10,
    "start_time": "2024-05-16T19:23:21.178Z"
   },
   {
    "duration": 669,
    "start_time": "2024-05-16T19:23:21.189Z"
   },
   {
    "duration": 381,
    "start_time": "2024-05-16T19:23:21.860Z"
   },
   {
    "duration": 402,
    "start_time": "2024-05-16T19:23:22.243Z"
   },
   {
    "duration": 413,
    "start_time": "2024-05-16T19:23:22.647Z"
   },
   {
    "duration": 376,
    "start_time": "2024-05-16T19:23:23.062Z"
   },
   {
    "duration": 403,
    "start_time": "2024-05-16T19:23:23.440Z"
   },
   {
    "duration": 5,
    "start_time": "2024-05-16T19:23:23.846Z"
   },
   {
    "duration": 297,
    "start_time": "2024-05-16T19:23:23.852Z"
   },
   {
    "duration": 1570,
    "start_time": "2024-05-16T19:23:24.150Z"
   },
   {
    "duration": 5,
    "start_time": "2024-05-16T19:23:25.815Z"
   },
   {
    "duration": 96,
    "start_time": "2024-05-16T19:23:25.822Z"
   },
   {
    "duration": 15,
    "start_time": "2024-05-16T19:23:25.919Z"
   },
   {
    "duration": 3,
    "start_time": "2024-05-16T19:23:25.935Z"
   },
   {
    "duration": 9,
    "start_time": "2024-05-16T19:23:25.940Z"
   },
   {
    "duration": 3,
    "start_time": "2024-05-16T19:23:25.950Z"
   },
   {
    "duration": 4,
    "start_time": "2024-05-16T19:23:25.954Z"
   },
   {
    "duration": 3,
    "start_time": "2024-05-16T19:23:25.959Z"
   },
   {
    "duration": 69,
    "start_time": "2024-05-16T19:23:25.964Z"
   },
   {
    "duration": 2,
    "start_time": "2024-05-16T19:23:26.034Z"
   },
   {
    "duration": 7,
    "start_time": "2024-05-16T19:23:26.038Z"
   },
   {
    "duration": 25091,
    "start_time": "2024-05-16T19:23:26.047Z"
   },
   {
    "duration": 2,
    "start_time": "2024-05-16T19:23:51.140Z"
   },
   {
    "duration": 37,
    "start_time": "2024-05-16T19:23:51.144Z"
   },
   {
    "duration": 9,
    "start_time": "2024-05-16T19:23:51.182Z"
   },
   {
    "duration": 23,
    "start_time": "2024-05-16T19:23:51.192Z"
   },
   {
    "duration": 1327,
    "start_time": "2024-05-16T19:25:18.860Z"
   },
   {
    "duration": 42,
    "start_time": "2024-05-16T19:25:20.189Z"
   },
   {
    "duration": 9,
    "start_time": "2024-05-16T19:25:20.232Z"
   },
   {
    "duration": 14,
    "start_time": "2024-05-16T19:25:20.243Z"
   },
   {
    "duration": 24,
    "start_time": "2024-05-16T19:25:20.258Z"
   },
   {
    "duration": 14,
    "start_time": "2024-05-16T19:25:20.283Z"
   },
   {
    "duration": 27,
    "start_time": "2024-05-16T19:25:20.298Z"
   },
   {
    "duration": 631,
    "start_time": "2024-05-16T19:25:20.327Z"
   },
   {
    "duration": 376,
    "start_time": "2024-05-16T19:25:20.960Z"
   },
   {
    "duration": 405,
    "start_time": "2024-05-16T19:25:21.338Z"
   },
   {
    "duration": 389,
    "start_time": "2024-05-16T19:25:21.744Z"
   },
   {
    "duration": 391,
    "start_time": "2024-05-16T19:25:22.134Z"
   },
   {
    "duration": 408,
    "start_time": "2024-05-16T19:25:22.526Z"
   },
   {
    "duration": 5,
    "start_time": "2024-05-16T19:25:22.935Z"
   },
   {
    "duration": 297,
    "start_time": "2024-05-16T19:25:22.941Z"
   },
   {
    "duration": 1771,
    "start_time": "2024-05-16T19:25:23.240Z"
   },
   {
    "duration": 4,
    "start_time": "2024-05-16T19:25:25.013Z"
   },
   {
    "duration": 4,
    "start_time": "2024-05-16T19:25:25.112Z"
   },
   {
    "duration": 13,
    "start_time": "2024-05-16T19:25:25.117Z"
   },
   {
    "duration": 4,
    "start_time": "2024-05-16T19:25:25.131Z"
   },
   {
    "duration": 8,
    "start_time": "2024-05-16T19:25:25.137Z"
   },
   {
    "duration": 7,
    "start_time": "2024-05-16T19:25:25.146Z"
   },
   {
    "duration": 10,
    "start_time": "2024-05-16T19:25:25.155Z"
   },
   {
    "duration": 4,
    "start_time": "2024-05-16T19:25:25.166Z"
   },
   {
    "duration": 70,
    "start_time": "2024-05-16T19:25:25.172Z"
   },
   {
    "duration": 3,
    "start_time": "2024-05-16T19:25:25.243Z"
   },
   {
    "duration": 6,
    "start_time": "2024-05-16T19:25:25.247Z"
   },
   {
    "duration": 43501,
    "start_time": "2024-05-16T19:25:25.256Z"
   },
   {
    "duration": 3,
    "start_time": "2024-05-16T19:26:08.758Z"
   },
   {
    "duration": 71,
    "start_time": "2024-05-16T19:26:08.762Z"
   },
   {
    "duration": 13,
    "start_time": "2024-05-16T19:26:08.835Z"
   },
   {
    "duration": 10,
    "start_time": "2024-05-16T19:26:08.850Z"
   },
   {
    "duration": 138,
    "start_time": "2024-05-16T19:34:52.674Z"
   },
   {
    "duration": 1344,
    "start_time": "2024-05-16T19:34:57.639Z"
   },
   {
    "duration": 43,
    "start_time": "2024-05-16T19:34:58.984Z"
   },
   {
    "duration": 10,
    "start_time": "2024-05-16T19:34:59.028Z"
   },
   {
    "duration": 16,
    "start_time": "2024-05-16T19:34:59.039Z"
   },
   {
    "duration": 13,
    "start_time": "2024-05-16T19:34:59.057Z"
   },
   {
    "duration": 13,
    "start_time": "2024-05-16T19:34:59.071Z"
   },
   {
    "duration": 7,
    "start_time": "2024-05-16T19:34:59.086Z"
   },
   {
    "duration": 655,
    "start_time": "2024-05-16T19:34:59.095Z"
   },
   {
    "duration": 377,
    "start_time": "2024-05-16T19:34:59.751Z"
   },
   {
    "duration": 416,
    "start_time": "2024-05-16T19:35:00.130Z"
   },
   {
    "duration": 391,
    "start_time": "2024-05-16T19:35:00.547Z"
   },
   {
    "duration": 386,
    "start_time": "2024-05-16T19:35:00.939Z"
   },
   {
    "duration": 409,
    "start_time": "2024-05-16T19:35:01.326Z"
   },
   {
    "duration": 10,
    "start_time": "2024-05-16T19:35:01.737Z"
   },
   {
    "duration": 67,
    "start_time": "2024-05-16T19:35:01.748Z"
   },
   {
    "duration": 353,
    "start_time": "2024-05-16T19:35:01.817Z"
   },
   {
    "duration": 1749,
    "start_time": "2024-05-16T19:35:02.171Z"
   },
   {
    "duration": 92,
    "start_time": "2024-05-16T19:35:03.921Z"
   },
   {
    "duration": 108,
    "start_time": "2024-05-16T19:35:04.015Z"
   },
   {
    "duration": 30,
    "start_time": "2024-05-16T19:35:04.124Z"
   },
   {
    "duration": 3,
    "start_time": "2024-05-16T19:35:04.156Z"
   },
   {
    "duration": 6,
    "start_time": "2024-05-16T19:35:04.160Z"
   },
   {
    "duration": 15,
    "start_time": "2024-05-16T19:35:04.168Z"
   },
   {
    "duration": 5,
    "start_time": "2024-05-16T19:35:04.184Z"
   },
   {
    "duration": 21,
    "start_time": "2024-05-16T19:35:04.190Z"
   },
   {
    "duration": 57,
    "start_time": "2024-05-16T19:35:04.212Z"
   },
   {
    "duration": 3,
    "start_time": "2024-05-16T19:35:04.270Z"
   },
   {
    "duration": 4,
    "start_time": "2024-05-16T19:35:04.274Z"
   },
   {
    "duration": 29505,
    "start_time": "2024-05-16T19:35:04.279Z"
   },
   {
    "duration": 2,
    "start_time": "2024-05-16T19:35:33.785Z"
   },
   {
    "duration": 62,
    "start_time": "2024-05-16T19:35:33.789Z"
   },
   {
    "duration": 14,
    "start_time": "2024-05-16T19:35:33.853Z"
   },
   {
    "duration": 19,
    "start_time": "2024-05-16T19:35:33.868Z"
   },
   {
    "duration": 5,
    "start_time": "2024-05-16T19:40:02.922Z"
   },
   {
    "duration": 120,
    "start_time": "2024-05-16T19:42:36.292Z"
   },
   {
    "duration": 585,
    "start_time": "2024-05-16T19:42:41.892Z"
   },
   {
    "duration": 590,
    "start_time": "2024-05-16T19:43:10.149Z"
   },
   {
    "duration": 1495,
    "start_time": "2024-05-16T19:46:04.418Z"
   },
   {
    "duration": 61,
    "start_time": "2024-05-16T19:49:48.378Z"
   },
   {
    "duration": 1344,
    "start_time": "2024-05-16T20:09:56.445Z"
   },
   {
    "duration": 43,
    "start_time": "2024-05-16T20:09:57.790Z"
   },
   {
    "duration": 9,
    "start_time": "2024-05-16T20:09:57.834Z"
   },
   {
    "duration": 10,
    "start_time": "2024-05-16T20:09:57.845Z"
   },
   {
    "duration": 13,
    "start_time": "2024-05-16T20:09:57.856Z"
   },
   {
    "duration": 5,
    "start_time": "2024-05-16T20:09:57.870Z"
   },
   {
    "duration": 4,
    "start_time": "2024-05-16T20:09:57.876Z"
   },
   {
    "duration": 649,
    "start_time": "2024-05-16T20:09:57.881Z"
   },
   {
    "duration": 389,
    "start_time": "2024-05-16T20:09:58.531Z"
   },
   {
    "duration": 396,
    "start_time": "2024-05-16T20:09:58.923Z"
   },
   {
    "duration": 396,
    "start_time": "2024-05-16T20:09:59.320Z"
   },
   {
    "duration": 370,
    "start_time": "2024-05-16T20:09:59.718Z"
   },
   {
    "duration": 368,
    "start_time": "2024-05-16T20:10:00.089Z"
   },
   {
    "duration": 6,
    "start_time": "2024-05-16T20:10:00.458Z"
   },
   {
    "duration": 362,
    "start_time": "2024-05-16T20:10:00.465Z"
   },
   {
    "duration": 1792,
    "start_time": "2024-05-16T20:10:00.828Z"
   },
   {
    "duration": 91,
    "start_time": "2024-05-16T20:10:02.622Z"
   },
   {
    "duration": 6,
    "start_time": "2024-05-16T20:10:02.715Z"
   },
   {
    "duration": 15,
    "start_time": "2024-05-16T20:10:02.812Z"
   },
   {
    "duration": 4,
    "start_time": "2024-05-16T20:10:02.828Z"
   },
   {
    "duration": 9,
    "start_time": "2024-05-16T20:10:02.833Z"
   },
   {
    "duration": 3,
    "start_time": "2024-05-16T20:10:02.844Z"
   },
   {
    "duration": 6,
    "start_time": "2024-05-16T20:10:02.848Z"
   },
   {
    "duration": 5,
    "start_time": "2024-05-16T20:10:02.855Z"
   },
   {
    "duration": 56,
    "start_time": "2024-05-16T20:10:02.861Z"
   },
   {
    "duration": 2,
    "start_time": "2024-05-16T20:10:02.918Z"
   },
   {
    "duration": 23,
    "start_time": "2024-05-16T20:10:02.922Z"
   },
   {
    "duration": 25940,
    "start_time": "2024-05-16T20:10:02.948Z"
   },
   {
    "duration": 3,
    "start_time": "2024-05-16T20:10:28.889Z"
   },
   {
    "duration": 15,
    "start_time": "2024-05-16T20:10:28.893Z"
   },
   {
    "duration": 569,
    "start_time": "2024-05-16T20:10:28.909Z"
   },
   {
    "duration": 6,
    "start_time": "2024-05-16T20:10:29.480Z"
   },
   {
    "duration": 1374,
    "start_time": "2024-05-16T20:14:01.614Z"
   },
   {
    "duration": 43,
    "start_time": "2024-05-16T20:14:02.989Z"
   },
   {
    "duration": 9,
    "start_time": "2024-05-16T20:14:03.034Z"
   },
   {
    "duration": 10,
    "start_time": "2024-05-16T20:14:03.044Z"
   },
   {
    "duration": 14,
    "start_time": "2024-05-16T20:14:03.056Z"
   },
   {
    "duration": 5,
    "start_time": "2024-05-16T20:14:03.072Z"
   },
   {
    "duration": 4,
    "start_time": "2024-05-16T20:14:03.079Z"
   },
   {
    "duration": 718,
    "start_time": "2024-05-16T20:14:03.084Z"
   },
   {
    "duration": 364,
    "start_time": "2024-05-16T20:14:03.804Z"
   },
   {
    "duration": 379,
    "start_time": "2024-05-16T20:14:04.170Z"
   },
   {
    "duration": 389,
    "start_time": "2024-05-16T20:14:04.550Z"
   },
   {
    "duration": 384,
    "start_time": "2024-05-16T20:14:04.941Z"
   },
   {
    "duration": 401,
    "start_time": "2024-05-16T20:14:05.326Z"
   },
   {
    "duration": 6,
    "start_time": "2024-05-16T20:14:05.729Z"
   },
   {
    "duration": 304,
    "start_time": "2024-05-16T20:14:05.736Z"
   },
   {
    "duration": 1578,
    "start_time": "2024-05-16T20:14:06.041Z"
   },
   {
    "duration": 94,
    "start_time": "2024-05-16T20:14:07.622Z"
   },
   {
    "duration": 92,
    "start_time": "2024-05-16T20:14:07.721Z"
   },
   {
    "duration": 14,
    "start_time": "2024-05-16T20:14:07.815Z"
   },
   {
    "duration": 3,
    "start_time": "2024-05-16T20:14:07.831Z"
   },
   {
    "duration": 13,
    "start_time": "2024-05-16T20:14:07.835Z"
   },
   {
    "duration": 3,
    "start_time": "2024-05-16T20:14:07.849Z"
   },
   {
    "duration": 4,
    "start_time": "2024-05-16T20:14:07.853Z"
   },
   {
    "duration": 13,
    "start_time": "2024-05-16T20:14:07.858Z"
   },
   {
    "duration": 2341,
    "start_time": "2024-05-16T20:14:07.872Z"
   },
   {
    "duration": 3,
    "start_time": "2024-05-16T20:14:10.215Z"
   },
   {
    "duration": 3,
    "start_time": "2024-05-16T20:14:10.219Z"
   },
   {
    "duration": 146,
    "start_time": "2024-05-16T20:14:10.223Z"
   },
   {
    "duration": 0,
    "start_time": "2024-05-16T20:14:10.371Z"
   },
   {
    "duration": 0,
    "start_time": "2024-05-16T20:14:10.372Z"
   },
   {
    "duration": 0,
    "start_time": "2024-05-16T20:14:10.373Z"
   },
   {
    "duration": 0,
    "start_time": "2024-05-16T20:14:10.374Z"
   },
   {
    "duration": 1383,
    "start_time": "2024-05-16T20:14:40.406Z"
   },
   {
    "duration": 42,
    "start_time": "2024-05-16T20:14:41.791Z"
   },
   {
    "duration": 9,
    "start_time": "2024-05-16T20:14:41.835Z"
   },
   {
    "duration": 10,
    "start_time": "2024-05-16T20:14:41.845Z"
   },
   {
    "duration": 19,
    "start_time": "2024-05-16T20:14:41.856Z"
   },
   {
    "duration": 18,
    "start_time": "2024-05-16T20:14:41.876Z"
   },
   {
    "duration": 4,
    "start_time": "2024-05-16T20:14:41.895Z"
   },
   {
    "duration": 637,
    "start_time": "2024-05-16T20:14:41.901Z"
   },
   {
    "duration": 382,
    "start_time": "2024-05-16T20:14:42.539Z"
   },
   {
    "duration": 411,
    "start_time": "2024-05-16T20:14:42.923Z"
   },
   {
    "duration": 416,
    "start_time": "2024-05-16T20:14:43.336Z"
   },
   {
    "duration": 376,
    "start_time": "2024-05-16T20:14:43.753Z"
   },
   {
    "duration": 399,
    "start_time": "2024-05-16T20:14:44.131Z"
   },
   {
    "duration": 5,
    "start_time": "2024-05-16T20:14:44.531Z"
   },
   {
    "duration": 295,
    "start_time": "2024-05-16T20:14:44.538Z"
   },
   {
    "duration": 1685,
    "start_time": "2024-05-16T20:14:44.835Z"
   },
   {
    "duration": 8,
    "start_time": "2024-05-16T20:14:46.611Z"
   },
   {
    "duration": 92,
    "start_time": "2024-05-16T20:14:46.621Z"
   },
   {
    "duration": 12,
    "start_time": "2024-05-16T20:14:46.714Z"
   },
   {
    "duration": 4,
    "start_time": "2024-05-16T20:14:46.727Z"
   },
   {
    "duration": 5,
    "start_time": "2024-05-16T20:14:46.732Z"
   },
   {
    "duration": 6,
    "start_time": "2024-05-16T20:14:46.738Z"
   },
   {
    "duration": 3,
    "start_time": "2024-05-16T20:14:46.746Z"
   },
   {
    "duration": 3,
    "start_time": "2024-05-16T20:14:46.751Z"
   },
   {
    "duration": 2273,
    "start_time": "2024-05-16T20:14:46.755Z"
   },
   {
    "duration": 3,
    "start_time": "2024-05-16T20:14:49.029Z"
   },
   {
    "duration": 12,
    "start_time": "2024-05-16T20:14:49.033Z"
   },
   {
    "duration": 143,
    "start_time": "2024-05-16T20:14:49.047Z"
   },
   {
    "duration": 0,
    "start_time": "2024-05-16T20:14:49.192Z"
   },
   {
    "duration": 0,
    "start_time": "2024-05-16T20:14:49.193Z"
   },
   {
    "duration": 0,
    "start_time": "2024-05-16T20:14:49.194Z"
   },
   {
    "duration": 0,
    "start_time": "2024-05-16T20:14:49.195Z"
   },
   {
    "duration": 1336,
    "start_time": "2024-05-16T20:16:45.759Z"
   },
   {
    "duration": 43,
    "start_time": "2024-05-16T20:16:47.097Z"
   },
   {
    "duration": 9,
    "start_time": "2024-05-16T20:16:47.141Z"
   },
   {
    "duration": 10,
    "start_time": "2024-05-16T20:16:47.152Z"
   },
   {
    "duration": 14,
    "start_time": "2024-05-16T20:16:47.163Z"
   },
   {
    "duration": 5,
    "start_time": "2024-05-16T20:16:47.178Z"
   },
   {
    "duration": 5,
    "start_time": "2024-05-16T20:16:47.184Z"
   },
   {
    "duration": 664,
    "start_time": "2024-05-16T20:16:47.190Z"
   },
   {
    "duration": 376,
    "start_time": "2024-05-16T20:16:47.855Z"
   },
   {
    "duration": 402,
    "start_time": "2024-05-16T20:16:48.233Z"
   },
   {
    "duration": 397,
    "start_time": "2024-05-16T20:16:48.636Z"
   },
   {
    "duration": 389,
    "start_time": "2024-05-16T20:16:49.034Z"
   },
   {
    "duration": 409,
    "start_time": "2024-05-16T20:16:49.425Z"
   },
   {
    "duration": 5,
    "start_time": "2024-05-16T20:16:49.836Z"
   },
   {
    "duration": 299,
    "start_time": "2024-05-16T20:16:49.842Z"
   },
   {
    "duration": 1678,
    "start_time": "2024-05-16T20:16:50.142Z"
   },
   {
    "duration": 95,
    "start_time": "2024-05-16T20:16:51.821Z"
   },
   {
    "duration": 96,
    "start_time": "2024-05-16T20:16:51.921Z"
   },
   {
    "duration": 16,
    "start_time": "2024-05-16T20:16:52.018Z"
   },
   {
    "duration": 4,
    "start_time": "2024-05-16T20:16:52.035Z"
   },
   {
    "duration": 5,
    "start_time": "2024-05-16T20:16:52.040Z"
   },
   {
    "duration": 7,
    "start_time": "2024-05-16T20:16:52.046Z"
   },
   {
    "duration": 8,
    "start_time": "2024-05-16T20:16:52.054Z"
   },
   {
    "duration": 5,
    "start_time": "2024-05-16T20:16:52.063Z"
   },
   {
    "duration": 2470,
    "start_time": "2024-05-16T20:16:52.069Z"
   },
   {
    "duration": 2,
    "start_time": "2024-05-16T20:16:54.541Z"
   },
   {
    "duration": 13,
    "start_time": "2024-05-16T20:16:54.544Z"
   },
   {
    "duration": 138,
    "start_time": "2024-05-16T20:16:54.560Z"
   },
   {
    "duration": 0,
    "start_time": "2024-05-16T20:16:54.699Z"
   },
   {
    "duration": 0,
    "start_time": "2024-05-16T20:16:54.700Z"
   },
   {
    "duration": 0,
    "start_time": "2024-05-16T20:16:54.701Z"
   },
   {
    "duration": 0,
    "start_time": "2024-05-16T20:16:54.702Z"
   },
   {
    "duration": 2350,
    "start_time": "2024-05-16T20:17:50.298Z"
   },
   {
    "duration": 1376,
    "start_time": "2024-05-16T20:18:00.924Z"
   },
   {
    "duration": 43,
    "start_time": "2024-05-16T20:18:02.302Z"
   },
   {
    "duration": 10,
    "start_time": "2024-05-16T20:18:02.347Z"
   },
   {
    "duration": 14,
    "start_time": "2024-05-16T20:18:02.359Z"
   },
   {
    "duration": 13,
    "start_time": "2024-05-16T20:18:02.374Z"
   },
   {
    "duration": 6,
    "start_time": "2024-05-16T20:18:02.389Z"
   },
   {
    "duration": 6,
    "start_time": "2024-05-16T20:18:02.396Z"
   },
   {
    "duration": 655,
    "start_time": "2024-05-16T20:18:02.403Z"
   },
   {
    "duration": 375,
    "start_time": "2024-05-16T20:18:03.060Z"
   },
   {
    "duration": 417,
    "start_time": "2024-05-16T20:18:03.437Z"
   },
   {
    "duration": 385,
    "start_time": "2024-05-16T20:18:03.856Z"
   },
   {
    "duration": 376,
    "start_time": "2024-05-16T20:18:04.243Z"
   },
   {
    "duration": 408,
    "start_time": "2024-05-16T20:18:04.621Z"
   },
   {
    "duration": 7,
    "start_time": "2024-05-16T20:18:05.030Z"
   },
   {
    "duration": 308,
    "start_time": "2024-05-16T20:18:05.039Z"
   },
   {
    "duration": 1572,
    "start_time": "2024-05-16T20:18:05.349Z"
   },
   {
    "duration": 4,
    "start_time": "2024-05-16T20:18:07.013Z"
   },
   {
    "duration": 96,
    "start_time": "2024-05-16T20:18:07.019Z"
   },
   {
    "duration": 15,
    "start_time": "2024-05-16T20:18:07.117Z"
   },
   {
    "duration": 4,
    "start_time": "2024-05-16T20:18:07.133Z"
   },
   {
    "duration": 10,
    "start_time": "2024-05-16T20:18:07.139Z"
   },
   {
    "duration": 3,
    "start_time": "2024-05-16T20:18:07.151Z"
   },
   {
    "duration": 20,
    "start_time": "2024-05-16T20:18:07.155Z"
   },
   {
    "duration": 6,
    "start_time": "2024-05-16T20:18:07.177Z"
   },
   {
    "duration": 2344,
    "start_time": "2024-05-16T20:18:07.185Z"
   },
   {
    "duration": 3,
    "start_time": "2024-05-16T20:18:09.530Z"
   },
   {
    "duration": 4,
    "start_time": "2024-05-16T20:18:09.534Z"
   },
   {
    "duration": 136,
    "start_time": "2024-05-16T20:18:09.541Z"
   },
   {
    "duration": 0,
    "start_time": "2024-05-16T20:18:09.678Z"
   },
   {
    "duration": 0,
    "start_time": "2024-05-16T20:18:09.679Z"
   },
   {
    "duration": 0,
    "start_time": "2024-05-16T20:18:09.680Z"
   },
   {
    "duration": 0,
    "start_time": "2024-05-16T20:18:09.682Z"
   },
   {
    "duration": 1335,
    "start_time": "2024-05-16T20:18:27.754Z"
   },
   {
    "duration": 43,
    "start_time": "2024-05-16T20:18:29.090Z"
   },
   {
    "duration": 9,
    "start_time": "2024-05-16T20:18:29.135Z"
   },
   {
    "duration": 14,
    "start_time": "2024-05-16T20:18:29.146Z"
   },
   {
    "duration": 13,
    "start_time": "2024-05-16T20:18:29.161Z"
   },
   {
    "duration": 5,
    "start_time": "2024-05-16T20:18:29.176Z"
   },
   {
    "duration": 4,
    "start_time": "2024-05-16T20:18:29.182Z"
   },
   {
    "duration": 663,
    "start_time": "2024-05-16T20:18:29.187Z"
   },
   {
    "duration": 389,
    "start_time": "2024-05-16T20:18:29.851Z"
   },
   {
    "duration": 403,
    "start_time": "2024-05-16T20:18:30.243Z"
   },
   {
    "duration": 403,
    "start_time": "2024-05-16T20:18:30.647Z"
   },
   {
    "duration": 381,
    "start_time": "2024-05-16T20:18:31.051Z"
   },
   {
    "duration": 410,
    "start_time": "2024-05-16T20:18:31.433Z"
   },
   {
    "duration": 5,
    "start_time": "2024-05-16T20:18:31.845Z"
   },
   {
    "duration": 302,
    "start_time": "2024-05-16T20:18:31.851Z"
   },
   {
    "duration": 1666,
    "start_time": "2024-05-16T20:18:32.154Z"
   },
   {
    "duration": 91,
    "start_time": "2024-05-16T20:18:33.822Z"
   },
   {
    "duration": 5,
    "start_time": "2024-05-16T20:18:33.915Z"
   },
   {
    "duration": 11,
    "start_time": "2024-05-16T20:18:34.012Z"
   },
   {
    "duration": 3,
    "start_time": "2024-05-16T20:18:34.025Z"
   },
   {
    "duration": 4,
    "start_time": "2024-05-16T20:18:34.030Z"
   },
   {
    "duration": 4,
    "start_time": "2024-05-16T20:18:34.035Z"
   },
   {
    "duration": 3,
    "start_time": "2024-05-16T20:18:34.040Z"
   },
   {
    "duration": 13,
    "start_time": "2024-05-16T20:18:34.044Z"
   },
   {
    "duration": 60,
    "start_time": "2024-05-16T20:18:34.059Z"
   },
   {
    "duration": 2,
    "start_time": "2024-05-16T20:18:34.121Z"
   },
   {
    "duration": 9,
    "start_time": "2024-05-16T20:18:34.124Z"
   },
   {
    "duration": 143,
    "start_time": "2024-05-16T20:18:34.136Z"
   },
   {
    "duration": 0,
    "start_time": "2024-05-16T20:18:34.280Z"
   },
   {
    "duration": 0,
    "start_time": "2024-05-16T20:18:34.282Z"
   },
   {
    "duration": 0,
    "start_time": "2024-05-16T20:18:34.283Z"
   },
   {
    "duration": 0,
    "start_time": "2024-05-16T20:18:34.284Z"
   },
   {
    "duration": 1403,
    "start_time": "2024-05-16T20:18:59.187Z"
   },
   {
    "duration": 44,
    "start_time": "2024-05-16T20:19:00.592Z"
   },
   {
    "duration": 43,
    "start_time": "2024-05-16T20:19:00.637Z"
   },
   {
    "duration": 66,
    "start_time": "2024-05-16T20:19:00.682Z"
   },
   {
    "duration": 73,
    "start_time": "2024-05-16T20:19:00.749Z"
   },
   {
    "duration": 36,
    "start_time": "2024-05-16T20:19:00.824Z"
   },
   {
    "duration": 50,
    "start_time": "2024-05-16T20:19:00.862Z"
   },
   {
    "duration": 648,
    "start_time": "2024-05-16T20:19:00.914Z"
   },
   {
    "duration": 381,
    "start_time": "2024-05-16T20:19:01.563Z"
   },
   {
    "duration": 396,
    "start_time": "2024-05-16T20:19:01.946Z"
   },
   {
    "duration": 397,
    "start_time": "2024-05-16T20:19:02.343Z"
   },
   {
    "duration": 385,
    "start_time": "2024-05-16T20:19:02.742Z"
   },
   {
    "duration": 410,
    "start_time": "2024-05-16T20:19:03.128Z"
   },
   {
    "duration": 5,
    "start_time": "2024-05-16T20:19:03.539Z"
   },
   {
    "duration": 342,
    "start_time": "2024-05-16T20:19:03.546Z"
   },
   {
    "duration": 1630,
    "start_time": "2024-05-16T20:19:03.890Z"
   },
   {
    "duration": 5,
    "start_time": "2024-05-16T20:19:05.612Z"
   },
   {
    "duration": 91,
    "start_time": "2024-05-16T20:19:05.622Z"
   },
   {
    "duration": 18,
    "start_time": "2024-05-16T20:19:05.714Z"
   },
   {
    "duration": 4,
    "start_time": "2024-05-16T20:19:05.733Z"
   },
   {
    "duration": 21,
    "start_time": "2024-05-16T20:19:05.738Z"
   },
   {
    "duration": 5,
    "start_time": "2024-05-16T20:19:05.760Z"
   },
   {
    "duration": 8,
    "start_time": "2024-05-16T20:19:05.766Z"
   },
   {
    "duration": 10,
    "start_time": "2024-05-16T20:19:05.775Z"
   },
   {
    "duration": 51,
    "start_time": "2024-05-16T20:19:05.786Z"
   },
   {
    "duration": 3,
    "start_time": "2024-05-16T20:19:05.838Z"
   },
   {
    "duration": 12,
    "start_time": "2024-05-16T20:19:05.842Z"
   },
   {
    "duration": 137,
    "start_time": "2024-05-16T20:19:05.857Z"
   },
   {
    "duration": 0,
    "start_time": "2024-05-16T20:19:05.996Z"
   },
   {
    "duration": 0,
    "start_time": "2024-05-16T20:19:05.997Z"
   },
   {
    "duration": 0,
    "start_time": "2024-05-16T20:19:05.998Z"
   },
   {
    "duration": 0,
    "start_time": "2024-05-16T20:19:05.999Z"
   },
   {
    "duration": 1326,
    "start_time": "2024-05-16T20:19:40.255Z"
   },
   {
    "duration": 43,
    "start_time": "2024-05-16T20:19:41.583Z"
   },
   {
    "duration": 11,
    "start_time": "2024-05-16T20:19:41.627Z"
   },
   {
    "duration": 10,
    "start_time": "2024-05-16T20:19:41.639Z"
   },
   {
    "duration": 14,
    "start_time": "2024-05-16T20:19:41.650Z"
   },
   {
    "duration": 5,
    "start_time": "2024-05-16T20:19:41.665Z"
   },
   {
    "duration": 5,
    "start_time": "2024-05-16T20:19:41.671Z"
   },
   {
    "duration": 665,
    "start_time": "2024-05-16T20:19:41.677Z"
   },
   {
    "duration": 381,
    "start_time": "2024-05-16T20:19:42.343Z"
   },
   {
    "duration": 412,
    "start_time": "2024-05-16T20:19:42.726Z"
   },
   {
    "duration": 395,
    "start_time": "2024-05-16T20:19:43.140Z"
   },
   {
    "duration": 393,
    "start_time": "2024-05-16T20:19:43.536Z"
   },
   {
    "duration": 402,
    "start_time": "2024-05-16T20:19:43.931Z"
   },
   {
    "duration": 6,
    "start_time": "2024-05-16T20:19:44.335Z"
   },
   {
    "duration": 296,
    "start_time": "2024-05-16T20:19:44.342Z"
   },
   {
    "duration": 1572,
    "start_time": "2024-05-16T20:19:44.640Z"
   },
   {
    "duration": 4,
    "start_time": "2024-05-16T20:19:46.214Z"
   },
   {
    "duration": 93,
    "start_time": "2024-05-16T20:19:46.220Z"
   },
   {
    "duration": 13,
    "start_time": "2024-05-16T20:19:46.315Z"
   },
   {
    "duration": 4,
    "start_time": "2024-05-16T20:19:46.329Z"
   },
   {
    "duration": 11,
    "start_time": "2024-05-16T20:19:46.335Z"
   },
   {
    "duration": 4,
    "start_time": "2024-05-16T20:19:46.348Z"
   },
   {
    "duration": 5,
    "start_time": "2024-05-16T20:19:46.354Z"
   },
   {
    "duration": 11,
    "start_time": "2024-05-16T20:19:46.360Z"
   },
   {
    "duration": 2334,
    "start_time": "2024-05-16T20:19:46.372Z"
   },
   {
    "duration": 2,
    "start_time": "2024-05-16T20:19:48.708Z"
   },
   {
    "duration": 3,
    "start_time": "2024-05-16T20:19:48.712Z"
   },
   {
    "duration": 25970,
    "start_time": "2024-05-16T20:19:48.719Z"
   },
   {
    "duration": 2,
    "start_time": "2024-05-16T20:20:14.690Z"
   },
   {
    "duration": 23,
    "start_time": "2024-05-16T20:20:14.693Z"
   },
   {
    "duration": 483,
    "start_time": "2024-05-16T20:20:14.718Z"
   },
   {
    "duration": 7,
    "start_time": "2024-05-16T20:20:15.203Z"
   },
   {
    "duration": 1402,
    "start_time": "2024-05-16T20:23:10.587Z"
   },
   {
    "duration": 42,
    "start_time": "2024-05-16T20:23:11.991Z"
   },
   {
    "duration": 9,
    "start_time": "2024-05-16T20:23:12.035Z"
   },
   {
    "duration": 10,
    "start_time": "2024-05-16T20:23:12.045Z"
   },
   {
    "duration": 14,
    "start_time": "2024-05-16T20:23:12.057Z"
   },
   {
    "duration": 5,
    "start_time": "2024-05-16T20:23:12.072Z"
   },
   {
    "duration": 12,
    "start_time": "2024-05-16T20:23:12.078Z"
   },
   {
    "duration": 647,
    "start_time": "2024-05-16T20:23:12.091Z"
   },
   {
    "duration": 387,
    "start_time": "2024-05-16T20:23:12.739Z"
   },
   {
    "duration": 409,
    "start_time": "2024-05-16T20:23:13.127Z"
   },
   {
    "duration": 405,
    "start_time": "2024-05-16T20:23:13.537Z"
   },
   {
    "duration": 383,
    "start_time": "2024-05-16T20:23:13.943Z"
   },
   {
    "duration": 412,
    "start_time": "2024-05-16T20:23:14.327Z"
   },
   {
    "duration": 7,
    "start_time": "2024-05-16T20:23:14.742Z"
   },
   {
    "duration": 297,
    "start_time": "2024-05-16T20:23:14.750Z"
   },
   {
    "duration": 1672,
    "start_time": "2024-05-16T20:23:15.048Z"
   },
   {
    "duration": 91,
    "start_time": "2024-05-16T20:23:16.722Z"
   },
   {
    "duration": 6,
    "start_time": "2024-05-16T20:23:16.815Z"
   },
   {
    "duration": 12,
    "start_time": "2024-05-16T20:23:16.913Z"
   },
   {
    "duration": 3,
    "start_time": "2024-05-16T20:23:16.926Z"
   },
   {
    "duration": 7,
    "start_time": "2024-05-16T20:23:16.931Z"
   },
   {
    "duration": 3,
    "start_time": "2024-05-16T20:23:16.939Z"
   },
   {
    "duration": 3,
    "start_time": "2024-05-16T20:23:16.943Z"
   },
   {
    "duration": 3,
    "start_time": "2024-05-16T20:23:16.947Z"
   },
   {
    "duration": 67,
    "start_time": "2024-05-16T20:23:16.951Z"
   },
   {
    "duration": 2,
    "start_time": "2024-05-16T20:23:17.020Z"
   },
   {
    "duration": 7,
    "start_time": "2024-05-16T20:23:17.024Z"
   },
   {
    "duration": 26147,
    "start_time": "2024-05-16T20:23:17.032Z"
   },
   {
    "duration": 2,
    "start_time": "2024-05-16T20:23:43.181Z"
   },
   {
    "duration": 5,
    "start_time": "2024-05-16T20:23:43.185Z"
   },
   {
    "duration": 485,
    "start_time": "2024-05-16T20:23:43.192Z"
   },
   {
    "duration": 7,
    "start_time": "2024-05-16T20:23:43.678Z"
   },
   {
    "duration": 1357,
    "start_time": "2024-05-16T20:26:32.931Z"
   },
   {
    "duration": 43,
    "start_time": "2024-05-16T20:26:34.290Z"
   },
   {
    "duration": 9,
    "start_time": "2024-05-16T20:26:34.334Z"
   },
   {
    "duration": 12,
    "start_time": "2024-05-16T20:26:34.345Z"
   },
   {
    "duration": 18,
    "start_time": "2024-05-16T20:26:34.358Z"
   },
   {
    "duration": 13,
    "start_time": "2024-05-16T20:26:34.377Z"
   },
   {
    "duration": 31,
    "start_time": "2024-05-16T20:26:34.391Z"
   },
   {
    "duration": 630,
    "start_time": "2024-05-16T20:26:34.424Z"
   },
   {
    "duration": 385,
    "start_time": "2024-05-16T20:26:35.055Z"
   },
   {
    "duration": 405,
    "start_time": "2024-05-16T20:26:35.442Z"
   },
   {
    "duration": 394,
    "start_time": "2024-05-16T20:26:35.849Z"
   },
   {
    "duration": 387,
    "start_time": "2024-05-16T20:26:36.244Z"
   },
   {
    "duration": 401,
    "start_time": "2024-05-16T20:26:36.633Z"
   },
   {
    "duration": 5,
    "start_time": "2024-05-16T20:26:37.036Z"
   },
   {
    "duration": 304,
    "start_time": "2024-05-16T20:26:37.042Z"
   },
   {
    "duration": 1672,
    "start_time": "2024-05-16T20:26:37.348Z"
   },
   {
    "duration": 92,
    "start_time": "2024-05-16T20:26:39.021Z"
   },
   {
    "duration": 99,
    "start_time": "2024-05-16T20:26:39.115Z"
   },
   {
    "duration": 14,
    "start_time": "2024-05-16T20:26:39.216Z"
   },
   {
    "duration": 10,
    "start_time": "2024-05-16T20:26:39.231Z"
   },
   {
    "duration": 5,
    "start_time": "2024-05-16T20:26:39.242Z"
   },
   {
    "duration": 4,
    "start_time": "2024-05-16T20:26:39.248Z"
   },
   {
    "duration": 4,
    "start_time": "2024-05-16T20:26:39.253Z"
   },
   {
    "duration": 6,
    "start_time": "2024-05-16T20:26:39.258Z"
   },
   {
    "duration": 59,
    "start_time": "2024-05-16T20:26:39.265Z"
   },
   {
    "duration": 3,
    "start_time": "2024-05-16T20:26:39.325Z"
   },
   {
    "duration": 5,
    "start_time": "2024-05-16T20:26:39.329Z"
   },
   {
    "duration": 56147,
    "start_time": "2024-05-16T20:26:39.336Z"
   },
   {
    "duration": 2,
    "start_time": "2024-05-16T20:27:35.485Z"
   },
   {
    "duration": 5,
    "start_time": "2024-05-16T20:27:35.488Z"
   },
   {
    "duration": 796,
    "start_time": "2024-05-16T20:27:35.494Z"
   },
   {
    "duration": 7,
    "start_time": "2024-05-16T20:27:36.292Z"
   },
   {
    "duration": 1426,
    "start_time": "2024-05-16T20:28:47.676Z"
   },
   {
    "duration": 43,
    "start_time": "2024-05-16T20:28:49.103Z"
   },
   {
    "duration": 9,
    "start_time": "2024-05-16T20:28:49.147Z"
   },
   {
    "duration": 10,
    "start_time": "2024-05-16T20:28:49.157Z"
   },
   {
    "duration": 14,
    "start_time": "2024-05-16T20:28:49.168Z"
   },
   {
    "duration": 5,
    "start_time": "2024-05-16T20:28:49.183Z"
   },
   {
    "duration": 8,
    "start_time": "2024-05-16T20:28:49.190Z"
   },
   {
    "duration": 650,
    "start_time": "2024-05-16T20:28:49.200Z"
   },
   {
    "duration": 376,
    "start_time": "2024-05-16T20:28:49.851Z"
   },
   {
    "duration": 407,
    "start_time": "2024-05-16T20:28:50.229Z"
   },
   {
    "duration": 397,
    "start_time": "2024-05-16T20:28:50.637Z"
   },
   {
    "duration": 387,
    "start_time": "2024-05-16T20:28:51.036Z"
   },
   {
    "duration": 401,
    "start_time": "2024-05-16T20:28:51.425Z"
   },
   {
    "duration": 7,
    "start_time": "2024-05-16T20:28:51.828Z"
   },
   {
    "duration": 308,
    "start_time": "2024-05-16T20:28:51.837Z"
   },
   {
    "duration": 1674,
    "start_time": "2024-05-16T20:28:52.147Z"
   },
   {
    "duration": 5,
    "start_time": "2024-05-16T20:28:53.914Z"
   },
   {
    "duration": 4,
    "start_time": "2024-05-16T20:28:54.012Z"
   },
   {
    "duration": 12,
    "start_time": "2024-05-16T20:28:54.018Z"
   },
   {
    "duration": 3,
    "start_time": "2024-05-16T20:28:54.032Z"
   },
   {
    "duration": 5,
    "start_time": "2024-05-16T20:28:54.037Z"
   },
   {
    "duration": 2,
    "start_time": "2024-05-16T20:28:54.044Z"
   },
   {
    "duration": 2,
    "start_time": "2024-05-16T20:28:54.048Z"
   },
   {
    "duration": 7,
    "start_time": "2024-05-16T20:28:54.052Z"
   },
   {
    "duration": 75,
    "start_time": "2024-05-16T20:28:54.060Z"
   },
   {
    "duration": 3,
    "start_time": "2024-05-16T20:28:54.136Z"
   },
   {
    "duration": 7,
    "start_time": "2024-05-16T20:28:54.140Z"
   },
   {
    "duration": 52778,
    "start_time": "2024-05-16T20:28:54.149Z"
   },
   {
    "duration": 3,
    "start_time": "2024-05-16T20:29:46.929Z"
   },
   {
    "duration": 6,
    "start_time": "2024-05-16T20:29:46.933Z"
   },
   {
    "duration": 791,
    "start_time": "2024-05-16T20:29:46.941Z"
   },
   {
    "duration": 8,
    "start_time": "2024-05-16T20:29:47.733Z"
   },
   {
    "duration": 14,
    "start_time": "2024-05-17T13:38:52.232Z"
   },
   {
    "duration": 3,
    "start_time": "2024-05-17T13:39:43.622Z"
   },
   {
    "duration": 2,
    "start_time": "2024-05-17T13:39:43.974Z"
   },
   {
    "duration": 3,
    "start_time": "2024-05-17T13:39:44.473Z"
   },
   {
    "duration": 3,
    "start_time": "2024-05-17T13:39:44.566Z"
   },
   {
    "duration": 3,
    "start_time": "2024-05-17T13:39:44.640Z"
   },
   {
    "duration": 3,
    "start_time": "2024-05-17T13:39:44.724Z"
   },
   {
    "duration": 4,
    "start_time": "2024-05-17T13:39:44.807Z"
   },
   {
    "duration": 3,
    "start_time": "2024-05-17T13:39:44.890Z"
   },
   {
    "duration": 4,
    "start_time": "2024-05-17T13:39:44.973Z"
   },
   {
    "duration": 3,
    "start_time": "2024-05-17T13:39:45.207Z"
   },
   {
    "duration": 3,
    "start_time": "2024-05-17T13:39:45.341Z"
   },
   {
    "duration": 3,
    "start_time": "2024-05-17T13:39:45.469Z"
   },
   {
    "duration": 3,
    "start_time": "2024-05-17T13:39:45.970Z"
   },
   {
    "duration": 3,
    "start_time": "2024-05-17T13:39:46.054Z"
   },
   {
    "duration": 3,
    "start_time": "2024-05-17T13:39:46.136Z"
   },
   {
    "duration": 11,
    "start_time": "2024-05-17T13:39:46.221Z"
   },
   {
    "duration": 4,
    "start_time": "2024-05-17T13:39:46.302Z"
   },
   {
    "duration": 3,
    "start_time": "2024-05-17T13:39:46.385Z"
   },
   {
    "duration": 8,
    "start_time": "2024-05-17T13:39:46.469Z"
   },
   {
    "duration": 3,
    "start_time": "2024-05-17T13:39:46.551Z"
   },
   {
    "duration": 2,
    "start_time": "2024-05-17T13:39:46.869Z"
   },
   {
    "duration": 3,
    "start_time": "2024-05-17T13:39:47.037Z"
   },
   {
    "duration": 3,
    "start_time": "2024-05-17T13:39:47.206Z"
   },
   {
    "duration": 3,
    "start_time": "2024-05-17T13:39:47.364Z"
   },
   {
    "duration": 3,
    "start_time": "2024-05-17T13:39:47.508Z"
   },
   {
    "duration": 3,
    "start_time": "2024-05-17T13:39:47.892Z"
   },
   {
    "duration": 3,
    "start_time": "2024-05-17T13:39:48.131Z"
   },
   {
    "duration": 3,
    "start_time": "2024-05-17T13:39:48.708Z"
   },
   {
    "duration": 3,
    "start_time": "2024-05-17T13:39:49.429Z"
   }
  ],
  "kernelspec": {
   "display_name": "Python 3 (ipykernel)",
   "language": "python",
   "name": "python3"
  },
  "language_info": {
   "codemirror_mode": {
    "name": "ipython",
    "version": 3
   },
   "file_extension": ".py",
   "mimetype": "text/x-python",
   "name": "python",
   "nbconvert_exporter": "python",
   "pygments_lexer": "ipython3",
   "version": "3.9.5"
  },
  "toc": {
   "base_numbering": 1,
   "nav_menu": {},
   "number_sections": true,
   "sideBar": true,
   "skip_h1_title": true,
   "title_cell": "Содержание",
   "title_sidebar": "Contents",
   "toc_cell": true,
   "toc_position": {
    "height": "calc(100% - 180px)",
    "left": "10px",
    "top": "150px",
    "width": "165px"
   },
   "toc_section_display": true,
   "toc_window_display": true
  }
 },
 "nbformat": 4,
 "nbformat_minor": 2
}

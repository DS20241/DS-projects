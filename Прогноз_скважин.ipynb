{
 "cells": [
  {
   "cell_type": "markdown",
   "metadata": {},
   "source": [
    "# Описание проекта. "
   ]
  },
  {
   "cell_type": "markdown",
   "metadata": {},
   "source": [
    "Допустим, вы работаете в добывающей компании «ГлавРосГосНефть». Нужно решить, где бурить новую скважину.\n",
    "\n",
    "Вам предоставлены пробы нефти в трёх регионах: в каждом 10 000 месторождений, где измерили качество нефти и объём её запасов. Постройте модель машинного обучения, которая поможет определить регион, где добыча принесёт наибольшую прибыль. Проанализируйте возможную прибыль и риски техникой *Bootstrap.*\n",
    "\n",
    "Шаги для выбора локации:\n",
    "\n",
    "- В избранном регионе ищут месторождения, для каждого определяют значения признаков;\n",
    "- Строят модель и оценивают объём запасов;\n",
    "- Выбирают месторождения с самым высокими оценками значений. Количество месторождений зависит от бюджета компании и стоимости разработки одной скважины;\n",
    "- Прибыль равна суммарной прибыли отобранных месторождений."
   ]
  },
  {
   "cell_type": "markdown",
   "metadata": {},
   "source": [
    "# Описание данных."
   ]
  },
  {
   "cell_type": "markdown",
   "metadata": {},
   "source": [
    "Нам было предоставлено три датасета (три региона), каждый из которых содержит данные о скважинах:<br> **/datasets/geo_data_0.csv;<br>/datasets/geo_data_1.csv;<br>/datasets/geo_data_2.csv.**<br>Где id — уникальный идентификатор скважины;<br>f0, f1, f2 — три признака точек (неважно, что они означают, но сами признаки значимы);\n",
    "<br>product — объём запасов в скважине (тыс. баррелей)."
   ]
  },
  {
   "cell_type": "markdown",
   "metadata": {},
   "source": [
    "## Загрузка и подготовка данных"
   ]
  },
  {
   "cell_type": "markdown",
   "metadata": {},
   "source": [
    "### Загрузка данных."
   ]
  },
  {
   "cell_type": "markdown",
   "metadata": {},
   "source": [
    "Загрузим данные и посмотрим, что они из себя представляют."
   ]
  },
  {
   "cell_type": "code",
   "execution_count": 1,
   "metadata": {},
   "outputs": [],
   "source": [
    "import pandas as pd\n",
    "import seaborn as sns\n",
    "import matplotlib.pyplot as plt\n",
    "import numpy as np\n",
    "import scipy.stats as stats\n",
    "\n",
    "from sklearn.model_selection import train_test_split\n",
    "from sklearn.pipeline import Pipeline\n",
    "from sklearn.compose import ColumnTransformer\n",
    "from sklearn.preprocessing import StandardScaler\n",
    "from sklearn.linear_model import LinearRegression\n",
    "from sklearn.metrics import mean_squared_error"
   ]
  },
  {
   "cell_type": "code",
   "execution_count": 2,
   "metadata": {},
   "outputs": [
    {
     "data": {
      "text/html": [
       "<div>\n",
       "<style scoped>\n",
       "    .dataframe tbody tr th:only-of-type {\n",
       "        vertical-align: middle;\n",
       "    }\n",
       "\n",
       "    .dataframe tbody tr th {\n",
       "        vertical-align: top;\n",
       "    }\n",
       "\n",
       "    .dataframe thead th {\n",
       "        text-align: right;\n",
       "    }\n",
       "</style>\n",
       "<table border=\"1\" class=\"dataframe\">\n",
       "  <thead>\n",
       "    <tr style=\"text-align: right;\">\n",
       "      <th></th>\n",
       "      <th>id</th>\n",
       "      <th>f0</th>\n",
       "      <th>f1</th>\n",
       "      <th>f2</th>\n",
       "      <th>product</th>\n",
       "    </tr>\n",
       "  </thead>\n",
       "  <tbody>\n",
       "    <tr>\n",
       "      <th>0</th>\n",
       "      <td>txEyH</td>\n",
       "      <td>0.705745</td>\n",
       "      <td>-0.497823</td>\n",
       "      <td>1.221170</td>\n",
       "      <td>105.280062</td>\n",
       "    </tr>\n",
       "    <tr>\n",
       "      <th>1</th>\n",
       "      <td>2acmU</td>\n",
       "      <td>1.334711</td>\n",
       "      <td>-0.340164</td>\n",
       "      <td>4.365080</td>\n",
       "      <td>73.037750</td>\n",
       "    </tr>\n",
       "    <tr>\n",
       "      <th>2</th>\n",
       "      <td>409Wp</td>\n",
       "      <td>1.022732</td>\n",
       "      <td>0.151990</td>\n",
       "      <td>1.419926</td>\n",
       "      <td>85.265647</td>\n",
       "    </tr>\n",
       "    <tr>\n",
       "      <th>3</th>\n",
       "      <td>iJLyR</td>\n",
       "      <td>-0.032172</td>\n",
       "      <td>0.139033</td>\n",
       "      <td>2.978566</td>\n",
       "      <td>168.620776</td>\n",
       "    </tr>\n",
       "    <tr>\n",
       "      <th>4</th>\n",
       "      <td>Xdl7t</td>\n",
       "      <td>1.988431</td>\n",
       "      <td>0.155413</td>\n",
       "      <td>4.751769</td>\n",
       "      <td>154.036647</td>\n",
       "    </tr>\n",
       "  </tbody>\n",
       "</table>\n",
       "</div>"
      ],
      "text/plain": [
       "      id        f0        f1        f2     product\n",
       "0  txEyH  0.705745 -0.497823  1.221170  105.280062\n",
       "1  2acmU  1.334711 -0.340164  4.365080   73.037750\n",
       "2  409Wp  1.022732  0.151990  1.419926   85.265647\n",
       "3  iJLyR -0.032172  0.139033  2.978566  168.620776\n",
       "4  Xdl7t  1.988431  0.155413  4.751769  154.036647"
      ]
     },
     "execution_count": 2,
     "metadata": {},
     "output_type": "execute_result"
    }
   ],
   "source": [
    "df_0 = pd.read_csv('/datasets/geo_data_0.csv')\n",
    "df_0.head()"
   ]
  },
  {
   "cell_type": "code",
   "execution_count": 3,
   "metadata": {},
   "outputs": [
    {
     "name": "stdout",
     "output_type": "stream",
     "text": [
      "<class 'pandas.core.frame.DataFrame'>\n",
      "RangeIndex: 100000 entries, 0 to 99999\n",
      "Data columns (total 5 columns):\n",
      " #   Column   Non-Null Count   Dtype  \n",
      "---  ------   --------------   -----  \n",
      " 0   id       100000 non-null  object \n",
      " 1   f0       100000 non-null  float64\n",
      " 2   f1       100000 non-null  float64\n",
      " 3   f2       100000 non-null  float64\n",
      " 4   product  100000 non-null  float64\n",
      "dtypes: float64(4), object(1)\n",
      "memory usage: 3.8+ MB\n"
     ]
    }
   ],
   "source": [
    "df_0.info()"
   ]
  },
  {
   "cell_type": "code",
   "execution_count": 4,
   "metadata": {},
   "outputs": [
    {
     "data": {
      "text/html": [
       "<div>\n",
       "<style scoped>\n",
       "    .dataframe tbody tr th:only-of-type {\n",
       "        vertical-align: middle;\n",
       "    }\n",
       "\n",
       "    .dataframe tbody tr th {\n",
       "        vertical-align: top;\n",
       "    }\n",
       "\n",
       "    .dataframe thead th {\n",
       "        text-align: right;\n",
       "    }\n",
       "</style>\n",
       "<table border=\"1\" class=\"dataframe\">\n",
       "  <thead>\n",
       "    <tr style=\"text-align: right;\">\n",
       "      <th></th>\n",
       "      <th>id</th>\n",
       "      <th>f0</th>\n",
       "      <th>f1</th>\n",
       "      <th>f2</th>\n",
       "      <th>product</th>\n",
       "    </tr>\n",
       "  </thead>\n",
       "  <tbody>\n",
       "    <tr>\n",
       "      <th>0</th>\n",
       "      <td>kBEdx</td>\n",
       "      <td>-15.001348</td>\n",
       "      <td>-8.276000</td>\n",
       "      <td>-0.005876</td>\n",
       "      <td>3.179103</td>\n",
       "    </tr>\n",
       "    <tr>\n",
       "      <th>1</th>\n",
       "      <td>62mP7</td>\n",
       "      <td>14.272088</td>\n",
       "      <td>-3.475083</td>\n",
       "      <td>0.999183</td>\n",
       "      <td>26.953261</td>\n",
       "    </tr>\n",
       "    <tr>\n",
       "      <th>2</th>\n",
       "      <td>vyE1P</td>\n",
       "      <td>6.263187</td>\n",
       "      <td>-5.948386</td>\n",
       "      <td>5.001160</td>\n",
       "      <td>134.766305</td>\n",
       "    </tr>\n",
       "    <tr>\n",
       "      <th>3</th>\n",
       "      <td>KcrkZ</td>\n",
       "      <td>-13.081196</td>\n",
       "      <td>-11.506057</td>\n",
       "      <td>4.999415</td>\n",
       "      <td>137.945408</td>\n",
       "    </tr>\n",
       "    <tr>\n",
       "      <th>4</th>\n",
       "      <td>AHL4O</td>\n",
       "      <td>12.702195</td>\n",
       "      <td>-8.147433</td>\n",
       "      <td>5.004363</td>\n",
       "      <td>134.766305</td>\n",
       "    </tr>\n",
       "  </tbody>\n",
       "</table>\n",
       "</div>"
      ],
      "text/plain": [
       "      id         f0         f1        f2     product\n",
       "0  kBEdx -15.001348  -8.276000 -0.005876    3.179103\n",
       "1  62mP7  14.272088  -3.475083  0.999183   26.953261\n",
       "2  vyE1P   6.263187  -5.948386  5.001160  134.766305\n",
       "3  KcrkZ -13.081196 -11.506057  4.999415  137.945408\n",
       "4  AHL4O  12.702195  -8.147433  5.004363  134.766305"
      ]
     },
     "execution_count": 4,
     "metadata": {},
     "output_type": "execute_result"
    }
   ],
   "source": [
    "df_1 = pd.read_csv('/datasets/geo_data_1.csv')\n",
    "df_1.head()"
   ]
  },
  {
   "cell_type": "code",
   "execution_count": 5,
   "metadata": {},
   "outputs": [
    {
     "name": "stdout",
     "output_type": "stream",
     "text": [
      "<class 'pandas.core.frame.DataFrame'>\n",
      "RangeIndex: 100000 entries, 0 to 99999\n",
      "Data columns (total 5 columns):\n",
      " #   Column   Non-Null Count   Dtype  \n",
      "---  ------   --------------   -----  \n",
      " 0   id       100000 non-null  object \n",
      " 1   f0       100000 non-null  float64\n",
      " 2   f1       100000 non-null  float64\n",
      " 3   f2       100000 non-null  float64\n",
      " 4   product  100000 non-null  float64\n",
      "dtypes: float64(4), object(1)\n",
      "memory usage: 3.8+ MB\n"
     ]
    }
   ],
   "source": [
    "df_1.info()"
   ]
  },
  {
   "cell_type": "code",
   "execution_count": 6,
   "metadata": {},
   "outputs": [
    {
     "data": {
      "text/html": [
       "<div>\n",
       "<style scoped>\n",
       "    .dataframe tbody tr th:only-of-type {\n",
       "        vertical-align: middle;\n",
       "    }\n",
       "\n",
       "    .dataframe tbody tr th {\n",
       "        vertical-align: top;\n",
       "    }\n",
       "\n",
       "    .dataframe thead th {\n",
       "        text-align: right;\n",
       "    }\n",
       "</style>\n",
       "<table border=\"1\" class=\"dataframe\">\n",
       "  <thead>\n",
       "    <tr style=\"text-align: right;\">\n",
       "      <th></th>\n",
       "      <th>id</th>\n",
       "      <th>f0</th>\n",
       "      <th>f1</th>\n",
       "      <th>f2</th>\n",
       "      <th>product</th>\n",
       "    </tr>\n",
       "  </thead>\n",
       "  <tbody>\n",
       "    <tr>\n",
       "      <th>0</th>\n",
       "      <td>fwXo0</td>\n",
       "      <td>-1.146987</td>\n",
       "      <td>0.963328</td>\n",
       "      <td>-0.828965</td>\n",
       "      <td>27.758673</td>\n",
       "    </tr>\n",
       "    <tr>\n",
       "      <th>1</th>\n",
       "      <td>WJtFt</td>\n",
       "      <td>0.262778</td>\n",
       "      <td>0.269839</td>\n",
       "      <td>-2.530187</td>\n",
       "      <td>56.069697</td>\n",
       "    </tr>\n",
       "    <tr>\n",
       "      <th>2</th>\n",
       "      <td>ovLUW</td>\n",
       "      <td>0.194587</td>\n",
       "      <td>0.289035</td>\n",
       "      <td>-5.586433</td>\n",
       "      <td>62.871910</td>\n",
       "    </tr>\n",
       "    <tr>\n",
       "      <th>3</th>\n",
       "      <td>q6cA6</td>\n",
       "      <td>2.236060</td>\n",
       "      <td>-0.553760</td>\n",
       "      <td>0.930038</td>\n",
       "      <td>114.572842</td>\n",
       "    </tr>\n",
       "    <tr>\n",
       "      <th>4</th>\n",
       "      <td>WPMUX</td>\n",
       "      <td>-0.515993</td>\n",
       "      <td>1.716266</td>\n",
       "      <td>5.899011</td>\n",
       "      <td>149.600746</td>\n",
       "    </tr>\n",
       "  </tbody>\n",
       "</table>\n",
       "</div>"
      ],
      "text/plain": [
       "      id        f0        f1        f2     product\n",
       "0  fwXo0 -1.146987  0.963328 -0.828965   27.758673\n",
       "1  WJtFt  0.262778  0.269839 -2.530187   56.069697\n",
       "2  ovLUW  0.194587  0.289035 -5.586433   62.871910\n",
       "3  q6cA6  2.236060 -0.553760  0.930038  114.572842\n",
       "4  WPMUX -0.515993  1.716266  5.899011  149.600746"
      ]
     },
     "execution_count": 6,
     "metadata": {},
     "output_type": "execute_result"
    }
   ],
   "source": [
    "df_2 = pd.read_csv('/datasets/geo_data_2.csv')\n",
    "df_2.head()"
   ]
  },
  {
   "cell_type": "code",
   "execution_count": 7,
   "metadata": {},
   "outputs": [
    {
     "name": "stdout",
     "output_type": "stream",
     "text": [
      "<class 'pandas.core.frame.DataFrame'>\n",
      "RangeIndex: 100000 entries, 0 to 99999\n",
      "Data columns (total 5 columns):\n",
      " #   Column   Non-Null Count   Dtype  \n",
      "---  ------   --------------   -----  \n",
      " 0   id       100000 non-null  object \n",
      " 1   f0       100000 non-null  float64\n",
      " 2   f1       100000 non-null  float64\n",
      " 3   f2       100000 non-null  float64\n",
      " 4   product  100000 non-null  float64\n",
      "dtypes: float64(4), object(1)\n",
      "memory usage: 3.8+ MB\n"
     ]
    }
   ],
   "source": [
    "df_2.info()"
   ]
  },
  {
   "cell_type": "markdown",
   "metadata": {},
   "source": [
    "**Промежуточный вывод:**<br>На первый взгляд, данные без пропусков и выглядят отлично."
   ]
  },
  {
   "cell_type": "markdown",
   "metadata": {},
   "source": [
    "### Подготовка данных."
   ]
  },
  {
   "cell_type": "markdown",
   "metadata": {},
   "source": [
    "Проверим датасеты на пропущенные значения. Также сразу избавимся от стлбца 'id', ведь он нам не пригодится."
   ]
  },
  {
   "cell_type": "code",
   "execution_count": 8,
   "metadata": {},
   "outputs": [],
   "source": [
    "df_0 = df_0.drop('id', axis = 1)\n",
    "df_1 = df_1.drop('id', axis = 1)\n",
    "df_2 = df_2.drop('id', axis = 1)"
   ]
  },
  {
   "cell_type": "code",
   "execution_count": 9,
   "metadata": {},
   "outputs": [
    {
     "data": {
      "text/plain": [
       "f0         0\n",
       "f1         0\n",
       "f2         0\n",
       "product    0\n",
       "dtype: int64"
      ]
     },
     "execution_count": 9,
     "metadata": {},
     "output_type": "execute_result"
    }
   ],
   "source": [
    "df_0.isna().sum()"
   ]
  },
  {
   "cell_type": "code",
   "execution_count": 10,
   "metadata": {},
   "outputs": [
    {
     "data": {
      "text/plain": [
       "f0         0\n",
       "f1         0\n",
       "f2         0\n",
       "product    0\n",
       "dtype: int64"
      ]
     },
     "execution_count": 10,
     "metadata": {},
     "output_type": "execute_result"
    }
   ],
   "source": [
    "df_1.isna().sum()"
   ]
  },
  {
   "cell_type": "code",
   "execution_count": 11,
   "metadata": {},
   "outputs": [
    {
     "data": {
      "text/plain": [
       "f0         0\n",
       "f1         0\n",
       "f2         0\n",
       "product    0\n",
       "dtype: int64"
      ]
     },
     "execution_count": 11,
     "metadata": {},
     "output_type": "execute_result"
    }
   ],
   "source": [
    "df_2.isna().sum()"
   ]
  },
  {
   "cell_type": "markdown",
   "metadata": {},
   "source": [
    "Проверим датасеты на явные дубликаты."
   ]
  },
  {
   "cell_type": "code",
   "execution_count": 12,
   "metadata": {},
   "outputs": [
    {
     "data": {
      "text/plain": [
       "0"
      ]
     },
     "execution_count": 12,
     "metadata": {},
     "output_type": "execute_result"
    }
   ],
   "source": [
    "df_0.duplicated().sum()"
   ]
  },
  {
   "cell_type": "code",
   "execution_count": 13,
   "metadata": {},
   "outputs": [
    {
     "data": {
      "text/plain": [
       "0"
      ]
     },
     "execution_count": 13,
     "metadata": {},
     "output_type": "execute_result"
    }
   ],
   "source": [
    "df_1.duplicated().sum()"
   ]
  },
  {
   "cell_type": "code",
   "execution_count": 14,
   "metadata": {},
   "outputs": [
    {
     "data": {
      "text/plain": [
       "0"
      ]
     },
     "execution_count": 14,
     "metadata": {},
     "output_type": "execute_result"
    }
   ],
   "source": [
    "df_2.duplicated().sum()"
   ]
  },
  {
   "cell_type": "markdown",
   "metadata": {},
   "source": [
    "Глянем общую информацию о каждом датасете для проверки на аномалии и выбросы."
   ]
  },
  {
   "cell_type": "code",
   "execution_count": 15,
   "metadata": {},
   "outputs": [
    {
     "data": {
      "text/html": [
       "<div>\n",
       "<style scoped>\n",
       "    .dataframe tbody tr th:only-of-type {\n",
       "        vertical-align: middle;\n",
       "    }\n",
       "\n",
       "    .dataframe tbody tr th {\n",
       "        vertical-align: top;\n",
       "    }\n",
       "\n",
       "    .dataframe thead th {\n",
       "        text-align: right;\n",
       "    }\n",
       "</style>\n",
       "<table border=\"1\" class=\"dataframe\">\n",
       "  <thead>\n",
       "    <tr style=\"text-align: right;\">\n",
       "      <th></th>\n",
       "      <th>f0</th>\n",
       "      <th>f1</th>\n",
       "      <th>f2</th>\n",
       "      <th>product</th>\n",
       "    </tr>\n",
       "  </thead>\n",
       "  <tbody>\n",
       "    <tr>\n",
       "      <th>count</th>\n",
       "      <td>100000.000000</td>\n",
       "      <td>100000.000000</td>\n",
       "      <td>100000.000000</td>\n",
       "      <td>100000.000000</td>\n",
       "    </tr>\n",
       "    <tr>\n",
       "      <th>mean</th>\n",
       "      <td>0.500419</td>\n",
       "      <td>0.250143</td>\n",
       "      <td>2.502647</td>\n",
       "      <td>92.500000</td>\n",
       "    </tr>\n",
       "    <tr>\n",
       "      <th>std</th>\n",
       "      <td>0.871832</td>\n",
       "      <td>0.504433</td>\n",
       "      <td>3.248248</td>\n",
       "      <td>44.288691</td>\n",
       "    </tr>\n",
       "    <tr>\n",
       "      <th>min</th>\n",
       "      <td>-1.408605</td>\n",
       "      <td>-0.848218</td>\n",
       "      <td>-12.088328</td>\n",
       "      <td>0.000000</td>\n",
       "    </tr>\n",
       "    <tr>\n",
       "      <th>25%</th>\n",
       "      <td>-0.072580</td>\n",
       "      <td>-0.200881</td>\n",
       "      <td>0.287748</td>\n",
       "      <td>56.497507</td>\n",
       "    </tr>\n",
       "    <tr>\n",
       "      <th>50%</th>\n",
       "      <td>0.502360</td>\n",
       "      <td>0.250252</td>\n",
       "      <td>2.515969</td>\n",
       "      <td>91.849972</td>\n",
       "    </tr>\n",
       "    <tr>\n",
       "      <th>75%</th>\n",
       "      <td>1.073581</td>\n",
       "      <td>0.700646</td>\n",
       "      <td>4.715088</td>\n",
       "      <td>128.564089</td>\n",
       "    </tr>\n",
       "    <tr>\n",
       "      <th>max</th>\n",
       "      <td>2.362331</td>\n",
       "      <td>1.343769</td>\n",
       "      <td>16.003790</td>\n",
       "      <td>185.364347</td>\n",
       "    </tr>\n",
       "  </tbody>\n",
       "</table>\n",
       "</div>"
      ],
      "text/plain": [
       "                  f0             f1             f2        product\n",
       "count  100000.000000  100000.000000  100000.000000  100000.000000\n",
       "mean        0.500419       0.250143       2.502647      92.500000\n",
       "std         0.871832       0.504433       3.248248      44.288691\n",
       "min        -1.408605      -0.848218     -12.088328       0.000000\n",
       "25%        -0.072580      -0.200881       0.287748      56.497507\n",
       "50%         0.502360       0.250252       2.515969      91.849972\n",
       "75%         1.073581       0.700646       4.715088     128.564089\n",
       "max         2.362331       1.343769      16.003790     185.364347"
      ]
     },
     "execution_count": 15,
     "metadata": {},
     "output_type": "execute_result"
    }
   ],
   "source": [
    "df_0.describe()"
   ]
  },
  {
   "cell_type": "code",
   "execution_count": 16,
   "metadata": {},
   "outputs": [
    {
     "data": {
      "text/html": [
       "<div>\n",
       "<style scoped>\n",
       "    .dataframe tbody tr th:only-of-type {\n",
       "        vertical-align: middle;\n",
       "    }\n",
       "\n",
       "    .dataframe tbody tr th {\n",
       "        vertical-align: top;\n",
       "    }\n",
       "\n",
       "    .dataframe thead th {\n",
       "        text-align: right;\n",
       "    }\n",
       "</style>\n",
       "<table border=\"1\" class=\"dataframe\">\n",
       "  <thead>\n",
       "    <tr style=\"text-align: right;\">\n",
       "      <th></th>\n",
       "      <th>f0</th>\n",
       "      <th>f1</th>\n",
       "      <th>f2</th>\n",
       "      <th>product</th>\n",
       "    </tr>\n",
       "  </thead>\n",
       "  <tbody>\n",
       "    <tr>\n",
       "      <th>count</th>\n",
       "      <td>100000.000000</td>\n",
       "      <td>100000.000000</td>\n",
       "      <td>100000.000000</td>\n",
       "      <td>100000.000000</td>\n",
       "    </tr>\n",
       "    <tr>\n",
       "      <th>mean</th>\n",
       "      <td>1.141296</td>\n",
       "      <td>-4.796579</td>\n",
       "      <td>2.494541</td>\n",
       "      <td>68.825000</td>\n",
       "    </tr>\n",
       "    <tr>\n",
       "      <th>std</th>\n",
       "      <td>8.965932</td>\n",
       "      <td>5.119872</td>\n",
       "      <td>1.703572</td>\n",
       "      <td>45.944423</td>\n",
       "    </tr>\n",
       "    <tr>\n",
       "      <th>min</th>\n",
       "      <td>-31.609576</td>\n",
       "      <td>-26.358598</td>\n",
       "      <td>-0.018144</td>\n",
       "      <td>0.000000</td>\n",
       "    </tr>\n",
       "    <tr>\n",
       "      <th>25%</th>\n",
       "      <td>-6.298551</td>\n",
       "      <td>-8.267985</td>\n",
       "      <td>1.000021</td>\n",
       "      <td>26.953261</td>\n",
       "    </tr>\n",
       "    <tr>\n",
       "      <th>50%</th>\n",
       "      <td>1.153055</td>\n",
       "      <td>-4.813172</td>\n",
       "      <td>2.011479</td>\n",
       "      <td>57.085625</td>\n",
       "    </tr>\n",
       "    <tr>\n",
       "      <th>75%</th>\n",
       "      <td>8.621015</td>\n",
       "      <td>-1.332816</td>\n",
       "      <td>3.999904</td>\n",
       "      <td>107.813044</td>\n",
       "    </tr>\n",
       "    <tr>\n",
       "      <th>max</th>\n",
       "      <td>29.421755</td>\n",
       "      <td>18.734063</td>\n",
       "      <td>5.019721</td>\n",
       "      <td>137.945408</td>\n",
       "    </tr>\n",
       "  </tbody>\n",
       "</table>\n",
       "</div>"
      ],
      "text/plain": [
       "                  f0             f1             f2        product\n",
       "count  100000.000000  100000.000000  100000.000000  100000.000000\n",
       "mean        1.141296      -4.796579       2.494541      68.825000\n",
       "std         8.965932       5.119872       1.703572      45.944423\n",
       "min       -31.609576     -26.358598      -0.018144       0.000000\n",
       "25%        -6.298551      -8.267985       1.000021      26.953261\n",
       "50%         1.153055      -4.813172       2.011479      57.085625\n",
       "75%         8.621015      -1.332816       3.999904     107.813044\n",
       "max        29.421755      18.734063       5.019721     137.945408"
      ]
     },
     "execution_count": 16,
     "metadata": {},
     "output_type": "execute_result"
    }
   ],
   "source": [
    "df_1.describe()"
   ]
  },
  {
   "cell_type": "code",
   "execution_count": 17,
   "metadata": {},
   "outputs": [
    {
     "data": {
      "text/html": [
       "<div>\n",
       "<style scoped>\n",
       "    .dataframe tbody tr th:only-of-type {\n",
       "        vertical-align: middle;\n",
       "    }\n",
       "\n",
       "    .dataframe tbody tr th {\n",
       "        vertical-align: top;\n",
       "    }\n",
       "\n",
       "    .dataframe thead th {\n",
       "        text-align: right;\n",
       "    }\n",
       "</style>\n",
       "<table border=\"1\" class=\"dataframe\">\n",
       "  <thead>\n",
       "    <tr style=\"text-align: right;\">\n",
       "      <th></th>\n",
       "      <th>f0</th>\n",
       "      <th>f1</th>\n",
       "      <th>f2</th>\n",
       "      <th>product</th>\n",
       "    </tr>\n",
       "  </thead>\n",
       "  <tbody>\n",
       "    <tr>\n",
       "      <th>count</th>\n",
       "      <td>100000.000000</td>\n",
       "      <td>100000.000000</td>\n",
       "      <td>100000.000000</td>\n",
       "      <td>100000.000000</td>\n",
       "    </tr>\n",
       "    <tr>\n",
       "      <th>mean</th>\n",
       "      <td>0.002023</td>\n",
       "      <td>-0.002081</td>\n",
       "      <td>2.495128</td>\n",
       "      <td>95.000000</td>\n",
       "    </tr>\n",
       "    <tr>\n",
       "      <th>std</th>\n",
       "      <td>1.732045</td>\n",
       "      <td>1.730417</td>\n",
       "      <td>3.473445</td>\n",
       "      <td>44.749921</td>\n",
       "    </tr>\n",
       "    <tr>\n",
       "      <th>min</th>\n",
       "      <td>-8.760004</td>\n",
       "      <td>-7.084020</td>\n",
       "      <td>-11.970335</td>\n",
       "      <td>0.000000</td>\n",
       "    </tr>\n",
       "    <tr>\n",
       "      <th>25%</th>\n",
       "      <td>-1.162288</td>\n",
       "      <td>-1.174820</td>\n",
       "      <td>0.130359</td>\n",
       "      <td>59.450441</td>\n",
       "    </tr>\n",
       "    <tr>\n",
       "      <th>50%</th>\n",
       "      <td>0.009424</td>\n",
       "      <td>-0.009482</td>\n",
       "      <td>2.484236</td>\n",
       "      <td>94.925613</td>\n",
       "    </tr>\n",
       "    <tr>\n",
       "      <th>75%</th>\n",
       "      <td>1.158535</td>\n",
       "      <td>1.163678</td>\n",
       "      <td>4.858794</td>\n",
       "      <td>130.595027</td>\n",
       "    </tr>\n",
       "    <tr>\n",
       "      <th>max</th>\n",
       "      <td>7.238262</td>\n",
       "      <td>7.844801</td>\n",
       "      <td>16.739402</td>\n",
       "      <td>190.029838</td>\n",
       "    </tr>\n",
       "  </tbody>\n",
       "</table>\n",
       "</div>"
      ],
      "text/plain": [
       "                  f0             f1             f2        product\n",
       "count  100000.000000  100000.000000  100000.000000  100000.000000\n",
       "mean        0.002023      -0.002081       2.495128      95.000000\n",
       "std         1.732045       1.730417       3.473445      44.749921\n",
       "min        -8.760004      -7.084020     -11.970335       0.000000\n",
       "25%        -1.162288      -1.174820       0.130359      59.450441\n",
       "50%         0.009424      -0.009482       2.484236      94.925613\n",
       "75%         1.158535       1.163678       4.858794     130.595027\n",
       "max         7.238262       7.844801      16.739402     190.029838"
      ]
     },
     "execution_count": 17,
     "metadata": {},
     "output_type": "execute_result"
    }
   ],
   "source": [
    "df_2.describe()"
   ]
  },
  {
   "cell_type": "markdown",
   "metadata": {},
   "source": [
    "Выглядит все правдоподобно, однако лучше визуализировтаь все датасеты с помощью ящиков с усами. Вероятно, выбросы будут обнаружены."
   ]
  },
  {
   "cell_type": "code",
   "execution_count": 18,
   "metadata": {},
   "outputs": [],
   "source": [
    "def boxplot_(df):    \n",
    "    fig, axes = plt.subplots(nrows=1, ncols=len(df.columns), figsize=(20, 6), sharey=False)\n",
    "    \n",
    "    for i, column in enumerate(df.columns):\n",
    "        sns.boxplot(data=df, x=column, ax=axes[i])\n",
    "        axes[i].set_title(f'Ящик с усами для столбца \"{column}\"')\n",
    "        axes[i].set_ylabel('Количество')\n",
    "    \n",
    "    plt.tight_layout()\n",
    "    plt.show()"
   ]
  },
  {
   "cell_type": "code",
   "execution_count": 19,
   "metadata": {},
   "outputs": [
    {
     "data": {
      "image/png": "[encoded data removed]",
      "text/plain": [
       "<Figure size 1440x432 with 4 Axes>"
      ]
     },
     "metadata": {
      "needs_background": "light"
     },
     "output_type": "display_data"
    }
   ],
   "source": [
    "boxplot_(df_0)"
   ]
  },
  {
   "cell_type": "code",
   "execution_count": 20,
   "metadata": {},
   "outputs": [
    {
     "data": {
      "image/png": "[encoded data removed]",
      "text/plain": [
       "<Figure size 1440x432 with 4 Axes>"
      ]
     },
     "metadata": {
      "needs_background": "light"
     },
     "output_type": "display_data"
    }
   ],
   "source": [
    "boxplot_(df_1)"
   ]
  },
  {
   "cell_type": "code",
   "execution_count": 21,
   "metadata": {},
   "outputs": [
    {
     "data": {
      "image/png": "[encoded data removed]",
      "text/plain": [
       "<Figure size 1440x432 with 4 Axes>"
      ]
     },
     "metadata": {
      "needs_background": "light"
     },
     "output_type": "display_data"
    }
   ],
   "source": [
    "boxplot_(df_2)"
   ]
  },
  {
   "cell_type": "markdown",
   "metadata": {},
   "source": [
    "Как и говорилось выше, выбросы есть. Оставим их до этапа масштабирования.<br>Теперь займемся корреляционным анализом признаков. Для этого построим матрицу корреляции для каждого датасета."
   ]
  },
  {
   "cell_type": "code",
   "execution_count": 22,
   "metadata": {},
   "outputs": [
    {
     "data": {
      "image/png": "[encoded data removed]",
      "text/plain": [
       "<Figure size 576x432 with 2 Axes>"
      ]
     },
     "metadata": {
      "needs_background": "light"
     },
     "output_type": "display_data"
    }
   ],
   "source": [
    "correlation_matrix = df_0.corr()\n",
    "plt.figure(figsize=(8, 6))\n",
    "sns.heatmap(correlation_matrix, annot=True, cmap='coolwarm', linewidths=0.5)\n",
    "plt.title('Матрица корреляции датасета \"df_0\"')\n",
    "plt.show()"
   ]
  },
  {
   "cell_type": "code",
   "execution_count": 23,
   "metadata": {},
   "outputs": [
    {
     "data": {
      "image/png": "[encoded data removed]",
      "text/plain": [
       "<Figure size 576x432 with 2 Axes>"
      ]
     },
     "metadata": {
      "needs_background": "light"
     },
     "output_type": "display_data"
    }
   ],
   "source": [
    "correlation_matrix = df_1.corr()\n",
    "plt.figure(figsize=(8, 6))\n",
    "sns.heatmap(correlation_matrix, annot=True, cmap='coolwarm', linewidths=0.5)\n",
    "plt.title('Матрица корреляции датасета \"df_1\"')\n",
    "plt.show()"
   ]
  },
  {
   "cell_type": "code",
   "execution_count": 24,
   "metadata": {},
   "outputs": [
    {
     "data": {
      "image/png": "[encoded data removed]",
      "text/plain": [
       "<Figure size 576x432 with 2 Axes>"
      ]
     },
     "metadata": {
      "needs_background": "light"
     },
     "output_type": "display_data"
    }
   ],
   "source": [
    "correlation_matrix = df_2.corr()\n",
    "plt.figure(figsize=(8, 6))\n",
    "sns.heatmap(correlation_matrix, annot=True, cmap='coolwarm', linewidths=0.5)\n",
    "plt.title('Матрица корреляции датасета \"df_2\"')\n",
    "plt.show()"
   ]
  },
  {
   "cell_type": "markdown",
   "metadata": {},
   "source": [
    "**Промежуточный вывод:**<br>Зависимость наблюдается между следующими признаками:<br>- в датасете **'df_0'** между 'f1' и 'f0', и 'f2' и 'product';<br>- в датасете **'df_1'** между 'f2' и 'product';<br>- в датасете **'df_2'** между 'f2' и 'product'.<br>Отсюда стоит сделать вывод, что зависимость наблюдается между 'f2' и 'product' во всех датасетах, а это значит, что значение целевого признака зависит от признака 'f2'."
   ]
  },
  {
   "cell_type": "markdown",
   "metadata": {},
   "source": [
    "Подготовим данные для их дальнейшего обучения."
   ]
  },
  {
   "cell_type": "markdown",
   "metadata": {},
   "source": [
    "**Общий вывод по шагу:**<br>Проблем, связанных с дубликатами, аномалиями, пропусками и типами данных не обнаружено.<br>Было замечено некоторое количнство выбросов, однако с ними все решим при масштабировании.<br>Также мы выяснили, что зависимость наблюдается между 'f2' и 'product' во всех датасетах, а это значит, что значение целевого признака зависит от признака 'f2'.<br>"
   ]
  },
  {
   "cell_type": "markdown",
   "metadata": {},
   "source": [
    "## Обучение и проверка модели"
   ]
  },
  {
   "cell_type": "markdown",
   "metadata": {},
   "source": [
    "Разобьем данные каждого датасета на обучающую и валидационную выборки в соотношении 75:25."
   ]
  },
  {
   "cell_type": "code",
   "execution_count": 25,
   "metadata": {},
   "outputs": [],
   "source": [
    "RANDOM_STATE = 42\n",
    "def train_test_split_(df, y):\n",
    "    X = df.drop([y] , axis=1)\n",
    "    y = df[y]\n",
    "\n",
    "    X_train, X_valid, y_train, y_valid = train_test_split(\n",
    "    X, y, test_size=0.25, random_state=RANDOM_STATE)\n",
    "    \n",
    "    return X_train, X_valid, y_train, y_valid"
   ]
  },
  {
   "cell_type": "code",
   "execution_count": 26,
   "metadata": {},
   "outputs": [],
   "source": [
    "X_train_0, X_valid_0, y_train_0, y_valid_0 = train_test_split_(df_0, 'product')\n",
    "X_train_1, X_valid_1, y_train_1, y_valid_1 = train_test_split_(df_1, 'product')\n",
    "X_train_2, X_valid_2, y_train_2, y_valid_2 = train_test_split_(df_2, 'product')"
   ]
  },
  {
   "cell_type": "markdown",
   "metadata": {},
   "source": [
    "Напишем пайплайн и обучим наши данные на модели Линейной регрессии."
   ]
  },
  {
   "cell_type": "code",
   "execution_count": 31,
   "metadata": {},
   "outputs": [
    {
     "data": {
      "text/plain": [
       "{'model_region_0': Pipeline(steps=[('preprocessor',\n",
       "                  ColumnTransformer(remainder='passthrough',\n",
       "                                    transformers=[('num', StandardScaler(),\n",
       "                                                   ['f0', 'f1', 'f2'])])),\n",
       "                 ('model', LinearRegression())]),\n",
       " 'model_region_1': Pipeline(steps=[('preprocessor',\n",
       "                  ColumnTransformer(remainder='passthrough',\n",
       "                                    transformers=[('num', StandardScaler(),\n",
       "                                                   ['f0', 'f1', 'f2'])])),\n",
       "                 ('model', LinearRegression())]),\n",
       " 'model_region_2': Pipeline(steps=[('preprocessor',\n",
       "                  ColumnTransformer(remainder='passthrough',\n",
       "                                    transformers=[('num', StandardScaler(),\n",
       "                                                   ['f0', 'f1', 'f2'])])),\n",
       "                 ('model', LinearRegression())])}"
      ]
     },
     "execution_count": 31,
     "metadata": {},
     "output_type": "execute_result"
    }
   ],
   "source": [
    "models_by_region = {}\n",
    "\n",
    "for region_num, df_region in enumerate([df_0, df_1, df_2]):\n",
    "    X_train, X_valid, y_train, y_valid = train_test_split_(df_region, 'product')\n",
    "\n",
    "    num_columns = ['f0', 'f1', 'f2']\n",
    "    data_preprocessor = ColumnTransformer(\n",
    "        [('num', StandardScaler(), num_columns)], remainder='passthrough')\n",
    "\n",
    "    pipe_final = Pipeline([\n",
    "        ('preprocessor', data_preprocessor),\n",
    "        ('model', LinearRegression())\n",
    "    ])\n",
    "\n",
    "    pipe_final.fit(X_train, y_train)\n",
    "    models_by_region[f'model_region_{region_num}'] = pipe_final\n",
    "    \n",
    "models_by_region"
   ]
  },
  {
   "cell_type": "code",
   "execution_count": 32,
   "metadata": {},
   "outputs": [],
   "source": [
    "#предсказание\n",
    "y_pred_0 = models_by_region['model_region_0'].predict(X_valid_0)\n",
    "y_pred_1 = models_by_region['model_region_1'].predict(X_valid_1)\n",
    "y_pred_2 = models_by_region['model_region_2'].predict(X_valid_2)"
   ]
  },
  {
   "cell_type": "code",
   "execution_count": 33,
   "metadata": {},
   "outputs": [],
   "source": [
    "df_0_pred = pd.DataFrame(columns = ['real', 'predict'])\n",
    "df_1_pred = pd.DataFrame(columns = ['real', 'predict'])\n",
    "df_2_pred = pd.DataFrame(columns = ['real', 'predict'])"
   ]
  },
  {
   "cell_type": "code",
   "execution_count": 34,
   "metadata": {},
   "outputs": [],
   "source": [
    "df_0_pred['real'] = y_valid_0\n",
    "df_0_pred['predict'] = y_pred_0\n",
    "\n",
    "df_1_pred['real'] = y_valid_1\n",
    "df_1_pred['predict'] = y_pred_1\n",
    "\n",
    "df_2_pred['real'] = y_valid_2\n",
    "df_2_pred['predict'] = y_pred_2"
   ]
  },
  {
   "cell_type": "code",
   "execution_count": 35,
   "metadata": {},
   "outputs": [
    {
     "name": "stdout",
     "output_type": "stream",
     "text": [
      " Средний запас для \"df_0\": 92.39879990657768 \n",
      " RMSE модели для \"df_0\": 37.75660035026169\n"
     ]
    }
   ],
   "source": [
    "# средний запас предсказанного сырья и RMSE\n",
    "print(' Средний запас для \"df_0\":', y_pred_0.mean(), '\\n', \n",
    "      'RMSE модели для \"df_0\":', mean_squared_error(y_valid_0, y_pred_0)**0.5)"
   ]
  },
  {
   "cell_type": "code",
   "execution_count": 36,
   "metadata": {},
   "outputs": [
    {
     "name": "stdout",
     "output_type": "stream",
     "text": [
      " Средний запас для \"df_1\": 68.7128780391376 \n",
      " RMSE модели для \"df_1\": 0.8902801001028846\n"
     ]
    }
   ],
   "source": [
    "print(' Средний запас для \"df_1\":', y_pred_1.mean(), '\\n', \n",
    "      'RMSE модели для \"df_1\":', mean_squared_error(y_valid_1, y_pred_1)**0.5)"
   ]
  },
  {
   "cell_type": "code",
   "execution_count": 37,
   "metadata": {},
   "outputs": [
    {
     "name": "stdout",
     "output_type": "stream",
     "text": [
      " Средний запас для \"df_2\": 94.77102387765939 \n",
      " RMSE модели для \"df_2\": 40.145872311342174\n"
     ]
    }
   ],
   "source": [
    "print(' Средний запас для \"df_2\":', y_pred_2.mean(), '\\n', \n",
    "      'RMSE модели для \"df_2\":', mean_squared_error(y_valid_2, y_pred_2)**0.5)"
   ]
  },
  {
   "cell_type": "markdown",
   "metadata": {},
   "source": [
    "**Общий вывод по шагу:**<br>После обучения всех моделей с помощью линейной регрессии мы получили следующие результаты:<br> Средний запас для \"df_0\": 94.76584532268545, RMSE модели для \"df_0\": 38.93607148058823;<br>Средний запас для \"df_1\": 94.85424337024403, RMSE модели для \"df_1\": 0.8902801001028846;<br>Средний запас для \"df_2\": 94.77102387765939, RMSE модели для \"df_2\": 40.145872311342174.<br>У всех трех регионов средний предсказанный запас сырья близок к начальному значению 94.8, что может свидетельствовать о хорошей предсказательной способности моделей.<br>При этом, самое маленькое значение ошибки у \"первого\" региона."
   ]
  },
  {
   "cell_type": "markdown",
   "metadata": {},
   "source": [
    "## Подготовка к расчёту прибыли"
   ]
  },
  {
   "cell_type": "markdown",
   "metadata": {},
   "source": [
    "Теперь подготовимся к расчёту прибыли, а именно: вынесем все нужные значения в отдельные переменные и посчитаем достаточный объём сырья для безубыточной разработки новой скважины."
   ]
  },
  {
   "cell_type": "code",
   "execution_count": 38,
   "metadata": {},
   "outputs": [],
   "source": [
    "budget = 10*(10**9)\n",
    "points = 500\n",
    "best_points = 200\n",
    "price_bar = 450000\n",
    "THRESHOLD =  0.025"
   ]
  },
  {
   "cell_type": "code",
   "execution_count": 39,
   "metadata": {},
   "outputs": [
    {
     "name": "stdout",
     "output_type": "stream",
     "text": [
      "Достаточный объём сырья для безубыточной разработки новой скважины 0.111 тыс. баррелей\n"
     ]
    }
   ],
   "source": [
    "NON_DAMAGE_POINT = (budget/(price_bar*(10**3)))/(best_points) \n",
    "print('Достаточный объём сырья для безубыточной разработки новой скважины', \n",
    "      round(NON_DAMAGE_POINT, 3), 'тыс. баррелей')"
   ]
  },
  {
   "cell_type": "markdown",
   "metadata": {},
   "source": [
    "Надо проверить, какие регионы нам подходят, а какие нет. Для этого сравним полученный объём сырья со средним запасом в каждом регионе. "
   ]
  },
  {
   "cell_type": "code",
   "execution_count": 40,
   "metadata": {},
   "outputs": [
    {
     "data": {
      "text/plain": [
       "count    100000.000000\n",
       "mean         92.500000\n",
       "std          44.288691\n",
       "min           0.000000\n",
       "25%          56.497507\n",
       "50%          91.849972\n",
       "75%         128.564089\n",
       "max         185.364347\n",
       "Name: product, dtype: float64"
      ]
     },
     "execution_count": 40,
     "metadata": {},
     "output_type": "execute_result"
    }
   ],
   "source": [
    "df_0['product'].describe()"
   ]
  },
  {
   "cell_type": "code",
   "execution_count": 41,
   "metadata": {},
   "outputs": [
    {
     "data": {
      "text/plain": [
       "count    100000.000000\n",
       "mean         68.825000\n",
       "std          45.944423\n",
       "min           0.000000\n",
       "25%          26.953261\n",
       "50%          57.085625\n",
       "75%         107.813044\n",
       "max         137.945408\n",
       "Name: product, dtype: float64"
      ]
     },
     "execution_count": 41,
     "metadata": {},
     "output_type": "execute_result"
    }
   ],
   "source": [
    "df_1['product'].describe()"
   ]
  },
  {
   "cell_type": "code",
   "execution_count": 42,
   "metadata": {},
   "outputs": [
    {
     "data": {
      "text/plain": [
       "count    100000.000000\n",
       "mean         95.000000\n",
       "std          44.749921\n",
       "min           0.000000\n",
       "25%          59.450441\n",
       "50%          94.925613\n",
       "75%         130.595027\n",
       "max         190.029838\n",
       "Name: product, dtype: float64"
      ]
     },
     "execution_count": 42,
     "metadata": {},
     "output_type": "execute_result"
    }
   ],
   "source": [
    "df_2['product'].describe()"
   ]
  },
  {
   "cell_type": "code",
   "execution_count": 43,
   "metadata": {},
   "outputs": [
    {
     "name": "stdout",
     "output_type": "stream",
     "text": [
      "Средний запас фактичекой нефти на скважину в регионе 0 92.5\n",
      "Средний запас фактичекой нефти на скважину в регионе 1 68.8\n",
      "Средний запас фактичекой нефти на скважину в регионе 2 95.0\n"
     ]
    }
   ],
   "source": [
    "print('Средний запас фактичекой нефти на скважину в регионе 0', round(df_0['product'].mean(), 1))\n",
    "print('Средний запас фактичекой нефти на скважину в регионе 1', round(df_1['product'].mean(), 1))\n",
    "print('Средний запас фактичекой нефти на скважину в регионе 2', round(df_2['product'].mean(), 1))"
   ]
  },
  {
   "cell_type": "markdown",
   "metadata": {},
   "source": [
    "Теперь напишем функцию для расчета прибыли на 500 точек."
   ]
  },
  {
   "cell_type": "code",
   "execution_count": 44,
   "metadata": {},
   "outputs": [],
   "source": [
    "def oil_profit_calculation(target, probabilities, count):\n",
    "    probs_sorted = probabilities.sort_values(ascending=False)\n",
    "    selected = target[probs_sorted.index][:count]\n",
    "    return price_bar * selected.sum() - budget"
   ]
  },
  {
   "cell_type": "markdown",
   "metadata": {},
   "source": [
    "**Общий вывод по шагу:**<br>Все нужные значения занесены в переменные, функция для расчета прибыли готова.<br>Минимальное количество баррелей нефти для безубыточной разработки составило 111 тыс.<br>Также изучены средние фактические запасы, и судя по ним, для нулевого и второго региона - высокая вероятность окупить затраты. Для первого региона вероятность окупить затраты намного ниже - сомнительная идея."
   ]
  },
  {
   "cell_type": "markdown",
   "metadata": {},
   "source": [
    "## Расчёт прибыли и рисков "
   ]
  },
  {
   "cell_type": "code",
   "execution_count": 45,
   "metadata": {},
   "outputs": [],
   "source": [
    "state = np.random.RandomState(234561)\n",
    "def bootstrap_1000(target, probs):\n",
    "    values=[]\n",
    "    lost = 0\n",
    "    for i in range(1000):\n",
    "        target_sample = target.sample(replace=True, random_state=state, n=points)\n",
    "        probs_sample = probs[target_sample.index]\n",
    "        profit = oil_profit_calculation(target, probs_sample, best_points)\n",
    "        if profit < 0:\n",
    "            lost +=1\n",
    "        values.append(profit)\n",
    "    \n",
    "    values = pd.Series(values)\n",
    "    lower = values.quantile(0.025)\n",
    "    upper = values.quantile(0.975)\n",
    "    average = values.mean()\n",
    "    risk = lost / 1000\n",
    "    return average, lower, upper, risk"
   ]
  },
  {
   "cell_type": "code",
   "execution_count": 46,
   "metadata": {},
   "outputs": [
    {
     "name": "stdout",
     "output_type": "stream",
     "text": [
      "Нулевой регион.\n",
      "Данные по региону:\n",
      "Средняя прибыль по региону = 404637310.33 тыс.руб.\n",
      "95% доверительный интервал от -104713283.28 до 873314055.54 тыс.руб.\n",
      "Процент риска 6.30%\n"
     ]
    }
   ],
   "source": [
    "average_0, lower_0, upper_0, risk_0 = bootstrap_1000(df_0_pred['real'], df_0_pred['predict'])\n",
    "print('Нулевой регион.')\n",
    "print('Данные по региону:')\n",
    "print('Средняя прибыль по региону = {:.2f} тыс.руб.'.format(average_0))\n",
    "print('95% доверительный интервал от {:.2f} до {:.2f} тыс.руб.'.format(lower_0, upper_0))\n",
    "print('Процент риска {:.2%}'.format(risk_0))"
   ]
  },
  {
   "cell_type": "code",
   "execution_count": 47,
   "metadata": {},
   "outputs": [
    {
     "name": "stdout",
     "output_type": "stream",
     "text": [
      "Первый регион.\n",
      "Данные по региону:\n",
      "Средняя прибыль по региону = 437635012.57 тыс.руб.\n",
      "95% доверительный интервал от 50950343.45 до 836615095.91 тыс.руб.\n",
      "Процент риска 1.70%\n"
     ]
    }
   ],
   "source": [
    "average_1, lower_1, upper_1, risk_1 = bootstrap_1000(df_1_pred['real'], df_1_pred['predict'])\n",
    "print('Первый регион.')\n",
    "print('Данные по региону:')\n",
    "print('Средняя прибыль по региону = {:.2f} тыс.руб.'.format(average_1))\n",
    "print('95% доверительный интервал от {:.2f} до {:.2f} тыс.руб.'.format(lower_1, upper_1))\n",
    "print('Процент риска {:.2%}'.format(risk_1))"
   ]
  },
  {
   "cell_type": "code",
   "execution_count": 48,
   "metadata": {},
   "outputs": [
    {
     "name": "stdout",
     "output_type": "stream",
     "text": [
      "Второй регион.\n",
      "Данные по региону:\n",
      "Средняя прибыль по региону = 377065254.76 тыс.руб.\n",
      "95% доверительный интервал от -178714091.19 до 903388390.44 тыс.руб.\n",
      "Процент риска 7.50%\n"
     ]
    }
   ],
   "source": [
    "average_2, lower_2, upper_2, risk_2 = bootstrap_1000(df_2_pred['real'], df_2_pred['predict'])\n",
    "print('Второй регион.')\n",
    "print('Данные по региону:')\n",
    "print('Средняя прибыль по региону = {:.2f} тыс.руб.'.format(average_2))\n",
    "print('95% доверительный интервал от {:.2f} до {:.2f} тыс.руб.'.format(lower_2, upper_2))\n",
    "print('Процент риска {:.2%}'.format(risk_2))"
   ]
  },
  {
   "cell_type": "markdown",
   "metadata": {},
   "source": [
    "**Общий вывод по шагу:**<br>Данные были обработаны и рассчитаны прибыль, интервал и риски.<br>Стоит сказать, что следует отсеить нулевой и второй регионы, ведь риски велики. Остается один - первый, его риск ниже требуемого. "
   ]
  },
  {
   "cell_type": "markdown",
   "metadata": {},
   "source": [
    "## Итоги проекта."
   ]
  },
  {
   "cell_type": "markdown",
   "metadata": {},
   "source": [
    "В проекте был проведен анализ данных, включая проверку на дубликаты, аномалии, пропуски и типы данных. Все эти проблемы успешно решены. Наблюдается зависимость между 'f2' и 'product' во всех датасетах, что позволяет использовать 'f2' как важный признак для предсказания целевого признака 'product'.<br><br>После обучения моделей линейной регрессии для каждого региона и оценки их производительности на тестовых данных, были получены следующие результаты:<br>Регион \"df_0\": Средний запас 94.77 тыс. баррелей, RMSE 38.94;<br>Регион \"df_1\": Средний запас 94.85 тыс. баррелей, RMSE 44.59;<br>Регион \"df_2\": Средний запас 94.77 тыс. баррелей, RMSE 40.15.<br>Средние предсказанные запасы во всех трех регионах близки к начальному значению 94.8 тыс. баррелей, что свидетельствует о хорошей предсказательной способности моделей. Наименьшая ошибка у \"нулевого\" региона.<br><br>Также была разработана функция для расчета прибыли по выбранным скважинам и предсказаниям модели. Минимальное количество баррелей нефти для безубыточной разработки оценено в 111 тыс. баррелей. С учетом анализа рисков, рекомендуется рассмотреть разработку только первого региона, в то время как нулевой и второй регионы имеют слишком высокие риски.<br><br>Итак, проект завершен с рекомендацией сконцентрироваться на разработке месторождений в \"первом\" регионе (df_1), оценив его как наиболее перспективный с точки зрения окупаемости и минимизации рисков."
   ]
  }
 ],
 "metadata": {
  "ExecuteTimeLog": [
   {
    "duration": 50,
    "start_time": "2024-03-01T08:10:01.024Z"
   },
   {
    "duration": 363,
    "start_time": "2024-03-01T08:10:04.670Z"
   },
   {
    "duration": 384,
    "start_time": "2024-03-01T08:10:05.180Z"
   },
   {
    "duration": 177,
    "start_time": "2024-03-01T08:10:16.198Z"
   },
   {
    "duration": 263,
    "start_time": "2024-03-01T08:10:31.252Z"
   },
   {
    "duration": 220,
    "start_time": "2024-03-01T08:10:43.975Z"
   },
   {
    "duration": 18,
    "start_time": "2024-03-01T08:12:20.360Z"
   },
   {
    "duration": 15,
    "start_time": "2024-03-01T08:12:31.678Z"
   },
   {
    "duration": 21,
    "start_time": "2024-03-01T08:12:38.533Z"
   },
   {
    "duration": 27,
    "start_time": "2024-03-01T08:15:24.210Z"
   },
   {
    "duration": 890,
    "start_time": "2024-03-01T08:15:29.593Z"
   },
   {
    "duration": 50,
    "start_time": "2024-03-01T08:15:41.642Z"
   },
   {
    "duration": 11,
    "start_time": "2024-03-01T08:31:57.599Z"
   },
   {
    "duration": 11,
    "start_time": "2024-03-01T08:32:06.307Z"
   },
   {
    "duration": 12,
    "start_time": "2024-03-01T08:32:11.989Z"
   },
   {
    "duration": 83,
    "start_time": "2024-03-01T08:32:37.642Z"
   },
   {
    "duration": 46,
    "start_time": "2024-03-01T08:33:03.312Z"
   },
   {
    "duration": 44,
    "start_time": "2024-03-01T08:33:08.380Z"
   },
   {
    "duration": 57,
    "start_time": "2024-03-01T08:33:18.362Z"
   },
   {
    "duration": 55,
    "start_time": "2024-03-01T08:33:22.392Z"
   },
   {
    "duration": 17,
    "start_time": "2024-03-01T08:34:00.467Z"
   },
   {
    "duration": 9,
    "start_time": "2024-03-01T08:34:13.863Z"
   },
   {
    "duration": 70,
    "start_time": "2024-03-01T08:37:05.242Z"
   },
   {
    "duration": 43,
    "start_time": "2024-03-01T08:40:01.736Z"
   },
   {
    "duration": 35,
    "start_time": "2024-03-01T08:40:11.858Z"
   },
   {
    "duration": 32,
    "start_time": "2024-03-01T08:40:17.511Z"
   },
   {
    "duration": 4,
    "start_time": "2024-03-01T08:48:09.151Z"
   },
   {
    "duration": 14,
    "start_time": "2024-03-01T08:48:21.845Z"
   },
   {
    "duration": 894,
    "start_time": "2024-03-01T08:48:39.613Z"
   },
   {
    "duration": 4,
    "start_time": "2024-03-01T08:48:44.523Z"
   },
   {
    "duration": 1129,
    "start_time": "2024-03-01T08:48:44.957Z"
   },
   {
    "duration": 971,
    "start_time": "2024-03-01T08:49:44.574Z"
   },
   {
    "duration": 955,
    "start_time": "2024-03-01T08:51:49.125Z"
   },
   {
    "duration": 1244,
    "start_time": "2024-03-01T08:51:58.225Z"
   },
   {
    "duration": 4,
    "start_time": "2024-03-01T08:53:24.096Z"
   },
   {
    "duration": 346,
    "start_time": "2024-03-01T08:53:25.735Z"
   },
   {
    "duration": 4,
    "start_time": "2024-03-01T08:53:55.745Z"
   },
   {
    "duration": 233,
    "start_time": "2024-03-01T08:53:56.536Z"
   },
   {
    "duration": 4,
    "start_time": "2024-03-01T08:54:09.855Z"
   },
   {
    "duration": 203,
    "start_time": "2024-03-01T08:54:12.174Z"
   },
   {
    "duration": 4,
    "start_time": "2024-03-01T08:56:26.864Z"
   },
   {
    "duration": 273,
    "start_time": "2024-03-01T08:56:26.982Z"
   },
   {
    "duration": 4,
    "start_time": "2024-03-01T08:57:33.263Z"
   },
   {
    "duration": 8,
    "start_time": "2024-03-01T08:57:35.320Z"
   },
   {
    "duration": 5,
    "start_time": "2024-03-01T08:57:41.852Z"
   },
   {
    "duration": 142,
    "start_time": "2024-03-01T08:57:42.011Z"
   },
   {
    "duration": 4,
    "start_time": "2024-03-01T08:57:53.271Z"
   },
   {
    "duration": 141,
    "start_time": "2024-03-01T08:57:53.743Z"
   },
   {
    "duration": 11,
    "start_time": "2024-03-01T08:57:54.878Z"
   },
   {
    "duration": 4,
    "start_time": "2024-03-01T08:58:55.185Z"
   },
   {
    "duration": 402,
    "start_time": "2024-03-01T08:58:55.488Z"
   },
   {
    "duration": 442,
    "start_time": "2024-03-01T08:59:30.535Z"
   },
   {
    "duration": 5,
    "start_time": "2024-03-01T09:00:03.241Z"
   },
   {
    "duration": 366,
    "start_time": "2024-03-01T09:00:03.467Z"
   },
   {
    "duration": 4,
    "start_time": "2024-03-01T09:00:10.609Z"
   },
   {
    "duration": 388,
    "start_time": "2024-03-01T09:00:10.764Z"
   },
   {
    "duration": 4,
    "start_time": "2024-03-01T09:00:37.815Z"
   },
   {
    "duration": 376,
    "start_time": "2024-03-01T09:00:37.974Z"
   },
   {
    "duration": 378,
    "start_time": "2024-03-01T09:00:38.504Z"
   },
   {
    "duration": 4,
    "start_time": "2024-03-01T09:02:20.583Z"
   },
   {
    "duration": 553,
    "start_time": "2024-03-01T09:02:20.715Z"
   },
   {
    "duration": 5,
    "start_time": "2024-03-01T09:02:59.492Z"
   },
   {
    "duration": 658,
    "start_time": "2024-03-01T09:03:01.285Z"
   },
   {
    "duration": 4,
    "start_time": "2024-03-01T09:03:08.310Z"
   },
   {
    "duration": 634,
    "start_time": "2024-03-01T09:03:08.452Z"
   },
   {
    "duration": 4,
    "start_time": "2024-03-01T09:03:23.112Z"
   },
   {
    "duration": 590,
    "start_time": "2024-03-01T09:03:23.561Z"
   },
   {
    "duration": 5,
    "start_time": "2024-03-01T09:04:18.506Z"
   },
   {
    "duration": 637,
    "start_time": "2024-03-01T09:04:18.624Z"
   },
   {
    "duration": 626,
    "start_time": "2024-03-01T09:04:40.896Z"
   },
   {
    "duration": 760,
    "start_time": "2024-03-01T09:04:47.681Z"
   },
   {
    "duration": 8,
    "start_time": "2024-03-01T09:05:15.232Z"
   },
   {
    "duration": 622,
    "start_time": "2024-03-01T09:05:15.347Z"
   },
   {
    "duration": 3,
    "start_time": "2024-03-01T11:46:07.978Z"
   },
   {
    "duration": 1013,
    "start_time": "2024-03-01T11:48:42.889Z"
   },
   {
    "duration": 131,
    "start_time": "2024-03-01T11:49:03.921Z"
   },
   {
    "duration": 2,
    "start_time": "2024-03-01T11:49:07.925Z"
   },
   {
    "duration": 133,
    "start_time": "2024-03-01T11:49:07.930Z"
   },
   {
    "duration": 13,
    "start_time": "2024-03-01T11:49:08.064Z"
   },
   {
    "duration": 129,
    "start_time": "2024-03-01T11:49:08.078Z"
   },
   {
    "duration": 12,
    "start_time": "2024-03-01T11:49:08.209Z"
   },
   {
    "duration": 128,
    "start_time": "2024-03-01T11:49:08.222Z"
   },
   {
    "duration": 11,
    "start_time": "2024-03-01T11:49:08.351Z"
   },
   {
    "duration": 8,
    "start_time": "2024-03-01T11:49:08.363Z"
   },
   {
    "duration": 10,
    "start_time": "2024-03-01T11:49:08.372Z"
   },
   {
    "duration": 22,
    "start_time": "2024-03-01T11:49:08.384Z"
   },
   {
    "duration": 39,
    "start_time": "2024-03-01T11:49:08.407Z"
   },
   {
    "duration": 34,
    "start_time": "2024-03-01T11:49:08.448Z"
   },
   {
    "duration": 52,
    "start_time": "2024-03-01T11:49:08.484Z"
   },
   {
    "duration": 32,
    "start_time": "2024-03-01T11:49:08.538Z"
   },
   {
    "duration": 47,
    "start_time": "2024-03-01T11:49:08.571Z"
   },
   {
    "duration": 28,
    "start_time": "2024-03-01T11:49:08.620Z"
   },
   {
    "duration": 4,
    "start_time": "2024-03-01T11:49:08.649Z"
   },
   {
    "duration": 564,
    "start_time": "2024-03-01T11:49:08.655Z"
   },
   {
    "duration": 591,
    "start_time": "2024-03-01T11:49:09.220Z"
   },
   {
    "duration": 606,
    "start_time": "2024-03-01T11:49:09.812Z"
   },
   {
    "duration": 5,
    "start_time": "2024-03-01T11:49:16.306Z"
   },
   {
    "duration": 519,
    "start_time": "2024-03-01T11:49:19.358Z"
   },
   {
    "duration": 5,
    "start_time": "2024-03-01T11:49:28.675Z"
   },
   {
    "duration": 529,
    "start_time": "2024-03-01T11:49:28.785Z"
   },
   {
    "duration": 4,
    "start_time": "2024-03-01T11:49:43.063Z"
   },
   {
    "duration": 577,
    "start_time": "2024-03-01T11:49:43.154Z"
   },
   {
    "duration": 4,
    "start_time": "2024-03-01T11:49:51.130Z"
   },
   {
    "duration": 593,
    "start_time": "2024-03-01T11:49:51.251Z"
   },
   {
    "duration": 5,
    "start_time": "2024-03-01T11:49:56.665Z"
   },
   {
    "duration": 548,
    "start_time": "2024-03-01T11:49:56.799Z"
   },
   {
    "duration": 5,
    "start_time": "2024-03-01T11:50:04.689Z"
   },
   {
    "duration": 467,
    "start_time": "2024-03-01T11:50:04.839Z"
   },
   {
    "duration": 5,
    "start_time": "2024-03-01T11:50:11.964Z"
   },
   {
    "duration": 479,
    "start_time": "2024-03-01T11:50:12.090Z"
   },
   {
    "duration": 77,
    "start_time": "2024-03-01T11:50:34.753Z"
   },
   {
    "duration": 477,
    "start_time": "2024-03-01T11:50:35.081Z"
   },
   {
    "duration": 4,
    "start_time": "2024-03-01T11:52:10.078Z"
   },
   {
    "duration": 513,
    "start_time": "2024-03-01T11:52:10.290Z"
   },
   {
    "duration": 3,
    "start_time": "2024-03-01T11:53:10.584Z"
   },
   {
    "duration": 484,
    "start_time": "2024-03-01T11:53:16.561Z"
   },
   {
    "duration": 4,
    "start_time": "2024-03-01T11:55:26.236Z"
   },
   {
    "duration": 411,
    "start_time": "2024-03-01T11:55:26.366Z"
   },
   {
    "duration": 4,
    "start_time": "2024-03-01T11:56:31.166Z"
   },
   {
    "duration": 445,
    "start_time": "2024-03-01T11:56:31.301Z"
   },
   {
    "duration": 497,
    "start_time": "2024-03-01T11:56:31.877Z"
   },
   {
    "duration": 442,
    "start_time": "2024-03-01T11:56:32.376Z"
   },
   {
    "duration": 4,
    "start_time": "2024-03-01T11:56:39.736Z"
   },
   {
    "duration": 435,
    "start_time": "2024-03-01T11:56:40.476Z"
   },
   {
    "duration": 4,
    "start_time": "2024-03-01T11:56:48.676Z"
   },
   {
    "duration": 354,
    "start_time": "2024-03-01T11:56:50.356Z"
   },
   {
    "duration": 3,
    "start_time": "2024-03-01T11:56:58.776Z"
   },
   {
    "duration": 397,
    "start_time": "2024-03-01T11:56:58.926Z"
   },
   {
    "duration": 4,
    "start_time": "2024-03-01T11:57:03.761Z"
   },
   {
    "duration": 360,
    "start_time": "2024-03-01T11:57:03.886Z"
   },
   {
    "duration": 5,
    "start_time": "2024-03-01T11:57:10.277Z"
   },
   {
    "duration": 531,
    "start_time": "2024-03-01T11:57:10.376Z"
   },
   {
    "duration": 5,
    "start_time": "2024-03-01T11:57:16.491Z"
   },
   {
    "duration": 476,
    "start_time": "2024-03-01T11:57:18.061Z"
   },
   {
    "duration": 4,
    "start_time": "2024-03-01T11:57:24.621Z"
   },
   {
    "duration": 507,
    "start_time": "2024-03-01T11:57:24.742Z"
   },
   {
    "duration": 4,
    "start_time": "2024-03-01T11:57:46.320Z"
   },
   {
    "duration": 523,
    "start_time": "2024-03-01T11:57:46.326Z"
   },
   {
    "duration": 466,
    "start_time": "2024-03-01T11:57:46.850Z"
   },
   {
    "duration": 554,
    "start_time": "2024-03-01T11:57:47.318Z"
   },
   {
    "duration": 3,
    "start_time": "2024-03-01T12:09:57.846Z"
   },
   {
    "duration": 92,
    "start_time": "2024-03-01T12:10:10.645Z"
   },
   {
    "duration": 5,
    "start_time": "2024-03-01T12:10:11.327Z"
   },
   {
    "duration": 7,
    "start_time": "2024-03-01T12:10:21.215Z"
   },
   {
    "duration": 8,
    "start_time": "2024-03-01T12:10:23.646Z"
   },
   {
    "duration": 988,
    "start_time": "2024-03-01T12:10:32.349Z"
   },
   {
    "duration": 130,
    "start_time": "2024-03-01T12:10:33.339Z"
   },
   {
    "duration": 12,
    "start_time": "2024-03-01T12:10:33.471Z"
   },
   {
    "duration": 115,
    "start_time": "2024-03-01T12:10:33.485Z"
   },
   {
    "duration": 12,
    "start_time": "2024-03-01T12:10:33.602Z"
   },
   {
    "duration": 114,
    "start_time": "2024-03-01T12:10:33.615Z"
   },
   {
    "duration": 12,
    "start_time": "2024-03-01T12:10:33.730Z"
   },
   {
    "duration": 12,
    "start_time": "2024-03-01T12:10:33.743Z"
   },
   {
    "duration": 25,
    "start_time": "2024-03-01T12:10:33.756Z"
   },
   {
    "duration": 12,
    "start_time": "2024-03-01T12:10:33.782Z"
   },
   {
    "duration": 8,
    "start_time": "2024-03-01T12:10:33.796Z"
   },
   {
    "duration": 37,
    "start_time": "2024-03-01T12:10:33.806Z"
   },
   {
    "duration": 20,
    "start_time": "2024-03-01T12:10:33.844Z"
   },
   {
    "duration": 35,
    "start_time": "2024-03-01T12:10:33.867Z"
   },
   {
    "duration": 32,
    "start_time": "2024-03-01T12:10:33.904Z"
   },
   {
    "duration": 29,
    "start_time": "2024-03-01T12:10:33.937Z"
   },
   {
    "duration": 48,
    "start_time": "2024-03-01T12:10:33.968Z"
   },
   {
    "duration": 3,
    "start_time": "2024-03-01T12:10:34.017Z"
   },
   {
    "duration": 509,
    "start_time": "2024-03-01T12:10:34.022Z"
   },
   {
    "duration": 480,
    "start_time": "2024-03-01T12:10:34.532Z"
   },
   {
    "duration": 525,
    "start_time": "2024-03-01T12:10:35.013Z"
   },
   {
    "duration": 4,
    "start_time": "2024-03-01T12:11:16.497Z"
   },
   {
    "duration": 91,
    "start_time": "2024-03-01T12:11:17.197Z"
   },
   {
    "duration": 3,
    "start_time": "2024-03-01T12:11:31.008Z"
   },
   {
    "duration": 20,
    "start_time": "2024-03-01T12:11:31.397Z"
   },
   {
    "duration": 4,
    "start_time": "2024-03-01T12:12:05.047Z"
   },
   {
    "duration": 510,
    "start_time": "2024-03-01T12:12:05.222Z"
   },
   {
    "duration": 547,
    "start_time": "2024-03-01T12:12:06.021Z"
   },
   {
    "duration": 497,
    "start_time": "2024-03-01T12:12:06.570Z"
   },
   {
    "duration": 3,
    "start_time": "2024-03-01T12:34:11.774Z"
   },
   {
    "duration": 8,
    "start_time": "2024-03-01T12:34:33.637Z"
   },
   {
    "duration": 3,
    "start_time": "2024-03-01T12:35:14.432Z"
   },
   {
    "duration": 10,
    "start_time": "2024-03-01T12:35:14.652Z"
   },
   {
    "duration": 2,
    "start_time": "2024-03-01T12:35:34.156Z"
   },
   {
    "duration": 4,
    "start_time": "2024-03-01T12:35:39.164Z"
   },
   {
    "duration": 162,
    "start_time": "2024-03-01T12:35:39.303Z"
   },
   {
    "duration": 3,
    "start_time": "2024-03-01T12:40:26.997Z"
   },
   {
    "duration": 2,
    "start_time": "2024-03-01T12:40:27.146Z"
   },
   {
    "duration": 3,
    "start_time": "2024-03-01T12:42:25.359Z"
   },
   {
    "duration": 49,
    "start_time": "2024-03-01T12:44:11.161Z"
   },
   {
    "duration": 42,
    "start_time": "2024-03-01T12:44:28.518Z"
   },
   {
    "duration": 3,
    "start_time": "2024-03-01T12:44:53.545Z"
   },
   {
    "duration": 39,
    "start_time": "2024-03-01T12:44:53.674Z"
   },
   {
    "duration": 4,
    "start_time": "2024-03-01T12:45:16.904Z"
   },
   {
    "duration": 8,
    "start_time": "2024-03-01T12:45:17.037Z"
   },
   {
    "duration": 4,
    "start_time": "2024-03-01T12:45:46.195Z"
   },
   {
    "duration": 177,
    "start_time": "2024-03-01T12:45:46.317Z"
   },
   {
    "duration": 3529,
    "start_time": "2024-03-01T15:49:10.177Z"
   },
   {
    "duration": 1622,
    "start_time": "2024-03-01T15:51:57.858Z"
   },
   {
    "duration": 3,
    "start_time": "2024-03-01T15:52:55.964Z"
   },
   {
    "duration": 14,
    "start_time": "2024-03-01T15:58:24.216Z"
   },
   {
    "duration": 7,
    "start_time": "2024-03-01T15:58:50.157Z"
   },
   {
    "duration": 8,
    "start_time": "2024-03-01T15:58:54.499Z"
   },
   {
    "duration": 1186,
    "start_time": "2024-03-01T15:59:03.651Z"
   },
   {
    "duration": 403,
    "start_time": "2024-03-01T15:59:04.839Z"
   },
   {
    "duration": 16,
    "start_time": "2024-03-01T15:59:05.244Z"
   },
   {
    "duration": 248,
    "start_time": "2024-03-01T15:59:05.261Z"
   },
   {
    "duration": 22,
    "start_time": "2024-03-01T15:59:05.512Z"
   },
   {
    "duration": 231,
    "start_time": "2024-03-01T15:59:05.537Z"
   },
   {
    "duration": 14,
    "start_time": "2024-03-01T15:59:05.771Z"
   },
   {
    "duration": 10,
    "start_time": "2024-03-01T15:59:05.787Z"
   },
   {
    "duration": 31,
    "start_time": "2024-03-01T15:59:05.798Z"
   },
   {
    "duration": 8,
    "start_time": "2024-03-01T15:59:05.831Z"
   },
   {
    "duration": 9,
    "start_time": "2024-03-01T15:59:05.841Z"
   },
   {
    "duration": 32,
    "start_time": "2024-03-01T15:59:05.851Z"
   },
   {
    "duration": 54,
    "start_time": "2024-03-01T15:59:05.885Z"
   },
   {
    "duration": 33,
    "start_time": "2024-03-01T15:59:05.942Z"
   },
   {
    "duration": 55,
    "start_time": "2024-03-01T15:59:05.976Z"
   },
   {
    "duration": 39,
    "start_time": "2024-03-01T15:59:06.032Z"
   },
   {
    "duration": 51,
    "start_time": "2024-03-01T15:59:06.072Z"
   },
   {
    "duration": 13,
    "start_time": "2024-03-01T15:59:06.127Z"
   },
   {
    "duration": 601,
    "start_time": "2024-03-01T15:59:06.142Z"
   },
   {
    "duration": 576,
    "start_time": "2024-03-01T15:59:06.746Z"
   },
   {
    "duration": 624,
    "start_time": "2024-03-01T15:59:07.324Z"
   },
   {
    "duration": 331,
    "start_time": "2024-03-01T15:59:07.950Z"
   },
   {
    "duration": 65,
    "start_time": "2024-03-01T16:02:52.313Z"
   },
   {
    "duration": 3,
    "start_time": "2024-03-01T16:03:00.235Z"
   },
   {
    "duration": 376,
    "start_time": "2024-03-01T16:03:20.075Z"
   },
   {
    "duration": 352,
    "start_time": "2024-03-01T16:04:03.487Z"
   },
   {
    "duration": 439,
    "start_time": "2024-03-01T16:04:08.211Z"
   },
   {
    "duration": 3,
    "start_time": "2024-03-01T16:05:04.900Z"
   },
   {
    "duration": 364,
    "start_time": "2024-03-01T16:05:05.786Z"
   },
   {
    "duration": 3,
    "start_time": "2024-03-01T16:05:18.301Z"
   },
   {
    "duration": 444,
    "start_time": "2024-03-01T16:05:18.690Z"
   },
   {
    "duration": 425,
    "start_time": "2024-03-01T16:05:20.489Z"
   },
   {
    "duration": 431,
    "start_time": "2024-03-01T16:05:20.917Z"
   },
   {
    "duration": 3,
    "start_time": "2024-03-01T16:05:27.188Z"
   },
   {
    "duration": 414,
    "start_time": "2024-03-01T16:05:27.335Z"
   },
   {
    "duration": 5,
    "start_time": "2024-03-01T16:05:43.237Z"
   },
   {
    "duration": 433,
    "start_time": "2024-03-01T16:05:44.009Z"
   },
   {
    "duration": 480,
    "start_time": "2024-03-01T16:05:44.866Z"
   },
   {
    "duration": 416,
    "start_time": "2024-03-01T16:05:45.349Z"
   },
   {
    "duration": 4,
    "start_time": "2024-03-01T16:06:11.661Z"
   },
   {
    "duration": 427,
    "start_time": "2024-03-01T16:06:12.020Z"
   },
   {
    "duration": 475,
    "start_time": "2024-03-01T16:06:19.297Z"
   },
   {
    "duration": 5,
    "start_time": "2024-03-01T16:06:49.640Z"
   },
   {
    "duration": 542,
    "start_time": "2024-03-01T16:06:49.783Z"
   },
   {
    "duration": 5,
    "start_time": "2024-03-01T16:07:01.228Z"
   },
   {
    "duration": 463,
    "start_time": "2024-03-01T16:07:01.390Z"
   },
   {
    "duration": 3,
    "start_time": "2024-03-01T16:07:13.098Z"
   },
   {
    "duration": 401,
    "start_time": "2024-03-01T16:07:13.241Z"
   },
   {
    "duration": 385,
    "start_time": "2024-03-01T16:07:13.644Z"
   },
   {
    "duration": 1238,
    "start_time": "2024-03-01T16:07:23.395Z"
   },
   {
    "duration": 170,
    "start_time": "2024-03-01T16:07:24.635Z"
   },
   {
    "duration": 36,
    "start_time": "2024-03-01T16:07:24.806Z"
   },
   {
    "duration": 170,
    "start_time": "2024-03-01T16:07:25.586Z"
   },
   {
    "duration": 14,
    "start_time": "2024-03-01T16:07:25.758Z"
   },
   {
    "duration": 177,
    "start_time": "2024-03-01T16:07:25.774Z"
   },
   {
    "duration": 14,
    "start_time": "2024-03-01T16:07:25.954Z"
   },
   {
    "duration": 11,
    "start_time": "2024-03-01T16:07:25.969Z"
   },
   {
    "duration": 29,
    "start_time": "2024-03-01T16:07:25.982Z"
   },
   {
    "duration": 25,
    "start_time": "2024-03-01T16:07:26.012Z"
   },
   {
    "duration": 19,
    "start_time": "2024-03-01T16:07:26.040Z"
   },
   {
    "duration": 55,
    "start_time": "2024-03-01T16:07:26.060Z"
   },
   {
    "duration": 41,
    "start_time": "2024-03-01T16:07:26.117Z"
   },
   {
    "duration": 30,
    "start_time": "2024-03-01T16:07:26.160Z"
   },
   {
    "duration": 60,
    "start_time": "2024-03-01T16:07:26.192Z"
   },
   {
    "duration": 33,
    "start_time": "2024-03-01T16:07:26.257Z"
   },
   {
    "duration": 67,
    "start_time": "2024-03-01T16:07:26.292Z"
   },
   {
    "duration": 5,
    "start_time": "2024-03-01T16:07:26.360Z"
   },
   {
    "duration": 609,
    "start_time": "2024-03-01T16:07:26.367Z"
   },
   {
    "duration": 628,
    "start_time": "2024-03-01T16:07:26.978Z"
   },
   {
    "duration": 661,
    "start_time": "2024-03-01T16:07:27.608Z"
   },
   {
    "duration": 4,
    "start_time": "2024-03-01T16:07:28.270Z"
   },
   {
    "duration": 484,
    "start_time": "2024-03-01T16:07:28.276Z"
   },
   {
    "duration": 399,
    "start_time": "2024-03-01T16:07:28.762Z"
   },
   {
    "duration": 516,
    "start_time": "2024-03-01T16:07:29.163Z"
   },
   {
    "duration": 5,
    "start_time": "2024-03-01T16:07:55.223Z"
   },
   {
    "duration": 430,
    "start_time": "2024-03-01T16:07:55.494Z"
   },
   {
    "duration": 4,
    "start_time": "2024-03-01T16:08:07.174Z"
   },
   {
    "duration": 413,
    "start_time": "2024-03-01T16:08:07.319Z"
   },
   {
    "duration": 3,
    "start_time": "2024-03-01T16:08:20.351Z"
   },
   {
    "duration": 323,
    "start_time": "2024-03-01T16:08:20.539Z"
   },
   {
    "duration": 4,
    "start_time": "2024-03-01T16:08:57.780Z"
   },
   {
    "duration": 407,
    "start_time": "2024-03-01T16:08:58.249Z"
   },
   {
    "duration": 4,
    "start_time": "2024-03-01T16:09:15.490Z"
   },
   {
    "duration": 360,
    "start_time": "2024-03-01T16:09:18.675Z"
   },
   {
    "duration": 3,
    "start_time": "2024-03-01T16:09:25.656Z"
   },
   {
    "duration": 436,
    "start_time": "2024-03-01T16:09:35.415Z"
   },
   {
    "duration": 440,
    "start_time": "2024-03-01T16:10:04.970Z"
   },
   {
    "duration": 313,
    "start_time": "2024-03-01T16:10:16.236Z"
   },
   {
    "duration": 313,
    "start_time": "2024-03-01T16:10:29.636Z"
   },
   {
    "duration": 284,
    "start_time": "2024-03-01T16:10:38.655Z"
   },
   {
    "duration": 1211,
    "start_time": "2024-03-01T16:24:57.328Z"
   },
   {
    "duration": 166,
    "start_time": "2024-03-01T16:24:58.541Z"
   },
   {
    "duration": 21,
    "start_time": "2024-03-01T16:24:58.708Z"
   },
   {
    "duration": 147,
    "start_time": "2024-03-01T16:24:58.732Z"
   },
   {
    "duration": 14,
    "start_time": "2024-03-01T16:24:58.880Z"
   },
   {
    "duration": 143,
    "start_time": "2024-03-01T16:24:58.895Z"
   },
   {
    "duration": 13,
    "start_time": "2024-03-01T16:24:59.040Z"
   },
   {
    "duration": 9,
    "start_time": "2024-03-01T16:24:59.054Z"
   },
   {
    "duration": 9,
    "start_time": "2024-03-01T16:24:59.064Z"
   },
   {
    "duration": 5,
    "start_time": "2024-03-01T16:24:59.075Z"
   },
   {
    "duration": 6,
    "start_time": "2024-03-01T16:24:59.081Z"
   },
   {
    "duration": 67,
    "start_time": "2024-03-01T16:24:59.088Z"
   },
   {
    "duration": 23,
    "start_time": "2024-03-01T16:24:59.157Z"
   },
   {
    "duration": 49,
    "start_time": "2024-03-01T16:24:59.181Z"
   },
   {
    "duration": 35,
    "start_time": "2024-03-01T16:24:59.232Z"
   },
   {
    "duration": 62,
    "start_time": "2024-03-01T16:24:59.268Z"
   },
   {
    "duration": 35,
    "start_time": "2024-03-01T16:24:59.331Z"
   },
   {
    "duration": 4,
    "start_time": "2024-03-01T16:24:59.368Z"
   },
   {
    "duration": 658,
    "start_time": "2024-03-01T16:24:59.374Z"
   },
   {
    "duration": 582,
    "start_time": "2024-03-01T16:25:00.034Z"
   },
   {
    "duration": 647,
    "start_time": "2024-03-01T16:25:00.618Z"
   },
   {
    "duration": 313,
    "start_time": "2024-03-01T16:25:01.266Z"
   },
   {
    "duration": 356,
    "start_time": "2024-03-01T16:25:01.581Z"
   },
   {
    "duration": 417,
    "start_time": "2024-03-01T16:25:01.939Z"
   },
   {
    "duration": 1542,
    "start_time": "2024-03-02T11:41:12.099Z"
   },
   {
    "duration": 0,
    "start_time": "2024-03-02T11:41:13.644Z"
   },
   {
    "duration": 0,
    "start_time": "2024-03-02T11:41:13.645Z"
   },
   {
    "duration": 0,
    "start_time": "2024-03-02T11:41:13.646Z"
   },
   {
    "duration": 0,
    "start_time": "2024-03-02T11:41:13.647Z"
   },
   {
    "duration": 0,
    "start_time": "2024-03-02T11:41:13.648Z"
   },
   {
    "duration": 0,
    "start_time": "2024-03-02T11:41:13.649Z"
   },
   {
    "duration": 0,
    "start_time": "2024-03-02T11:41:13.650Z"
   },
   {
    "duration": 0,
    "start_time": "2024-03-02T11:41:13.651Z"
   },
   {
    "duration": 0,
    "start_time": "2024-03-02T11:41:13.652Z"
   },
   {
    "duration": 0,
    "start_time": "2024-03-02T11:41:13.653Z"
   },
   {
    "duration": 0,
    "start_time": "2024-03-02T11:41:13.654Z"
   },
   {
    "duration": 0,
    "start_time": "2024-03-02T11:41:13.655Z"
   },
   {
    "duration": 0,
    "start_time": "2024-03-02T11:41:13.656Z"
   },
   {
    "duration": 0,
    "start_time": "2024-03-02T11:41:13.657Z"
   },
   {
    "duration": 0,
    "start_time": "2024-03-02T11:41:13.658Z"
   },
   {
    "duration": 0,
    "start_time": "2024-03-02T11:41:13.659Z"
   },
   {
    "duration": 0,
    "start_time": "2024-03-02T11:41:13.660Z"
   },
   {
    "duration": 0,
    "start_time": "2024-03-02T11:41:13.661Z"
   },
   {
    "duration": 0,
    "start_time": "2024-03-02T11:41:13.687Z"
   },
   {
    "duration": 0,
    "start_time": "2024-03-02T11:41:13.689Z"
   },
   {
    "duration": 0,
    "start_time": "2024-03-02T11:41:13.690Z"
   },
   {
    "duration": 0,
    "start_time": "2024-03-02T11:41:13.691Z"
   },
   {
    "duration": 0,
    "start_time": "2024-03-02T11:41:13.692Z"
   },
   {
    "duration": 1336,
    "start_time": "2024-03-02T11:43:01.206Z"
   },
   {
    "duration": 537,
    "start_time": "2024-03-02T11:43:02.544Z"
   },
   {
    "duration": 28,
    "start_time": "2024-03-02T11:43:03.083Z"
   },
   {
    "duration": 620,
    "start_time": "2024-03-02T11:43:03.112Z"
   },
   {
    "duration": 15,
    "start_time": "2024-03-02T11:43:03.734Z"
   },
   {
    "duration": 579,
    "start_time": "2024-03-02T11:43:03.751Z"
   },
   {
    "duration": 18,
    "start_time": "2024-03-02T11:43:04.332Z"
   },
   {
    "duration": 25,
    "start_time": "2024-03-02T11:43:04.351Z"
   },
   {
    "duration": 32,
    "start_time": "2024-03-02T11:43:04.378Z"
   },
   {
    "duration": 9,
    "start_time": "2024-03-02T11:43:04.412Z"
   },
   {
    "duration": 8,
    "start_time": "2024-03-02T11:43:04.426Z"
   },
   {
    "duration": 64,
    "start_time": "2024-03-02T11:43:04.436Z"
   },
   {
    "duration": 27,
    "start_time": "2024-03-02T11:43:04.503Z"
   },
   {
    "duration": 33,
    "start_time": "2024-03-02T11:43:04.533Z"
   },
   {
    "duration": 62,
    "start_time": "2024-03-02T11:43:04.568Z"
   },
   {
    "duration": 56,
    "start_time": "2024-03-02T11:43:04.632Z"
   },
   {
    "duration": 49,
    "start_time": "2024-03-02T11:43:04.690Z"
   },
   {
    "duration": 6,
    "start_time": "2024-03-02T11:43:04.742Z"
   },
   {
    "duration": 693,
    "start_time": "2024-03-02T11:43:04.750Z"
   },
   {
    "duration": 707,
    "start_time": "2024-03-02T11:43:05.445Z"
   },
   {
    "duration": 713,
    "start_time": "2024-03-02T11:43:06.154Z"
   },
   {
    "duration": 426,
    "start_time": "2024-03-02T11:43:06.869Z"
   },
   {
    "duration": 351,
    "start_time": "2024-03-02T11:43:07.297Z"
   },
   {
    "duration": 388,
    "start_time": "2024-03-02T11:43:07.650Z"
   },
   {
    "duration": 9,
    "start_time": "2024-03-04T13:53:09.650Z"
   },
   {
    "duration": 1364,
    "start_time": "2024-03-04T13:53:14.877Z"
   },
   {
    "duration": 380,
    "start_time": "2024-03-04T13:53:16.243Z"
   },
   {
    "duration": 14,
    "start_time": "2024-03-04T13:53:16.625Z"
   },
   {
    "duration": 202,
    "start_time": "2024-03-04T13:53:16.641Z"
   },
   {
    "duration": 15,
    "start_time": "2024-03-04T13:53:16.844Z"
   },
   {
    "duration": 215,
    "start_time": "2024-03-04T13:53:16.861Z"
   },
   {
    "duration": 13,
    "start_time": "2024-03-04T13:53:17.078Z"
   },
   {
    "duration": 12,
    "start_time": "2024-03-04T13:53:17.092Z"
   },
   {
    "duration": 7,
    "start_time": "2024-03-04T13:53:17.106Z"
   },
   {
    "duration": 7,
    "start_time": "2024-03-04T13:53:17.116Z"
   },
   {
    "duration": 5,
    "start_time": "2024-03-04T13:53:17.124Z"
   },
   {
    "duration": 30,
    "start_time": "2024-03-04T13:53:17.131Z"
   },
   {
    "duration": 21,
    "start_time": "2024-03-04T13:53:17.163Z"
   },
   {
    "duration": 58,
    "start_time": "2024-03-04T13:53:17.185Z"
   },
   {
    "duration": 35,
    "start_time": "2024-03-04T13:53:17.244Z"
   },
   {
    "duration": 51,
    "start_time": "2024-03-04T13:53:17.280Z"
   },
   {
    "duration": 34,
    "start_time": "2024-03-04T13:53:17.333Z"
   },
   {
    "duration": 4,
    "start_time": "2024-03-04T13:53:17.369Z"
   },
   {
    "duration": 647,
    "start_time": "2024-03-04T13:53:17.375Z"
   },
   {
    "duration": 559,
    "start_time": "2024-03-04T13:53:18.024Z"
   },
   {
    "duration": 561,
    "start_time": "2024-03-04T13:53:18.585Z"
   },
   {
    "duration": 307,
    "start_time": "2024-03-04T13:53:19.148Z"
   },
   {
    "duration": 296,
    "start_time": "2024-03-04T13:53:19.457Z"
   },
   {
    "duration": 290,
    "start_time": "2024-03-04T13:53:19.755Z"
   },
   {
    "duration": 4,
    "start_time": "2024-03-04T13:53:20.046Z"
   },
   {
    "duration": 105,
    "start_time": "2024-03-04T13:53:20.051Z"
   },
   {
    "duration": 8,
    "start_time": "2024-03-04T13:53:34.609Z"
   },
   {
    "duration": 13,
    "start_time": "2024-03-04T13:53:44.200Z"
   },
   {
    "duration": 286,
    "start_time": "2024-03-04T13:54:05.255Z"
   },
   {
    "duration": 3,
    "start_time": "2024-03-04T13:54:08.557Z"
   },
   {
    "duration": 22,
    "start_time": "2024-03-04T13:54:08.689Z"
   },
   {
    "duration": 3,
    "start_time": "2024-03-04T13:54:15.909Z"
   },
   {
    "duration": 19,
    "start_time": "2024-03-04T13:54:16.041Z"
   },
   {
    "duration": 3,
    "start_time": "2024-03-04T13:54:44.613Z"
   },
   {
    "duration": 15,
    "start_time": "2024-03-04T13:54:44.769Z"
   },
   {
    "duration": 4,
    "start_time": "2024-03-04T14:09:22.575Z"
   },
   {
    "duration": 28,
    "start_time": "2024-03-04T14:09:22.933Z"
   },
   {
    "duration": 3,
    "start_time": "2024-03-04T14:21:52.781Z"
   },
   {
    "duration": 11,
    "start_time": "2024-03-04T14:22:05.407Z"
   },
   {
    "duration": 9,
    "start_time": "2024-03-04T14:22:09.286Z"
   },
   {
    "duration": 8,
    "start_time": "2024-03-04T14:22:13.257Z"
   },
   {
    "duration": 3,
    "start_time": "2024-03-04T14:22:32.858Z"
   },
   {
    "duration": 4,
    "start_time": "2024-03-04T14:24:35.705Z"
   },
   {
    "duration": 27,
    "start_time": "2024-03-04T14:24:36.442Z"
   },
   {
    "duration": 2,
    "start_time": "2024-03-04T14:24:37.306Z"
   },
   {
    "duration": 29,
    "start_time": "2024-03-04T14:24:42.590Z"
   },
   {
    "duration": 3,
    "start_time": "2024-03-04T14:24:49.663Z"
   },
   {
    "duration": 24,
    "start_time": "2024-03-04T14:24:49.847Z"
   },
   {
    "duration": 3,
    "start_time": "2024-03-04T14:24:51.844Z"
   },
   {
    "duration": 13,
    "start_time": "2024-03-04T14:28:04.853Z"
   },
   {
    "duration": 6,
    "start_time": "2024-03-04T14:28:59.714Z"
   },
   {
    "duration": 3,
    "start_time": "2024-03-04T14:29:08.666Z"
   },
   {
    "duration": 3,
    "start_time": "2024-03-04T14:29:09.304Z"
   },
   {
    "duration": 3,
    "start_time": "2024-03-04T14:29:29.650Z"
   },
   {
    "duration": 3,
    "start_time": "2024-03-04T14:29:36.841Z"
   },
   {
    "duration": 75,
    "start_time": "2024-03-04T14:31:40.957Z"
   },
   {
    "duration": 21,
    "start_time": "2024-03-04T14:31:44.777Z"
   },
   {
    "duration": 3,
    "start_time": "2024-03-04T14:32:10.315Z"
   },
   {
    "duration": 14,
    "start_time": "2024-03-04T14:32:10.469Z"
   },
   {
    "duration": 95,
    "start_time": "2024-03-04T14:32:45.319Z"
   },
   {
    "duration": 3,
    "start_time": "2024-03-04T14:32:54.387Z"
   },
   {
    "duration": 17,
    "start_time": "2024-03-04T14:33:05.564Z"
   },
   {
    "duration": 16,
    "start_time": "2024-03-04T14:33:06.063Z"
   },
   {
    "duration": 17,
    "start_time": "2024-03-04T14:33:06.572Z"
   },
   {
    "duration": 36,
    "start_time": "2024-03-04T14:35:26.224Z"
   },
   {
    "duration": 10,
    "start_time": "2024-03-04T14:35:28.021Z"
   },
   {
    "duration": 48,
    "start_time": "2024-03-04T14:35:52.068Z"
   },
   {
    "duration": 13,
    "start_time": "2024-03-04T14:38:37.969Z"
   },
   {
    "duration": 10,
    "start_time": "2024-03-04T14:49:14.120Z"
   },
   {
    "duration": 10,
    "start_time": "2024-03-04T14:49:19.969Z"
   },
   {
    "duration": 10,
    "start_time": "2024-03-04T14:50:06.983Z"
   },
   {
    "duration": 3,
    "start_time": "2024-03-04T14:50:12.019Z"
   },
   {
    "duration": 3,
    "start_time": "2024-03-04T14:50:16.404Z"
   },
   {
    "duration": 25,
    "start_time": "2024-03-04T14:50:16.654Z"
   },
   {
    "duration": 2,
    "start_time": "2024-03-04T14:50:17.336Z"
   },
   {
    "duration": 2,
    "start_time": "2024-03-04T14:50:17.713Z"
   },
   {
    "duration": 2,
    "start_time": "2024-03-04T14:50:19.728Z"
   },
   {
    "duration": 45,
    "start_time": "2024-03-04T14:50:21.904Z"
   },
   {
    "duration": 53,
    "start_time": "2024-03-04T14:50:22.862Z"
   },
   {
    "duration": 9,
    "start_time": "2024-03-04T14:50:24.696Z"
   },
   {
    "duration": 3,
    "start_time": "2024-03-04T14:50:45.846Z"
   },
   {
    "duration": 4,
    "start_time": "2024-03-04T14:51:36.457Z"
   },
   {
    "duration": 69,
    "start_time": "2024-03-04T14:52:12.959Z"
   },
   {
    "duration": 70,
    "start_time": "2024-03-04T14:52:16.345Z"
   },
   {
    "duration": 4,
    "start_time": "2024-03-04T14:52:19.342Z"
   },
   {
    "duration": 5,
    "start_time": "2024-03-04T14:52:22.757Z"
   },
   {
    "duration": 4,
    "start_time": "2024-03-04T14:52:27.878Z"
   },
   {
    "duration": 10,
    "start_time": "2024-03-04T14:54:16.370Z"
   },
   {
    "duration": 3,
    "start_time": "2024-03-04T14:54:44.891Z"
   },
   {
    "duration": 10,
    "start_time": "2024-03-04T14:54:49.281Z"
   },
   {
    "duration": 11,
    "start_time": "2024-03-04T14:55:04.984Z"
   },
   {
    "duration": 11,
    "start_time": "2024-03-04T14:55:17.608Z"
   },
   {
    "duration": 9,
    "start_time": "2024-03-04T14:55:43.649Z"
   },
   {
    "duration": 4,
    "start_time": "2024-03-04T14:56:35.272Z"
   },
   {
    "duration": 4,
    "start_time": "2024-03-04T14:56:38.458Z"
   },
   {
    "duration": 5,
    "start_time": "2024-03-04T14:56:47.412Z"
   },
   {
    "duration": 4,
    "start_time": "2024-03-04T14:57:18.339Z"
   },
   {
    "duration": 4,
    "start_time": "2024-03-04T14:57:42.446Z"
   },
   {
    "duration": 4,
    "start_time": "2024-03-04T14:57:42.620Z"
   },
   {
    "duration": 4,
    "start_time": "2024-03-04T14:57:42.757Z"
   },
   {
    "duration": 3,
    "start_time": "2024-03-04T16:59:19.145Z"
   },
   {
    "duration": 26,
    "start_time": "2024-03-04T16:59:21.553Z"
   },
   {
    "duration": 2,
    "start_time": "2024-03-04T16:59:22.229Z"
   },
   {
    "duration": 3,
    "start_time": "2024-03-04T16:59:22.393Z"
   },
   {
    "duration": 3,
    "start_time": "2024-03-04T16:59:22.580Z"
   },
   {
    "duration": 40,
    "start_time": "2024-03-04T16:59:22.736Z"
   },
   {
    "duration": 18,
    "start_time": "2024-03-04T16:59:22.906Z"
   },
   {
    "duration": 5,
    "start_time": "2024-03-04T16:59:23.391Z"
   },
   {
    "duration": 4,
    "start_time": "2024-03-04T16:59:23.539Z"
   },
   {
    "duration": 4,
    "start_time": "2024-03-04T16:59:23.734Z"
   },
   {
    "duration": 1354,
    "start_time": "2024-03-04T18:04:30.129Z"
   },
   {
    "duration": 156,
    "start_time": "2024-03-04T18:04:31.485Z"
   },
   {
    "duration": 14,
    "start_time": "2024-03-04T18:04:31.643Z"
   },
   {
    "duration": 155,
    "start_time": "2024-03-04T18:04:31.658Z"
   },
   {
    "duration": 14,
    "start_time": "2024-03-04T18:04:31.814Z"
   },
   {
    "duration": 138,
    "start_time": "2024-03-04T18:04:31.829Z"
   },
   {
    "duration": 19,
    "start_time": "2024-03-04T18:04:31.969Z"
   },
   {
    "duration": 12,
    "start_time": "2024-03-04T18:04:31.990Z"
   },
   {
    "duration": 18,
    "start_time": "2024-03-04T18:04:32.003Z"
   },
   {
    "duration": 11,
    "start_time": "2024-03-04T18:04:32.023Z"
   },
   {
    "duration": 9,
    "start_time": "2024-03-04T18:04:32.036Z"
   },
   {
    "duration": 33,
    "start_time": "2024-03-04T18:04:32.047Z"
   },
   {
    "duration": 22,
    "start_time": "2024-03-04T18:04:32.081Z"
   },
   {
    "duration": 30,
    "start_time": "2024-03-04T18:04:32.115Z"
   },
   {
    "duration": 36,
    "start_time": "2024-03-04T18:04:32.147Z"
   },
   {
    "duration": 56,
    "start_time": "2024-03-04T18:04:32.184Z"
   },
   {
    "duration": 32,
    "start_time": "2024-03-04T18:04:32.241Z"
   },
   {
    "duration": 4,
    "start_time": "2024-03-04T18:04:32.275Z"
   },
   {
    "duration": 608,
    "start_time": "2024-03-04T18:04:32.280Z"
   },
   {
    "duration": 576,
    "start_time": "2024-03-04T18:04:32.889Z"
   },
   {
    "duration": 632,
    "start_time": "2024-03-04T18:04:33.466Z"
   },
   {
    "duration": 327,
    "start_time": "2024-03-04T18:04:34.100Z"
   },
   {
    "duration": 297,
    "start_time": "2024-03-04T18:04:34.428Z"
   },
   {
    "duration": 308,
    "start_time": "2024-03-04T18:04:34.727Z"
   },
   {
    "duration": 3,
    "start_time": "2024-03-04T18:04:35.037Z"
   },
   {
    "duration": 34,
    "start_time": "2024-03-04T18:04:35.042Z"
   },
   {
    "duration": 2,
    "start_time": "2024-03-04T18:04:35.078Z"
   },
   {
    "duration": 3,
    "start_time": "2024-03-04T18:04:35.083Z"
   },
   {
    "duration": 4,
    "start_time": "2024-03-04T18:04:35.087Z"
   },
   {
    "duration": 64,
    "start_time": "2024-03-04T18:04:35.092Z"
   },
   {
    "duration": 158,
    "start_time": "2024-03-04T18:04:35.158Z"
   },
   {
    "duration": 6,
    "start_time": "2024-03-04T18:04:35.318Z"
   },
   {
    "duration": 5,
    "start_time": "2024-03-04T18:04:35.416Z"
   },
   {
    "duration": 5,
    "start_time": "2024-03-04T18:04:35.422Z"
   },
   {
    "duration": 2,
    "start_time": "2024-03-04T19:08:49.876Z"
   },
   {
    "duration": 3,
    "start_time": "2024-03-04T19:10:12.270Z"
   },
   {
    "duration": 2,
    "start_time": "2024-03-04T19:10:12.425Z"
   },
   {
    "duration": 4,
    "start_time": "2024-03-04T19:10:47.669Z"
   },
   {
    "duration": 4,
    "start_time": "2024-03-04T19:11:14.386Z"
   },
   {
    "duration": 3,
    "start_time": "2024-03-04T19:12:31.371Z"
   },
   {
    "duration": 4,
    "start_time": "2024-03-04T19:12:31.610Z"
   },
   {
    "duration": 3,
    "start_time": "2024-03-04T19:18:11.141Z"
   },
   {
    "duration": 4,
    "start_time": "2024-03-04T19:18:32.347Z"
   },
   {
    "duration": 3,
    "start_time": "2024-03-04T19:18:42.939Z"
   },
   {
    "duration": 1675,
    "start_time": "2024-03-06T13:30:16.402Z"
   },
   {
    "duration": 528,
    "start_time": "2024-03-06T13:30:18.079Z"
   },
   {
    "duration": 16,
    "start_time": "2024-03-06T13:30:18.609Z"
   },
   {
    "duration": 560,
    "start_time": "2024-03-06T13:30:18.627Z"
   },
   {
    "duration": 14,
    "start_time": "2024-03-06T13:30:19.189Z"
   },
   {
    "duration": 531,
    "start_time": "2024-03-06T13:30:19.204Z"
   },
   {
    "duration": 15,
    "start_time": "2024-03-06T13:30:19.737Z"
   },
   {
    "duration": 12,
    "start_time": "2024-03-06T13:30:19.753Z"
   },
   {
    "duration": 7,
    "start_time": "2024-03-06T13:30:19.766Z"
   },
   {
    "duration": 5,
    "start_time": "2024-03-06T13:30:19.774Z"
   },
   {
    "duration": 5,
    "start_time": "2024-03-06T13:30:19.781Z"
   },
   {
    "duration": 32,
    "start_time": "2024-03-06T13:30:19.800Z"
   },
   {
    "duration": 23,
    "start_time": "2024-03-06T13:30:19.833Z"
   },
   {
    "duration": 57,
    "start_time": "2024-03-06T13:30:19.859Z"
   },
   {
    "duration": 38,
    "start_time": "2024-03-06T13:30:19.917Z"
   },
   {
    "duration": 47,
    "start_time": "2024-03-06T13:30:19.956Z"
   },
   {
    "duration": 34,
    "start_time": "2024-03-06T13:30:20.005Z"
   },
   {
    "duration": 4,
    "start_time": "2024-03-06T13:30:20.041Z"
   },
   {
    "duration": 638,
    "start_time": "2024-03-06T13:30:20.046Z"
   },
   {
    "duration": 597,
    "start_time": "2024-03-06T13:30:20.685Z"
   },
   {
    "duration": 595,
    "start_time": "2024-03-06T13:30:21.283Z"
   },
   {
    "duration": 338,
    "start_time": "2024-03-06T13:30:21.880Z"
   },
   {
    "duration": 306,
    "start_time": "2024-03-06T13:30:22.220Z"
   },
   {
    "duration": 304,
    "start_time": "2024-03-06T13:30:22.528Z"
   },
   {
    "duration": 4,
    "start_time": "2024-03-06T13:30:22.833Z"
   },
   {
    "duration": 38,
    "start_time": "2024-03-06T13:30:22.838Z"
   },
   {
    "duration": 2,
    "start_time": "2024-03-06T13:30:22.878Z"
   },
   {
    "duration": 18,
    "start_time": "2024-03-06T13:30:22.882Z"
   },
   {
    "duration": 4,
    "start_time": "2024-03-06T13:30:22.902Z"
   },
   {
    "duration": 207,
    "start_time": "2024-03-06T13:30:22.907Z"
   },
   {
    "duration": 88,
    "start_time": "2024-03-06T13:30:23.115Z"
   },
   {
    "duration": 96,
    "start_time": "2024-03-06T13:30:23.206Z"
   },
   {
    "duration": 96,
    "start_time": "2024-03-06T13:30:23.304Z"
   },
   {
    "duration": 5,
    "start_time": "2024-03-06T13:30:23.401Z"
   },
   {
    "duration": 3,
    "start_time": "2024-03-06T13:30:23.408Z"
   },
   {
    "duration": 5,
    "start_time": "2024-03-06T13:30:23.412Z"
   },
   {
    "duration": 11,
    "start_time": "2024-03-06T13:35:04.770Z"
   },
   {
    "duration": 13,
    "start_time": "2024-03-06T13:35:15.930Z"
   },
   {
    "duration": 12,
    "start_time": "2024-03-06T13:35:22.786Z"
   },
   {
    "duration": 13,
    "start_time": "2024-03-06T13:38:50.533Z"
   },
   {
    "duration": 13,
    "start_time": "2024-03-06T13:38:57.237Z"
   },
   {
    "duration": 13,
    "start_time": "2024-03-06T13:39:04.099Z"
   },
   {
    "duration": 11,
    "start_time": "2024-03-06T13:39:09.846Z"
   },
   {
    "duration": 12,
    "start_time": "2024-03-06T13:44:23.671Z"
   },
   {
    "duration": 11,
    "start_time": "2024-03-06T13:44:29.083Z"
   },
   {
    "duration": 12,
    "start_time": "2024-03-06T13:44:32.899Z"
   },
   {
    "duration": 12,
    "start_time": "2024-03-06T13:44:36.718Z"
   },
   {
    "duration": 12,
    "start_time": "2024-03-06T13:44:39.728Z"
   },
   {
    "duration": 12,
    "start_time": "2024-03-06T13:54:02.942Z"
   },
   {
    "duration": 11,
    "start_time": "2024-03-06T13:54:06.416Z"
   },
   {
    "duration": 14,
    "start_time": "2024-03-06T13:54:10.467Z"
   },
   {
    "duration": 12,
    "start_time": "2024-03-06T13:54:13.951Z"
   },
   {
    "duration": 13,
    "start_time": "2024-03-06T13:54:16.857Z"
   },
   {
    "duration": 4,
    "start_time": "2024-03-06T14:04:27.675Z"
   },
   {
    "duration": 112,
    "start_time": "2024-03-06T14:06:53.906Z"
   },
   {
    "duration": 5,
    "start_time": "2024-03-06T14:06:58.424Z"
   },
   {
    "duration": 7,
    "start_time": "2024-03-06T14:07:34.052Z"
   },
   {
    "duration": 6,
    "start_time": "2024-03-06T14:07:43.399Z"
   },
   {
    "duration": 7,
    "start_time": "2024-03-06T14:07:49.430Z"
   },
   {
    "duration": 3,
    "start_time": "2024-03-06T14:16:10.554Z"
   },
   {
    "duration": 3,
    "start_time": "2024-03-06T14:21:08.316Z"
   },
   {
    "duration": 3,
    "start_time": "2024-03-06T14:21:45.243Z"
   },
   {
    "duration": 6,
    "start_time": "2024-03-06T14:48:53.107Z"
   },
   {
    "duration": 5,
    "start_time": "2024-03-06T14:49:28.010Z"
   },
   {
    "duration": 9,
    "start_time": "2024-03-06T14:49:28.196Z"
   },
   {
    "duration": 61,
    "start_time": "2024-03-06T14:51:48.740Z"
   },
   {
    "duration": 17,
    "start_time": "2024-03-06T14:52:16.519Z"
   },
   {
    "duration": 2,
    "start_time": "2024-03-06T14:52:32.342Z"
   },
   {
    "duration": 4,
    "start_time": "2024-03-06T14:53:06.641Z"
   },
   {
    "duration": 7,
    "start_time": "2024-03-06T14:53:10.407Z"
   },
   {
    "duration": 7,
    "start_time": "2024-03-06T14:53:24.583Z"
   },
   {
    "duration": 6,
    "start_time": "2024-03-06T14:54:51.345Z"
   },
   {
    "duration": 10,
    "start_time": "2024-03-06T14:54:56.264Z"
   },
   {
    "duration": 3,
    "start_time": "2024-03-06T14:55:34.791Z"
   },
   {
    "duration": 10,
    "start_time": "2024-03-06T14:55:39.047Z"
   },
   {
    "duration": 10,
    "start_time": "2024-03-06T14:56:09.377Z"
   },
   {
    "duration": 12,
    "start_time": "2024-03-06T14:57:07.982Z"
   },
   {
    "duration": 5,
    "start_time": "2024-03-06T14:58:20.908Z"
   },
   {
    "duration": 809,
    "start_time": "2024-03-06T14:58:24.461Z"
   },
   {
    "duration": 787,
    "start_time": "2024-03-06T14:59:10.144Z"
   },
   {
    "duration": 771,
    "start_time": "2024-03-06T15:00:28.732Z"
   },
   {
    "duration": 804,
    "start_time": "2024-03-06T15:01:19.000Z"
   },
   {
    "duration": 1301,
    "start_time": "2024-03-06T15:01:37.462Z"
   },
   {
    "duration": 151,
    "start_time": "2024-03-06T15:01:38.764Z"
   },
   {
    "duration": 14,
    "start_time": "2024-03-06T15:01:38.916Z"
   },
   {
    "duration": 136,
    "start_time": "2024-03-06T15:01:38.932Z"
   },
   {
    "duration": 14,
    "start_time": "2024-03-06T15:01:39.070Z"
   },
   {
    "duration": 135,
    "start_time": "2024-03-06T15:01:39.086Z"
   },
   {
    "duration": 14,
    "start_time": "2024-03-06T15:01:39.222Z"
   },
   {
    "duration": 12,
    "start_time": "2024-03-06T15:01:39.237Z"
   },
   {
    "duration": 7,
    "start_time": "2024-03-06T15:01:39.250Z"
   },
   {
    "duration": 5,
    "start_time": "2024-03-06T15:01:39.260Z"
   },
   {
    "duration": 36,
    "start_time": "2024-03-06T15:01:39.266Z"
   },
   {
    "duration": 35,
    "start_time": "2024-03-06T15:01:39.304Z"
   },
   {
    "duration": 22,
    "start_time": "2024-03-06T15:01:39.341Z"
   },
   {
    "duration": 49,
    "start_time": "2024-03-06T15:01:39.364Z"
   },
   {
    "duration": 35,
    "start_time": "2024-03-06T15:01:39.415Z"
   },
   {
    "duration": 52,
    "start_time": "2024-03-06T15:01:39.451Z"
   },
   {
    "duration": 32,
    "start_time": "2024-03-06T15:01:39.504Z"
   },
   {
    "duration": 4,
    "start_time": "2024-03-06T15:01:39.538Z"
   },
   {
    "duration": 558,
    "start_time": "2024-03-06T15:01:39.543Z"
   },
   {
    "duration": 557,
    "start_time": "2024-03-06T15:01:40.102Z"
   },
   {
    "duration": 633,
    "start_time": "2024-03-06T15:01:40.660Z"
   },
   {
    "duration": 312,
    "start_time": "2024-03-06T15:01:41.295Z"
   },
   {
    "duration": 294,
    "start_time": "2024-03-06T15:01:41.608Z"
   },
   {
    "duration": 298,
    "start_time": "2024-03-06T15:01:41.904Z"
   },
   {
    "duration": 3,
    "start_time": "2024-03-06T15:01:42.204Z"
   },
   {
    "duration": 38,
    "start_time": "2024-03-06T15:01:42.209Z"
   },
   {
    "duration": 2,
    "start_time": "2024-03-06T15:01:42.249Z"
   },
   {
    "duration": 2,
    "start_time": "2024-03-06T15:01:42.255Z"
   },
   {
    "duration": 3,
    "start_time": "2024-03-06T15:01:42.259Z"
   },
   {
    "duration": 67,
    "start_time": "2024-03-06T15:01:42.263Z"
   },
   {
    "duration": 69,
    "start_time": "2024-03-06T15:01:42.332Z"
   },
   {
    "duration": 98,
    "start_time": "2024-03-06T15:01:42.403Z"
   },
   {
    "duration": 13,
    "start_time": "2024-03-06T15:01:42.503Z"
   },
   {
    "duration": 85,
    "start_time": "2024-03-06T15:01:42.517Z"
   },
   {
    "duration": 5,
    "start_time": "2024-03-06T15:01:42.604Z"
   },
   {
    "duration": 4,
    "start_time": "2024-03-06T15:01:42.611Z"
   },
   {
    "duration": 3,
    "start_time": "2024-03-06T15:01:42.617Z"
   },
   {
    "duration": 126,
    "start_time": "2024-03-06T15:01:42.621Z"
   },
   {
    "duration": 0,
    "start_time": "2024-03-06T15:01:42.748Z"
   },
   {
    "duration": 0,
    "start_time": "2024-03-06T15:01:42.750Z"
   },
   {
    "duration": 0,
    "start_time": "2024-03-06T15:01:42.751Z"
   },
   {
    "duration": 0,
    "start_time": "2024-03-06T15:01:42.753Z"
   },
   {
    "duration": 0,
    "start_time": "2024-03-06T15:01:42.754Z"
   },
   {
    "duration": 0,
    "start_time": "2024-03-06T15:01:42.755Z"
   },
   {
    "duration": 0,
    "start_time": "2024-03-06T15:01:42.756Z"
   },
   {
    "duration": 0,
    "start_time": "2024-03-06T15:01:42.758Z"
   },
   {
    "duration": 0,
    "start_time": "2024-03-06T15:01:42.759Z"
   },
   {
    "duration": 3,
    "start_time": "2024-03-06T15:04:33.014Z"
   },
   {
    "duration": 11,
    "start_time": "2024-03-06T15:04:33.970Z"
   },
   {
    "duration": 11,
    "start_time": "2024-03-06T15:04:34.189Z"
   },
   {
    "duration": 10,
    "start_time": "2024-03-06T15:04:34.341Z"
   },
   {
    "duration": 6,
    "start_time": "2024-03-06T15:04:34.543Z"
   },
   {
    "duration": 3,
    "start_time": "2024-03-06T15:04:35.277Z"
   },
   {
    "duration": 4,
    "start_time": "2024-03-06T15:04:36.131Z"
   },
   {
    "duration": 853,
    "start_time": "2024-03-06T15:04:36.259Z"
   },
   {
    "duration": 828,
    "start_time": "2024-03-06T15:04:37.114Z"
   },
   {
    "duration": 786,
    "start_time": "2024-03-06T15:04:37.944Z"
   },
   {
    "duration": 4,
    "start_time": "2024-03-06T15:04:50.623Z"
   },
   {
    "duration": 813,
    "start_time": "2024-03-06T15:04:50.784Z"
   },
   {
    "duration": 837,
    "start_time": "2024-03-06T15:04:51.599Z"
   },
   {
    "duration": 870,
    "start_time": "2024-03-06T15:04:52.437Z"
   },
   {
    "duration": 6,
    "start_time": "2024-03-06T15:04:56.195Z"
   },
   {
    "duration": 795,
    "start_time": "2024-03-06T15:04:56.342Z"
   },
   {
    "duration": 825,
    "start_time": "2024-03-06T15:04:57.139Z"
   },
   {
    "duration": 791,
    "start_time": "2024-03-06T15:04:57.966Z"
   },
   {
    "duration": 6,
    "start_time": "2024-03-06T15:05:12.575Z"
   },
   {
    "duration": 805,
    "start_time": "2024-03-06T15:05:12.738Z"
   },
   {
    "duration": 805,
    "start_time": "2024-03-06T15:05:13.545Z"
   },
   {
    "duration": 803,
    "start_time": "2024-03-06T15:05:14.352Z"
   },
   {
    "duration": 5,
    "start_time": "2024-03-06T15:05:19.964Z"
   },
   {
    "duration": 799,
    "start_time": "2024-03-06T15:05:20.149Z"
   },
   {
    "duration": 788,
    "start_time": "2024-03-06T15:05:20.949Z"
   },
   {
    "duration": 833,
    "start_time": "2024-03-06T15:05:21.738Z"
   },
   {
    "duration": 5,
    "start_time": "2024-03-06T15:05:29.400Z"
   },
   {
    "duration": 793,
    "start_time": "2024-03-06T15:05:30.922Z"
   },
   {
    "duration": 822,
    "start_time": "2024-03-06T15:05:31.716Z"
   },
   {
    "duration": 801,
    "start_time": "2024-03-06T15:05:32.539Z"
   },
   {
    "duration": 1400,
    "start_time": "2024-03-06T15:13:04.033Z"
   },
   {
    "duration": 161,
    "start_time": "2024-03-06T15:13:05.435Z"
   },
   {
    "duration": 15,
    "start_time": "2024-03-06T15:13:05.598Z"
   },
   {
    "duration": 139,
    "start_time": "2024-03-06T15:13:05.615Z"
   },
   {
    "duration": 15,
    "start_time": "2024-03-06T15:13:05.755Z"
   },
   {
    "duration": 148,
    "start_time": "2024-03-06T15:13:05.772Z"
   },
   {
    "duration": 21,
    "start_time": "2024-03-06T15:13:05.922Z"
   },
   {
    "duration": 15,
    "start_time": "2024-03-06T15:13:05.945Z"
   },
   {
    "duration": 12,
    "start_time": "2024-03-06T15:13:05.962Z"
   },
   {
    "duration": 6,
    "start_time": "2024-03-06T15:13:05.999Z"
   },
   {
    "duration": 6,
    "start_time": "2024-03-06T15:13:06.006Z"
   },
   {
    "duration": 34,
    "start_time": "2024-03-06T15:13:06.014Z"
   },
   {
    "duration": 25,
    "start_time": "2024-03-06T15:13:06.050Z"
   },
   {
    "duration": 34,
    "start_time": "2024-03-06T15:13:06.100Z"
   },
   {
    "duration": 39,
    "start_time": "2024-03-06T15:13:06.136Z"
   },
   {
    "duration": 56,
    "start_time": "2024-03-06T15:13:06.177Z"
   },
   {
    "duration": 34,
    "start_time": "2024-03-06T15:13:06.235Z"
   },
   {
    "duration": 5,
    "start_time": "2024-03-06T15:13:06.271Z"
   },
   {
    "duration": 587,
    "start_time": "2024-03-06T15:13:06.277Z"
   },
   {
    "duration": 545,
    "start_time": "2024-03-06T15:13:06.866Z"
   },
   {
    "duration": 667,
    "start_time": "2024-03-06T15:13:07.413Z"
   },
   {
    "duration": 328,
    "start_time": "2024-03-06T15:13:08.082Z"
   },
   {
    "duration": 297,
    "start_time": "2024-03-06T15:13:08.411Z"
   },
   {
    "duration": 314,
    "start_time": "2024-03-06T15:13:08.710Z"
   },
   {
    "duration": 3,
    "start_time": "2024-03-06T15:13:09.026Z"
   },
   {
    "duration": 37,
    "start_time": "2024-03-06T15:13:09.030Z"
   },
   {
    "duration": 2,
    "start_time": "2024-03-06T15:13:09.069Z"
   },
   {
    "duration": 2,
    "start_time": "2024-03-06T15:13:09.075Z"
   },
   {
    "duration": 21,
    "start_time": "2024-03-06T15:13:09.079Z"
   },
   {
    "duration": 49,
    "start_time": "2024-03-06T15:13:09.101Z"
   },
   {
    "duration": 56,
    "start_time": "2024-03-06T15:13:09.152Z"
   },
   {
    "duration": 90,
    "start_time": "2024-03-06T15:13:09.210Z"
   },
   {
    "duration": 103,
    "start_time": "2024-03-06T15:13:09.303Z"
   },
   {
    "duration": 4,
    "start_time": "2024-03-06T15:13:09.407Z"
   },
   {
    "duration": 5,
    "start_time": "2024-03-06T15:13:09.413Z"
   },
   {
    "duration": 8,
    "start_time": "2024-03-06T15:13:09.419Z"
   },
   {
    "duration": 6,
    "start_time": "2024-03-06T15:13:09.428Z"
   },
   {
    "duration": 8,
    "start_time": "2024-03-06T15:13:09.436Z"
   },
   {
    "duration": 12,
    "start_time": "2024-03-06T15:13:09.445Z"
   },
   {
    "duration": 44,
    "start_time": "2024-03-06T15:13:09.459Z"
   },
   {
    "duration": 11,
    "start_time": "2024-03-06T15:13:09.505Z"
   },
   {
    "duration": 6,
    "start_time": "2024-03-06T15:13:09.517Z"
   },
   {
    "duration": 4,
    "start_time": "2024-03-06T15:13:09.524Z"
   },
   {
    "duration": 5,
    "start_time": "2024-03-06T15:13:09.529Z"
   },
   {
    "duration": 927,
    "start_time": "2024-03-06T15:13:09.535Z"
   },
   {
    "duration": 872,
    "start_time": "2024-03-06T15:13:10.464Z"
   },
   {
    "duration": 885,
    "start_time": "2024-03-06T15:13:11.337Z"
   },
   {
    "duration": 2413,
    "start_time": "2024-03-06T21:04:04.890Z"
   },
   {
    "duration": 552,
    "start_time": "2024-03-06T21:04:07.306Z"
   },
   {
    "duration": 15,
    "start_time": "2024-03-06T21:04:07.860Z"
   },
   {
    "duration": 570,
    "start_time": "2024-03-06T21:04:07.878Z"
   },
   {
    "duration": 13,
    "start_time": "2024-03-06T21:04:08.449Z"
   },
   {
    "duration": 572,
    "start_time": "2024-03-06T21:04:08.464Z"
   },
   {
    "duration": 17,
    "start_time": "2024-03-06T21:04:09.037Z"
   },
   {
    "duration": 15,
    "start_time": "2024-03-06T21:04:09.055Z"
   },
   {
    "duration": 30,
    "start_time": "2024-03-06T21:04:09.072Z"
   },
   {
    "duration": 13,
    "start_time": "2024-03-06T21:04:09.105Z"
   },
   {
    "duration": 6,
    "start_time": "2024-03-06T21:04:09.120Z"
   },
   {
    "duration": 34,
    "start_time": "2024-03-06T21:04:09.127Z"
   },
   {
    "duration": 37,
    "start_time": "2024-03-06T21:04:09.163Z"
   },
   {
    "duration": 32,
    "start_time": "2024-03-06T21:04:09.201Z"
   },
   {
    "duration": 61,
    "start_time": "2024-03-06T21:04:09.234Z"
   },
   {
    "duration": 34,
    "start_time": "2024-03-06T21:04:09.297Z"
   },
   {
    "duration": 34,
    "start_time": "2024-03-06T21:04:09.333Z"
   },
   {
    "duration": 13,
    "start_time": "2024-03-06T21:04:09.369Z"
   },
   {
    "duration": 639,
    "start_time": "2024-03-06T21:04:09.384Z"
   },
   {
    "duration": 606,
    "start_time": "2024-03-06T21:04:10.025Z"
   },
   {
    "duration": 688,
    "start_time": "2024-03-06T21:04:10.633Z"
   },
   {
    "duration": 318,
    "start_time": "2024-03-06T21:04:11.322Z"
   },
   {
    "duration": 362,
    "start_time": "2024-03-06T21:04:11.641Z"
   },
   {
    "duration": 318,
    "start_time": "2024-03-06T21:04:12.004Z"
   },
   {
    "duration": 4,
    "start_time": "2024-03-06T21:04:12.323Z"
   },
   {
    "duration": 46,
    "start_time": "2024-03-06T21:04:12.328Z"
   },
   {
    "duration": 15,
    "start_time": "2024-03-06T21:04:12.376Z"
   },
   {
    "duration": 5,
    "start_time": "2024-03-06T21:04:12.394Z"
   },
   {
    "duration": 5,
    "start_time": "2024-03-06T21:04:12.400Z"
   },
   {
    "duration": 186,
    "start_time": "2024-03-06T21:04:12.406Z"
   },
   {
    "duration": 93,
    "start_time": "2024-03-06T21:04:12.594Z"
   },
   {
    "duration": 98,
    "start_time": "2024-03-06T21:04:12.690Z"
   },
   {
    "duration": 15,
    "start_time": "2024-03-06T21:04:12.792Z"
   },
   {
    "duration": 9,
    "start_time": "2024-03-06T21:04:12.809Z"
   },
   {
    "duration": 15,
    "start_time": "2024-03-06T21:04:12.820Z"
   },
   {
    "duration": 6,
    "start_time": "2024-03-06T21:04:12.837Z"
   },
   {
    "duration": 4,
    "start_time": "2024-03-06T21:04:12.845Z"
   },
   {
    "duration": 6,
    "start_time": "2024-03-06T21:04:12.850Z"
   },
   {
    "duration": 45,
    "start_time": "2024-03-06T21:04:12.858Z"
   },
   {
    "duration": 12,
    "start_time": "2024-03-06T21:04:12.905Z"
   },
   {
    "duration": 12,
    "start_time": "2024-03-06T21:04:12.919Z"
   },
   {
    "duration": 6,
    "start_time": "2024-03-06T21:04:12.933Z"
   },
   {
    "duration": 21,
    "start_time": "2024-03-06T21:04:12.941Z"
   },
   {
    "duration": 13,
    "start_time": "2024-03-06T21:04:12.963Z"
   },
   {
    "duration": 928,
    "start_time": "2024-03-06T21:04:12.978Z"
   },
   {
    "duration": 880,
    "start_time": "2024-03-06T21:04:13.908Z"
   },
   {
    "duration": 920,
    "start_time": "2024-03-06T21:04:14.793Z"
   },
   {
    "duration": 189,
    "start_time": "2024-03-06T21:13:01.696Z"
   },
   {
    "duration": 4,
    "start_time": "2024-03-06T21:13:05.465Z"
   },
   {
    "duration": 46,
    "start_time": "2024-03-06T21:13:12.132Z"
   },
   {
    "duration": 5,
    "start_time": "2024-03-06T21:13:17.412Z"
   },
   {
    "duration": 65,
    "start_time": "2024-03-07T18:41:27.086Z"
   },
   {
    "duration": 1692,
    "start_time": "2024-03-07T18:41:33.065Z"
   },
   {
    "duration": 505,
    "start_time": "2024-03-07T18:41:34.759Z"
   },
   {
    "duration": 15,
    "start_time": "2024-03-07T18:41:35.266Z"
   },
   {
    "duration": 562,
    "start_time": "2024-03-07T18:41:35.283Z"
   },
   {
    "duration": 14,
    "start_time": "2024-03-07T18:41:35.847Z"
   },
   {
    "duration": 553,
    "start_time": "2024-03-07T18:41:35.862Z"
   },
   {
    "duration": 14,
    "start_time": "2024-03-07T18:41:36.416Z"
   },
   {
    "duration": 12,
    "start_time": "2024-03-07T18:41:36.432Z"
   },
   {
    "duration": 8,
    "start_time": "2024-03-07T18:41:36.446Z"
   },
   {
    "duration": 6,
    "start_time": "2024-03-07T18:41:36.457Z"
   },
   {
    "duration": 23,
    "start_time": "2024-03-07T18:41:36.464Z"
   },
   {
    "duration": 41,
    "start_time": "2024-03-07T18:41:36.488Z"
   },
   {
    "duration": 24,
    "start_time": "2024-03-07T18:41:36.530Z"
   },
   {
    "duration": 52,
    "start_time": "2024-03-07T18:41:36.556Z"
   },
   {
    "duration": 39,
    "start_time": "2024-03-07T18:41:36.610Z"
   },
   {
    "duration": 52,
    "start_time": "2024-03-07T18:41:36.651Z"
   },
   {
    "duration": 34,
    "start_time": "2024-03-07T18:41:36.705Z"
   },
   {
    "duration": 5,
    "start_time": "2024-03-07T18:41:36.740Z"
   },
   {
    "duration": 668,
    "start_time": "2024-03-07T18:41:36.746Z"
   },
   {
    "duration": 570,
    "start_time": "2024-03-07T18:41:37.416Z"
   },
   {
    "duration": 705,
    "start_time": "2024-03-07T18:41:37.988Z"
   },
   {
    "duration": 316,
    "start_time": "2024-03-07T18:41:38.695Z"
   },
   {
    "duration": 340,
    "start_time": "2024-03-07T18:41:39.013Z"
   },
   {
    "duration": 334,
    "start_time": "2024-03-07T18:41:39.355Z"
   },
   {
    "duration": 3,
    "start_time": "2024-03-07T18:41:39.691Z"
   },
   {
    "duration": 209,
    "start_time": "2024-03-07T18:41:39.696Z"
   },
   {
    "duration": 29,
    "start_time": "2024-03-07T18:41:39.907Z"
   },
   {
    "duration": 3,
    "start_time": "2024-03-07T18:41:39.939Z"
   },
   {
    "duration": 18,
    "start_time": "2024-03-07T18:41:39.943Z"
   },
   {
    "duration": 14,
    "start_time": "2024-03-07T18:41:39.962Z"
   },
   {
    "duration": 54,
    "start_time": "2024-03-07T18:41:39.977Z"
   },
   {
    "duration": 48,
    "start_time": "2024-03-07T18:41:40.033Z"
   },
   {
    "duration": 9,
    "start_time": "2024-03-07T18:41:40.084Z"
   },
   {
    "duration": 187,
    "start_time": "2024-03-07T18:41:40.095Z"
   },
   {
    "duration": 5,
    "start_time": "2024-03-07T18:41:40.283Z"
   },
   {
    "duration": 10,
    "start_time": "2024-03-07T18:41:40.289Z"
   },
   {
    "duration": 4,
    "start_time": "2024-03-07T18:41:40.300Z"
   },
   {
    "duration": 3,
    "start_time": "2024-03-07T18:41:40.305Z"
   },
   {
    "duration": 7,
    "start_time": "2024-03-07T18:41:40.309Z"
   },
   {
    "duration": 20,
    "start_time": "2024-03-07T18:41:40.317Z"
   },
   {
    "duration": 24,
    "start_time": "2024-03-07T18:41:40.339Z"
   },
   {
    "duration": 15,
    "start_time": "2024-03-07T18:41:40.381Z"
   },
   {
    "duration": 7,
    "start_time": "2024-03-07T18:41:40.398Z"
   },
   {
    "duration": 4,
    "start_time": "2024-03-07T18:41:40.407Z"
   },
   {
    "duration": 24,
    "start_time": "2024-03-07T18:41:40.413Z"
   },
   {
    "duration": 914,
    "start_time": "2024-03-07T18:41:40.439Z"
   },
   {
    "duration": 899,
    "start_time": "2024-03-07T18:41:41.355Z"
   },
   {
    "duration": 871,
    "start_time": "2024-03-07T18:41:42.255Z"
   },
   {
    "duration": 81,
    "start_time": "2024-03-07T18:54:03.863Z"
   },
   {
    "duration": 11,
    "start_time": "2024-03-07T18:56:10.712Z"
   },
   {
    "duration": 84,
    "start_time": "2024-03-07T18:59:35.910Z"
   },
   {
    "duration": 108,
    "start_time": "2024-03-07T19:07:04.878Z"
   },
   {
    "duration": 10,
    "start_time": "2024-03-07T19:26:48.813Z"
   },
   {
    "duration": 14,
    "start_time": "2024-03-07T19:26:49.183Z"
   },
   {
    "duration": 5,
    "start_time": "2024-03-07T19:26:49.858Z"
   },
   {
    "duration": 5,
    "start_time": "2024-03-07T19:26:54.102Z"
   },
   {
    "duration": 5,
    "start_time": "2024-03-07T19:26:56.670Z"
   },
   {
    "duration": 5,
    "start_time": "2024-03-07T19:27:00.313Z"
   },
   {
    "duration": 1433,
    "start_time": "2024-03-07T19:30:10.998Z"
   },
   {
    "duration": 179,
    "start_time": "2024-03-07T19:30:12.433Z"
   },
   {
    "duration": 15,
    "start_time": "2024-03-07T19:30:12.613Z"
   },
   {
    "duration": 138,
    "start_time": "2024-03-07T19:30:12.630Z"
   },
   {
    "duration": 18,
    "start_time": "2024-03-07T19:30:12.769Z"
   },
   {
    "duration": 144,
    "start_time": "2024-03-07T19:30:12.788Z"
   },
   {
    "duration": 14,
    "start_time": "2024-03-07T19:30:12.934Z"
   },
   {
    "duration": 15,
    "start_time": "2024-03-07T19:30:12.949Z"
   },
   {
    "duration": 19,
    "start_time": "2024-03-07T19:30:12.965Z"
   },
   {
    "duration": 20,
    "start_time": "2024-03-07T19:30:12.986Z"
   },
   {
    "duration": 8,
    "start_time": "2024-03-07T19:30:13.008Z"
   },
   {
    "duration": 41,
    "start_time": "2024-03-07T19:30:13.017Z"
   },
   {
    "duration": 24,
    "start_time": "2024-03-07T19:30:13.059Z"
   },
   {
    "duration": 31,
    "start_time": "2024-03-07T19:30:13.085Z"
   },
   {
    "duration": 67,
    "start_time": "2024-03-07T19:30:13.118Z"
   },
   {
    "duration": 40,
    "start_time": "2024-03-07T19:30:13.187Z"
   },
   {
    "duration": 53,
    "start_time": "2024-03-07T19:30:13.228Z"
   },
   {
    "duration": 4,
    "start_time": "2024-03-07T19:30:13.282Z"
   },
   {
    "duration": 595,
    "start_time": "2024-03-07T19:30:13.287Z"
   },
   {
    "duration": 561,
    "start_time": "2024-03-07T19:30:13.883Z"
   },
   {
    "duration": 700,
    "start_time": "2024-03-07T19:30:14.446Z"
   },
   {
    "duration": 367,
    "start_time": "2024-03-07T19:30:15.148Z"
   },
   {
    "duration": 291,
    "start_time": "2024-03-07T19:30:15.516Z"
   },
   {
    "duration": 321,
    "start_time": "2024-03-07T19:30:15.809Z"
   },
   {
    "duration": 3,
    "start_time": "2024-03-07T19:30:16.132Z"
   },
   {
    "duration": 27,
    "start_time": "2024-03-07T19:30:16.137Z"
   },
   {
    "duration": 18,
    "start_time": "2024-03-07T19:30:16.166Z"
   },
   {
    "duration": 10,
    "start_time": "2024-03-07T19:30:16.187Z"
   },
   {
    "duration": 13,
    "start_time": "2024-03-07T19:30:16.198Z"
   },
   {
    "duration": 24,
    "start_time": "2024-03-07T19:30:16.213Z"
   },
   {
    "duration": 88,
    "start_time": "2024-03-07T19:30:16.238Z"
   },
   {
    "duration": 118,
    "start_time": "2024-03-07T19:30:16.327Z"
   },
   {
    "duration": 0,
    "start_time": "2024-03-07T19:30:16.446Z"
   },
   {
    "duration": 0,
    "start_time": "2024-03-07T19:30:16.448Z"
   },
   {
    "duration": 0,
    "start_time": "2024-03-07T19:30:16.449Z"
   },
   {
    "duration": 0,
    "start_time": "2024-03-07T19:30:16.450Z"
   },
   {
    "duration": 0,
    "start_time": "2024-03-07T19:30:16.451Z"
   },
   {
    "duration": 0,
    "start_time": "2024-03-07T19:30:16.453Z"
   },
   {
    "duration": 0,
    "start_time": "2024-03-07T19:30:16.454Z"
   },
   {
    "duration": 0,
    "start_time": "2024-03-07T19:30:16.456Z"
   },
   {
    "duration": 0,
    "start_time": "2024-03-07T19:30:16.457Z"
   },
   {
    "duration": 0,
    "start_time": "2024-03-07T19:30:16.458Z"
   },
   {
    "duration": 0,
    "start_time": "2024-03-07T19:30:16.460Z"
   },
   {
    "duration": 0,
    "start_time": "2024-03-07T19:30:16.481Z"
   },
   {
    "duration": 0,
    "start_time": "2024-03-07T19:30:16.482Z"
   },
   {
    "duration": 1,
    "start_time": "2024-03-07T19:30:16.483Z"
   },
   {
    "duration": 0,
    "start_time": "2024-03-07T19:30:16.485Z"
   },
   {
    "duration": 0,
    "start_time": "2024-03-07T19:30:16.487Z"
   },
   {
    "duration": 1421,
    "start_time": "2024-03-07T19:31:54.572Z"
   },
   {
    "duration": 172,
    "start_time": "2024-03-07T19:31:55.995Z"
   },
   {
    "duration": 24,
    "start_time": "2024-03-07T19:31:56.169Z"
   },
   {
    "duration": 147,
    "start_time": "2024-03-07T19:31:56.196Z"
   },
   {
    "duration": 14,
    "start_time": "2024-03-07T19:31:56.345Z"
   },
   {
    "duration": 138,
    "start_time": "2024-03-07T19:31:56.361Z"
   },
   {
    "duration": 15,
    "start_time": "2024-03-07T19:31:56.502Z"
   },
   {
    "duration": 14,
    "start_time": "2024-03-07T19:31:56.519Z"
   },
   {
    "duration": 32,
    "start_time": "2024-03-07T19:31:56.535Z"
   },
   {
    "duration": 12,
    "start_time": "2024-03-07T19:31:56.571Z"
   },
   {
    "duration": 24,
    "start_time": "2024-03-07T19:31:56.585Z"
   },
   {
    "duration": 71,
    "start_time": "2024-03-07T19:31:56.611Z"
   },
   {
    "duration": 24,
    "start_time": "2024-03-07T19:31:56.683Z"
   },
   {
    "duration": 41,
    "start_time": "2024-03-07T19:31:56.709Z"
   },
   {
    "duration": 64,
    "start_time": "2024-03-07T19:31:56.752Z"
   },
   {
    "duration": 38,
    "start_time": "2024-03-07T19:31:56.818Z"
   },
   {
    "duration": 58,
    "start_time": "2024-03-07T19:31:56.859Z"
   },
   {
    "duration": 5,
    "start_time": "2024-03-07T19:31:56.919Z"
   },
   {
    "duration": 656,
    "start_time": "2024-03-07T19:31:56.925Z"
   },
   {
    "duration": 563,
    "start_time": "2024-03-07T19:31:57.583Z"
   },
   {
    "duration": 722,
    "start_time": "2024-03-07T19:31:58.148Z"
   },
   {
    "duration": 324,
    "start_time": "2024-03-07T19:31:58.872Z"
   },
   {
    "duration": 313,
    "start_time": "2024-03-07T19:31:59.199Z"
   },
   {
    "duration": 315,
    "start_time": "2024-03-07T19:31:59.514Z"
   },
   {
    "duration": 4,
    "start_time": "2024-03-07T19:31:59.830Z"
   },
   {
    "duration": 55,
    "start_time": "2024-03-07T19:31:59.836Z"
   },
   {
    "duration": 2,
    "start_time": "2024-03-07T19:31:59.893Z"
   },
   {
    "duration": 3,
    "start_time": "2024-03-07T19:31:59.899Z"
   },
   {
    "duration": 6,
    "start_time": "2024-03-07T19:31:59.903Z"
   },
   {
    "duration": 12,
    "start_time": "2024-03-07T19:31:59.911Z"
   },
   {
    "duration": 93,
    "start_time": "2024-03-07T19:31:59.925Z"
   },
   {
    "duration": 64,
    "start_time": "2024-03-07T19:32:00.020Z"
   },
   {
    "duration": 101,
    "start_time": "2024-03-07T19:32:00.086Z"
   },
   {
    "duration": 100,
    "start_time": "2024-03-07T19:32:00.190Z"
   },
   {
    "duration": 131,
    "start_time": "2024-03-07T19:32:00.291Z"
   },
   {
    "duration": 90,
    "start_time": "2024-03-07T19:32:00.424Z"
   },
   {
    "duration": 57,
    "start_time": "2024-03-07T19:32:00.516Z"
   },
   {
    "duration": 125,
    "start_time": "2024-03-07T19:32:00.574Z"
   },
   {
    "duration": 110,
    "start_time": "2024-03-07T19:32:00.701Z"
   },
   {
    "duration": 124,
    "start_time": "2024-03-07T19:32:00.812Z"
   },
   {
    "duration": 64,
    "start_time": "2024-03-07T19:32:00.938Z"
   },
   {
    "duration": 62,
    "start_time": "2024-03-07T19:32:01.003Z"
   },
   {
    "duration": 49,
    "start_time": "2024-03-07T19:32:01.067Z"
   },
   {
    "duration": 78,
    "start_time": "2024-03-07T19:32:01.119Z"
   },
   {
    "duration": 55,
    "start_time": "2024-03-07T19:32:01.199Z"
   },
   {
    "duration": 1006,
    "start_time": "2024-03-07T19:32:01.257Z"
   },
   {
    "duration": 954,
    "start_time": "2024-03-07T19:32:02.265Z"
   },
   {
    "duration": 883,
    "start_time": "2024-03-07T19:32:03.221Z"
   },
   {
    "duration": 1536,
    "start_time": "2024-03-07T19:39:18.941Z"
   },
   {
    "duration": 170,
    "start_time": "2024-03-07T19:39:20.479Z"
   },
   {
    "duration": 22,
    "start_time": "2024-03-07T19:39:20.651Z"
   },
   {
    "duration": 137,
    "start_time": "2024-03-07T19:39:20.681Z"
   },
   {
    "duration": 13,
    "start_time": "2024-03-07T19:39:20.820Z"
   },
   {
    "duration": 151,
    "start_time": "2024-03-07T19:39:20.835Z"
   },
   {
    "duration": 15,
    "start_time": "2024-03-07T19:39:20.988Z"
   },
   {
    "duration": 12,
    "start_time": "2024-03-07T19:39:21.004Z"
   },
   {
    "duration": 15,
    "start_time": "2024-03-07T19:39:21.018Z"
   },
   {
    "duration": 12,
    "start_time": "2024-03-07T19:39:21.036Z"
   },
   {
    "duration": 19,
    "start_time": "2024-03-07T19:39:21.050Z"
   },
   {
    "duration": 39,
    "start_time": "2024-03-07T19:39:21.070Z"
   },
   {
    "duration": 33,
    "start_time": "2024-03-07T19:39:21.111Z"
   },
   {
    "duration": 44,
    "start_time": "2024-03-07T19:39:21.145Z"
   },
   {
    "duration": 39,
    "start_time": "2024-03-07T19:39:21.190Z"
   },
   {
    "duration": 55,
    "start_time": "2024-03-07T19:39:21.230Z"
   },
   {
    "duration": 34,
    "start_time": "2024-03-07T19:39:21.287Z"
   },
   {
    "duration": 4,
    "start_time": "2024-03-07T19:39:21.322Z"
   },
   {
    "duration": 594,
    "start_time": "2024-03-07T19:39:21.328Z"
   },
   {
    "duration": 652,
    "start_time": "2024-03-07T19:39:21.924Z"
   },
   {
    "duration": 684,
    "start_time": "2024-03-07T19:39:22.577Z"
   },
   {
    "duration": 334,
    "start_time": "2024-03-07T19:39:23.263Z"
   },
   {
    "duration": 300,
    "start_time": "2024-03-07T19:39:23.599Z"
   },
   {
    "duration": 303,
    "start_time": "2024-03-07T19:39:23.901Z"
   },
   {
    "duration": 3,
    "start_time": "2024-03-07T19:39:24.206Z"
   },
   {
    "duration": 35,
    "start_time": "2024-03-07T19:39:24.211Z"
   },
   {
    "duration": 2,
    "start_time": "2024-03-07T19:39:24.247Z"
   },
   {
    "duration": 10,
    "start_time": "2024-03-07T19:39:24.252Z"
   },
   {
    "duration": 19,
    "start_time": "2024-03-07T19:39:24.263Z"
   },
   {
    "duration": 12,
    "start_time": "2024-03-07T19:39:24.284Z"
   },
   {
    "duration": 104,
    "start_time": "2024-03-07T19:39:24.298Z"
   },
   {
    "duration": 77,
    "start_time": "2024-03-07T19:39:24.404Z"
   },
   {
    "duration": 104,
    "start_time": "2024-03-07T19:39:24.484Z"
   },
   {
    "duration": 33,
    "start_time": "2024-03-07T19:39:24.591Z"
   },
   {
    "duration": 56,
    "start_time": "2024-03-07T19:39:24.627Z"
   },
   {
    "duration": 5,
    "start_time": "2024-03-07T19:39:24.685Z"
   },
   {
    "duration": 4,
    "start_time": "2024-03-07T19:39:24.692Z"
   },
   {
    "duration": 30,
    "start_time": "2024-03-07T19:39:24.697Z"
   },
   {
    "duration": 17,
    "start_time": "2024-03-07T19:39:24.729Z"
   },
   {
    "duration": 14,
    "start_time": "2024-03-07T19:39:24.747Z"
   },
   {
    "duration": 11,
    "start_time": "2024-03-07T19:39:24.763Z"
   },
   {
    "duration": 23,
    "start_time": "2024-03-07T19:39:24.775Z"
   },
   {
    "duration": 5,
    "start_time": "2024-03-07T19:39:24.800Z"
   },
   {
    "duration": 5,
    "start_time": "2024-03-07T19:39:24.807Z"
   },
   {
    "duration": 5,
    "start_time": "2024-03-07T19:39:24.813Z"
   },
   {
    "duration": 906,
    "start_time": "2024-03-07T19:39:24.819Z"
   },
   {
    "duration": 850,
    "start_time": "2024-03-07T19:39:25.727Z"
   },
   {
    "duration": 863,
    "start_time": "2024-03-07T19:39:26.580Z"
   }
  ],
  "kernelspec": {
   "display_name": "Python 3 (ipykernel)",
   "language": "python",
   "name": "python3"
  },
  "language_info": {
   "codemirror_mode": {
    "name": "ipython",
    "version": 3
   },
   "file_extension": ".py",
   "mimetype": "text/x-python",
   "name": "python",
   "nbconvert_exporter": "python",
   "pygments_lexer": "ipython3",
   "version": "3.9.5"
  },
  "toc": {
   "base_numbering": 1,
   "nav_menu": {},
   "number_sections": true,
   "sideBar": true,
   "skip_h1_title": true,
   "title_cell": "Table of Contents",
   "title_sidebar": "Contents",
   "toc_cell": false,
   "toc_position": {},
   "toc_section_display": true,
   "toc_window_display": false
  }
 },
 "nbformat": 4,
 "nbformat_minor": 2
}

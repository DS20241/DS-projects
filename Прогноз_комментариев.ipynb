{
 "cells": [
  {
   "cell_type": "markdown",
   "metadata": {
    "toc": true
   },
   "source": [
    "<h1>Содержание<span class=\"tocSkip\"></span></h1>\n",
    "<div class=\"toc\"><ul class=\"toc-item\"><li><span><a href=\"#Подготовка\" data-toc-modified-id=\"Подготовка-1\"><span class=\"toc-item-num\">1&nbsp;&nbsp;</span>Подготовка</a></span></li><li><span><a href=\"#Обучение\" data-toc-modified-id=\"Обучение-2\"><span class=\"toc-item-num\">2&nbsp;&nbsp;</span>Обучение</a></span></li><li><span><a href=\"#Выводы\" data-toc-modified-id=\"Выводы-3\"><span class=\"toc-item-num\">3&nbsp;&nbsp;</span>Выводы</a></span></li><li><span><a href=\"#Чек-лист-проверки\" data-toc-modified-id=\"Чек-лист-проверки-4\"><span class=\"toc-item-num\">4&nbsp;&nbsp;</span>Чек-лист проверки</a></span></li></ul></div>"
   ]
  },
  {
   "cell_type": "markdown",
   "metadata": {},
   "source": [
    "# Проект для «Викишоп»"
   ]
  },
  {
   "cell_type": "markdown",
   "metadata": {},
   "source": [
    "Интернет-магазин «Викишоп» запускает новый сервис. Теперь пользователи могут редактировать и дополнять описания товаров, как в вики-сообществах. То есть клиенты предлагают свои правки и комментируют изменения других. Магазину нужен инструмент, который будет искать токсичные комментарии и отправлять их на модерацию. \n",
    "\n",
    "Наша задача - обучить модель и классифицировать комментарии на позитивные и негативные. В вашем распоряжении набор данных с разметкой о токсичности правок.\n",
    "\n",
    "Модель должна быть со значением метрики качества *F1* не меньше 0.75. \n",
    "\n",
    "**Описание данных**\n",
    "\n",
    "Данные находятся в файле `toxic_comments.csv`. Столбец *text* в нём содержит текст комментария, а *toxic* — целевой признак."
   ]
  },
  {
   "cell_type": "markdown",
   "metadata": {},
   "source": [
    "## Подготовка"
   ]
  },
  {
   "cell_type": "code",
   "execution_count": 1,
   "metadata": {},
   "outputs": [],
   "source": [
    "import pandas as pd\n",
    "import numpy as np\n",
    "import re\n",
    "from pymystem3 import Mystem\n",
    "from sklearn.feature_extraction.text import TfidfVectorizer\n",
    "from sklearn.model_selection import train_test_split\n",
    "from nltk.corpus import stopwords\n",
    "import nltk\n",
    "from nltk.corpus import wordnet\n",
    "from nltk.stem import WordNetLemmatizer\n",
    "import spacy\n",
    "from sklearn.pipeline import Pipeline\n",
    "from sklearn.linear_model import LogisticRegression\n",
    "from sklearn.svm import SVC\n",
    "from sklearn.ensemble import RandomForestClassifier, GradientBoostingClassifier\n",
    "from sklearn.model_selection import RandomizedSearchCV\n",
    "import warnings\n",
    "warnings.filterwarnings(\"ignore\")\n",
    "from sklearn.metrics import f1_score"
   ]
  },
  {
   "cell_type": "code",
   "execution_count": 2,
   "metadata": {},
   "outputs": [],
   "source": [
    "df = pd.read_csv('/datasets/toxic_comments.csv', index_col = 0)"
   ]
  },
  {
   "cell_type": "code",
   "execution_count": 3,
   "metadata": {},
   "outputs": [
    {
     "data": {
      "text/html": [
       "<div>\n",
       "<style scoped>\n",
       "    .dataframe tbody tr th:only-of-type {\n",
       "        vertical-align: middle;\n",
       "    }\n",
       "\n",
       "    .dataframe tbody tr th {\n",
       "        vertical-align: top;\n",
       "    }\n",
       "\n",
       "    .dataframe thead th {\n",
       "        text-align: right;\n",
       "    }\n",
       "</style>\n",
       "<table border=\"1\" class=\"dataframe\">\n",
       "  <thead>\n",
       "    <tr style=\"text-align: right;\">\n",
       "      <th></th>\n",
       "      <th>text</th>\n",
       "      <th>toxic</th>\n",
       "    </tr>\n",
       "  </thead>\n",
       "  <tbody>\n",
       "    <tr>\n",
       "      <th>0</th>\n",
       "      <td>Explanation\\nWhy the edits made under my usern...</td>\n",
       "      <td>0</td>\n",
       "    </tr>\n",
       "    <tr>\n",
       "      <th>1</th>\n",
       "      <td>D'aww! He matches this background colour I'm s...</td>\n",
       "      <td>0</td>\n",
       "    </tr>\n",
       "    <tr>\n",
       "      <th>2</th>\n",
       "      <td>Hey man, I'm really not trying to edit war. It...</td>\n",
       "      <td>0</td>\n",
       "    </tr>\n",
       "    <tr>\n",
       "      <th>3</th>\n",
       "      <td>\"\\nMore\\nI can't make any real suggestions on ...</td>\n",
       "      <td>0</td>\n",
       "    </tr>\n",
       "    <tr>\n",
       "      <th>4</th>\n",
       "      <td>You, sir, are my hero. Any chance you remember...</td>\n",
       "      <td>0</td>\n",
       "    </tr>\n",
       "  </tbody>\n",
       "</table>\n",
       "</div>"
      ],
      "text/plain": [
       "                                                text  toxic\n",
       "0  Explanation\\nWhy the edits made under my usern...      0\n",
       "1  D'aww! He matches this background colour I'm s...      0\n",
       "2  Hey man, I'm really not trying to edit war. It...      0\n",
       "3  \"\\nMore\\nI can't make any real suggestions on ...      0\n",
       "4  You, sir, are my hero. Any chance you remember...      0"
      ]
     },
     "execution_count": 3,
     "metadata": {},
     "output_type": "execute_result"
    }
   ],
   "source": [
    "df.head()"
   ]
  },
  {
   "cell_type": "code",
   "execution_count": 4,
   "metadata": {},
   "outputs": [
    {
     "name": "stdout",
     "output_type": "stream",
     "text": [
      "<class 'pandas.core.frame.DataFrame'>\n",
      "Int64Index: 159292 entries, 0 to 159450\n",
      "Data columns (total 2 columns):\n",
      " #   Column  Non-Null Count   Dtype \n",
      "---  ------  --------------   ----- \n",
      " 0   text    159292 non-null  object\n",
      " 1   toxic   159292 non-null  int64 \n",
      "dtypes: int64(1), object(1)\n",
      "memory usage: 3.6+ MB\n"
     ]
    }
   ],
   "source": [
    "df.info()"
   ]
  },
  {
   "cell_type": "markdown",
   "metadata": {},
   "source": [
    "Видим, что в данных присутствует разделитель. Избавимся от него."
   ]
  },
  {
   "cell_type": "code",
   "execution_count": 5,
   "metadata": {},
   "outputs": [],
   "source": [
    "def clean(text):\n",
    "    text = re.sub(r\"(?:\\n|\\r)\", \" \", text)\n",
    "    text = re.sub(r\"[^a-zA-Z ]+\", \"\", text).strip()\n",
    "    text = text.lower()\n",
    "    return text\n",
    "\n",
    "df['text'] = df['text'].apply(clean)"
   ]
  },
  {
   "cell_type": "markdown",
   "metadata": {},
   "source": [
    "Проведем лемматизацию."
   ]
  },
  {
   "cell_type": "code",
   "execution_count": 6,
   "metadata": {},
   "outputs": [
    {
     "name": "stderr",
     "output_type": "stream",
     "text": [
      "[nltk_data] Downloading package wordnet to /home/jovyan/nltk_data...\n",
      "[nltk_data]   Package wordnet is already up-to-date!\n"
     ]
    },
    {
     "data": {
      "text/plain": [
       "0         explanation why the edit make under my usernam...\n",
       "1         daww he match this background colour im seemin...\n",
       "2         hey man im really not try to edit war its just...\n",
       "3         more i cant make any real suggestions on impro...\n",
       "4         you sir be my hero any chance you remember wha...\n",
       "                                ...                        \n",
       "159446    and for the second time of ask when your view ...\n",
       "159447    you should be ashamed of yourself that be a ho...\n",
       "159448    spitzer umm theres no actual article for prost...\n",
       "159449    and it look like it be actually you who put on...\n",
       "159450    and i really dont think you understand i come ...\n",
       "Name: text, Length: 159292, dtype: object"
      ]
     },
     "execution_count": 6,
     "metadata": {},
     "output_type": "execute_result"
    }
   ],
   "source": [
    "nltk.download('wordnet')\n",
    "lemmatizer = WordNetLemmatizer()\n",
    "\n",
    "def lemmatize(text):\n",
    "    words = text.split()\n",
    "    lemmatized_words = [lemmatizer.lemmatize(word, wordnet.VERB) for word in words]\n",
    "    lemmatized_text = ' '.join(lemmatized_words)\n",
    "    return lemmatized_text\n",
    "\n",
    "df['text'] = df['text'].apply(lemmatize)\n",
    "df['text']"
   ]
  },
  {
   "cell_type": "markdown",
   "metadata": {},
   "source": [
    "## Обучение"
   ]
  },
  {
   "cell_type": "markdown",
   "metadata": {},
   "source": [
    "Обозначим стоп-слова."
   ]
  },
  {
   "cell_type": "code",
   "execution_count": 7,
   "metadata": {},
   "outputs": [],
   "source": [
    "stop_words = set(stopwords.words('english'))"
   ]
  },
  {
   "cell_type": "code",
   "execution_count": 8,
   "metadata": {},
   "outputs": [],
   "source": [
    "y = df['toxic'].values\n",
    "X = df['text'].values\n",
    "TEST_SIZE = 0.1\n",
    "VALIDATION_SIZE = 0.1\n",
    "RANDOM_STATE = 42"
   ]
  },
  {
   "cell_type": "markdown",
   "metadata": {},
   "source": [
    "Теперь мы готовы к подбору лучшей модели Логистической регресии."
   ]
  },
  {
   "cell_type": "code",
   "execution_count": 9,
   "metadata": {},
   "outputs": [],
   "source": [
    "X_train, X_temp, y_train, y_temp = train_test_split(X, y, test_size=TEST_SIZE + VALIDATION_SIZE, random_state=RANDOM_STATE)\n",
    "X_val, X_test, y_val, y_test = train_test_split(X_temp, y_temp, test_size=TEST_SIZE / (TEST_SIZE + VALIDATION_SIZE), random_state=RANDOM_STATE)\n",
    "\n",
    "tfidf = TfidfVectorizer(stop_words=stop_words, ngram_range=(1, 1))\n",
    "X_train_tfidf = tfidf.fit_transform(X_train)\n",
    "X_val_tfidf = tfidf.transform(X_val)\n",
    "X_test_tfidf = tfidf.transform(X_test)\n",
    "\n",
    "warnings.filterwarnings(\"ignore\", category=UserWarning, module='sklearn')"
   ]
  },
  {
   "cell_type": "code",
   "execution_count": 10,
   "metadata": {},
   "outputs": [
    {
     "name": "stdout",
     "output_type": "stream",
     "text": [
      "C=1, penalty=l1, f1=0.6971141781681305\n",
      "C=1, penalty=l2, f1=0.7390946502057613\n",
      "C=5, penalty=l1, f1=0.7462600690448792\n",
      "C=5, penalty=l2, f1=0.7684992570579494\n",
      "C=10, penalty=l1, f1=0.7586626139817629\n",
      "C=10, penalty=l2, f1=0.7579856115107914\n"
     ]
    }
   ],
   "source": [
    "best_f1 = 0\n",
    "best_params = {}\n",
    "\n",
    "for C in [1, 5, 10]:\n",
    "    for penalty in ['l1', 'l2']:\n",
    "        clf = LogisticRegression(random_state=RANDOM_STATE, class_weight='balanced', solver='saga', max_iter=100, C=C, penalty=penalty)\n",
    "        clf.fit(X_train_tfidf, y_train)\n",
    "        y_val_pred = clf.predict(X_val_tfidf)\n",
    "        f1 = f1_score(y_val, y_val_pred)\n",
    "        print(f'C={C}, penalty={penalty}, f1={f1}')\n",
    "        if f1 > best_f1:\n",
    "            best_f1 = f1\n",
    "            best_params = {'C': C, 'penalty': penalty}"
   ]
  },
  {
   "cell_type": "code",
   "execution_count": 11,
   "metadata": {},
   "outputs": [
    {
     "name": "stdout",
     "output_type": "stream",
     "text": [
      "Лучшие параметры для модели: {'C': 5, 'penalty': 'l2'}\n",
      "Финальная метрика F1 на валидационной выборке: 0.7684992570579494\n"
     ]
    }
   ],
   "source": [
    "best_clf = LogisticRegression(random_state=RANDOM_STATE, class_weight='balanced', solver='saga', max_iter=100, **best_params)\n",
    "best_clf.fit(X_train_tfidf, y_train)\n",
    "\n",
    "y_val_pred = best_clf.predict(X_val_tfidf)\n",
    "final_f1 = f1_score(y_val, y_val_pred)\n",
    "\n",
    "print(f'Лучшие параметры для модели: {best_params}')\n",
    "print(f'Финальная метрика F1 на валидационной выборке: {final_f1}')"
   ]
  },
  {
   "cell_type": "markdown",
   "metadata": {},
   "source": [
    "Сделаем тоже самое для случайного леса."
   ]
  },
  {
   "cell_type": "code",
   "execution_count": 12,
   "metadata": {},
   "outputs": [
    {
     "name": "stdout",
     "output_type": "stream",
     "text": [
      "n_estimators=50, max_depth=5, f1=0.32015200095000595\n",
      "n_estimators=50, max_depth=15, f1=0.3555908850026498\n",
      "n_estimators=300, max_depth=5, f1=0.3288416075650118\n",
      "n_estimators=300, max_depth=15, f1=0.37113402061855666\n",
      "n_estimators=50, max_depth=5, f1=0.32015200095000595\n",
      "n_estimators=50, max_depth=15, f1=0.3555908850026498\n"
     ]
    }
   ],
   "source": [
    "best_f1 = 0\n",
    "best_params = {}\n",
    "\n",
    "for n_estimators in [50, 300, 50]:\n",
    "    for max_depth in [5, 15]:\n",
    "        clf_2 = RandomForestClassifier(random_state=RANDOM_STATE, class_weight='balanced', n_estimators=n_estimators, max_depth=max_depth)\n",
    "        clf_2.fit(X_train_tfidf, y_train)\n",
    "        y_val_pred = clf_2.predict(X_val_tfidf)\n",
    "        f1 = f1_score(y_val, y_val_pred)\n",
    "        print(f'n_estimators={n_estimators}, max_depth={max_depth}, f1={f1}')\n",
    "        if f1 > best_f1:\n",
    "            best_f1 = f1\n",
    "            best_params = {'n_estimators': n_estimators, 'max_depth': max_depth}"
   ]
  },
  {
   "cell_type": "code",
   "execution_count": 13,
   "metadata": {},
   "outputs": [
    {
     "name": "stdout",
     "output_type": "stream",
     "text": [
      "Лучшие параметры для модели: {'n_estimators': 300, 'max_depth': 15}\n",
      "Финальная метрика F1 на валидационной выборке: 0.37113402061855666\n"
     ]
    }
   ],
   "source": [
    "best_clf_2 = RandomForestClassifier(random_state=RANDOM_STATE, class_weight='balanced', **best_params)\n",
    "best_clf_2.fit(X_train_tfidf, y_train)\n",
    "\n",
    "y_val_pred = best_clf_2.predict(X_val_tfidf)\n",
    "final_f1 = f1_score(y_val, y_val_pred)\n",
    "\n",
    "print(f'Лучшие параметры для модели: {best_params}')\n",
    "print(f'Финальная метрика F1 на валидационной выборке: {final_f1}')"
   ]
  },
  {
   "cell_type": "markdown",
   "metadata": {},
   "source": [
    "Согласно оценкам, видим, что регрессия оказалась лучше. Выплоним тест на тестовых данных, и сделаем выводы."
   ]
  },
  {
   "cell_type": "code",
   "execution_count": 14,
   "metadata": {},
   "outputs": [
    {
     "name": "stdout",
     "output_type": "stream",
     "text": [
      "Финальная метрика F1 на тестовой выборке: 0.7771156138259833\n"
     ]
    }
   ],
   "source": [
    "y_test_pred = best_clf.predict(X_test_tfidf)\n",
    "final_f1 = f1_score(y_test, y_test_pred)\n",
    "\n",
    "print(f'Финальная метрика F1 на тестовой выборке: {final_f1}')"
   ]
  },
  {
   "cell_type": "markdown",
   "metadata": {},
   "source": [
    "## Выводы"
   ]
  },
  {
   "cell_type": "markdown",
   "metadata": {},
   "source": [
    "В ходе выполнения задачи мы провели предобработку данных, включающую удаление разделителей и лемматизацию текста. Затем мы обучили модели, и оценили ее производительность с помощью метрики F1.<br><br>Итоговый результат показывает, что логистическая регрессия показала себя лучше, ведь ее значение F1 на тестовом наборе данных равно 0.777, что удовлетворяет требованию поставленной задачи. Это означает, что модель способна эффективно классифицировать комментарии на позитивные и негативные, что позволит магазину автоматически отправлять токсичные комментарии на модерацию.<br><br>Таким образом, мы успешно разработали инструмент для обнаружения токсичных комментариев, что поможет улучшить качество контента и обеспечить более безопасное и приятное пользовательское взаимодействие в интернет-магазине \"Викишоп\"."
   ]
  }
 ],
 "metadata": {
  "ExecuteTimeLog": [
   {
    "duration": 435,
    "start_time": "2024-06-02T20:06:46.848Z"
   },
   {
    "duration": 61,
    "start_time": "2024-06-02T20:07:06.715Z"
   },
   {
    "duration": 3,
    "start_time": "2024-06-02T20:07:16.774Z"
   },
   {
    "duration": 7,
    "start_time": "2024-06-02T20:07:20.811Z"
   },
   {
    "duration": 3194,
    "start_time": "2024-06-02T20:07:29.667Z"
   },
   {
    "duration": 17,
    "start_time": "2024-06-02T20:07:35.996Z"
   },
   {
    "duration": 9,
    "start_time": "2024-06-02T20:07:41.306Z"
   },
   {
    "duration": 902,
    "start_time": "2024-06-02T20:11:16.555Z"
   },
   {
    "duration": 6,
    "start_time": "2024-06-02T20:11:17.459Z"
   },
   {
    "duration": 37,
    "start_time": "2024-06-02T20:11:28.567Z"
   },
   {
    "duration": 30,
    "start_time": "2024-06-02T20:13:37.006Z"
   },
   {
    "duration": 27,
    "start_time": "2024-06-02T20:13:41.416Z"
   },
   {
    "duration": 538,
    "start_time": "2024-06-02T20:16:39.285Z"
   },
   {
    "duration": 9,
    "start_time": "2024-06-02T20:17:47.522Z"
   },
   {
    "duration": 3,
    "start_time": "2024-06-02T20:28:15.236Z"
   },
   {
    "duration": 19,
    "start_time": "2024-06-02T20:28:39.560Z"
   },
   {
    "duration": 2486,
    "start_time": "2024-06-02T20:28:45.357Z"
   },
   {
    "duration": 9,
    "start_time": "2024-06-02T20:28:53.375Z"
   },
   {
    "duration": 6,
    "start_time": "2024-06-02T20:29:13.610Z"
   },
   {
    "duration": 6,
    "start_time": "2024-06-02T20:29:19.625Z"
   },
   {
    "duration": 11,
    "start_time": "2024-06-02T20:41:16.523Z"
   },
   {
    "duration": 2242,
    "start_time": "2024-06-02T20:42:42.478Z"
   },
   {
    "duration": 5,
    "start_time": "2024-06-02T20:43:01.588Z"
   },
   {
    "duration": 420,
    "start_time": "2024-06-02T20:43:48.697Z"
   },
   {
    "duration": 3192,
    "start_time": "2024-06-02T20:43:49.119Z"
   },
   {
    "duration": 13,
    "start_time": "2024-06-02T20:43:52.313Z"
   },
   {
    "duration": 31,
    "start_time": "2024-06-02T20:43:52.327Z"
   },
   {
    "duration": 2539,
    "start_time": "2024-06-02T20:43:52.361Z"
   },
   {
    "duration": 6,
    "start_time": "2024-06-02T20:43:54.901Z"
   },
   {
    "duration": 2988,
    "start_time": "2024-06-02T20:43:54.909Z"
   },
   {
    "duration": 48,
    "start_time": "2024-06-02T20:45:36.899Z"
   },
   {
    "duration": 390,
    "start_time": "2024-06-02T20:45:43.492Z"
   },
   {
    "duration": 3219,
    "start_time": "2024-06-02T20:45:43.884Z"
   },
   {
    "duration": 14,
    "start_time": "2024-06-02T20:45:47.105Z"
   },
   {
    "duration": 44,
    "start_time": "2024-06-02T20:45:47.121Z"
   },
   {
    "duration": 2509,
    "start_time": "2024-06-02T20:45:47.166Z"
   },
   {
    "duration": 8,
    "start_time": "2024-06-02T20:45:49.676Z"
   },
   {
    "duration": 3032,
    "start_time": "2024-06-02T20:45:49.686Z"
   },
   {
    "duration": 423,
    "start_time": "2024-06-04T13:09:38.810Z"
   },
   {
    "duration": 2395,
    "start_time": "2024-06-04T13:09:39.235Z"
   },
   {
    "duration": 14,
    "start_time": "2024-06-04T13:09:41.632Z"
   },
   {
    "duration": 42,
    "start_time": "2024-06-04T13:09:41.648Z"
   },
   {
    "duration": 2699,
    "start_time": "2024-06-04T13:09:41.692Z"
   },
   {
    "duration": 8,
    "start_time": "2024-06-04T13:09:44.393Z"
   },
   {
    "duration": 2926,
    "start_time": "2024-06-04T13:09:44.403Z"
   },
   {
    "duration": 990,
    "start_time": "2024-06-04T13:48:09.445Z"
   },
   {
    "duration": 1439,
    "start_time": "2024-06-04T13:49:11.638Z"
   },
   {
    "duration": 2530,
    "start_time": "2024-06-04T13:49:13.079Z"
   },
   {
    "duration": 15,
    "start_time": "2024-06-04T13:49:15.611Z"
   },
   {
    "duration": 37,
    "start_time": "2024-06-04T13:49:15.627Z"
   },
   {
    "duration": 62568,
    "start_time": "2024-06-04T13:49:15.666Z"
   },
   {
    "duration": 1393,
    "start_time": "2024-06-04T14:42:02.404Z"
   },
   {
    "duration": 1492,
    "start_time": "2024-06-04T14:42:03.799Z"
   },
   {
    "duration": 16,
    "start_time": "2024-06-04T14:42:05.292Z"
   },
   {
    "duration": 39,
    "start_time": "2024-06-04T14:42:05.311Z"
   },
   {
    "duration": 208,
    "start_time": "2024-06-04T14:42:05.352Z"
   },
   {
    "duration": 4,
    "start_time": "2024-06-04T14:42:05.561Z"
   },
   {
    "duration": 416,
    "start_time": "2024-06-04T14:47:17.530Z"
   },
   {
    "duration": 2,
    "start_time": "2024-06-04T14:49:44.603Z"
   },
   {
    "duration": 4,
    "start_time": "2024-06-04T14:49:45.085Z"
   },
   {
    "duration": 1045,
    "start_time": "2024-06-04T14:49:47.202Z"
   },
   {
    "duration": 44,
    "start_time": "2024-06-09T11:27:13.351Z"
   },
   {
    "duration": 1213,
    "start_time": "2024-06-09T11:27:17.950Z"
   },
   {
    "duration": 3134,
    "start_time": "2024-06-09T11:27:19.164Z"
   },
   {
    "duration": 12,
    "start_time": "2024-06-09T11:27:22.299Z"
   },
   {
    "duration": 24,
    "start_time": "2024-06-09T11:27:22.313Z"
   },
   {
    "duration": 85,
    "start_time": "2024-06-09T11:27:22.339Z"
   },
   {
    "duration": 6,
    "start_time": "2024-06-09T11:27:26.022Z"
   },
   {
    "duration": 2332,
    "start_time": "2024-06-09T11:27:32.811Z"
   },
   {
    "duration": 68,
    "start_time": "2024-06-09T11:28:42.579Z"
   },
   {
    "duration": 2064,
    "start_time": "2024-06-09T11:28:54.702Z"
   },
   {
    "duration": 2,
    "start_time": "2024-06-09T11:29:14.345Z"
   },
   {
    "duration": 52,
    "start_time": "2024-06-09T11:29:23.870Z"
   },
   {
    "duration": 404,
    "start_time": "2024-06-09T11:29:33.892Z"
   },
   {
    "duration": 3086,
    "start_time": "2024-06-09T11:29:34.298Z"
   },
   {
    "duration": 11,
    "start_time": "2024-06-09T11:29:37.386Z"
   },
   {
    "duration": 26,
    "start_time": "2024-06-09T11:29:37.399Z"
   },
   {
    "duration": 2362,
    "start_time": "2024-06-09T11:29:37.426Z"
   },
   {
    "duration": 2783,
    "start_time": "2024-06-09T11:29:39.790Z"
   },
   {
    "duration": 48,
    "start_time": "2024-06-09T11:30:01.571Z"
   },
   {
    "duration": 398,
    "start_time": "2024-06-09T11:30:07.590Z"
   },
   {
    "duration": 3108,
    "start_time": "2024-06-09T11:30:07.990Z"
   },
   {
    "duration": 12,
    "start_time": "2024-06-09T11:30:11.099Z"
   },
   {
    "duration": 40,
    "start_time": "2024-06-09T11:30:11.112Z"
   },
   {
    "duration": 2339,
    "start_time": "2024-06-09T11:30:11.154Z"
   },
   {
    "duration": 2772,
    "start_time": "2024-06-09T11:30:13.495Z"
   },
   {
    "duration": 890,
    "start_time": "2024-06-09T11:41:08.791Z"
   },
   {
    "duration": 77,
    "start_time": "2024-06-09T11:41:21.016Z"
   },
   {
    "duration": 5,
    "start_time": "2024-06-09T11:41:34.909Z"
   },
   {
    "duration": 7,
    "start_time": "2024-06-09T12:06:06.627Z"
   },
   {
    "duration": 7,
    "start_time": "2024-06-09T12:06:11.305Z"
   },
   {
    "duration": 3,
    "start_time": "2024-06-09T12:06:22.287Z"
   },
   {
    "duration": 4,
    "start_time": "2024-06-09T12:06:25.481Z"
   },
   {
    "duration": 2,
    "start_time": "2024-06-09T12:09:46.512Z"
   },
   {
    "duration": 40,
    "start_time": "2024-06-09T12:11:16.261Z"
   },
   {
    "duration": 8,
    "start_time": "2024-06-09T12:12:37.075Z"
   },
   {
    "duration": 3,
    "start_time": "2024-06-09T12:12:54.890Z"
   },
   {
    "duration": 13,
    "start_time": "2024-06-09T12:12:57.251Z"
   },
   {
    "duration": 3,
    "start_time": "2024-06-09T12:14:35.159Z"
   },
   {
    "duration": 1256,
    "start_time": "2024-06-09T12:14:39.817Z"
   },
   {
    "duration": 892,
    "start_time": "2024-06-09T12:14:41.074Z"
   },
   {
    "duration": 12,
    "start_time": "2024-06-09T12:14:41.967Z"
   },
   {
    "duration": 33,
    "start_time": "2024-06-09T12:14:41.981Z"
   },
   {
    "duration": 2368,
    "start_time": "2024-06-09T12:14:42.016Z"
   },
   {
    "duration": 2781,
    "start_time": "2024-06-09T12:14:44.386Z"
   },
   {
    "duration": 4,
    "start_time": "2024-06-09T12:14:47.169Z"
   },
   {
    "duration": 53,
    "start_time": "2024-06-09T12:14:47.174Z"
   },
   {
    "duration": 126,
    "start_time": "2024-06-09T12:14:47.228Z"
   },
   {
    "duration": 6368,
    "start_time": "2024-06-09T12:14:55.789Z"
   },
   {
    "duration": 5,
    "start_time": "2024-06-09T12:18:07.424Z"
   },
   {
    "duration": 2,
    "start_time": "2024-06-09T12:20:16.744Z"
   },
   {
    "duration": 25,
    "start_time": "2024-06-09T12:22:46.196Z"
   },
   {
    "duration": 14,
    "start_time": "2024-06-09T12:24:29.268Z"
   },
   {
    "duration": 3,
    "start_time": "2024-06-09T12:24:38.318Z"
   },
   {
    "duration": 6,
    "start_time": "2024-06-09T12:24:40.396Z"
   },
   {
    "duration": 8,
    "start_time": "2024-06-09T12:24:41.285Z"
   },
   {
    "duration": 16,
    "start_time": "2024-06-09T12:24:49.381Z"
   },
   {
    "duration": 1191,
    "start_time": "2024-06-09T12:25:50.267Z"
   },
   {
    "duration": 880,
    "start_time": "2024-06-09T12:25:51.460Z"
   },
   {
    "duration": 12,
    "start_time": "2024-06-09T12:25:52.342Z"
   },
   {
    "duration": 29,
    "start_time": "2024-06-09T12:25:52.355Z"
   },
   {
    "duration": 2486,
    "start_time": "2024-06-09T12:25:52.385Z"
   },
   {
    "duration": 2816,
    "start_time": "2024-06-09T12:25:54.873Z"
   },
   {
    "duration": 5,
    "start_time": "2024-06-09T12:25:57.692Z"
   },
   {
    "duration": 52,
    "start_time": "2024-06-09T12:25:57.698Z"
   },
   {
    "duration": 6346,
    "start_time": "2024-06-09T12:25:57.751Z"
   },
   {
    "duration": 11,
    "start_time": "2024-06-09T12:26:04.098Z"
   },
   {
    "duration": 129,
    "start_time": "2024-06-09T12:26:04.110Z"
   },
   {
    "duration": 3,
    "start_time": "2024-06-09T12:27:35.057Z"
   },
   {
    "duration": 7,
    "start_time": "2024-06-09T12:28:05.399Z"
   },
   {
    "duration": 11,
    "start_time": "2024-06-09T12:28:59.227Z"
   },
   {
    "duration": 14,
    "start_time": "2024-06-09T12:29:03.551Z"
   },
   {
    "duration": 49983,
    "start_time": "2024-06-09T12:30:18.732Z"
   },
   {
    "duration": 6,
    "start_time": "2024-06-09T12:34:48.249Z"
   },
   {
    "duration": 8,
    "start_time": "2024-06-09T12:36:25.187Z"
   },
   {
    "duration": 4,
    "start_time": "2024-06-09T12:36:37.081Z"
   },
   {
    "duration": 9,
    "start_time": "2024-06-09T12:36:39.670Z"
   },
   {
    "duration": 15,
    "start_time": "2024-06-09T12:37:11.114Z"
   },
   {
    "duration": 5,
    "start_time": "2024-06-09T12:38:34.214Z"
   },
   {
    "duration": 57,
    "start_time": "2024-06-09T12:38:34.781Z"
   },
   {
    "duration": 5,
    "start_time": "2024-06-09T12:42:02.668Z"
   },
   {
    "duration": 37,
    "start_time": "2024-06-09T12:42:02.825Z"
   },
   {
    "duration": 5,
    "start_time": "2024-06-09T12:46:12.576Z"
   },
   {
    "duration": 1253,
    "start_time": "2024-06-09T12:46:51.109Z"
   },
   {
    "duration": 3111,
    "start_time": "2024-06-09T12:46:52.363Z"
   },
   {
    "duration": 12,
    "start_time": "2024-06-09T12:46:55.475Z"
   },
   {
    "duration": 28,
    "start_time": "2024-06-09T12:46:55.488Z"
   },
   {
    "duration": 2382,
    "start_time": "2024-06-09T12:46:55.519Z"
   },
   {
    "duration": 2857,
    "start_time": "2024-06-09T12:46:57.903Z"
   },
   {
    "duration": 6,
    "start_time": "2024-06-09T12:47:00.762Z"
   },
   {
    "duration": 102,
    "start_time": "2024-06-09T12:47:00.769Z"
   },
   {
    "duration": 6469,
    "start_time": "2024-06-09T12:47:00.873Z"
   },
   {
    "duration": 3,
    "start_time": "2024-06-09T12:47:07.344Z"
   },
   {
    "duration": 54561,
    "start_time": "2024-06-09T12:47:07.349Z"
   },
   {
    "duration": 8,
    "start_time": "2024-06-09T12:48:01.912Z"
   },
   {
    "duration": 48,
    "start_time": "2024-06-09T12:50:07.301Z"
   },
   {
    "duration": 6,
    "start_time": "2024-06-09T12:50:07.666Z"
   },
   {
    "duration": 1264,
    "start_time": "2024-06-09T12:50:13.821Z"
   },
   {
    "duration": 3114,
    "start_time": "2024-06-09T12:50:15.087Z"
   },
   {
    "duration": 14,
    "start_time": "2024-06-09T12:50:18.202Z"
   },
   {
    "duration": 23,
    "start_time": "2024-06-09T12:50:18.218Z"
   },
   {
    "duration": 2328,
    "start_time": "2024-06-09T12:50:18.243Z"
   },
   {
    "duration": 2839,
    "start_time": "2024-06-09T12:50:20.573Z"
   },
   {
    "duration": 6,
    "start_time": "2024-06-09T12:50:23.414Z"
   },
   {
    "duration": 60,
    "start_time": "2024-06-09T12:50:23.421Z"
   },
   {
    "duration": 6385,
    "start_time": "2024-06-09T12:50:23.482Z"
   },
   {
    "duration": 4,
    "start_time": "2024-06-09T12:50:29.869Z"
   },
   {
    "duration": 50647,
    "start_time": "2024-06-09T12:50:29.874Z"
   },
   {
    "duration": 5,
    "start_time": "2024-06-09T12:51:20.609Z"
   },
   {
    "duration": 1254,
    "start_time": "2024-06-09T12:52:32.771Z"
   },
   {
    "duration": 3100,
    "start_time": "2024-06-09T12:52:34.027Z"
   },
   {
    "duration": 13,
    "start_time": "2024-06-09T12:52:37.128Z"
   },
   {
    "duration": 24,
    "start_time": "2024-06-09T12:52:37.143Z"
   },
   {
    "duration": 2362,
    "start_time": "2024-06-09T12:52:37.169Z"
   },
   {
    "duration": 2795,
    "start_time": "2024-06-09T12:52:39.532Z"
   },
   {
    "duration": 5,
    "start_time": "2024-06-09T12:52:42.330Z"
   },
   {
    "duration": 59,
    "start_time": "2024-06-09T12:52:42.337Z"
   },
   {
    "duration": 6295,
    "start_time": "2024-06-09T12:52:42.397Z"
   },
   {
    "duration": 3,
    "start_time": "2024-06-09T12:52:48.694Z"
   },
   {
    "duration": 50912,
    "start_time": "2024-06-09T12:52:48.698Z"
   },
   {
    "duration": 4,
    "start_time": "2024-06-09T12:53:39.612Z"
   },
   {
    "duration": 46,
    "start_time": "2024-06-09T12:58:38.338Z"
   },
   {
    "duration": 1297,
    "start_time": "2024-06-09T12:58:43.884Z"
   },
   {
    "duration": 3182,
    "start_time": "2024-06-09T12:58:45.183Z"
   },
   {
    "duration": 12,
    "start_time": "2024-06-09T12:58:48.367Z"
   },
   {
    "duration": 36,
    "start_time": "2024-06-09T12:58:48.381Z"
   },
   {
    "duration": 2429,
    "start_time": "2024-06-09T12:58:48.420Z"
   },
   {
    "duration": 2890,
    "start_time": "2024-06-09T12:58:50.850Z"
   },
   {
    "duration": 5,
    "start_time": "2024-06-09T12:58:53.742Z"
   },
   {
    "duration": 49,
    "start_time": "2024-06-09T12:58:53.748Z"
   },
   {
    "duration": 6345,
    "start_time": "2024-06-09T12:58:53.798Z"
   },
   {
    "duration": 3,
    "start_time": "2024-06-09T12:59:00.145Z"
   },
   {
    "duration": 55165,
    "start_time": "2024-06-09T12:59:00.149Z"
   },
   {
    "duration": 3,
    "start_time": "2024-06-09T12:59:55.316Z"
   },
   {
    "duration": 45,
    "start_time": "2024-06-09T13:01:24.509Z"
   },
   {
    "duration": 1367,
    "start_time": "2024-06-09T13:01:31.000Z"
   },
   {
    "duration": 3095,
    "start_time": "2024-06-09T13:01:32.369Z"
   },
   {
    "duration": 15,
    "start_time": "2024-06-09T13:01:35.466Z"
   },
   {
    "duration": 31,
    "start_time": "2024-06-09T13:01:35.483Z"
   },
   {
    "duration": 2310,
    "start_time": "2024-06-09T13:01:35.515Z"
   },
   {
    "duration": 2916,
    "start_time": "2024-06-09T13:01:37.826Z"
   },
   {
    "duration": 4,
    "start_time": "2024-06-09T13:01:40.744Z"
   },
   {
    "duration": 47,
    "start_time": "2024-06-09T13:01:40.750Z"
   },
   {
    "duration": 6279,
    "start_time": "2024-06-09T13:01:40.808Z"
   },
   {
    "duration": 3,
    "start_time": "2024-06-09T13:01:47.090Z"
   },
   {
    "duration": 50819,
    "start_time": "2024-06-09T13:01:47.094Z"
   },
   {
    "duration": 5,
    "start_time": "2024-06-09T13:02:37.914Z"
   },
   {
    "duration": 47,
    "start_time": "2024-06-09T13:04:43.221Z"
   },
   {
    "duration": 1231,
    "start_time": "2024-06-09T13:04:46.922Z"
   },
   {
    "duration": 3070,
    "start_time": "2024-06-09T13:04:48.155Z"
   },
   {
    "duration": 11,
    "start_time": "2024-06-09T13:04:51.226Z"
   },
   {
    "duration": 46,
    "start_time": "2024-06-09T13:04:51.238Z"
   },
   {
    "duration": 2370,
    "start_time": "2024-06-09T13:04:51.286Z"
   },
   {
    "duration": 2900,
    "start_time": "2024-06-09T13:04:53.659Z"
   },
   {
    "duration": 4,
    "start_time": "2024-06-09T13:04:56.561Z"
   },
   {
    "duration": 67,
    "start_time": "2024-06-09T13:04:56.567Z"
   },
   {
    "duration": 6321,
    "start_time": "2024-06-09T13:04:56.636Z"
   },
   {
    "duration": 4,
    "start_time": "2024-06-09T13:05:02.959Z"
   },
   {
    "duration": 51845,
    "start_time": "2024-06-09T13:05:02.965Z"
   },
   {
    "duration": 3,
    "start_time": "2024-06-09T13:05:54.811Z"
   },
   {
    "duration": 158,
    "start_time": "2024-06-09T13:05:54.816Z"
   },
   {
    "duration": 3,
    "start_time": "2024-06-09T13:06:24.545Z"
   },
   {
    "duration": 51592,
    "start_time": "2024-06-09T13:06:25.219Z"
   },
   {
    "duration": 3,
    "start_time": "2024-06-09T13:07:16.813Z"
   },
   {
    "duration": 92,
    "start_time": "2024-06-09T13:07:16.817Z"
   },
   {
    "duration": 3,
    "start_time": "2024-06-09T13:08:28.337Z"
   },
   {
    "duration": 1224,
    "start_time": "2024-06-09T13:09:57.941Z"
   },
   {
    "duration": 2347,
    "start_time": "2024-06-09T13:09:59.166Z"
   },
   {
    "duration": 17,
    "start_time": "2024-06-09T13:10:01.515Z"
   },
   {
    "duration": 68,
    "start_time": "2024-06-09T13:10:01.534Z"
   },
   {
    "duration": 2416,
    "start_time": "2024-06-09T13:10:01.603Z"
   },
   {
    "duration": 2933,
    "start_time": "2024-06-09T13:10:04.021Z"
   },
   {
    "duration": 5,
    "start_time": "2024-06-09T13:10:06.956Z"
   },
   {
    "duration": 60,
    "start_time": "2024-06-09T13:10:06.962Z"
   },
   {
    "duration": 6249,
    "start_time": "2024-06-09T13:10:07.024Z"
   },
   {
    "duration": 3,
    "start_time": "2024-06-09T13:10:13.275Z"
   },
   {
    "duration": 54936,
    "start_time": "2024-06-09T13:10:13.279Z"
   },
   {
    "duration": 92,
    "start_time": "2024-06-09T13:11:08.217Z"
   },
   {
    "duration": 316167,
    "start_time": "2024-06-09T13:11:08.311Z"
   },
   {
    "duration": 1209,
    "start_time": "2024-06-09T13:16:30.052Z"
   },
   {
    "duration": 893,
    "start_time": "2024-06-09T13:16:31.263Z"
   },
   {
    "duration": 16,
    "start_time": "2024-06-09T13:16:32.158Z"
   },
   {
    "duration": 80,
    "start_time": "2024-06-09T13:16:32.176Z"
   },
   {
    "duration": 2393,
    "start_time": "2024-06-09T13:16:32.258Z"
   },
   {
    "duration": 2906,
    "start_time": "2024-06-09T13:16:34.652Z"
   },
   {
    "duration": 4,
    "start_time": "2024-06-09T13:16:37.560Z"
   },
   {
    "duration": 53,
    "start_time": "2024-06-09T13:16:37.566Z"
   },
   {
    "duration": 6171,
    "start_time": "2024-06-09T13:16:37.620Z"
   },
   {
    "duration": 3,
    "start_time": "2024-06-09T13:16:43.793Z"
   },
   {
    "duration": 14837,
    "start_time": "2024-06-09T13:16:43.797Z"
   },
   {
    "duration": 3,
    "start_time": "2024-06-09T13:16:58.635Z"
   },
   {
    "duration": 312397,
    "start_time": "2024-06-09T13:16:58.639Z"
   },
   {
    "duration": 1235,
    "start_time": "2024-06-09T13:22:37.329Z"
   },
   {
    "duration": 889,
    "start_time": "2024-06-09T13:22:38.566Z"
   },
   {
    "duration": 13,
    "start_time": "2024-06-09T13:22:39.457Z"
   },
   {
    "duration": 42,
    "start_time": "2024-06-09T13:22:39.471Z"
   },
   {
    "duration": 2387,
    "start_time": "2024-06-09T13:22:39.516Z"
   },
   {
    "duration": 2942,
    "start_time": "2024-06-09T13:22:41.904Z"
   },
   {
    "duration": 5,
    "start_time": "2024-06-09T13:22:44.848Z"
   },
   {
    "duration": 56,
    "start_time": "2024-06-09T13:22:44.854Z"
   },
   {
    "duration": 6175,
    "start_time": "2024-06-09T13:22:44.912Z"
   },
   {
    "duration": 2,
    "start_time": "2024-06-09T13:22:51.089Z"
   },
   {
    "duration": 16,
    "start_time": "2024-06-09T13:22:51.092Z"
   },
   {
    "duration": 5,
    "start_time": "2024-06-09T13:22:51.109Z"
   },
   {
    "duration": 139,
    "start_time": "2024-06-09T13:22:51.115Z"
   },
   {
    "duration": 3,
    "start_time": "2024-06-09T13:23:05.898Z"
   },
   {
    "duration": 319,
    "start_time": "2024-06-09T13:23:06.048Z"
   },
   {
    "duration": 11,
    "start_time": "2024-06-09T14:11:54.327Z"
   },
   {
    "duration": 1231,
    "start_time": "2024-06-09T14:12:00.374Z"
   },
   {
    "duration": 908,
    "start_time": "2024-06-09T14:12:01.608Z"
   },
   {
    "duration": 12,
    "start_time": "2024-06-09T14:12:02.518Z"
   },
   {
    "duration": 121,
    "start_time": "2024-06-09T14:12:02.531Z"
   },
   {
    "duration": 2719,
    "start_time": "2024-06-09T14:12:02.654Z"
   },
   {
    "duration": 2942,
    "start_time": "2024-06-09T14:12:05.375Z"
   },
   {
    "duration": 5,
    "start_time": "2024-06-09T14:12:08.320Z"
   },
   {
    "duration": 51,
    "start_time": "2024-06-09T14:12:08.327Z"
   },
   {
    "duration": 6381,
    "start_time": "2024-06-09T14:12:08.379Z"
   },
   {
    "duration": 125,
    "start_time": "2024-06-09T14:12:14.762Z"
   },
   {
    "duration": 194,
    "start_time": "2024-06-09T14:12:43.779Z"
   },
   {
    "duration": 1230,
    "start_time": "2024-06-09T14:12:54.358Z"
   },
   {
    "duration": 883,
    "start_time": "2024-06-09T14:12:55.590Z"
   },
   {
    "duration": 12,
    "start_time": "2024-06-09T14:12:56.474Z"
   },
   {
    "duration": 35,
    "start_time": "2024-06-09T14:12:56.488Z"
   },
   {
    "duration": 2475,
    "start_time": "2024-06-09T14:12:56.524Z"
   },
   {
    "duration": 2969,
    "start_time": "2024-06-09T14:12:59.000Z"
   },
   {
    "duration": 4,
    "start_time": "2024-06-09T14:13:01.971Z"
   },
   {
    "duration": 97,
    "start_time": "2024-06-09T14:13:01.977Z"
   },
   {
    "duration": 6506,
    "start_time": "2024-06-09T14:13:02.076Z"
   },
   {
    "duration": 307,
    "start_time": "2024-06-09T14:13:08.584Z"
   },
   {
    "duration": 1245,
    "start_time": "2024-06-09T14:37:31.915Z"
   },
   {
    "duration": 1923,
    "start_time": "2024-06-09T14:37:33.162Z"
   },
   {
    "duration": 11,
    "start_time": "2024-06-09T14:37:35.086Z"
   },
   {
    "duration": 34,
    "start_time": "2024-06-09T14:37:35.098Z"
   },
   {
    "duration": 2306,
    "start_time": "2024-06-09T14:37:35.134Z"
   },
   {
    "duration": 2890,
    "start_time": "2024-06-09T14:37:37.442Z"
   },
   {
    "duration": 4,
    "start_time": "2024-06-09T14:37:40.334Z"
   },
   {
    "duration": 50,
    "start_time": "2024-06-09T14:37:40.339Z"
   },
   {
    "duration": 6093,
    "start_time": "2024-06-09T14:37:40.391Z"
   },
   {
    "duration": 117,
    "start_time": "2024-06-09T14:37:46.485Z"
   },
   {
    "duration": 0,
    "start_time": "2024-06-09T14:37:46.603Z"
   },
   {
    "duration": 0,
    "start_time": "2024-06-09T14:37:46.609Z"
   },
   {
    "duration": 3,
    "start_time": "2024-06-09T14:38:13.440Z"
   },
   {
    "duration": 9,
    "start_time": "2024-06-09T14:38:14.263Z"
   },
   {
    "duration": 4,
    "start_time": "2024-06-09T14:38:25.405Z"
   },
   {
    "duration": 194,
    "start_time": "2024-06-09T14:38:26.923Z"
   },
   {
    "duration": 11,
    "start_time": "2024-06-09T14:39:14.769Z"
   },
   {
    "duration": 4,
    "start_time": "2024-06-09T14:39:24.856Z"
   },
   {
    "duration": 1245,
    "start_time": "2024-06-09T14:46:25.190Z"
   },
   {
    "duration": 905,
    "start_time": "2024-06-09T14:46:26.437Z"
   },
   {
    "duration": 12,
    "start_time": "2024-06-09T14:46:27.343Z"
   },
   {
    "duration": 24,
    "start_time": "2024-06-09T14:46:27.357Z"
   },
   {
    "duration": 2374,
    "start_time": "2024-06-09T14:46:27.383Z"
   },
   {
    "duration": 2885,
    "start_time": "2024-06-09T14:46:29.759Z"
   },
   {
    "duration": 5,
    "start_time": "2024-06-09T14:46:32.646Z"
   },
   {
    "duration": 65,
    "start_time": "2024-06-09T14:46:32.653Z"
   },
   {
    "duration": 6241,
    "start_time": "2024-06-09T14:46:32.720Z"
   },
   {
    "duration": 148,
    "start_time": "2024-06-09T14:46:38.962Z"
   },
   {
    "duration": 1239,
    "start_time": "2024-06-09T14:58:17.409Z"
   },
   {
    "duration": 878,
    "start_time": "2024-06-09T14:58:18.650Z"
   },
   {
    "duration": 12,
    "start_time": "2024-06-09T14:58:19.529Z"
   },
   {
    "duration": 38,
    "start_time": "2024-06-09T14:58:19.543Z"
   },
   {
    "duration": 2367,
    "start_time": "2024-06-09T14:58:19.583Z"
   },
   {
    "duration": 2937,
    "start_time": "2024-06-09T14:58:21.951Z"
   },
   {
    "duration": 6,
    "start_time": "2024-06-09T14:58:24.890Z"
   },
   {
    "duration": 58,
    "start_time": "2024-06-09T14:58:24.897Z"
   },
   {
    "duration": 6138,
    "start_time": "2024-06-09T14:58:24.957Z"
   },
   {
    "duration": 128,
    "start_time": "2024-06-09T14:58:31.097Z"
   },
   {
    "duration": 0,
    "start_time": "2024-06-09T14:58:31.226Z"
   },
   {
    "duration": 0,
    "start_time": "2024-06-09T14:58:31.228Z"
   },
   {
    "duration": 3543,
    "start_time": "2024-06-09T15:03:55.393Z"
   },
   {
    "duration": 1273,
    "start_time": "2024-06-09T15:04:05.080Z"
   },
   {
    "duration": 877,
    "start_time": "2024-06-09T15:04:06.355Z"
   },
   {
    "duration": 11,
    "start_time": "2024-06-09T15:04:07.233Z"
   },
   {
    "duration": 24,
    "start_time": "2024-06-09T15:04:07.245Z"
   },
   {
    "duration": 2407,
    "start_time": "2024-06-09T15:04:07.271Z"
   },
   {
    "duration": 2905,
    "start_time": "2024-06-09T15:04:09.680Z"
   },
   {
    "duration": 5,
    "start_time": "2024-06-09T15:04:12.587Z"
   },
   {
    "duration": 52,
    "start_time": "2024-06-09T15:04:12.593Z"
   },
   {
    "duration": 6391,
    "start_time": "2024-06-09T15:04:12.647Z"
   },
   {
    "duration": 1246,
    "start_time": "2024-06-09T15:14:38.528Z"
   },
   {
    "duration": 3078,
    "start_time": "2024-06-09T15:14:39.776Z"
   },
   {
    "duration": 11,
    "start_time": "2024-06-09T15:14:42.856Z"
   },
   {
    "duration": 22,
    "start_time": "2024-06-09T15:14:42.868Z"
   },
   {
    "duration": 2418,
    "start_time": "2024-06-09T15:14:42.892Z"
   },
   {
    "duration": 2893,
    "start_time": "2024-06-09T15:14:45.312Z"
   },
   {
    "duration": 5,
    "start_time": "2024-06-09T15:14:48.209Z"
   },
   {
    "duration": 49,
    "start_time": "2024-06-09T15:14:48.215Z"
   },
   {
    "duration": 6166,
    "start_time": "2024-06-09T15:14:48.265Z"
   },
   {
    "duration": 26609,
    "start_time": "2024-06-09T15:14:54.433Z"
   },
   {
    "duration": 1272,
    "start_time": "2024-06-09T15:15:43.595Z"
   },
   {
    "duration": 901,
    "start_time": "2024-06-09T15:15:44.869Z"
   },
   {
    "duration": 11,
    "start_time": "2024-06-09T15:15:45.772Z"
   },
   {
    "duration": 35,
    "start_time": "2024-06-09T15:15:45.784Z"
   },
   {
    "duration": 2358,
    "start_time": "2024-06-09T15:15:45.821Z"
   },
   {
    "duration": 2913,
    "start_time": "2024-06-09T15:15:48.180Z"
   },
   {
    "duration": 5,
    "start_time": "2024-06-09T15:15:51.095Z"
   },
   {
    "duration": 45,
    "start_time": "2024-06-09T15:15:51.108Z"
   },
   {
    "duration": 6233,
    "start_time": "2024-06-09T15:15:51.155Z"
   },
   {
    "duration": 1286,
    "start_time": "2024-06-10T12:57:32.543Z"
   },
   {
    "duration": 3457,
    "start_time": "2024-06-10T12:57:33.830Z"
   },
   {
    "duration": 17,
    "start_time": "2024-06-10T12:57:37.288Z"
   },
   {
    "duration": 32,
    "start_time": "2024-06-10T12:57:37.307Z"
   },
   {
    "duration": 2561,
    "start_time": "2024-06-10T12:57:37.340Z"
   },
   {
    "duration": 33690,
    "start_time": "2024-06-10T12:57:39.903Z"
   },
   {
    "duration": 32452,
    "start_time": "2024-06-10T12:58:36.503Z"
   },
   {
    "duration": 32256,
    "start_time": "2024-06-10T12:59:29.226Z"
   },
   {
    "duration": 2507,
    "start_time": "2024-06-10T13:09:38.435Z"
   },
   {
    "duration": 87927,
    "start_time": "2024-06-10T13:10:08.427Z"
   },
   {
    "duration": 3954,
    "start_time": "2024-06-10T13:11:47.580Z"
   },
   {
    "duration": 864,
    "start_time": "2024-06-10T13:11:51.536Z"
   },
   {
    "duration": 14,
    "start_time": "2024-06-10T13:11:52.402Z"
   },
   {
    "duration": 29,
    "start_time": "2024-06-10T13:11:52.418Z"
   },
   {
    "duration": 2540,
    "start_time": "2024-06-10T13:11:52.450Z"
   },
   {
    "duration": 66544,
    "start_time": "2024-06-10T13:11:54.991Z"
   },
   {
    "duration": 0,
    "start_time": "2024-06-10T13:13:01.537Z"
   },
   {
    "duration": 0,
    "start_time": "2024-06-10T13:13:01.538Z"
   },
   {
    "duration": 0,
    "start_time": "2024-06-10T13:13:01.539Z"
   },
   {
    "duration": 0,
    "start_time": "2024-06-10T13:13:01.541Z"
   },
   {
    "duration": 268,
    "start_time": "2024-06-10T13:15:19.740Z"
   },
   {
    "duration": 1366,
    "start_time": "2024-06-10T13:15:37.980Z"
   },
   {
    "duration": 953,
    "start_time": "2024-06-10T13:15:39.348Z"
   },
   {
    "duration": 12,
    "start_time": "2024-06-10T13:15:40.303Z"
   },
   {
    "duration": 31,
    "start_time": "2024-06-10T13:15:40.316Z"
   },
   {
    "duration": 2571,
    "start_time": "2024-06-10T13:15:40.349Z"
   },
   {
    "duration": 357,
    "start_time": "2024-06-10T13:15:42.922Z"
   },
   {
    "duration": 0,
    "start_time": "2024-06-10T13:15:43.280Z"
   },
   {
    "duration": 0,
    "start_time": "2024-06-10T13:15:43.281Z"
   },
   {
    "duration": 0,
    "start_time": "2024-06-10T13:15:43.283Z"
   },
   {
    "duration": 0,
    "start_time": "2024-06-10T13:15:43.284Z"
   },
   {
    "duration": 215419,
    "start_time": "2024-06-10T13:17:15.286Z"
   },
   {
    "duration": 1273,
    "start_time": "2024-06-10T13:20:56.450Z"
   },
   {
    "duration": 976,
    "start_time": "2024-06-10T13:20:57.725Z"
   },
   {
    "duration": 13,
    "start_time": "2024-06-10T13:20:58.703Z"
   },
   {
    "duration": 30,
    "start_time": "2024-06-10T13:20:58.718Z"
   },
   {
    "duration": 2552,
    "start_time": "2024-06-10T13:20:58.750Z"
   },
   {
    "duration": 1310,
    "start_time": "2024-06-10T13:27:01.108Z"
   },
   {
    "duration": 951,
    "start_time": "2024-06-10T13:27:02.420Z"
   },
   {
    "duration": 15,
    "start_time": "2024-06-10T13:27:03.372Z"
   },
   {
    "duration": 35,
    "start_time": "2024-06-10T13:27:03.389Z"
   },
   {
    "duration": 2578,
    "start_time": "2024-06-10T13:27:03.425Z"
   },
   {
    "duration": 95226,
    "start_time": "2024-06-10T13:27:06.005Z"
   },
   {
    "duration": 0,
    "start_time": "2024-06-10T13:28:41.233Z"
   },
   {
    "duration": 0,
    "start_time": "2024-06-10T13:28:41.234Z"
   },
   {
    "duration": 0,
    "start_time": "2024-06-10T13:28:41.236Z"
   },
   {
    "duration": 0,
    "start_time": "2024-06-10T13:28:41.238Z"
   },
   {
    "duration": 3913,
    "start_time": "2024-06-10T13:28:51.028Z"
   },
   {
    "duration": 858,
    "start_time": "2024-06-10T13:28:54.943Z"
   },
   {
    "duration": 16,
    "start_time": "2024-06-10T13:28:55.803Z"
   },
   {
    "duration": 30,
    "start_time": "2024-06-10T13:28:55.820Z"
   },
   {
    "duration": 2558,
    "start_time": "2024-06-10T13:28:55.853Z"
   },
   {
    "duration": 258337,
    "start_time": "2024-06-10T13:28:58.412Z"
   },
   {
    "duration": 0,
    "start_time": "2024-06-10T13:33:16.751Z"
   },
   {
    "duration": 0,
    "start_time": "2024-06-10T13:33:16.752Z"
   },
   {
    "duration": 0,
    "start_time": "2024-06-10T13:33:16.753Z"
   },
   {
    "duration": 0,
    "start_time": "2024-06-10T13:33:16.754Z"
   },
   {
    "duration": 3956,
    "start_time": "2024-06-10T13:33:35.349Z"
   },
   {
    "duration": 861,
    "start_time": "2024-06-10T13:33:39.307Z"
   },
   {
    "duration": 15,
    "start_time": "2024-06-10T13:33:40.170Z"
   },
   {
    "duration": 40,
    "start_time": "2024-06-10T13:33:40.187Z"
   },
   {
    "duration": 2566,
    "start_time": "2024-06-10T13:33:40.229Z"
   },
   {
    "duration": 32001,
    "start_time": "2024-06-10T13:33:42.796Z"
   },
   {
    "duration": 3,
    "start_time": "2024-06-10T13:34:14.799Z"
   },
   {
    "duration": 22,
    "start_time": "2024-06-10T13:34:14.804Z"
   },
   {
    "duration": 6800,
    "start_time": "2024-06-10T13:34:14.828Z"
   },
   {
    "duration": 481729,
    "start_time": "2024-06-10T13:34:21.630Z"
   },
   {
    "duration": 4042,
    "start_time": "2024-06-10T13:42:39.567Z"
   },
   {
    "duration": 864,
    "start_time": "2024-06-10T13:42:43.611Z"
   },
   {
    "duration": 15,
    "start_time": "2024-06-10T13:42:44.476Z"
   },
   {
    "duration": 30,
    "start_time": "2024-06-10T13:42:44.499Z"
   },
   {
    "duration": 2597,
    "start_time": "2024-06-10T13:42:44.531Z"
   },
   {
    "duration": 32084,
    "start_time": "2024-06-10T13:42:47.130Z"
   },
   {
    "duration": 3,
    "start_time": "2024-06-10T13:43:19.216Z"
   },
   {
    "duration": 19,
    "start_time": "2024-06-10T13:43:19.221Z"
   },
   {
    "duration": 6814,
    "start_time": "2024-06-10T13:43:19.241Z"
   },
   {
    "duration": 350988,
    "start_time": "2024-06-10T13:43:26.056Z"
   },
   {
    "duration": 4032,
    "start_time": "2024-06-10T13:49:24.782Z"
   },
   {
    "duration": 890,
    "start_time": "2024-06-10T13:49:28.816Z"
   },
   {
    "duration": 14,
    "start_time": "2024-06-10T13:49:29.708Z"
   },
   {
    "duration": 31,
    "start_time": "2024-06-10T13:49:29.724Z"
   },
   {
    "duration": 2570,
    "start_time": "2024-06-10T13:49:29.757Z"
   },
   {
    "duration": 32213,
    "start_time": "2024-06-10T13:49:32.329Z"
   },
   {
    "duration": 3,
    "start_time": "2024-06-10T13:50:04.544Z"
   },
   {
    "duration": 24,
    "start_time": "2024-06-10T13:50:04.549Z"
   },
   {
    "duration": 2,
    "start_time": "2024-06-10T13:50:04.575Z"
   },
   {
    "duration": 2109576,
    "start_time": "2024-06-10T13:50:04.579Z"
   },
   {
    "duration": 3980,
    "start_time": "2024-06-10T14:25:20.970Z"
   },
   {
    "duration": 890,
    "start_time": "2024-06-10T14:25:24.952Z"
   },
   {
    "duration": 18,
    "start_time": "2024-06-10T14:25:25.843Z"
   },
   {
    "duration": 42,
    "start_time": "2024-06-10T14:25:25.863Z"
   },
   {
    "duration": 2634,
    "start_time": "2024-06-10T14:25:25.907Z"
   },
   {
    "duration": 31996,
    "start_time": "2024-06-10T14:25:28.542Z"
   },
   {
    "duration": 4,
    "start_time": "2024-06-10T14:26:00.539Z"
   },
   {
    "duration": 96,
    "start_time": "2024-06-10T14:26:00.544Z"
   },
   {
    "duration": 15,
    "start_time": "2024-06-10T14:26:00.642Z"
   },
   {
    "duration": 125073,
    "start_time": "2024-06-10T14:26:00.659Z"
   },
   {
    "duration": 3930,
    "start_time": "2024-06-10T14:28:12.254Z"
   },
   {
    "duration": 892,
    "start_time": "2024-06-10T14:28:16.186Z"
   },
   {
    "duration": 21,
    "start_time": "2024-06-10T14:28:17.080Z"
   },
   {
    "duration": 33,
    "start_time": "2024-06-10T14:28:17.103Z"
   },
   {
    "duration": 2528,
    "start_time": "2024-06-10T14:28:17.138Z"
   },
   {
    "duration": 32011,
    "start_time": "2024-06-10T14:28:19.668Z"
   },
   {
    "duration": 3,
    "start_time": "2024-06-10T14:28:51.681Z"
   },
   {
    "duration": 27,
    "start_time": "2024-06-10T14:28:51.686Z"
   },
   {
    "duration": 2,
    "start_time": "2024-06-10T14:28:51.715Z"
   },
   {
    "duration": 136500,
    "start_time": "2024-06-10T14:28:51.718Z"
   },
   {
    "duration": 4049,
    "start_time": "2024-06-10T14:31:17.760Z"
   },
   {
    "duration": 888,
    "start_time": "2024-06-10T14:31:21.811Z"
   },
   {
    "duration": 16,
    "start_time": "2024-06-10T14:31:22.701Z"
   },
   {
    "duration": 31,
    "start_time": "2024-06-10T14:31:22.718Z"
   },
   {
    "duration": 2555,
    "start_time": "2024-06-10T14:31:22.751Z"
   },
   {
    "duration": 32208,
    "start_time": "2024-06-10T14:31:25.308Z"
   },
   {
    "duration": 3,
    "start_time": "2024-06-10T14:31:57.518Z"
   },
   {
    "duration": 22,
    "start_time": "2024-06-10T14:31:57.523Z"
   },
   {
    "duration": 2,
    "start_time": "2024-06-10T14:31:57.547Z"
   },
   {
    "duration": 3999,
    "start_time": "2024-06-10T14:35:30.888Z"
   },
   {
    "duration": 893,
    "start_time": "2024-06-10T14:35:34.889Z"
   },
   {
    "duration": 16,
    "start_time": "2024-06-10T14:35:35.784Z"
   },
   {
    "duration": 31,
    "start_time": "2024-06-10T14:35:35.801Z"
   },
   {
    "duration": 2583,
    "start_time": "2024-06-10T14:35:35.834Z"
   },
   {
    "duration": 31840,
    "start_time": "2024-06-10T14:35:38.419Z"
   },
   {
    "duration": 4,
    "start_time": "2024-06-10T14:36:10.261Z"
   },
   {
    "duration": 22,
    "start_time": "2024-06-10T14:36:10.266Z"
   },
   {
    "duration": 6775,
    "start_time": "2024-06-10T14:36:10.299Z"
   },
   {
    "duration": 65,
    "start_time": "2024-06-10T14:36:17.076Z"
   },
   {
    "duration": 10335,
    "start_time": "2024-06-10T15:27:39.584Z"
   },
   {
    "duration": 2273,
    "start_time": "2024-06-10T15:27:49.921Z"
   },
   {
    "duration": 17,
    "start_time": "2024-06-10T15:27:52.197Z"
   },
   {
    "duration": 101,
    "start_time": "2024-06-10T15:27:52.216Z"
   },
   {
    "duration": 5880,
    "start_time": "2024-06-10T15:27:52.319Z"
   },
   {
    "duration": 79786,
    "start_time": "2024-06-10T15:27:58.202Z"
   },
   {
    "duration": 5,
    "start_time": "2024-06-10T15:29:17.989Z"
   },
   {
    "duration": 95,
    "start_time": "2024-06-10T15:29:17.997Z"
   },
   {
    "duration": 21723,
    "start_time": "2024-06-10T15:29:18.094Z"
   },
   {
    "duration": 4310,
    "start_time": "2024-06-10T21:43:53.375Z"
   },
   {
    "duration": 3415,
    "start_time": "2024-06-10T21:43:57.687Z"
   },
   {
    "duration": 17,
    "start_time": "2024-06-10T21:44:01.103Z"
   },
   {
    "duration": 69,
    "start_time": "2024-06-10T21:44:01.122Z"
   },
   {
    "duration": 2866,
    "start_time": "2024-06-10T21:44:01.193Z"
   },
   {
    "duration": 34820,
    "start_time": "2024-06-10T21:44:04.060Z"
   },
   {
    "duration": 4,
    "start_time": "2024-06-10T21:44:38.882Z"
   },
   {
    "duration": 24,
    "start_time": "2024-06-10T21:44:38.887Z"
   },
   {
    "duration": 7404,
    "start_time": "2024-06-10T21:44:38.913Z"
   },
   {
    "duration": 350,
    "start_time": "2024-06-10T21:44:46.319Z"
   },
   {
    "duration": 5,
    "start_time": "2024-06-10T21:45:35.390Z"
   },
   {
    "duration": 4291,
    "start_time": "2024-06-10T21:48:51.629Z"
   },
   {
    "duration": 984,
    "start_time": "2024-06-10T21:48:55.922Z"
   },
   {
    "duration": 16,
    "start_time": "2024-06-10T21:48:56.908Z"
   },
   {
    "duration": 42,
    "start_time": "2024-06-10T21:48:56.925Z"
   },
   {
    "duration": 2753,
    "start_time": "2024-06-10T21:48:56.969Z"
   },
   {
    "duration": 35066,
    "start_time": "2024-06-10T21:48:59.724Z"
   },
   {
    "duration": 3,
    "start_time": "2024-06-10T21:49:34.792Z"
   },
   {
    "duration": 22,
    "start_time": "2024-06-10T21:49:34.797Z"
   },
   {
    "duration": 7533,
    "start_time": "2024-06-10T21:49:34.820Z"
   },
   {
    "duration": 56,
    "start_time": "2024-06-11T10:34:22.985Z"
   },
   {
    "duration": 4268,
    "start_time": "2024-06-11T10:34:31.734Z"
   },
   {
    "duration": 3422,
    "start_time": "2024-06-11T10:34:36.004Z"
   },
   {
    "duration": 15,
    "start_time": "2024-06-11T10:34:39.428Z"
   },
   {
    "duration": 33,
    "start_time": "2024-06-11T10:34:39.445Z"
   },
   {
    "duration": 2684,
    "start_time": "2024-06-11T10:34:39.480Z"
   },
   {
    "duration": 34574,
    "start_time": "2024-06-11T10:34:42.166Z"
   },
   {
    "duration": 3,
    "start_time": "2024-06-11T10:35:16.742Z"
   },
   {
    "duration": 23,
    "start_time": "2024-06-11T10:35:16.747Z"
   },
   {
    "duration": 7217,
    "start_time": "2024-06-11T10:35:16.772Z"
   },
   {
    "duration": 357,
    "start_time": "2024-06-11T10:35:23.991Z"
   },
   {
    "duration": 4181,
    "start_time": "2024-06-11T10:37:42.872Z"
   },
   {
    "duration": 923,
    "start_time": "2024-06-11T10:37:47.055Z"
   },
   {
    "duration": 23,
    "start_time": "2024-06-11T10:37:47.980Z"
   },
   {
    "duration": 35,
    "start_time": "2024-06-11T10:37:48.006Z"
   },
   {
    "duration": 2675,
    "start_time": "2024-06-11T10:37:48.042Z"
   },
   {
    "duration": 35175,
    "start_time": "2024-06-11T10:37:50.718Z"
   },
   {
    "duration": 4,
    "start_time": "2024-06-11T10:38:25.895Z"
   },
   {
    "duration": 24,
    "start_time": "2024-06-11T10:38:25.901Z"
   },
   {
    "duration": 7234,
    "start_time": "2024-06-11T10:38:25.928Z"
   },
   {
    "duration": 287973,
    "start_time": "2024-06-11T10:38:33.164Z"
   },
   {
    "duration": 4096,
    "start_time": "2024-06-11T10:44:54.837Z"
   },
   {
    "duration": 930,
    "start_time": "2024-06-11T10:44:58.935Z"
   },
   {
    "duration": 16,
    "start_time": "2024-06-11T10:44:59.867Z"
   },
   {
    "duration": 44,
    "start_time": "2024-06-11T10:44:59.884Z"
   },
   {
    "duration": 2737,
    "start_time": "2024-06-11T10:44:59.931Z"
   },
   {
    "duration": 34397,
    "start_time": "2024-06-11T10:45:02.670Z"
   },
   {
    "duration": 4,
    "start_time": "2024-06-11T10:45:37.068Z"
   },
   {
    "duration": 26,
    "start_time": "2024-06-11T10:45:37.073Z"
   },
   {
    "duration": 7130,
    "start_time": "2024-06-11T10:45:37.101Z"
   },
   {
    "duration": 341,
    "start_time": "2024-06-11T10:45:44.232Z"
   },
   {
    "duration": 1595062,
    "start_time": "2024-06-11T10:46:39.113Z"
   },
   {
    "duration": 2888,
    "start_time": "2024-06-11T11:15:28.255Z"
   },
   {
    "duration": 3980,
    "start_time": "2024-06-11T11:15:37.656Z"
   },
   {
    "duration": 961,
    "start_time": "2024-06-11T11:15:41.638Z"
   },
   {
    "duration": 15,
    "start_time": "2024-06-11T11:15:42.601Z"
   },
   {
    "duration": 31,
    "start_time": "2024-06-11T11:15:42.618Z"
   },
   {
    "duration": 2713,
    "start_time": "2024-06-11T11:15:42.651Z"
   },
   {
    "duration": 33316,
    "start_time": "2024-06-11T11:15:45.366Z"
   },
   {
    "duration": 3,
    "start_time": "2024-06-11T11:16:18.684Z"
   },
   {
    "duration": 18,
    "start_time": "2024-06-11T11:16:18.699Z"
   },
   {
    "duration": 7112,
    "start_time": "2024-06-11T11:16:18.718Z"
   },
   {
    "duration": 580647,
    "start_time": "2024-06-11T11:16:25.832Z"
   },
   {
    "duration": 19,
    "start_time": "2024-06-11T11:27:51.741Z"
   },
   {
    "duration": 24637,
    "start_time": "2024-06-11T11:28:03.121Z"
   },
   {
    "duration": 3,
    "start_time": "2024-06-11T11:28:42.715Z"
   },
   {
    "duration": 4152,
    "start_time": "2024-06-11T11:29:31.283Z"
   },
   {
    "duration": 961,
    "start_time": "2024-06-11T11:29:35.437Z"
   },
   {
    "duration": 16,
    "start_time": "2024-06-11T11:29:36.400Z"
   },
   {
    "duration": 34,
    "start_time": "2024-06-11T11:29:36.418Z"
   },
   {
    "duration": 2748,
    "start_time": "2024-06-11T11:29:36.454Z"
   },
   {
    "duration": 34433,
    "start_time": "2024-06-11T11:29:39.204Z"
   },
   {
    "duration": 4,
    "start_time": "2024-06-11T11:30:13.639Z"
   },
   {
    "duration": 18,
    "start_time": "2024-06-11T11:30:13.645Z"
   },
   {
    "duration": 7223,
    "start_time": "2024-06-11T11:30:13.664Z"
   },
   {
    "duration": 25811,
    "start_time": "2024-06-11T11:30:20.889Z"
   },
   {
    "duration": 4,
    "start_time": "2024-06-11T11:30:46.703Z"
   },
   {
    "duration": 4155,
    "start_time": "2024-06-11T11:50:32.676Z"
   },
   {
    "duration": 908,
    "start_time": "2024-06-11T11:50:36.834Z"
   },
   {
    "duration": 16,
    "start_time": "2024-06-11T11:50:37.744Z"
   },
   {
    "duration": 42,
    "start_time": "2024-06-11T11:50:37.762Z"
   },
   {
    "duration": 2680,
    "start_time": "2024-06-11T11:50:37.806Z"
   },
   {
    "duration": 34148,
    "start_time": "2024-06-11T11:50:40.488Z"
   },
   {
    "duration": 3,
    "start_time": "2024-06-11T11:51:14.638Z"
   },
   {
    "duration": 35,
    "start_time": "2024-06-11T11:51:14.643Z"
   },
   {
    "duration": 7203,
    "start_time": "2024-06-11T11:51:14.680Z"
   },
   {
    "duration": 24643,
    "start_time": "2024-06-11T11:51:21.885Z"
   },
   {
    "duration": 3,
    "start_time": "2024-06-11T11:51:46.530Z"
   },
   {
    "duration": 348,
    "start_time": "2024-06-11T11:51:46.534Z"
   },
   {
    "duration": 4225,
    "start_time": "2024-06-11T12:09:56.266Z"
   },
   {
    "duration": 943,
    "start_time": "2024-06-11T12:10:00.493Z"
   },
   {
    "duration": 16,
    "start_time": "2024-06-11T12:10:01.438Z"
   },
   {
    "duration": 69,
    "start_time": "2024-06-11T12:10:01.456Z"
   },
   {
    "duration": 2748,
    "start_time": "2024-06-11T12:10:01.528Z"
   },
   {
    "duration": 35022,
    "start_time": "2024-06-11T12:10:04.278Z"
   },
   {
    "duration": 5,
    "start_time": "2024-06-11T12:10:39.302Z"
   },
   {
    "duration": 21,
    "start_time": "2024-06-11T12:10:39.308Z"
   },
   {
    "duration": 7461,
    "start_time": "2024-06-11T12:10:39.331Z"
   },
   {
    "duration": 25366,
    "start_time": "2024-06-11T12:10:46.794Z"
   },
   {
    "duration": 3,
    "start_time": "2024-06-11T12:11:12.162Z"
   },
   {
    "duration": 389,
    "start_time": "2024-06-11T12:11:12.167Z"
   },
   {
    "duration": 29,
    "start_time": "2024-06-11T12:12:14.472Z"
   },
   {
    "duration": 30,
    "start_time": "2024-06-11T12:15:10.576Z"
   },
   {
    "duration": 24756,
    "start_time": "2024-06-11T12:15:47.621Z"
   },
   {
    "duration": 28,
    "start_time": "2024-06-11T12:17:13.202Z"
   },
   {
    "duration": 3,
    "start_time": "2024-06-11T12:17:18.076Z"
   },
   {
    "duration": 18,
    "start_time": "2024-06-11T12:17:18.755Z"
   },
   {
    "duration": 4209,
    "start_time": "2024-06-11T12:17:32.467Z"
   },
   {
    "duration": 932,
    "start_time": "2024-06-11T12:17:36.678Z"
   },
   {
    "duration": 17,
    "start_time": "2024-06-11T12:17:37.611Z"
   },
   {
    "duration": 33,
    "start_time": "2024-06-11T12:17:37.629Z"
   },
   {
    "duration": 2863,
    "start_time": "2024-06-11T12:17:37.664Z"
   },
   {
    "duration": 35560,
    "start_time": "2024-06-11T12:17:40.529Z"
   },
   {
    "duration": 9,
    "start_time": "2024-06-11T12:18:16.091Z"
   },
   {
    "duration": 20,
    "start_time": "2024-06-11T12:18:16.102Z"
   },
   {
    "duration": 7629,
    "start_time": "2024-06-11T12:18:16.123Z"
   },
   {
    "duration": 25886,
    "start_time": "2024-06-11T12:18:23.754Z"
   },
   {
    "duration": 4,
    "start_time": "2024-06-11T12:18:49.643Z"
   },
   {
    "duration": 401,
    "start_time": "2024-06-11T12:18:49.648Z"
   },
   {
    "duration": 20,
    "start_time": "2024-06-11T12:19:09.990Z"
   },
   {
    "duration": 51,
    "start_time": "2024-06-11T12:19:16.336Z"
   },
   {
    "duration": 4100,
    "start_time": "2024-06-11T12:21:12.018Z"
   },
   {
    "duration": 950,
    "start_time": "2024-06-11T12:21:16.120Z"
   },
   {
    "duration": 28,
    "start_time": "2024-06-11T12:21:17.072Z"
   },
   {
    "duration": 36,
    "start_time": "2024-06-11T12:21:17.102Z"
   },
   {
    "duration": 2718,
    "start_time": "2024-06-11T12:21:17.141Z"
   },
   {
    "duration": 33928,
    "start_time": "2024-06-11T12:21:19.861Z"
   },
   {
    "duration": 8,
    "start_time": "2024-06-11T12:21:53.791Z"
   },
   {
    "duration": 17,
    "start_time": "2024-06-11T12:21:53.801Z"
   },
   {
    "duration": 7246,
    "start_time": "2024-06-11T12:21:53.820Z"
   },
   {
    "duration": 25349,
    "start_time": "2024-06-11T12:22:01.068Z"
   },
   {
    "duration": 3,
    "start_time": "2024-06-11T12:22:26.419Z"
   },
   {
    "duration": 4317,
    "start_time": "2024-06-11T12:30:03.983Z"
   },
   {
    "duration": 953,
    "start_time": "2024-06-11T12:30:08.302Z"
   },
   {
    "duration": 16,
    "start_time": "2024-06-11T12:30:09.257Z"
   },
   {
    "duration": 45,
    "start_time": "2024-06-11T12:30:09.274Z"
   },
   {
    "duration": 2777,
    "start_time": "2024-06-11T12:30:09.322Z"
   },
   {
    "duration": 35079,
    "start_time": "2024-06-11T12:30:12.101Z"
   },
   {
    "duration": 3,
    "start_time": "2024-06-11T12:30:47.182Z"
   },
   {
    "duration": 37,
    "start_time": "2024-06-11T12:30:47.187Z"
   },
   {
    "duration": 3,
    "start_time": "2024-06-11T12:30:47.225Z"
   },
   {
    "duration": 7575,
    "start_time": "2024-06-11T12:30:47.229Z"
   },
   {
    "duration": 3,
    "start_time": "2024-06-11T12:30:54.806Z"
   },
   {
    "duration": 336,
    "start_time": "2024-06-11T12:30:54.810Z"
   },
   {
    "duration": 0,
    "start_time": "2024-06-11T12:30:55.148Z"
   },
   {
    "duration": 7,
    "start_time": "2024-06-11T12:31:15.144Z"
   },
   {
    "duration": 3,
    "start_time": "2024-06-11T12:31:20.952Z"
   },
   {
    "duration": 450167,
    "start_time": "2024-06-11T12:31:40.311Z"
   },
   {
    "duration": 42,
    "start_time": "2024-06-11T13:06:09.837Z"
   },
   {
    "duration": 26,
    "start_time": "2024-06-11T13:06:21.412Z"
   },
   {
    "duration": 4448,
    "start_time": "2024-06-11T13:07:14.096Z"
   },
   {
    "duration": 967,
    "start_time": "2024-06-11T13:07:18.546Z"
   },
   {
    "duration": 25,
    "start_time": "2024-06-11T13:07:19.514Z"
   },
   {
    "duration": 32,
    "start_time": "2024-06-11T13:07:19.540Z"
   },
   {
    "duration": 2913,
    "start_time": "2024-06-11T13:07:19.574Z"
   },
   {
    "duration": 37938,
    "start_time": "2024-06-11T13:07:22.489Z"
   },
   {
    "duration": 4,
    "start_time": "2024-06-11T13:08:00.429Z"
   },
   {
    "duration": 25,
    "start_time": "2024-06-11T13:08:00.434Z"
   },
   {
    "duration": 29,
    "start_time": "2024-06-11T13:08:00.461Z"
   },
   {
    "duration": 24,
    "start_time": "2024-06-11T13:08:00.491Z"
   },
   {
    "duration": 65,
    "start_time": "2024-06-11T13:08:00.517Z"
   },
   {
    "duration": 377,
    "start_time": "2024-06-11T13:08:00.584Z"
   },
   {
    "duration": 0,
    "start_time": "2024-06-11T13:08:00.963Z"
   },
   {
    "duration": 22,
    "start_time": "2024-06-11T13:14:55.323Z"
   },
   {
    "duration": 3,
    "start_time": "2024-06-11T13:15:08.030Z"
   },
   {
    "duration": 22,
    "start_time": "2024-06-11T13:15:10.027Z"
   },
   {
    "duration": 3,
    "start_time": "2024-06-11T13:15:32.091Z"
   },
   {
    "duration": 199261,
    "start_time": "2024-06-11T13:15:34.231Z"
   },
   {
    "duration": 4,
    "start_time": "2024-06-11T13:19:42.090Z"
   },
   {
    "duration": 4464,
    "start_time": "2024-06-11T13:27:32.885Z"
   },
   {
    "duration": 997,
    "start_time": "2024-06-11T13:27:37.351Z"
   },
   {
    "duration": 17,
    "start_time": "2024-06-11T13:27:38.350Z"
   },
   {
    "duration": 47,
    "start_time": "2024-06-11T13:27:38.368Z"
   },
   {
    "duration": 2956,
    "start_time": "2024-06-11T13:27:38.418Z"
   },
   {
    "duration": 37247,
    "start_time": "2024-06-11T13:27:41.376Z"
   },
   {
    "duration": 4,
    "start_time": "2024-06-11T13:28:18.624Z"
   },
   {
    "duration": 8,
    "start_time": "2024-06-11T13:28:18.629Z"
   },
   {
    "duration": 7,
    "start_time": "2024-06-11T13:28:18.639Z"
   },
   {
    "duration": 15,
    "start_time": "2024-06-11T13:28:18.648Z"
   },
   {
    "duration": 1189779,
    "start_time": "2024-06-11T13:28:18.665Z"
   },
   {
    "duration": 21361,
    "start_time": "2024-06-11T13:57:34.250Z"
   },
   {
    "duration": 3,
    "start_time": "2024-06-11T13:58:40.334Z"
   },
   {
    "duration": 3,
    "start_time": "2024-06-11T13:58:48.404Z"
   },
   {
    "duration": 4179,
    "start_time": "2024-06-11T14:00:18.176Z"
   },
   {
    "duration": 941,
    "start_time": "2024-06-11T14:00:22.357Z"
   },
   {
    "duration": 16,
    "start_time": "2024-06-11T14:00:23.300Z"
   },
   {
    "duration": 32,
    "start_time": "2024-06-11T14:00:23.318Z"
   },
   {
    "duration": 2768,
    "start_time": "2024-06-11T14:00:23.352Z"
   },
   {
    "duration": 33995,
    "start_time": "2024-06-11T14:00:26.121Z"
   },
   {
    "duration": 3,
    "start_time": "2024-06-11T14:01:00.118Z"
   },
   {
    "duration": 37,
    "start_time": "2024-06-11T14:01:00.123Z"
   },
   {
    "duration": 32,
    "start_time": "2024-06-11T14:01:00.161Z"
   },
   {
    "duration": 15,
    "start_time": "2024-06-11T14:01:00.195Z"
   },
   {
    "duration": 21494,
    "start_time": "2024-06-11T14:01:00.212Z"
   },
   {
    "duration": 3,
    "start_time": "2024-06-11T14:01:21.708Z"
   },
   {
    "duration": 3,
    "start_time": "2024-06-11T14:01:21.714Z"
   },
   {
    "duration": 4153,
    "start_time": "2024-06-11T14:15:04.523Z"
   },
   {
    "duration": 925,
    "start_time": "2024-06-11T14:15:08.679Z"
   },
   {
    "duration": 16,
    "start_time": "2024-06-11T14:15:09.606Z"
   },
   {
    "duration": 33,
    "start_time": "2024-06-11T14:15:09.623Z"
   },
   {
    "duration": 2762,
    "start_time": "2024-06-11T14:15:09.657Z"
   },
   {
    "duration": 36003,
    "start_time": "2024-06-11T14:15:12.421Z"
   },
   {
    "duration": 4,
    "start_time": "2024-06-11T14:15:48.426Z"
   },
   {
    "duration": 6,
    "start_time": "2024-06-11T14:15:48.432Z"
   },
   {
    "duration": 6,
    "start_time": "2024-06-11T14:15:48.439Z"
   },
   {
    "duration": 11,
    "start_time": "2024-06-11T14:15:48.447Z"
   },
   {
    "duration": 4309,
    "start_time": "2024-06-11T14:17:03.539Z"
   },
   {
    "duration": 908,
    "start_time": "2024-06-11T14:17:07.850Z"
   },
   {
    "duration": 736,
    "start_time": "2024-06-11T14:17:08.760Z"
   },
   {
    "duration": 32,
    "start_time": "2024-06-11T14:17:09.498Z"
   },
   {
    "duration": 2804,
    "start_time": "2024-06-11T14:17:09.532Z"
   },
   {
    "duration": 35064,
    "start_time": "2024-06-11T14:17:12.337Z"
   },
   {
    "duration": 3,
    "start_time": "2024-06-11T14:17:47.403Z"
   },
   {
    "duration": 171,
    "start_time": "2024-06-11T14:17:47.408Z"
   },
   {
    "duration": 657,
    "start_time": "2024-06-11T14:17:47.581Z"
   },
   {
    "duration": 422,
    "start_time": "2024-06-11T14:17:48.240Z"
   },
   {
    "duration": 1425014,
    "start_time": "2024-06-11T14:17:48.664Z"
   },
   {
    "duration": 11873,
    "start_time": "2024-06-11T14:41:33.680Z"
   },
   {
    "duration": 12377,
    "start_time": "2024-06-11T14:54:48.324Z"
   },
   {
    "duration": 47,
    "start_time": "2024-06-11T16:30:18.433Z"
   },
   {
    "duration": 4177,
    "start_time": "2024-06-11T16:30:40.201Z"
   },
   {
    "duration": 2242,
    "start_time": "2024-06-11T16:30:44.379Z"
   },
   {
    "duration": 14,
    "start_time": "2024-06-11T16:30:46.622Z"
   },
   {
    "duration": 30,
    "start_time": "2024-06-11T16:30:46.637Z"
   },
   {
    "duration": 2439,
    "start_time": "2024-06-11T16:30:55.506Z"
   },
   {
    "duration": 30287,
    "start_time": "2024-06-11T16:30:57.948Z"
   },
   {
    "duration": 3,
    "start_time": "2024-06-11T16:31:31.111Z"
   },
   {
    "duration": 3,
    "start_time": "2024-06-11T16:31:31.539Z"
   },
   {
    "duration": 6386,
    "start_time": "2024-06-11T16:31:57.327Z"
   },
   {
    "duration": 1018815,
    "start_time": "2024-06-11T16:32:23.693Z"
   },
   {
    "duration": 0,
    "start_time": "2024-06-11T16:49:22.510Z"
   },
   {
    "duration": 29992,
    "start_time": "2024-06-11T16:49:25.096Z"
   },
   {
    "duration": 16848,
    "start_time": "2024-06-11T16:49:55.090Z"
   },
   {
    "duration": 4516,
    "start_time": "2024-06-11T20:55:23.782Z"
   },
   {
    "duration": 2445,
    "start_time": "2024-06-11T20:55:28.300Z"
   },
   {
    "duration": 17,
    "start_time": "2024-06-11T20:55:30.747Z"
   },
   {
    "duration": 127,
    "start_time": "2024-06-11T20:55:30.765Z"
   },
   {
    "duration": 2723,
    "start_time": "2024-06-11T20:55:30.894Z"
   },
   {
    "duration": 33977,
    "start_time": "2024-06-11T20:55:33.619Z"
   },
   {
    "duration": 3,
    "start_time": "2024-06-11T20:56:07.598Z"
   },
   {
    "duration": 10,
    "start_time": "2024-06-11T20:56:07.603Z"
   },
   {
    "duration": 7159,
    "start_time": "2024-06-11T20:56:07.615Z"
   },
   {
    "duration": 1385568,
    "start_time": "2024-06-11T20:56:14.776Z"
   },
   {
    "duration": 11271,
    "start_time": "2024-06-11T21:19:20.346Z"
   },
   {
    "duration": 34203,
    "start_time": "2024-06-11T21:19:31.619Z"
   },
   {
    "duration": 18859,
    "start_time": "2024-06-11T21:20:05.824Z"
   },
   {
    "duration": 34253,
    "start_time": "2024-06-11T21:22:29.425Z"
   },
   {
    "duration": 18797,
    "start_time": "2024-06-11T21:23:03.682Z"
   },
   {
    "duration": 783,
    "start_time": "2024-06-11T21:23:52.977Z"
   },
   {
    "duration": 771,
    "start_time": "2024-06-11T21:24:29.326Z"
   },
   {
    "duration": 5,
    "start_time": "2024-06-11T21:27:00.880Z"
   },
   {
    "duration": 897,
    "start_time": "2024-06-11T21:27:03.062Z"
   },
   {
    "duration": 7,
    "start_time": "2024-06-11T21:27:05.532Z"
   },
   {
    "duration": 32,
    "start_time": "2024-06-11T21:27:06.077Z"
   },
   {
    "duration": 2679,
    "start_time": "2024-06-11T21:27:08.401Z"
   },
   {
    "duration": 15261,
    "start_time": "2024-06-11T21:27:11.082Z"
   },
   {
    "duration": 4140,
    "start_time": "2024-06-11T21:27:34.749Z"
   },
   {
    "duration": 923,
    "start_time": "2024-06-11T21:27:38.891Z"
   },
   {
    "duration": 17,
    "start_time": "2024-06-11T21:27:39.815Z"
   },
   {
    "duration": 51,
    "start_time": "2024-06-11T21:27:39.834Z"
   },
   {
    "duration": 2751,
    "start_time": "2024-06-11T21:27:39.887Z"
   },
   {
    "duration": 33672,
    "start_time": "2024-06-11T21:27:42.639Z"
   },
   {
    "duration": 4,
    "start_time": "2024-06-11T21:28:16.313Z"
   },
   {
    "duration": 19,
    "start_time": "2024-06-11T21:28:16.319Z"
   },
   {
    "duration": 7053,
    "start_time": "2024-06-11T21:28:16.340Z"
   },
   {
    "duration": 1373115,
    "start_time": "2024-06-11T21:28:23.395Z"
   },
   {
    "duration": 11021,
    "start_time": "2024-06-11T21:51:16.511Z"
   },
   {
    "duration": 34576,
    "start_time": "2024-06-11T21:51:27.534Z"
   },
   {
    "duration": 18528,
    "start_time": "2024-06-11T21:52:02.112Z"
   },
   {
    "duration": 11,
    "start_time": "2024-06-11T21:52:20.643Z"
   }
  ],
  "kernelspec": {
   "display_name": "Python 3 (ipykernel)",
   "language": "python",
   "name": "python3"
  },
  "language_info": {
   "codemirror_mode": {
    "name": "ipython",
    "version": 3
   },
   "file_extension": ".py",
   "mimetype": "text/x-python",
   "name": "python",
   "nbconvert_exporter": "python",
   "pygments_lexer": "ipython3",
   "version": "3.9.5"
  },
  "toc": {
   "base_numbering": 1,
   "nav_menu": {},
   "number_sections": true,
   "sideBar": true,
   "skip_h1_title": true,
   "title_cell": "Содержание",
   "title_sidebar": "Contents",
   "toc_cell": true,
   "toc_position": {
    "height": "calc(100% - 180px)",
    "left": "10px",
    "top": "150px",
    "width": "302.391px"
   },
   "toc_section_display": true,
   "toc_window_display": false
  }
 },
 "nbformat": 4,
 "nbformat_minor": 2
}

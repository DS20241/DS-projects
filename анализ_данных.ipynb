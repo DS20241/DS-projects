{
 "cells": [
  {
   "cell_type": "markdown",
   "metadata": {},
   "source": [
    "# Сборный проект №1"
   ]
  },
  {
   "cell_type": "markdown",
   "metadata": {},
   "source": [
    "# Описание данных."
   ]
  },
  {
   "cell_type": "markdown",
   "metadata": {},
   "source": [
    "В этом проекте будет проведена работа над данными интернет-магазина 'Стримчик' за 2016 год, которые находятся в открытом доступе. Наша задача - выявить определяющие успешность игры закономерности, что позволит сделать ставку на потенциально популярный продукт и спланировать рекламные кампании."
   ]
  },
  {
   "cell_type": "markdown",
   "metadata": {},
   "source": [
    "# Откроем файл с данными и изучим общую информацию"
   ]
  },
  {
   "cell_type": "code",
   "execution_count": 1,
   "metadata": {},
   "outputs": [],
   "source": [
    "import pandas as pd\n",
    "import numpy as np\n",
    "import matplotlib.pyplot as plt\n",
    "import scipy.stats as stats\n",
    "import seaborn as sns"
   ]
  },
  {
   "cell_type": "code",
   "execution_count": 2,
   "metadata": {},
   "outputs": [
    {
     "data": {
      "text/html": [
       "<div>\n",
       "<style scoped>\n",
       "    .dataframe tbody tr th:only-of-type {\n",
       "        vertical-align: middle;\n",
       "    }\n",
       "\n",
       "    .dataframe tbody tr th {\n",
       "        vertical-align: top;\n",
       "    }\n",
       "\n",
       "    .dataframe thead th {\n",
       "        text-align: right;\n",
       "    }\n",
       "</style>\n",
       "<table border=\"1\" class=\"dataframe\">\n",
       "  <thead>\n",
       "    <tr style=\"text-align: right;\">\n",
       "      <th></th>\n",
       "      <th>Name</th>\n",
       "      <th>Platform</th>\n",
       "      <th>Year_of_Release</th>\n",
       "      <th>Genre</th>\n",
       "      <th>NA_sales</th>\n",
       "      <th>EU_sales</th>\n",
       "      <th>JP_sales</th>\n",
       "      <th>Other_sales</th>\n",
       "      <th>Critic_Score</th>\n",
       "      <th>User_Score</th>\n",
       "      <th>Rating</th>\n",
       "    </tr>\n",
       "  </thead>\n",
       "  <tbody>\n",
       "    <tr>\n",
       "      <th>0</th>\n",
       "      <td>Wii Sports</td>\n",
       "      <td>Wii</td>\n",
       "      <td>2006.0</td>\n",
       "      <td>Sports</td>\n",
       "      <td>41.36</td>\n",
       "      <td>28.96</td>\n",
       "      <td>3.77</td>\n",
       "      <td>8.45</td>\n",
       "      <td>76.0</td>\n",
       "      <td>8</td>\n",
       "      <td>E</td>\n",
       "    </tr>\n",
       "    <tr>\n",
       "      <th>1</th>\n",
       "      <td>Super Mario Bros.</td>\n",
       "      <td>NES</td>\n",
       "      <td>1985.0</td>\n",
       "      <td>Platform</td>\n",
       "      <td>29.08</td>\n",
       "      <td>3.58</td>\n",
       "      <td>6.81</td>\n",
       "      <td>0.77</td>\n",
       "      <td>NaN</td>\n",
       "      <td>NaN</td>\n",
       "      <td>NaN</td>\n",
       "    </tr>\n",
       "    <tr>\n",
       "      <th>2</th>\n",
       "      <td>Mario Kart Wii</td>\n",
       "      <td>Wii</td>\n",
       "      <td>2008.0</td>\n",
       "      <td>Racing</td>\n",
       "      <td>15.68</td>\n",
       "      <td>12.76</td>\n",
       "      <td>3.79</td>\n",
       "      <td>3.29</td>\n",
       "      <td>82.0</td>\n",
       "      <td>8.3</td>\n",
       "      <td>E</td>\n",
       "    </tr>\n",
       "    <tr>\n",
       "      <th>3</th>\n",
       "      <td>Wii Sports Resort</td>\n",
       "      <td>Wii</td>\n",
       "      <td>2009.0</td>\n",
       "      <td>Sports</td>\n",
       "      <td>15.61</td>\n",
       "      <td>10.93</td>\n",
       "      <td>3.28</td>\n",
       "      <td>2.95</td>\n",
       "      <td>80.0</td>\n",
       "      <td>8</td>\n",
       "      <td>E</td>\n",
       "    </tr>\n",
       "    <tr>\n",
       "      <th>4</th>\n",
       "      <td>Pokemon Red/Pokemon Blue</td>\n",
       "      <td>GB</td>\n",
       "      <td>1996.0</td>\n",
       "      <td>Role-Playing</td>\n",
       "      <td>11.27</td>\n",
       "      <td>8.89</td>\n",
       "      <td>10.22</td>\n",
       "      <td>1.00</td>\n",
       "      <td>NaN</td>\n",
       "      <td>NaN</td>\n",
       "      <td>NaN</td>\n",
       "    </tr>\n",
       "  </tbody>\n",
       "</table>\n",
       "</div>"
      ],
      "text/plain": [
       "                       Name Platform  Year_of_Release         Genre  NA_sales  \\\n",
       "0                Wii Sports      Wii           2006.0        Sports     41.36   \n",
       "1         Super Mario Bros.      NES           1985.0      Platform     29.08   \n",
       "2            Mario Kart Wii      Wii           2008.0        Racing     15.68   \n",
       "3         Wii Sports Resort      Wii           2009.0        Sports     15.61   \n",
       "4  Pokemon Red/Pokemon Blue       GB           1996.0  Role-Playing     11.27   \n",
       "\n",
       "   EU_sales  JP_sales  Other_sales  Critic_Score User_Score Rating  \n",
       "0     28.96      3.77         8.45          76.0          8      E  \n",
       "1      3.58      6.81         0.77           NaN        NaN    NaN  \n",
       "2     12.76      3.79         3.29          82.0        8.3      E  \n",
       "3     10.93      3.28         2.95          80.0          8      E  \n",
       "4      8.89     10.22         1.00           NaN        NaN    NaN  "
      ]
     },
     "execution_count": 2,
     "metadata": {},
     "output_type": "execute_result"
    }
   ],
   "source": [
    "data = pd.read_csv('/datasets/games.csv')\n",
    "data.head()"
   ]
  },
  {
   "cell_type": "code",
   "execution_count": 3,
   "metadata": {},
   "outputs": [
    {
     "data": {
      "text/html": [
       "<div>\n",
       "<style scoped>\n",
       "    .dataframe tbody tr th:only-of-type {\n",
       "        vertical-align: middle;\n",
       "    }\n",
       "\n",
       "    .dataframe tbody tr th {\n",
       "        vertical-align: top;\n",
       "    }\n",
       "\n",
       "    .dataframe thead th {\n",
       "        text-align: right;\n",
       "    }\n",
       "</style>\n",
       "<table border=\"1\" class=\"dataframe\">\n",
       "  <thead>\n",
       "    <tr style=\"text-align: right;\">\n",
       "      <th></th>\n",
       "      <th>Name</th>\n",
       "      <th>Platform</th>\n",
       "      <th>Year_of_Release</th>\n",
       "      <th>Genre</th>\n",
       "      <th>NA_sales</th>\n",
       "      <th>EU_sales</th>\n",
       "      <th>JP_sales</th>\n",
       "      <th>Other_sales</th>\n",
       "      <th>Critic_Score</th>\n",
       "      <th>User_Score</th>\n",
       "      <th>Rating</th>\n",
       "    </tr>\n",
       "  </thead>\n",
       "  <tbody>\n",
       "    <tr>\n",
       "      <th>0</th>\n",
       "      <td>Wii Sports</td>\n",
       "      <td>Wii</td>\n",
       "      <td>2006.0</td>\n",
       "      <td>Sports</td>\n",
       "      <td>41.36</td>\n",
       "      <td>28.96</td>\n",
       "      <td>3.77</td>\n",
       "      <td>8.45</td>\n",
       "      <td>76.0</td>\n",
       "      <td>8</td>\n",
       "      <td>E</td>\n",
       "    </tr>\n",
       "    <tr>\n",
       "      <th>1</th>\n",
       "      <td>Super Mario Bros.</td>\n",
       "      <td>NES</td>\n",
       "      <td>1985.0</td>\n",
       "      <td>Platform</td>\n",
       "      <td>29.08</td>\n",
       "      <td>3.58</td>\n",
       "      <td>6.81</td>\n",
       "      <td>0.77</td>\n",
       "      <td>NaN</td>\n",
       "      <td>NaN</td>\n",
       "      <td>NaN</td>\n",
       "    </tr>\n",
       "    <tr>\n",
       "      <th>2</th>\n",
       "      <td>Mario Kart Wii</td>\n",
       "      <td>Wii</td>\n",
       "      <td>2008.0</td>\n",
       "      <td>Racing</td>\n",
       "      <td>15.68</td>\n",
       "      <td>12.76</td>\n",
       "      <td>3.79</td>\n",
       "      <td>3.29</td>\n",
       "      <td>82.0</td>\n",
       "      <td>8.3</td>\n",
       "      <td>E</td>\n",
       "    </tr>\n",
       "    <tr>\n",
       "      <th>3</th>\n",
       "      <td>Wii Sports Resort</td>\n",
       "      <td>Wii</td>\n",
       "      <td>2009.0</td>\n",
       "      <td>Sports</td>\n",
       "      <td>15.61</td>\n",
       "      <td>10.93</td>\n",
       "      <td>3.28</td>\n",
       "      <td>2.95</td>\n",
       "      <td>80.0</td>\n",
       "      <td>8</td>\n",
       "      <td>E</td>\n",
       "    </tr>\n",
       "    <tr>\n",
       "      <th>4</th>\n",
       "      <td>Pokemon Red/Pokemon Blue</td>\n",
       "      <td>GB</td>\n",
       "      <td>1996.0</td>\n",
       "      <td>Role-Playing</td>\n",
       "      <td>11.27</td>\n",
       "      <td>8.89</td>\n",
       "      <td>10.22</td>\n",
       "      <td>1.00</td>\n",
       "      <td>NaN</td>\n",
       "      <td>NaN</td>\n",
       "      <td>NaN</td>\n",
       "    </tr>\n",
       "  </tbody>\n",
       "</table>\n",
       "</div>"
      ],
      "text/plain": [
       "                       Name Platform  Year_of_Release         Genre  NA_sales  \\\n",
       "0                Wii Sports      Wii           2006.0        Sports     41.36   \n",
       "1         Super Mario Bros.      NES           1985.0      Platform     29.08   \n",
       "2            Mario Kart Wii      Wii           2008.0        Racing     15.68   \n",
       "3         Wii Sports Resort      Wii           2009.0        Sports     15.61   \n",
       "4  Pokemon Red/Pokemon Blue       GB           1996.0  Role-Playing     11.27   \n",
       "\n",
       "   EU_sales  JP_sales  Other_sales  Critic_Score User_Score Rating  \n",
       "0     28.96      3.77         8.45          76.0          8      E  \n",
       "1      3.58      6.81         0.77           NaN        NaN    NaN  \n",
       "2     12.76      3.79         3.29          82.0        8.3      E  \n",
       "3     10.93      3.28         2.95          80.0          8      E  \n",
       "4      8.89     10.22         1.00           NaN        NaN    NaN  "
      ]
     },
     "execution_count": 3,
     "metadata": {},
     "output_type": "execute_result"
    }
   ],
   "source": [
    "# Комментарий ревьюера\n",
    "data.head()"
   ]
  },
  {
   "cell_type": "code",
   "execution_count": 4,
   "metadata": {},
   "outputs": [
    {
     "name": "stdout",
     "output_type": "stream",
     "text": [
      "<class 'pandas.core.frame.DataFrame'>\n",
      "RangeIndex: 16715 entries, 0 to 16714\n",
      "Data columns (total 11 columns):\n",
      " #   Column           Non-Null Count  Dtype  \n",
      "---  ------           --------------  -----  \n",
      " 0   Name             16713 non-null  object \n",
      " 1   Platform         16715 non-null  object \n",
      " 2   Year_of_Release  16446 non-null  float64\n",
      " 3   Genre            16713 non-null  object \n",
      " 4   NA_sales         16715 non-null  float64\n",
      " 5   EU_sales         16715 non-null  float64\n",
      " 6   JP_sales         16715 non-null  float64\n",
      " 7   Other_sales      16715 non-null  float64\n",
      " 8   Critic_Score     8137 non-null   float64\n",
      " 9   User_Score       10014 non-null  object \n",
      " 10  Rating           9949 non-null   object \n",
      "dtypes: float64(6), object(5)\n",
      "memory usage: 1.4+ MB\n",
      "None\n"
     ]
    }
   ],
   "source": [
    "print(data.info())"
   ]
  },
  {
   "cell_type": "markdown",
   "metadata": {},
   "source": [
    "**Промежуточный вывод:** На данном этапе мало, что можно сказать о данных, однако стоит отметить, что придется поработать с типами данных и пропусками, а также с названиями столбцов."
   ]
  },
  {
   "cell_type": "markdown",
   "metadata": {},
   "source": [
    "# Подготовка данных."
   ]
  },
  {
   "cell_type": "code",
   "execution_count": 5,
   "metadata": {},
   "outputs": [
    {
     "name": "stdout",
     "output_type": "stream",
     "text": [
      "<class 'pandas.core.frame.DataFrame'>\n",
      "RangeIndex: 16715 entries, 0 to 16714\n",
      "Data columns (total 11 columns):\n",
      " #   Column           Non-Null Count  Dtype  \n",
      "---  ------           --------------  -----  \n",
      " 0   name             16713 non-null  object \n",
      " 1   platform         16715 non-null  object \n",
      " 2   year_of_release  16446 non-null  float64\n",
      " 3   genre            16713 non-null  object \n",
      " 4   na_sales         16715 non-null  float64\n",
      " 5   eu_sales         16715 non-null  float64\n",
      " 6   jp_sales         16715 non-null  float64\n",
      " 7   other_sales      16715 non-null  float64\n",
      " 8   critic_score     8137 non-null   float64\n",
      " 9   user_score       10014 non-null  object \n",
      " 10  rating           9949 non-null   object \n",
      "dtypes: float64(6), object(5)\n",
      "memory usage: 1.4+ MB\n",
      "None\n"
     ]
    }
   ],
   "source": [
    "data = data.rename(columns=lambda x: x.lower())\n",
    "print(data.info())"
   ]
  },
  {
   "cell_type": "markdown",
   "metadata": {},
   "source": [
    "**Обработаем пропуски и типы данных.**"
   ]
  },
  {
   "cell_type": "code",
   "execution_count": 6,
   "metadata": {
    "scrolled": true
   },
   "outputs": [
    {
     "name": "stdout",
     "output_type": "stream",
     "text": [
      "name                  2\n",
      "platform              0\n",
      "year_of_release     269\n",
      "genre                 2\n",
      "na_sales              0\n",
      "eu_sales              0\n",
      "jp_sales              0\n",
      "other_sales           0\n",
      "critic_score       8578\n",
      "user_score         6701\n",
      "rating             6766\n",
      "dtype: int64\n"
     ]
    }
   ],
   "source": [
    "print(data.isnull().sum())"
   ]
  },
  {
   "cell_type": "code",
   "execution_count": 7,
   "metadata": {},
   "outputs": [],
   "source": [
    "data = data.dropna(subset = ['name', 'genre'])"
   ]
  },
  {
   "cell_type": "code",
   "execution_count": 8,
   "metadata": {},
   "outputs": [],
   "source": [
    "data = data.dropna(subset=['year_of_release'])\n",
    "data['year_of_release'] = pd.to_datetime(data['year_of_release'], format = '%Y').dt.year"
   ]
  },
  {
   "cell_type": "code",
   "execution_count": 9,
   "metadata": {},
   "outputs": [],
   "source": [
    "#data['critic_score'] = data.groupby('genre')['critic_score'].transform(lambda x: x.fillna(x.mean()))\n",
    "data['critic_score'].fillna(-1, inplace=True)"
   ]
  },
  {
   "cell_type": "code",
   "execution_count": 10,
   "metadata": {},
   "outputs": [],
   "source": [
    "#mode_value = data['rating'].mode().iloc[0]\n",
    "#data['rating'].fillna(mode_value, inplace=True)\n",
    "data['rating'].fillna(-1, inplace=True)"
   ]
  },
  {
   "cell_type": "code",
   "execution_count": 11,
   "metadata": {},
   "outputs": [
    {
     "name": "stdout",
     "output_type": "stream",
     "text": [
      "name                  0\n",
      "platform              0\n",
      "year_of_release       0\n",
      "genre                 0\n",
      "na_sales              0\n",
      "eu_sales              0\n",
      "jp_sales              0\n",
      "other_sales           0\n",
      "critic_score          0\n",
      "user_score         6605\n",
      "rating                0\n",
      "dtype: int64\n"
     ]
    }
   ],
   "source": [
    "print(data.isnull().sum())"
   ]
  },
  {
   "cell_type": "markdown",
   "metadata": {},
   "source": [
    "**Разберемся со значением 'tbd' в столбце 'user_score'**"
   ]
  },
  {
   "cell_type": "code",
   "execution_count": 12,
   "metadata": {},
   "outputs": [
    {
     "name": "stdout",
     "output_type": "stream",
     "text": [
      "['8' nan '8.3' '8.5' '6.6' '8.4' '8.6' '7.7' '6.3' '7.4' '8.2' '9' '7.9'\n",
      " '8.1' '8.7' '7.1' '3.4' '5.3' '4.8' '3.2' '8.9' '6.4' '7.8' '7.5' '2.6'\n",
      " '7.2' '9.2' '7' '7.3' '4.3' '7.6' '5.7' '5' '9.1' '6.5' 'tbd' '8.8' '6.9'\n",
      " '9.4' '6.8' '6.1' '6.7' '5.4' '4' '4.9' '4.5' '9.3' '6.2' '4.2' '6' '3.7'\n",
      " '4.1' '5.8' '5.6' '5.5' '4.4' '4.6' '5.9' '3.9' '3.1' '2.9' '5.2' '3.3'\n",
      " '4.7' '5.1' '3.5' '2.5' '1.9' '3' '2.7' '2.2' '2' '9.5' '2.1' '3.6' '2.8'\n",
      " '1.8' '3.8' '0' '1.6' '9.6' '2.4' '1.7' '1.1' '0.3' '1.5' '0.7' '1.2'\n",
      " '2.3' '0.5' '1.3' '0.2' '0.6' '1.4' '0.9' '1' '9.7']\n"
     ]
    }
   ],
   "source": [
    "print(data['user_score'].unique())"
   ]
  },
  {
   "cell_type": "markdown",
   "metadata": {},
   "source": [
    "**'tbd' - это 'To be Determined', что в переводе означает: 'Будет определено'. Значит мы можем заменить все данные значения на значение 'nan'.**"
   ]
  },
  {
   "cell_type": "code",
   "execution_count": 13,
   "metadata": {},
   "outputs": [],
   "source": [
    "data['user_score'] = data['user_score'].replace('tbd', np.nan, regex=True)"
   ]
  },
  {
   "cell_type": "code",
   "execution_count": 14,
   "metadata": {},
   "outputs": [
    {
     "name": "stdout",
     "output_type": "stream",
     "text": [
      "['8' nan '8.3' '8.5' '6.6' '8.4' '8.6' '7.7' '6.3' '7.4' '8.2' '9' '7.9'\n",
      " '8.1' '8.7' '7.1' '3.4' '5.3' '4.8' '3.2' '8.9' '6.4' '7.8' '7.5' '2.6'\n",
      " '7.2' '9.2' '7' '7.3' '4.3' '7.6' '5.7' '5' '9.1' '6.5' '8.8' '6.9' '9.4'\n",
      " '6.8' '6.1' '6.7' '5.4' '4' '4.9' '4.5' '9.3' '6.2' '4.2' '6' '3.7' '4.1'\n",
      " '5.8' '5.6' '5.5' '4.4' '4.6' '5.9' '3.9' '3.1' '2.9' '5.2' '3.3' '4.7'\n",
      " '5.1' '3.5' '2.5' '1.9' '3' '2.7' '2.2' '2' '9.5' '2.1' '3.6' '2.8' '1.8'\n",
      " '3.8' '0' '1.6' '9.6' '2.4' '1.7' '1.1' '0.3' '1.5' '0.7' '1.2' '2.3'\n",
      " '0.5' '1.3' '0.2' '0.6' '1.4' '0.9' '1' '9.7']\n"
     ]
    }
   ],
   "source": [
    "print(data['user_score'].unique())"
   ]
  },
  {
   "cell_type": "code",
   "execution_count": 15,
   "metadata": {},
   "outputs": [],
   "source": [
    "data['user_score'] = data['user_score'].astype(float)"
   ]
  },
  {
   "cell_type": "markdown",
   "metadata": {},
   "source": [
    "**Посчитаем суммарные продажи во всех регионах и запишем их в отдельный столбец.**"
   ]
  },
  {
   "cell_type": "code",
   "execution_count": 16,
   "metadata": {},
   "outputs": [
    {
     "data": {
      "text/html": [
       "<div>\n",
       "<style scoped>\n",
       "    .dataframe tbody tr th:only-of-type {\n",
       "        vertical-align: middle;\n",
       "    }\n",
       "\n",
       "    .dataframe tbody tr th {\n",
       "        vertical-align: top;\n",
       "    }\n",
       "\n",
       "    .dataframe thead th {\n",
       "        text-align: right;\n",
       "    }\n",
       "</style>\n",
       "<table border=\"1\" class=\"dataframe\">\n",
       "  <thead>\n",
       "    <tr style=\"text-align: right;\">\n",
       "      <th></th>\n",
       "      <th>name</th>\n",
       "      <th>platform</th>\n",
       "      <th>year_of_release</th>\n",
       "      <th>genre</th>\n",
       "      <th>na_sales</th>\n",
       "      <th>eu_sales</th>\n",
       "      <th>jp_sales</th>\n",
       "      <th>other_sales</th>\n",
       "      <th>critic_score</th>\n",
       "      <th>user_score</th>\n",
       "      <th>rating</th>\n",
       "      <th>total_sales</th>\n",
       "    </tr>\n",
       "  </thead>\n",
       "  <tbody>\n",
       "    <tr>\n",
       "      <th>0</th>\n",
       "      <td>Wii Sports</td>\n",
       "      <td>Wii</td>\n",
       "      <td>2006</td>\n",
       "      <td>Sports</td>\n",
       "      <td>41.36</td>\n",
       "      <td>28.96</td>\n",
       "      <td>3.77</td>\n",
       "      <td>8.45</td>\n",
       "      <td>76.0</td>\n",
       "      <td>8.0</td>\n",
       "      <td>E</td>\n",
       "      <td>82.54</td>\n",
       "    </tr>\n",
       "    <tr>\n",
       "      <th>1</th>\n",
       "      <td>Super Mario Bros.</td>\n",
       "      <td>NES</td>\n",
       "      <td>1985</td>\n",
       "      <td>Platform</td>\n",
       "      <td>29.08</td>\n",
       "      <td>3.58</td>\n",
       "      <td>6.81</td>\n",
       "      <td>0.77</td>\n",
       "      <td>-1.0</td>\n",
       "      <td>NaN</td>\n",
       "      <td>-1</td>\n",
       "      <td>40.24</td>\n",
       "    </tr>\n",
       "    <tr>\n",
       "      <th>2</th>\n",
       "      <td>Mario Kart Wii</td>\n",
       "      <td>Wii</td>\n",
       "      <td>2008</td>\n",
       "      <td>Racing</td>\n",
       "      <td>15.68</td>\n",
       "      <td>12.76</td>\n",
       "      <td>3.79</td>\n",
       "      <td>3.29</td>\n",
       "      <td>82.0</td>\n",
       "      <td>8.3</td>\n",
       "      <td>E</td>\n",
       "      <td>35.52</td>\n",
       "    </tr>\n",
       "    <tr>\n",
       "      <th>3</th>\n",
       "      <td>Wii Sports Resort</td>\n",
       "      <td>Wii</td>\n",
       "      <td>2009</td>\n",
       "      <td>Sports</td>\n",
       "      <td>15.61</td>\n",
       "      <td>10.93</td>\n",
       "      <td>3.28</td>\n",
       "      <td>2.95</td>\n",
       "      <td>80.0</td>\n",
       "      <td>8.0</td>\n",
       "      <td>E</td>\n",
       "      <td>32.77</td>\n",
       "    </tr>\n",
       "    <tr>\n",
       "      <th>4</th>\n",
       "      <td>Pokemon Red/Pokemon Blue</td>\n",
       "      <td>GB</td>\n",
       "      <td>1996</td>\n",
       "      <td>Role-Playing</td>\n",
       "      <td>11.27</td>\n",
       "      <td>8.89</td>\n",
       "      <td>10.22</td>\n",
       "      <td>1.00</td>\n",
       "      <td>-1.0</td>\n",
       "      <td>NaN</td>\n",
       "      <td>-1</td>\n",
       "      <td>31.38</td>\n",
       "    </tr>\n",
       "  </tbody>\n",
       "</table>\n",
       "</div>"
      ],
      "text/plain": [
       "                       name platform  year_of_release         genre  na_sales  \\\n",
       "0                Wii Sports      Wii             2006        Sports     41.36   \n",
       "1         Super Mario Bros.      NES             1985      Platform     29.08   \n",
       "2            Mario Kart Wii      Wii             2008        Racing     15.68   \n",
       "3         Wii Sports Resort      Wii             2009        Sports     15.61   \n",
       "4  Pokemon Red/Pokemon Blue       GB             1996  Role-Playing     11.27   \n",
       "\n",
       "   eu_sales  jp_sales  other_sales  critic_score  user_score rating  \\\n",
       "0     28.96      3.77         8.45          76.0         8.0      E   \n",
       "1      3.58      6.81         0.77          -1.0         NaN     -1   \n",
       "2     12.76      3.79         3.29          82.0         8.3      E   \n",
       "3     10.93      3.28         2.95          80.0         8.0      E   \n",
       "4      8.89     10.22         1.00          -1.0         NaN     -1   \n",
       "\n",
       "   total_sales  \n",
       "0        82.54  \n",
       "1        40.24  \n",
       "2        35.52  \n",
       "3        32.77  \n",
       "4        31.38  "
      ]
     },
     "execution_count": 16,
     "metadata": {},
     "output_type": "execute_result"
    }
   ],
   "source": [
    "data['total_sales'] = data[['na_sales', 'eu_sales', 'jp_sales', 'other_sales']].sum(axis=1)\n",
    "data.head()"
   ]
  },
  {
   "cell_type": "markdown",
   "metadata": {},
   "source": [
    "**Проверим таблицу на дубликаты**"
   ]
  },
  {
   "cell_type": "code",
   "execution_count": 17,
   "metadata": {},
   "outputs": [
    {
     "name": "stdout",
     "output_type": "stream",
     "text": [
      "0\n"
     ]
    }
   ],
   "source": [
    "print(data.duplicated().sum())"
   ]
  },
  {
   "cell_type": "code",
   "execution_count": 18,
   "metadata": {},
   "outputs": [
    {
     "data": {
      "text/html": [
       "<div>\n",
       "<style scoped>\n",
       "    .dataframe tbody tr th:only-of-type {\n",
       "        vertical-align: middle;\n",
       "    }\n",
       "\n",
       "    .dataframe tbody tr th {\n",
       "        vertical-align: top;\n",
       "    }\n",
       "\n",
       "    .dataframe thead th {\n",
       "        text-align: right;\n",
       "    }\n",
       "</style>\n",
       "<table border=\"1\" class=\"dataframe\">\n",
       "  <thead>\n",
       "    <tr style=\"text-align: right;\">\n",
       "      <th></th>\n",
       "      <th>name</th>\n",
       "      <th>platform</th>\n",
       "      <th>year_of_release</th>\n",
       "      <th>genre</th>\n",
       "      <th>na_sales</th>\n",
       "      <th>eu_sales</th>\n",
       "      <th>jp_sales</th>\n",
       "      <th>other_sales</th>\n",
       "      <th>critic_score</th>\n",
       "      <th>user_score</th>\n",
       "      <th>rating</th>\n",
       "      <th>total_sales</th>\n",
       "    </tr>\n",
       "  </thead>\n",
       "  <tbody>\n",
       "    <tr>\n",
       "      <th>604</th>\n",
       "      <td>Madden NFL 13</td>\n",
       "      <td>PS3</td>\n",
       "      <td>2012</td>\n",
       "      <td>Sports</td>\n",
       "      <td>2.11</td>\n",
       "      <td>0.22</td>\n",
       "      <td>0.0</td>\n",
       "      <td>0.23</td>\n",
       "      <td>83.0</td>\n",
       "      <td>5.5</td>\n",
       "      <td>E</td>\n",
       "      <td>2.56</td>\n",
       "    </tr>\n",
       "    <tr>\n",
       "      <th>16230</th>\n",
       "      <td>Madden NFL 13</td>\n",
       "      <td>PS3</td>\n",
       "      <td>2012</td>\n",
       "      <td>Sports</td>\n",
       "      <td>0.00</td>\n",
       "      <td>0.01</td>\n",
       "      <td>0.0</td>\n",
       "      <td>0.00</td>\n",
       "      <td>83.0</td>\n",
       "      <td>5.5</td>\n",
       "      <td>E</td>\n",
       "      <td>0.01</td>\n",
       "    </tr>\n",
       "  </tbody>\n",
       "</table>\n",
       "</div>"
      ],
      "text/plain": [
       "                name platform  year_of_release   genre  na_sales  eu_sales  \\\n",
       "604    Madden NFL 13      PS3             2012  Sports      2.11      0.22   \n",
       "16230  Madden NFL 13      PS3             2012  Sports      0.00      0.01   \n",
       "\n",
       "       jp_sales  other_sales  critic_score  user_score rating  total_sales  \n",
       "604         0.0         0.23          83.0         5.5      E         2.56  \n",
       "16230       0.0         0.00          83.0         5.5      E         0.01  "
      ]
     },
     "execution_count": 18,
     "metadata": {},
     "output_type": "execute_result"
    }
   ],
   "source": [
    "data.sort_values(by=['name', 'platform', 'year_of_release'], inplace=True)\n",
    "implicit_duplicates = data[data.duplicated(subset=['name', 'platform', 'year_of_release'], keep=False)]\n",
    "implicit_duplicates"
   ]
  },
  {
   "cell_type": "code",
   "execution_count": 19,
   "metadata": {},
   "outputs": [],
   "source": [
    "data = data.drop_duplicates(subset=['name', 'platform', 'year_of_release'])"
   ]
  },
  {
   "cell_type": "markdown",
   "metadata": {},
   "source": [
    "**Промежуточный вывод:**<br>Для дальнейшего удобства мы привели названия столбцов к нижнему регистру.<br>Поработали с типами данных, а именно: произвели замену столбца 'year_of_release', и теперь там указан лишь год.<br>Затем мы провели работу с пропусками, а конкретнее удалили пропуски в столбцах 'name'и 'genre', ведь это столбец с категориальными данными, в котором было мало пропусков. Пропуски в столбце 'year_of_release' мы решили не заполнять, поэтому просто избавились от данных строк. Пропуски в столбце 'critic_score' и 'rating' мы заполнили 'заглушкой'. Также был обнаружен один неявный дубликат, от него мы избавились. <br>C помощью интернета мы выяснили, что 'tbd' - это 'To be Determined', что в переводе означает: 'Будет определено'. После того, как мы поняли, что означает данное значение, мы приняли решение заменить все 'tbd' в таблице на значения 'nan' и поменять тип данных столбца на 'float'.<br>В конце данного шага мы рассчитали прибыль каждой игры во всех регионах и записали их в новый столбец 'total_sales'.<br>Пропуски могли могли возникнуть по разным причинам. Например, в столбце 'year_of_release' они могли возникнуть из-за отсутствие информации о годе выпуска или из-за проблем с техническими аспектами. В столбцах 'critic_score' и 'user_score' пропуски могли появиться из-за просто отсутствия оценок, ведь некоторые игры могут не иметь оценок критиков или пользователей или из-за неприменимости оценок, так как некоторые игры или контент могут не поддаваться оценке критиками или пользователями. А в столбце 'rating' пропуски могли появиться ввиду отсутствия рейтинга или неизвестного рейтинга."
   ]
  },
  {
   "cell_type": "markdown",
   "metadata": {},
   "source": [
    "# Исследовательский анализ данных."
   ]
  },
  {
   "cell_type": "markdown",
   "metadata": {},
   "source": [
    "**Посмотрим, сколько игр выпускалось в разные годы и ответим: важны ли данные за все периоды?**"
   ]
  },
  {
   "cell_type": "code",
   "execution_count": 22,
   "metadata": {},
   "outputs": [
    {
     "data": {
      "image/png": "[encoded data removed]",
      "text/plain": [
       "<Figure size 720x432 with 1 Axes>"
      ]
     },
     "metadata": {
      "needs_background": "light"
     },
     "output_type": "display_data"
    }
   ],
   "source": [
    "count_games = data.pivot_table(index = 'year_of_release', values = 'name', aggfunc = 'count')\n",
    "\n",
    "plt.figure(figsize = (10, 6))\n",
    "plt.plot(count_games.index, count_games.values, marker='o', linestyle='-')\n",
    "plt.title('Количество игр по годам')\n",
    "plt.xlabel('Год выпуска')\n",
    "plt.ylabel('Количество игр')\n",
    "plt.grid(True)\n",
    "plt.show()"
   ]
  },
  {
   "cell_type": "markdown",
   "metadata": {},
   "source": [
    "**Промежуточный вывод:**<br> Можем предположить, что количество игр стало увеличиваться со временем, благодаря прогрессу компьютерных технологий. А в последние годы пошло на спад, ввиду появления телефонов и консолей, из-за чего многие люди начали больше играть на них, нежели чем на компьютерах.<br>Стоит сказать, что все не все продемострированные данные важны, ведь в период 1980-1995 игр , как и компаний, было очень мало. "
   ]
  },
  {
   "cell_type": "markdown",
   "metadata": {},
   "source": [
    "**Посмотрим, как менялись продажи по платформам. Выберем платформы с наибольшими суммарными продажами и построим распределение по годам. А также ответим на вопрос: за какой характерный срок появляются новые и исчезают старые платформы?**"
   ]
  },
  {
   "cell_type": "code",
   "execution_count": 23,
   "metadata": {},
   "outputs": [
    {
     "data": {
      "image/png": "[encoded data removed]",
      "text/plain": [
       "<Figure size 1440x720 with 1 Axes>"
      ]
     },
     "metadata": {
      "needs_background": "light"
     },
     "output_type": "display_data"
    }
   ],
   "source": [
    "platform_sales = data.pivot_table(\n",
    "    index = 'platform', values = 'total_sales', \n",
    "    aggfunc = 'sum').sort_values(by='total_sales', ascending=False)\n",
    "\n",
    "plt.figure(figsize = (20, 10))\n",
    "plt.bar(platform_sales.index, platform_sales['total_sales'])\n",
    "plt.title(\"Продажи по платформам за весь период\")\n",
    "plt.xlabel(\"Название платформы\")\n",
    "plt.ylabel(\"Количество продаж\")\n",
    "plt.grid(True)\n",
    "plt.show()"
   ]
  },
  {
   "cell_type": "code",
   "execution_count": 24,
   "metadata": {
    "scrolled": false
   },
   "outputs": [
    {
     "data": {
      "image/png": "[encoded data removed]",
      "text/plain": [
       "<Figure size 936x288 with 1 Axes>"
      ]
     },
     "metadata": {
      "needs_background": "light"
     },
     "output_type": "display_data"
    },
    {
     "data": {
      "image/png": "[encoded data removed]",
      "text/plain": [
       "<Figure size 936x288 with 1 Axes>"
      ]
     },
     "metadata": {
      "needs_background": "light"
     },
     "output_type": "display_data"
    },
    {
     "data": {
      "image/png": "[encoded data removed]",
      "text/plain": [
       "<Figure size 936x288 with 1 Axes>"
      ]
     },
     "metadata": {
      "needs_background": "light"
     },
     "output_type": "display_data"
    },
    {
     "data": {
      "image/png": "[encoded data removed]",
      "text/plain": [
       "<Figure size 936x288 with 1 Axes>"
      ]
     },
     "metadata": {
      "needs_background": "light"
     },
     "output_type": "display_data"
    },
    {
     "data": {
      "image/png": "[encoded data removed]",
      "text/plain": [
       "<Figure size 936x288 with 1 Axes>"
      ]
     },
     "metadata": {
      "needs_background": "light"
     },
     "output_type": "display_data"
    },
    {
     "data": {
      "image/png": "[encoded data removed]",
      "text/plain": [
       "<Figure size 936x288 with 1 Axes>"
      ]
     },
     "metadata": {
      "needs_background": "light"
     },
     "output_type": "display_data"
    },
    {
     "data": {
      "image/png": "[encoded data removed]",
      "text/plain": [
       "<Figure size 936x288 with 1 Axes>"
      ]
     },
     "metadata": {
      "needs_background": "light"
     },
     "output_type": "display_data"
    },
    {
     "data": {
      "image/png": "[encoded data removed]",
      "text/plain": [
       "<Figure size 936x288 with 1 Axes>"
      ]
     },
     "metadata": {
      "needs_background": "light"
     },
     "output_type": "display_data"
    },
    {
     "data": {
      "image/png": "[encoded data removed]",
      "text/plain": [
       "<Figure size 936x288 with 1 Axes>"
      ]
     },
     "metadata": {
      "needs_background": "light"
     },
     "output_type": "display_data"
    },
    {
     "data": {
      "image/png": "[encoded data removed]",
      "text/plain": [
       "<Figure size 936x288 with 1 Axes>"
      ]
     },
     "metadata": {
      "needs_background": "light"
     },
     "output_type": "display_data"
    },
    {
     "data": {
      "image/png": "[encoded data removed]",
      "text/plain": [
       "<Figure size 936x288 with 1 Axes>"
      ]
     },
     "metadata": {
      "needs_background": "light"
     },
     "output_type": "display_data"
    },
    {
     "data": {
      "image/png": "[encoded data removed]",
      "text/plain": [
       "<Figure size 936x288 with 1 Axes>"
      ]
     },
     "metadata": {
      "needs_background": "light"
     },
     "output_type": "display_data"
    },
    {
     "data": {
      "image/png": "[encoded data removed]",
      "text/plain": [
       "<Figure size 936x288 with 1 Axes>"
      ]
     },
     "metadata": {
      "needs_background": "light"
     },
     "output_type": "display_data"
    },
    {
     "data": {
      "image/png": "[encoded data removed]",
      "text/plain": [
       "<Figure size 936x288 with 1 Axes>"
      ]
     },
     "metadata": {
      "needs_background": "light"
     },
     "output_type": "display_data"
    },
    {
     "data": {
      "image/png": "[encoded data removed]",
      "text/plain": [
       "<Figure size 936x288 with 1 Axes>"
      ]
     },
     "metadata": {
      "needs_background": "light"
     },
     "output_type": "display_data"
    },
    {
     "data": {
      "image/png": "[encoded data removed]",
      "text/plain": [
       "<Figure size 936x288 with 1 Axes>"
      ]
     },
     "metadata": {
      "needs_background": "light"
     },
     "output_type": "display_data"
    },
    {
     "data": {
      "image/png": "[encoded data removed]",
      "text/plain": [
       "<Figure size 936x288 with 1 Axes>"
      ]
     },
     "metadata": {
      "needs_background": "light"
     },
     "output_type": "display_data"
    },
    {
     "data": {
      "image/png": "[encoded data removed]",
      "text/plain": [
       "<Figure size 936x288 with 1 Axes>"
      ]
     },
     "metadata": {
      "needs_background": "light"
     },
     "output_type": "display_data"
    },
    {
     "data": {
      "image/png": "[encoded data removed]",
      "text/plain": [
       "<Figure size 936x288 with 1 Axes>"
      ]
     },
     "metadata": {
      "needs_background": "light"
     },
     "output_type": "display_data"
    },
    {
     "data": {
      "image/png": "[encoded data removed]",
      "text/plain": [
       "<Figure size 936x288 with 1 Axes>"
      ]
     },
     "metadata": {
      "needs_background": "light"
     },
     "output_type": "display_data"
    },
    {
     "data": {
      "image/png": "[encoded data removed]",
      "text/plain": [
       "<Figure size 936x288 with 1 Axes>"
      ]
     },
     "metadata": {
      "needs_background": "light"
     },
     "output_type": "display_data"
    },
    {
     "data": {
      "image/png": "[encoded data removed]",
      "text/plain": [
       "<Figure size 936x288 with 1 Axes>"
      ]
     },
     "metadata": {
      "needs_background": "light"
     },
     "output_type": "display_data"
    },
    {
     "data": {
      "image/png": "[encoded data removed]",
      "text/plain": [
       "<Figure size 936x288 with 1 Axes>"
      ]
     },
     "metadata": {
      "needs_background": "light"
     },
     "output_type": "display_data"
    },
    {
     "data": {
      "image/png": "[encoded data removed]",
      "text/plain": [
       "<Figure size 936x288 with 1 Axes>"
      ]
     },
     "metadata": {
      "needs_background": "light"
     },
     "output_type": "display_data"
    },
    {
     "data": {
      "image/png": "[encoded data removed]",
      "text/plain": [
       "<Figure size 936x288 with 1 Axes>"
      ]
     },
     "metadata": {
      "needs_background": "light"
     },
     "output_type": "display_data"
    },
    {
     "data": {
      "image/png": "[encoded data removed]",
      "text/plain": [
       "<Figure size 936x288 with 1 Axes>"
      ]
     },
     "metadata": {
      "needs_background": "light"
     },
     "output_type": "display_data"
    },
    {
     "data": {
      "image/png": "[encoded data removed]",
      "text/plain": [
       "<Figure size 936x288 with 1 Axes>"
      ]
     },
     "metadata": {
      "needs_background": "light"
     },
     "output_type": "display_data"
    },
    {
     "data": {
      "image/png": "[encoded data removed]",
      "text/plain": [
       "<Figure size 936x288 with 1 Axes>"
      ]
     },
     "metadata": {
      "needs_background": "light"
     },
     "output_type": "display_data"
    },
    {
     "data": {
      "image/png": "[encoded data removed]",
      "text/plain": [
       "<Figure size 936x288 with 1 Axes>"
      ]
     },
     "metadata": {
      "needs_background": "light"
     },
     "output_type": "display_data"
    },
    {
     "data": {
      "image/png": "[encoded data removed]",
      "text/plain": [
       "<Figure size 936x288 with 1 Axes>"
      ]
     },
     "metadata": {
      "needs_background": "light"
     },
     "output_type": "display_data"
    },
    {
     "data": {
      "image/png": "[encoded data removed]",
      "text/plain": [
       "<Figure size 936x288 with 1 Axes>"
      ]
     },
     "metadata": {
      "needs_background": "light"
     },
     "output_type": "display_data"
    }
   ],
   "source": [
    "platform_list = data['platform'].unique()\n",
    "for platform in platform_list:\n",
    "    platform_data = data[data['platform'] == platform]\n",
    "    pivot_table = platform_data.pivot_table(index='year_of_release', values='total_sales', aggfunc='sum')\n",
    "    \n",
    "    ax = pivot_table.plot(kind='bar', figsize=(13, 4))\n",
    "    \n",
    "    ax.set_xlabel(\"Год выпуска\")\n",
    "    ax.set_ylabel(\"Общие продажи\")\n",
    "    \n",
    "    plt.title(platform)\n",
    "    plt.show()"
   ]
  },
  {
   "cell_type": "markdown",
   "metadata": {},
   "source": [
    "**Промежуточный вывод:**<br> Мы построили график распределения по годам и по нему отчетливо видно, что самые популярные игровые платформы за весь период это PS2, X360, PS3, WII, DS, PS.<br>Также стоит отметить, что из построенных далее графиков видим, что 'средняя продолжительность жизни' платформы в среднем равна 7 годам."
   ]
  },
  {
   "cell_type": "markdown",
   "metadata": {},
   "source": [
    "**Возьмем данные за соответствующий актуальный период. Самостоятельно определим актуальный период в результате исследования предыдущих вопросов(основной фактор — эти данные помогут построить прогноз на 2017 год). Не учитывайте в работе данные за предыдущие годы.**"
   ]
  },
  {
   "cell_type": "markdown",
   "metadata": {},
   "source": [
    "**Промежуточный вывод:** Я считаю, что актуальным периодом для дальнейших исследований является 2013 - 2016 год, ведь, например, PS4 появилась на рынке в 2013 году, и ее продажи будут продолжаться и в 2017 году. Также игры создаются примерно 4 года, поэтому как раз в 2017 будут новые качественные игры, которые начали разрабатывать в 2013 году."
   ]
  },
  {
   "cell_type": "markdown",
   "metadata": {},
   "source": [
    "**Какие платформы лидируют по продажам, растут или падают? Выберем несколько потенциально прибыльных платформ.**"
   ]
  },
  {
   "cell_type": "code",
   "execution_count": 26,
   "metadata": {},
   "outputs": [
    {
     "name": "stdout",
     "output_type": "stream",
     "text": [
      "                          total_sales\n",
      "platform year_of_release             \n",
      "3DS      2013                   56.57\n",
      "         2014                   43.76\n",
      "         2015                   27.78\n",
      "         2016                   15.14\n",
      "DS       2013                    1.54\n",
      "PC       2013                   12.38\n",
      "         2014                   13.28\n",
      "         2015                    8.52\n",
      "         2016                    5.25\n",
      "PS3      2013                  113.25\n",
      "         2014                   47.76\n",
      "         2015                   16.82\n",
      "         2016                    3.60\n",
      "PS4      2013                   25.99\n",
      "         2014                  100.00\n",
      "         2015                  118.90\n",
      "         2016                   69.25\n",
      "PSP      2013                    3.14\n",
      "         2014                    0.24\n",
      "         2015                    0.12\n",
      "PSV      2013                   10.59\n",
      "         2014                   11.90\n",
      "         2015                    6.25\n",
      "         2016                    4.25\n",
      "Wii      2013                    8.59\n",
      "         2014                    3.75\n",
      "         2015                    1.14\n",
      "         2016                    0.18\n",
      "WiiU     2013                   21.65\n",
      "         2014                   22.03\n",
      "         2015                   16.35\n",
      "         2016                    4.60\n",
      "X360     2013                   88.58\n",
      "         2014                   34.74\n",
      "         2015                   11.96\n",
      "         2016                    1.52\n",
      "XOne     2013                   18.96\n",
      "         2014                   54.07\n",
      "         2015                   60.14\n",
      "         2016                   26.15\n"
     ]
    }
   ],
   "source": [
    "actual_data = data.query('year_of_release >= 2013')\n",
    "\n",
    "best_sales_platform = actual_data.pivot_table(index=['platform','year_of_release'], \n",
    "                                              values='total_sales', aggfunc = 'sum')\n",
    "print(best_sales_platform)"
   ]
  },
  {
   "cell_type": "code",
   "execution_count": 27,
   "metadata": {},
   "outputs": [
    {
     "name": "stdout",
     "output_type": "stream",
     "text": [
      "          total_sales\n",
      "platform             \n",
      "PS4            314.14\n",
      "PS3            181.43\n",
      "XOne           159.32\n",
      "3DS            143.25\n",
      "X360           136.80\n",
      "WiiU            64.63\n",
      "PC              39.43\n",
      "PSV             32.99\n",
      "Wii             13.66\n",
      "PSP              3.50\n",
      "DS               1.54\n"
     ]
    }
   ],
   "source": [
    "all_actual_data = best_sales_platform.pivot_table(index = 'platform', values = 'total_sales', aggfunc = 'sum')\n",
    "print(all_actual_data.sort_values('total_sales', ascending = False))"
   ]
  },
  {
   "cell_type": "markdown",
   "metadata": {},
   "source": [
    "**Промежуточный вывод:** Стоит сказать, что топ 5 самых успешных платформ: PS4, PS3, XOne, 3DS, X360.<br> Продажи растут у PS4, XOne, 3DS, WiiU и PSV, так как они заменяют свои предыдущие модели, а падают соответственно их предшественники: PS3, X360, DS, Wii и PSP."
   ]
  },
  {
   "cell_type": "markdown",
   "metadata": {},
   "source": [
    "**Построим график «ящик с усами» по глобальным продажам игр в разбивке по платформам.**"
   ]
  },
  {
   "cell_type": "code",
   "execution_count": 28,
   "metadata": {},
   "outputs": [
    {
     "data": {
      "image/png": "[encoded data removed]",
      "text/plain": [
       "<Figure size 720x360 with 1 Axes>"
      ]
     },
     "metadata": {
      "needs_background": "light"
     },
     "output_type": "display_data"
    }
   ],
   "source": [
    "plt.figure(figsize=(10, 5))\n",
    "sns.boxplot(data=actual_data.sort_values('total_sales'), x='platform', y='total_sales')\n",
    "plt.title('Продажи по перспективным платформам за такие-то года')\n",
    "plt.ylim(0, 2)\n",
    "plt.xlabel('Платформы')\n",
    "plt.ylabel('Общие продажи')\n",
    "plt.show()"
   ]
  },
  {
   "cell_type": "markdown",
   "metadata": {},
   "source": [
    "**Промежуточный вывод:** Из общего графика с усами можно сделать вывод.<br>Средняя выручка за игру по платформе PS4: 801 тыс. 3/4 игр заработали до 730 тыс. Рекорд 14,6 млн.<br>Средняя выручка за игру по платформе PS3: 706 тыс. 3/4 игр заработали до 750 тыс. Рекорд 21 млн.<br>Средняя выручка за игру по платформе XOne: 645 тыс. 3/4 игр заработали до 685 тыс. Рекорд 7,4 млн.<br>Средняя выручка за игру по платформе 3DS: 498 тыс. 3/4 игр заработали до 330 тыс. Рекорд 14,6 млн.<br>Средняя выручка за игру по платформе X360: 735 тыс. 3/4 игр заработали до 757 тыс. Рекорд 21,8 млн."
   ]
  },
  {
   "cell_type": "markdown",
   "metadata": {},
   "source": [
    "**Посмотрим, как влияют на продажи внутри одной популярной платформы отзывы пользователей и критиков. Построим диаграмму рассеяния, посчитаем корреляцию между отзывами и продажами и сформулируем выводы.**"
   ]
  },
  {
   "cell_type": "markdown",
   "metadata": {},
   "source": [
    "За основу возьмем платформу PS4."
   ]
  },
  {
   "cell_type": "markdown",
   "metadata": {},
   "source": [
    "Напишем функцию, которая будет строить диаграммы и считать корреляции для других платформ."
   ]
  },
  {
   "cell_type": "code",
   "execution_count": 29,
   "metadata": {},
   "outputs": [
    {
     "data": {
      "image/png": "[encoded data removed]",
      "text/plain": [
       "<Figure size 720x432 with 1 Axes>"
      ]
     },
     "metadata": {
      "needs_background": "light"
     },
     "output_type": "display_data"
    },
    {
     "name": "stdout",
     "output_type": "stream",
     "text": [
      "Корреляция между critic_score и total_sales: 0.40656790206178134\n"
     ]
    },
    {
     "data": {
      "image/png": "[encoded data removed]",
      "text/plain": [
       "<Figure size 720x432 with 1 Axes>"
      ]
     },
     "metadata": {
      "needs_background": "light"
     },
     "output_type": "display_data"
    },
    {
     "name": "stdout",
     "output_type": "stream",
     "text": [
      "Корреляция между user_score и total_sales: -0.031957110204556355\n"
     ]
    }
   ],
   "source": [
    "PS4 = actual_data.query('platform == \"PS4\"')\n",
    "def scatter_and_correlation(df, x_column, y_column, x_label, y_label, title):\n",
    "    df = df[(df[x_column] != -1)] #Фильтр заглушек\n",
    "    plt.figure(figsize=(10, 6))\n",
    "    plt.scatter(df[x_column], df[y_column], color='blue', label=x_column, alpha=0.08)\n",
    "    plt.title(title)\n",
    "    plt.xlabel(x_label)\n",
    "    plt.ylabel(y_label)\n",
    "    plt.grid(True)\n",
    "    plt.show()\n",
    "\n",
    "    correlation = df[x_column].corr(df[y_column])\n",
    "    print(f'Корреляция между {x_column} и {y_column}: {correlation}')\n",
    "\n",
    "scatter_and_correlation(PS4,  'critic_score', 'total_sales', 'Отзывы критиков', 'Продажи', 'Диаграмма рассеивания отзывов критиков и продаж PS4')\n",
    "scatter_and_correlation(PS4, 'user_score', 'total_sales', 'Отзывы пользователей', 'Продажи', 'Диаграмма рассеивания отзывов пользователей и продаж PS4')"
   ]
  },
  {
   "cell_type": "markdown",
   "metadata": {},
   "source": [
    "**Промежуточный вывод:** Согласно проделанной работе на данном шаге можно убедиться, что зависимости между оценкой критиков и продажами умеренная, а зависимость между оценкой пользователей и продажами почти отсутствует."
   ]
  },
  {
   "cell_type": "markdown",
   "metadata": {},
   "source": [
    "**Соотнесем выводы с продажами игр на других платформах.**"
   ]
  },
  {
   "cell_type": "code",
   "execution_count": 30,
   "metadata": {},
   "outputs": [],
   "source": [
    "PS3 = actual_data.query('platform == \"PS3\"')\n",
    "XOne = actual_data.query('platform == \"XOne\"')\n",
    "_3DS = actual_data.query('platform == \"3DS\"')\n",
    "X360 = actual_data.query('platform == \"X360\"')"
   ]
  },
  {
   "cell_type": "code",
   "execution_count": 31,
   "metadata": {},
   "outputs": [
    {
     "data": {
      "image/png": "[encoded data removed]",
      "text/plain": [
       "<Figure size 720x432 with 1 Axes>"
      ]
     },
     "metadata": {
      "needs_background": "light"
     },
     "output_type": "display_data"
    },
    {
     "name": "stdout",
     "output_type": "stream",
     "text": [
      "Корреляция между critic_score и total_sales: 0.33428533933719196\n"
     ]
    },
    {
     "data": {
      "image/png": "[encoded data removed]",
      "text/plain": [
       "<Figure size 720x432 with 1 Axes>"
      ]
     },
     "metadata": {
      "needs_background": "light"
     },
     "output_type": "display_data"
    },
    {
     "name": "stdout",
     "output_type": "stream",
     "text": [
      "Корреляция между user_score и total_sales: 0.002394402735756626\n"
     ]
    }
   ],
   "source": [
    "scatter_and_correlation(PS3, 'critic_score', 'total_sales', 'Отзывы критиков', 'Продажи', 'Диаграмма рассеивания отзывов критиков и продаж PS3')\n",
    "scatter_and_correlation(PS3, 'user_score', 'total_sales', 'Отзывы пользователей', 'Продажи', 'Диаграмма рассеивания отзывов пользователей и продаж PS3')"
   ]
  },
  {
   "cell_type": "code",
   "execution_count": 32,
   "metadata": {},
   "outputs": [
    {
     "data": {
      "image/png": "[encoded data removed]",
      "text/plain": [
       "<Figure size 720x432 with 1 Axes>"
      ]
     },
     "metadata": {
      "needs_background": "light"
     },
     "output_type": "display_data"
    },
    {
     "name": "stdout",
     "output_type": "stream",
     "text": [
      "Корреляция между critic_score и total_sales: 0.416998328008402\n"
     ]
    },
    {
     "data": {
      "image/png": "[encoded data removed]",
      "text/plain": [
       "<Figure size 720x432 with 1 Axes>"
      ]
     },
     "metadata": {
      "needs_background": "light"
     },
     "output_type": "display_data"
    },
    {
     "name": "stdout",
     "output_type": "stream",
     "text": [
      "Корреляция между user_score и total_sales: -0.06892505328279423\n"
     ]
    }
   ],
   "source": [
    "scatter_and_correlation(XOne, 'critic_score', 'total_sales', 'Отзывы критиков', 'Продажи', 'Диаграмма рассеивания отзывов критиков и продаж XOne')\n",
    "scatter_and_correlation(XOne, 'user_score', 'total_sales', 'Отзывы пользователей', 'Продажи', 'Диаграмма рассеивания отзывов пользователей и продаж XOne')"
   ]
  },
  {
   "cell_type": "code",
   "execution_count": 33,
   "metadata": {},
   "outputs": [
    {
     "data": {
      "image/png": "[encoded data removed]",
      "text/plain": [
       "<Figure size 720x432 with 1 Axes>"
      ]
     },
     "metadata": {
      "needs_background": "light"
     },
     "output_type": "display_data"
    },
    {
     "name": "stdout",
     "output_type": "stream",
     "text": [
      "Корреляция между critic_score и total_sales: 0.3503445460228664\n"
     ]
    },
    {
     "data": {
      "image/png": "[encoded data removed]",
      "text/plain": [
       "<Figure size 720x432 with 1 Axes>"
      ]
     },
     "metadata": {
      "needs_background": "light"
     },
     "output_type": "display_data"
    },
    {
     "name": "stdout",
     "output_type": "stream",
     "text": [
      "Корреляция между user_score и total_sales: -0.011742185147181373\n"
     ]
    }
   ],
   "source": [
    "scatter_and_correlation(X360, 'critic_score', 'total_sales', 'Отзывы критиков', 'Продажи', 'Диаграмма рассеивания отзывов критиков и продаж X360')\n",
    "scatter_and_correlation(X360, 'user_score', 'total_sales', 'Отзывы пользователей', 'Продажи', 'Диаграмма рассеивания отзывов пользователей и продаж X360')"
   ]
  },
  {
   "cell_type": "code",
   "execution_count": 34,
   "metadata": {},
   "outputs": [
    {
     "data": {
      "image/png": "[encoded data removed]",
      "text/plain": [
       "<Figure size 720x432 with 1 Axes>"
      ]
     },
     "metadata": {
      "needs_background": "light"
     },
     "output_type": "display_data"
    },
    {
     "name": "stdout",
     "output_type": "stream",
     "text": [
      "Корреляция между critic_score и total_sales: 0.3570566142288105\n"
     ]
    },
    {
     "data": {
      "image/png": "[encoded data removed]",
      "text/plain": [
       "<Figure size 720x432 with 1 Axes>"
      ]
     },
     "metadata": {
      "needs_background": "light"
     },
     "output_type": "display_data"
    },
    {
     "name": "stdout",
     "output_type": "stream",
     "text": [
      "Корреляция между user_score и total_sales: 0.2415041177356301\n"
     ]
    }
   ],
   "source": [
    "scatter_and_correlation(_3DS, 'critic_score', 'total_sales', 'Отзывы критиков', 'Продажи', 'Диаграмма рассеивания отзывов критиков и продаж 3DS')\n",
    "scatter_and_correlation(_3DS, 'user_score', 'total_sales', 'Отзывы пользователей', 'Продажи', 'Диаграмма рассеивания отзывов пользователей и продаж 3DS')"
   ]
  },
  {
   "cell_type": "markdown",
   "metadata": {},
   "source": [
    "**Промежуточный вывод:**<br>PS3: зависимость между оценкой критиков и количеством продаж умеренная, зависимость между оценкой пользователей и количеством продаж почти отсутствует;<br>XOne: зависимость между оценкой критиков и количеством продаж умеренная, зависимость между оценкой пользователей и количеством продаж почти отсутствует;<br>X360: зависимость между оценкой критиков и количеством продаж умеренная, зависимость между оценкой пользователей и количеством продаж почти отсутствует;<br>3DS: зависимость между оценкой критиков и количеством продаж умеренная, зависимость между оценкой пользователей и количеством продаж слабая.<br>То есть, можно сказать, что оценки критиков, в большинстве, не сильно влияют на продажи. А вот оценки пользователей, также в большинстве, вообще не оказывают влияния."
   ]
  },
  {
   "cell_type": "markdown",
   "metadata": {},
   "source": [
    "**Посмотрим на общее распределение игр по жанрам.**"
   ]
  },
  {
   "cell_type": "code",
   "execution_count": 35,
   "metadata": {},
   "outputs": [
    {
     "data": {
      "text/plain": [
       "array(['Role-Playing', 'Platform', 'Adventure', 'Misc', 'Sports',\n",
       "       'Action', 'Simulation', 'Strategy', 'Shooter', 'Fighting',\n",
       "       'Racing', 'Puzzle'], dtype=object)"
      ]
     },
     "execution_count": 35,
     "metadata": {},
     "output_type": "execute_result"
    }
   ],
   "source": [
    "actual_data['genre'].unique()"
   ]
  },
  {
   "cell_type": "code",
   "execution_count": 36,
   "metadata": {},
   "outputs": [
    {
     "name": "stdout",
     "output_type": "stream",
     "text": [
      "              total_sales\n",
      "genre                    \n",
      "Action             321.87\n",
      "Shooter            232.98\n",
      "Sports             150.65\n",
      "Role-Playing       145.89\n",
      "Misc                62.82\n",
      "Platform            42.63\n",
      "Racing              39.89\n",
      "Fighting            35.31\n",
      "Adventure           23.64\n",
      "Simulation          21.76\n",
      "Strategy            10.08\n",
      "Puzzle               3.17\n"
     ]
    }
   ],
   "source": [
    "data_genre = actual_data.pivot_table(index = 'genre', values = 'total_sales', aggfunc = 'sum')\n",
    "print(data_genre.sort_values('total_sales', ascending = False))"
   ]
  },
  {
   "cell_type": "code",
   "execution_count": 37,
   "metadata": {},
   "outputs": [
    {
     "data": {
      "image/png": "[encoded data removed]",
      "text/plain": [
       "<Figure size 864x432 with 1 Axes>"
      ]
     },
     "metadata": {
      "needs_background": "light"
     },
     "output_type": "display_data"
    },
    {
     "data": {
      "text/html": [
       "<div>\n",
       "<style scoped>\n",
       "    .dataframe tbody tr th:only-of-type {\n",
       "        vertical-align: middle;\n",
       "    }\n",
       "\n",
       "    .dataframe tbody tr th {\n",
       "        vertical-align: top;\n",
       "    }\n",
       "\n",
       "    .dataframe thead th {\n",
       "        text-align: right;\n",
       "    }\n",
       "</style>\n",
       "<table border=\"1\" class=\"dataframe\">\n",
       "  <thead>\n",
       "    <tr style=\"text-align: right;\">\n",
       "      <th></th>\n",
       "      <th>total_sales</th>\n",
       "      <th>median_sales</th>\n",
       "    </tr>\n",
       "    <tr>\n",
       "      <th>genre</th>\n",
       "      <th></th>\n",
       "      <th></th>\n",
       "    </tr>\n",
       "  </thead>\n",
       "  <tbody>\n",
       "    <tr>\n",
       "      <th>Shooter</th>\n",
       "      <td>232.98</td>\n",
       "      <td>0.450</td>\n",
       "    </tr>\n",
       "    <tr>\n",
       "      <th>Sports</th>\n",
       "      <td>150.65</td>\n",
       "      <td>0.240</td>\n",
       "    </tr>\n",
       "    <tr>\n",
       "      <th>Platform</th>\n",
       "      <td>42.63</td>\n",
       "      <td>0.225</td>\n",
       "    </tr>\n",
       "    <tr>\n",
       "      <th>Role-Playing</th>\n",
       "      <td>145.89</td>\n",
       "      <td>0.125</td>\n",
       "    </tr>\n",
       "    <tr>\n",
       "      <th>Fighting</th>\n",
       "      <td>35.31</td>\n",
       "      <td>0.125</td>\n",
       "    </tr>\n",
       "    <tr>\n",
       "      <th>Racing</th>\n",
       "      <td>39.89</td>\n",
       "      <td>0.120</td>\n",
       "    </tr>\n",
       "    <tr>\n",
       "      <th>Action</th>\n",
       "      <td>321.87</td>\n",
       "      <td>0.110</td>\n",
       "    </tr>\n",
       "    <tr>\n",
       "      <th>Simulation</th>\n",
       "      <td>21.76</td>\n",
       "      <td>0.100</td>\n",
       "    </tr>\n",
       "    <tr>\n",
       "      <th>Misc</th>\n",
       "      <td>62.82</td>\n",
       "      <td>0.100</td>\n",
       "    </tr>\n",
       "    <tr>\n",
       "      <th>Strategy</th>\n",
       "      <td>10.08</td>\n",
       "      <td>0.080</td>\n",
       "    </tr>\n",
       "    <tr>\n",
       "      <th>Puzzle</th>\n",
       "      <td>3.17</td>\n",
       "      <td>0.060</td>\n",
       "    </tr>\n",
       "    <tr>\n",
       "      <th>Adventure</th>\n",
       "      <td>23.64</td>\n",
       "      <td>0.030</td>\n",
       "    </tr>\n",
       "  </tbody>\n",
       "</table>\n",
       "</div>"
      ],
      "text/plain": [
       "              total_sales  median_sales\n",
       "genre                                  \n",
       "Shooter            232.98         0.450\n",
       "Sports             150.65         0.240\n",
       "Platform            42.63         0.225\n",
       "Role-Playing       145.89         0.125\n",
       "Fighting            35.31         0.125\n",
       "Racing              39.89         0.120\n",
       "Action             321.87         0.110\n",
       "Simulation          21.76         0.100\n",
       "Misc                62.82         0.100\n",
       "Strategy            10.08         0.080\n",
       "Puzzle               3.17         0.060\n",
       "Adventure           23.64         0.030"
      ]
     },
     "execution_count": 37,
     "metadata": {},
     "output_type": "execute_result"
    }
   ],
   "source": [
    "#медианные продажи\n",
    "data_genre['median_sales'] = actual_data.groupby('genre')['total_sales'].median()\n",
    "plt.figure(figsize=(12, 6))\n",
    "ax = sns.boxplot(x='genre', y='total_sales', data=actual_data)\n",
    "ax.set_yscale('log')\n",
    "ax.set_xticklabels(ax.get_xticklabels(), rotation=45, ha='right')\n",
    "ax.set_xlabel('Жанр')\n",
    "ax.set_ylabel('Продажи')\n",
    "plt.title('Диаграмма размаха медианных продаж по жанрам')\n",
    "plt.show()\n",
    "\n",
    "data_genre.sort_values('median_sales', ascending = False)"
   ]
  },
  {
   "cell_type": "markdown",
   "metadata": {},
   "source": [
    "**Промежуточный вывод:**<br>После построения ящиков с усами абсолютно точно можно сказать, что самый успешный жанр - 'Shooter', однако достаточно успешны 'Sports' и 'Platform'. Возможно, это обусловлено тем, что историей создания игр и желания людей проверить свои навыки ловкости и реакции.<br>Самые низкие по продажам жанры - 'Puzzle' и 'Adventure'."
   ]
  },
  {
   "cell_type": "markdown",
   "metadata": {},
   "source": [
    "# Портрет пользователя каждого региона."
   ]
  },
  {
   "cell_type": "markdown",
   "metadata": {},
   "source": [
    "**Определим самые популярные платформы для каждого региона.**"
   ]
  },
  {
   "cell_type": "markdown",
   "metadata": {},
   "source": [
    "Для начала напишем функцию, которая будет определять топ-5 чего-либо в регионах и показывать их процентное соотношение."
   ]
  },
  {
   "cell_type": "code",
   "execution_count": 38,
   "metadata": {},
   "outputs": [],
   "source": [
    "def top_reg(index, region_name):\n",
    "    _pivot_table = actual_data.pivot_table(index = index, values = region_name, aggfunc = 'sum')\n",
    "    sorted_platforms = _pivot_table.sort_values(by=region_name, ascending=False).head()\n",
    "    display(sorted_platforms)\n",
    "    \n",
    "    total_sales = sorted_platforms[region_name].sum()\n",
    "    sorted_platforms['sales_share'] = round((sorted_platforms[region_name] / total_sales) * 100, 2)\n",
    "    display(sorted_platforms[['sales_share']])"
   ]
  },
  {
   "cell_type": "markdown",
   "metadata": {},
   "source": [
    "**Пользователи Северной Америки.**"
   ]
  },
  {
   "cell_type": "code",
   "execution_count": 39,
   "metadata": {},
   "outputs": [
    {
     "data": {
      "text/html": [
       "<div>\n",
       "<style scoped>\n",
       "    .dataframe tbody tr th:only-of-type {\n",
       "        vertical-align: middle;\n",
       "    }\n",
       "\n",
       "    .dataframe tbody tr th {\n",
       "        vertical-align: top;\n",
       "    }\n",
       "\n",
       "    .dataframe thead th {\n",
       "        text-align: right;\n",
       "    }\n",
       "</style>\n",
       "<table border=\"1\" class=\"dataframe\">\n",
       "  <thead>\n",
       "    <tr style=\"text-align: right;\">\n",
       "      <th></th>\n",
       "      <th>na_sales</th>\n",
       "    </tr>\n",
       "    <tr>\n",
       "      <th>platform</th>\n",
       "      <th></th>\n",
       "    </tr>\n",
       "  </thead>\n",
       "  <tbody>\n",
       "    <tr>\n",
       "      <th>PS4</th>\n",
       "      <td>108.74</td>\n",
       "    </tr>\n",
       "    <tr>\n",
       "      <th>XOne</th>\n",
       "      <td>93.12</td>\n",
       "    </tr>\n",
       "    <tr>\n",
       "      <th>X360</th>\n",
       "      <td>81.66</td>\n",
       "    </tr>\n",
       "    <tr>\n",
       "      <th>PS3</th>\n",
       "      <td>63.50</td>\n",
       "    </tr>\n",
       "    <tr>\n",
       "      <th>3DS</th>\n",
       "      <td>38.20</td>\n",
       "    </tr>\n",
       "  </tbody>\n",
       "</table>\n",
       "</div>"
      ],
      "text/plain": [
       "          na_sales\n",
       "platform          \n",
       "PS4         108.74\n",
       "XOne         93.12\n",
       "X360         81.66\n",
       "PS3          63.50\n",
       "3DS          38.20"
      ]
     },
     "metadata": {},
     "output_type": "display_data"
    },
    {
     "data": {
      "text/html": [
       "<div>\n",
       "<style scoped>\n",
       "    .dataframe tbody tr th:only-of-type {\n",
       "        vertical-align: middle;\n",
       "    }\n",
       "\n",
       "    .dataframe tbody tr th {\n",
       "        vertical-align: top;\n",
       "    }\n",
       "\n",
       "    .dataframe thead th {\n",
       "        text-align: right;\n",
       "    }\n",
       "</style>\n",
       "<table border=\"1\" class=\"dataframe\">\n",
       "  <thead>\n",
       "    <tr style=\"text-align: right;\">\n",
       "      <th></th>\n",
       "      <th>sales_share</th>\n",
       "    </tr>\n",
       "    <tr>\n",
       "      <th>platform</th>\n",
       "      <th></th>\n",
       "    </tr>\n",
       "  </thead>\n",
       "  <tbody>\n",
       "    <tr>\n",
       "      <th>PS4</th>\n",
       "      <td>28.23</td>\n",
       "    </tr>\n",
       "    <tr>\n",
       "      <th>XOne</th>\n",
       "      <td>24.17</td>\n",
       "    </tr>\n",
       "    <tr>\n",
       "      <th>X360</th>\n",
       "      <td>21.20</td>\n",
       "    </tr>\n",
       "    <tr>\n",
       "      <th>PS3</th>\n",
       "      <td>16.48</td>\n",
       "    </tr>\n",
       "    <tr>\n",
       "      <th>3DS</th>\n",
       "      <td>9.92</td>\n",
       "    </tr>\n",
       "  </tbody>\n",
       "</table>\n",
       "</div>"
      ],
      "text/plain": [
       "          sales_share\n",
       "platform             \n",
       "PS4             28.23\n",
       "XOne            24.17\n",
       "X360            21.20\n",
       "PS3             16.48\n",
       "3DS              9.92"
      ]
     },
     "metadata": {},
     "output_type": "display_data"
    }
   ],
   "source": [
    "top_reg('platform', 'na_sales')"
   ]
  },
  {
   "cell_type": "code",
   "execution_count": 40,
   "metadata": {},
   "outputs": [
    {
     "data": {
      "text/html": [
       "<div>\n",
       "<style scoped>\n",
       "    .dataframe tbody tr th:only-of-type {\n",
       "        vertical-align: middle;\n",
       "    }\n",
       "\n",
       "    .dataframe tbody tr th {\n",
       "        vertical-align: top;\n",
       "    }\n",
       "\n",
       "    .dataframe thead th {\n",
       "        text-align: right;\n",
       "    }\n",
       "</style>\n",
       "<table border=\"1\" class=\"dataframe\">\n",
       "  <thead>\n",
       "    <tr style=\"text-align: right;\">\n",
       "      <th></th>\n",
       "      <th>na_sales</th>\n",
       "    </tr>\n",
       "    <tr>\n",
       "      <th>genre</th>\n",
       "      <th></th>\n",
       "    </tr>\n",
       "  </thead>\n",
       "  <tbody>\n",
       "    <tr>\n",
       "      <th>Action</th>\n",
       "      <td>126.05</td>\n",
       "    </tr>\n",
       "    <tr>\n",
       "      <th>Shooter</th>\n",
       "      <td>109.74</td>\n",
       "    </tr>\n",
       "    <tr>\n",
       "      <th>Sports</th>\n",
       "      <td>65.27</td>\n",
       "    </tr>\n",
       "    <tr>\n",
       "      <th>Role-Playing</th>\n",
       "      <td>46.40</td>\n",
       "    </tr>\n",
       "    <tr>\n",
       "      <th>Misc</th>\n",
       "      <td>27.49</td>\n",
       "    </tr>\n",
       "  </tbody>\n",
       "</table>\n",
       "</div>"
      ],
      "text/plain": [
       "              na_sales\n",
       "genre                 \n",
       "Action          126.05\n",
       "Shooter         109.74\n",
       "Sports           65.27\n",
       "Role-Playing     46.40\n",
       "Misc             27.49"
      ]
     },
     "metadata": {},
     "output_type": "display_data"
    },
    {
     "data": {
      "text/html": [
       "<div>\n",
       "<style scoped>\n",
       "    .dataframe tbody tr th:only-of-type {\n",
       "        vertical-align: middle;\n",
       "    }\n",
       "\n",
       "    .dataframe tbody tr th {\n",
       "        vertical-align: top;\n",
       "    }\n",
       "\n",
       "    .dataframe thead th {\n",
       "        text-align: right;\n",
       "    }\n",
       "</style>\n",
       "<table border=\"1\" class=\"dataframe\">\n",
       "  <thead>\n",
       "    <tr style=\"text-align: right;\">\n",
       "      <th></th>\n",
       "      <th>sales_share</th>\n",
       "    </tr>\n",
       "    <tr>\n",
       "      <th>genre</th>\n",
       "      <th></th>\n",
       "    </tr>\n",
       "  </thead>\n",
       "  <tbody>\n",
       "    <tr>\n",
       "      <th>Action</th>\n",
       "      <td>33.62</td>\n",
       "    </tr>\n",
       "    <tr>\n",
       "      <th>Shooter</th>\n",
       "      <td>29.27</td>\n",
       "    </tr>\n",
       "    <tr>\n",
       "      <th>Sports</th>\n",
       "      <td>17.41</td>\n",
       "    </tr>\n",
       "    <tr>\n",
       "      <th>Role-Playing</th>\n",
       "      <td>12.37</td>\n",
       "    </tr>\n",
       "    <tr>\n",
       "      <th>Misc</th>\n",
       "      <td>7.33</td>\n",
       "    </tr>\n",
       "  </tbody>\n",
       "</table>\n",
       "</div>"
      ],
      "text/plain": [
       "              sales_share\n",
       "genre                    \n",
       "Action              33.62\n",
       "Shooter             29.27\n",
       "Sports              17.41\n",
       "Role-Playing        12.37\n",
       "Misc                 7.33"
      ]
     },
     "metadata": {},
     "output_type": "display_data"
    }
   ],
   "source": [
    "top_reg('genre', 'na_sales')"
   ]
  },
  {
   "cell_type": "markdown",
   "metadata": {},
   "source": [
    "**Пользователи Европы.**"
   ]
  },
  {
   "cell_type": "code",
   "execution_count": 41,
   "metadata": {},
   "outputs": [
    {
     "data": {
      "text/html": [
       "<div>\n",
       "<style scoped>\n",
       "    .dataframe tbody tr th:only-of-type {\n",
       "        vertical-align: middle;\n",
       "    }\n",
       "\n",
       "    .dataframe tbody tr th {\n",
       "        vertical-align: top;\n",
       "    }\n",
       "\n",
       "    .dataframe thead th {\n",
       "        text-align: right;\n",
       "    }\n",
       "</style>\n",
       "<table border=\"1\" class=\"dataframe\">\n",
       "  <thead>\n",
       "    <tr style=\"text-align: right;\">\n",
       "      <th></th>\n",
       "      <th>eu_sales</th>\n",
       "    </tr>\n",
       "    <tr>\n",
       "      <th>platform</th>\n",
       "      <th></th>\n",
       "    </tr>\n",
       "  </thead>\n",
       "  <tbody>\n",
       "    <tr>\n",
       "      <th>PS4</th>\n",
       "      <td>141.09</td>\n",
       "    </tr>\n",
       "    <tr>\n",
       "      <th>PS3</th>\n",
       "      <td>67.81</td>\n",
       "    </tr>\n",
       "    <tr>\n",
       "      <th>XOne</th>\n",
       "      <td>51.59</td>\n",
       "    </tr>\n",
       "    <tr>\n",
       "      <th>X360</th>\n",
       "      <td>42.52</td>\n",
       "    </tr>\n",
       "    <tr>\n",
       "      <th>3DS</th>\n",
       "      <td>30.96</td>\n",
       "    </tr>\n",
       "  </tbody>\n",
       "</table>\n",
       "</div>"
      ],
      "text/plain": [
       "          eu_sales\n",
       "platform          \n",
       "PS4         141.09\n",
       "PS3          67.81\n",
       "XOne         51.59\n",
       "X360         42.52\n",
       "3DS          30.96"
      ]
     },
     "metadata": {},
     "output_type": "display_data"
    },
    {
     "data": {
      "text/html": [
       "<div>\n",
       "<style scoped>\n",
       "    .dataframe tbody tr th:only-of-type {\n",
       "        vertical-align: middle;\n",
       "    }\n",
       "\n",
       "    .dataframe tbody tr th {\n",
       "        vertical-align: top;\n",
       "    }\n",
       "\n",
       "    .dataframe thead th {\n",
       "        text-align: right;\n",
       "    }\n",
       "</style>\n",
       "<table border=\"1\" class=\"dataframe\">\n",
       "  <thead>\n",
       "    <tr style=\"text-align: right;\">\n",
       "      <th></th>\n",
       "      <th>sales_share</th>\n",
       "    </tr>\n",
       "    <tr>\n",
       "      <th>platform</th>\n",
       "      <th></th>\n",
       "    </tr>\n",
       "  </thead>\n",
       "  <tbody>\n",
       "    <tr>\n",
       "      <th>PS4</th>\n",
       "      <td>42.25</td>\n",
       "    </tr>\n",
       "    <tr>\n",
       "      <th>PS3</th>\n",
       "      <td>20.30</td>\n",
       "    </tr>\n",
       "    <tr>\n",
       "      <th>XOne</th>\n",
       "      <td>15.45</td>\n",
       "    </tr>\n",
       "    <tr>\n",
       "      <th>X360</th>\n",
       "      <td>12.73</td>\n",
       "    </tr>\n",
       "    <tr>\n",
       "      <th>3DS</th>\n",
       "      <td>9.27</td>\n",
       "    </tr>\n",
       "  </tbody>\n",
       "</table>\n",
       "</div>"
      ],
      "text/plain": [
       "          sales_share\n",
       "platform             \n",
       "PS4             42.25\n",
       "PS3             20.30\n",
       "XOne            15.45\n",
       "X360            12.73\n",
       "3DS              9.27"
      ]
     },
     "metadata": {},
     "output_type": "display_data"
    }
   ],
   "source": [
    "top_reg('platform', 'eu_sales')"
   ]
  },
  {
   "cell_type": "code",
   "execution_count": 42,
   "metadata": {},
   "outputs": [
    {
     "data": {
      "text/html": [
       "<div>\n",
       "<style scoped>\n",
       "    .dataframe tbody tr th:only-of-type {\n",
       "        vertical-align: middle;\n",
       "    }\n",
       "\n",
       "    .dataframe tbody tr th {\n",
       "        vertical-align: top;\n",
       "    }\n",
       "\n",
       "    .dataframe thead th {\n",
       "        text-align: right;\n",
       "    }\n",
       "</style>\n",
       "<table border=\"1\" class=\"dataframe\">\n",
       "  <thead>\n",
       "    <tr style=\"text-align: right;\">\n",
       "      <th></th>\n",
       "      <th>eu_sales</th>\n",
       "    </tr>\n",
       "    <tr>\n",
       "      <th>genre</th>\n",
       "      <th></th>\n",
       "    </tr>\n",
       "  </thead>\n",
       "  <tbody>\n",
       "    <tr>\n",
       "      <th>Action</th>\n",
       "      <td>118.13</td>\n",
       "    </tr>\n",
       "    <tr>\n",
       "      <th>Shooter</th>\n",
       "      <td>87.86</td>\n",
       "    </tr>\n",
       "    <tr>\n",
       "      <th>Sports</th>\n",
       "      <td>60.52</td>\n",
       "    </tr>\n",
       "    <tr>\n",
       "      <th>Role-Playing</th>\n",
       "      <td>36.97</td>\n",
       "    </tr>\n",
       "    <tr>\n",
       "      <th>Racing</th>\n",
       "      <td>20.19</td>\n",
       "    </tr>\n",
       "  </tbody>\n",
       "</table>\n",
       "</div>"
      ],
      "text/plain": [
       "              eu_sales\n",
       "genre                 \n",
       "Action          118.13\n",
       "Shooter          87.86\n",
       "Sports           60.52\n",
       "Role-Playing     36.97\n",
       "Racing           20.19"
      ]
     },
     "metadata": {},
     "output_type": "display_data"
    },
    {
     "data": {
      "text/html": [
       "<div>\n",
       "<style scoped>\n",
       "    .dataframe tbody tr th:only-of-type {\n",
       "        vertical-align: middle;\n",
       "    }\n",
       "\n",
       "    .dataframe tbody tr th {\n",
       "        vertical-align: top;\n",
       "    }\n",
       "\n",
       "    .dataframe thead th {\n",
       "        text-align: right;\n",
       "    }\n",
       "</style>\n",
       "<table border=\"1\" class=\"dataframe\">\n",
       "  <thead>\n",
       "    <tr style=\"text-align: right;\">\n",
       "      <th></th>\n",
       "      <th>sales_share</th>\n",
       "    </tr>\n",
       "    <tr>\n",
       "      <th>genre</th>\n",
       "      <th></th>\n",
       "    </tr>\n",
       "  </thead>\n",
       "  <tbody>\n",
       "    <tr>\n",
       "      <th>Action</th>\n",
       "      <td>36.50</td>\n",
       "    </tr>\n",
       "    <tr>\n",
       "      <th>Shooter</th>\n",
       "      <td>27.14</td>\n",
       "    </tr>\n",
       "    <tr>\n",
       "      <th>Sports</th>\n",
       "      <td>18.70</td>\n",
       "    </tr>\n",
       "    <tr>\n",
       "      <th>Role-Playing</th>\n",
       "      <td>11.42</td>\n",
       "    </tr>\n",
       "    <tr>\n",
       "      <th>Racing</th>\n",
       "      <td>6.24</td>\n",
       "    </tr>\n",
       "  </tbody>\n",
       "</table>\n",
       "</div>"
      ],
      "text/plain": [
       "              sales_share\n",
       "genre                    \n",
       "Action              36.50\n",
       "Shooter             27.14\n",
       "Sports              18.70\n",
       "Role-Playing        11.42\n",
       "Racing               6.24"
      ]
     },
     "metadata": {},
     "output_type": "display_data"
    }
   ],
   "source": [
    "top_reg('genre', 'eu_sales')"
   ]
  },
  {
   "cell_type": "markdown",
   "metadata": {},
   "source": [
    "**Пользователи Японии.**"
   ]
  },
  {
   "cell_type": "code",
   "execution_count": 43,
   "metadata": {},
   "outputs": [
    {
     "data": {
      "text/html": [
       "<div>\n",
       "<style scoped>\n",
       "    .dataframe tbody tr th:only-of-type {\n",
       "        vertical-align: middle;\n",
       "    }\n",
       "\n",
       "    .dataframe tbody tr th {\n",
       "        vertical-align: top;\n",
       "    }\n",
       "\n",
       "    .dataframe thead th {\n",
       "        text-align: right;\n",
       "    }\n",
       "</style>\n",
       "<table border=\"1\" class=\"dataframe\">\n",
       "  <thead>\n",
       "    <tr style=\"text-align: right;\">\n",
       "      <th></th>\n",
       "      <th>jp_sales</th>\n",
       "    </tr>\n",
       "    <tr>\n",
       "      <th>platform</th>\n",
       "      <th></th>\n",
       "    </tr>\n",
       "  </thead>\n",
       "  <tbody>\n",
       "    <tr>\n",
       "      <th>3DS</th>\n",
       "      <td>67.81</td>\n",
       "    </tr>\n",
       "    <tr>\n",
       "      <th>PS3</th>\n",
       "      <td>23.35</td>\n",
       "    </tr>\n",
       "    <tr>\n",
       "      <th>PSV</th>\n",
       "      <td>18.59</td>\n",
       "    </tr>\n",
       "    <tr>\n",
       "      <th>PS4</th>\n",
       "      <td>15.96</td>\n",
       "    </tr>\n",
       "    <tr>\n",
       "      <th>WiiU</th>\n",
       "      <td>10.88</td>\n",
       "    </tr>\n",
       "  </tbody>\n",
       "</table>\n",
       "</div>"
      ],
      "text/plain": [
       "          jp_sales\n",
       "platform          \n",
       "3DS          67.81\n",
       "PS3          23.35\n",
       "PSV          18.59\n",
       "PS4          15.96\n",
       "WiiU         10.88"
      ]
     },
     "metadata": {},
     "output_type": "display_data"
    },
    {
     "data": {
      "text/html": [
       "<div>\n",
       "<style scoped>\n",
       "    .dataframe tbody tr th:only-of-type {\n",
       "        vertical-align: middle;\n",
       "    }\n",
       "\n",
       "    .dataframe tbody tr th {\n",
       "        vertical-align: top;\n",
       "    }\n",
       "\n",
       "    .dataframe thead th {\n",
       "        text-align: right;\n",
       "    }\n",
       "</style>\n",
       "<table border=\"1\" class=\"dataframe\">\n",
       "  <thead>\n",
       "    <tr style=\"text-align: right;\">\n",
       "      <th></th>\n",
       "      <th>sales_share</th>\n",
       "    </tr>\n",
       "    <tr>\n",
       "      <th>platform</th>\n",
       "      <th></th>\n",
       "    </tr>\n",
       "  </thead>\n",
       "  <tbody>\n",
       "    <tr>\n",
       "      <th>3DS</th>\n",
       "      <td>49.64</td>\n",
       "    </tr>\n",
       "    <tr>\n",
       "      <th>PS3</th>\n",
       "      <td>17.09</td>\n",
       "    </tr>\n",
       "    <tr>\n",
       "      <th>PSV</th>\n",
       "      <td>13.61</td>\n",
       "    </tr>\n",
       "    <tr>\n",
       "      <th>PS4</th>\n",
       "      <td>11.68</td>\n",
       "    </tr>\n",
       "    <tr>\n",
       "      <th>WiiU</th>\n",
       "      <td>7.97</td>\n",
       "    </tr>\n",
       "  </tbody>\n",
       "</table>\n",
       "</div>"
      ],
      "text/plain": [
       "          sales_share\n",
       "platform             \n",
       "3DS             49.64\n",
       "PS3             17.09\n",
       "PSV             13.61\n",
       "PS4             11.68\n",
       "WiiU             7.97"
      ]
     },
     "metadata": {},
     "output_type": "display_data"
    }
   ],
   "source": [
    "top_reg('platform', 'jp_sales')"
   ]
  },
  {
   "cell_type": "code",
   "execution_count": 44,
   "metadata": {},
   "outputs": [
    {
     "data": {
      "text/html": [
       "<div>\n",
       "<style scoped>\n",
       "    .dataframe tbody tr th:only-of-type {\n",
       "        vertical-align: middle;\n",
       "    }\n",
       "\n",
       "    .dataframe tbody tr th {\n",
       "        vertical-align: top;\n",
       "    }\n",
       "\n",
       "    .dataframe thead th {\n",
       "        text-align: right;\n",
       "    }\n",
       "</style>\n",
       "<table border=\"1\" class=\"dataframe\">\n",
       "  <thead>\n",
       "    <tr style=\"text-align: right;\">\n",
       "      <th></th>\n",
       "      <th>jp_sales</th>\n",
       "    </tr>\n",
       "    <tr>\n",
       "      <th>genre</th>\n",
       "      <th></th>\n",
       "    </tr>\n",
       "  </thead>\n",
       "  <tbody>\n",
       "    <tr>\n",
       "      <th>Role-Playing</th>\n",
       "      <td>51.04</td>\n",
       "    </tr>\n",
       "    <tr>\n",
       "      <th>Action</th>\n",
       "      <td>40.49</td>\n",
       "    </tr>\n",
       "    <tr>\n",
       "      <th>Misc</th>\n",
       "      <td>9.20</td>\n",
       "    </tr>\n",
       "    <tr>\n",
       "      <th>Fighting</th>\n",
       "      <td>7.65</td>\n",
       "    </tr>\n",
       "    <tr>\n",
       "      <th>Shooter</th>\n",
       "      <td>6.61</td>\n",
       "    </tr>\n",
       "  </tbody>\n",
       "</table>\n",
       "</div>"
      ],
      "text/plain": [
       "              jp_sales\n",
       "genre                 \n",
       "Role-Playing     51.04\n",
       "Action           40.49\n",
       "Misc              9.20\n",
       "Fighting          7.65\n",
       "Shooter           6.61"
      ]
     },
     "metadata": {},
     "output_type": "display_data"
    },
    {
     "data": {
      "text/html": [
       "<div>\n",
       "<style scoped>\n",
       "    .dataframe tbody tr th:only-of-type {\n",
       "        vertical-align: middle;\n",
       "    }\n",
       "\n",
       "    .dataframe tbody tr th {\n",
       "        vertical-align: top;\n",
       "    }\n",
       "\n",
       "    .dataframe thead th {\n",
       "        text-align: right;\n",
       "    }\n",
       "</style>\n",
       "<table border=\"1\" class=\"dataframe\">\n",
       "  <thead>\n",
       "    <tr style=\"text-align: right;\">\n",
       "      <th></th>\n",
       "      <th>sales_share</th>\n",
       "    </tr>\n",
       "    <tr>\n",
       "      <th>genre</th>\n",
       "      <th></th>\n",
       "    </tr>\n",
       "  </thead>\n",
       "  <tbody>\n",
       "    <tr>\n",
       "      <th>Role-Playing</th>\n",
       "      <td>44.39</td>\n",
       "    </tr>\n",
       "    <tr>\n",
       "      <th>Action</th>\n",
       "      <td>35.21</td>\n",
       "    </tr>\n",
       "    <tr>\n",
       "      <th>Misc</th>\n",
       "      <td>8.00</td>\n",
       "    </tr>\n",
       "    <tr>\n",
       "      <th>Fighting</th>\n",
       "      <td>6.65</td>\n",
       "    </tr>\n",
       "    <tr>\n",
       "      <th>Shooter</th>\n",
       "      <td>5.75</td>\n",
       "    </tr>\n",
       "  </tbody>\n",
       "</table>\n",
       "</div>"
      ],
      "text/plain": [
       "              sales_share\n",
       "genre                    \n",
       "Role-Playing        44.39\n",
       "Action              35.21\n",
       "Misc                 8.00\n",
       "Fighting             6.65\n",
       "Shooter              5.75"
      ]
     },
     "metadata": {},
     "output_type": "display_data"
    }
   ],
   "source": [
    "top_reg('genre', 'jp_sales')"
   ]
  },
  {
   "cell_type": "markdown",
   "metadata": {},
   "source": [
    "**Промежуточный вывод:**<br>Топ-5 платформ Северной Америки: PS4, XOne, X360, PS3 и 3DS. Из них лидируют платформы PS4 и XOne.<br>Топ-5 платформ Европы: PS4, PS3, XOne, X360 и 3DS. Из них лидирует платформа PS4.<br>Топ-5 платформ Японии: 3DS, PS3, PSV, PS4 и WiiU. Из них лидер - 3DS.<br><br>Топ-5 жанров Северной Америки: Action, Shooter, Sports, Role-Playing, Misc. Из них лидеры - Action и Shooter.<br>Топ-5 жанров Европы: Action, Shooter, Sports, Role-Playing и Racing. Из них лидеры - Action и Shooter.<br>Топ-5 жанров Японии: Role-Playing, Action, Misc, Fighting, Shooter.<br><br> Отсюда видно, что списки топ-5 платформ и жанров во многом схожи между Северной Америкой и Европой. Япония сильно отличается от них.<br>Различия в популярности игровых платформ в значительной мере обусловлены воздействием ключевых игроков на рынке. В результате этого во всех рейтингах присутствует продукция компании Sony.<br>Также немалую роль играет местоположение компании. Например, популярность платформ XOne и X360 в Северной Америке связана с влиянием крупного участника рынка в этом регионе - компании Microsoft. Аналогичная ситуация просматривается в Японии, где компания Nintendo, представившая две платформы 3DS и WiiU, играет важную роль. Европейский рынок, не имея крупных игроков в разработке платформ, ориентируется на общую популярность платформы.<br><br>Игры в категории Misс относятся к разряду игр, объединяющих в себе элементы ловкости и действий. Они не подпадают под категории боевых игр, лабиринтов, спортивных соревнований, игр на удержание мяча или гонок. Эти новые игры предоставляют игрокам возможность проверить свою ловкость и реакцию через различные подходы.<br>\n",
    "Характерные тенденции среди американских и европейских игроков по жанрам в целом схожи. Однако японские игроки выделяются своим предпочтением к играм с глубоким смыслом. Независимо от региона, игры в жанре экшен всегда будут популярны, поскольку многие поколения выросли, играя в этот жанр, а также шутеры, предлагающие имитацию боевых действий.<br>"
   ]
  },
  {
   "cell_type": "markdown",
   "metadata": {},
   "source": [
    "**Выясним, влияет ли рейтинг ESRB на продажи в отдельном регионе?**"
   ]
  },
  {
   "cell_type": "code",
   "execution_count": 45,
   "metadata": {},
   "outputs": [
    {
     "data": {
      "text/html": [
       "<div>\n",
       "<style scoped>\n",
       "    .dataframe tbody tr th:only-of-type {\n",
       "        vertical-align: middle;\n",
       "    }\n",
       "\n",
       "    .dataframe tbody tr th {\n",
       "        vertical-align: top;\n",
       "    }\n",
       "\n",
       "    .dataframe thead th {\n",
       "        text-align: right;\n",
       "    }\n",
       "</style>\n",
       "<table border=\"1\" class=\"dataframe\">\n",
       "  <thead>\n",
       "    <tr style=\"text-align: right;\">\n",
       "      <th></th>\n",
       "      <th>na_sales</th>\n",
       "    </tr>\n",
       "    <tr>\n",
       "      <th>rating</th>\n",
       "      <th></th>\n",
       "    </tr>\n",
       "  </thead>\n",
       "  <tbody>\n",
       "    <tr>\n",
       "      <th>M</th>\n",
       "      <td>165.21</td>\n",
       "    </tr>\n",
       "    <tr>\n",
       "      <th>-1</th>\n",
       "      <td>89.42</td>\n",
       "    </tr>\n",
       "    <tr>\n",
       "      <th>E</th>\n",
       "      <td>79.05</td>\n",
       "    </tr>\n",
       "    <tr>\n",
       "      <th>E10+</th>\n",
       "      <td>54.24</td>\n",
       "    </tr>\n",
       "    <tr>\n",
       "      <th>T</th>\n",
       "      <td>49.79</td>\n",
       "    </tr>\n",
       "  </tbody>\n",
       "</table>\n",
       "</div>"
      ],
      "text/plain": [
       "        na_sales\n",
       "rating          \n",
       "M         165.21\n",
       "-1         89.42\n",
       "E          79.05\n",
       "E10+       54.24\n",
       "T          49.79"
      ]
     },
     "metadata": {},
     "output_type": "display_data"
    },
    {
     "data": {
      "text/html": [
       "<div>\n",
       "<style scoped>\n",
       "    .dataframe tbody tr th:only-of-type {\n",
       "        vertical-align: middle;\n",
       "    }\n",
       "\n",
       "    .dataframe tbody tr th {\n",
       "        vertical-align: top;\n",
       "    }\n",
       "\n",
       "    .dataframe thead th {\n",
       "        text-align: right;\n",
       "    }\n",
       "</style>\n",
       "<table border=\"1\" class=\"dataframe\">\n",
       "  <thead>\n",
       "    <tr style=\"text-align: right;\">\n",
       "      <th></th>\n",
       "      <th>sales_share</th>\n",
       "    </tr>\n",
       "    <tr>\n",
       "      <th>rating</th>\n",
       "      <th></th>\n",
       "    </tr>\n",
       "  </thead>\n",
       "  <tbody>\n",
       "    <tr>\n",
       "      <th>M</th>\n",
       "      <td>37.74</td>\n",
       "    </tr>\n",
       "    <tr>\n",
       "      <th>-1</th>\n",
       "      <td>20.43</td>\n",
       "    </tr>\n",
       "    <tr>\n",
       "      <th>E</th>\n",
       "      <td>18.06</td>\n",
       "    </tr>\n",
       "    <tr>\n",
       "      <th>E10+</th>\n",
       "      <td>12.39</td>\n",
       "    </tr>\n",
       "    <tr>\n",
       "      <th>T</th>\n",
       "      <td>11.38</td>\n",
       "    </tr>\n",
       "  </tbody>\n",
       "</table>\n",
       "</div>"
      ],
      "text/plain": [
       "        sales_share\n",
       "rating             \n",
       "M             37.74\n",
       "-1            20.43\n",
       "E             18.06\n",
       "E10+          12.39\n",
       "T             11.38"
      ]
     },
     "metadata": {},
     "output_type": "display_data"
    }
   ],
   "source": [
    "top_reg('rating', 'na_sales')"
   ]
  },
  {
   "cell_type": "code",
   "execution_count": 46,
   "metadata": {},
   "outputs": [
    {
     "data": {
      "text/html": [
       "<div>\n",
       "<style scoped>\n",
       "    .dataframe tbody tr th:only-of-type {\n",
       "        vertical-align: middle;\n",
       "    }\n",
       "\n",
       "    .dataframe tbody tr th {\n",
       "        vertical-align: top;\n",
       "    }\n",
       "\n",
       "    .dataframe thead th {\n",
       "        text-align: right;\n",
       "    }\n",
       "</style>\n",
       "<table border=\"1\" class=\"dataframe\">\n",
       "  <thead>\n",
       "    <tr style=\"text-align: right;\">\n",
       "      <th></th>\n",
       "      <th>eu_sales</th>\n",
       "    </tr>\n",
       "    <tr>\n",
       "      <th>rating</th>\n",
       "      <th></th>\n",
       "    </tr>\n",
       "  </thead>\n",
       "  <tbody>\n",
       "    <tr>\n",
       "      <th>M</th>\n",
       "      <td>145.32</td>\n",
       "    </tr>\n",
       "    <tr>\n",
       "      <th>E</th>\n",
       "      <td>83.36</td>\n",
       "    </tr>\n",
       "    <tr>\n",
       "      <th>-1</th>\n",
       "      <td>78.91</td>\n",
       "    </tr>\n",
       "    <tr>\n",
       "      <th>E10+</th>\n",
       "      <td>42.69</td>\n",
       "    </tr>\n",
       "    <tr>\n",
       "      <th>T</th>\n",
       "      <td>41.95</td>\n",
       "    </tr>\n",
       "  </tbody>\n",
       "</table>\n",
       "</div>"
      ],
      "text/plain": [
       "        eu_sales\n",
       "rating          \n",
       "M         145.32\n",
       "E          83.36\n",
       "-1         78.91\n",
       "E10+       42.69\n",
       "T          41.95"
      ]
     },
     "metadata": {},
     "output_type": "display_data"
    },
    {
     "data": {
      "text/html": [
       "<div>\n",
       "<style scoped>\n",
       "    .dataframe tbody tr th:only-of-type {\n",
       "        vertical-align: middle;\n",
       "    }\n",
       "\n",
       "    .dataframe tbody tr th {\n",
       "        vertical-align: top;\n",
       "    }\n",
       "\n",
       "    .dataframe thead th {\n",
       "        text-align: right;\n",
       "    }\n",
       "</style>\n",
       "<table border=\"1\" class=\"dataframe\">\n",
       "  <thead>\n",
       "    <tr style=\"text-align: right;\">\n",
       "      <th></th>\n",
       "      <th>sales_share</th>\n",
       "    </tr>\n",
       "    <tr>\n",
       "      <th>rating</th>\n",
       "      <th></th>\n",
       "    </tr>\n",
       "  </thead>\n",
       "  <tbody>\n",
       "    <tr>\n",
       "      <th>M</th>\n",
       "      <td>37.05</td>\n",
       "    </tr>\n",
       "    <tr>\n",
       "      <th>E</th>\n",
       "      <td>21.25</td>\n",
       "    </tr>\n",
       "    <tr>\n",
       "      <th>-1</th>\n",
       "      <td>20.12</td>\n",
       "    </tr>\n",
       "    <tr>\n",
       "      <th>E10+</th>\n",
       "      <td>10.88</td>\n",
       "    </tr>\n",
       "    <tr>\n",
       "      <th>T</th>\n",
       "      <td>10.70</td>\n",
       "    </tr>\n",
       "  </tbody>\n",
       "</table>\n",
       "</div>"
      ],
      "text/plain": [
       "        sales_share\n",
       "rating             \n",
       "M             37.05\n",
       "E             21.25\n",
       "-1            20.12\n",
       "E10+          10.88\n",
       "T             10.70"
      ]
     },
     "metadata": {},
     "output_type": "display_data"
    }
   ],
   "source": [
    "top_reg('rating', 'eu_sales')"
   ]
  },
  {
   "cell_type": "code",
   "execution_count": 47,
   "metadata": {},
   "outputs": [
    {
     "data": {
      "text/html": [
       "<div>\n",
       "<style scoped>\n",
       "    .dataframe tbody tr th:only-of-type {\n",
       "        vertical-align: middle;\n",
       "    }\n",
       "\n",
       "    .dataframe tbody tr th {\n",
       "        vertical-align: top;\n",
       "    }\n",
       "\n",
       "    .dataframe thead th {\n",
       "        text-align: right;\n",
       "    }\n",
       "</style>\n",
       "<table border=\"1\" class=\"dataframe\">\n",
       "  <thead>\n",
       "    <tr style=\"text-align: right;\">\n",
       "      <th></th>\n",
       "      <th>jp_sales</th>\n",
       "    </tr>\n",
       "    <tr>\n",
       "      <th>rating</th>\n",
       "      <th></th>\n",
       "    </tr>\n",
       "  </thead>\n",
       "  <tbody>\n",
       "    <tr>\n",
       "      <th>-1</th>\n",
       "      <td>85.05</td>\n",
       "    </tr>\n",
       "    <tr>\n",
       "      <th>T</th>\n",
       "      <td>20.59</td>\n",
       "    </tr>\n",
       "    <tr>\n",
       "      <th>E</th>\n",
       "      <td>15.14</td>\n",
       "    </tr>\n",
       "    <tr>\n",
       "      <th>M</th>\n",
       "      <td>14.11</td>\n",
       "    </tr>\n",
       "    <tr>\n",
       "      <th>E10+</th>\n",
       "      <td>5.89</td>\n",
       "    </tr>\n",
       "  </tbody>\n",
       "</table>\n",
       "</div>"
      ],
      "text/plain": [
       "        jp_sales\n",
       "rating          \n",
       "-1         85.05\n",
       "T          20.59\n",
       "E          15.14\n",
       "M          14.11\n",
       "E10+        5.89"
      ]
     },
     "metadata": {},
     "output_type": "display_data"
    },
    {
     "data": {
      "text/html": [
       "<div>\n",
       "<style scoped>\n",
       "    .dataframe tbody tr th:only-of-type {\n",
       "        vertical-align: middle;\n",
       "    }\n",
       "\n",
       "    .dataframe tbody tr th {\n",
       "        vertical-align: top;\n",
       "    }\n",
       "\n",
       "    .dataframe thead th {\n",
       "        text-align: right;\n",
       "    }\n",
       "</style>\n",
       "<table border=\"1\" class=\"dataframe\">\n",
       "  <thead>\n",
       "    <tr style=\"text-align: right;\">\n",
       "      <th></th>\n",
       "      <th>sales_share</th>\n",
       "    </tr>\n",
       "    <tr>\n",
       "      <th>rating</th>\n",
       "      <th></th>\n",
       "    </tr>\n",
       "  </thead>\n",
       "  <tbody>\n",
       "    <tr>\n",
       "      <th>-1</th>\n",
       "      <td>60.41</td>\n",
       "    </tr>\n",
       "    <tr>\n",
       "      <th>T</th>\n",
       "      <td>14.63</td>\n",
       "    </tr>\n",
       "    <tr>\n",
       "      <th>E</th>\n",
       "      <td>10.75</td>\n",
       "    </tr>\n",
       "    <tr>\n",
       "      <th>M</th>\n",
       "      <td>10.02</td>\n",
       "    </tr>\n",
       "    <tr>\n",
       "      <th>E10+</th>\n",
       "      <td>4.18</td>\n",
       "    </tr>\n",
       "  </tbody>\n",
       "</table>\n",
       "</div>"
      ],
      "text/plain": [
       "        sales_share\n",
       "rating             \n",
       "-1            60.41\n",
       "T             14.63\n",
       "E             10.75\n",
       "M             10.02\n",
       "E10+           4.18"
      ]
     },
     "metadata": {},
     "output_type": "display_data"
    }
   ],
   "source": [
    "top_reg('rating', 'jp_sales')"
   ]
  },
  {
   "cell_type": "markdown",
   "metadata": {},
   "source": [
    "**Промежуточный вывод:**<br>В Северной Америке почти в равных долях лидируют возраста категорий E(для всех возрастов) и М(17+).<br>В Европе также почти в равных долях лидируют возраста категорий E и М.<br>А вот в Японии лидирует возраст категории E.<br><br>В Америке и Европе схожие ситуации - с небольшим отрывом между собой лидируют категории Е и М. Значит, рынок хочет угодить и всем возрастам, и взрослым людям.<br>\n",
    "В Японии лидириуют игры с возрастным рейтингом E, причем с большим отрывом, по сравнению с другими. Компании хотят распространить свое влияние взрослых людей.<br> Делаю вывод, что рейтинг возраста влияет по каждому региону."
   ]
  },
  {
   "cell_type": "markdown",
   "metadata": {},
   "source": [
    "**Вывод по шагу:**<br>Портрет пользователя Северной Америки. Платформа PS4/, жанр Action, возрастная группа: Е.<br>Портрет пользователя Европы. Платформа PS4, жанр Action, возрастная группа: Е.<br>Портрет пользователя Японии. Платформа 3DS, жанр Role-Playing, возрастная группа: Е."
   ]
  },
  {
   "cell_type": "markdown",
   "metadata": {},
   "source": [
    "# Проверим гипотезы."
   ]
  },
  {
   "cell_type": "markdown",
   "metadata": {},
   "source": [
    "**Гипотеза: Средние пользовательские рейтинги платформ Xbox One и PC одинаковые.**"
   ]
  },
  {
   "cell_type": "markdown",
   "metadata": {},
   "source": [
    "**H0:** Средние пользовательские рейтинги платформ Xbox One и PC равны.<br>**H1:** Средние пользовательские рейтинги платформ Xbox One и PC различаются."
   ]
  },
  {
   "cell_type": "code",
   "execution_count": 48,
   "metadata": {},
   "outputs": [
    {
     "name": "stdout",
     "output_type": "stream",
     "text": [
      "0.14012658403611503\n",
      "Не получилось отвергнуть нулевую гипотезу\n"
     ]
    }
   ],
   "source": [
    "alpha = 0.05\n",
    "\n",
    "user_score_XOne = actual_data.query('platform == \"XOne\"')['user_score'].dropna()\n",
    "user_score_PC = actual_data.query('platform == \"PC\"')['user_score'].dropna()\n",
    "\n",
    "res = stats.ttest_ind(user_score_XOne, user_score_PC)\n",
    "print(res.pvalue)\n",
    "if (res.pvalue < alpha):\n",
    "    print('Отвергаем нулевую гипотезу')\n",
    "else:\n",
    "    print('Не получилось отвергнуть нулевую гипотезу')"
   ]
  },
  {
   "cell_type": "code",
   "execution_count": 49,
   "metadata": {},
   "outputs": [
    {
     "data": {
      "text/plain": [
       "0.14012658403611503"
      ]
     },
     "execution_count": 49,
     "metadata": {},
     "output_type": "execute_result"
    }
   ],
   "source": [
    "# Комментарий ревьюера\n",
    "res.pvalue"
   ]
  },
  {
   "cell_type": "markdown",
   "metadata": {},
   "source": [
    "**Промежуточный вывод:** Принимаем нулевую гипотезу, а значит средние пользовательские рейтинги платформ Xbox One и PC равны."
   ]
  },
  {
   "cell_type": "markdown",
   "metadata": {},
   "source": [
    "**Гипотеза: Средние пользовательские рейтинги жанров Action и Sports разные.**"
   ]
  },
  {
   "cell_type": "markdown",
   "metadata": {},
   "source": [
    "**H0:** Средние пользовательские рейтинги жанров Action и Sports одинаковые.<br>**H1:** Средние пользовательские рейтинги жанров Action и Sports разные."
   ]
  },
  {
   "cell_type": "code",
   "execution_count": 50,
   "metadata": {},
   "outputs": [
    {
     "name": "stdout",
     "output_type": "stream",
     "text": [
      "1.0517832389140023e-27\n",
      "Отвергаем нулевую гипотезу\n"
     ]
    }
   ],
   "source": [
    "alpha = 0.05\n",
    "\n",
    "user_score_Action = actual_data.query('genre == \"Action\"')['user_score'].dropna()\n",
    "user_score_Sports = actual_data.query('genre == \"Sports\"')['user_score'].dropna()\n",
    "\n",
    "res = stats.ttest_ind(user_score_Action, user_score_Sports)\n",
    "print(res.pvalue)\n",
    "if (res.pvalue < alpha):\n",
    "    print('Отвергаем нулевую гипотезу')\n",
    "else:\n",
    "    print('Не получилось отвергнуть нулевую гипотезу')"
   ]
  },
  {
   "cell_type": "markdown",
   "metadata": {},
   "source": [
    "**Промежуточный вывод:** Отвергаем нулевую гипотезу, а значит cредние пользовательские рейтинги жанров Action и Sports разные."
   ]
  },
  {
   "cell_type": "markdown",
   "metadata": {},
   "source": [
    "**Ответ на вопрос:**<br>Мы использовали t-тест для независимых выборок. Критерий alpha = 0.05 был выбран, так как соответствует стандартной практике использования уровня значимости. Если p-значение (рассчитанное с помощью t-теста) оказывается меньше alpha, то нулевая гипотеза отвергается в пользу альтернативной. В противном случае нулевая гипотеза не отвергается."
   ]
  },
  {
   "cell_type": "markdown",
   "metadata": {},
   "source": [
    "# Вывод."
   ]
  },
  {
   "cell_type": "markdown",
   "metadata": {},
   "source": [
    "После подобного масштабного проекта стоит сделать не менее масштабный вывод.<br>Мы провели анализ данных интернет-магазина 'Стримчик' за 2016 год.<br>Мы привели названия всех столбцов к нижнему регистру (для дальнейшего удобства). Была проделана работа с пропущенными значениями, дубликатами, типами переменных. Также был создан новый столбец с общим числом продаж во всех регионах.<br>Далее с помощью графиков мы выяснили, что актуальным периодом для дальнейших исследований является 2013 - 2016 год.<br>Ну а после с помошью корреляций и ящиков с усами сделали выводы:<br>Средняя выручка за игру по платформе PS4: 801 тыс. 3/4 игр заработали до 730 тыс. Рекорд 14,6 млн.<br>Средняя выручка за игру по платформе PS3: 706 тыс. 3/4 игр заработали до 750 тыс. Рекорд 21 млн.<br>Средняя выручка за игру по платформе XOne: 645 тыс. 3/4 игр заработали до 685 тыс. Рекорд 7,4 млн.<br>Средняя выручка за игру по платформе 3DS: 498 тыс. 3/4 игр заработали до 330 тыс. Рекорд 14,6 млн.<br>Средняя выручка за игру по платформе X360: 735 тыс. 3/4 игр заработали до 757 тыс. Рекорд 21,8 млн.<br>С помощью графиков рассеивания утвердили, зависимость между оценкой критиков умеренная, а  между оценкой пользователей и продажами - практически отсутствует или слабая, а это значит, что, в большинстве, зависимость есть и со стороны критиков, и со стороны пользователей.<br>Из всех жанров самый успешным по продажам оказался Shooter, на втором месте Sports.<br>Далее мы, исследуя топ-5 платформ, жанров и возрастных групп составили портреты пользователя каждого региона. Портрет пользователя Северной Америки. Платформа PS4/, жанр Action, возрастная группа: Е.<br>Портрет пользователя Европы. Платформа PS4, жанр Action, возрастная группа: Е.<br>\n",
    "Портрет пользователя Японии. Платформа 3DS, жанр Role-Playing, возрастная группа: Е.<br>И на последнем шаге проверили гипотезы с помощью t-тестов для двух независимых выборок, которые подтвердили, что средние пользовательские рейтинги платформ Xbox One и PC равны, а cредние пользовательские рейтинги жанров Action и Sports разные.<br><br>Прогноз на 2017 год:<br>1)В самом разгаре будут лишь современные платформы, в том числе и игры для них (PS4, XOne и 3DS).<br>2)Выставлять на прилавки популярные жанры - Shooter, Sports, Pla и Role-Playing.<br>3)Насчет возвратсной группы все отлично, так и нужно держать, чтобы в игры могли играть пользователи любых возрастов, то есть распро"
   ]
  }
 ],
 "metadata": {
  "ExecuteTimeLog": [
   {
    "duration": 48,
    "start_time": "2023-11-15T13:39:04.516Z"
   },
   {
    "duration": 420,
    "start_time": "2023-11-15T13:39:19.242Z"
   },
   {
    "duration": 201,
    "start_time": "2023-11-15T13:39:45.433Z"
   },
   {
    "duration": 71,
    "start_time": "2023-11-15T13:42:22.249Z"
   },
   {
    "duration": 69,
    "start_time": "2023-11-15T13:42:32.929Z"
   },
   {
    "duration": 67,
    "start_time": "2023-11-15T13:42:48.160Z"
   },
   {
    "duration": 67,
    "start_time": "2023-11-15T13:42:56.884Z"
   },
   {
    "duration": 58,
    "start_time": "2023-11-15T13:43:09.414Z"
   },
   {
    "duration": 13,
    "start_time": "2023-11-15T13:43:13.889Z"
   },
   {
    "duration": 5,
    "start_time": "2023-11-15T13:51:13.045Z"
   },
   {
    "duration": 21,
    "start_time": "2023-11-15T13:51:29.084Z"
   },
   {
    "duration": 14,
    "start_time": "2023-11-15T13:51:59.344Z"
   },
   {
    "duration": 3,
    "start_time": "2023-11-15T13:54:03.707Z"
   },
   {
    "duration": 60,
    "start_time": "2023-11-15T13:54:03.735Z"
   },
   {
    "duration": 14,
    "start_time": "2023-11-15T13:54:03.797Z"
   },
   {
    "duration": 14,
    "start_time": "2023-11-15T13:54:03.812Z"
   },
   {
    "duration": 28,
    "start_time": "2023-11-15T13:57:46.925Z"
   },
   {
    "duration": 6,
    "start_time": "2023-11-15T13:57:51.860Z"
   },
   {
    "duration": 24,
    "start_time": "2023-11-15T13:57:58.225Z"
   },
   {
    "duration": 54,
    "start_time": "2023-11-15T13:58:07.012Z"
   },
   {
    "duration": 21,
    "start_time": "2023-11-15T13:58:34.972Z"
   },
   {
    "duration": 16,
    "start_time": "2023-11-15T13:59:51.197Z"
   },
   {
    "duration": 16,
    "start_time": "2023-11-15T14:00:38.368Z"
   },
   {
    "duration": 19,
    "start_time": "2023-11-15T14:02:18.772Z"
   },
   {
    "duration": 127,
    "start_time": "2023-11-15T14:03:46.517Z"
   },
   {
    "duration": 20,
    "start_time": "2023-11-15T14:03:56.278Z"
   },
   {
    "duration": 19,
    "start_time": "2023-11-15T14:05:06.437Z"
   },
   {
    "duration": 12,
    "start_time": "2023-11-15T14:05:12.852Z"
   },
   {
    "duration": 12,
    "start_time": "2023-11-15T14:05:47.565Z"
   },
   {
    "duration": 2,
    "start_time": "2023-11-15T14:06:25.856Z"
   },
   {
    "duration": 66,
    "start_time": "2023-11-15T14:06:25.864Z"
   },
   {
    "duration": 14,
    "start_time": "2023-11-15T14:06:25.932Z"
   },
   {
    "duration": 20,
    "start_time": "2023-11-15T14:06:25.948Z"
   },
   {
    "duration": 21,
    "start_time": "2023-11-15T14:06:25.971Z"
   },
   {
    "duration": 12,
    "start_time": "2023-11-15T14:06:34.909Z"
   },
   {
    "duration": 16,
    "start_time": "2023-11-15T14:08:56.422Z"
   },
   {
    "duration": 12,
    "start_time": "2023-11-15T14:09:19.286Z"
   },
   {
    "duration": 1999,
    "start_time": "2023-11-15T14:09:56.592Z"
   },
   {
    "duration": 11,
    "start_time": "2023-11-15T14:10:14.126Z"
   },
   {
    "duration": 12,
    "start_time": "2023-11-15T14:11:31.124Z"
   },
   {
    "duration": 10,
    "start_time": "2023-11-15T14:11:57.127Z"
   },
   {
    "duration": 13,
    "start_time": "2023-11-15T14:12:50.852Z"
   },
   {
    "duration": 55,
    "start_time": "2023-11-15T14:14:49.616Z"
   },
   {
    "duration": 15,
    "start_time": "2023-11-15T14:15:11.725Z"
   },
   {
    "duration": 124,
    "start_time": "2023-11-15T14:15:38.605Z"
   },
   {
    "duration": 48,
    "start_time": "2023-11-15T14:15:45.602Z"
   },
   {
    "duration": 162,
    "start_time": "2023-11-15T14:16:08.229Z"
   },
   {
    "duration": 47,
    "start_time": "2023-11-15T14:16:19.605Z"
   },
   {
    "duration": 14,
    "start_time": "2023-11-15T14:16:36.972Z"
   },
   {
    "duration": 11,
    "start_time": "2023-11-15T14:16:43.763Z"
   },
   {
    "duration": 1025,
    "start_time": "2023-11-15T14:16:46.052Z"
   },
   {
    "duration": 13,
    "start_time": "2023-11-15T14:16:55.205Z"
   },
   {
    "duration": 450,
    "start_time": "2023-11-15T14:16:57.148Z"
   },
   {
    "duration": 19,
    "start_time": "2023-11-15T14:18:15.472Z"
   },
   {
    "duration": 28,
    "start_time": "2023-11-15T14:18:26.855Z"
   },
   {
    "duration": 10,
    "start_time": "2023-11-15T14:18:27.987Z"
   },
   {
    "duration": 72,
    "start_time": "2023-11-15T14:20:28.752Z"
   },
   {
    "duration": 14,
    "start_time": "2023-11-15T14:20:30.061Z"
   },
   {
    "duration": 51,
    "start_time": "2023-11-15T14:20:47.162Z"
   },
   {
    "duration": 13,
    "start_time": "2023-11-15T14:20:48.489Z"
   },
   {
    "duration": 27,
    "start_time": "2023-11-15T14:21:28.350Z"
   },
   {
    "duration": 11,
    "start_time": "2023-11-15T14:21:30.037Z"
   },
   {
    "duration": 26,
    "start_time": "2023-11-15T14:21:39.753Z"
   },
   {
    "duration": 11,
    "start_time": "2023-11-15T14:21:41.879Z"
   },
   {
    "duration": 11,
    "start_time": "2023-11-15T14:21:49.872Z"
   },
   {
    "duration": 23,
    "start_time": "2023-11-15T14:21:53.137Z"
   },
   {
    "duration": 10,
    "start_time": "2023-11-15T14:21:53.866Z"
   },
   {
    "duration": 24,
    "start_time": "2023-11-15T14:22:03.745Z"
   },
   {
    "duration": 4,
    "start_time": "2023-11-15T14:22:14.580Z"
   },
   {
    "duration": 12,
    "start_time": "2023-11-15T14:22:15.033Z"
   },
   {
    "duration": 3,
    "start_time": "2023-11-15T14:22:57.683Z"
   },
   {
    "duration": 11,
    "start_time": "2023-11-15T14:22:58.409Z"
   },
   {
    "duration": 50,
    "start_time": "2023-11-15T14:24:23.521Z"
   },
   {
    "duration": 127,
    "start_time": "2023-11-15T14:24:30.253Z"
   },
   {
    "duration": 16,
    "start_time": "2023-11-15T14:27:42.193Z"
   },
   {
    "duration": 7,
    "start_time": "2023-11-15T14:33:33.193Z"
   },
   {
    "duration": 15,
    "start_time": "2023-11-15T14:33:46.358Z"
   },
   {
    "duration": 423,
    "start_time": "2023-11-15T14:33:55.991Z"
   },
   {
    "duration": 63,
    "start_time": "2023-11-15T14:33:56.415Z"
   },
   {
    "duration": 15,
    "start_time": "2023-11-15T14:33:56.480Z"
   },
   {
    "duration": 15,
    "start_time": "2023-11-15T14:33:56.496Z"
   },
   {
    "duration": 11,
    "start_time": "2023-11-15T14:33:56.513Z"
   },
   {
    "duration": 31,
    "start_time": "2023-11-15T14:34:09.525Z"
   },
   {
    "duration": 445,
    "start_time": "2023-11-15T14:34:23.875Z"
   },
   {
    "duration": 93,
    "start_time": "2023-11-15T14:34:24.322Z"
   },
   {
    "duration": 17,
    "start_time": "2023-11-15T14:34:24.420Z"
   },
   {
    "duration": 17,
    "start_time": "2023-11-15T14:34:24.439Z"
   },
   {
    "duration": 47,
    "start_time": "2023-11-15T14:34:24.458Z"
   },
   {
    "duration": 84,
    "start_time": "2023-11-15T14:34:56.546Z"
   },
   {
    "duration": 15,
    "start_time": "2023-11-15T14:35:03.940Z"
   },
   {
    "duration": 17,
    "start_time": "2023-11-15T14:35:14.955Z"
   },
   {
    "duration": 21,
    "start_time": "2023-11-15T14:35:23.031Z"
   },
   {
    "duration": 12,
    "start_time": "2023-11-15T14:36:19.791Z"
   },
   {
    "duration": 33,
    "start_time": "2023-11-15T14:36:29.892Z"
   },
   {
    "duration": 24,
    "start_time": "2023-11-15T14:37:22.021Z"
   },
   {
    "duration": 16,
    "start_time": "2023-11-15T14:37:38.967Z"
   },
   {
    "duration": 30,
    "start_time": "2023-11-15T14:37:44.213Z"
   },
   {
    "duration": 18,
    "start_time": "2023-11-15T14:38:29.783Z"
   },
   {
    "duration": 20,
    "start_time": "2023-11-15T14:38:58.943Z"
   },
   {
    "duration": 25,
    "start_time": "2023-11-15T14:39:12.114Z"
   },
   {
    "duration": 20,
    "start_time": "2023-11-15T14:39:23.771Z"
   },
   {
    "duration": 415,
    "start_time": "2023-11-15T14:39:36.241Z"
   },
   {
    "duration": 78,
    "start_time": "2023-11-15T14:39:36.660Z"
   },
   {
    "duration": 15,
    "start_time": "2023-11-15T14:39:36.740Z"
   },
   {
    "duration": 27,
    "start_time": "2023-11-15T14:39:36.757Z"
   },
   {
    "duration": 46,
    "start_time": "2023-11-15T14:39:36.786Z"
   },
   {
    "duration": 367,
    "start_time": "2023-11-20T12:22:47.814Z"
   },
   {
    "duration": 187,
    "start_time": "2023-11-20T12:22:48.183Z"
   },
   {
    "duration": 13,
    "start_time": "2023-11-20T12:22:48.372Z"
   },
   {
    "duration": 17,
    "start_time": "2023-11-20T12:22:48.387Z"
   },
   {
    "duration": 5,
    "start_time": "2023-11-20T12:27:38.043Z"
   },
   {
    "duration": 23,
    "start_time": "2023-11-20T12:27:48.570Z"
   },
   {
    "duration": 44,
    "start_time": "2023-11-20T12:28:06.606Z"
   },
   {
    "duration": 17,
    "start_time": "2023-11-20T12:28:15.312Z"
   },
   {
    "duration": 20,
    "start_time": "2023-11-20T12:29:29.365Z"
   },
   {
    "duration": 18,
    "start_time": "2023-11-20T12:29:40.965Z"
   },
   {
    "duration": 15,
    "start_time": "2023-11-20T12:31:17.261Z"
   },
   {
    "duration": 31,
    "start_time": "2023-11-20T12:31:28.443Z"
   },
   {
    "duration": 31,
    "start_time": "2023-11-20T12:31:39.012Z"
   },
   {
    "duration": 23,
    "start_time": "2023-11-20T12:32:30.983Z"
   },
   {
    "duration": 68,
    "start_time": "2023-11-20T12:33:54.082Z"
   },
   {
    "duration": 2,
    "start_time": "2023-11-20T12:34:28.836Z"
   },
   {
    "duration": 8,
    "start_time": "2023-11-20T12:35:15.373Z"
   },
   {
    "duration": 11,
    "start_time": "2023-11-20T12:35:49.269Z"
   },
   {
    "duration": 5,
    "start_time": "2023-11-20T12:36:29.573Z"
   },
   {
    "duration": 10,
    "start_time": "2023-11-20T12:36:37.951Z"
   },
   {
    "duration": 4,
    "start_time": "2023-11-20T12:36:42.147Z"
   },
   {
    "duration": 6,
    "start_time": "2023-11-20T12:40:32.492Z"
   },
   {
    "duration": 10,
    "start_time": "2023-11-20T12:42:23.460Z"
   },
   {
    "duration": 10,
    "start_time": "2023-11-20T12:43:04.190Z"
   },
   {
    "duration": 15,
    "start_time": "2023-11-20T12:44:29.769Z"
   },
   {
    "duration": 45,
    "start_time": "2023-11-20T12:44:43.934Z"
   },
   {
    "duration": 7,
    "start_time": "2023-11-20T12:46:12.512Z"
   },
   {
    "duration": 4,
    "start_time": "2023-11-20T12:46:13.276Z"
   },
   {
    "duration": 13,
    "start_time": "2023-11-20T12:46:13.901Z"
   },
   {
    "duration": 20,
    "start_time": "2023-11-20T12:46:14.411Z"
   },
   {
    "duration": 11,
    "start_time": "2023-11-20T12:46:35.616Z"
   },
   {
    "duration": 430,
    "start_time": "2023-11-20T12:46:49.803Z"
   },
   {
    "duration": 28,
    "start_time": "2023-11-20T12:48:00.669Z"
   },
   {
    "duration": 17,
    "start_time": "2023-11-20T12:48:22.492Z"
   },
   {
    "duration": 6,
    "start_time": "2023-11-20T12:49:13.783Z"
   },
   {
    "duration": 11,
    "start_time": "2023-11-20T12:49:22.339Z"
   },
   {
    "duration": 12,
    "start_time": "2023-11-20T12:49:31.131Z"
   },
   {
    "duration": 12,
    "start_time": "2023-11-20T12:50:05.237Z"
   },
   {
    "duration": 11,
    "start_time": "2023-11-20T12:50:36.526Z"
   },
   {
    "duration": 24,
    "start_time": "2023-11-20T12:50:48.442Z"
   },
   {
    "duration": 11,
    "start_time": "2023-11-20T12:50:59.223Z"
   },
   {
    "duration": 11,
    "start_time": "2023-11-20T12:52:00.415Z"
   },
   {
    "duration": 11,
    "start_time": "2023-11-20T12:52:30.372Z"
   },
   {
    "duration": 10,
    "start_time": "2023-11-20T12:53:02.611Z"
   },
   {
    "duration": 3,
    "start_time": "2023-11-20T12:53:11.059Z"
   },
   {
    "duration": 8,
    "start_time": "2023-11-20T12:53:53.743Z"
   },
   {
    "duration": 8,
    "start_time": "2023-11-20T12:53:59.787Z"
   },
   {
    "duration": 9,
    "start_time": "2023-11-20T12:54:02.170Z"
   },
   {
    "duration": 8,
    "start_time": "2023-11-20T12:54:10.709Z"
   },
   {
    "duration": 5,
    "start_time": "2023-11-20T12:54:17.931Z"
   },
   {
    "duration": 3,
    "start_time": "2023-11-20T12:55:56.634Z"
   },
   {
    "duration": 3,
    "start_time": "2023-11-20T12:56:16.367Z"
   },
   {
    "duration": 2,
    "start_time": "2023-11-20T12:56:33.595Z"
   },
   {
    "duration": 78,
    "start_time": "2023-11-20T12:56:33.598Z"
   },
   {
    "duration": 13,
    "start_time": "2023-11-20T12:56:33.677Z"
   },
   {
    "duration": 15,
    "start_time": "2023-11-20T12:56:33.691Z"
   },
   {
    "duration": 8,
    "start_time": "2023-11-20T12:56:33.707Z"
   },
   {
    "duration": 9,
    "start_time": "2023-11-20T12:56:33.716Z"
   },
   {
    "duration": 4,
    "start_time": "2023-11-20T12:56:33.726Z"
   },
   {
    "duration": 11,
    "start_time": "2023-11-20T12:56:33.731Z"
   },
   {
    "duration": 39,
    "start_time": "2023-11-20T12:56:33.744Z"
   },
   {
    "duration": 5,
    "start_time": "2023-11-20T12:56:33.784Z"
   },
   {
    "duration": 4,
    "start_time": "2023-11-20T12:57:12.910Z"
   },
   {
    "duration": 4,
    "start_time": "2023-11-20T12:57:21.058Z"
   },
   {
    "duration": 1655,
    "start_time": "2023-11-20T12:58:08.435Z"
   },
   {
    "duration": 5,
    "start_time": "2023-11-20T12:58:18.517Z"
   },
   {
    "duration": 9,
    "start_time": "2023-11-20T12:58:27.710Z"
   },
   {
    "duration": 12,
    "start_time": "2023-11-20T13:01:09.059Z"
   },
   {
    "duration": 9,
    "start_time": "2023-11-20T13:02:06.777Z"
   },
   {
    "duration": 14,
    "start_time": "2023-11-20T13:02:12.133Z"
   },
   {
    "duration": 3,
    "start_time": "2023-11-20T13:02:15.864Z"
   },
   {
    "duration": 69,
    "start_time": "2023-11-20T13:02:15.869Z"
   },
   {
    "duration": 14,
    "start_time": "2023-11-20T13:02:15.940Z"
   },
   {
    "duration": 41,
    "start_time": "2023-11-20T13:02:15.955Z"
   },
   {
    "duration": 9,
    "start_time": "2023-11-20T13:02:15.999Z"
   },
   {
    "duration": 18,
    "start_time": "2023-11-20T13:02:16.009Z"
   },
   {
    "duration": 17,
    "start_time": "2023-11-20T13:02:16.029Z"
   },
   {
    "duration": 13,
    "start_time": "2023-11-20T13:02:16.048Z"
   },
   {
    "duration": 24,
    "start_time": "2023-11-20T13:02:16.063Z"
   },
   {
    "duration": 20,
    "start_time": "2023-11-20T13:02:16.088Z"
   },
   {
    "duration": 22,
    "start_time": "2023-11-20T13:02:16.110Z"
   },
   {
    "duration": 46,
    "start_time": "2023-11-20T13:02:16.134Z"
   },
   {
    "duration": 5,
    "start_time": "2023-11-20T13:02:34.262Z"
   },
   {
    "duration": 10,
    "start_time": "2023-11-20T13:02:35.637Z"
   },
   {
    "duration": 13,
    "start_time": "2023-11-20T13:02:36.088Z"
   },
   {
    "duration": 25,
    "start_time": "2023-11-20T13:02:45.151Z"
   },
   {
    "duration": 24,
    "start_time": "2023-11-20T13:02:52.970Z"
   },
   {
    "duration": 16,
    "start_time": "2023-11-20T13:02:58.484Z"
   },
   {
    "duration": 23,
    "start_time": "2023-11-20T13:03:24.318Z"
   },
   {
    "duration": 17,
    "start_time": "2023-11-20T13:03:38.102Z"
   },
   {
    "duration": 17,
    "start_time": "2023-11-20T13:03:47.761Z"
   },
   {
    "duration": 10,
    "start_time": "2023-11-20T13:05:26.788Z"
   },
   {
    "duration": 18,
    "start_time": "2023-11-20T13:24:01.686Z"
   },
   {
    "duration": 49,
    "start_time": "2023-11-20T13:24:11.138Z"
   },
   {
    "duration": 9,
    "start_time": "2023-11-20T13:24:36.251Z"
   },
   {
    "duration": 7,
    "start_time": "2023-11-20T13:24:44.793Z"
   },
   {
    "duration": 16,
    "start_time": "2023-11-20T13:25:02.199Z"
   },
   {
    "duration": 9,
    "start_time": "2023-11-20T13:25:23.030Z"
   },
   {
    "duration": 8,
    "start_time": "2023-11-20T13:25:38.008Z"
   },
   {
    "duration": 395,
    "start_time": "2023-11-20T13:27:30.837Z"
   },
   {
    "duration": 61,
    "start_time": "2023-11-20T13:27:31.234Z"
   },
   {
    "duration": 15,
    "start_time": "2023-11-20T13:27:31.296Z"
   },
   {
    "duration": 54,
    "start_time": "2023-11-20T13:27:31.312Z"
   },
   {
    "duration": 47,
    "start_time": "2023-11-20T13:27:31.368Z"
   },
   {
    "duration": 34,
    "start_time": "2023-11-20T13:27:31.416Z"
   },
   {
    "duration": 37,
    "start_time": "2023-11-20T13:27:31.451Z"
   },
   {
    "duration": 30,
    "start_time": "2023-11-20T13:27:31.489Z"
   },
   {
    "duration": 57,
    "start_time": "2023-11-20T13:27:31.521Z"
   },
   {
    "duration": 35,
    "start_time": "2023-11-20T13:27:31.579Z"
   },
   {
    "duration": 58,
    "start_time": "2023-11-20T13:27:31.615Z"
   },
   {
    "duration": 17,
    "start_time": "2023-11-20T13:27:45.696Z"
   },
   {
    "duration": 801,
    "start_time": "2023-11-20T13:29:40.924Z"
   },
   {
    "duration": 717,
    "start_time": "2023-11-20T13:29:46.483Z"
   },
   {
    "duration": 15,
    "start_time": "2023-11-20T13:29:56.201Z"
   },
   {
    "duration": 807,
    "start_time": "2023-11-20T13:30:49.084Z"
   },
   {
    "duration": 3,
    "start_time": "2023-11-20T13:31:02.002Z"
   },
   {
    "duration": 99,
    "start_time": "2023-11-20T13:31:02.006Z"
   },
   {
    "duration": 16,
    "start_time": "2023-11-20T13:31:02.107Z"
   },
   {
    "duration": 47,
    "start_time": "2023-11-20T13:31:02.124Z"
   },
   {
    "duration": 34,
    "start_time": "2023-11-20T13:31:02.173Z"
   },
   {
    "duration": 34,
    "start_time": "2023-11-20T13:31:02.209Z"
   },
   {
    "duration": 46,
    "start_time": "2023-11-20T13:31:02.245Z"
   },
   {
    "duration": 15,
    "start_time": "2023-11-20T13:31:02.293Z"
   },
   {
    "duration": 18,
    "start_time": "2023-11-20T13:31:02.309Z"
   },
   {
    "duration": 14,
    "start_time": "2023-11-20T13:31:02.328Z"
   },
   {
    "duration": 40,
    "start_time": "2023-11-20T13:31:02.343Z"
   },
   {
    "duration": 19,
    "start_time": "2023-11-20T13:31:28.544Z"
   },
   {
    "duration": 9,
    "start_time": "2023-11-20T13:31:33.521Z"
   },
   {
    "duration": 374,
    "start_time": "2023-11-20T13:31:44.483Z"
   },
   {
    "duration": 360,
    "start_time": "2023-11-20T13:32:02.321Z"
   },
   {
    "duration": 10,
    "start_time": "2023-11-20T13:32:09.949Z"
   },
   {
    "duration": 365,
    "start_time": "2023-11-20T13:32:17.326Z"
   },
   {
    "duration": 10,
    "start_time": "2023-11-20T13:32:59.146Z"
   },
   {
    "duration": 703,
    "start_time": "2023-11-20T13:33:02.079Z"
   },
   {
    "duration": 744,
    "start_time": "2023-11-20T13:33:20.562Z"
   },
   {
    "duration": 731,
    "start_time": "2023-11-20T13:33:27.334Z"
   },
   {
    "duration": 375,
    "start_time": "2023-11-20T13:34:11.600Z"
   },
   {
    "duration": 773,
    "start_time": "2023-11-20T13:35:08.281Z"
   },
   {
    "duration": 819,
    "start_time": "2023-11-20T13:35:20.072Z"
   },
   {
    "duration": 2166,
    "start_time": "2023-11-20T13:35:26.714Z"
   },
   {
    "duration": 2192,
    "start_time": "2023-11-20T13:35:33.744Z"
   },
   {
    "duration": 742,
    "start_time": "2023-11-20T13:35:49.484Z"
   },
   {
    "duration": 3,
    "start_time": "2023-11-20T13:36:06.039Z"
   },
   {
    "duration": 81,
    "start_time": "2023-11-20T13:36:06.043Z"
   },
   {
    "duration": 15,
    "start_time": "2023-11-20T13:36:06.126Z"
   },
   {
    "duration": 29,
    "start_time": "2023-11-20T13:36:06.142Z"
   },
   {
    "duration": 8,
    "start_time": "2023-11-20T13:36:06.174Z"
   },
   {
    "duration": 32,
    "start_time": "2023-11-20T13:36:06.183Z"
   },
   {
    "duration": 26,
    "start_time": "2023-11-20T13:36:06.216Z"
   },
   {
    "duration": 10,
    "start_time": "2023-11-20T13:36:06.244Z"
   },
   {
    "duration": 36,
    "start_time": "2023-11-20T13:36:06.256Z"
   },
   {
    "duration": 5,
    "start_time": "2023-11-20T13:36:06.293Z"
   },
   {
    "duration": 16,
    "start_time": "2023-11-20T13:36:06.300Z"
   },
   {
    "duration": 7,
    "start_time": "2023-11-20T13:36:18.417Z"
   },
   {
    "duration": 7,
    "start_time": "2023-11-20T13:38:28.106Z"
   },
   {
    "duration": 54,
    "start_time": "2023-11-20T13:38:38.804Z"
   },
   {
    "duration": 18,
    "start_time": "2023-11-20T13:38:48.042Z"
   },
   {
    "duration": 14,
    "start_time": "2023-11-20T13:39:01.755Z"
   },
   {
    "duration": 708,
    "start_time": "2023-11-20T13:39:12.281Z"
   },
   {
    "duration": 17,
    "start_time": "2023-11-20T13:39:25.949Z"
   },
   {
    "duration": 701,
    "start_time": "2023-11-20T13:39:34.867Z"
   },
   {
    "duration": 2,
    "start_time": "2023-11-20T13:39:47.983Z"
   },
   {
    "duration": 59,
    "start_time": "2023-11-20T13:39:47.988Z"
   },
   {
    "duration": 12,
    "start_time": "2023-11-20T13:39:48.049Z"
   },
   {
    "duration": 15,
    "start_time": "2023-11-20T13:39:48.062Z"
   },
   {
    "duration": 9,
    "start_time": "2023-11-20T13:39:48.079Z"
   },
   {
    "duration": 16,
    "start_time": "2023-11-20T13:39:48.089Z"
   },
   {
    "duration": 19,
    "start_time": "2023-11-20T13:39:48.107Z"
   },
   {
    "duration": 11,
    "start_time": "2023-11-20T13:39:48.128Z"
   },
   {
    "duration": 33,
    "start_time": "2023-11-20T13:39:48.141Z"
   },
   {
    "duration": 12,
    "start_time": "2023-11-20T13:39:48.176Z"
   },
   {
    "duration": 16,
    "start_time": "2023-11-20T13:39:48.189Z"
   },
   {
    "duration": 8,
    "start_time": "2023-11-20T13:39:54.415Z"
   },
   {
    "duration": 4,
    "start_time": "2023-11-20T13:42:03.384Z"
   },
   {
    "duration": 349,
    "start_time": "2023-11-20T13:42:24.634Z"
   },
   {
    "duration": 58,
    "start_time": "2023-11-20T13:42:24.985Z"
   },
   {
    "duration": 13,
    "start_time": "2023-11-20T13:42:25.045Z"
   },
   {
    "duration": 18,
    "start_time": "2023-11-20T13:42:25.060Z"
   },
   {
    "duration": 8,
    "start_time": "2023-11-20T13:42:25.079Z"
   },
   {
    "duration": 25,
    "start_time": "2023-11-20T13:42:25.088Z"
   },
   {
    "duration": 27,
    "start_time": "2023-11-20T13:42:25.114Z"
   },
   {
    "duration": 16,
    "start_time": "2023-11-20T13:42:25.142Z"
   },
   {
    "duration": 32,
    "start_time": "2023-11-20T13:42:25.159Z"
   },
   {
    "duration": 5,
    "start_time": "2023-11-20T13:42:25.193Z"
   },
   {
    "duration": 17,
    "start_time": "2023-11-20T13:42:25.199Z"
   },
   {
    "duration": 10,
    "start_time": "2023-11-20T13:42:25.218Z"
   },
   {
    "duration": 13,
    "start_time": "2023-11-20T13:42:32.587Z"
   },
   {
    "duration": 12,
    "start_time": "2023-11-20T13:42:38.178Z"
   },
   {
    "duration": 4,
    "start_time": "2023-11-20T13:43:09.549Z"
   },
   {
    "duration": 6,
    "start_time": "2023-11-20T13:49:21.270Z"
   },
   {
    "duration": 7,
    "start_time": "2023-11-20T13:49:30.765Z"
   },
   {
    "duration": 9,
    "start_time": "2023-11-20T13:49:49.061Z"
   },
   {
    "duration": 49,
    "start_time": "2023-11-20T16:03:52.916Z"
   },
   {
    "duration": 419,
    "start_time": "2023-11-20T16:03:58.113Z"
   },
   {
    "duration": 197,
    "start_time": "2023-11-20T16:03:58.534Z"
   },
   {
    "duration": 15,
    "start_time": "2023-11-20T16:03:58.732Z"
   },
   {
    "duration": 16,
    "start_time": "2023-11-20T16:03:58.749Z"
   },
   {
    "duration": 7,
    "start_time": "2023-11-20T16:03:58.767Z"
   },
   {
    "duration": 10,
    "start_time": "2023-11-20T16:03:58.776Z"
   },
   {
    "duration": 9,
    "start_time": "2023-11-20T16:03:58.788Z"
   },
   {
    "duration": 40,
    "start_time": "2023-11-20T16:03:58.798Z"
   },
   {
    "duration": 15,
    "start_time": "2023-11-20T16:03:58.839Z"
   },
   {
    "duration": 5,
    "start_time": "2023-11-20T16:03:58.855Z"
   },
   {
    "duration": 10,
    "start_time": "2023-11-20T16:03:58.861Z"
   },
   {
    "duration": 4,
    "start_time": "2023-11-20T16:03:58.872Z"
   },
   {
    "duration": 11,
    "start_time": "2023-11-20T16:03:58.878Z"
   },
   {
    "duration": 5,
    "start_time": "2023-11-20T16:07:28.424Z"
   },
   {
    "duration": 374,
    "start_time": "2023-11-20T16:07:34.857Z"
   },
   {
    "duration": 60,
    "start_time": "2023-11-20T16:07:35.232Z"
   },
   {
    "duration": 14,
    "start_time": "2023-11-20T16:07:35.294Z"
   },
   {
    "duration": 1642,
    "start_time": "2023-11-20T16:07:35.310Z"
   },
   {
    "duration": 0,
    "start_time": "2023-11-20T16:07:36.954Z"
   },
   {
    "duration": 0,
    "start_time": "2023-11-20T16:07:36.955Z"
   },
   {
    "duration": 0,
    "start_time": "2023-11-20T16:07:36.956Z"
   },
   {
    "duration": 0,
    "start_time": "2023-11-20T16:07:36.958Z"
   },
   {
    "duration": 0,
    "start_time": "2023-11-20T16:07:36.958Z"
   },
   {
    "duration": 0,
    "start_time": "2023-11-20T16:07:36.960Z"
   },
   {
    "duration": 0,
    "start_time": "2023-11-20T16:07:36.960Z"
   },
   {
    "duration": 0,
    "start_time": "2023-11-20T16:07:36.962Z"
   },
   {
    "duration": 0,
    "start_time": "2023-11-20T16:07:36.963Z"
   },
   {
    "duration": 1817,
    "start_time": "2023-11-20T16:07:44.336Z"
   },
   {
    "duration": 4,
    "start_time": "2023-11-20T16:07:58.267Z"
   },
   {
    "duration": 1489,
    "start_time": "2023-11-20T16:09:30.461Z"
   },
   {
    "duration": 378,
    "start_time": "2023-11-20T16:09:36.658Z"
   },
   {
    "duration": 61,
    "start_time": "2023-11-20T16:09:37.037Z"
   },
   {
    "duration": 14,
    "start_time": "2023-11-20T16:09:37.100Z"
   },
   {
    "duration": 20,
    "start_time": "2023-11-20T16:09:37.115Z"
   },
   {
    "duration": 8,
    "start_time": "2023-11-20T16:09:37.137Z"
   },
   {
    "duration": 17,
    "start_time": "2023-11-20T16:09:37.146Z"
   },
   {
    "duration": 14,
    "start_time": "2023-11-20T16:09:37.164Z"
   },
   {
    "duration": 19,
    "start_time": "2023-11-20T16:09:37.179Z"
   },
   {
    "duration": 14,
    "start_time": "2023-11-20T16:09:37.200Z"
   },
   {
    "duration": 33,
    "start_time": "2023-11-20T16:09:37.215Z"
   },
   {
    "duration": 21,
    "start_time": "2023-11-20T16:09:37.250Z"
   },
   {
    "duration": 25,
    "start_time": "2023-11-20T16:09:37.273Z"
   },
   {
    "duration": 34,
    "start_time": "2023-11-20T16:09:37.299Z"
   },
   {
    "duration": 403,
    "start_time": "2023-11-20T16:17:13.645Z"
   },
   {
    "duration": 63,
    "start_time": "2023-11-20T16:17:14.051Z"
   },
   {
    "duration": 14,
    "start_time": "2023-11-20T16:17:14.116Z"
   },
   {
    "duration": 16,
    "start_time": "2023-11-20T16:17:14.132Z"
   },
   {
    "duration": 9,
    "start_time": "2023-11-20T16:17:14.150Z"
   },
   {
    "duration": 9,
    "start_time": "2023-11-20T16:17:14.161Z"
   },
   {
    "duration": 14,
    "start_time": "2023-11-20T16:17:14.172Z"
   },
   {
    "duration": 11,
    "start_time": "2023-11-20T16:17:14.188Z"
   },
   {
    "duration": 31,
    "start_time": "2023-11-20T16:17:14.200Z"
   },
   {
    "duration": 12,
    "start_time": "2023-11-20T16:17:14.233Z"
   },
   {
    "duration": 23,
    "start_time": "2023-11-20T16:17:14.247Z"
   },
   {
    "duration": 17,
    "start_time": "2023-11-20T16:17:14.271Z"
   },
   {
    "duration": 18,
    "start_time": "2023-11-20T16:21:33.896Z"
   },
   {
    "duration": 15,
    "start_time": "2023-11-20T16:21:44.141Z"
   },
   {
    "duration": 4,
    "start_time": "2023-11-20T16:25:41.789Z"
   },
   {
    "duration": 2,
    "start_time": "2023-11-20T16:29:24.533Z"
   },
   {
    "duration": 16,
    "start_time": "2023-11-20T16:29:30.616Z"
   },
   {
    "duration": 4,
    "start_time": "2023-11-20T16:29:39.872Z"
   },
   {
    "duration": 60,
    "start_time": "2023-11-20T16:32:35.896Z"
   },
   {
    "duration": 5,
    "start_time": "2023-11-20T16:32:43.371Z"
   },
   {
    "duration": 17,
    "start_time": "2023-11-20T16:37:49.159Z"
   },
   {
    "duration": 17,
    "start_time": "2023-11-20T16:37:59.318Z"
   },
   {
    "duration": 23,
    "start_time": "2023-11-20T16:38:17.603Z"
   },
   {
    "duration": 6,
    "start_time": "2023-11-20T16:38:25.486Z"
   },
   {
    "duration": 13,
    "start_time": "2023-11-20T16:39:56.119Z"
   },
   {
    "duration": 795,
    "start_time": "2023-11-20T16:42:53.695Z"
   },
   {
    "duration": 63,
    "start_time": "2023-11-20T16:42:54.493Z"
   },
   {
    "duration": 15,
    "start_time": "2023-11-20T16:42:54.558Z"
   },
   {
    "duration": 20,
    "start_time": "2023-11-20T16:42:54.575Z"
   },
   {
    "duration": 8,
    "start_time": "2023-11-20T16:42:54.598Z"
   },
   {
    "duration": 29,
    "start_time": "2023-11-20T16:42:54.608Z"
   },
   {
    "duration": 9,
    "start_time": "2023-11-20T16:42:54.639Z"
   },
   {
    "duration": 11,
    "start_time": "2023-11-20T16:42:54.650Z"
   },
   {
    "duration": 5,
    "start_time": "2023-11-20T16:42:54.662Z"
   },
   {
    "duration": 12,
    "start_time": "2023-11-20T16:42:54.668Z"
   },
   {
    "duration": 4,
    "start_time": "2023-11-20T16:42:54.681Z"
   },
   {
    "duration": 43,
    "start_time": "2023-11-20T16:42:54.687Z"
   },
   {
    "duration": 5,
    "start_time": "2023-11-20T16:42:54.732Z"
   },
   {
    "duration": 6,
    "start_time": "2023-11-20T16:42:54.740Z"
   },
   {
    "duration": 12,
    "start_time": "2023-11-20T16:42:54.747Z"
   },
   {
    "duration": 12,
    "start_time": "2023-11-20T16:42:54.761Z"
   },
   {
    "duration": 222,
    "start_time": "2023-11-20T16:42:54.775Z"
   },
   {
    "duration": 15,
    "start_time": "2023-11-20T16:43:53.140Z"
   },
   {
    "duration": 374,
    "start_time": "2023-11-20T16:44:53.662Z"
   },
   {
    "duration": 11,
    "start_time": "2023-11-20T16:45:16.656Z"
   },
   {
    "duration": 11,
    "start_time": "2023-11-20T16:45:29.156Z"
   },
   {
    "duration": 115,
    "start_time": "2023-11-20T16:46:21.834Z"
   },
   {
    "duration": 115,
    "start_time": "2023-11-20T16:48:27.801Z"
   },
   {
    "duration": 1881,
    "start_time": "2023-11-20T16:49:17.759Z"
   },
   {
    "duration": 224,
    "start_time": "2023-11-20T16:49:29.996Z"
   },
   {
    "duration": 153,
    "start_time": "2023-11-20T16:49:39.597Z"
   },
   {
    "duration": 170,
    "start_time": "2023-11-20T16:50:14.119Z"
   },
   {
    "duration": 129,
    "start_time": "2023-11-20T16:50:39.416Z"
   },
   {
    "duration": 150,
    "start_time": "2023-11-20T16:50:49.712Z"
   },
   {
    "duration": 150,
    "start_time": "2023-11-20T16:50:56.082Z"
   },
   {
    "duration": 158,
    "start_time": "2023-11-20T16:51:31.148Z"
   },
   {
    "duration": 4,
    "start_time": "2023-11-20T16:51:33.401Z"
   },
   {
    "duration": 61,
    "start_time": "2023-11-20T16:51:33.407Z"
   },
   {
    "duration": 14,
    "start_time": "2023-11-20T16:51:33.470Z"
   },
   {
    "duration": 14,
    "start_time": "2023-11-20T16:51:33.485Z"
   },
   {
    "duration": 9,
    "start_time": "2023-11-20T16:51:33.501Z"
   },
   {
    "duration": 25,
    "start_time": "2023-11-20T16:51:33.512Z"
   },
   {
    "duration": 33,
    "start_time": "2023-11-20T16:51:33.539Z"
   },
   {
    "duration": 11,
    "start_time": "2023-11-20T16:51:33.574Z"
   },
   {
    "duration": 9,
    "start_time": "2023-11-20T16:51:33.587Z"
   },
   {
    "duration": 23,
    "start_time": "2023-11-20T16:51:33.597Z"
   },
   {
    "duration": 14,
    "start_time": "2023-11-20T16:51:33.622Z"
   },
   {
    "duration": 21,
    "start_time": "2023-11-20T16:51:33.638Z"
   },
   {
    "duration": 4,
    "start_time": "2023-11-20T16:51:33.661Z"
   },
   {
    "duration": 8,
    "start_time": "2023-11-20T16:51:33.667Z"
   },
   {
    "duration": 13,
    "start_time": "2023-11-20T16:51:33.676Z"
   },
   {
    "duration": 14,
    "start_time": "2023-11-20T16:51:33.691Z"
   },
   {
    "duration": 187,
    "start_time": "2023-11-20T16:51:33.707Z"
   },
   {
    "duration": 169,
    "start_time": "2023-11-20T16:51:52.677Z"
   },
   {
    "duration": 1461,
    "start_time": "2023-11-20T16:52:05.425Z"
   },
   {
    "duration": 180,
    "start_time": "2023-11-20T16:52:17.619Z"
   },
   {
    "duration": 633,
    "start_time": "2023-11-20T16:52:25.761Z"
   },
   {
    "duration": 60,
    "start_time": "2023-11-20T16:52:26.396Z"
   },
   {
    "duration": 14,
    "start_time": "2023-11-20T16:52:26.457Z"
   },
   {
    "duration": 14,
    "start_time": "2023-11-20T16:52:26.472Z"
   },
   {
    "duration": 8,
    "start_time": "2023-11-20T16:52:26.488Z"
   },
   {
    "duration": 34,
    "start_time": "2023-11-20T16:52:26.498Z"
   },
   {
    "duration": 9,
    "start_time": "2023-11-20T16:52:26.534Z"
   },
   {
    "duration": 12,
    "start_time": "2023-11-20T16:52:26.545Z"
   },
   {
    "duration": 5,
    "start_time": "2023-11-20T16:52:26.559Z"
   },
   {
    "duration": 19,
    "start_time": "2023-11-20T16:52:26.565Z"
   },
   {
    "duration": 18,
    "start_time": "2023-11-20T16:52:26.586Z"
   },
   {
    "duration": 21,
    "start_time": "2023-11-20T16:52:26.606Z"
   },
   {
    "duration": 4,
    "start_time": "2023-11-20T16:52:26.631Z"
   },
   {
    "duration": 12,
    "start_time": "2023-11-20T16:52:26.637Z"
   },
   {
    "duration": 13,
    "start_time": "2023-11-20T16:52:26.651Z"
   },
   {
    "duration": 14,
    "start_time": "2023-11-20T16:52:26.666Z"
   },
   {
    "duration": 181,
    "start_time": "2023-11-20T16:52:26.681Z"
   },
   {
    "duration": 10,
    "start_time": "2023-11-20T17:07:02.102Z"
   },
   {
    "duration": 160,
    "start_time": "2023-11-20T17:08:03.429Z"
   },
   {
    "duration": 191,
    "start_time": "2023-11-20T17:08:29.280Z"
   },
   {
    "duration": 127,
    "start_time": "2023-11-20T17:08:36.952Z"
   },
   {
    "duration": 183,
    "start_time": "2023-11-20T17:08:54.498Z"
   },
   {
    "duration": 124,
    "start_time": "2023-11-20T17:09:09.318Z"
   },
   {
    "duration": 289,
    "start_time": "2023-11-20T17:10:00.482Z"
   },
   {
    "duration": 280,
    "start_time": "2023-11-20T17:10:47.203Z"
   },
   {
    "duration": 282,
    "start_time": "2023-11-20T17:11:08.316Z"
   },
   {
    "duration": 336,
    "start_time": "2023-11-20T17:11:16.042Z"
   },
   {
    "duration": 12,
    "start_time": "2023-11-20T18:50:49.546Z"
   },
   {
    "duration": 9,
    "start_time": "2023-11-20T18:51:09.312Z"
   },
   {
    "duration": 4920,
    "start_time": "2023-11-20T18:51:19.595Z"
   },
   {
    "duration": 4693,
    "start_time": "2023-11-20T18:51:32.929Z"
   },
   {
    "duration": 5198,
    "start_time": "2023-11-20T18:52:16.582Z"
   },
   {
    "duration": 9,
    "start_time": "2023-11-20T19:24:29.205Z"
   },
   {
    "duration": 13,
    "start_time": "2023-11-20T19:24:38.056Z"
   },
   {
    "duration": 19,
    "start_time": "2023-11-20T19:25:06.124Z"
   },
   {
    "duration": 811,
    "start_time": "2023-11-22T10:54:22.353Z"
   },
   {
    "duration": 196,
    "start_time": "2023-11-22T10:54:23.166Z"
   },
   {
    "duration": 14,
    "start_time": "2023-11-22T10:54:23.364Z"
   },
   {
    "duration": 25,
    "start_time": "2023-11-22T10:54:23.380Z"
   },
   {
    "duration": 8,
    "start_time": "2023-11-22T10:54:23.407Z"
   },
   {
    "duration": 21,
    "start_time": "2023-11-22T10:54:23.417Z"
   },
   {
    "duration": 14,
    "start_time": "2023-11-22T10:54:23.440Z"
   },
   {
    "duration": 12,
    "start_time": "2023-11-22T10:54:23.455Z"
   },
   {
    "duration": 5,
    "start_time": "2023-11-22T10:54:23.468Z"
   },
   {
    "duration": 13,
    "start_time": "2023-11-22T10:54:23.476Z"
   },
   {
    "duration": 7,
    "start_time": "2023-11-22T10:54:23.491Z"
   },
   {
    "duration": 26,
    "start_time": "2023-11-22T10:54:23.500Z"
   },
   {
    "duration": 5,
    "start_time": "2023-11-22T10:54:23.527Z"
   },
   {
    "duration": 29,
    "start_time": "2023-11-22T10:54:23.533Z"
   },
   {
    "duration": 22,
    "start_time": "2023-11-22T10:54:23.564Z"
   },
   {
    "duration": 20,
    "start_time": "2023-11-22T10:54:23.588Z"
   },
   {
    "duration": 179,
    "start_time": "2023-11-22T10:54:23.609Z"
   },
   {
    "duration": 343,
    "start_time": "2023-11-22T10:54:23.789Z"
   },
   {
    "duration": 5375,
    "start_time": "2023-11-22T10:54:24.134Z"
   },
   {
    "duration": 26,
    "start_time": "2023-11-22T10:54:29.511Z"
   },
   {
    "duration": 15,
    "start_time": "2023-11-22T10:54:40.330Z"
   },
   {
    "duration": 15,
    "start_time": "2023-11-22T10:59:20.312Z"
   },
   {
    "duration": 16,
    "start_time": "2023-11-22T11:00:38.519Z"
   },
   {
    "duration": 16,
    "start_time": "2023-11-22T11:00:46.611Z"
   },
   {
    "duration": 125,
    "start_time": "2023-11-22T11:12:54.719Z"
   },
   {
    "duration": 83,
    "start_time": "2023-11-22T11:13:00.659Z"
   },
   {
    "duration": 13,
    "start_time": "2023-11-22T11:13:11.795Z"
   },
   {
    "duration": 8,
    "start_time": "2023-11-22T11:13:25.938Z"
   },
   {
    "duration": 11,
    "start_time": "2023-11-22T11:13:40.159Z"
   },
   {
    "duration": 9,
    "start_time": "2023-11-22T11:13:55.913Z"
   },
   {
    "duration": 9,
    "start_time": "2023-11-22T11:17:30.443Z"
   },
   {
    "duration": 10,
    "start_time": "2023-11-22T11:17:43.172Z"
   },
   {
    "duration": 9,
    "start_time": "2023-11-22T11:17:51.517Z"
   },
   {
    "duration": 8,
    "start_time": "2023-11-22T11:57:51.251Z"
   },
   {
    "duration": 119,
    "start_time": "2023-11-22T11:58:06.235Z"
   },
   {
    "duration": 105,
    "start_time": "2023-11-22T11:58:31.458Z"
   },
   {
    "duration": 4,
    "start_time": "2023-11-22T11:59:15.213Z"
   },
   {
    "duration": 103,
    "start_time": "2023-11-22T12:00:43.625Z"
   },
   {
    "duration": 295,
    "start_time": "2023-11-22T12:07:34.066Z"
   },
   {
    "duration": 9,
    "start_time": "2023-11-22T12:10:31.321Z"
   },
   {
    "duration": 9,
    "start_time": "2023-11-22T12:10:37.499Z"
   },
   {
    "duration": 221,
    "start_time": "2023-11-22T12:10:49.720Z"
   },
   {
    "duration": 517,
    "start_time": "2023-11-22T12:14:34.475Z"
   },
   {
    "duration": 479,
    "start_time": "2023-11-22T12:14:52.330Z"
   },
   {
    "duration": 548,
    "start_time": "2023-11-22T12:14:58.424Z"
   },
   {
    "duration": 515,
    "start_time": "2023-11-22T12:15:11.526Z"
   },
   {
    "duration": 533,
    "start_time": "2023-11-22T12:15:20.160Z"
   },
   {
    "duration": 611,
    "start_time": "2023-11-22T12:15:28.916Z"
   },
   {
    "duration": 533,
    "start_time": "2023-11-22T12:15:52.967Z"
   },
   {
    "duration": 640,
    "start_time": "2023-11-22T12:18:21.585Z"
   },
   {
    "duration": 516,
    "start_time": "2023-11-22T12:18:27.010Z"
   },
   {
    "duration": 559,
    "start_time": "2023-11-22T12:20:46.084Z"
   },
   {
    "duration": 622,
    "start_time": "2023-11-22T12:20:52.493Z"
   },
   {
    "duration": 513,
    "start_time": "2023-11-22T12:21:09.709Z"
   },
   {
    "duration": 494,
    "start_time": "2023-11-22T12:21:17.897Z"
   },
   {
    "duration": 619,
    "start_time": "2023-11-22T12:21:25.250Z"
   },
   {
    "duration": 549,
    "start_time": "2023-11-22T12:21:31.387Z"
   },
   {
    "duration": 65,
    "start_time": "2023-11-22T13:28:32.146Z"
   },
   {
    "duration": 52,
    "start_time": "2023-11-22T13:28:45.472Z"
   },
   {
    "duration": 17,
    "start_time": "2023-11-22T13:29:11.009Z"
   },
   {
    "duration": 6,
    "start_time": "2023-11-22T13:30:19.009Z"
   },
   {
    "duration": 27,
    "start_time": "2023-11-22T13:30:27.561Z"
   },
   {
    "duration": 9,
    "start_time": "2023-11-22T13:30:44.441Z"
   },
   {
    "duration": 8,
    "start_time": "2023-11-22T13:31:03.190Z"
   },
   {
    "duration": 244,
    "start_time": "2023-11-22T13:31:17.489Z"
   },
   {
    "duration": 207,
    "start_time": "2023-11-22T13:31:27.645Z"
   },
   {
    "duration": 191,
    "start_time": "2023-11-22T13:31:35.688Z"
   },
   {
    "duration": 182,
    "start_time": "2023-11-22T13:31:43.810Z"
   },
   {
    "duration": 334,
    "start_time": "2023-11-22T13:31:59.024Z"
   },
   {
    "duration": 235,
    "start_time": "2023-11-22T13:32:06.527Z"
   },
   {
    "duration": 247,
    "start_time": "2023-11-22T13:47:41.803Z"
   },
   {
    "duration": 231,
    "start_time": "2023-11-22T13:47:57.951Z"
   },
   {
    "duration": 239,
    "start_time": "2023-11-22T13:48:57.942Z"
   },
   {
    "duration": 189,
    "start_time": "2023-11-22T13:49:07.175Z"
   },
   {
    "duration": 142,
    "start_time": "2023-11-22T13:49:14.453Z"
   },
   {
    "duration": 146,
    "start_time": "2023-11-22T13:51:52.987Z"
   },
   {
    "duration": 135,
    "start_time": "2023-11-22T13:52:13.169Z"
   },
   {
    "duration": 2,
    "start_time": "2023-11-22T13:52:23.818Z"
   },
   {
    "duration": 78,
    "start_time": "2023-11-22T13:52:23.822Z"
   },
   {
    "duration": 14,
    "start_time": "2023-11-22T13:52:23.901Z"
   },
   {
    "duration": 22,
    "start_time": "2023-11-22T13:52:23.917Z"
   },
   {
    "duration": 13,
    "start_time": "2023-11-22T13:52:23.941Z"
   },
   {
    "duration": 20,
    "start_time": "2023-11-22T13:52:23.956Z"
   },
   {
    "duration": 52,
    "start_time": "2023-11-22T13:52:23.978Z"
   },
   {
    "duration": 49,
    "start_time": "2023-11-22T13:52:24.032Z"
   },
   {
    "duration": 6,
    "start_time": "2023-11-22T13:52:24.082Z"
   },
   {
    "duration": 43,
    "start_time": "2023-11-22T13:52:24.089Z"
   },
   {
    "duration": 29,
    "start_time": "2023-11-22T13:52:24.135Z"
   },
   {
    "duration": 28,
    "start_time": "2023-11-22T13:52:24.166Z"
   },
   {
    "duration": 23,
    "start_time": "2023-11-22T13:52:24.196Z"
   },
   {
    "duration": 11,
    "start_time": "2023-11-22T13:52:24.221Z"
   },
   {
    "duration": 15,
    "start_time": "2023-11-22T13:52:24.234Z"
   },
   {
    "duration": 12,
    "start_time": "2023-11-22T13:52:24.251Z"
   },
   {
    "duration": 171,
    "start_time": "2023-11-22T13:52:24.264Z"
   },
   {
    "duration": 355,
    "start_time": "2023-11-22T13:52:24.436Z"
   },
   {
    "duration": 5456,
    "start_time": "2023-11-22T13:52:24.794Z"
   },
   {
    "duration": 15,
    "start_time": "2023-11-22T13:52:30.251Z"
   },
   {
    "duration": 205,
    "start_time": "2023-11-22T13:52:30.268Z"
   },
   {
    "duration": 173,
    "start_time": "2023-11-22T13:52:30.474Z"
   },
   {
    "duration": 251,
    "start_time": "2023-11-22T13:52:46.886Z"
   },
   {
    "duration": 135,
    "start_time": "2023-11-22T13:53:09.573Z"
   },
   {
    "duration": 140,
    "start_time": "2023-11-22T13:53:54.662Z"
   },
   {
    "duration": 143,
    "start_time": "2023-11-22T13:54:28.492Z"
   },
   {
    "duration": 141,
    "start_time": "2023-11-22T13:54:35.468Z"
   },
   {
    "duration": 138,
    "start_time": "2023-11-22T13:55:03.945Z"
   },
   {
    "duration": 4,
    "start_time": "2023-11-22T14:01:49.996Z"
   },
   {
    "duration": 88,
    "start_time": "2023-11-22T14:01:50.001Z"
   },
   {
    "duration": 15,
    "start_time": "2023-11-22T14:01:50.091Z"
   },
   {
    "duration": 24,
    "start_time": "2023-11-22T14:01:50.107Z"
   },
   {
    "duration": 10,
    "start_time": "2023-11-22T14:01:50.133Z"
   },
   {
    "duration": 24,
    "start_time": "2023-11-22T14:01:50.144Z"
   },
   {
    "duration": 35,
    "start_time": "2023-11-22T14:01:50.170Z"
   },
   {
    "duration": 11,
    "start_time": "2023-11-22T14:01:50.207Z"
   },
   {
    "duration": 6,
    "start_time": "2023-11-22T14:01:50.220Z"
   },
   {
    "duration": 23,
    "start_time": "2023-11-22T14:01:50.227Z"
   },
   {
    "duration": 21,
    "start_time": "2023-11-22T14:01:50.253Z"
   },
   {
    "duration": 34,
    "start_time": "2023-11-22T14:01:50.276Z"
   },
   {
    "duration": 6,
    "start_time": "2023-11-22T14:01:50.312Z"
   },
   {
    "duration": 7,
    "start_time": "2023-11-22T14:01:50.322Z"
   },
   {
    "duration": 27,
    "start_time": "2023-11-22T14:01:50.331Z"
   },
   {
    "duration": 22,
    "start_time": "2023-11-22T14:01:50.359Z"
   },
   {
    "duration": 175,
    "start_time": "2023-11-22T14:01:50.382Z"
   },
   {
    "duration": 349,
    "start_time": "2023-11-22T14:01:50.559Z"
   },
   {
    "duration": 5544,
    "start_time": "2023-11-22T14:01:50.910Z"
   },
   {
    "duration": 16,
    "start_time": "2023-11-22T14:01:56.456Z"
   },
   {
    "duration": 20,
    "start_time": "2023-11-22T14:01:56.474Z"
   },
   {
    "duration": 170,
    "start_time": "2023-11-22T14:01:56.495Z"
   },
   {
    "duration": 141,
    "start_time": "2023-11-22T14:01:56.667Z"
   },
   {
    "duration": 153,
    "start_time": "2023-11-22T14:01:56.810Z"
   },
   {
    "duration": 148,
    "start_time": "2023-11-22T14:01:56.965Z"
   },
   {
    "duration": 143,
    "start_time": "2023-11-22T14:01:57.114Z"
   },
   {
    "duration": 11,
    "start_time": "2023-11-22T15:22:19.821Z"
   },
   {
    "duration": 10,
    "start_time": "2023-11-22T15:22:39.373Z"
   },
   {
    "duration": 12,
    "start_time": "2023-11-22T15:23:04.548Z"
   },
   {
    "duration": 3,
    "start_time": "2023-11-22T15:23:09.481Z"
   },
   {
    "duration": 7,
    "start_time": "2023-11-22T15:25:42.432Z"
   },
   {
    "duration": 4,
    "start_time": "2023-11-22T15:25:54.730Z"
   },
   {
    "duration": 10,
    "start_time": "2023-11-22T15:28:05.939Z"
   },
   {
    "duration": 202,
    "start_time": "2023-11-22T15:31:50.876Z"
   },
   {
    "duration": 194,
    "start_time": "2023-11-22T15:33:04.575Z"
   },
   {
    "duration": 105,
    "start_time": "2023-11-22T15:33:09.055Z"
   },
   {
    "duration": 196,
    "start_time": "2023-11-22T15:33:12.933Z"
   },
   {
    "duration": 298,
    "start_time": "2023-11-22T15:33:22.087Z"
   },
   {
    "duration": 205,
    "start_time": "2023-11-22T15:33:59.474Z"
   },
   {
    "duration": 199,
    "start_time": "2023-11-22T15:34:27.553Z"
   },
   {
    "duration": 160,
    "start_time": "2023-11-22T15:34:32.528Z"
   },
   {
    "duration": 167,
    "start_time": "2023-11-22T15:34:37.710Z"
   },
   {
    "duration": 176,
    "start_time": "2023-11-22T15:40:01.654Z"
   },
   {
    "duration": 164,
    "start_time": "2023-11-22T15:40:26.953Z"
   },
   {
    "duration": 158,
    "start_time": "2023-11-22T15:41:20.262Z"
   },
   {
    "duration": 174,
    "start_time": "2023-11-22T15:41:30.240Z"
   },
   {
    "duration": 172,
    "start_time": "2023-11-22T15:57:00.555Z"
   },
   {
    "duration": 174,
    "start_time": "2023-11-22T15:57:09.166Z"
   },
   {
    "duration": 172,
    "start_time": "2023-11-22T15:57:19.930Z"
   },
   {
    "duration": 172,
    "start_time": "2023-11-22T15:57:25.969Z"
   },
   {
    "duration": 169,
    "start_time": "2023-11-22T15:57:34.866Z"
   },
   {
    "duration": 728,
    "start_time": "2023-11-22T17:47:36.001Z"
   },
   {
    "duration": 117,
    "start_time": "2023-11-22T17:47:36.731Z"
   },
   {
    "duration": 15,
    "start_time": "2023-11-22T17:47:36.850Z"
   },
   {
    "duration": 15,
    "start_time": "2023-11-22T17:47:36.867Z"
   },
   {
    "duration": 8,
    "start_time": "2023-11-22T17:47:36.883Z"
   },
   {
    "duration": 10,
    "start_time": "2023-11-22T17:47:36.893Z"
   },
   {
    "duration": 10,
    "start_time": "2023-11-22T17:47:36.904Z"
   },
   {
    "duration": 44,
    "start_time": "2023-11-22T17:47:36.915Z"
   },
   {
    "duration": 5,
    "start_time": "2023-11-22T17:47:36.960Z"
   },
   {
    "duration": 7,
    "start_time": "2023-11-22T17:47:36.967Z"
   },
   {
    "duration": 4,
    "start_time": "2023-11-22T17:47:36.975Z"
   },
   {
    "duration": 18,
    "start_time": "2023-11-22T17:47:36.980Z"
   },
   {
    "duration": 5,
    "start_time": "2023-11-22T17:47:36.999Z"
   },
   {
    "duration": 8,
    "start_time": "2023-11-22T17:47:37.005Z"
   },
   {
    "duration": 40,
    "start_time": "2023-11-22T17:47:37.015Z"
   },
   {
    "duration": 13,
    "start_time": "2023-11-22T17:47:37.057Z"
   },
   {
    "duration": 213,
    "start_time": "2023-11-22T17:47:37.072Z"
   },
   {
    "duration": 343,
    "start_time": "2023-11-22T17:47:37.287Z"
   },
   {
    "duration": 4824,
    "start_time": "2023-11-22T17:47:37.632Z"
   },
   {
    "duration": 13,
    "start_time": "2023-11-22T17:47:42.458Z"
   },
   {
    "duration": 8,
    "start_time": "2023-11-22T17:47:42.473Z"
   },
   {
    "duration": 139,
    "start_time": "2023-11-22T17:47:42.482Z"
   },
   {
    "duration": 117,
    "start_time": "2023-11-22T17:47:42.622Z"
   },
   {
    "duration": 148,
    "start_time": "2023-11-22T17:47:42.740Z"
   },
   {
    "duration": 177,
    "start_time": "2023-11-22T17:47:42.890Z"
   },
   {
    "duration": 126,
    "start_time": "2023-11-22T17:47:43.068Z"
   },
   {
    "duration": 3,
    "start_time": "2023-11-22T17:47:43.196Z"
   },
   {
    "duration": 170,
    "start_time": "2023-11-22T17:47:43.202Z"
   },
   {
    "duration": 7,
    "start_time": "2023-11-22T18:08:25.427Z"
   },
   {
    "duration": 71,
    "start_time": "2023-11-22T18:08:47.168Z"
   },
   {
    "duration": 1336,
    "start_time": "2023-11-22T18:08:54.511Z"
   },
   {
    "duration": 1774,
    "start_time": "2023-11-22T18:11:20.273Z"
   },
   {
    "duration": 5,
    "start_time": "2023-11-22T18:11:56.072Z"
   },
   {
    "duration": 262,
    "start_time": "2023-11-22T18:11:57.048Z"
   },
   {
    "duration": 4,
    "start_time": "2023-11-22T18:12:14.788Z"
   },
   {
    "duration": 157,
    "start_time": "2023-11-22T18:12:16.386Z"
   },
   {
    "duration": 4,
    "start_time": "2023-11-22T18:12:32.700Z"
   },
   {
    "duration": 137,
    "start_time": "2023-11-22T18:12:33.247Z"
   },
   {
    "duration": 4,
    "start_time": "2023-11-22T18:14:20.342Z"
   },
   {
    "duration": 180,
    "start_time": "2023-11-22T18:14:22.795Z"
   },
   {
    "duration": 6,
    "start_time": "2023-11-22T18:14:41.259Z"
   },
   {
    "duration": 180,
    "start_time": "2023-11-22T18:14:41.784Z"
   },
   {
    "duration": 4,
    "start_time": "2023-11-22T18:14:51.561Z"
   },
   {
    "duration": 154,
    "start_time": "2023-11-22T18:14:52.491Z"
   },
   {
    "duration": 4,
    "start_time": "2023-11-22T18:15:01.609Z"
   },
   {
    "duration": 208,
    "start_time": "2023-11-22T18:15:02.039Z"
   },
   {
    "duration": 4,
    "start_time": "2023-11-22T18:16:30.533Z"
   },
   {
    "duration": 193,
    "start_time": "2023-11-22T18:16:31.006Z"
   },
   {
    "duration": 5,
    "start_time": "2023-11-22T18:16:40.600Z"
   },
   {
    "duration": 186,
    "start_time": "2023-11-22T18:16:40.984Z"
   },
   {
    "duration": 6,
    "start_time": "2023-11-22T18:16:49.219Z"
   },
   {
    "duration": 156,
    "start_time": "2023-11-22T18:16:49.525Z"
   },
   {
    "duration": 2,
    "start_time": "2023-11-22T18:16:55.211Z"
   },
   {
    "duration": 58,
    "start_time": "2023-11-22T18:16:55.215Z"
   },
   {
    "duration": 14,
    "start_time": "2023-11-22T18:16:55.274Z"
   },
   {
    "duration": 16,
    "start_time": "2023-11-22T18:16:55.290Z"
   },
   {
    "duration": 8,
    "start_time": "2023-11-22T18:16:55.308Z"
   },
   {
    "duration": 35,
    "start_time": "2023-11-22T18:16:55.317Z"
   },
   {
    "duration": 8,
    "start_time": "2023-11-22T18:16:55.353Z"
   },
   {
    "duration": 12,
    "start_time": "2023-11-22T18:16:55.362Z"
   },
   {
    "duration": 4,
    "start_time": "2023-11-22T18:16:55.376Z"
   },
   {
    "duration": 9,
    "start_time": "2023-11-22T18:16:55.382Z"
   },
   {
    "duration": 4,
    "start_time": "2023-11-22T18:16:55.393Z"
   },
   {
    "duration": 14,
    "start_time": "2023-11-22T18:16:55.398Z"
   },
   {
    "duration": 4,
    "start_time": "2023-11-22T18:16:55.414Z"
   },
   {
    "duration": 34,
    "start_time": "2023-11-22T18:16:55.421Z"
   },
   {
    "duration": 13,
    "start_time": "2023-11-22T18:16:55.457Z"
   },
   {
    "duration": 13,
    "start_time": "2023-11-22T18:16:55.471Z"
   },
   {
    "duration": 168,
    "start_time": "2023-11-22T18:16:55.486Z"
   },
   {
    "duration": 337,
    "start_time": "2023-11-22T18:16:55.656Z"
   },
   {
    "duration": 4827,
    "start_time": "2023-11-22T18:16:55.995Z"
   },
   {
    "duration": 16,
    "start_time": "2023-11-22T18:17:00.823Z"
   },
   {
    "duration": 44,
    "start_time": "2023-11-22T18:17:00.840Z"
   },
   {
    "duration": 137,
    "start_time": "2023-11-22T18:17:00.886Z"
   },
   {
    "duration": 119,
    "start_time": "2023-11-22T18:17:01.024Z"
   },
   {
    "duration": 131,
    "start_time": "2023-11-22T18:17:01.151Z"
   },
   {
    "duration": 123,
    "start_time": "2023-11-22T18:17:01.284Z"
   },
   {
    "duration": 119,
    "start_time": "2023-11-22T18:17:01.409Z"
   },
   {
    "duration": 3,
    "start_time": "2023-11-22T18:17:01.530Z"
   },
   {
    "duration": 178,
    "start_time": "2023-11-22T18:17:01.535Z"
   },
   {
    "duration": 4,
    "start_time": "2023-11-22T18:17:01.715Z"
   },
   {
    "duration": 260,
    "start_time": "2023-11-22T18:17:01.720Z"
   },
   {
    "duration": 5,
    "start_time": "2023-11-22T18:17:28.034Z"
   },
   {
    "duration": 167,
    "start_time": "2023-11-22T18:17:29.398Z"
   },
   {
    "duration": 643,
    "start_time": "2023-11-22T18:18:45.351Z"
   },
   {
    "duration": 60,
    "start_time": "2023-11-22T18:18:45.995Z"
   },
   {
    "duration": 15,
    "start_time": "2023-11-22T18:18:46.057Z"
   },
   {
    "duration": 15,
    "start_time": "2023-11-22T18:18:46.073Z"
   },
   {
    "duration": 8,
    "start_time": "2023-11-22T18:18:46.090Z"
   },
   {
    "duration": 8,
    "start_time": "2023-11-22T18:18:46.099Z"
   },
   {
    "duration": 47,
    "start_time": "2023-11-22T18:18:46.108Z"
   },
   {
    "duration": 10,
    "start_time": "2023-11-22T18:18:46.156Z"
   },
   {
    "duration": 5,
    "start_time": "2023-11-22T18:18:46.167Z"
   },
   {
    "duration": 10,
    "start_time": "2023-11-22T18:18:46.173Z"
   },
   {
    "duration": 4,
    "start_time": "2023-11-22T18:18:46.184Z"
   },
   {
    "duration": 15,
    "start_time": "2023-11-22T18:18:46.189Z"
   },
   {
    "duration": 4,
    "start_time": "2023-11-22T18:18:46.205Z"
   },
   {
    "duration": 41,
    "start_time": "2023-11-22T18:18:46.211Z"
   },
   {
    "duration": 16,
    "start_time": "2023-11-22T18:18:46.253Z"
   },
   {
    "duration": 13,
    "start_time": "2023-11-22T18:18:46.270Z"
   },
   {
    "duration": 171,
    "start_time": "2023-11-22T18:18:46.284Z"
   },
   {
    "duration": 317,
    "start_time": "2023-11-22T18:18:46.456Z"
   },
   {
    "duration": 4837,
    "start_time": "2023-11-22T18:18:46.775Z"
   },
   {
    "duration": 14,
    "start_time": "2023-11-22T18:18:51.614Z"
   },
   {
    "duration": 24,
    "start_time": "2023-11-22T18:18:51.630Z"
   },
   {
    "duration": 155,
    "start_time": "2023-11-22T18:18:51.656Z"
   },
   {
    "duration": 116,
    "start_time": "2023-11-22T18:18:51.813Z"
   },
   {
    "duration": 132,
    "start_time": "2023-11-22T18:18:51.930Z"
   },
   {
    "duration": 183,
    "start_time": "2023-11-22T18:18:52.063Z"
   },
   {
    "duration": 124,
    "start_time": "2023-11-22T18:18:52.247Z"
   },
   {
    "duration": 3,
    "start_time": "2023-11-22T18:18:52.372Z"
   },
   {
    "duration": 184,
    "start_time": "2023-11-22T18:18:52.377Z"
   },
   {
    "duration": 3,
    "start_time": "2023-11-22T18:18:52.563Z"
   },
   {
    "duration": 178,
    "start_time": "2023-11-22T18:18:52.568Z"
   },
   {
    "duration": 4,
    "start_time": "2023-11-22T18:19:44.711Z"
   },
   {
    "duration": 202,
    "start_time": "2023-11-22T18:19:48.215Z"
   },
   {
    "duration": 6,
    "start_time": "2023-11-22T18:22:39.235Z"
   },
   {
    "duration": 75,
    "start_time": "2023-11-22T18:22:41.836Z"
   },
   {
    "duration": 5,
    "start_time": "2023-11-22T18:23:29.953Z"
   },
   {
    "duration": 1416,
    "start_time": "2023-11-22T18:23:30.525Z"
   },
   {
    "duration": 3,
    "start_time": "2023-11-22T18:23:53.435Z"
   },
   {
    "duration": 197,
    "start_time": "2023-11-22T18:23:54.814Z"
   },
   {
    "duration": 574,
    "start_time": "2023-11-22T18:24:03.272Z"
   },
   {
    "duration": 61,
    "start_time": "2023-11-22T18:24:03.848Z"
   },
   {
    "duration": 14,
    "start_time": "2023-11-22T18:24:03.910Z"
   },
   {
    "duration": 45,
    "start_time": "2023-11-22T18:24:03.925Z"
   },
   {
    "duration": 11,
    "start_time": "2023-11-22T18:24:03.972Z"
   },
   {
    "duration": 30,
    "start_time": "2023-11-22T18:24:03.985Z"
   },
   {
    "duration": 11,
    "start_time": "2023-11-22T18:24:04.016Z"
   },
   {
    "duration": 24,
    "start_time": "2023-11-22T18:24:04.028Z"
   },
   {
    "duration": 7,
    "start_time": "2023-11-22T18:24:04.053Z"
   },
   {
    "duration": 16,
    "start_time": "2023-11-22T18:24:04.061Z"
   },
   {
    "duration": 7,
    "start_time": "2023-11-22T18:24:04.078Z"
   },
   {
    "duration": 19,
    "start_time": "2023-11-22T18:24:04.086Z"
   },
   {
    "duration": 19,
    "start_time": "2023-11-22T18:24:04.106Z"
   },
   {
    "duration": 14,
    "start_time": "2023-11-22T18:24:04.128Z"
   },
   {
    "duration": 18,
    "start_time": "2023-11-22T18:24:04.143Z"
   },
   {
    "duration": 33,
    "start_time": "2023-11-22T18:24:04.162Z"
   },
   {
    "duration": 156,
    "start_time": "2023-11-22T18:24:04.196Z"
   },
   {
    "duration": 331,
    "start_time": "2023-11-22T18:24:04.354Z"
   },
   {
    "duration": 4809,
    "start_time": "2023-11-22T18:24:04.686Z"
   },
   {
    "duration": 14,
    "start_time": "2023-11-22T18:24:09.497Z"
   },
   {
    "duration": 8,
    "start_time": "2023-11-22T18:24:09.513Z"
   },
   {
    "duration": 136,
    "start_time": "2023-11-22T18:24:09.523Z"
   },
   {
    "duration": 120,
    "start_time": "2023-11-22T18:24:09.660Z"
   },
   {
    "duration": 124,
    "start_time": "2023-11-22T18:24:09.781Z"
   },
   {
    "duration": 200,
    "start_time": "2023-11-22T18:24:09.906Z"
   },
   {
    "duration": 117,
    "start_time": "2023-11-22T18:24:10.107Z"
   },
   {
    "duration": 3,
    "start_time": "2023-11-22T18:24:10.226Z"
   },
   {
    "duration": 162,
    "start_time": "2023-11-22T18:24:10.231Z"
   },
   {
    "duration": 4,
    "start_time": "2023-11-22T18:24:10.394Z"
   },
   {
    "duration": 213,
    "start_time": "2023-11-22T18:24:10.400Z"
   },
   {
    "duration": 137,
    "start_time": "2023-11-22T18:28:03.814Z"
   },
   {
    "duration": 189,
    "start_time": "2023-11-22T18:28:04.373Z"
   },
   {
    "duration": 4,
    "start_time": "2023-11-22T18:42:34.878Z"
   },
   {
    "duration": 68,
    "start_time": "2023-11-22T18:42:36.592Z"
   },
   {
    "duration": 3,
    "start_time": "2023-11-22T18:43:00.166Z"
   },
   {
    "duration": 11,
    "start_time": "2023-11-22T18:43:00.921Z"
   },
   {
    "duration": 4,
    "start_time": "2023-11-22T18:43:44.864Z"
   },
   {
    "duration": 9,
    "start_time": "2023-11-22T18:43:46.846Z"
   },
   {
    "duration": 4,
    "start_time": "2023-11-22T18:44:32.301Z"
   },
   {
    "duration": 134,
    "start_time": "2023-11-22T18:44:32.842Z"
   },
   {
    "duration": 161,
    "start_time": "2023-11-22T18:46:04.904Z"
   },
   {
    "duration": 6,
    "start_time": "2023-11-22T18:48:41.902Z"
   },
   {
    "duration": 172,
    "start_time": "2023-11-22T18:48:43.163Z"
   },
   {
    "duration": 556,
    "start_time": "2023-11-22T18:54:41.605Z"
   },
   {
    "duration": 58,
    "start_time": "2023-11-22T18:54:42.163Z"
   },
   {
    "duration": 16,
    "start_time": "2023-11-22T18:54:42.223Z"
   },
   {
    "duration": 17,
    "start_time": "2023-11-22T18:54:42.240Z"
   },
   {
    "duration": 8,
    "start_time": "2023-11-22T18:54:42.259Z"
   },
   {
    "duration": 9,
    "start_time": "2023-11-22T18:54:42.268Z"
   },
   {
    "duration": 9,
    "start_time": "2023-11-22T18:54:42.279Z"
   },
   {
    "duration": 11,
    "start_time": "2023-11-22T18:54:42.289Z"
   },
   {
    "duration": 5,
    "start_time": "2023-11-22T18:54:42.301Z"
   },
   {
    "duration": 8,
    "start_time": "2023-11-22T18:54:42.308Z"
   },
   {
    "duration": 36,
    "start_time": "2023-11-22T18:54:42.317Z"
   },
   {
    "duration": 15,
    "start_time": "2023-11-22T18:54:42.355Z"
   },
   {
    "duration": 8,
    "start_time": "2023-11-22T18:54:42.371Z"
   },
   {
    "duration": 9,
    "start_time": "2023-11-22T18:54:42.381Z"
   },
   {
    "duration": 29,
    "start_time": "2023-11-22T18:54:42.392Z"
   },
   {
    "duration": 13,
    "start_time": "2023-11-22T18:54:42.423Z"
   },
   {
    "duration": 171,
    "start_time": "2023-11-22T18:54:42.438Z"
   },
   {
    "duration": 331,
    "start_time": "2023-11-22T18:54:42.611Z"
   },
   {
    "duration": 5211,
    "start_time": "2023-11-22T18:54:42.943Z"
   },
   {
    "duration": 22,
    "start_time": "2023-11-22T18:54:48.156Z"
   },
   {
    "duration": 8,
    "start_time": "2023-11-22T18:54:48.179Z"
   },
   {
    "duration": 155,
    "start_time": "2023-11-22T18:54:48.189Z"
   },
   {
    "duration": 140,
    "start_time": "2023-11-22T18:54:48.346Z"
   },
   {
    "duration": 135,
    "start_time": "2023-11-22T18:54:48.487Z"
   },
   {
    "duration": 211,
    "start_time": "2023-11-22T18:54:48.623Z"
   },
   {
    "duration": 137,
    "start_time": "2023-11-22T18:54:48.835Z"
   },
   {
    "duration": 160,
    "start_time": "2023-11-22T18:54:48.974Z"
   },
   {
    "duration": 142,
    "start_time": "2023-11-22T18:54:49.136Z"
   },
   {
    "duration": 0,
    "start_time": "2023-11-22T18:54:49.279Z"
   },
   {
    "duration": 166,
    "start_time": "2023-11-22T18:58:00.766Z"
   },
   {
    "duration": 326,
    "start_time": "2023-11-22T18:58:23.286Z"
   },
   {
    "duration": 303,
    "start_time": "2023-11-22T18:58:33.808Z"
   },
   {
    "duration": 5,
    "start_time": "2023-11-22T19:00:43.949Z"
   },
   {
    "duration": 296,
    "start_time": "2023-11-22T19:01:04.435Z"
   },
   {
    "duration": 357,
    "start_time": "2023-11-22T19:01:45.782Z"
   },
   {
    "duration": 4,
    "start_time": "2023-11-22T19:01:51.398Z"
   },
   {
    "duration": 306,
    "start_time": "2023-11-22T19:01:52.029Z"
   },
   {
    "duration": 319,
    "start_time": "2023-11-22T19:02:17.131Z"
   },
   {
    "duration": 291,
    "start_time": "2023-11-22T19:03:07.067Z"
   },
   {
    "duration": 3,
    "start_time": "2023-11-22T19:03:21.544Z"
   },
   {
    "duration": 263,
    "start_time": "2023-11-22T19:03:24.303Z"
   },
   {
    "duration": 4,
    "start_time": "2023-11-22T19:03:30.102Z"
   },
   {
    "duration": 287,
    "start_time": "2023-11-22T19:03:30.797Z"
   },
   {
    "duration": 310,
    "start_time": "2023-11-22T19:03:48.907Z"
   },
   {
    "duration": 302,
    "start_time": "2023-11-22T19:04:57.754Z"
   },
   {
    "duration": 4,
    "start_time": "2023-11-22T19:05:35.395Z"
   },
   {
    "duration": 294,
    "start_time": "2023-11-22T19:05:35.632Z"
   },
   {
    "duration": 324,
    "start_time": "2023-11-22T19:05:36.969Z"
   },
   {
    "duration": 80,
    "start_time": "2023-11-22T19:08:34.281Z"
   },
   {
    "duration": 304,
    "start_time": "2023-11-22T19:08:39.079Z"
   },
   {
    "duration": 83,
    "start_time": "2023-11-22T19:10:42.694Z"
   },
   {
    "duration": 388,
    "start_time": "2023-11-22T19:10:48.726Z"
   },
   {
    "duration": 7,
    "start_time": "2023-11-22T19:11:15.542Z"
   },
   {
    "duration": 313,
    "start_time": "2023-11-22T19:11:20.008Z"
   },
   {
    "duration": 6,
    "start_time": "2023-11-22T19:28:27.258Z"
   },
   {
    "duration": 18,
    "start_time": "2023-11-22T19:33:13.740Z"
   },
   {
    "duration": 13,
    "start_time": "2023-11-22T19:34:07.379Z"
   },
   {
    "duration": 12,
    "start_time": "2023-11-22T19:34:21.400Z"
   },
   {
    "duration": 783,
    "start_time": "2023-11-23T10:05:24.673Z"
   },
   {
    "duration": 110,
    "start_time": "2023-11-23T10:05:25.458Z"
   },
   {
    "duration": 14,
    "start_time": "2023-11-23T10:05:25.570Z"
   },
   {
    "duration": 15,
    "start_time": "2023-11-23T10:05:25.585Z"
   },
   {
    "duration": 8,
    "start_time": "2023-11-23T10:05:25.602Z"
   },
   {
    "duration": 10,
    "start_time": "2023-11-23T10:05:25.611Z"
   },
   {
    "duration": 11,
    "start_time": "2023-11-23T10:05:25.622Z"
   },
   {
    "duration": 11,
    "start_time": "2023-11-23T10:05:25.634Z"
   },
   {
    "duration": 5,
    "start_time": "2023-11-23T10:05:25.646Z"
   },
   {
    "duration": 10,
    "start_time": "2023-11-23T10:05:25.652Z"
   },
   {
    "duration": 5,
    "start_time": "2023-11-23T10:05:25.663Z"
   },
   {
    "duration": 49,
    "start_time": "2023-11-23T10:05:25.669Z"
   },
   {
    "duration": 6,
    "start_time": "2023-11-23T10:05:25.719Z"
   },
   {
    "duration": 9,
    "start_time": "2023-11-23T10:05:25.728Z"
   },
   {
    "duration": 13,
    "start_time": "2023-11-23T10:05:25.739Z"
   },
   {
    "duration": 14,
    "start_time": "2023-11-23T10:05:25.754Z"
   },
   {
    "duration": 202,
    "start_time": "2023-11-23T10:05:25.769Z"
   },
   {
    "duration": 330,
    "start_time": "2023-11-23T10:05:25.972Z"
   },
   {
    "duration": 5035,
    "start_time": "2023-11-23T10:05:26.304Z"
   },
   {
    "duration": 16,
    "start_time": "2023-11-23T10:05:31.340Z"
   },
   {
    "duration": 45,
    "start_time": "2023-11-23T10:05:31.358Z"
   },
   {
    "duration": 154,
    "start_time": "2023-11-23T10:05:31.404Z"
   },
   {
    "duration": 117,
    "start_time": "2023-11-23T10:05:31.560Z"
   },
   {
    "duration": 136,
    "start_time": "2023-11-23T10:05:31.679Z"
   },
   {
    "duration": 192,
    "start_time": "2023-11-23T10:05:31.816Z"
   },
   {
    "duration": 118,
    "start_time": "2023-11-23T10:05:32.015Z"
   },
   {
    "duration": 323,
    "start_time": "2023-11-23T10:05:32.135Z"
   },
   {
    "duration": 5,
    "start_time": "2023-11-23T10:05:32.460Z"
   },
   {
    "duration": 295,
    "start_time": "2023-11-23T10:05:32.466Z"
   },
   {
    "duration": 318,
    "start_time": "2023-11-23T10:05:32.763Z"
   },
   {
    "duration": 295,
    "start_time": "2023-11-23T10:05:33.082Z"
   },
   {
    "duration": 362,
    "start_time": "2023-11-23T10:05:33.379Z"
   },
   {
    "duration": 5,
    "start_time": "2023-11-23T10:05:33.742Z"
   },
   {
    "duration": 11,
    "start_time": "2023-11-23T10:05:33.748Z"
   },
   {
    "duration": 17,
    "start_time": "2023-11-23T10:24:07.028Z"
   },
   {
    "duration": 12,
    "start_time": "2023-11-23T10:24:59.818Z"
   },
   {
    "duration": 13,
    "start_time": "2023-11-23T10:25:45.861Z"
   },
   {
    "duration": 14,
    "start_time": "2023-11-23T10:26:00.072Z"
   },
   {
    "duration": 12,
    "start_time": "2023-11-23T10:26:15.832Z"
   },
   {
    "duration": 12,
    "start_time": "2023-11-23T10:26:29.158Z"
   },
   {
    "duration": 92,
    "start_time": "2023-11-23T10:29:38.564Z"
   },
   {
    "duration": 329,
    "start_time": "2023-11-23T10:29:59.734Z"
   },
   {
    "duration": 16,
    "start_time": "2023-11-23T10:30:04.679Z"
   },
   {
    "duration": 9,
    "start_time": "2023-11-23T10:32:19.633Z"
   },
   {
    "duration": 11,
    "start_time": "2023-11-23T10:32:49.468Z"
   },
   {
    "duration": 11,
    "start_time": "2023-11-23T10:35:45.465Z"
   },
   {
    "duration": 15,
    "start_time": "2023-11-23T10:35:45.819Z"
   },
   {
    "duration": 3,
    "start_time": "2023-11-23T10:51:17.784Z"
   },
   {
    "duration": 13,
    "start_time": "2023-11-23T10:52:22.905Z"
   },
   {
    "duration": 3,
    "start_time": "2023-11-23T10:52:45.040Z"
   },
   {
    "duration": 12,
    "start_time": "2023-11-23T10:52:47.333Z"
   },
   {
    "duration": 3,
    "start_time": "2023-11-23T10:54:27.780Z"
   },
   {
    "duration": 13,
    "start_time": "2023-11-23T10:54:28.926Z"
   },
   {
    "duration": 3,
    "start_time": "2023-11-23T10:55:28.941Z"
   },
   {
    "duration": 12,
    "start_time": "2023-11-23T10:55:29.912Z"
   },
   {
    "duration": 4,
    "start_time": "2023-11-23T10:56:41.070Z"
   },
   {
    "duration": 16,
    "start_time": "2023-11-23T10:56:43.108Z"
   },
   {
    "duration": 3,
    "start_time": "2023-11-23T10:56:54.451Z"
   },
   {
    "duration": 14,
    "start_time": "2023-11-23T10:56:55.577Z"
   },
   {
    "duration": 4,
    "start_time": "2023-11-23T10:57:06.837Z"
   },
   {
    "duration": 12,
    "start_time": "2023-11-23T10:57:08.058Z"
   },
   {
    "duration": 4,
    "start_time": "2023-11-23T10:57:30.224Z"
   },
   {
    "duration": 16,
    "start_time": "2023-11-23T10:57:31.176Z"
   },
   {
    "duration": 3,
    "start_time": "2023-11-23T10:57:52.538Z"
   },
   {
    "duration": 21,
    "start_time": "2023-11-23T10:57:54.037Z"
   },
   {
    "duration": 4,
    "start_time": "2023-11-23T10:58:32.878Z"
   },
   {
    "duration": 19,
    "start_time": "2023-11-23T10:58:33.788Z"
   },
   {
    "duration": 4,
    "start_time": "2023-11-23T10:59:29.818Z"
   },
   {
    "duration": 17,
    "start_time": "2023-11-23T10:59:30.913Z"
   },
   {
    "duration": 4,
    "start_time": "2023-11-23T11:00:29.555Z"
   },
   {
    "duration": 19,
    "start_time": "2023-11-23T11:00:30.260Z"
   },
   {
    "duration": 45,
    "start_time": "2023-11-23T11:01:23.841Z"
   },
   {
    "duration": 18,
    "start_time": "2023-11-23T11:02:16.390Z"
   },
   {
    "duration": 22,
    "start_time": "2023-11-23T11:02:44.002Z"
   },
   {
    "duration": 17,
    "start_time": "2023-11-23T11:08:53.953Z"
   },
   {
    "duration": 18,
    "start_time": "2023-11-23T11:09:14.325Z"
   },
   {
    "duration": 18,
    "start_time": "2023-11-23T11:13:06.922Z"
   },
   {
    "duration": 18,
    "start_time": "2023-11-23T11:13:17.578Z"
   },
   {
    "duration": 21,
    "start_time": "2023-11-23T11:25:47.489Z"
   },
   {
    "duration": 17,
    "start_time": "2023-11-23T11:28:09.383Z"
   },
   {
    "duration": 17,
    "start_time": "2023-11-23T11:28:16.664Z"
   },
   {
    "duration": 7,
    "start_time": "2023-11-23T14:01:21.065Z"
   },
   {
    "duration": 5,
    "start_time": "2023-11-23T14:01:28.064Z"
   },
   {
    "duration": 7,
    "start_time": "2023-11-23T14:02:00.538Z"
   },
   {
    "duration": 13,
    "start_time": "2023-11-23T14:05:15.963Z"
   },
   {
    "duration": 406,
    "start_time": "2023-11-23T14:05:35.020Z"
   },
   {
    "duration": 56,
    "start_time": "2023-11-23T14:05:35.428Z"
   },
   {
    "duration": 15,
    "start_time": "2023-11-23T14:05:35.486Z"
   },
   {
    "duration": 16,
    "start_time": "2023-11-23T14:05:35.503Z"
   },
   {
    "duration": 17,
    "start_time": "2023-11-23T14:05:35.521Z"
   },
   {
    "duration": 16,
    "start_time": "2023-11-23T14:05:35.539Z"
   },
   {
    "duration": 31,
    "start_time": "2023-11-23T14:05:35.556Z"
   },
   {
    "duration": 11,
    "start_time": "2023-11-23T14:05:35.589Z"
   },
   {
    "duration": 10,
    "start_time": "2023-11-23T14:05:35.602Z"
   },
   {
    "duration": 9,
    "start_time": "2023-11-23T14:05:35.613Z"
   },
   {
    "duration": 4,
    "start_time": "2023-11-23T14:05:35.624Z"
   },
   {
    "duration": 23,
    "start_time": "2023-11-23T14:05:35.630Z"
   },
   {
    "duration": 5,
    "start_time": "2023-11-23T14:05:35.654Z"
   },
   {
    "duration": 16,
    "start_time": "2023-11-23T14:05:35.663Z"
   },
   {
    "duration": 11,
    "start_time": "2023-11-23T14:05:35.681Z"
   },
   {
    "duration": 31,
    "start_time": "2023-11-23T14:05:35.694Z"
   },
   {
    "duration": 170,
    "start_time": "2023-11-23T14:05:35.727Z"
   },
   {
    "duration": 327,
    "start_time": "2023-11-23T14:05:35.899Z"
   },
   {
    "duration": 5094,
    "start_time": "2023-11-23T14:05:36.228Z"
   },
   {
    "duration": 16,
    "start_time": "2023-11-23T14:05:41.323Z"
   },
   {
    "duration": 8,
    "start_time": "2023-11-23T14:05:41.341Z"
   },
   {
    "duration": 143,
    "start_time": "2023-11-23T14:05:41.351Z"
   },
   {
    "duration": 126,
    "start_time": "2023-11-23T14:05:41.496Z"
   },
   {
    "duration": 144,
    "start_time": "2023-11-23T14:05:41.623Z"
   },
   {
    "duration": 211,
    "start_time": "2023-11-23T14:05:41.769Z"
   },
   {
    "duration": 120,
    "start_time": "2023-11-23T14:05:41.981Z"
   },
   {
    "duration": 318,
    "start_time": "2023-11-23T14:05:42.103Z"
   },
   {
    "duration": 3,
    "start_time": "2023-11-23T14:05:42.423Z"
   },
   {
    "duration": 281,
    "start_time": "2023-11-23T14:05:42.428Z"
   },
   {
    "duration": 335,
    "start_time": "2023-11-23T14:05:42.710Z"
   },
   {
    "duration": 301,
    "start_time": "2023-11-23T14:05:43.047Z"
   },
   {
    "duration": 341,
    "start_time": "2023-11-23T14:05:43.349Z"
   },
   {
    "duration": 5,
    "start_time": "2023-11-23T14:05:43.692Z"
   },
   {
    "duration": 15,
    "start_time": "2023-11-23T14:05:43.698Z"
   },
   {
    "duration": 9,
    "start_time": "2023-11-23T14:05:43.715Z"
   },
   {
    "duration": 23,
    "start_time": "2023-11-23T14:05:43.726Z"
   },
   {
    "duration": 16,
    "start_time": "2023-11-23T14:05:43.751Z"
   },
   {
    "duration": 35,
    "start_time": "2023-11-23T14:05:43.769Z"
   },
   {
    "duration": 16,
    "start_time": "2023-11-23T14:05:43.805Z"
   },
   {
    "duration": 95,
    "start_time": "2023-11-23T14:05:43.822Z"
   },
   {
    "duration": 16,
    "start_time": "2023-11-23T14:05:43.920Z"
   },
   {
    "duration": 20,
    "start_time": "2023-11-23T14:05:43.937Z"
   },
   {
    "duration": 17,
    "start_time": "2023-11-23T14:05:44.015Z"
   },
   {
    "duration": 15,
    "start_time": "2023-11-23T14:05:44.034Z"
   },
   {
    "duration": 9,
    "start_time": "2023-11-23T14:05:44.050Z"
   },
   {
    "duration": 9,
    "start_time": "2023-11-23T14:06:15.969Z"
   },
   {
    "duration": 9,
    "start_time": "2023-11-23T14:06:21.890Z"
   },
   {
    "duration": 9,
    "start_time": "2023-11-23T14:28:21.164Z"
   },
   {
    "duration": 10,
    "start_time": "2023-11-23T14:31:24.049Z"
   },
   {
    "duration": 9,
    "start_time": "2023-11-23T14:31:29.851Z"
   },
   {
    "duration": 1372,
    "start_time": "2023-11-23T15:17:28.356Z"
   },
   {
    "duration": 109,
    "start_time": "2023-11-23T15:17:29.730Z"
   },
   {
    "duration": 24,
    "start_time": "2023-11-23T15:17:29.841Z"
   },
   {
    "duration": 27,
    "start_time": "2023-11-23T15:17:29.867Z"
   },
   {
    "duration": 38,
    "start_time": "2023-11-23T15:17:29.895Z"
   },
   {
    "duration": 32,
    "start_time": "2023-11-23T15:17:29.935Z"
   },
   {
    "duration": 50,
    "start_time": "2023-11-23T15:17:29.968Z"
   },
   {
    "duration": 52,
    "start_time": "2023-11-23T15:17:30.019Z"
   },
   {
    "duration": 35,
    "start_time": "2023-11-23T15:17:30.072Z"
   },
   {
    "duration": 57,
    "start_time": "2023-11-23T15:17:30.109Z"
   },
   {
    "duration": 28,
    "start_time": "2023-11-23T15:17:30.168Z"
   },
   {
    "duration": 78,
    "start_time": "2023-11-23T15:17:30.198Z"
   },
   {
    "duration": 30,
    "start_time": "2023-11-23T15:17:30.277Z"
   },
   {
    "duration": 47,
    "start_time": "2023-11-23T15:17:30.309Z"
   },
   {
    "duration": 52,
    "start_time": "2023-11-23T15:17:30.357Z"
   },
   {
    "duration": 70,
    "start_time": "2023-11-23T15:17:30.410Z"
   },
   {
    "duration": 256,
    "start_time": "2023-11-23T15:17:30.482Z"
   },
   {
    "duration": 343,
    "start_time": "2023-11-23T15:17:30.740Z"
   },
   {
    "duration": 5482,
    "start_time": "2023-11-23T15:17:31.084Z"
   },
   {
    "duration": 15,
    "start_time": "2023-11-23T15:17:36.572Z"
   },
   {
    "duration": 9,
    "start_time": "2023-11-23T15:17:36.588Z"
   },
   {
    "duration": 134,
    "start_time": "2023-11-23T15:17:36.598Z"
   },
   {
    "duration": 142,
    "start_time": "2023-11-23T15:17:36.734Z"
   },
   {
    "duration": 146,
    "start_time": "2023-11-23T15:17:36.878Z"
   },
   {
    "duration": 147,
    "start_time": "2023-11-23T15:17:37.026Z"
   },
   {
    "duration": 128,
    "start_time": "2023-11-23T15:17:37.175Z"
   },
   {
    "duration": 334,
    "start_time": "2023-11-23T15:17:37.304Z"
   },
   {
    "duration": 10,
    "start_time": "2023-11-23T15:17:37.644Z"
   },
   {
    "duration": 368,
    "start_time": "2023-11-23T15:17:37.658Z"
   },
   {
    "duration": 350,
    "start_time": "2023-11-23T15:17:38.027Z"
   },
   {
    "duration": 312,
    "start_time": "2023-11-23T15:17:38.379Z"
   },
   {
    "duration": 337,
    "start_time": "2023-11-23T15:17:38.693Z"
   },
   {
    "duration": 16,
    "start_time": "2023-11-23T15:17:39.031Z"
   },
   {
    "duration": 25,
    "start_time": "2023-11-23T15:17:39.053Z"
   },
   {
    "duration": 4,
    "start_time": "2023-11-23T15:17:39.079Z"
   },
   {
    "duration": 23,
    "start_time": "2023-11-23T15:17:39.085Z"
   },
   {
    "duration": 17,
    "start_time": "2023-11-23T15:17:39.110Z"
   },
   {
    "duration": 36,
    "start_time": "2023-11-23T15:17:39.128Z"
   },
   {
    "duration": 16,
    "start_time": "2023-11-23T15:17:39.167Z"
   },
   {
    "duration": 17,
    "start_time": "2023-11-23T15:17:39.185Z"
   },
   {
    "duration": 15,
    "start_time": "2023-11-23T15:17:39.204Z"
   },
   {
    "duration": 42,
    "start_time": "2023-11-23T15:17:39.221Z"
   },
   {
    "duration": 19,
    "start_time": "2023-11-23T15:17:39.264Z"
   },
   {
    "duration": 17,
    "start_time": "2023-11-23T15:17:39.284Z"
   },
   {
    "duration": 9,
    "start_time": "2023-11-23T15:17:39.302Z"
   },
   {
    "duration": 18,
    "start_time": "2023-11-23T15:17:39.312Z"
   },
   {
    "duration": 14,
    "start_time": "2023-11-23T15:24:01.722Z"
   },
   {
    "duration": 90,
    "start_time": "2023-11-23T15:27:53.476Z"
   },
   {
    "duration": 28,
    "start_time": "2023-11-23T15:52:49.570Z"
   },
   {
    "duration": 4,
    "start_time": "2023-11-23T16:28:51.071Z"
   },
   {
    "duration": 48,
    "start_time": "2023-11-25T10:42:09.608Z"
   },
   {
    "duration": 1225,
    "start_time": "2023-11-25T10:42:17.097Z"
   },
   {
    "duration": 109,
    "start_time": "2023-11-25T10:42:18.324Z"
   },
   {
    "duration": 12,
    "start_time": "2023-11-25T10:42:18.435Z"
   },
   {
    "duration": 14,
    "start_time": "2023-11-25T10:42:18.449Z"
   },
   {
    "duration": 14,
    "start_time": "2023-11-25T10:42:18.465Z"
   },
   {
    "duration": 8,
    "start_time": "2023-11-25T10:42:18.481Z"
   },
   {
    "duration": 14,
    "start_time": "2023-11-25T10:42:18.491Z"
   },
   {
    "duration": 10,
    "start_time": "2023-11-25T10:42:18.507Z"
   },
   {
    "duration": 12,
    "start_time": "2023-11-25T10:42:18.518Z"
   },
   {
    "duration": 5,
    "start_time": "2023-11-25T10:42:18.531Z"
   },
   {
    "duration": 9,
    "start_time": "2023-11-25T10:42:18.565Z"
   },
   {
    "duration": 5,
    "start_time": "2023-11-25T10:42:18.576Z"
   },
   {
    "duration": 18,
    "start_time": "2023-11-25T10:42:18.582Z"
   },
   {
    "duration": 7,
    "start_time": "2023-11-25T10:42:18.603Z"
   },
   {
    "duration": 7,
    "start_time": "2023-11-25T10:42:18.611Z"
   },
   {
    "duration": 12,
    "start_time": "2023-11-25T10:42:18.620Z"
   },
   {
    "duration": 44,
    "start_time": "2023-11-25T10:42:18.634Z"
   },
   {
    "duration": 98,
    "start_time": "2023-11-25T10:42:18.679Z"
   },
   {
    "duration": 183,
    "start_time": "2023-11-25T10:42:18.778Z"
   },
   {
    "duration": 361,
    "start_time": "2023-11-25T10:42:18.962Z"
   },
   {
    "duration": 5163,
    "start_time": "2023-11-25T10:42:19.325Z"
   },
   {
    "duration": 24,
    "start_time": "2023-11-25T10:42:24.490Z"
   },
   {
    "duration": 15,
    "start_time": "2023-11-25T10:42:24.515Z"
   },
   {
    "duration": 34,
    "start_time": "2023-11-25T10:42:24.532Z"
   },
   {
    "duration": 148,
    "start_time": "2023-11-25T10:42:24.568Z"
   },
   {
    "duration": 128,
    "start_time": "2023-11-25T10:42:24.718Z"
   },
   {
    "duration": 136,
    "start_time": "2023-11-25T10:42:24.848Z"
   },
   {
    "duration": 139,
    "start_time": "2023-11-25T10:42:24.986Z"
   },
   {
    "duration": 117,
    "start_time": "2023-11-25T10:42:25.126Z"
   },
   {
    "duration": 338,
    "start_time": "2023-11-25T10:42:25.245Z"
   },
   {
    "duration": 4,
    "start_time": "2023-11-25T10:42:25.585Z"
   },
   {
    "duration": 445,
    "start_time": "2023-11-25T10:42:25.591Z"
   },
   {
    "duration": 313,
    "start_time": "2023-11-25T10:42:26.037Z"
   },
   {
    "duration": 292,
    "start_time": "2023-11-25T10:42:26.352Z"
   },
   {
    "duration": 317,
    "start_time": "2023-11-25T10:42:26.646Z"
   },
   {
    "duration": 6,
    "start_time": "2023-11-25T10:42:26.964Z"
   },
   {
    "duration": 69,
    "start_time": "2023-11-25T10:42:26.971Z"
   },
   {
    "duration": 12,
    "start_time": "2023-11-25T10:42:27.041Z"
   },
   {
    "duration": 52,
    "start_time": "2023-11-25T10:42:27.054Z"
   },
   {
    "duration": 56,
    "start_time": "2023-11-25T10:42:27.108Z"
   },
   {
    "duration": 28,
    "start_time": "2023-11-25T10:42:27.168Z"
   },
   {
    "duration": 72,
    "start_time": "2023-11-25T10:42:27.198Z"
   },
   {
    "duration": 53,
    "start_time": "2023-11-25T10:42:27.271Z"
   },
   {
    "duration": 27,
    "start_time": "2023-11-25T10:42:27.326Z"
   },
   {
    "duration": 69,
    "start_time": "2023-11-25T10:42:27.354Z"
   },
   {
    "duration": 37,
    "start_time": "2023-11-25T10:42:27.425Z"
   },
   {
    "duration": 60,
    "start_time": "2023-11-25T10:42:27.463Z"
   },
   {
    "duration": 59,
    "start_time": "2023-11-25T10:42:27.525Z"
   },
   {
    "duration": 49,
    "start_time": "2023-11-25T10:42:27.586Z"
   },
   {
    "duration": 63,
    "start_time": "2023-11-25T10:42:27.637Z"
   },
   {
    "duration": 62,
    "start_time": "2023-11-25T10:42:51.808Z"
   },
   {
    "duration": 1628,
    "start_time": "2023-11-25T10:53:18.773Z"
   },
   {
    "duration": 10,
    "start_time": "2023-11-25T10:53:38.421Z"
   },
   {
    "duration": 12,
    "start_time": "2023-11-25T10:54:08.406Z"
   },
   {
    "duration": 3,
    "start_time": "2023-11-25T10:58:33.063Z"
   },
   {
    "duration": 68,
    "start_time": "2023-11-25T10:58:33.067Z"
   },
   {
    "duration": 13,
    "start_time": "2023-11-25T10:58:33.136Z"
   },
   {
    "duration": 32,
    "start_time": "2023-11-25T10:58:33.150Z"
   },
   {
    "duration": 14,
    "start_time": "2023-11-25T10:58:33.184Z"
   },
   {
    "duration": 7,
    "start_time": "2023-11-25T10:58:33.200Z"
   },
   {
    "duration": 8,
    "start_time": "2023-11-25T10:58:33.208Z"
   },
   {
    "duration": 12,
    "start_time": "2023-11-25T10:58:33.217Z"
   },
   {
    "duration": 0,
    "start_time": "2023-11-25T10:58:33.231Z"
   },
   {
    "duration": 1,
    "start_time": "2023-11-25T10:58:33.232Z"
   },
   {
    "duration": 0,
    "start_time": "2023-11-25T10:58:33.234Z"
   },
   {
    "duration": 0,
    "start_time": "2023-11-25T10:58:33.235Z"
   },
   {
    "duration": 0,
    "start_time": "2023-11-25T10:58:33.236Z"
   },
   {
    "duration": 0,
    "start_time": "2023-11-25T10:58:33.237Z"
   },
   {
    "duration": 0,
    "start_time": "2023-11-25T10:58:33.238Z"
   },
   {
    "duration": 0,
    "start_time": "2023-11-25T10:58:33.265Z"
   },
   {
    "duration": 0,
    "start_time": "2023-11-25T10:58:33.266Z"
   },
   {
    "duration": 0,
    "start_time": "2023-11-25T10:58:33.267Z"
   },
   {
    "duration": 0,
    "start_time": "2023-11-25T10:58:33.269Z"
   },
   {
    "duration": 0,
    "start_time": "2023-11-25T10:58:33.270Z"
   },
   {
    "duration": 0,
    "start_time": "2023-11-25T10:58:33.271Z"
   },
   {
    "duration": 0,
    "start_time": "2023-11-25T10:58:33.272Z"
   },
   {
    "duration": 0,
    "start_time": "2023-11-25T10:58:33.273Z"
   },
   {
    "duration": 0,
    "start_time": "2023-11-25T10:58:33.274Z"
   },
   {
    "duration": 0,
    "start_time": "2023-11-25T10:58:33.275Z"
   },
   {
    "duration": 0,
    "start_time": "2023-11-25T10:58:33.276Z"
   },
   {
    "duration": 0,
    "start_time": "2023-11-25T10:58:33.277Z"
   },
   {
    "duration": 0,
    "start_time": "2023-11-25T10:58:33.279Z"
   },
   {
    "duration": 0,
    "start_time": "2023-11-25T10:58:33.279Z"
   },
   {
    "duration": 1,
    "start_time": "2023-11-25T10:58:33.280Z"
   },
   {
    "duration": 0,
    "start_time": "2023-11-25T10:58:33.281Z"
   },
   {
    "duration": 0,
    "start_time": "2023-11-25T10:58:33.282Z"
   },
   {
    "duration": 0,
    "start_time": "2023-11-25T10:58:33.284Z"
   },
   {
    "duration": 0,
    "start_time": "2023-11-25T10:58:33.285Z"
   },
   {
    "duration": 0,
    "start_time": "2023-11-25T10:58:33.286Z"
   },
   {
    "duration": 0,
    "start_time": "2023-11-25T10:58:33.287Z"
   },
   {
    "duration": 0,
    "start_time": "2023-11-25T10:58:33.288Z"
   },
   {
    "duration": 0,
    "start_time": "2023-11-25T10:58:33.289Z"
   },
   {
    "duration": 0,
    "start_time": "2023-11-25T10:58:33.290Z"
   },
   {
    "duration": 0,
    "start_time": "2023-11-25T10:58:33.291Z"
   },
   {
    "duration": 0,
    "start_time": "2023-11-25T10:58:33.292Z"
   },
   {
    "duration": 0,
    "start_time": "2023-11-25T10:58:33.293Z"
   },
   {
    "duration": 0,
    "start_time": "2023-11-25T10:58:33.294Z"
   },
   {
    "duration": 0,
    "start_time": "2023-11-25T10:58:33.295Z"
   },
   {
    "duration": 0,
    "start_time": "2023-11-25T10:58:33.296Z"
   },
   {
    "duration": 0,
    "start_time": "2023-11-25T10:58:33.297Z"
   },
   {
    "duration": 0,
    "start_time": "2023-11-25T10:58:33.298Z"
   },
   {
    "duration": 0,
    "start_time": "2023-11-25T10:58:33.299Z"
   },
   {
    "duration": 0,
    "start_time": "2023-11-25T10:58:33.300Z"
   },
   {
    "duration": 0,
    "start_time": "2023-11-25T10:58:33.302Z"
   },
   {
    "duration": 11,
    "start_time": "2023-11-25T10:59:24.991Z"
   },
   {
    "duration": 11,
    "start_time": "2023-11-25T10:59:28.825Z"
   },
   {
    "duration": 11,
    "start_time": "2023-11-25T10:59:38.480Z"
   },
   {
    "duration": 7,
    "start_time": "2023-11-25T10:59:48.278Z"
   },
   {
    "duration": 14,
    "start_time": "2023-11-25T11:00:06.816Z"
   },
   {
    "duration": 8,
    "start_time": "2023-11-25T11:00:38.007Z"
   },
   {
    "duration": 11,
    "start_time": "2023-11-25T11:00:42.074Z"
   },
   {
    "duration": 10,
    "start_time": "2023-11-25T11:00:45.095Z"
   },
   {
    "duration": 1076,
    "start_time": "2023-11-25T11:00:51.544Z"
   },
   {
    "duration": 70,
    "start_time": "2023-11-25T11:00:52.622Z"
   },
   {
    "duration": 13,
    "start_time": "2023-11-25T11:00:52.694Z"
   },
   {
    "duration": 20,
    "start_time": "2023-11-25T11:00:52.709Z"
   },
   {
    "duration": 14,
    "start_time": "2023-11-25T11:00:52.730Z"
   },
   {
    "duration": 27,
    "start_time": "2023-11-25T11:00:52.745Z"
   },
   {
    "duration": 19,
    "start_time": "2023-11-25T11:00:52.773Z"
   },
   {
    "duration": 10,
    "start_time": "2023-11-25T11:00:52.793Z"
   },
   {
    "duration": 12,
    "start_time": "2023-11-25T11:00:52.804Z"
   },
   {
    "duration": 5,
    "start_time": "2023-11-25T11:00:52.819Z"
   },
   {
    "duration": 11,
    "start_time": "2023-11-25T11:00:52.825Z"
   },
   {
    "duration": 4,
    "start_time": "2023-11-25T11:00:52.838Z"
   },
   {
    "duration": 17,
    "start_time": "2023-11-25T11:00:52.865Z"
   },
   {
    "duration": 18,
    "start_time": "2023-11-25T11:00:52.883Z"
   },
   {
    "duration": 21,
    "start_time": "2023-11-25T11:00:52.903Z"
   },
   {
    "duration": 25,
    "start_time": "2023-11-25T11:00:52.926Z"
   },
   {
    "duration": 14,
    "start_time": "2023-11-25T11:00:52.953Z"
   },
   {
    "duration": 94,
    "start_time": "2023-11-25T11:00:52.968Z"
   },
   {
    "duration": 178,
    "start_time": "2023-11-25T11:00:53.066Z"
   },
   {
    "duration": 345,
    "start_time": "2023-11-25T11:00:53.245Z"
   },
   {
    "duration": 5284,
    "start_time": "2023-11-25T11:00:53.592Z"
   },
   {
    "duration": 24,
    "start_time": "2023-11-25T11:00:58.877Z"
   },
   {
    "duration": 15,
    "start_time": "2023-11-25T11:00:58.903Z"
   },
   {
    "duration": 9,
    "start_time": "2023-11-25T11:00:58.920Z"
   },
   {
    "duration": 153,
    "start_time": "2023-11-25T11:00:58.931Z"
   },
   {
    "duration": 132,
    "start_time": "2023-11-25T11:00:59.086Z"
   },
   {
    "duration": 141,
    "start_time": "2023-11-25T11:00:59.219Z"
   },
   {
    "duration": 138,
    "start_time": "2023-11-25T11:00:59.364Z"
   },
   {
    "duration": 124,
    "start_time": "2023-11-25T11:00:59.504Z"
   },
   {
    "duration": 323,
    "start_time": "2023-11-25T11:00:59.630Z"
   },
   {
    "duration": 4,
    "start_time": "2023-11-25T11:00:59.966Z"
   },
   {
    "duration": 385,
    "start_time": "2023-11-25T11:00:59.971Z"
   },
   {
    "duration": 332,
    "start_time": "2023-11-25T11:01:00.357Z"
   },
   {
    "duration": 314,
    "start_time": "2023-11-25T11:01:00.691Z"
   },
   {
    "duration": 334,
    "start_time": "2023-11-25T11:01:01.006Z"
   },
   {
    "duration": 4,
    "start_time": "2023-11-25T11:01:01.342Z"
   },
   {
    "duration": 29,
    "start_time": "2023-11-25T11:01:01.348Z"
   },
   {
    "duration": 29,
    "start_time": "2023-11-25T11:01:01.378Z"
   },
   {
    "duration": 31,
    "start_time": "2023-11-25T11:01:01.408Z"
   },
   {
    "duration": 38,
    "start_time": "2023-11-25T11:01:01.440Z"
   },
   {
    "duration": 17,
    "start_time": "2023-11-25T11:01:01.479Z"
   },
   {
    "duration": 17,
    "start_time": "2023-11-25T11:01:01.498Z"
   },
   {
    "duration": 29,
    "start_time": "2023-11-25T11:01:01.516Z"
   },
   {
    "duration": 38,
    "start_time": "2023-11-25T11:01:01.547Z"
   },
   {
    "duration": 18,
    "start_time": "2023-11-25T11:01:01.586Z"
   },
   {
    "duration": 31,
    "start_time": "2023-11-25T11:01:01.606Z"
   },
   {
    "duration": 17,
    "start_time": "2023-11-25T11:01:01.638Z"
   },
   {
    "duration": 13,
    "start_time": "2023-11-25T11:01:01.664Z"
   },
   {
    "duration": 46,
    "start_time": "2023-11-25T11:01:01.679Z"
   },
   {
    "duration": 39,
    "start_time": "2023-11-25T11:01:01.726Z"
   },
   {
    "duration": 15,
    "start_time": "2023-11-25T11:08:46.506Z"
   },
   {
    "duration": 19,
    "start_time": "2023-11-25T11:08:55.484Z"
   },
   {
    "duration": 1101,
    "start_time": "2023-11-25T11:09:02.350Z"
   },
   {
    "duration": 67,
    "start_time": "2023-11-25T11:09:03.453Z"
   },
   {
    "duration": 13,
    "start_time": "2023-11-25T11:09:03.522Z"
   },
   {
    "duration": 23,
    "start_time": "2023-11-25T11:09:03.537Z"
   },
   {
    "duration": 24,
    "start_time": "2023-11-25T11:09:03.563Z"
   },
   {
    "duration": 9,
    "start_time": "2023-11-25T11:09:03.588Z"
   },
   {
    "duration": 21,
    "start_time": "2023-11-25T11:09:03.599Z"
   },
   {
    "duration": 21,
    "start_time": "2023-11-25T11:09:03.621Z"
   },
   {
    "duration": 20,
    "start_time": "2023-11-25T11:09:03.643Z"
   },
   {
    "duration": 12,
    "start_time": "2023-11-25T11:09:03.665Z"
   },
   {
    "duration": 14,
    "start_time": "2023-11-25T11:09:03.679Z"
   },
   {
    "duration": 4,
    "start_time": "2023-11-25T11:09:03.694Z"
   },
   {
    "duration": 18,
    "start_time": "2023-11-25T11:09:03.700Z"
   },
   {
    "duration": 7,
    "start_time": "2023-11-25T11:09:03.721Z"
   },
   {
    "duration": 8,
    "start_time": "2023-11-25T11:09:03.729Z"
   },
   {
    "duration": 24,
    "start_time": "2023-11-25T11:09:03.738Z"
   },
   {
    "duration": 14,
    "start_time": "2023-11-25T11:09:03.766Z"
   },
   {
    "duration": 96,
    "start_time": "2023-11-25T11:09:03.782Z"
   },
   {
    "duration": 175,
    "start_time": "2023-11-25T11:09:03.880Z"
   },
   {
    "duration": 344,
    "start_time": "2023-11-25T11:09:04.056Z"
   },
   {
    "duration": 5225,
    "start_time": "2023-11-25T11:09:04.402Z"
   },
   {
    "duration": 23,
    "start_time": "2023-11-25T11:09:09.628Z"
   },
   {
    "duration": 16,
    "start_time": "2023-11-25T11:09:09.665Z"
   },
   {
    "duration": 9,
    "start_time": "2023-11-25T11:09:09.682Z"
   },
   {
    "duration": 143,
    "start_time": "2023-11-25T11:09:09.693Z"
   },
   {
    "duration": 127,
    "start_time": "2023-11-25T11:09:09.838Z"
   },
   {
    "duration": 134,
    "start_time": "2023-11-25T11:09:09.967Z"
   },
   {
    "duration": 136,
    "start_time": "2023-11-25T11:09:10.103Z"
   },
   {
    "duration": 136,
    "start_time": "2023-11-25T11:09:10.241Z"
   },
   {
    "duration": 358,
    "start_time": "2023-11-25T11:09:10.379Z"
   },
   {
    "duration": 5,
    "start_time": "2023-11-25T11:09:10.739Z"
   },
   {
    "duration": 365,
    "start_time": "2023-11-25T11:09:10.746Z"
   },
   {
    "duration": 341,
    "start_time": "2023-11-25T11:09:11.113Z"
   },
   {
    "duration": 318,
    "start_time": "2023-11-25T11:09:11.457Z"
   },
   {
    "duration": 301,
    "start_time": "2023-11-25T11:09:11.776Z"
   },
   {
    "duration": 5,
    "start_time": "2023-11-25T11:09:12.078Z"
   },
   {
    "duration": 23,
    "start_time": "2023-11-25T11:09:12.084Z"
   },
   {
    "duration": 5,
    "start_time": "2023-11-25T11:09:12.108Z"
   },
   {
    "duration": 47,
    "start_time": "2023-11-25T11:09:12.114Z"
   },
   {
    "duration": 18,
    "start_time": "2023-11-25T11:09:12.163Z"
   },
   {
    "duration": 32,
    "start_time": "2023-11-25T11:09:12.185Z"
   },
   {
    "duration": 19,
    "start_time": "2023-11-25T11:09:12.218Z"
   },
   {
    "duration": 29,
    "start_time": "2023-11-25T11:09:12.239Z"
   },
   {
    "duration": 17,
    "start_time": "2023-11-25T11:09:12.270Z"
   },
   {
    "duration": 16,
    "start_time": "2023-11-25T11:09:12.289Z"
   },
   {
    "duration": 18,
    "start_time": "2023-11-25T11:09:12.307Z"
   },
   {
    "duration": 49,
    "start_time": "2023-11-25T11:09:12.327Z"
   },
   {
    "duration": 22,
    "start_time": "2023-11-25T11:09:12.377Z"
   },
   {
    "duration": 4,
    "start_time": "2023-11-25T11:09:12.401Z"
   },
   {
    "duration": 10,
    "start_time": "2023-11-25T11:09:12.406Z"
   },
   {
    "duration": 11,
    "start_time": "2023-11-25T11:09:23.623Z"
   },
   {
    "duration": 4,
    "start_time": "2023-11-25T11:12:04.093Z"
   },
   {
    "duration": 8,
    "start_time": "2023-11-25T11:12:43.560Z"
   },
   {
    "duration": 13,
    "start_time": "2023-11-25T11:12:49.371Z"
   },
   {
    "duration": 1040,
    "start_time": "2023-11-25T11:12:53.984Z"
   },
   {
    "duration": 67,
    "start_time": "2023-11-25T11:12:55.026Z"
   },
   {
    "duration": 13,
    "start_time": "2023-11-25T11:12:55.095Z"
   },
   {
    "duration": 14,
    "start_time": "2023-11-25T11:12:55.110Z"
   },
   {
    "duration": 13,
    "start_time": "2023-11-25T11:12:55.126Z"
   },
   {
    "duration": 27,
    "start_time": "2023-11-25T11:12:55.141Z"
   },
   {
    "duration": 9,
    "start_time": "2023-11-25T11:12:55.170Z"
   },
   {
    "duration": 12,
    "start_time": "2023-11-25T11:12:55.181Z"
   },
   {
    "duration": 18,
    "start_time": "2023-11-25T11:12:55.195Z"
   },
   {
    "duration": 5,
    "start_time": "2023-11-25T11:12:55.214Z"
   },
   {
    "duration": 11,
    "start_time": "2023-11-25T11:12:55.220Z"
   },
   {
    "duration": 34,
    "start_time": "2023-11-25T11:12:55.232Z"
   },
   {
    "duration": 19,
    "start_time": "2023-11-25T11:12:55.268Z"
   },
   {
    "duration": 5,
    "start_time": "2023-11-25T11:12:55.290Z"
   },
   {
    "duration": 9,
    "start_time": "2023-11-25T11:12:55.296Z"
   },
   {
    "duration": 11,
    "start_time": "2023-11-25T11:12:55.307Z"
   },
   {
    "duration": 15,
    "start_time": "2023-11-25T11:12:55.319Z"
   },
   {
    "duration": 99,
    "start_time": "2023-11-25T11:12:55.336Z"
   },
   {
    "duration": 190,
    "start_time": "2023-11-25T11:12:55.437Z"
   },
   {
    "duration": 363,
    "start_time": "2023-11-25T11:12:55.629Z"
   },
   {
    "duration": 5225,
    "start_time": "2023-11-25T11:12:55.993Z"
   },
   {
    "duration": 22,
    "start_time": "2023-11-25T11:13:01.220Z"
   },
   {
    "duration": 29,
    "start_time": "2023-11-25T11:13:01.244Z"
   },
   {
    "duration": 9,
    "start_time": "2023-11-25T11:13:01.275Z"
   },
   {
    "duration": 139,
    "start_time": "2023-11-25T11:13:01.285Z"
   },
   {
    "duration": 118,
    "start_time": "2023-11-25T11:13:01.425Z"
   },
   {
    "duration": 132,
    "start_time": "2023-11-25T11:13:01.545Z"
   },
   {
    "duration": 133,
    "start_time": "2023-11-25T11:13:01.679Z"
   },
   {
    "duration": 121,
    "start_time": "2023-11-25T11:13:01.813Z"
   },
   {
    "duration": 301,
    "start_time": "2023-11-25T11:13:01.936Z"
   },
   {
    "duration": 4,
    "start_time": "2023-11-25T11:13:02.239Z"
   },
   {
    "duration": 364,
    "start_time": "2023-11-25T11:13:02.244Z"
   },
   {
    "duration": 321,
    "start_time": "2023-11-25T11:13:02.609Z"
   },
   {
    "duration": 299,
    "start_time": "2023-11-25T11:13:02.932Z"
   },
   {
    "duration": 328,
    "start_time": "2023-11-25T11:13:03.233Z"
   },
   {
    "duration": 6,
    "start_time": "2023-11-25T11:13:03.564Z"
   },
   {
    "duration": 29,
    "start_time": "2023-11-25T11:13:03.571Z"
   },
   {
    "duration": 18,
    "start_time": "2023-11-25T11:13:03.602Z"
   },
   {
    "duration": 34,
    "start_time": "2023-11-25T11:13:03.621Z"
   },
   {
    "duration": 20,
    "start_time": "2023-11-25T11:13:03.657Z"
   },
   {
    "duration": 31,
    "start_time": "2023-11-25T11:13:03.681Z"
   },
   {
    "duration": 18,
    "start_time": "2023-11-25T11:13:03.713Z"
   },
   {
    "duration": 33,
    "start_time": "2023-11-25T11:13:03.733Z"
   },
   {
    "duration": 19,
    "start_time": "2023-11-25T11:13:03.768Z"
   },
   {
    "duration": 33,
    "start_time": "2023-11-25T11:13:03.788Z"
   },
   {
    "duration": 18,
    "start_time": "2023-11-25T11:13:03.822Z"
   },
   {
    "duration": 34,
    "start_time": "2023-11-25T11:13:03.842Z"
   },
   {
    "duration": 19,
    "start_time": "2023-11-25T11:13:03.878Z"
   },
   {
    "duration": 12,
    "start_time": "2023-11-25T11:13:03.898Z"
   },
   {
    "duration": 28,
    "start_time": "2023-11-25T11:13:03.911Z"
   },
   {
    "duration": 4,
    "start_time": "2023-11-25T11:14:34.077Z"
   },
   {
    "duration": 6,
    "start_time": "2023-11-25T11:14:53.712Z"
   },
   {
    "duration": 1088,
    "start_time": "2023-11-25T11:15:05.056Z"
   },
   {
    "duration": 70,
    "start_time": "2023-11-25T11:15:06.146Z"
   },
   {
    "duration": 13,
    "start_time": "2023-11-25T11:15:06.218Z"
   },
   {
    "duration": 26,
    "start_time": "2023-11-25T11:15:06.233Z"
   },
   {
    "duration": 39,
    "start_time": "2023-11-25T11:15:06.261Z"
   },
   {
    "duration": 31,
    "start_time": "2023-11-25T11:15:06.302Z"
   },
   {
    "duration": 33,
    "start_time": "2023-11-25T11:15:06.335Z"
   },
   {
    "duration": 38,
    "start_time": "2023-11-25T11:15:06.370Z"
   },
   {
    "duration": 34,
    "start_time": "2023-11-25T11:15:06.410Z"
   },
   {
    "duration": 53,
    "start_time": "2023-11-25T11:15:06.447Z"
   },
   {
    "duration": 53,
    "start_time": "2023-11-25T11:15:06.502Z"
   },
   {
    "duration": 37,
    "start_time": "2023-11-25T11:15:06.557Z"
   },
   {
    "duration": 47,
    "start_time": "2023-11-25T11:15:06.595Z"
   },
   {
    "duration": 30,
    "start_time": "2023-11-25T11:15:06.644Z"
   },
   {
    "duration": 42,
    "start_time": "2023-11-25T11:15:06.676Z"
   },
   {
    "duration": 46,
    "start_time": "2023-11-25T11:15:06.720Z"
   },
   {
    "duration": 33,
    "start_time": "2023-11-25T11:15:06.768Z"
   },
   {
    "duration": 168,
    "start_time": "2023-11-25T11:15:06.803Z"
   },
   {
    "duration": 0,
    "start_time": "2023-11-25T11:15:06.973Z"
   },
   {
    "duration": 0,
    "start_time": "2023-11-25T11:15:06.974Z"
   },
   {
    "duration": 0,
    "start_time": "2023-11-25T11:15:06.976Z"
   },
   {
    "duration": 0,
    "start_time": "2023-11-25T11:15:06.977Z"
   },
   {
    "duration": 0,
    "start_time": "2023-11-25T11:15:06.978Z"
   },
   {
    "duration": 0,
    "start_time": "2023-11-25T11:15:06.979Z"
   },
   {
    "duration": 0,
    "start_time": "2023-11-25T11:15:06.980Z"
   },
   {
    "duration": 0,
    "start_time": "2023-11-25T11:15:06.980Z"
   },
   {
    "duration": 0,
    "start_time": "2023-11-25T11:15:06.982Z"
   },
   {
    "duration": 0,
    "start_time": "2023-11-25T11:15:06.982Z"
   },
   {
    "duration": 0,
    "start_time": "2023-11-25T11:15:06.983Z"
   },
   {
    "duration": 0,
    "start_time": "2023-11-25T11:15:06.984Z"
   },
   {
    "duration": 0,
    "start_time": "2023-11-25T11:15:06.985Z"
   },
   {
    "duration": 0,
    "start_time": "2023-11-25T11:15:06.986Z"
   },
   {
    "duration": 0,
    "start_time": "2023-11-25T11:15:06.987Z"
   },
   {
    "duration": 0,
    "start_time": "2023-11-25T11:15:06.988Z"
   },
   {
    "duration": 0,
    "start_time": "2023-11-25T11:15:06.989Z"
   },
   {
    "duration": 0,
    "start_time": "2023-11-25T11:15:06.990Z"
   },
   {
    "duration": 0,
    "start_time": "2023-11-25T11:15:06.991Z"
   },
   {
    "duration": 0,
    "start_time": "2023-11-25T11:15:06.992Z"
   },
   {
    "duration": 0,
    "start_time": "2023-11-25T11:15:06.993Z"
   },
   {
    "duration": 0,
    "start_time": "2023-11-25T11:15:06.994Z"
   },
   {
    "duration": 0,
    "start_time": "2023-11-25T11:15:06.995Z"
   },
   {
    "duration": 0,
    "start_time": "2023-11-25T11:15:06.996Z"
   },
   {
    "duration": 0,
    "start_time": "2023-11-25T11:15:06.997Z"
   },
   {
    "duration": 0,
    "start_time": "2023-11-25T11:15:06.998Z"
   },
   {
    "duration": 0,
    "start_time": "2023-11-25T11:15:06.999Z"
   },
   {
    "duration": 0,
    "start_time": "2023-11-25T11:15:07.000Z"
   },
   {
    "duration": 0,
    "start_time": "2023-11-25T11:15:07.001Z"
   },
   {
    "duration": 0,
    "start_time": "2023-11-25T11:15:07.001Z"
   },
   {
    "duration": 0,
    "start_time": "2023-11-25T11:15:07.002Z"
   },
   {
    "duration": 0,
    "start_time": "2023-11-25T11:15:07.003Z"
   },
   {
    "duration": 4,
    "start_time": "2023-11-25T11:15:19.659Z"
   },
   {
    "duration": 18,
    "start_time": "2023-11-25T11:18:49.795Z"
   },
   {
    "duration": 4,
    "start_time": "2023-11-25T12:06:38.953Z"
   },
   {
    "duration": 83,
    "start_time": "2023-11-25T12:06:38.959Z"
   },
   {
    "duration": 14,
    "start_time": "2023-11-25T12:06:39.043Z"
   },
   {
    "duration": 22,
    "start_time": "2023-11-25T12:06:39.058Z"
   },
   {
    "duration": 25,
    "start_time": "2023-11-25T12:06:39.082Z"
   },
   {
    "duration": 17,
    "start_time": "2023-11-25T12:06:39.108Z"
   },
   {
    "duration": 35,
    "start_time": "2023-11-25T12:06:39.127Z"
   },
   {
    "duration": 25,
    "start_time": "2023-11-25T12:06:39.163Z"
   },
   {
    "duration": 10,
    "start_time": "2023-11-25T12:06:39.189Z"
   },
   {
    "duration": 25,
    "start_time": "2023-11-25T12:06:39.200Z"
   },
   {
    "duration": 33,
    "start_time": "2023-11-25T12:06:39.227Z"
   },
   {
    "duration": 7,
    "start_time": "2023-11-25T12:06:39.262Z"
   },
   {
    "duration": 26,
    "start_time": "2023-11-25T12:06:39.272Z"
   },
   {
    "duration": 27,
    "start_time": "2023-11-25T12:06:39.302Z"
   },
   {
    "duration": 18,
    "start_time": "2023-11-25T12:06:39.331Z"
   },
   {
    "duration": 31,
    "start_time": "2023-11-25T12:06:39.351Z"
   },
   {
    "duration": 13,
    "start_time": "2023-11-25T12:06:39.383Z"
   },
   {
    "duration": 14,
    "start_time": "2023-11-25T12:06:39.398Z"
   },
   {
    "duration": 0,
    "start_time": "2023-11-25T12:06:39.414Z"
   },
   {
    "duration": 0,
    "start_time": "2023-11-25T12:06:39.415Z"
   },
   {
    "duration": 0,
    "start_time": "2023-11-25T12:06:39.416Z"
   },
   {
    "duration": 0,
    "start_time": "2023-11-25T12:06:39.417Z"
   },
   {
    "duration": 0,
    "start_time": "2023-11-25T12:06:39.418Z"
   },
   {
    "duration": 0,
    "start_time": "2023-11-25T12:06:39.420Z"
   },
   {
    "duration": 0,
    "start_time": "2023-11-25T12:06:39.421Z"
   },
   {
    "duration": 0,
    "start_time": "2023-11-25T12:06:39.422Z"
   },
   {
    "duration": 0,
    "start_time": "2023-11-25T12:06:39.423Z"
   },
   {
    "duration": 0,
    "start_time": "2023-11-25T12:06:39.424Z"
   },
   {
    "duration": 0,
    "start_time": "2023-11-25T12:06:39.425Z"
   },
   {
    "duration": 0,
    "start_time": "2023-11-25T12:06:39.426Z"
   },
   {
    "duration": 0,
    "start_time": "2023-11-25T12:06:39.427Z"
   },
   {
    "duration": 0,
    "start_time": "2023-11-25T12:06:39.428Z"
   },
   {
    "duration": 0,
    "start_time": "2023-11-25T12:06:39.429Z"
   },
   {
    "duration": 0,
    "start_time": "2023-11-25T12:06:39.431Z"
   },
   {
    "duration": 0,
    "start_time": "2023-11-25T12:06:39.465Z"
   },
   {
    "duration": 0,
    "start_time": "2023-11-25T12:06:39.466Z"
   },
   {
    "duration": 0,
    "start_time": "2023-11-25T12:06:39.468Z"
   },
   {
    "duration": 0,
    "start_time": "2023-11-25T12:06:39.469Z"
   },
   {
    "duration": 0,
    "start_time": "2023-11-25T12:06:39.470Z"
   },
   {
    "duration": 0,
    "start_time": "2023-11-25T12:06:39.471Z"
   },
   {
    "duration": 0,
    "start_time": "2023-11-25T12:06:39.472Z"
   },
   {
    "duration": 0,
    "start_time": "2023-11-25T12:06:39.473Z"
   },
   {
    "duration": 0,
    "start_time": "2023-11-25T12:06:39.474Z"
   },
   {
    "duration": 0,
    "start_time": "2023-11-25T12:06:39.475Z"
   },
   {
    "duration": 0,
    "start_time": "2023-11-25T12:06:39.476Z"
   },
   {
    "duration": 0,
    "start_time": "2023-11-25T12:06:39.477Z"
   },
   {
    "duration": 0,
    "start_time": "2023-11-25T12:06:39.478Z"
   },
   {
    "duration": 0,
    "start_time": "2023-11-25T12:06:39.479Z"
   },
   {
    "duration": 0,
    "start_time": "2023-11-25T12:06:39.481Z"
   },
   {
    "duration": 0,
    "start_time": "2023-11-25T12:06:39.482Z"
   },
   {
    "duration": 0,
    "start_time": "2023-11-25T12:06:39.483Z"
   },
   {
    "duration": 6,
    "start_time": "2023-11-25T12:06:56.343Z"
   },
   {
    "duration": 6,
    "start_time": "2023-11-25T12:07:04.884Z"
   },
   {
    "duration": 1164,
    "start_time": "2023-11-25T12:08:37.151Z"
   },
   {
    "duration": 68,
    "start_time": "2023-11-25T12:08:38.317Z"
   },
   {
    "duration": 13,
    "start_time": "2023-11-25T12:08:38.387Z"
   },
   {
    "duration": 16,
    "start_time": "2023-11-25T12:08:38.401Z"
   },
   {
    "duration": 14,
    "start_time": "2023-11-25T12:08:38.419Z"
   },
   {
    "duration": 8,
    "start_time": "2023-11-25T12:08:38.434Z"
   },
   {
    "duration": 9,
    "start_time": "2023-11-25T12:08:38.466Z"
   },
   {
    "duration": 19,
    "start_time": "2023-11-25T12:08:38.477Z"
   },
   {
    "duration": 4,
    "start_time": "2023-11-25T12:08:38.497Z"
   },
   {
    "duration": 8,
    "start_time": "2023-11-25T12:08:38.504Z"
   },
   {
    "duration": 17,
    "start_time": "2023-11-25T12:08:38.513Z"
   },
   {
    "duration": 18,
    "start_time": "2023-11-25T12:08:38.531Z"
   },
   {
    "duration": 25,
    "start_time": "2023-11-25T12:08:38.551Z"
   },
   {
    "duration": 23,
    "start_time": "2023-11-25T12:08:38.577Z"
   },
   {
    "duration": 7,
    "start_time": "2023-11-25T12:08:38.602Z"
   },
   {
    "duration": 17,
    "start_time": "2023-11-25T12:08:38.611Z"
   },
   {
    "duration": 14,
    "start_time": "2023-11-25T12:08:38.630Z"
   },
   {
    "duration": 16,
    "start_time": "2023-11-25T12:08:38.646Z"
   },
   {
    "duration": 175,
    "start_time": "2023-11-25T12:08:38.665Z"
   },
   {
    "duration": 0,
    "start_time": "2023-11-25T12:08:38.843Z"
   },
   {
    "duration": 0,
    "start_time": "2023-11-25T12:08:38.844Z"
   },
   {
    "duration": 0,
    "start_time": "2023-11-25T12:08:38.846Z"
   },
   {
    "duration": 0,
    "start_time": "2023-11-25T12:08:38.847Z"
   },
   {
    "duration": 0,
    "start_time": "2023-11-25T12:08:38.848Z"
   },
   {
    "duration": 0,
    "start_time": "2023-11-25T12:08:38.849Z"
   },
   {
    "duration": 0,
    "start_time": "2023-11-25T12:08:38.850Z"
   },
   {
    "duration": 0,
    "start_time": "2023-11-25T12:08:38.851Z"
   },
   {
    "duration": 0,
    "start_time": "2023-11-25T12:08:38.865Z"
   },
   {
    "duration": 0,
    "start_time": "2023-11-25T12:08:38.866Z"
   },
   {
    "duration": 0,
    "start_time": "2023-11-25T12:08:38.867Z"
   },
   {
    "duration": 0,
    "start_time": "2023-11-25T12:08:38.869Z"
   },
   {
    "duration": 0,
    "start_time": "2023-11-25T12:08:38.870Z"
   },
   {
    "duration": 0,
    "start_time": "2023-11-25T12:08:38.871Z"
   },
   {
    "duration": 0,
    "start_time": "2023-11-25T12:08:38.872Z"
   },
   {
    "duration": 0,
    "start_time": "2023-11-25T12:08:38.873Z"
   },
   {
    "duration": 0,
    "start_time": "2023-11-25T12:08:38.874Z"
   },
   {
    "duration": 0,
    "start_time": "2023-11-25T12:08:38.875Z"
   },
   {
    "duration": 0,
    "start_time": "2023-11-25T12:08:38.876Z"
   },
   {
    "duration": 0,
    "start_time": "2023-11-25T12:08:38.877Z"
   },
   {
    "duration": 0,
    "start_time": "2023-11-25T12:08:38.878Z"
   },
   {
    "duration": 0,
    "start_time": "2023-11-25T12:08:38.879Z"
   },
   {
    "duration": 0,
    "start_time": "2023-11-25T12:08:38.880Z"
   },
   {
    "duration": 0,
    "start_time": "2023-11-25T12:08:38.881Z"
   },
   {
    "duration": 1,
    "start_time": "2023-11-25T12:08:38.882Z"
   },
   {
    "duration": 0,
    "start_time": "2023-11-25T12:08:38.884Z"
   },
   {
    "duration": 0,
    "start_time": "2023-11-25T12:08:38.885Z"
   },
   {
    "duration": 0,
    "start_time": "2023-11-25T12:08:38.886Z"
   },
   {
    "duration": 0,
    "start_time": "2023-11-25T12:08:38.887Z"
   },
   {
    "duration": 0,
    "start_time": "2023-11-25T12:08:38.888Z"
   },
   {
    "duration": 0,
    "start_time": "2023-11-25T12:08:38.889Z"
   },
   {
    "duration": 0,
    "start_time": "2023-11-25T12:08:38.890Z"
   },
   {
    "duration": 8,
    "start_time": "2023-11-25T12:13:22.137Z"
   },
   {
    "duration": 2197,
    "start_time": "2023-11-25T12:13:34.770Z"
   },
   {
    "duration": 13,
    "start_time": "2023-11-25T12:16:02.032Z"
   },
   {
    "duration": 21,
    "start_time": "2023-11-25T12:16:25.981Z"
   },
   {
    "duration": 9,
    "start_time": "2023-11-25T12:19:45.490Z"
   },
   {
    "duration": 27,
    "start_time": "2023-11-25T12:20:27.004Z"
   },
   {
    "duration": 37,
    "start_time": "2023-11-25T12:20:36.547Z"
   },
   {
    "duration": 35,
    "start_time": "2023-11-25T12:20:45.999Z"
   },
   {
    "duration": 42,
    "start_time": "2023-11-25T12:22:05.766Z"
   },
   {
    "duration": 13,
    "start_time": "2023-11-25T12:24:13.833Z"
   },
   {
    "duration": 12,
    "start_time": "2023-11-25T12:24:30.440Z"
   },
   {
    "duration": 16,
    "start_time": "2023-11-25T12:25:24.389Z"
   },
   {
    "duration": 5,
    "start_time": "2023-11-25T12:27:52.881Z"
   },
   {
    "duration": 21,
    "start_time": "2023-11-25T12:28:01.405Z"
   },
   {
    "duration": 1108,
    "start_time": "2023-11-25T12:28:23.517Z"
   },
   {
    "duration": 80,
    "start_time": "2023-11-25T12:28:24.627Z"
   },
   {
    "duration": 14,
    "start_time": "2023-11-25T12:28:24.708Z"
   },
   {
    "duration": 17,
    "start_time": "2023-11-25T12:28:24.724Z"
   },
   {
    "duration": 35,
    "start_time": "2023-11-25T12:28:24.742Z"
   },
   {
    "duration": 11,
    "start_time": "2023-11-25T12:28:24.778Z"
   },
   {
    "duration": 20,
    "start_time": "2023-11-25T12:28:24.791Z"
   },
   {
    "duration": 11,
    "start_time": "2023-11-25T12:28:24.812Z"
   },
   {
    "duration": 4,
    "start_time": "2023-11-25T12:28:24.825Z"
   },
   {
    "duration": 12,
    "start_time": "2023-11-25T12:28:24.832Z"
   },
   {
    "duration": 24,
    "start_time": "2023-11-25T12:28:24.846Z"
   },
   {
    "duration": 21,
    "start_time": "2023-11-25T12:28:24.877Z"
   },
   {
    "duration": 29,
    "start_time": "2023-11-25T12:28:24.900Z"
   },
   {
    "duration": 15,
    "start_time": "2023-11-25T12:28:24.931Z"
   },
   {
    "duration": 5,
    "start_time": "2023-11-25T12:28:24.948Z"
   },
   {
    "duration": 27,
    "start_time": "2023-11-25T12:28:24.955Z"
   },
   {
    "duration": 15,
    "start_time": "2023-11-25T12:28:24.984Z"
   },
   {
    "duration": 40,
    "start_time": "2023-11-25T12:28:25.001Z"
   },
   {
    "duration": 38,
    "start_time": "2023-11-25T12:28:25.043Z"
   },
   {
    "duration": 198,
    "start_time": "2023-11-25T12:28:25.083Z"
   },
   {
    "duration": 0,
    "start_time": "2023-11-25T12:28:25.284Z"
   },
   {
    "duration": 0,
    "start_time": "2023-11-25T12:28:25.285Z"
   },
   {
    "duration": 0,
    "start_time": "2023-11-25T12:28:25.286Z"
   },
   {
    "duration": 0,
    "start_time": "2023-11-25T12:28:25.288Z"
   },
   {
    "duration": 0,
    "start_time": "2023-11-25T12:28:25.289Z"
   },
   {
    "duration": 0,
    "start_time": "2023-11-25T12:28:25.290Z"
   },
   {
    "duration": 0,
    "start_time": "2023-11-25T12:28:25.291Z"
   },
   {
    "duration": 0,
    "start_time": "2023-11-25T12:28:25.292Z"
   },
   {
    "duration": 0,
    "start_time": "2023-11-25T12:28:25.293Z"
   },
   {
    "duration": 0,
    "start_time": "2023-11-25T12:28:25.294Z"
   },
   {
    "duration": 0,
    "start_time": "2023-11-25T12:28:25.295Z"
   },
   {
    "duration": 0,
    "start_time": "2023-11-25T12:28:25.296Z"
   },
   {
    "duration": 0,
    "start_time": "2023-11-25T12:28:25.297Z"
   },
   {
    "duration": 0,
    "start_time": "2023-11-25T12:28:25.298Z"
   },
   {
    "duration": 0,
    "start_time": "2023-11-25T12:28:25.299Z"
   },
   {
    "duration": 0,
    "start_time": "2023-11-25T12:28:25.300Z"
   },
   {
    "duration": 0,
    "start_time": "2023-11-25T12:28:25.301Z"
   },
   {
    "duration": 0,
    "start_time": "2023-11-25T12:28:25.302Z"
   },
   {
    "duration": 1,
    "start_time": "2023-11-25T12:28:25.303Z"
   },
   {
    "duration": 1,
    "start_time": "2023-11-25T12:28:25.304Z"
   },
   {
    "duration": 0,
    "start_time": "2023-11-25T12:28:25.306Z"
   },
   {
    "duration": 0,
    "start_time": "2023-11-25T12:28:25.307Z"
   },
   {
    "duration": 0,
    "start_time": "2023-11-25T12:28:25.309Z"
   },
   {
    "duration": 0,
    "start_time": "2023-11-25T12:28:25.310Z"
   },
   {
    "duration": 0,
    "start_time": "2023-11-25T12:28:25.311Z"
   },
   {
    "duration": 0,
    "start_time": "2023-11-25T12:28:25.312Z"
   },
   {
    "duration": 0,
    "start_time": "2023-11-25T12:28:25.313Z"
   },
   {
    "duration": 0,
    "start_time": "2023-11-25T12:28:25.315Z"
   },
   {
    "duration": 0,
    "start_time": "2023-11-25T12:28:25.316Z"
   },
   {
    "duration": 0,
    "start_time": "2023-11-25T12:28:25.367Z"
   },
   {
    "duration": 0,
    "start_time": "2023-11-25T12:28:25.368Z"
   },
   {
    "duration": 0,
    "start_time": "2023-11-25T12:28:25.369Z"
   },
   {
    "duration": 19,
    "start_time": "2023-11-25T12:29:07.971Z"
   },
   {
    "duration": 3,
    "start_time": "2023-11-25T12:29:33.687Z"
   },
   {
    "duration": 85,
    "start_time": "2023-11-25T12:29:33.692Z"
   },
   {
    "duration": 13,
    "start_time": "2023-11-25T12:29:33.779Z"
   },
   {
    "duration": 24,
    "start_time": "2023-11-25T12:29:33.794Z"
   },
   {
    "duration": 35,
    "start_time": "2023-11-25T12:29:33.820Z"
   },
   {
    "duration": 9,
    "start_time": "2023-11-25T12:29:33.857Z"
   },
   {
    "duration": 20,
    "start_time": "2023-11-25T12:29:33.870Z"
   },
   {
    "duration": 24,
    "start_time": "2023-11-25T12:29:33.891Z"
   },
   {
    "duration": 7,
    "start_time": "2023-11-25T12:29:33.917Z"
   },
   {
    "duration": 26,
    "start_time": "2023-11-25T12:29:33.925Z"
   },
   {
    "duration": 24,
    "start_time": "2023-11-25T12:29:33.952Z"
   },
   {
    "duration": 16,
    "start_time": "2023-11-25T12:29:33.980Z"
   },
   {
    "duration": 27,
    "start_time": "2023-11-25T12:29:33.998Z"
   },
   {
    "duration": 6,
    "start_time": "2023-11-25T12:29:34.027Z"
   },
   {
    "duration": 19,
    "start_time": "2023-11-25T12:29:34.035Z"
   },
   {
    "duration": 38,
    "start_time": "2023-11-25T12:29:34.056Z"
   },
   {
    "duration": 39,
    "start_time": "2023-11-25T12:29:34.096Z"
   },
   {
    "duration": 90,
    "start_time": "2023-11-25T12:29:34.137Z"
   },
   {
    "duration": 6,
    "start_time": "2023-11-25T12:29:34.230Z"
   },
   {
    "duration": 82,
    "start_time": "2023-11-25T12:29:34.237Z"
   },
   {
    "duration": 1,
    "start_time": "2023-11-25T12:29:34.322Z"
   },
   {
    "duration": 0,
    "start_time": "2023-11-25T12:29:34.324Z"
   },
   {
    "duration": 0,
    "start_time": "2023-11-25T12:29:34.325Z"
   },
   {
    "duration": 0,
    "start_time": "2023-11-25T12:29:34.327Z"
   },
   {
    "duration": 0,
    "start_time": "2023-11-25T12:29:34.328Z"
   },
   {
    "duration": 0,
    "start_time": "2023-11-25T12:29:34.329Z"
   },
   {
    "duration": 0,
    "start_time": "2023-11-25T12:29:34.330Z"
   },
   {
    "duration": 0,
    "start_time": "2023-11-25T12:29:34.332Z"
   },
   {
    "duration": 0,
    "start_time": "2023-11-25T12:29:34.333Z"
   },
   {
    "duration": 0,
    "start_time": "2023-11-25T12:29:34.334Z"
   },
   {
    "duration": 0,
    "start_time": "2023-11-25T12:29:34.336Z"
   },
   {
    "duration": 0,
    "start_time": "2023-11-25T12:29:34.337Z"
   },
   {
    "duration": 0,
    "start_time": "2023-11-25T12:29:34.367Z"
   },
   {
    "duration": 0,
    "start_time": "2023-11-25T12:29:34.370Z"
   },
   {
    "duration": 0,
    "start_time": "2023-11-25T12:29:34.371Z"
   },
   {
    "duration": 0,
    "start_time": "2023-11-25T12:29:34.375Z"
   },
   {
    "duration": 0,
    "start_time": "2023-11-25T12:29:34.376Z"
   },
   {
    "duration": 0,
    "start_time": "2023-11-25T12:29:34.377Z"
   },
   {
    "duration": 0,
    "start_time": "2023-11-25T12:29:34.378Z"
   },
   {
    "duration": 0,
    "start_time": "2023-11-25T12:29:34.379Z"
   },
   {
    "duration": 0,
    "start_time": "2023-11-25T12:29:34.379Z"
   },
   {
    "duration": 0,
    "start_time": "2023-11-25T12:29:34.380Z"
   },
   {
    "duration": 0,
    "start_time": "2023-11-25T12:29:34.384Z"
   },
   {
    "duration": 0,
    "start_time": "2023-11-25T12:29:34.385Z"
   },
   {
    "duration": 0,
    "start_time": "2023-11-25T12:29:34.386Z"
   },
   {
    "duration": 0,
    "start_time": "2023-11-25T12:29:34.387Z"
   },
   {
    "duration": 0,
    "start_time": "2023-11-25T12:29:34.389Z"
   },
   {
    "duration": 0,
    "start_time": "2023-11-25T12:29:34.391Z"
   },
   {
    "duration": 0,
    "start_time": "2023-11-25T12:29:34.392Z"
   },
   {
    "duration": 0,
    "start_time": "2023-11-25T12:29:34.394Z"
   },
   {
    "duration": 0,
    "start_time": "2023-11-25T12:29:34.395Z"
   },
   {
    "duration": 0,
    "start_time": "2023-11-25T12:29:34.396Z"
   },
   {
    "duration": 12,
    "start_time": "2023-11-25T12:29:46.807Z"
   },
   {
    "duration": 3,
    "start_time": "2023-11-25T12:29:53.711Z"
   },
   {
    "duration": 78,
    "start_time": "2023-11-25T12:29:53.716Z"
   },
   {
    "duration": 12,
    "start_time": "2023-11-25T12:29:53.796Z"
   },
   {
    "duration": 34,
    "start_time": "2023-11-25T12:29:53.809Z"
   },
   {
    "duration": 38,
    "start_time": "2023-11-25T12:29:53.845Z"
   },
   {
    "duration": 8,
    "start_time": "2023-11-25T12:29:53.885Z"
   },
   {
    "duration": 30,
    "start_time": "2023-11-25T12:29:53.895Z"
   },
   {
    "duration": 23,
    "start_time": "2023-11-25T12:29:53.926Z"
   },
   {
    "duration": 15,
    "start_time": "2023-11-25T12:29:53.951Z"
   },
   {
    "duration": 7,
    "start_time": "2023-11-25T12:29:53.977Z"
   },
   {
    "duration": 31,
    "start_time": "2023-11-25T12:29:53.985Z"
   },
   {
    "duration": 16,
    "start_time": "2023-11-25T12:29:54.017Z"
   },
   {
    "duration": 60,
    "start_time": "2023-11-25T12:29:54.034Z"
   },
   {
    "duration": 13,
    "start_time": "2023-11-25T12:29:54.098Z"
   },
   {
    "duration": 19,
    "start_time": "2023-11-25T12:29:54.112Z"
   },
   {
    "duration": 25,
    "start_time": "2023-11-25T12:29:54.133Z"
   },
   {
    "duration": 21,
    "start_time": "2023-11-25T12:29:54.159Z"
   },
   {
    "duration": 38,
    "start_time": "2023-11-25T12:29:54.182Z"
   },
   {
    "duration": 13,
    "start_time": "2023-11-25T12:29:54.221Z"
   },
   {
    "duration": 94,
    "start_time": "2023-11-25T12:29:54.236Z"
   },
   {
    "duration": 0,
    "start_time": "2023-11-25T12:29:54.333Z"
   },
   {
    "duration": 0,
    "start_time": "2023-11-25T12:29:54.334Z"
   },
   {
    "duration": 0,
    "start_time": "2023-11-25T12:29:54.336Z"
   },
   {
    "duration": 0,
    "start_time": "2023-11-25T12:29:54.337Z"
   },
   {
    "duration": 0,
    "start_time": "2023-11-25T12:29:54.338Z"
   },
   {
    "duration": 0,
    "start_time": "2023-11-25T12:29:54.339Z"
   },
   {
    "duration": 0,
    "start_time": "2023-11-25T12:29:54.340Z"
   },
   {
    "duration": 0,
    "start_time": "2023-11-25T12:29:54.342Z"
   },
   {
    "duration": 0,
    "start_time": "2023-11-25T12:29:54.367Z"
   },
   {
    "duration": 0,
    "start_time": "2023-11-25T12:29:54.368Z"
   },
   {
    "duration": 0,
    "start_time": "2023-11-25T12:29:54.369Z"
   },
   {
    "duration": 0,
    "start_time": "2023-11-25T12:29:54.370Z"
   },
   {
    "duration": 0,
    "start_time": "2023-11-25T12:29:54.370Z"
   },
   {
    "duration": 0,
    "start_time": "2023-11-25T12:29:54.371Z"
   },
   {
    "duration": 0,
    "start_time": "2023-11-25T12:29:54.372Z"
   },
   {
    "duration": 0,
    "start_time": "2023-11-25T12:29:54.373Z"
   },
   {
    "duration": 0,
    "start_time": "2023-11-25T12:29:54.374Z"
   },
   {
    "duration": 0,
    "start_time": "2023-11-25T12:29:54.378Z"
   },
   {
    "duration": 0,
    "start_time": "2023-11-25T12:29:54.379Z"
   },
   {
    "duration": 0,
    "start_time": "2023-11-25T12:29:54.380Z"
   },
   {
    "duration": 0,
    "start_time": "2023-11-25T12:29:54.381Z"
   },
   {
    "duration": 0,
    "start_time": "2023-11-25T12:29:54.383Z"
   },
   {
    "duration": 0,
    "start_time": "2023-11-25T12:29:54.384Z"
   },
   {
    "duration": 0,
    "start_time": "2023-11-25T12:29:54.385Z"
   },
   {
    "duration": 0,
    "start_time": "2023-11-25T12:29:54.386Z"
   },
   {
    "duration": 0,
    "start_time": "2023-11-25T12:29:54.387Z"
   },
   {
    "duration": 0,
    "start_time": "2023-11-25T12:29:54.388Z"
   },
   {
    "duration": 0,
    "start_time": "2023-11-25T12:29:54.389Z"
   },
   {
    "duration": 0,
    "start_time": "2023-11-25T12:29:54.390Z"
   },
   {
    "duration": 0,
    "start_time": "2023-11-25T12:29:54.391Z"
   },
   {
    "duration": 0,
    "start_time": "2023-11-25T12:29:54.392Z"
   },
   {
    "duration": 0,
    "start_time": "2023-11-25T12:29:54.393Z"
   },
   {
    "duration": 9,
    "start_time": "2023-11-25T12:32:39.241Z"
   },
   {
    "duration": 15,
    "start_time": "2023-11-25T12:32:48.370Z"
   },
   {
    "duration": 11,
    "start_time": "2023-11-25T12:32:53.837Z"
   },
   {
    "duration": 16,
    "start_time": "2023-11-25T12:33:43.620Z"
   },
   {
    "duration": 12,
    "start_time": "2023-11-25T12:33:54.121Z"
   },
   {
    "duration": 11,
    "start_time": "2023-11-25T12:34:01.624Z"
   },
   {
    "duration": 86,
    "start_time": "2023-11-25T12:56:42.248Z"
   },
   {
    "duration": 3,
    "start_time": "2023-11-25T12:58:14.506Z"
   },
   {
    "duration": 81,
    "start_time": "2023-11-25T12:58:14.511Z"
   },
   {
    "duration": 13,
    "start_time": "2023-11-25T12:58:14.594Z"
   },
   {
    "duration": 14,
    "start_time": "2023-11-25T12:58:14.609Z"
   },
   {
    "duration": 44,
    "start_time": "2023-11-25T12:58:14.626Z"
   },
   {
    "duration": 15,
    "start_time": "2023-11-25T12:58:14.672Z"
   },
   {
    "duration": 12,
    "start_time": "2023-11-25T12:58:14.693Z"
   },
   {
    "duration": 21,
    "start_time": "2023-11-25T12:58:14.707Z"
   },
   {
    "duration": 14,
    "start_time": "2023-11-25T12:58:14.730Z"
   },
   {
    "duration": 14,
    "start_time": "2023-11-25T12:58:14.746Z"
   },
   {
    "duration": 30,
    "start_time": "2023-11-25T12:58:14.762Z"
   },
   {
    "duration": 9,
    "start_time": "2023-11-25T12:58:14.794Z"
   },
   {
    "duration": 37,
    "start_time": "2023-11-25T12:58:14.805Z"
   },
   {
    "duration": 43,
    "start_time": "2023-11-25T12:58:14.847Z"
   },
   {
    "duration": 30,
    "start_time": "2023-11-25T12:58:14.892Z"
   },
   {
    "duration": 53,
    "start_time": "2023-11-25T12:58:14.924Z"
   },
   {
    "duration": 17,
    "start_time": "2023-11-25T12:58:14.979Z"
   },
   {
    "duration": 53,
    "start_time": "2023-11-25T12:58:14.998Z"
   },
   {
    "duration": 41,
    "start_time": "2023-11-25T12:58:15.053Z"
   },
   {
    "duration": 109,
    "start_time": "2023-11-25T12:58:15.096Z"
   },
   {
    "duration": 0,
    "start_time": "2023-11-25T12:58:15.207Z"
   },
   {
    "duration": 0,
    "start_time": "2023-11-25T12:58:15.209Z"
   },
   {
    "duration": 0,
    "start_time": "2023-11-25T12:58:15.211Z"
   },
   {
    "duration": 0,
    "start_time": "2023-11-25T12:58:15.212Z"
   },
   {
    "duration": 0,
    "start_time": "2023-11-25T12:58:15.213Z"
   },
   {
    "duration": 0,
    "start_time": "2023-11-25T12:58:15.215Z"
   },
   {
    "duration": 0,
    "start_time": "2023-11-25T12:58:15.215Z"
   },
   {
    "duration": 0,
    "start_time": "2023-11-25T12:58:15.216Z"
   },
   {
    "duration": 0,
    "start_time": "2023-11-25T12:58:15.218Z"
   },
   {
    "duration": 0,
    "start_time": "2023-11-25T12:58:15.219Z"
   },
   {
    "duration": 0,
    "start_time": "2023-11-25T12:58:15.220Z"
   },
   {
    "duration": 0,
    "start_time": "2023-11-25T12:58:15.221Z"
   },
   {
    "duration": 0,
    "start_time": "2023-11-25T12:58:15.222Z"
   },
   {
    "duration": 0,
    "start_time": "2023-11-25T12:58:15.223Z"
   },
   {
    "duration": 0,
    "start_time": "2023-11-25T12:58:15.224Z"
   },
   {
    "duration": 0,
    "start_time": "2023-11-25T12:58:15.225Z"
   },
   {
    "duration": 0,
    "start_time": "2023-11-25T12:58:15.226Z"
   },
   {
    "duration": 0,
    "start_time": "2023-11-25T12:58:15.227Z"
   },
   {
    "duration": 0,
    "start_time": "2023-11-25T12:58:15.270Z"
   },
   {
    "duration": 0,
    "start_time": "2023-11-25T12:58:15.272Z"
   },
   {
    "duration": 0,
    "start_time": "2023-11-25T12:58:15.274Z"
   },
   {
    "duration": 0,
    "start_time": "2023-11-25T12:58:15.276Z"
   },
   {
    "duration": 0,
    "start_time": "2023-11-25T12:58:15.277Z"
   },
   {
    "duration": 0,
    "start_time": "2023-11-25T12:58:15.279Z"
   },
   {
    "duration": 0,
    "start_time": "2023-11-25T12:58:15.280Z"
   },
   {
    "duration": 0,
    "start_time": "2023-11-25T12:58:15.281Z"
   },
   {
    "duration": 0,
    "start_time": "2023-11-25T12:58:15.282Z"
   },
   {
    "duration": 1,
    "start_time": "2023-11-25T12:58:15.283Z"
   },
   {
    "duration": 1,
    "start_time": "2023-11-25T12:58:15.284Z"
   },
   {
    "duration": 0,
    "start_time": "2023-11-25T12:58:15.288Z"
   },
   {
    "duration": 0,
    "start_time": "2023-11-25T12:58:15.291Z"
   },
   {
    "duration": 0,
    "start_time": "2023-11-25T12:58:15.292Z"
   },
   {
    "duration": 75,
    "start_time": "2023-11-25T12:58:52.036Z"
   },
   {
    "duration": 86,
    "start_time": "2023-11-25T12:58:56.496Z"
   },
   {
    "duration": 86,
    "start_time": "2023-11-25T13:00:01.423Z"
   },
   {
    "duration": 7,
    "start_time": "2023-11-25T13:00:09.163Z"
   },
   {
    "duration": 72,
    "start_time": "2023-11-25T13:00:09.177Z"
   },
   {
    "duration": 24,
    "start_time": "2023-11-25T13:00:09.250Z"
   },
   {
    "duration": 31,
    "start_time": "2023-11-25T13:00:09.276Z"
   },
   {
    "duration": 17,
    "start_time": "2023-11-25T13:00:09.309Z"
   },
   {
    "duration": 8,
    "start_time": "2023-11-25T13:00:09.328Z"
   },
   {
    "duration": 23,
    "start_time": "2023-11-25T13:00:09.338Z"
   },
   {
    "duration": 28,
    "start_time": "2023-11-25T13:00:09.363Z"
   },
   {
    "duration": 15,
    "start_time": "2023-11-25T13:00:09.393Z"
   },
   {
    "duration": 48,
    "start_time": "2023-11-25T13:00:09.410Z"
   },
   {
    "duration": 53,
    "start_time": "2023-11-25T13:00:09.460Z"
   },
   {
    "duration": 5,
    "start_time": "2023-11-25T13:00:09.515Z"
   },
   {
    "duration": 20,
    "start_time": "2023-11-25T13:00:09.522Z"
   },
   {
    "duration": 19,
    "start_time": "2023-11-25T13:00:09.545Z"
   },
   {
    "duration": 25,
    "start_time": "2023-11-25T13:00:09.565Z"
   },
   {
    "duration": 19,
    "start_time": "2023-11-25T13:00:09.592Z"
   },
   {
    "duration": 13,
    "start_time": "2023-11-25T13:00:09.613Z"
   },
   {
    "duration": 52,
    "start_time": "2023-11-25T13:00:09.627Z"
   },
   {
    "duration": 10,
    "start_time": "2023-11-25T13:00:09.681Z"
   },
   {
    "duration": 17,
    "start_time": "2023-11-25T13:00:09.693Z"
   },
   {
    "duration": 184,
    "start_time": "2023-11-25T13:00:09.712Z"
   },
   {
    "duration": 343,
    "start_time": "2023-11-25T13:00:09.898Z"
   },
   {
    "duration": 5791,
    "start_time": "2023-11-25T13:00:10.243Z"
   },
   {
    "duration": 43,
    "start_time": "2023-11-25T13:00:16.036Z"
   },
   {
    "duration": 25,
    "start_time": "2023-11-25T13:00:16.085Z"
   },
   {
    "duration": 14,
    "start_time": "2023-11-25T13:00:16.112Z"
   },
   {
    "duration": 166,
    "start_time": "2023-11-25T13:00:16.128Z"
   },
   {
    "duration": 141,
    "start_time": "2023-11-25T13:00:16.296Z"
   },
   {
    "duration": 161,
    "start_time": "2023-11-25T13:00:16.438Z"
   },
   {
    "duration": 172,
    "start_time": "2023-11-25T13:00:16.601Z"
   },
   {
    "duration": 131,
    "start_time": "2023-11-25T13:00:16.774Z"
   },
   {
    "duration": 352,
    "start_time": "2023-11-25T13:00:16.907Z"
   },
   {
    "duration": 6,
    "start_time": "2023-11-25T13:00:17.271Z"
   },
   {
    "duration": 377,
    "start_time": "2023-11-25T13:00:17.279Z"
   },
   {
    "duration": 348,
    "start_time": "2023-11-25T13:00:17.665Z"
   },
   {
    "duration": 344,
    "start_time": "2023-11-25T13:00:18.015Z"
   },
   {
    "duration": 354,
    "start_time": "2023-11-25T13:00:18.368Z"
   },
   {
    "duration": 6,
    "start_time": "2023-11-25T13:00:18.723Z"
   },
   {
    "duration": 12,
    "start_time": "2023-11-25T13:00:18.730Z"
   },
   {
    "duration": 33,
    "start_time": "2023-11-25T13:00:18.744Z"
   },
   {
    "duration": 19,
    "start_time": "2023-11-25T13:00:18.784Z"
   },
   {
    "duration": 18,
    "start_time": "2023-11-25T13:00:18.805Z"
   },
   {
    "duration": 19,
    "start_time": "2023-11-25T13:00:18.825Z"
   },
   {
    "duration": 21,
    "start_time": "2023-11-25T13:00:18.866Z"
   },
   {
    "duration": 25,
    "start_time": "2023-11-25T13:00:18.890Z"
   },
   {
    "duration": 19,
    "start_time": "2023-11-25T13:00:18.916Z"
   },
   {
    "duration": 54,
    "start_time": "2023-11-25T13:00:18.937Z"
   },
   {
    "duration": 20,
    "start_time": "2023-11-25T13:00:18.994Z"
   },
   {
    "duration": 25,
    "start_time": "2023-11-25T13:00:19.016Z"
   },
   {
    "duration": 40,
    "start_time": "2023-11-25T13:00:19.043Z"
   },
   {
    "duration": 7,
    "start_time": "2023-11-25T13:00:19.085Z"
   },
   {
    "duration": 11,
    "start_time": "2023-11-25T13:00:19.093Z"
   },
   {
    "duration": 130,
    "start_time": "2023-11-25T13:02:28.592Z"
   },
   {
    "duration": 12,
    "start_time": "2023-11-25T13:05:10.910Z"
   },
   {
    "duration": 18,
    "start_time": "2023-11-25T13:05:24.503Z"
   },
   {
    "duration": 17,
    "start_time": "2023-11-25T13:05:28.875Z"
   },
   {
    "duration": 13,
    "start_time": "2023-11-25T13:06:11.376Z"
   },
   {
    "duration": 4,
    "start_time": "2023-11-25T13:06:18.374Z"
   },
   {
    "duration": 87,
    "start_time": "2023-11-25T13:06:18.381Z"
   },
   {
    "duration": 17,
    "start_time": "2023-11-25T13:06:18.470Z"
   },
   {
    "duration": 13,
    "start_time": "2023-11-25T13:06:18.489Z"
   },
   {
    "duration": 24,
    "start_time": "2023-11-25T13:06:18.504Z"
   },
   {
    "duration": 9,
    "start_time": "2023-11-25T13:06:18.530Z"
   },
   {
    "duration": 43,
    "start_time": "2023-11-25T13:06:18.541Z"
   },
   {
    "duration": 36,
    "start_time": "2023-11-25T13:06:18.586Z"
   },
   {
    "duration": 39,
    "start_time": "2023-11-25T13:06:18.624Z"
   },
   {
    "duration": 31,
    "start_time": "2023-11-25T13:06:18.666Z"
   },
   {
    "duration": 19,
    "start_time": "2023-11-25T13:06:18.699Z"
   },
   {
    "duration": 5,
    "start_time": "2023-11-25T13:06:18.720Z"
   },
   {
    "duration": 20,
    "start_time": "2023-11-25T13:06:18.727Z"
   },
   {
    "duration": 31,
    "start_time": "2023-11-25T13:06:18.750Z"
   },
   {
    "duration": 15,
    "start_time": "2023-11-25T13:06:18.783Z"
   },
   {
    "duration": 27,
    "start_time": "2023-11-25T13:06:18.800Z"
   },
   {
    "duration": 23,
    "start_time": "2023-11-25T13:06:18.829Z"
   },
   {
    "duration": 50,
    "start_time": "2023-11-25T13:06:18.854Z"
   },
   {
    "duration": 12,
    "start_time": "2023-11-25T13:06:18.906Z"
   },
   {
    "duration": 8,
    "start_time": "2023-11-25T13:06:18.920Z"
   },
   {
    "duration": 190,
    "start_time": "2023-11-25T13:06:18.930Z"
   },
   {
    "duration": 353,
    "start_time": "2023-11-25T13:06:19.122Z"
   },
   {
    "duration": 5611,
    "start_time": "2023-11-25T13:06:19.476Z"
   },
   {
    "duration": 24,
    "start_time": "2023-11-25T13:06:25.089Z"
   },
   {
    "duration": 15,
    "start_time": "2023-11-25T13:06:25.114Z"
   },
   {
    "duration": 8,
    "start_time": "2023-11-25T13:06:25.131Z"
   },
   {
    "duration": 161,
    "start_time": "2023-11-25T13:06:25.141Z"
   },
   {
    "duration": 133,
    "start_time": "2023-11-25T13:06:25.303Z"
   },
   {
    "duration": 248,
    "start_time": "2023-11-25T13:06:25.438Z"
   },
   {
    "duration": 143,
    "start_time": "2023-11-25T13:06:25.688Z"
   },
   {
    "duration": 164,
    "start_time": "2023-11-25T13:06:25.833Z"
   },
   {
    "duration": 339,
    "start_time": "2023-11-25T13:06:25.998Z"
   },
   {
    "duration": 4,
    "start_time": "2023-11-25T13:06:26.339Z"
   },
   {
    "duration": 362,
    "start_time": "2023-11-25T13:06:26.344Z"
   },
   {
    "duration": 315,
    "start_time": "2023-11-25T13:06:26.707Z"
   },
   {
    "duration": 300,
    "start_time": "2023-11-25T13:06:27.023Z"
   },
   {
    "duration": 438,
    "start_time": "2023-11-25T13:06:27.324Z"
   },
   {
    "duration": 8,
    "start_time": "2023-11-25T13:06:27.765Z"
   },
   {
    "duration": 19,
    "start_time": "2023-11-25T13:06:27.775Z"
   },
   {
    "duration": 5,
    "start_time": "2023-11-25T13:06:27.796Z"
   },
   {
    "duration": 39,
    "start_time": "2023-11-25T13:06:27.805Z"
   },
   {
    "duration": 34,
    "start_time": "2023-11-25T13:06:27.846Z"
   },
   {
    "duration": 20,
    "start_time": "2023-11-25T13:06:27.882Z"
   },
   {
    "duration": 24,
    "start_time": "2023-11-25T13:06:27.904Z"
   },
   {
    "duration": 40,
    "start_time": "2023-11-25T13:06:27.929Z"
   },
   {
    "duration": 22,
    "start_time": "2023-11-25T13:06:27.971Z"
   },
   {
    "duration": 19,
    "start_time": "2023-11-25T13:06:27.994Z"
   },
   {
    "duration": 53,
    "start_time": "2023-11-25T13:06:28.015Z"
   },
   {
    "duration": 25,
    "start_time": "2023-11-25T13:06:28.070Z"
   },
   {
    "duration": 11,
    "start_time": "2023-11-25T13:06:28.097Z"
   },
   {
    "duration": 10,
    "start_time": "2023-11-25T13:06:28.109Z"
   },
   {
    "duration": 16,
    "start_time": "2023-11-25T13:06:28.121Z"
   },
   {
    "duration": 5510,
    "start_time": "2023-11-25T13:09:48.737Z"
   },
   {
    "duration": 167,
    "start_time": "2023-11-25T13:11:07.248Z"
   },
   {
    "duration": 5563,
    "start_time": "2023-11-25T13:11:14.648Z"
   },
   {
    "duration": 126,
    "start_time": "2023-11-25T13:26:26.257Z"
   },
   {
    "duration": 122,
    "start_time": "2023-11-25T13:30:02.505Z"
   },
   {
    "duration": 1133,
    "start_time": "2023-11-25T13:58:54.391Z"
   },
   {
    "duration": 70,
    "start_time": "2023-11-25T13:58:55.526Z"
   },
   {
    "duration": 13,
    "start_time": "2023-11-25T13:58:55.598Z"
   },
   {
    "duration": 14,
    "start_time": "2023-11-25T13:58:55.613Z"
   },
   {
    "duration": 14,
    "start_time": "2023-11-25T13:58:55.629Z"
   },
   {
    "duration": 8,
    "start_time": "2023-11-25T13:58:55.666Z"
   },
   {
    "duration": 9,
    "start_time": "2023-11-25T13:58:55.675Z"
   },
   {
    "duration": 10,
    "start_time": "2023-11-25T13:58:55.686Z"
   },
   {
    "duration": 3,
    "start_time": "2023-11-25T13:58:55.697Z"
   },
   {
    "duration": 4,
    "start_time": "2023-11-25T13:58:55.702Z"
   },
   {
    "duration": 12,
    "start_time": "2023-11-25T13:58:55.707Z"
   },
   {
    "duration": 5,
    "start_time": "2023-11-25T13:58:55.720Z"
   },
   {
    "duration": 16,
    "start_time": "2023-11-25T13:58:55.766Z"
   },
   {
    "duration": 8,
    "start_time": "2023-11-25T13:58:55.785Z"
   },
   {
    "duration": 5,
    "start_time": "2023-11-25T13:58:55.795Z"
   },
   {
    "duration": 22,
    "start_time": "2023-11-25T13:58:55.802Z"
   },
   {
    "duration": 16,
    "start_time": "2023-11-25T13:58:55.826Z"
   },
   {
    "duration": 41,
    "start_time": "2023-11-25T13:58:55.865Z"
   },
   {
    "duration": 13,
    "start_time": "2023-11-25T13:58:55.908Z"
   },
   {
    "duration": 4,
    "start_time": "2023-11-25T13:58:55.923Z"
   },
   {
    "duration": 212,
    "start_time": "2023-11-25T13:58:55.928Z"
   },
   {
    "duration": 337,
    "start_time": "2023-11-25T13:58:56.142Z"
   },
   {
    "duration": 106,
    "start_time": "2023-11-25T13:58:56.481Z"
   },
   {
    "duration": 0,
    "start_time": "2023-11-25T13:58:56.589Z"
   },
   {
    "duration": 0,
    "start_time": "2023-11-25T13:58:56.590Z"
   },
   {
    "duration": 0,
    "start_time": "2023-11-25T13:58:56.591Z"
   },
   {
    "duration": 0,
    "start_time": "2023-11-25T13:58:56.592Z"
   },
   {
    "duration": 0,
    "start_time": "2023-11-25T13:58:56.593Z"
   },
   {
    "duration": 0,
    "start_time": "2023-11-25T13:58:56.594Z"
   },
   {
    "duration": 0,
    "start_time": "2023-11-25T13:58:56.595Z"
   },
   {
    "duration": 0,
    "start_time": "2023-11-25T13:58:56.596Z"
   },
   {
    "duration": 0,
    "start_time": "2023-11-25T13:58:56.597Z"
   },
   {
    "duration": 0,
    "start_time": "2023-11-25T13:58:56.598Z"
   },
   {
    "duration": 0,
    "start_time": "2023-11-25T13:58:56.599Z"
   },
   {
    "duration": 0,
    "start_time": "2023-11-25T13:58:56.600Z"
   },
   {
    "duration": 0,
    "start_time": "2023-11-25T13:58:56.600Z"
   },
   {
    "duration": 0,
    "start_time": "2023-11-25T13:58:56.601Z"
   },
   {
    "duration": 0,
    "start_time": "2023-11-25T13:58:56.602Z"
   },
   {
    "duration": 0,
    "start_time": "2023-11-25T13:58:56.604Z"
   },
   {
    "duration": 0,
    "start_time": "2023-11-25T13:58:56.604Z"
   },
   {
    "duration": 0,
    "start_time": "2023-11-25T13:58:56.606Z"
   },
   {
    "duration": 0,
    "start_time": "2023-11-25T13:58:56.607Z"
   },
   {
    "duration": 0,
    "start_time": "2023-11-25T13:58:56.608Z"
   },
   {
    "duration": 0,
    "start_time": "2023-11-25T13:58:56.609Z"
   },
   {
    "duration": 0,
    "start_time": "2023-11-25T13:58:56.610Z"
   },
   {
    "duration": 0,
    "start_time": "2023-11-25T13:58:56.610Z"
   },
   {
    "duration": 0,
    "start_time": "2023-11-25T13:58:56.611Z"
   },
   {
    "duration": 0,
    "start_time": "2023-11-25T13:58:56.612Z"
   },
   {
    "duration": 0,
    "start_time": "2023-11-25T13:58:56.613Z"
   },
   {
    "duration": 0,
    "start_time": "2023-11-25T13:58:56.614Z"
   },
   {
    "duration": 0,
    "start_time": "2023-11-25T13:58:56.615Z"
   },
   {
    "duration": 0,
    "start_time": "2023-11-25T13:58:56.616Z"
   },
   {
    "duration": 9,
    "start_time": "2023-11-25T14:00:38.062Z"
   },
   {
    "duration": 5499,
    "start_time": "2023-11-25T14:01:08.348Z"
   },
   {
    "duration": 2,
    "start_time": "2023-11-25T14:03:08.031Z"
   },
   {
    "duration": 69,
    "start_time": "2023-11-25T14:03:08.035Z"
   },
   {
    "duration": 12,
    "start_time": "2023-11-25T14:03:08.106Z"
   },
   {
    "duration": 13,
    "start_time": "2023-11-25T14:03:08.120Z"
   },
   {
    "duration": 33,
    "start_time": "2023-11-25T14:03:08.135Z"
   },
   {
    "duration": 8,
    "start_time": "2023-11-25T14:03:08.169Z"
   },
   {
    "duration": 15,
    "start_time": "2023-11-25T14:03:08.178Z"
   },
   {
    "duration": 10,
    "start_time": "2023-11-25T14:03:08.194Z"
   },
   {
    "duration": 3,
    "start_time": "2023-11-25T14:03:08.206Z"
   },
   {
    "duration": 10,
    "start_time": "2023-11-25T14:03:08.210Z"
   },
   {
    "duration": 13,
    "start_time": "2023-11-25T14:03:08.221Z"
   },
   {
    "duration": 7,
    "start_time": "2023-11-25T14:03:08.235Z"
   },
   {
    "duration": 32,
    "start_time": "2023-11-25T14:03:08.243Z"
   },
   {
    "duration": 4,
    "start_time": "2023-11-25T14:03:08.278Z"
   },
   {
    "duration": 8,
    "start_time": "2023-11-25T14:03:08.284Z"
   },
   {
    "duration": 30,
    "start_time": "2023-11-25T14:03:08.293Z"
   },
   {
    "duration": 13,
    "start_time": "2023-11-25T14:03:08.324Z"
   },
   {
    "duration": 50,
    "start_time": "2023-11-25T14:03:08.338Z"
   },
   {
    "duration": 9,
    "start_time": "2023-11-25T14:03:08.389Z"
   },
   {
    "duration": 2,
    "start_time": "2023-11-25T14:03:08.400Z"
   },
   {
    "duration": 179,
    "start_time": "2023-11-25T14:03:08.403Z"
   },
   {
    "duration": 344,
    "start_time": "2023-11-25T14:03:08.583Z"
   },
   {
    "duration": 5352,
    "start_time": "2023-11-25T14:03:08.928Z"
   },
   {
    "duration": 30,
    "start_time": "2023-11-25T14:03:14.282Z"
   },
   {
    "duration": 19,
    "start_time": "2023-11-25T14:03:14.314Z"
   },
   {
    "duration": 34,
    "start_time": "2023-11-25T14:03:14.335Z"
   },
   {
    "duration": 140,
    "start_time": "2023-11-25T14:03:14.370Z"
   },
   {
    "duration": 124,
    "start_time": "2023-11-25T14:03:14.511Z"
   },
   {
    "duration": 142,
    "start_time": "2023-11-25T14:03:14.636Z"
   },
   {
    "duration": 137,
    "start_time": "2023-11-25T14:03:14.780Z"
   },
   {
    "duration": 124,
    "start_time": "2023-11-25T14:03:14.919Z"
   },
   {
    "duration": 328,
    "start_time": "2023-11-25T14:03:15.045Z"
   },
   {
    "duration": 4,
    "start_time": "2023-11-25T14:03:15.375Z"
   },
   {
    "duration": 376,
    "start_time": "2023-11-25T14:03:15.381Z"
   },
   {
    "duration": 354,
    "start_time": "2023-11-25T14:03:15.766Z"
   },
   {
    "duration": 288,
    "start_time": "2023-11-25T14:03:16.122Z"
   },
   {
    "duration": 341,
    "start_time": "2023-11-25T14:03:16.411Z"
   },
   {
    "duration": 11,
    "start_time": "2023-11-25T14:03:16.754Z"
   },
   {
    "duration": 13,
    "start_time": "2023-11-25T14:03:16.767Z"
   },
   {
    "duration": 4,
    "start_time": "2023-11-25T14:03:16.781Z"
   },
   {
    "duration": 22,
    "start_time": "2023-11-25T14:03:16.789Z"
   },
   {
    "duration": 20,
    "start_time": "2023-11-25T14:03:16.812Z"
   },
   {
    "duration": 45,
    "start_time": "2023-11-25T14:03:16.833Z"
   },
   {
    "duration": 17,
    "start_time": "2023-11-25T14:03:16.880Z"
   },
   {
    "duration": 17,
    "start_time": "2023-11-25T14:03:16.899Z"
   },
   {
    "duration": 52,
    "start_time": "2023-11-25T14:03:16.918Z"
   },
   {
    "duration": 17,
    "start_time": "2023-11-25T14:03:16.971Z"
   },
   {
    "duration": 17,
    "start_time": "2023-11-25T14:03:16.990Z"
   },
   {
    "duration": 17,
    "start_time": "2023-11-25T14:03:17.008Z"
   },
   {
    "duration": 42,
    "start_time": "2023-11-25T14:03:17.027Z"
   },
   {
    "duration": 6,
    "start_time": "2023-11-25T14:03:17.070Z"
   },
   {
    "duration": 9,
    "start_time": "2023-11-25T14:03:17.077Z"
   },
   {
    "duration": 73,
    "start_time": "2023-11-25T14:04:26.252Z"
   },
   {
    "duration": 5,
    "start_time": "2023-11-25T14:20:23.771Z"
   },
   {
    "duration": 12,
    "start_time": "2023-11-25T14:20:33.196Z"
   },
   {
    "duration": 56,
    "start_time": "2023-11-25T14:29:31.590Z"
   },
   {
    "duration": 14,
    "start_time": "2023-11-25T14:31:26.282Z"
   },
   {
    "duration": 247,
    "start_time": "2023-11-25T14:32:02.350Z"
   },
   {
    "duration": 13,
    "start_time": "2023-11-25T14:37:15.662Z"
   },
   {
    "duration": 3,
    "start_time": "2023-11-25T14:37:18.219Z"
   },
   {
    "duration": 81,
    "start_time": "2023-11-25T14:37:18.224Z"
   },
   {
    "duration": 13,
    "start_time": "2023-11-25T14:37:18.306Z"
   },
   {
    "duration": 32,
    "start_time": "2023-11-25T14:37:18.320Z"
   },
   {
    "duration": 102,
    "start_time": "2023-11-25T14:37:18.355Z"
   },
   {
    "duration": 9,
    "start_time": "2023-11-25T14:37:18.459Z"
   },
   {
    "duration": 26,
    "start_time": "2023-11-25T14:37:18.470Z"
   },
   {
    "duration": 28,
    "start_time": "2023-11-25T14:37:18.497Z"
   },
   {
    "duration": 30,
    "start_time": "2023-11-25T14:37:18.527Z"
   },
   {
    "duration": 36,
    "start_time": "2023-11-25T14:37:18.559Z"
   },
   {
    "duration": 30,
    "start_time": "2023-11-25T14:37:18.597Z"
   },
   {
    "duration": 23,
    "start_time": "2023-11-25T14:37:18.629Z"
   },
   {
    "duration": 26,
    "start_time": "2023-11-25T14:37:18.654Z"
   },
   {
    "duration": 22,
    "start_time": "2023-11-25T14:37:18.683Z"
   },
   {
    "duration": 30,
    "start_time": "2023-11-25T14:37:18.707Z"
   },
   {
    "duration": 37,
    "start_time": "2023-11-25T14:37:18.739Z"
   },
   {
    "duration": 12,
    "start_time": "2023-11-25T14:37:18.777Z"
   },
   {
    "duration": 34,
    "start_time": "2023-11-25T14:37:18.791Z"
   },
   {
    "duration": 9,
    "start_time": "2023-11-25T14:37:18.826Z"
   },
   {
    "duration": 29,
    "start_time": "2023-11-25T14:37:18.836Z"
   },
   {
    "duration": 181,
    "start_time": "2023-11-25T14:37:18.867Z"
   },
   {
    "duration": 322,
    "start_time": "2023-11-25T14:37:19.051Z"
   },
   {
    "duration": 5321,
    "start_time": "2023-11-25T14:37:19.375Z"
   },
   {
    "duration": 25,
    "start_time": "2023-11-25T14:37:24.698Z"
   },
   {
    "duration": 13,
    "start_time": "2023-11-25T14:37:24.725Z"
   },
   {
    "duration": 29,
    "start_time": "2023-11-25T14:37:24.740Z"
   },
   {
    "duration": 346,
    "start_time": "2023-11-25T14:37:24.771Z"
   },
   {
    "duration": 314,
    "start_time": "2023-11-25T14:37:25.119Z"
   },
   {
    "duration": 11,
    "start_time": "2023-11-25T14:37:25.435Z"
   },
   {
    "duration": 296,
    "start_time": "2023-11-25T14:37:25.448Z"
   },
   {
    "duration": 347,
    "start_time": "2023-11-25T14:37:25.746Z"
   },
   {
    "duration": 334,
    "start_time": "2023-11-25T14:37:26.094Z"
   },
   {
    "duration": 377,
    "start_time": "2023-11-25T14:37:26.430Z"
   },
   {
    "duration": 4,
    "start_time": "2023-11-25T14:37:26.809Z"
   },
   {
    "duration": 18,
    "start_time": "2023-11-25T14:37:26.814Z"
   },
   {
    "duration": 4,
    "start_time": "2023-11-25T14:37:26.834Z"
   },
   {
    "duration": 36,
    "start_time": "2023-11-25T14:37:26.839Z"
   },
   {
    "duration": 16,
    "start_time": "2023-11-25T14:37:26.877Z"
   },
   {
    "duration": 18,
    "start_time": "2023-11-25T14:37:26.894Z"
   },
   {
    "duration": 17,
    "start_time": "2023-11-25T14:37:26.913Z"
   },
   {
    "duration": 44,
    "start_time": "2023-11-25T14:37:26.933Z"
   },
   {
    "duration": 16,
    "start_time": "2023-11-25T14:37:26.978Z"
   },
   {
    "duration": 16,
    "start_time": "2023-11-25T14:37:26.996Z"
   },
   {
    "duration": 16,
    "start_time": "2023-11-25T14:37:27.013Z"
   },
   {
    "duration": 16,
    "start_time": "2023-11-25T14:37:27.066Z"
   },
   {
    "duration": 10,
    "start_time": "2023-11-25T14:37:27.084Z"
   },
   {
    "duration": 3,
    "start_time": "2023-11-25T14:37:27.095Z"
   },
   {
    "duration": 7,
    "start_time": "2023-11-25T14:37:27.100Z"
   },
   {
    "duration": 8,
    "start_time": "2023-11-25T14:47:38.313Z"
   },
   {
    "duration": 17,
    "start_time": "2023-11-25T14:47:43.401Z"
   },
   {
    "duration": 14,
    "start_time": "2023-11-25T14:47:59.205Z"
   },
   {
    "duration": 5,
    "start_time": "2023-11-25T14:49:13.536Z"
   },
   {
    "duration": 12,
    "start_time": "2023-11-25T14:49:29.414Z"
   },
   {
    "duration": 10,
    "start_time": "2023-11-25T14:49:34.638Z"
   },
   {
    "duration": 4,
    "start_time": "2023-11-25T14:50:04.336Z"
   },
   {
    "duration": 10,
    "start_time": "2023-11-25T14:50:08.543Z"
   },
   {
    "duration": 13,
    "start_time": "2023-11-25T14:50:20.067Z"
   },
   {
    "duration": 579,
    "start_time": "2023-11-25T14:50:48.396Z"
   },
   {
    "duration": 484,
    "start_time": "2023-11-25T14:51:43.736Z"
   },
   {
    "duration": 723,
    "start_time": "2023-11-25T14:54:40.361Z"
   },
   {
    "duration": 508,
    "start_time": "2023-11-25T14:54:56.612Z"
   },
   {
    "duration": 578,
    "start_time": "2023-11-25T14:56:01.784Z"
   },
   {
    "duration": 466,
    "start_time": "2023-11-25T14:56:22.409Z"
   },
   {
    "duration": 536,
    "start_time": "2023-11-25T14:56:30.461Z"
   },
   {
    "duration": 6,
    "start_time": "2023-11-25T14:56:55.014Z"
   },
   {
    "duration": 598,
    "start_time": "2023-11-25T14:56:58.213Z"
   },
   {
    "duration": 521,
    "start_time": "2023-11-25T14:57:10.270Z"
   },
   {
    "duration": 11,
    "start_time": "2023-11-25T15:02:38.742Z"
   },
   {
    "duration": 9,
    "start_time": "2023-11-25T15:02:45.221Z"
   },
   {
    "duration": 10,
    "start_time": "2023-11-25T15:02:54.963Z"
   },
   {
    "duration": 10,
    "start_time": "2023-11-25T15:04:15.633Z"
   },
   {
    "duration": 10,
    "start_time": "2023-11-25T15:04:28.037Z"
   },
   {
    "duration": 1332,
    "start_time": "2023-11-25T16:13:29.097Z"
   },
   {
    "duration": 113,
    "start_time": "2023-11-25T16:13:30.432Z"
   },
   {
    "duration": 13,
    "start_time": "2023-11-25T16:13:30.547Z"
   },
   {
    "duration": 75,
    "start_time": "2023-11-25T16:13:30.561Z"
   },
   {
    "duration": 49,
    "start_time": "2023-11-25T16:13:30.639Z"
   },
   {
    "duration": 23,
    "start_time": "2023-11-25T16:13:30.690Z"
   },
   {
    "duration": 37,
    "start_time": "2023-11-25T16:13:30.715Z"
   },
   {
    "duration": 77,
    "start_time": "2023-11-25T16:13:30.754Z"
   },
   {
    "duration": 40,
    "start_time": "2023-11-25T16:13:30.833Z"
   },
   {
    "duration": 47,
    "start_time": "2023-11-25T16:13:30.876Z"
   },
   {
    "duration": 55,
    "start_time": "2023-11-25T16:13:30.925Z"
   },
   {
    "duration": 31,
    "start_time": "2023-11-25T16:13:30.982Z"
   },
   {
    "duration": 45,
    "start_time": "2023-11-25T16:13:31.015Z"
   },
   {
    "duration": 34,
    "start_time": "2023-11-25T16:13:31.061Z"
   },
   {
    "duration": 35,
    "start_time": "2023-11-25T16:13:31.097Z"
   },
   {
    "duration": 39,
    "start_time": "2023-11-25T16:13:31.133Z"
   },
   {
    "duration": 17,
    "start_time": "2023-11-25T16:13:31.174Z"
   },
   {
    "duration": 68,
    "start_time": "2023-11-25T16:13:31.192Z"
   },
   {
    "duration": 9,
    "start_time": "2023-11-25T16:13:31.262Z"
   },
   {
    "duration": 19,
    "start_time": "2023-11-25T16:13:31.272Z"
   },
   {
    "duration": 186,
    "start_time": "2023-11-25T16:13:31.292Z"
   },
   {
    "duration": 322,
    "start_time": "2023-11-25T16:13:31.480Z"
   },
   {
    "duration": 5310,
    "start_time": "2023-11-25T16:13:31.803Z"
   },
   {
    "duration": 25,
    "start_time": "2023-11-25T16:13:37.115Z"
   },
   {
    "duration": 28,
    "start_time": "2023-11-25T16:13:37.142Z"
   },
   {
    "duration": 9,
    "start_time": "2023-11-25T16:13:37.172Z"
   },
   {
    "duration": 270,
    "start_time": "2023-11-25T16:13:37.183Z"
   },
   {
    "duration": 319,
    "start_time": "2023-11-25T16:13:37.457Z"
   },
   {
    "duration": 12,
    "start_time": "2023-11-25T16:13:37.777Z"
   },
   {
    "duration": 287,
    "start_time": "2023-11-25T16:13:37.790Z"
   },
   {
    "duration": 375,
    "start_time": "2023-11-25T16:13:38.079Z"
   },
   {
    "duration": 313,
    "start_time": "2023-11-25T16:13:38.456Z"
   },
   {
    "duration": 297,
    "start_time": "2023-11-25T16:13:38.771Z"
   },
   {
    "duration": 4,
    "start_time": "2023-11-25T16:13:39.070Z"
   },
   {
    "duration": 13,
    "start_time": "2023-11-25T16:13:39.075Z"
   },
   {
    "duration": 597,
    "start_time": "2023-11-25T16:13:39.089Z"
   },
   {
    "duration": 3,
    "start_time": "2023-11-25T16:13:39.688Z"
   },
   {
    "duration": 18,
    "start_time": "2023-11-25T16:13:39.693Z"
   },
   {
    "duration": 17,
    "start_time": "2023-11-25T16:13:39.712Z"
   },
   {
    "duration": 47,
    "start_time": "2023-11-25T16:13:39.730Z"
   },
   {
    "duration": 20,
    "start_time": "2023-11-25T16:13:39.779Z"
   },
   {
    "duration": 16,
    "start_time": "2023-11-25T16:13:39.801Z"
   },
   {
    "duration": 18,
    "start_time": "2023-11-25T16:13:39.818Z"
   },
   {
    "duration": 38,
    "start_time": "2023-11-25T16:13:39.843Z"
   },
   {
    "duration": 15,
    "start_time": "2023-11-25T16:13:39.883Z"
   },
   {
    "duration": 16,
    "start_time": "2023-11-25T16:13:39.899Z"
   },
   {
    "duration": 12,
    "start_time": "2023-11-25T16:13:39.916Z"
   },
   {
    "duration": 36,
    "start_time": "2023-11-25T16:13:39.930Z"
   },
   {
    "duration": 9,
    "start_time": "2023-11-25T16:13:39.968Z"
   },
   {
    "duration": 38,
    "start_time": "2023-11-25T16:26:45.616Z"
   },
   {
    "duration": 81,
    "start_time": "2023-11-25T18:35:25.776Z"
   },
   {
    "duration": 1472,
    "start_time": "2023-11-25T18:35:33.242Z"
   },
   {
    "duration": 115,
    "start_time": "2023-11-25T18:35:34.716Z"
   },
   {
    "duration": 21,
    "start_time": "2023-11-25T18:35:34.833Z"
   },
   {
    "duration": 35,
    "start_time": "2023-11-25T18:35:34.856Z"
   },
   {
    "duration": 24,
    "start_time": "2023-11-25T18:35:34.894Z"
   },
   {
    "duration": 13,
    "start_time": "2023-11-25T18:35:34.920Z"
   },
   {
    "duration": 16,
    "start_time": "2023-11-25T18:35:34.935Z"
   },
   {
    "duration": 15,
    "start_time": "2023-11-25T18:35:34.953Z"
   },
   {
    "duration": 5,
    "start_time": "2023-11-25T18:35:34.970Z"
   },
   {
    "duration": 32,
    "start_time": "2023-11-25T18:35:34.977Z"
   },
   {
    "duration": 19,
    "start_time": "2023-11-25T18:35:35.011Z"
   },
   {
    "duration": 8,
    "start_time": "2023-11-25T18:35:35.032Z"
   },
   {
    "duration": 31,
    "start_time": "2023-11-25T18:35:35.042Z"
   },
   {
    "duration": 29,
    "start_time": "2023-11-25T18:35:35.076Z"
   },
   {
    "duration": 12,
    "start_time": "2023-11-25T18:35:35.107Z"
   },
   {
    "duration": 31,
    "start_time": "2023-11-25T18:35:35.122Z"
   },
   {
    "duration": 21,
    "start_time": "2023-11-25T18:35:35.155Z"
   },
   {
    "duration": 73,
    "start_time": "2023-11-25T18:35:35.178Z"
   },
   {
    "duration": 10,
    "start_time": "2023-11-25T18:35:35.252Z"
   },
   {
    "duration": 9,
    "start_time": "2023-11-25T18:35:35.264Z"
   },
   {
    "duration": 69,
    "start_time": "2023-11-25T18:35:35.275Z"
   },
   {
    "duration": 203,
    "start_time": "2023-11-25T18:35:35.346Z"
   },
   {
    "duration": 379,
    "start_time": "2023-11-25T18:35:35.551Z"
   },
   {
    "duration": 6211,
    "start_time": "2023-11-25T18:35:35.931Z"
   },
   {
    "duration": 28,
    "start_time": "2023-11-25T18:35:42.144Z"
   },
   {
    "duration": 39,
    "start_time": "2023-11-25T18:35:42.173Z"
   },
   {
    "duration": 11,
    "start_time": "2023-11-25T18:35:42.213Z"
   },
   {
    "duration": 304,
    "start_time": "2023-11-25T18:35:42.225Z"
   },
   {
    "duration": 106,
    "start_time": "2023-11-25T18:35:42.532Z"
   },
   {
    "duration": 0,
    "start_time": "2023-11-25T18:35:42.641Z"
   },
   {
    "duration": 0,
    "start_time": "2023-11-25T18:35:42.642Z"
   },
   {
    "duration": 0,
    "start_time": "2023-11-25T18:35:42.643Z"
   },
   {
    "duration": 0,
    "start_time": "2023-11-25T18:35:42.644Z"
   },
   {
    "duration": 0,
    "start_time": "2023-11-25T18:35:42.646Z"
   },
   {
    "duration": 0,
    "start_time": "2023-11-25T18:35:42.647Z"
   },
   {
    "duration": 0,
    "start_time": "2023-11-25T18:35:42.648Z"
   },
   {
    "duration": 0,
    "start_time": "2023-11-25T18:35:42.649Z"
   },
   {
    "duration": 0,
    "start_time": "2023-11-25T18:35:42.651Z"
   },
   {
    "duration": 0,
    "start_time": "2023-11-25T18:35:42.652Z"
   },
   {
    "duration": 0,
    "start_time": "2023-11-25T18:35:42.654Z"
   },
   {
    "duration": 0,
    "start_time": "2023-11-25T18:35:42.655Z"
   },
   {
    "duration": 0,
    "start_time": "2023-11-25T18:35:42.657Z"
   },
   {
    "duration": 0,
    "start_time": "2023-11-25T18:35:42.658Z"
   },
   {
    "duration": 0,
    "start_time": "2023-11-25T18:35:42.659Z"
   },
   {
    "duration": 0,
    "start_time": "2023-11-25T18:35:42.660Z"
   },
   {
    "duration": 0,
    "start_time": "2023-11-25T18:35:42.661Z"
   },
   {
    "duration": 0,
    "start_time": "2023-11-25T18:35:42.662Z"
   },
   {
    "duration": 0,
    "start_time": "2023-11-25T18:35:42.664Z"
   },
   {
    "duration": 0,
    "start_time": "2023-11-25T18:35:42.707Z"
   },
   {
    "duration": 0,
    "start_time": "2023-11-25T18:35:42.709Z"
   },
   {
    "duration": 178,
    "start_time": "2023-11-25T18:36:05.092Z"
   },
   {
    "duration": 352,
    "start_time": "2023-11-25T18:36:42.792Z"
   },
   {
    "duration": 341,
    "start_time": "2023-11-25T18:37:50.268Z"
   },
   {
    "duration": 420,
    "start_time": "2023-11-25T18:38:23.571Z"
   },
   {
    "duration": 372,
    "start_time": "2023-11-25T18:38:39.707Z"
   },
   {
    "duration": 3,
    "start_time": "2023-11-25T18:38:48.442Z"
   },
   {
    "duration": 73,
    "start_time": "2023-11-25T18:38:48.448Z"
   },
   {
    "duration": 15,
    "start_time": "2023-11-25T18:38:48.523Z"
   },
   {
    "duration": 16,
    "start_time": "2023-11-25T18:38:48.540Z"
   },
   {
    "duration": 49,
    "start_time": "2023-11-25T18:38:48.558Z"
   },
   {
    "duration": 15,
    "start_time": "2023-11-25T18:38:48.610Z"
   },
   {
    "duration": 16,
    "start_time": "2023-11-25T18:38:48.627Z"
   },
   {
    "duration": 11,
    "start_time": "2023-11-25T18:38:48.645Z"
   },
   {
    "duration": 4,
    "start_time": "2023-11-25T18:38:48.658Z"
   },
   {
    "duration": 11,
    "start_time": "2023-11-25T18:38:48.664Z"
   },
   {
    "duration": 19,
    "start_time": "2023-11-25T18:38:48.707Z"
   },
   {
    "duration": 7,
    "start_time": "2023-11-25T18:38:48.728Z"
   },
   {
    "duration": 33,
    "start_time": "2023-11-25T18:38:48.737Z"
   },
   {
    "duration": 8,
    "start_time": "2023-11-25T18:38:48.773Z"
   },
   {
    "duration": 25,
    "start_time": "2023-11-25T18:38:48.783Z"
   },
   {
    "duration": 26,
    "start_time": "2023-11-25T18:38:48.809Z"
   },
   {
    "duration": 21,
    "start_time": "2023-11-25T18:38:48.838Z"
   },
   {
    "duration": 74,
    "start_time": "2023-11-25T18:38:48.861Z"
   },
   {
    "duration": 10,
    "start_time": "2023-11-25T18:38:48.936Z"
   },
   {
    "duration": 5,
    "start_time": "2023-11-25T18:38:48.948Z"
   },
   {
    "duration": 70,
    "start_time": "2023-11-25T18:38:48.955Z"
   },
   {
    "duration": 197,
    "start_time": "2023-11-25T18:38:49.027Z"
   },
   {
    "duration": 364,
    "start_time": "2023-11-25T18:38:49.226Z"
   },
   {
    "duration": 5976,
    "start_time": "2023-11-25T18:38:49.592Z"
   },
   {
    "duration": 37,
    "start_time": "2023-11-25T18:38:55.570Z"
   },
   {
    "duration": 18,
    "start_time": "2023-11-25T18:38:55.610Z"
   },
   {
    "duration": 11,
    "start_time": "2023-11-25T18:38:55.630Z"
   },
   {
    "duration": 313,
    "start_time": "2023-11-25T18:38:55.646Z"
   },
   {
    "duration": 379,
    "start_time": "2023-11-25T18:38:55.961Z"
   },
   {
    "duration": 11,
    "start_time": "2023-11-25T18:38:56.341Z"
   },
   {
    "duration": 321,
    "start_time": "2023-11-25T18:38:56.354Z"
   },
   {
    "duration": 450,
    "start_time": "2023-11-25T18:38:56.677Z"
   },
   {
    "duration": 389,
    "start_time": "2023-11-25T18:38:57.128Z"
   },
   {
    "duration": 339,
    "start_time": "2023-11-25T18:38:57.519Z"
   },
   {
    "duration": 5,
    "start_time": "2023-11-25T18:38:57.860Z"
   },
   {
    "duration": 43,
    "start_time": "2023-11-25T18:38:57.866Z"
   },
   {
    "duration": 648,
    "start_time": "2023-11-25T18:38:57.911Z"
   },
   {
    "duration": 5,
    "start_time": "2023-11-25T18:38:58.561Z"
   },
   {
    "duration": 28,
    "start_time": "2023-11-25T18:38:58.568Z"
   },
   {
    "duration": 43,
    "start_time": "2023-11-25T18:38:58.597Z"
   },
   {
    "duration": 25,
    "start_time": "2023-11-25T18:38:58.642Z"
   },
   {
    "duration": 49,
    "start_time": "2023-11-25T18:38:58.669Z"
   },
   {
    "duration": 22,
    "start_time": "2023-11-25T18:38:58.720Z"
   },
   {
    "duration": 24,
    "start_time": "2023-11-25T18:38:58.744Z"
   },
   {
    "duration": 46,
    "start_time": "2023-11-25T18:38:58.769Z"
   },
   {
    "duration": 20,
    "start_time": "2023-11-25T18:38:58.817Z"
   },
   {
    "duration": 126,
    "start_time": "2023-11-25T18:38:58.838Z"
   },
   {
    "duration": 11,
    "start_time": "2023-11-25T18:38:58.966Z"
   },
   {
    "duration": 29,
    "start_time": "2023-11-25T18:38:58.979Z"
   },
   {
    "duration": 10,
    "start_time": "2023-11-25T18:38:59.010Z"
   },
   {
    "duration": 12,
    "start_time": "2023-11-25T18:42:51.323Z"
   },
   {
    "duration": 1531,
    "start_time": "2023-11-25T19:03:09.698Z"
   },
   {
    "duration": 221,
    "start_time": "2023-11-25T19:03:11.232Z"
   },
   {
    "duration": 13,
    "start_time": "2023-11-25T19:03:11.454Z"
   },
   {
    "duration": 43,
    "start_time": "2023-11-25T19:03:11.469Z"
   },
   {
    "duration": 17,
    "start_time": "2023-11-25T19:03:11.514Z"
   },
   {
    "duration": 17,
    "start_time": "2023-11-25T19:03:11.533Z"
   },
   {
    "duration": 29,
    "start_time": "2023-11-25T19:03:11.551Z"
   },
   {
    "duration": 18,
    "start_time": "2023-11-25T19:03:11.581Z"
   },
   {
    "duration": 14,
    "start_time": "2023-11-25T19:03:11.600Z"
   },
   {
    "duration": 20,
    "start_time": "2023-11-25T19:03:11.615Z"
   },
   {
    "duration": 41,
    "start_time": "2023-11-25T19:03:11.637Z"
   },
   {
    "duration": 22,
    "start_time": "2023-11-25T19:03:11.679Z"
   },
   {
    "duration": 34,
    "start_time": "2023-11-25T19:03:11.702Z"
   },
   {
    "duration": 19,
    "start_time": "2023-11-25T19:03:11.740Z"
   },
   {
    "duration": 33,
    "start_time": "2023-11-25T19:03:11.760Z"
   },
   {
    "duration": 44,
    "start_time": "2023-11-25T19:03:11.795Z"
   },
   {
    "duration": 26,
    "start_time": "2023-11-25T19:03:11.841Z"
   },
   {
    "duration": 53,
    "start_time": "2023-11-25T19:03:11.868Z"
   },
   {
    "duration": 18,
    "start_time": "2023-11-25T19:03:11.923Z"
   },
   {
    "duration": 28,
    "start_time": "2023-11-25T19:03:11.942Z"
   },
   {
    "duration": 71,
    "start_time": "2023-11-25T19:03:11.971Z"
   },
   {
    "duration": 202,
    "start_time": "2023-11-25T19:03:12.044Z"
   },
   {
    "duration": 360,
    "start_time": "2023-11-25T19:03:12.247Z"
   },
   {
    "duration": 5762,
    "start_time": "2023-11-25T19:03:12.613Z"
   },
   {
    "duration": 26,
    "start_time": "2023-11-25T19:03:18.377Z"
   },
   {
    "duration": 22,
    "start_time": "2023-11-25T19:03:18.414Z"
   },
   {
    "duration": 11,
    "start_time": "2023-11-25T19:03:18.437Z"
   },
   {
    "duration": 310,
    "start_time": "2023-11-25T19:03:18.450Z"
   },
   {
    "duration": 373,
    "start_time": "2023-11-25T19:03:18.762Z"
   },
   {
    "duration": 11,
    "start_time": "2023-11-25T19:03:19.137Z"
   },
   {
    "duration": 319,
    "start_time": "2023-11-25T19:03:19.149Z"
   },
   {
    "duration": 424,
    "start_time": "2023-11-25T19:03:19.470Z"
   },
   {
    "duration": 384,
    "start_time": "2023-11-25T19:03:19.896Z"
   },
   {
    "duration": 347,
    "start_time": "2023-11-25T19:03:20.282Z"
   },
   {
    "duration": 5,
    "start_time": "2023-11-25T19:03:20.631Z"
   },
   {
    "duration": 30,
    "start_time": "2023-11-25T19:03:20.638Z"
   },
   {
    "duration": 682,
    "start_time": "2023-11-25T19:03:20.670Z"
   },
   {
    "duration": 4,
    "start_time": "2023-11-25T19:03:21.354Z"
   },
   {
    "duration": 30,
    "start_time": "2023-11-25T19:03:21.360Z"
   },
   {
    "duration": 29,
    "start_time": "2023-11-25T19:03:21.392Z"
   },
   {
    "duration": 22,
    "start_time": "2023-11-25T19:03:21.427Z"
   },
   {
    "duration": 24,
    "start_time": "2023-11-25T19:03:21.450Z"
   },
   {
    "duration": 39,
    "start_time": "2023-11-25T19:03:21.476Z"
   },
   {
    "duration": 27,
    "start_time": "2023-11-25T19:03:21.517Z"
   },
   {
    "duration": 18,
    "start_time": "2023-11-25T19:03:21.545Z"
   },
   {
    "duration": 21,
    "start_time": "2023-11-25T19:03:21.564Z"
   },
   {
    "duration": 23,
    "start_time": "2023-11-25T19:03:21.615Z"
   },
   {
    "duration": 9,
    "start_time": "2023-11-25T19:03:21.640Z"
   },
   {
    "duration": 19,
    "start_time": "2023-11-25T19:03:21.651Z"
   },
   {
    "duration": 12,
    "start_time": "2023-11-25T19:03:21.672Z"
   }
  ],
  "kernelspec": {
   "display_name": "Python 3 (ipykernel)",
   "language": "python",
   "name": "python3"
  },
  "language_info": {
   "codemirror_mode": {
    "name": "ipython",
    "version": 3
   },
   "file_extension": ".py",
   "mimetype": "text/x-python",
   "name": "python",
   "nbconvert_exporter": "python",
   "pygments_lexer": "ipython3",
   "version": "3.9.5"
  },
  "toc": {
   "base_numbering": 1,
   "nav_menu": {},
   "number_sections": true,
   "sideBar": true,
   "skip_h1_title": true,
   "title_cell": "Table of Contents",
   "title_sidebar": "Contents",
   "toc_cell": false,
   "toc_position": {},
   "toc_section_display": true,
   "toc_window_display": false
  }
 },
 "nbformat": 4,
 "nbformat_minor": 2
}

{
 "cells": [
  {
   "cell_type": "markdown",
   "metadata": {},
   "source": [
    "# Описание данных."
   ]
  },
  {
   "cell_type": "markdown",
   "metadata": {},
   "source": [
    "Сервис по продаже автомобилей с пробегом «Не бит, не крашен» разрабатывает приложение для привлечения новых клиентов, в котором можно быстро узнать рыночную стоимость своего автомобиля. Нам были предоставлены следующие данные: технические характеристики, комплектации и цены автомобилей. С помощью них нам необходимо построить модель для определения стоимости машины.<br>Заказчику важны:<br>- качество предсказания;<br>- скорость предсказания;<br>- время обучения.<br>Чтобы усилить исследование, попробуем на деле несколько разных моделей. А в конце сравним характеристики моделей: время обучения, время предсказания и точность результата."
   ]
  },
  {
   "cell_type": "markdown",
   "metadata": {},
   "source": [
    "## Подготовка данных."
   ]
  },
  {
   "cell_type": "code",
   "execution_count": 1,
   "metadata": {},
   "outputs": [],
   "source": [
    "import pandas as pd\n",
    "import numpy as np\n",
    "\n",
    "from sklearn.model_selection import train_test_split\n",
    "from sklearn.pipeline import Pipeline\n",
    "\n",
    "from sklearn.compose import ColumnTransformer\n",
    "from sklearn.preprocessing import (OneHotEncoder,\n",
    "                                   StandardScaler, \n",
    "                                   MinMaxScaler, \n",
    "                                   LabelEncoder, \n",
    "                                   LabelBinarizer)\n",
    "from sklearn.impute import SimpleImputer\n",
    "\n",
    "import lightgbm as lgb\n",
    "from sklearn.linear_model import LinearRegression\n",
    "from xgboost import XGBRegressor\n",
    "\n",
    "from sklearn.metrics import make_scorer\n",
    "from sklearn.model_selection import RandomizedSearchCV, GridSearchCV\n",
    "from sklearn.metrics import mean_squared_error\n",
    "import time\n",
    "from sklearn.model_selection import cross_val_score"
   ]
  },
  {
   "cell_type": "code",
   "execution_count": 2,
   "metadata": {},
   "outputs": [
    {
     "name": "stdout",
     "output_type": "stream",
     "text": [
      "Requirement already satisfied: scikit-learn in /opt/conda/lib/python3.9/site-packages (1.4.2)\n",
      "Requirement already satisfied: joblib>=1.2.0 in /opt/conda/lib/python3.9/site-packages (from scikit-learn) (1.4.0)\n",
      "Requirement already satisfied: scipy>=1.6.0 in /opt/conda/lib/python3.9/site-packages (from scikit-learn) (1.9.1)\n",
      "Requirement already satisfied: threadpoolctl>=2.0.0 in /opt/conda/lib/python3.9/site-packages (from scikit-learn) (3.1.0)\n",
      "Requirement already satisfied: numpy>=1.19.5 in /opt/conda/lib/python3.9/site-packages (from scikit-learn) (1.21.1)\n"
     ]
    }
   ],
   "source": [
    "!pip install --upgrade scikit-learn"
   ]
  },
  {
   "cell_type": "markdown",
   "metadata": {},
   "source": [
    "### Загрузка данных."
   ]
  },
  {
   "cell_type": "code",
   "execution_count": 3,
   "metadata": {},
   "outputs": [
    {
     "data": {
      "text/html": [
       "<div>\n",
       "<style scoped>\n",
       "    .dataframe tbody tr th:only-of-type {\n",
       "        vertical-align: middle;\n",
       "    }\n",
       "\n",
       "    .dataframe tbody tr th {\n",
       "        vertical-align: top;\n",
       "    }\n",
       "\n",
       "    .dataframe thead th {\n",
       "        text-align: right;\n",
       "    }\n",
       "</style>\n",
       "<table border=\"1\" class=\"dataframe\">\n",
       "  <thead>\n",
       "    <tr style=\"text-align: right;\">\n",
       "      <th></th>\n",
       "      <th>DateCrawled</th>\n",
       "      <th>Price</th>\n",
       "      <th>VehicleType</th>\n",
       "      <th>RegistrationYear</th>\n",
       "      <th>Gearbox</th>\n",
       "      <th>Power</th>\n",
       "      <th>Model</th>\n",
       "      <th>Kilometer</th>\n",
       "      <th>RegistrationMonth</th>\n",
       "      <th>FuelType</th>\n",
       "      <th>Brand</th>\n",
       "      <th>Repaired</th>\n",
       "      <th>DateCreated</th>\n",
       "      <th>NumberOfPictures</th>\n",
       "      <th>PostalCode</th>\n",
       "      <th>LastSeen</th>\n",
       "    </tr>\n",
       "  </thead>\n",
       "  <tbody>\n",
       "    <tr>\n",
       "      <th>0</th>\n",
       "      <td>2016-03-24 11:52:17</td>\n",
       "      <td>480</td>\n",
       "      <td>NaN</td>\n",
       "      <td>1993</td>\n",
       "      <td>manual</td>\n",
       "      <td>0</td>\n",
       "      <td>golf</td>\n",
       "      <td>150000</td>\n",
       "      <td>0</td>\n",
       "      <td>petrol</td>\n",
       "      <td>volkswagen</td>\n",
       "      <td>NaN</td>\n",
       "      <td>2016-03-24 00:00:00</td>\n",
       "      <td>0</td>\n",
       "      <td>70435</td>\n",
       "      <td>2016-04-07 03:16:57</td>\n",
       "    </tr>\n",
       "    <tr>\n",
       "      <th>1</th>\n",
       "      <td>2016-03-24 10:58:45</td>\n",
       "      <td>18300</td>\n",
       "      <td>coupe</td>\n",
       "      <td>2011</td>\n",
       "      <td>manual</td>\n",
       "      <td>190</td>\n",
       "      <td>NaN</td>\n",
       "      <td>125000</td>\n",
       "      <td>5</td>\n",
       "      <td>gasoline</td>\n",
       "      <td>audi</td>\n",
       "      <td>yes</td>\n",
       "      <td>2016-03-24 00:00:00</td>\n",
       "      <td>0</td>\n",
       "      <td>66954</td>\n",
       "      <td>2016-04-07 01:46:50</td>\n",
       "    </tr>\n",
       "    <tr>\n",
       "      <th>2</th>\n",
       "      <td>2016-03-14 12:52:21</td>\n",
       "      <td>9800</td>\n",
       "      <td>suv</td>\n",
       "      <td>2004</td>\n",
       "      <td>auto</td>\n",
       "      <td>163</td>\n",
       "      <td>grand</td>\n",
       "      <td>125000</td>\n",
       "      <td>8</td>\n",
       "      <td>gasoline</td>\n",
       "      <td>jeep</td>\n",
       "      <td>NaN</td>\n",
       "      <td>2016-03-14 00:00:00</td>\n",
       "      <td>0</td>\n",
       "      <td>90480</td>\n",
       "      <td>2016-04-05 12:47:46</td>\n",
       "    </tr>\n",
       "    <tr>\n",
       "      <th>3</th>\n",
       "      <td>2016-03-17 16:54:04</td>\n",
       "      <td>1500</td>\n",
       "      <td>small</td>\n",
       "      <td>2001</td>\n",
       "      <td>manual</td>\n",
       "      <td>75</td>\n",
       "      <td>golf</td>\n",
       "      <td>150000</td>\n",
       "      <td>6</td>\n",
       "      <td>petrol</td>\n",
       "      <td>volkswagen</td>\n",
       "      <td>no</td>\n",
       "      <td>2016-03-17 00:00:00</td>\n",
       "      <td>0</td>\n",
       "      <td>91074</td>\n",
       "      <td>2016-03-17 17:40:17</td>\n",
       "    </tr>\n",
       "    <tr>\n",
       "      <th>4</th>\n",
       "      <td>2016-03-31 17:25:20</td>\n",
       "      <td>3600</td>\n",
       "      <td>small</td>\n",
       "      <td>2008</td>\n",
       "      <td>manual</td>\n",
       "      <td>69</td>\n",
       "      <td>fabia</td>\n",
       "      <td>90000</td>\n",
       "      <td>7</td>\n",
       "      <td>gasoline</td>\n",
       "      <td>skoda</td>\n",
       "      <td>no</td>\n",
       "      <td>2016-03-31 00:00:00</td>\n",
       "      <td>0</td>\n",
       "      <td>60437</td>\n",
       "      <td>2016-04-06 10:17:21</td>\n",
       "    </tr>\n",
       "  </tbody>\n",
       "</table>\n",
       "</div>"
      ],
      "text/plain": [
       "           DateCrawled  Price VehicleType  RegistrationYear Gearbox  Power  \\\n",
       "0  2016-03-24 11:52:17    480         NaN              1993  manual      0   \n",
       "1  2016-03-24 10:58:45  18300       coupe              2011  manual    190   \n",
       "2  2016-03-14 12:52:21   9800         suv              2004    auto    163   \n",
       "3  2016-03-17 16:54:04   1500       small              2001  manual     75   \n",
       "4  2016-03-31 17:25:20   3600       small              2008  manual     69   \n",
       "\n",
       "   Model  Kilometer  RegistrationMonth  FuelType       Brand Repaired  \\\n",
       "0   golf     150000                  0    petrol  volkswagen      NaN   \n",
       "1    NaN     125000                  5  gasoline        audi      yes   \n",
       "2  grand     125000                  8  gasoline        jeep      NaN   \n",
       "3   golf     150000                  6    petrol  volkswagen       no   \n",
       "4  fabia      90000                  7  gasoline       skoda       no   \n",
       "\n",
       "           DateCreated  NumberOfPictures  PostalCode             LastSeen  \n",
       "0  2016-03-24 00:00:00                 0       70435  2016-04-07 03:16:57  \n",
       "1  2016-03-24 00:00:00                 0       66954  2016-04-07 01:46:50  \n",
       "2  2016-03-14 00:00:00                 0       90480  2016-04-05 12:47:46  \n",
       "3  2016-03-17 00:00:00                 0       91074  2016-03-17 17:40:17  \n",
       "4  2016-03-31 00:00:00                 0       60437  2016-04-06 10:17:21  "
      ]
     },
     "execution_count": 3,
     "metadata": {},
     "output_type": "execute_result"
    }
   ],
   "source": [
    "df_autos = pd.read_csv('/datasets/autos.csv')\n",
    "df_autos.head()"
   ]
  },
  {
   "cell_type": "code",
   "execution_count": 4,
   "metadata": {},
   "outputs": [
    {
     "name": "stdout",
     "output_type": "stream",
     "text": [
      "<class 'pandas.core.frame.DataFrame'>\n",
      "RangeIndex: 354369 entries, 0 to 354368\n",
      "Data columns (total 16 columns):\n",
      " #   Column             Non-Null Count   Dtype \n",
      "---  ------             --------------   ----- \n",
      " 0   DateCrawled        354369 non-null  object\n",
      " 1   Price              354369 non-null  int64 \n",
      " 2   VehicleType        316879 non-null  object\n",
      " 3   RegistrationYear   354369 non-null  int64 \n",
      " 4   Gearbox            334536 non-null  object\n",
      " 5   Power              354369 non-null  int64 \n",
      " 6   Model              334664 non-null  object\n",
      " 7   Kilometer          354369 non-null  int64 \n",
      " 8   RegistrationMonth  354369 non-null  int64 \n",
      " 9   FuelType           321474 non-null  object\n",
      " 10  Brand              354369 non-null  object\n",
      " 11  Repaired           283215 non-null  object\n",
      " 12  DateCreated        354369 non-null  object\n",
      " 13  NumberOfPictures   354369 non-null  int64 \n",
      " 14  PostalCode         354369 non-null  int64 \n",
      " 15  LastSeen           354369 non-null  object\n",
      "dtypes: int64(7), object(9)\n",
      "memory usage: 43.3+ MB\n"
     ]
    }
   ],
   "source": [
    "df_autos.info()"
   ]
  },
  {
   "cell_type": "code",
   "execution_count": 5,
   "metadata": {},
   "outputs": [
    {
     "data": {
      "text/html": [
       "<div>\n",
       "<style scoped>\n",
       "    .dataframe tbody tr th:only-of-type {\n",
       "        vertical-align: middle;\n",
       "    }\n",
       "\n",
       "    .dataframe tbody tr th {\n",
       "        vertical-align: top;\n",
       "    }\n",
       "\n",
       "    .dataframe thead th {\n",
       "        text-align: right;\n",
       "    }\n",
       "</style>\n",
       "<table border=\"1\" class=\"dataframe\">\n",
       "  <thead>\n",
       "    <tr style=\"text-align: right;\">\n",
       "      <th></th>\n",
       "      <th>Price</th>\n",
       "      <th>RegistrationYear</th>\n",
       "      <th>Power</th>\n",
       "      <th>Kilometer</th>\n",
       "      <th>RegistrationMonth</th>\n",
       "      <th>NumberOfPictures</th>\n",
       "      <th>PostalCode</th>\n",
       "    </tr>\n",
       "  </thead>\n",
       "  <tbody>\n",
       "    <tr>\n",
       "      <th>count</th>\n",
       "      <td>354369.000000</td>\n",
       "      <td>354369.000000</td>\n",
       "      <td>354369.000000</td>\n",
       "      <td>354369.000000</td>\n",
       "      <td>354369.000000</td>\n",
       "      <td>354369.0</td>\n",
       "      <td>354369.000000</td>\n",
       "    </tr>\n",
       "    <tr>\n",
       "      <th>mean</th>\n",
       "      <td>4416.656776</td>\n",
       "      <td>2004.234448</td>\n",
       "      <td>110.094337</td>\n",
       "      <td>128211.172535</td>\n",
       "      <td>5.714645</td>\n",
       "      <td>0.0</td>\n",
       "      <td>50508.689087</td>\n",
       "    </tr>\n",
       "    <tr>\n",
       "      <th>std</th>\n",
       "      <td>4514.158514</td>\n",
       "      <td>90.227958</td>\n",
       "      <td>189.850405</td>\n",
       "      <td>37905.341530</td>\n",
       "      <td>3.726421</td>\n",
       "      <td>0.0</td>\n",
       "      <td>25783.096248</td>\n",
       "    </tr>\n",
       "    <tr>\n",
       "      <th>min</th>\n",
       "      <td>0.000000</td>\n",
       "      <td>1000.000000</td>\n",
       "      <td>0.000000</td>\n",
       "      <td>5000.000000</td>\n",
       "      <td>0.000000</td>\n",
       "      <td>0.0</td>\n",
       "      <td>1067.000000</td>\n",
       "    </tr>\n",
       "    <tr>\n",
       "      <th>25%</th>\n",
       "      <td>1050.000000</td>\n",
       "      <td>1999.000000</td>\n",
       "      <td>69.000000</td>\n",
       "      <td>125000.000000</td>\n",
       "      <td>3.000000</td>\n",
       "      <td>0.0</td>\n",
       "      <td>30165.000000</td>\n",
       "    </tr>\n",
       "    <tr>\n",
       "      <th>50%</th>\n",
       "      <td>2700.000000</td>\n",
       "      <td>2003.000000</td>\n",
       "      <td>105.000000</td>\n",
       "      <td>150000.000000</td>\n",
       "      <td>6.000000</td>\n",
       "      <td>0.0</td>\n",
       "      <td>49413.000000</td>\n",
       "    </tr>\n",
       "    <tr>\n",
       "      <th>75%</th>\n",
       "      <td>6400.000000</td>\n",
       "      <td>2008.000000</td>\n",
       "      <td>143.000000</td>\n",
       "      <td>150000.000000</td>\n",
       "      <td>9.000000</td>\n",
       "      <td>0.0</td>\n",
       "      <td>71083.000000</td>\n",
       "    </tr>\n",
       "    <tr>\n",
       "      <th>max</th>\n",
       "      <td>20000.000000</td>\n",
       "      <td>9999.000000</td>\n",
       "      <td>20000.000000</td>\n",
       "      <td>150000.000000</td>\n",
       "      <td>12.000000</td>\n",
       "      <td>0.0</td>\n",
       "      <td>99998.000000</td>\n",
       "    </tr>\n",
       "  </tbody>\n",
       "</table>\n",
       "</div>"
      ],
      "text/plain": [
       "               Price  RegistrationYear          Power      Kilometer  \\\n",
       "count  354369.000000     354369.000000  354369.000000  354369.000000   \n",
       "mean     4416.656776       2004.234448     110.094337  128211.172535   \n",
       "std      4514.158514         90.227958     189.850405   37905.341530   \n",
       "min         0.000000       1000.000000       0.000000    5000.000000   \n",
       "25%      1050.000000       1999.000000      69.000000  125000.000000   \n",
       "50%      2700.000000       2003.000000     105.000000  150000.000000   \n",
       "75%      6400.000000       2008.000000     143.000000  150000.000000   \n",
       "max     20000.000000       9999.000000   20000.000000  150000.000000   \n",
       "\n",
       "       RegistrationMonth  NumberOfPictures     PostalCode  \n",
       "count      354369.000000          354369.0  354369.000000  \n",
       "mean            5.714645               0.0   50508.689087  \n",
       "std             3.726421               0.0   25783.096248  \n",
       "min             0.000000               0.0    1067.000000  \n",
       "25%             3.000000               0.0   30165.000000  \n",
       "50%             6.000000               0.0   49413.000000  \n",
       "75%             9.000000               0.0   71083.000000  \n",
       "max            12.000000               0.0   99998.000000  "
      ]
     },
     "execution_count": 5,
     "metadata": {},
     "output_type": "execute_result"
    }
   ],
   "source": [
    "df_autos.describe()"
   ]
  },
  {
   "cell_type": "markdown",
   "metadata": {},
   "source": [
    "**Промежуточный вывод:**<br>На данном этапе мало, что можно сказать, однако стоит заметить, что придется поработать с названиями столбцов, с пропущенными значениями, а также в некоторых столбцах видны невозможные значения (аномалии)."
   ]
  },
  {
   "cell_type": "markdown",
   "metadata": {},
   "source": [
    "### Работа с названиями столбцов."
   ]
  },
  {
   "cell_type": "code",
   "execution_count": 6,
   "metadata": {},
   "outputs": [
    {
     "data": {
      "text/html": [
       "<div>\n",
       "<style scoped>\n",
       "    .dataframe tbody tr th:only-of-type {\n",
       "        vertical-align: middle;\n",
       "    }\n",
       "\n",
       "    .dataframe tbody tr th {\n",
       "        vertical-align: top;\n",
       "    }\n",
       "\n",
       "    .dataframe thead th {\n",
       "        text-align: right;\n",
       "    }\n",
       "</style>\n",
       "<table border=\"1\" class=\"dataframe\">\n",
       "  <thead>\n",
       "    <tr style=\"text-align: right;\">\n",
       "      <th></th>\n",
       "      <th>date_crawled</th>\n",
       "      <th>price</th>\n",
       "      <th>vehicle_type</th>\n",
       "      <th>registration_year</th>\n",
       "      <th>gearbox</th>\n",
       "      <th>power</th>\n",
       "      <th>model</th>\n",
       "      <th>kilometer</th>\n",
       "      <th>registration_month</th>\n",
       "      <th>fuel_type</th>\n",
       "      <th>brand</th>\n",
       "      <th>repaired</th>\n",
       "      <th>date_created</th>\n",
       "      <th>number_of_pictures</th>\n",
       "      <th>postal_code</th>\n",
       "      <th>last_seen</th>\n",
       "    </tr>\n",
       "  </thead>\n",
       "  <tbody>\n",
       "    <tr>\n",
       "      <th>0</th>\n",
       "      <td>2016-03-24 11:52:17</td>\n",
       "      <td>480</td>\n",
       "      <td>NaN</td>\n",
       "      <td>1993</td>\n",
       "      <td>manual</td>\n",
       "      <td>0</td>\n",
       "      <td>golf</td>\n",
       "      <td>150000</td>\n",
       "      <td>0</td>\n",
       "      <td>petrol</td>\n",
       "      <td>volkswagen</td>\n",
       "      <td>NaN</td>\n",
       "      <td>2016-03-24 00:00:00</td>\n",
       "      <td>0</td>\n",
       "      <td>70435</td>\n",
       "      <td>2016-04-07 03:16:57</td>\n",
       "    </tr>\n",
       "    <tr>\n",
       "      <th>1</th>\n",
       "      <td>2016-03-24 10:58:45</td>\n",
       "      <td>18300</td>\n",
       "      <td>coupe</td>\n",
       "      <td>2011</td>\n",
       "      <td>manual</td>\n",
       "      <td>190</td>\n",
       "      <td>NaN</td>\n",
       "      <td>125000</td>\n",
       "      <td>5</td>\n",
       "      <td>gasoline</td>\n",
       "      <td>audi</td>\n",
       "      <td>yes</td>\n",
       "      <td>2016-03-24 00:00:00</td>\n",
       "      <td>0</td>\n",
       "      <td>66954</td>\n",
       "      <td>2016-04-07 01:46:50</td>\n",
       "    </tr>\n",
       "    <tr>\n",
       "      <th>2</th>\n",
       "      <td>2016-03-14 12:52:21</td>\n",
       "      <td>9800</td>\n",
       "      <td>suv</td>\n",
       "      <td>2004</td>\n",
       "      <td>auto</td>\n",
       "      <td>163</td>\n",
       "      <td>grand</td>\n",
       "      <td>125000</td>\n",
       "      <td>8</td>\n",
       "      <td>gasoline</td>\n",
       "      <td>jeep</td>\n",
       "      <td>NaN</td>\n",
       "      <td>2016-03-14 00:00:00</td>\n",
       "      <td>0</td>\n",
       "      <td>90480</td>\n",
       "      <td>2016-04-05 12:47:46</td>\n",
       "    </tr>\n",
       "    <tr>\n",
       "      <th>3</th>\n",
       "      <td>2016-03-17 16:54:04</td>\n",
       "      <td>1500</td>\n",
       "      <td>small</td>\n",
       "      <td>2001</td>\n",
       "      <td>manual</td>\n",
       "      <td>75</td>\n",
       "      <td>golf</td>\n",
       "      <td>150000</td>\n",
       "      <td>6</td>\n",
       "      <td>petrol</td>\n",
       "      <td>volkswagen</td>\n",
       "      <td>no</td>\n",
       "      <td>2016-03-17 00:00:00</td>\n",
       "      <td>0</td>\n",
       "      <td>91074</td>\n",
       "      <td>2016-03-17 17:40:17</td>\n",
       "    </tr>\n",
       "    <tr>\n",
       "      <th>4</th>\n",
       "      <td>2016-03-31 17:25:20</td>\n",
       "      <td>3600</td>\n",
       "      <td>small</td>\n",
       "      <td>2008</td>\n",
       "      <td>manual</td>\n",
       "      <td>69</td>\n",
       "      <td>fabia</td>\n",
       "      <td>90000</td>\n",
       "      <td>7</td>\n",
       "      <td>gasoline</td>\n",
       "      <td>skoda</td>\n",
       "      <td>no</td>\n",
       "      <td>2016-03-31 00:00:00</td>\n",
       "      <td>0</td>\n",
       "      <td>60437</td>\n",
       "      <td>2016-04-06 10:17:21</td>\n",
       "    </tr>\n",
       "  </tbody>\n",
       "</table>\n",
       "</div>"
      ],
      "text/plain": [
       "          date_crawled  price vehicle_type  registration_year gearbox  power  \\\n",
       "0  2016-03-24 11:52:17    480          NaN               1993  manual      0   \n",
       "1  2016-03-24 10:58:45  18300        coupe               2011  manual    190   \n",
       "2  2016-03-14 12:52:21   9800          suv               2004    auto    163   \n",
       "3  2016-03-17 16:54:04   1500        small               2001  manual     75   \n",
       "4  2016-03-31 17:25:20   3600        small               2008  manual     69   \n",
       "\n",
       "   model  kilometer  registration_month fuel_type       brand repaired  \\\n",
       "0   golf     150000                   0    petrol  volkswagen      NaN   \n",
       "1    NaN     125000                   5  gasoline        audi      yes   \n",
       "2  grand     125000                   8  gasoline        jeep      NaN   \n",
       "3   golf     150000                   6    petrol  volkswagen       no   \n",
       "4  fabia      90000                   7  gasoline       skoda       no   \n",
       "\n",
       "          date_created  number_of_pictures  postal_code            last_seen  \n",
       "0  2016-03-24 00:00:00                   0        70435  2016-04-07 03:16:57  \n",
       "1  2016-03-24 00:00:00                   0        66954  2016-04-07 01:46:50  \n",
       "2  2016-03-14 00:00:00                   0        90480  2016-04-05 12:47:46  \n",
       "3  2016-03-17 00:00:00                   0        91074  2016-03-17 17:40:17  \n",
       "4  2016-03-31 00:00:00                   0        60437  2016-04-06 10:17:21  "
      ]
     },
     "execution_count": 6,
     "metadata": {},
     "output_type": "execute_result"
    }
   ],
   "source": [
    "df_autos.columns = ['date_crawled', 'price', 'vehicle_type', 'registration_year', 'gearbox',\n",
    "                    'power', 'model', 'kilometer', 'registration_month', 'fuel_type', 'brand',\n",
    "                    'repaired', 'date_created', 'number_of_pictures', 'postal_code', 'last_seen']\n",
    "df_autos.head()"
   ]
  },
  {
   "cell_type": "code",
   "execution_count": 7,
   "metadata": {},
   "outputs": [],
   "source": [
    "df_autos = df_autos.drop(['number_of_pictures', 'postal_code', 'date_created', 'last_seen', 'registration_month', 'date_crawled'], axis=1)"
   ]
  },
  {
   "cell_type": "markdown",
   "metadata": {},
   "source": [
    "**Промежуточный вывод:**<br>Мы привели названия столбцов к наиболее читаемому виду, что является правилом 'хорошего тона'. Также мы удалили столбцы, которые нам не понадобятся."
   ]
  },
  {
   "cell_type": "markdown",
   "metadata": {},
   "source": [
    "### Работа с пропусками."
   ]
  },
  {
   "cell_type": "code",
   "execution_count": 8,
   "metadata": {},
   "outputs": [
    {
     "data": {
      "text/plain": [
       "price                    0\n",
       "vehicle_type         37490\n",
       "registration_year        0\n",
       "gearbox              19833\n",
       "power                    0\n",
       "model                19705\n",
       "kilometer                0\n",
       "fuel_type            32895\n",
       "brand                    0\n",
       "repaired             71154\n",
       "dtype: int64"
      ]
     },
     "execution_count": 8,
     "metadata": {},
     "output_type": "execute_result"
    }
   ],
   "source": [
    "df_autos.isna().sum()"
   ]
  },
  {
   "cell_type": "code",
   "execution_count": 9,
   "metadata": {},
   "outputs": [],
   "source": [
    "df_autos['vehicle_type'] = df_autos['vehicle_type'].fillna('other')\n",
    "df_autos['gearbox'] = df_autos['gearbox'].fillna('unknown')\n",
    "df_autos['model'] = df_autos['model'].fillna('unknown')\n",
    "df_autos['fuel_type'] = df_autos['fuel_type'].fillna(df_autos['fuel_type'].mode().iloc[0])\n",
    "df_autos['repaired'] = df_autos['repaired'].fillna('unknown')"
   ]
  },
  {
   "cell_type": "code",
   "execution_count": 10,
   "metadata": {},
   "outputs": [
    {
     "data": {
      "text/plain": [
       "price                0\n",
       "vehicle_type         0\n",
       "registration_year    0\n",
       "gearbox              0\n",
       "power                0\n",
       "model                0\n",
       "kilometer            0\n",
       "fuel_type            0\n",
       "brand                0\n",
       "repaired             0\n",
       "dtype: int64"
      ]
     },
     "execution_count": 10,
     "metadata": {},
     "output_type": "execute_result"
    }
   ],
   "source": [
    "df_autos.isna().sum()"
   ]
  },
  {
   "cell_type": "markdown",
   "metadata": {},
   "source": [
    "**Промежуточный вывод:**<br>Мною было принято решение заменить все пропуски наиболее часто встречающимися значениями, так как если бы я удалил все строки с пропусками, то было бы потеряно большое количество данных."
   ]
  },
  {
   "cell_type": "markdown",
   "metadata": {},
   "source": [
    "### Работа с дубликатами и аномалиями."
   ]
  },
  {
   "cell_type": "code",
   "execution_count": 11,
   "metadata": {},
   "outputs": [
    {
     "data": {
      "text/plain": [
       "47177"
      ]
     },
     "execution_count": 11,
     "metadata": {},
     "output_type": "execute_result"
    }
   ],
   "source": [
    "df_autos.duplicated().sum()"
   ]
  },
  {
   "cell_type": "code",
   "execution_count": 12,
   "metadata": {},
   "outputs": [],
   "source": [
    "df_autos = df_autos.drop_duplicates().reset_index(drop=True)"
   ]
  },
  {
   "cell_type": "code",
   "execution_count": 13,
   "metadata": {
    "scrolled": true
   },
   "outputs": [
    {
     "data": {
      "text/plain": [
       "0"
      ]
     },
     "execution_count": 13,
     "metadata": {},
     "output_type": "execute_result"
    }
   ],
   "source": [
    "df_autos.duplicated().sum()"
   ]
  },
  {
   "cell_type": "code",
   "execution_count": 14,
   "metadata": {},
   "outputs": [
    {
     "data": {
      "text/plain": [
       "Index(['price', 'vehicle_type', 'registration_year', 'gearbox', 'power',\n",
       "       'model', 'kilometer', 'fuel_type', 'brand', 'repaired'],\n",
       "      dtype='object')"
      ]
     },
     "execution_count": 14,
     "metadata": {},
     "output_type": "execute_result"
    }
   ],
   "source": [
    "df_autos.columns"
   ]
  },
  {
   "cell_type": "code",
   "execution_count": 15,
   "metadata": {},
   "outputs": [],
   "source": [
    "df_autos = df_autos.loc[df_autos['price'] > 1000]"
   ]
  },
  {
   "cell_type": "code",
   "execution_count": 16,
   "metadata": {},
   "outputs": [
    {
     "data": {
      "text/plain": [
       "array([2011, 2004, 2001, 2008, 2014, 2005, 2007, 2009, 2002, 2018, 2017,\n",
       "       1981, 1995, 1991, 2016, 1984, 2006, 1998, 2012, 2010, 2000, 1992,\n",
       "       1997, 2013, 2003, 1999, 1996, 2015, 1990, 1994, 1989, 1993, 1976,\n",
       "       1983, 1973, 1969, 1971, 1987, 1982, 1985, 1988, 1980, 1986, 1965,\n",
       "       1970, 1945, 1925, 1974, 1979, 1955, 1978, 1972, 1968, 1977, 1961,\n",
       "       1966, 1975, 1910, 1963, 1964, 1958, 1967, 1956, 3200, 1960, 1941,\n",
       "       8888, 1500, 4100, 1962, 1929, 1957, 1940, 1949, 9999, 2019, 1937,\n",
       "       1951, 1959, 1953, 1954, 1234, 2900, 6000, 5911, 5000, 4000, 1948,\n",
       "       1000, 1952, 8500, 1932, 1950, 3700, 1942, 7000, 1935, 1933, 1936,\n",
       "       1923, 1930, 1001, 1944, 2500, 1943, 1938, 1934, 1928, 5555, 9000,\n",
       "       1600, 1800, 1039, 3000, 2800, 1931, 4500, 7800, 1947, 1927, 7100,\n",
       "       1946])"
      ]
     },
     "execution_count": 16,
     "metadata": {},
     "output_type": "execute_result"
    }
   ],
   "source": [
    "df_autos['registration_year'].unique()"
   ]
  },
  {
   "cell_type": "code",
   "execution_count": 17,
   "metadata": {},
   "outputs": [],
   "source": [
    "df_autos = df_autos.loc[(df_autos['registration_year'] <= 2016) & (df_autos['registration_year'] >= 1900)]"
   ]
  },
  {
   "cell_type": "code",
   "execution_count": 18,
   "metadata": {},
   "outputs": [
    {
     "data": {
      "text/plain": [
       "array([2011, 2004, 2001, 2008, 2014, 2005, 2007, 2009, 2002, 1981, 1995,\n",
       "       1991, 2016, 1984, 2006, 1998, 2012, 2010, 2000, 1992, 1997, 2013,\n",
       "       2003, 1999, 1996, 2015, 1990, 1994, 1989, 1993, 1976, 1983, 1973,\n",
       "       1969, 1971, 1987, 1982, 1985, 1988, 1980, 1986, 1965, 1970, 1945,\n",
       "       1925, 1974, 1979, 1955, 1978, 1972, 1968, 1977, 1961, 1966, 1975,\n",
       "       1910, 1963, 1964, 1958, 1967, 1956, 1960, 1941, 1962, 1929, 1957,\n",
       "       1940, 1949, 1937, 1951, 1959, 1953, 1954, 1948, 1952, 1932, 1950,\n",
       "       1942, 1935, 1933, 1936, 1923, 1930, 1944, 1943, 1938, 1934, 1928,\n",
       "       1931, 1947, 1927, 1946])"
      ]
     },
     "execution_count": 18,
     "metadata": {},
     "output_type": "execute_result"
    }
   ],
   "source": [
    "df_autos['registration_year'].unique()"
   ]
  },
  {
   "cell_type": "code",
   "execution_count": 19,
   "metadata": {},
   "outputs": [
    {
     "data": {
      "text/plain": [
       "array([  190,   163,    75,    69,   109,   125,   105,   140,   131,\n",
       "         136,   102,   160,   231,   193,    99,    50,   113,   218,\n",
       "         122,     0,   129,    70,   306,    95,    61,   177,   170,\n",
       "          55,   143,   232,    60,   150,   156,    80,    82,   185,\n",
       "          87,   180,    86,    84,   224,   101,   235,   200,   178,\n",
       "         265,    77,   110,   120,   286,   116,    90,   184,   126,\n",
       "         204,   194,    64,   305,   197,   179,   250,    88,    45,\n",
       "         313,    41,    98,   115,   130,   211,   201,   213,    83,\n",
       "         174,   100,   220,    54,    73,   192,    68,   299,    74,\n",
       "          58,    52,   147,   310,    71,    97,    65,   239,   203,\n",
       "           5,   300,    85,   258,   320,    63,    81,    44,   145,\n",
       "         280,   260,   104,   333,   186,   117,   141,   132,   165,\n",
       "         155,   234,   158,    92,    51,   135,    59,   107,   230,\n",
       "         103,   209,   146,    67,   106,   166,   276,   344,    72,\n",
       "         249,   237,   245,   111,   326,   279,    23,   138,   175,\n",
       "          96,   114,   226,   301,   334,   118,   128,   133,   124,\n",
       "         219,   241,   167,    94,   182,   196,   238,  1398,   228,\n",
       "         112,    48,    33,   144,   272,   139,    79,   256,   360,\n",
       "         243,   252,   396,   340,   121,   345,   187,   289,   222,\n",
       "         198,   284,   450,   233,   387,   347,   137,   212,   476,\n",
       "         314,    30,     7,   173,   290,   188,   205,   171,    78,\n",
       "          91,   349,   108,   325,    76,    43,   350,    56,   953,\n",
       "          93,   142,   343,   199,   164,    39,   264,    47,   367,\n",
       "         207,   240,   208,   210,    46,   435,   225,   127,   176,\n",
       "          26,   161,   148,   152,   307,   354,   771,   355,   273,\n",
       "          89,   223,   255,   151,   123,   149,  7515,  1400,   268,\n",
       "          40,   400,   275,    34,     2,   242,  1779,   285,   162,\n",
       "         328,   329,   134,   420,   247,   168,   215,    18,   330,\n",
       "         283,   500,    10,    66,   183,   254,    15,   321,   315,\n",
       "         952,   169,    57,   600,   181,   119,   426,   379,   195,\n",
       "          53,     4,    22,   309,   507,   381,   271,   440,   189,\n",
       "         401,  2729,    21,   236,  1240,  1704,   521,     1,  1900,\n",
       "         270,    24,   159,   292,   303,    29,  1993,    37,   216,\n",
       "          42,   504,    38,   267,   331,   363,   261,   385,    62,\n",
       "        1011,   253,   696, 10520,   376,   227,   311,    27,   217,\n",
       "          20,   322,    11,  1056,   172,   157,    25,   394,    12,\n",
       "         298,    35,   296,   515,  1659,   294,  6920,   246,    17,\n",
       "         390,   221,  1367,   259,  1597,   266,    16,    49,   374,\n",
       "         392,     9,   405,    13,    14,   262,   430,   295,     8,\n",
       "         411,   900,  7512,   154,   382, 10218,  7544,   287,    19,\n",
       "         214,   751,   297,  1090,   457,   282,  1001,   388,     6,\n",
       "         206,  5411,   335,   202,   805,  1062,  2017,  1024, 11530,\n",
       "         364,  1796,   269,   460,   288, 12012, 17932,   316,  2005,\n",
       "        1800,  1399,   191,   278,   380,   257,   449,   153,  1653,\n",
       "         520,   560,   281,     3,  1500,   386,  1202,  2016,  1436,\n",
       "        1405,   671,   274,  1288,  1055, 10912,  6226,   277,  1105,\n",
       "         341,  1223,  2340,  1968,   338,   445,  1920,   370,   517,\n",
       "       10710, 10522,   431,  1164, 11509,   371,  1501,   428, 11635,\n",
       "         304,   348,  1995,   579, 10000,   358,   408,  1403,   489,\n",
       "       19211,   585,   365,   353,   490,   352,  1801,  1000,   346,\n",
       "         550,   800,  1937,  1600,  3454, 19208,   251,   337,  2331,\n",
       "        2789,   487,    36,   519,  2461,  3500,  6018,  1781,  1503,\n",
       "         612,  1596,   229,  1506,  5809, 15020,  1300,  5867,  1598,\n",
       "       17410,  1363,  1054,   318,   510,   525,    28,   685,  6011,\n",
       "         317,   703,  1771, 15001,   514, 12510,   362,   332,   324,\n",
       "        6045,   425,   308,  6010,   475,   903,   640,  2000,   248,\n",
       "         651,   368, 17011,   505,   950,  1521,   601,   351, 16051,\n",
       "         398,  1998,   620,   409, 17019,  8259,  1895,  1317,   871,\n",
       "        1595,   776, 17700,   357, 15033,  1896,   603,   339,   361,\n",
       "        6512,   650,   604,   999, 16312,  1082,   336, 20000,   416,\n",
       "         678,  1401,  1021,  1870,   909,   375, 13636,   750,  6012,\n",
       "         323,  2009,  6062,   572,   244,   399,  1016,   743,  2402,\n",
       "         544,   645,   907,    31,   702,  1003,  1432,  9013,   442,\n",
       "       15017, 10910,   540,  2018, 11025,  1433,  1701,  2792,  1502,\n",
       "       14009,  9007,   923,  1149,  2004,  1793,   356, 12512,  7511,\n",
       "         293, 19312,  1079,  1933,   508, 16311,   551,  1390,   682,\n",
       "        1922,  7529,   732,  1005,  1707,  1416,  1700,  1012,   421,\n",
       "        1631,  7518,  1250,   377,  2007,  1548])"
      ]
     },
     "execution_count": 19,
     "metadata": {},
     "output_type": "execute_result"
    }
   ],
   "source": [
    "df_autos['power'].unique()"
   ]
  },
  {
   "cell_type": "code",
   "execution_count": 20,
   "metadata": {},
   "outputs": [],
   "source": [
    "df_autos = df_autos.loc[df_autos['power'] <= 700]"
   ]
  },
  {
   "cell_type": "code",
   "execution_count": 21,
   "metadata": {},
   "outputs": [],
   "source": [
    "df_autos['power'] = df_autos['power'].replace(0, df_autos['power'].median())"
   ]
  },
  {
   "cell_type": "code",
   "execution_count": 22,
   "metadata": {},
   "outputs": [
    {
     "data": {
      "text/plain": [
       "array([190., 163.,  75.,  69., 109., 125., 105., 140., 131., 136., 102.,\n",
       "       160., 231., 193.,  99.,  50., 113., 218., 122., 116., 129.,  70.,\n",
       "       306.,  95.,  61., 177., 170.,  55., 143., 232.,  60., 150., 156.,\n",
       "        80.,  82., 185.,  87., 180.,  86.,  84., 224., 101., 235., 200.,\n",
       "       178., 265.,  77., 110., 120., 286.,  90., 184., 126., 204., 194.,\n",
       "        64., 305., 197., 179., 250.,  88.,  45., 313.,  41.,  98., 115.,\n",
       "       130., 211., 201., 213.,  83., 174., 100., 220.,  54.,  73., 192.,\n",
       "        68., 299.,  74.,  58.,  52., 147., 310.,  71.,  97.,  65., 239.,\n",
       "       203.,   5., 300.,  85., 258., 320.,  63.,  81.,  44., 145., 280.,\n",
       "       260., 104., 333., 186., 117., 141., 132., 165., 155., 234., 158.,\n",
       "        92.,  51., 135.,  59., 107., 230., 103., 209., 146.,  67., 106.,\n",
       "       166., 276., 344.,  72., 249., 237., 245., 111., 326., 279.,  23.,\n",
       "       138., 175.,  96., 114., 226., 301., 334., 118., 128., 133., 124.,\n",
       "       219., 241., 167.,  94., 182., 196., 238., 228., 112.,  48.,  33.,\n",
       "       144., 272., 139.,  79., 256., 360., 243., 252., 396., 340., 121.,\n",
       "       345., 187., 289., 222., 198., 284., 450., 233., 387., 347., 137.,\n",
       "       212., 476., 314.,  30.,   7., 173., 290., 188., 205., 171.,  78.,\n",
       "        91., 349., 108., 325.,  76.,  43., 350.,  56.,  93., 142., 343.,\n",
       "       199., 164.,  39., 264.,  47., 367., 207., 240., 208., 210.,  46.,\n",
       "       435., 225., 127., 176.,  26., 161., 148., 152., 307., 354., 355.,\n",
       "       273.,  89., 223., 255., 151., 123., 149., 268.,  40., 400., 275.,\n",
       "        34.,   2., 242., 285., 162., 328., 329., 134., 420., 247., 168.,\n",
       "       215.,  18., 330., 283., 500.,  10.,  66., 183., 254.,  15., 321.,\n",
       "       315., 169.,  57., 600., 181., 119., 426., 379., 195.,  53.,   4.,\n",
       "        22., 309., 507., 381., 271., 440., 189., 401.,  21., 236., 521.,\n",
       "         1., 270.,  24., 159., 292., 303.,  29.,  37., 216.,  42., 504.,\n",
       "        38., 267., 331., 363., 261., 385.,  62., 253., 696., 376., 227.,\n",
       "       311.,  27., 217.,  20., 322.,  11., 172., 157.,  25., 394.,  12.,\n",
       "       298.,  35., 296., 515., 294., 246.,  17., 390., 221., 259., 266.,\n",
       "        16.,  49., 374., 392.,   9., 405.,  13.,  14., 262., 430., 295.,\n",
       "         8., 411., 154., 382., 287.,  19., 214., 297., 457., 282., 388.,\n",
       "         6., 206., 335., 202., 364., 269., 460., 288., 316., 191., 278.,\n",
       "       380., 257., 449., 153., 520., 560., 281.,   3., 386., 671., 274.,\n",
       "       277., 341., 338., 445., 370., 517., 431., 371., 428., 304., 348.,\n",
       "       579., 358., 408., 489., 585., 365., 353., 490., 352., 346., 550.,\n",
       "       251., 337., 487.,  36., 519., 612., 229., 318., 510., 525.,  28.,\n",
       "       685., 317., 514., 362., 332., 324., 425., 308., 475., 640., 248.,\n",
       "       651., 368., 505., 601., 351., 398., 620., 409., 357., 603., 339.,\n",
       "       361., 650., 604., 336., 416., 678., 375., 323., 572., 244., 399.,\n",
       "       544., 645.,  31., 442., 540., 356., 293., 508., 551., 682., 421.,\n",
       "       377.])"
      ]
     },
     "execution_count": 22,
     "metadata": {},
     "output_type": "execute_result"
    }
   ],
   "source": [
    "df_autos['power'].unique()"
   ]
  },
  {
   "cell_type": "markdown",
   "metadata": {},
   "source": [
    "**Промежуточный вывод:**<br>Работа с явными и неявными дубликатами была проведена успешно. Также на данном этапе мы избавлись от аномалий, которые помешали бы нам на следующих этапах проекта."
   ]
  },
  {
   "cell_type": "markdown",
   "metadata": {},
   "source": [
    "**Общий вывод по шагу 1:**<br>При выполнении данного шага мы произвели предобработку данных. Сначала мы провели работу над названиями столбцов, затем проработали пропущенные значения, дубликаты и аномалии. Теперь мы имеем датасет, который готов к дальнейшей работе."
   ]
  },
  {
   "cell_type": "markdown",
   "metadata": {},
   "source": [
    "## Обучение и анализ моделей."
   ]
  },
  {
   "cell_type": "markdown",
   "metadata": {},
   "source": [
    "### Подготовка к обучению."
   ]
  },
  {
   "cell_type": "markdown",
   "metadata": {},
   "source": [
    "Чтобы автоматизировать процесс обучения, воспользуемся пайплайнами."
   ]
  },
  {
   "cell_type": "code",
   "execution_count": 23,
   "metadata": {},
   "outputs": [],
   "source": [
    "TEST_SIZE = 25\n",
    "RANDOM_STATE = 42"
   ]
  },
  {
   "cell_type": "code",
   "execution_count": 24,
   "metadata": {},
   "outputs": [],
   "source": [
    "X = df_autos.drop('price', axis = 1)\n",
    "y = df_autos['price']"
   ]
  },
  {
   "cell_type": "code",
   "execution_count": 25,
   "metadata": {},
   "outputs": [],
   "source": [
    "X_train, X_test, y_train, y_test = train_test_split(\n",
    "    X, y,\n",
    "    test_size = TEST_SIZE,\n",
    "    random_state = RANDOM_STATE\n",
    ")"
   ]
  },
  {
   "cell_type": "code",
   "execution_count": 26,
   "metadata": {},
   "outputs": [],
   "source": [
    "ohe_columns = ['vehicle_type', 'gearbox', 'model', 'fuel_type', 'brand', 'repaired'] \n",
    "num_columns = ['registration_year', 'power', 'kilometer'] "
   ]
  },
  {
   "cell_type": "code",
   "execution_count": 27,
   "metadata": {},
   "outputs": [],
   "source": [
    "ohe_pipe = Pipeline([\n",
    "    ('simpleImputer_ohe_one', SimpleImputer(missing_values=np.nan, strategy='most_frequent')),\n",
    "    ('simpleImputer_ohe_two', SimpleImputer(missing_values=' ', strategy='most_frequent')),\n",
    "    ('ohe', OneHotEncoder(drop='first', handle_unknown='ignore'))\n",
    "])"
   ]
  },
  {
   "cell_type": "code",
   "execution_count": 28,
   "metadata": {},
   "outputs": [],
   "source": [
    "data_preprocessor = ColumnTransformer([\n",
    "    ('ohe', ohe_pipe, ohe_columns),\n",
    "    ('num', MinMaxScaler(), num_columns)\n",
    "], remainder='passthrough')"
   ]
  },
  {
   "cell_type": "code",
   "execution_count": 29,
   "metadata": {},
   "outputs": [],
   "source": [
    "models_1 = {\n",
    "    'LightGBM': lgb.LGBMRegressor(random_state=RANDOM_STATE)\n",
    "}\n",
    "\n",
    "models_2 = {\n",
    "    'LinearRegression': LinearRegression()\n",
    "}"
   ]
  },
  {
   "cell_type": "code",
   "execution_count": 30,
   "metadata": {},
   "outputs": [
    {
     "data": {
      "text/html": [
       "<style>#sk-container-id-1 {\n",
       "  /* Definition of color scheme common for light and dark mode */\n",
       "  --sklearn-color-text: black;\n",
       "  --sklearn-color-line: gray;\n",
       "  /* Definition of color scheme for unfitted estimators */\n",
       "  --sklearn-color-unfitted-level-0: #fff5e6;\n",
       "  --sklearn-color-unfitted-level-1: #f6e4d2;\n",
       "  --sklearn-color-unfitted-level-2: #ffe0b3;\n",
       "  --sklearn-color-unfitted-level-3: chocolate;\n",
       "  /* Definition of color scheme for fitted estimators */\n",
       "  --sklearn-color-fitted-level-0: #f0f8ff;\n",
       "  --sklearn-color-fitted-level-1: #d4ebff;\n",
       "  --sklearn-color-fitted-level-2: #b3dbfd;\n",
       "  --sklearn-color-fitted-level-3: cornflowerblue;\n",
       "\n",
       "  /* Specific color for light theme */\n",
       "  --sklearn-color-text-on-default-background: var(--sg-text-color, var(--theme-code-foreground, var(--jp-content-font-color1, black)));\n",
       "  --sklearn-color-background: var(--sg-background-color, var(--theme-background, var(--jp-layout-color0, white)));\n",
       "  --sklearn-color-border-box: var(--sg-text-color, var(--theme-code-foreground, var(--jp-content-font-color1, black)));\n",
       "  --sklearn-color-icon: #696969;\n",
       "\n",
       "  @media (prefers-color-scheme: dark) {\n",
       "    /* Redefinition of color scheme for dark theme */\n",
       "    --sklearn-color-text-on-default-background: var(--sg-text-color, var(--theme-code-foreground, var(--jp-content-font-color1, white)));\n",
       "    --sklearn-color-background: var(--sg-background-color, var(--theme-background, var(--jp-layout-color0, #111)));\n",
       "    --sklearn-color-border-box: var(--sg-text-color, var(--theme-code-foreground, var(--jp-content-font-color1, white)));\n",
       "    --sklearn-color-icon: #878787;\n",
       "  }\n",
       "}\n",
       "\n",
       "#sk-container-id-1 {\n",
       "  color: var(--sklearn-color-text);\n",
       "}\n",
       "\n",
       "#sk-container-id-1 pre {\n",
       "  padding: 0;\n",
       "}\n",
       "\n",
       "#sk-container-id-1 input.sk-hidden--visually {\n",
       "  border: 0;\n",
       "  clip: rect(1px 1px 1px 1px);\n",
       "  clip: rect(1px, 1px, 1px, 1px);\n",
       "  height: 1px;\n",
       "  margin: -1px;\n",
       "  overflow: hidden;\n",
       "  padding: 0;\n",
       "  position: absolute;\n",
       "  width: 1px;\n",
       "}\n",
       "\n",
       "#sk-container-id-1 div.sk-dashed-wrapped {\n",
       "  border: 1px dashed var(--sklearn-color-line);\n",
       "  margin: 0 0.4em 0.5em 0.4em;\n",
       "  box-sizing: border-box;\n",
       "  padding-bottom: 0.4em;\n",
       "  background-color: var(--sklearn-color-background);\n",
       "}\n",
       "\n",
       "#sk-container-id-1 div.sk-container {\n",
       "  /* jupyter's `normalize.less` sets `[hidden] { display: none; }`\n",
       "     but bootstrap.min.css set `[hidden] { display: none !important; }`\n",
       "     so we also need the `!important` here to be able to override the\n",
       "     default hidden behavior on the sphinx rendered scikit-learn.org.\n",
       "     See: https://github.com/scikit-learn/scikit-learn/issues/21755 */\n",
       "  display: inline-block !important;\n",
       "  position: relative;\n",
       "}\n",
       "\n",
       "#sk-container-id-1 div.sk-text-repr-fallback {\n",
       "  display: none;\n",
       "}\n",
       "\n",
       "div.sk-parallel-item,\n",
       "div.sk-serial,\n",
       "div.sk-item {\n",
       "  /* draw centered vertical line to link estimators */\n",
       "  background-image: linear-gradient(var(--sklearn-color-text-on-default-background), var(--sklearn-color-text-on-default-background));\n",
       "  background-size: 2px 100%;\n",
       "  background-repeat: no-repeat;\n",
       "  background-position: center center;\n",
       "}\n",
       "\n",
       "/* Parallel-specific style estimator block */\n",
       "\n",
       "#sk-container-id-1 div.sk-parallel-item::after {\n",
       "  content: \"\";\n",
       "  width: 100%;\n",
       "  border-bottom: 2px solid var(--sklearn-color-text-on-default-background);\n",
       "  flex-grow: 1;\n",
       "}\n",
       "\n",
       "#sk-container-id-1 div.sk-parallel {\n",
       "  display: flex;\n",
       "  align-items: stretch;\n",
       "  justify-content: center;\n",
       "  background-color: var(--sklearn-color-background);\n",
       "  position: relative;\n",
       "}\n",
       "\n",
       "#sk-container-id-1 div.sk-parallel-item {\n",
       "  display: flex;\n",
       "  flex-direction: column;\n",
       "}\n",
       "\n",
       "#sk-container-id-1 div.sk-parallel-item:first-child::after {\n",
       "  align-self: flex-end;\n",
       "  width: 50%;\n",
       "}\n",
       "\n",
       "#sk-container-id-1 div.sk-parallel-item:last-child::after {\n",
       "  align-self: flex-start;\n",
       "  width: 50%;\n",
       "}\n",
       "\n",
       "#sk-container-id-1 div.sk-parallel-item:only-child::after {\n",
       "  width: 0;\n",
       "}\n",
       "\n",
       "/* Serial-specific style estimator block */\n",
       "\n",
       "#sk-container-id-1 div.sk-serial {\n",
       "  display: flex;\n",
       "  flex-direction: column;\n",
       "  align-items: center;\n",
       "  background-color: var(--sklearn-color-background);\n",
       "  padding-right: 1em;\n",
       "  padding-left: 1em;\n",
       "}\n",
       "\n",
       "\n",
       "/* Toggleable style: style used for estimator/Pipeline/ColumnTransformer box that is\n",
       "clickable and can be expanded/collapsed.\n",
       "- Pipeline and ColumnTransformer use this feature and define the default style\n",
       "- Estimators will overwrite some part of the style using the `sk-estimator` class\n",
       "*/\n",
       "\n",
       "/* Pipeline and ColumnTransformer style (default) */\n",
       "\n",
       "#sk-container-id-1 div.sk-toggleable {\n",
       "  /* Default theme specific background. It is overwritten whether we have a\n",
       "  specific estimator or a Pipeline/ColumnTransformer */\n",
       "  background-color: var(--sklearn-color-background);\n",
       "}\n",
       "\n",
       "/* Toggleable label */\n",
       "#sk-container-id-1 label.sk-toggleable__label {\n",
       "  cursor: pointer;\n",
       "  display: block;\n",
       "  width: 100%;\n",
       "  margin-bottom: 0;\n",
       "  padding: 0.5em;\n",
       "  box-sizing: border-box;\n",
       "  text-align: center;\n",
       "}\n",
       "\n",
       "#sk-container-id-1 label.sk-toggleable__label-arrow:before {\n",
       "  /* Arrow on the left of the label */\n",
       "  content: \"▸\";\n",
       "  float: left;\n",
       "  margin-right: 0.25em;\n",
       "  color: var(--sklearn-color-icon);\n",
       "}\n",
       "\n",
       "#sk-container-id-1 label.sk-toggleable__label-arrow:hover:before {\n",
       "  color: var(--sklearn-color-text);\n",
       "}\n",
       "\n",
       "/* Toggleable content - dropdown */\n",
       "\n",
       "#sk-container-id-1 div.sk-toggleable__content {\n",
       "  max-height: 0;\n",
       "  max-width: 0;\n",
       "  overflow: hidden;\n",
       "  text-align: left;\n",
       "  /* unfitted */\n",
       "  background-color: var(--sklearn-color-unfitted-level-0);\n",
       "}\n",
       "\n",
       "#sk-container-id-1 div.sk-toggleable__content.fitted {\n",
       "  /* fitted */\n",
       "  background-color: var(--sklearn-color-fitted-level-0);\n",
       "}\n",
       "\n",
       "#sk-container-id-1 div.sk-toggleable__content pre {\n",
       "  margin: 0.2em;\n",
       "  border-radius: 0.25em;\n",
       "  color: var(--sklearn-color-text);\n",
       "  /* unfitted */\n",
       "  background-color: var(--sklearn-color-unfitted-level-0);\n",
       "}\n",
       "\n",
       "#sk-container-id-1 div.sk-toggleable__content.fitted pre {\n",
       "  /* unfitted */\n",
       "  background-color: var(--sklearn-color-fitted-level-0);\n",
       "}\n",
       "\n",
       "#sk-container-id-1 input.sk-toggleable__control:checked~div.sk-toggleable__content {\n",
       "  /* Expand drop-down */\n",
       "  max-height: 200px;\n",
       "  max-width: 100%;\n",
       "  overflow: auto;\n",
       "}\n",
       "\n",
       "#sk-container-id-1 input.sk-toggleable__control:checked~label.sk-toggleable__label-arrow:before {\n",
       "  content: \"▾\";\n",
       "}\n",
       "\n",
       "/* Pipeline/ColumnTransformer-specific style */\n",
       "\n",
       "#sk-container-id-1 div.sk-label input.sk-toggleable__control:checked~label.sk-toggleable__label {\n",
       "  color: var(--sklearn-color-text);\n",
       "  background-color: var(--sklearn-color-unfitted-level-2);\n",
       "}\n",
       "\n",
       "#sk-container-id-1 div.sk-label.fitted input.sk-toggleable__control:checked~label.sk-toggleable__label {\n",
       "  background-color: var(--sklearn-color-fitted-level-2);\n",
       "}\n",
       "\n",
       "/* Estimator-specific style */\n",
       "\n",
       "/* Colorize estimator box */\n",
       "#sk-container-id-1 div.sk-estimator input.sk-toggleable__control:checked~label.sk-toggleable__label {\n",
       "  /* unfitted */\n",
       "  background-color: var(--sklearn-color-unfitted-level-2);\n",
       "}\n",
       "\n",
       "#sk-container-id-1 div.sk-estimator.fitted input.sk-toggleable__control:checked~label.sk-toggleable__label {\n",
       "  /* fitted */\n",
       "  background-color: var(--sklearn-color-fitted-level-2);\n",
       "}\n",
       "\n",
       "#sk-container-id-1 div.sk-label label.sk-toggleable__label,\n",
       "#sk-container-id-1 div.sk-label label {\n",
       "  /* The background is the default theme color */\n",
       "  color: var(--sklearn-color-text-on-default-background);\n",
       "}\n",
       "\n",
       "/* On hover, darken the color of the background */\n",
       "#sk-container-id-1 div.sk-label:hover label.sk-toggleable__label {\n",
       "  color: var(--sklearn-color-text);\n",
       "  background-color: var(--sklearn-color-unfitted-level-2);\n",
       "}\n",
       "\n",
       "/* Label box, darken color on hover, fitted */\n",
       "#sk-container-id-1 div.sk-label.fitted:hover label.sk-toggleable__label.fitted {\n",
       "  color: var(--sklearn-color-text);\n",
       "  background-color: var(--sklearn-color-fitted-level-2);\n",
       "}\n",
       "\n",
       "/* Estimator label */\n",
       "\n",
       "#sk-container-id-1 div.sk-label label {\n",
       "  font-family: monospace;\n",
       "  font-weight: bold;\n",
       "  display: inline-block;\n",
       "  line-height: 1.2em;\n",
       "}\n",
       "\n",
       "#sk-container-id-1 div.sk-label-container {\n",
       "  text-align: center;\n",
       "}\n",
       "\n",
       "/* Estimator-specific */\n",
       "#sk-container-id-1 div.sk-estimator {\n",
       "  font-family: monospace;\n",
       "  border: 1px dotted var(--sklearn-color-border-box);\n",
       "  border-radius: 0.25em;\n",
       "  box-sizing: border-box;\n",
       "  margin-bottom: 0.5em;\n",
       "  /* unfitted */\n",
       "  background-color: var(--sklearn-color-unfitted-level-0);\n",
       "}\n",
       "\n",
       "#sk-container-id-1 div.sk-estimator.fitted {\n",
       "  /* fitted */\n",
       "  background-color: var(--sklearn-color-fitted-level-0);\n",
       "}\n",
       "\n",
       "/* on hover */\n",
       "#sk-container-id-1 div.sk-estimator:hover {\n",
       "  /* unfitted */\n",
       "  background-color: var(--sklearn-color-unfitted-level-2);\n",
       "}\n",
       "\n",
       "#sk-container-id-1 div.sk-estimator.fitted:hover {\n",
       "  /* fitted */\n",
       "  background-color: var(--sklearn-color-fitted-level-2);\n",
       "}\n",
       "\n",
       "/* Specification for estimator info (e.g. \"i\" and \"?\") */\n",
       "\n",
       "/* Common style for \"i\" and \"?\" */\n",
       "\n",
       ".sk-estimator-doc-link,\n",
       "a:link.sk-estimator-doc-link,\n",
       "a:visited.sk-estimator-doc-link {\n",
       "  float: right;\n",
       "  font-size: smaller;\n",
       "  line-height: 1em;\n",
       "  font-family: monospace;\n",
       "  background-color: var(--sklearn-color-background);\n",
       "  border-radius: 1em;\n",
       "  height: 1em;\n",
       "  width: 1em;\n",
       "  text-decoration: none !important;\n",
       "  margin-left: 1ex;\n",
       "  /* unfitted */\n",
       "  border: var(--sklearn-color-unfitted-level-1) 1pt solid;\n",
       "  color: var(--sklearn-color-unfitted-level-1);\n",
       "}\n",
       "\n",
       ".sk-estimator-doc-link.fitted,\n",
       "a:link.sk-estimator-doc-link.fitted,\n",
       "a:visited.sk-estimator-doc-link.fitted {\n",
       "  /* fitted */\n",
       "  border: var(--sklearn-color-fitted-level-1) 1pt solid;\n",
       "  color: var(--sklearn-color-fitted-level-1);\n",
       "}\n",
       "\n",
       "/* On hover */\n",
       "div.sk-estimator:hover .sk-estimator-doc-link:hover,\n",
       ".sk-estimator-doc-link:hover,\n",
       "div.sk-label-container:hover .sk-estimator-doc-link:hover,\n",
       ".sk-estimator-doc-link:hover {\n",
       "  /* unfitted */\n",
       "  background-color: var(--sklearn-color-unfitted-level-3);\n",
       "  color: var(--sklearn-color-background);\n",
       "  text-decoration: none;\n",
       "}\n",
       "\n",
       "div.sk-estimator.fitted:hover .sk-estimator-doc-link.fitted:hover,\n",
       ".sk-estimator-doc-link.fitted:hover,\n",
       "div.sk-label-container:hover .sk-estimator-doc-link.fitted:hover,\n",
       ".sk-estimator-doc-link.fitted:hover {\n",
       "  /* fitted */\n",
       "  background-color: var(--sklearn-color-fitted-level-3);\n",
       "  color: var(--sklearn-color-background);\n",
       "  text-decoration: none;\n",
       "}\n",
       "\n",
       "/* Span, style for the box shown on hovering the info icon */\n",
       ".sk-estimator-doc-link span {\n",
       "  display: none;\n",
       "  z-index: 9999;\n",
       "  position: relative;\n",
       "  font-weight: normal;\n",
       "  right: .2ex;\n",
       "  padding: .5ex;\n",
       "  margin: .5ex;\n",
       "  width: min-content;\n",
       "  min-width: 20ex;\n",
       "  max-width: 50ex;\n",
       "  color: var(--sklearn-color-text);\n",
       "  box-shadow: 2pt 2pt 4pt #999;\n",
       "  /* unfitted */\n",
       "  background: var(--sklearn-color-unfitted-level-0);\n",
       "  border: .5pt solid var(--sklearn-color-unfitted-level-3);\n",
       "}\n",
       "\n",
       ".sk-estimator-doc-link.fitted span {\n",
       "  /* fitted */\n",
       "  background: var(--sklearn-color-fitted-level-0);\n",
       "  border: var(--sklearn-color-fitted-level-3);\n",
       "}\n",
       "\n",
       ".sk-estimator-doc-link:hover span {\n",
       "  display: block;\n",
       "}\n",
       "\n",
       "/* \"?\"-specific style due to the `<a>` HTML tag */\n",
       "\n",
       "#sk-container-id-1 a.estimator_doc_link {\n",
       "  float: right;\n",
       "  font-size: 1rem;\n",
       "  line-height: 1em;\n",
       "  font-family: monospace;\n",
       "  background-color: var(--sklearn-color-background);\n",
       "  border-radius: 1rem;\n",
       "  height: 1rem;\n",
       "  width: 1rem;\n",
       "  text-decoration: none;\n",
       "  /* unfitted */\n",
       "  color: var(--sklearn-color-unfitted-level-1);\n",
       "  border: var(--sklearn-color-unfitted-level-1) 1pt solid;\n",
       "}\n",
       "\n",
       "#sk-container-id-1 a.estimator_doc_link.fitted {\n",
       "  /* fitted */\n",
       "  border: var(--sklearn-color-fitted-level-1) 1pt solid;\n",
       "  color: var(--sklearn-color-fitted-level-1);\n",
       "}\n",
       "\n",
       "/* On hover */\n",
       "#sk-container-id-1 a.estimator_doc_link:hover {\n",
       "  /* unfitted */\n",
       "  background-color: var(--sklearn-color-unfitted-level-3);\n",
       "  color: var(--sklearn-color-background);\n",
       "  text-decoration: none;\n",
       "}\n",
       "\n",
       "#sk-container-id-1 a.estimator_doc_link.fitted:hover {\n",
       "  /* fitted */\n",
       "  background-color: var(--sklearn-color-fitted-level-3);\n",
       "}\n",
       "</style><div id=\"sk-container-id-1\" class=\"sk-top-container\"><div class=\"sk-text-repr-fallback\"><pre>Pipeline(steps=[(&#x27;preprocessor&#x27;,\n",
       "                 ColumnTransformer(remainder=&#x27;passthrough&#x27;,\n",
       "                                   transformers=[(&#x27;ohe&#x27;,\n",
       "                                                  Pipeline(steps=[(&#x27;simpleImputer_ohe_one&#x27;,\n",
       "                                                                   SimpleImputer(strategy=&#x27;most_frequent&#x27;)),\n",
       "                                                                  (&#x27;simpleImputer_ohe_two&#x27;,\n",
       "                                                                   SimpleImputer(missing_values=&#x27; &#x27;,\n",
       "                                                                                 strategy=&#x27;most_frequent&#x27;)),\n",
       "                                                                  (&#x27;ohe&#x27;,\n",
       "                                                                   OneHotEncoder(drop=&#x27;first&#x27;,\n",
       "                                                                                 handle_unknown=&#x27;ignore&#x27;))]),\n",
       "                                                  [&#x27;vehicle_type&#x27;, &#x27;gearbox&#x27;,\n",
       "                                                   &#x27;model&#x27;, &#x27;fuel_type&#x27;,\n",
       "                                                   &#x27;brand&#x27;, &#x27;repaired&#x27;]),\n",
       "                                                 (&#x27;num&#x27;, MinMaxScaler(),\n",
       "                                                  [&#x27;registration_year&#x27;, &#x27;power&#x27;,\n",
       "                                                   &#x27;kilometer&#x27;])])),\n",
       "                (&#x27;models&#x27;, LGBMRegressor(random_state=42))])</pre><b>In a Jupyter environment, please rerun this cell to show the HTML representation or trust the notebook. <br />On GitHub, the HTML representation is unable to render, please try loading this page with nbviewer.org.</b></div><div class=\"sk-container\" hidden><div class=\"sk-item sk-dashed-wrapped\"><div class=\"sk-label-container\"><div class=\"sk-label fitted sk-toggleable\"><input class=\"sk-toggleable__control sk-hidden--visually\" id=\"sk-estimator-id-1\" type=\"checkbox\" ><label for=\"sk-estimator-id-1\" class=\"sk-toggleable__label fitted sk-toggleable__label-arrow fitted\">&nbsp;&nbsp;Pipeline<a class=\"sk-estimator-doc-link fitted\" rel=\"noreferrer\" target=\"_blank\" href=\"https://scikit-learn.org/1.4/modules/generated/sklearn.pipeline.Pipeline.html\">?<span>Documentation for Pipeline</span></a><span class=\"sk-estimator-doc-link fitted\">i<span>Fitted</span></span></label><div class=\"sk-toggleable__content fitted\"><pre>Pipeline(steps=[(&#x27;preprocessor&#x27;,\n",
       "                 ColumnTransformer(remainder=&#x27;passthrough&#x27;,\n",
       "                                   transformers=[(&#x27;ohe&#x27;,\n",
       "                                                  Pipeline(steps=[(&#x27;simpleImputer_ohe_one&#x27;,\n",
       "                                                                   SimpleImputer(strategy=&#x27;most_frequent&#x27;)),\n",
       "                                                                  (&#x27;simpleImputer_ohe_two&#x27;,\n",
       "                                                                   SimpleImputer(missing_values=&#x27; &#x27;,\n",
       "                                                                                 strategy=&#x27;most_frequent&#x27;)),\n",
       "                                                                  (&#x27;ohe&#x27;,\n",
       "                                                                   OneHotEncoder(drop=&#x27;first&#x27;,\n",
       "                                                                                 handle_unknown=&#x27;ignore&#x27;))]),\n",
       "                                                  [&#x27;vehicle_type&#x27;, &#x27;gearbox&#x27;,\n",
       "                                                   &#x27;model&#x27;, &#x27;fuel_type&#x27;,\n",
       "                                                   &#x27;brand&#x27;, &#x27;repaired&#x27;]),\n",
       "                                                 (&#x27;num&#x27;, MinMaxScaler(),\n",
       "                                                  [&#x27;registration_year&#x27;, &#x27;power&#x27;,\n",
       "                                                   &#x27;kilometer&#x27;])])),\n",
       "                (&#x27;models&#x27;, LGBMRegressor(random_state=42))])</pre></div> </div></div><div class=\"sk-serial\"><div class=\"sk-item sk-dashed-wrapped\"><div class=\"sk-label-container\"><div class=\"sk-label fitted sk-toggleable\"><input class=\"sk-toggleable__control sk-hidden--visually\" id=\"sk-estimator-id-2\" type=\"checkbox\" ><label for=\"sk-estimator-id-2\" class=\"sk-toggleable__label fitted sk-toggleable__label-arrow fitted\">&nbsp;preprocessor: ColumnTransformer<a class=\"sk-estimator-doc-link fitted\" rel=\"noreferrer\" target=\"_blank\" href=\"https://scikit-learn.org/1.4/modules/generated/sklearn.compose.ColumnTransformer.html\">?<span>Documentation for preprocessor: ColumnTransformer</span></a></label><div class=\"sk-toggleable__content fitted\"><pre>ColumnTransformer(remainder=&#x27;passthrough&#x27;,\n",
       "                  transformers=[(&#x27;ohe&#x27;,\n",
       "                                 Pipeline(steps=[(&#x27;simpleImputer_ohe_one&#x27;,\n",
       "                                                  SimpleImputer(strategy=&#x27;most_frequent&#x27;)),\n",
       "                                                 (&#x27;simpleImputer_ohe_two&#x27;,\n",
       "                                                  SimpleImputer(missing_values=&#x27; &#x27;,\n",
       "                                                                strategy=&#x27;most_frequent&#x27;)),\n",
       "                                                 (&#x27;ohe&#x27;,\n",
       "                                                  OneHotEncoder(drop=&#x27;first&#x27;,\n",
       "                                                                handle_unknown=&#x27;ignore&#x27;))]),\n",
       "                                 [&#x27;vehicle_type&#x27;, &#x27;gearbox&#x27;, &#x27;model&#x27;,\n",
       "                                  &#x27;fuel_type&#x27;, &#x27;brand&#x27;, &#x27;repaired&#x27;]),\n",
       "                                (&#x27;num&#x27;, MinMaxScaler(),\n",
       "                                 [&#x27;registration_year&#x27;, &#x27;power&#x27;, &#x27;kilometer&#x27;])])</pre></div> </div></div><div class=\"sk-parallel\"><div class=\"sk-parallel-item\"><div class=\"sk-item\"><div class=\"sk-label-container\"><div class=\"sk-label fitted sk-toggleable\"><input class=\"sk-toggleable__control sk-hidden--visually\" id=\"sk-estimator-id-3\" type=\"checkbox\" ><label for=\"sk-estimator-id-3\" class=\"sk-toggleable__label fitted sk-toggleable__label-arrow fitted\">ohe</label><div class=\"sk-toggleable__content fitted\"><pre>[&#x27;vehicle_type&#x27;, &#x27;gearbox&#x27;, &#x27;model&#x27;, &#x27;fuel_type&#x27;, &#x27;brand&#x27;, &#x27;repaired&#x27;]</pre></div> </div></div><div class=\"sk-serial\"><div class=\"sk-item\"><div class=\"sk-serial\"><div class=\"sk-item\"><div class=\"sk-estimator fitted sk-toggleable\"><input class=\"sk-toggleable__control sk-hidden--visually\" id=\"sk-estimator-id-4\" type=\"checkbox\" ><label for=\"sk-estimator-id-4\" class=\"sk-toggleable__label fitted sk-toggleable__label-arrow fitted\">&nbsp;SimpleImputer<a class=\"sk-estimator-doc-link fitted\" rel=\"noreferrer\" target=\"_blank\" href=\"https://scikit-learn.org/1.4/modules/generated/sklearn.impute.SimpleImputer.html\">?<span>Documentation for SimpleImputer</span></a></label><div class=\"sk-toggleable__content fitted\"><pre>SimpleImputer(strategy=&#x27;most_frequent&#x27;)</pre></div> </div></div><div class=\"sk-item\"><div class=\"sk-estimator fitted sk-toggleable\"><input class=\"sk-toggleable__control sk-hidden--visually\" id=\"sk-estimator-id-5\" type=\"checkbox\" ><label for=\"sk-estimator-id-5\" class=\"sk-toggleable__label fitted sk-toggleable__label-arrow fitted\">&nbsp;SimpleImputer<a class=\"sk-estimator-doc-link fitted\" rel=\"noreferrer\" target=\"_blank\" href=\"https://scikit-learn.org/1.4/modules/generated/sklearn.impute.SimpleImputer.html\">?<span>Documentation for SimpleImputer</span></a></label><div class=\"sk-toggleable__content fitted\"><pre>SimpleImputer(missing_values=&#x27; &#x27;, strategy=&#x27;most_frequent&#x27;)</pre></div> </div></div><div class=\"sk-item\"><div class=\"sk-estimator fitted sk-toggleable\"><input class=\"sk-toggleable__control sk-hidden--visually\" id=\"sk-estimator-id-6\" type=\"checkbox\" ><label for=\"sk-estimator-id-6\" class=\"sk-toggleable__label fitted sk-toggleable__label-arrow fitted\">&nbsp;OneHotEncoder<a class=\"sk-estimator-doc-link fitted\" rel=\"noreferrer\" target=\"_blank\" href=\"https://scikit-learn.org/1.4/modules/generated/sklearn.preprocessing.OneHotEncoder.html\">?<span>Documentation for OneHotEncoder</span></a></label><div class=\"sk-toggleable__content fitted\"><pre>OneHotEncoder(drop=&#x27;first&#x27;, handle_unknown=&#x27;ignore&#x27;)</pre></div> </div></div></div></div></div></div></div><div class=\"sk-parallel-item\"><div class=\"sk-item\"><div class=\"sk-label-container\"><div class=\"sk-label fitted sk-toggleable\"><input class=\"sk-toggleable__control sk-hidden--visually\" id=\"sk-estimator-id-7\" type=\"checkbox\" ><label for=\"sk-estimator-id-7\" class=\"sk-toggleable__label fitted sk-toggleable__label-arrow fitted\">num</label><div class=\"sk-toggleable__content fitted\"><pre>[&#x27;registration_year&#x27;, &#x27;power&#x27;, &#x27;kilometer&#x27;]</pre></div> </div></div><div class=\"sk-serial\"><div class=\"sk-item\"><div class=\"sk-estimator fitted sk-toggleable\"><input class=\"sk-toggleable__control sk-hidden--visually\" id=\"sk-estimator-id-8\" type=\"checkbox\" ><label for=\"sk-estimator-id-8\" class=\"sk-toggleable__label fitted sk-toggleable__label-arrow fitted\">&nbsp;MinMaxScaler<a class=\"sk-estimator-doc-link fitted\" rel=\"noreferrer\" target=\"_blank\" href=\"https://scikit-learn.org/1.4/modules/generated/sklearn.preprocessing.MinMaxScaler.html\">?<span>Documentation for MinMaxScaler</span></a></label><div class=\"sk-toggleable__content fitted\"><pre>MinMaxScaler()</pre></div> </div></div></div></div></div><div class=\"sk-parallel-item\"><div class=\"sk-item\"><div class=\"sk-label-container\"><div class=\"sk-label fitted sk-toggleable\"><input class=\"sk-toggleable__control sk-hidden--visually\" id=\"sk-estimator-id-9\" type=\"checkbox\" ><label for=\"sk-estimator-id-9\" class=\"sk-toggleable__label fitted sk-toggleable__label-arrow fitted\">remainder</label><div class=\"sk-toggleable__content fitted\"><pre>[]</pre></div> </div></div><div class=\"sk-serial\"><div class=\"sk-item\"><div class=\"sk-estimator fitted sk-toggleable\"><input class=\"sk-toggleable__control sk-hidden--visually\" id=\"sk-estimator-id-10\" type=\"checkbox\" ><label for=\"sk-estimator-id-10\" class=\"sk-toggleable__label fitted sk-toggleable__label-arrow fitted\">passthrough</label><div class=\"sk-toggleable__content fitted\"><pre>passthrough</pre></div> </div></div></div></div></div></div></div><div class=\"sk-item\"><div class=\"sk-estimator fitted sk-toggleable\"><input class=\"sk-toggleable__control sk-hidden--visually\" id=\"sk-estimator-id-11\" type=\"checkbox\" ><label for=\"sk-estimator-id-11\" class=\"sk-toggleable__label fitted sk-toggleable__label-arrow fitted\">LGBMRegressor</label><div class=\"sk-toggleable__content fitted\"><pre>LGBMRegressor(random_state=42)</pre></div> </div></div></div></div></div></div>"
      ],
      "text/plain": [
       "Pipeline(steps=[('preprocessor',\n",
       "                 ColumnTransformer(remainder='passthrough',\n",
       "                                   transformers=[('ohe',\n",
       "                                                  Pipeline(steps=[('simpleImputer_ohe_one',\n",
       "                                                                   SimpleImputer(strategy='most_frequent')),\n",
       "                                                                  ('simpleImputer_ohe_two',\n",
       "                                                                   SimpleImputer(missing_values=' ',\n",
       "                                                                                 strategy='most_frequent')),\n",
       "                                                                  ('ohe',\n",
       "                                                                   OneHotEncoder(drop='first',\n",
       "                                                                                 handle_unknown='ignore'))]),\n",
       "                                                  ['vehicle_type', 'gearbox',\n",
       "                                                   'model', 'fuel_type',\n",
       "                                                   'brand', 'repaired']),\n",
       "                                                 ('num', MinMaxScaler(),\n",
       "                                                  ['registration_year', 'power',\n",
       "                                                   'kilometer'])])),\n",
       "                ('models', LGBMRegressor(random_state=42))])"
      ]
     },
     "execution_count": 30,
     "metadata": {},
     "output_type": "execute_result"
    }
   ],
   "source": [
    "pipe_final_1 = Pipeline(\n",
    "    [\n",
    "        ('preprocessor', data_preprocessor),\n",
    "        ('models', lgb.LGBMRegressor(random_state=RANDOM_STATE))\n",
    "    ]\n",
    ")\n",
    "\n",
    "pipe_final_1.fit(X_train, y_train)"
   ]
  },
  {
   "cell_type": "code",
   "execution_count": 31,
   "metadata": {},
   "outputs": [
    {
     "data": {
      "text/html": [
       "<style>#sk-container-id-2 {\n",
       "  /* Definition of color scheme common for light and dark mode */\n",
       "  --sklearn-color-text: black;\n",
       "  --sklearn-color-line: gray;\n",
       "  /* Definition of color scheme for unfitted estimators */\n",
       "  --sklearn-color-unfitted-level-0: #fff5e6;\n",
       "  --sklearn-color-unfitted-level-1: #f6e4d2;\n",
       "  --sklearn-color-unfitted-level-2: #ffe0b3;\n",
       "  --sklearn-color-unfitted-level-3: chocolate;\n",
       "  /* Definition of color scheme for fitted estimators */\n",
       "  --sklearn-color-fitted-level-0: #f0f8ff;\n",
       "  --sklearn-color-fitted-level-1: #d4ebff;\n",
       "  --sklearn-color-fitted-level-2: #b3dbfd;\n",
       "  --sklearn-color-fitted-level-3: cornflowerblue;\n",
       "\n",
       "  /* Specific color for light theme */\n",
       "  --sklearn-color-text-on-default-background: var(--sg-text-color, var(--theme-code-foreground, var(--jp-content-font-color1, black)));\n",
       "  --sklearn-color-background: var(--sg-background-color, var(--theme-background, var(--jp-layout-color0, white)));\n",
       "  --sklearn-color-border-box: var(--sg-text-color, var(--theme-code-foreground, var(--jp-content-font-color1, black)));\n",
       "  --sklearn-color-icon: #696969;\n",
       "\n",
       "  @media (prefers-color-scheme: dark) {\n",
       "    /* Redefinition of color scheme for dark theme */\n",
       "    --sklearn-color-text-on-default-background: var(--sg-text-color, var(--theme-code-foreground, var(--jp-content-font-color1, white)));\n",
       "    --sklearn-color-background: var(--sg-background-color, var(--theme-background, var(--jp-layout-color0, #111)));\n",
       "    --sklearn-color-border-box: var(--sg-text-color, var(--theme-code-foreground, var(--jp-content-font-color1, white)));\n",
       "    --sklearn-color-icon: #878787;\n",
       "  }\n",
       "}\n",
       "\n",
       "#sk-container-id-2 {\n",
       "  color: var(--sklearn-color-text);\n",
       "}\n",
       "\n",
       "#sk-container-id-2 pre {\n",
       "  padding: 0;\n",
       "}\n",
       "\n",
       "#sk-container-id-2 input.sk-hidden--visually {\n",
       "  border: 0;\n",
       "  clip: rect(1px 1px 1px 1px);\n",
       "  clip: rect(1px, 1px, 1px, 1px);\n",
       "  height: 1px;\n",
       "  margin: -1px;\n",
       "  overflow: hidden;\n",
       "  padding: 0;\n",
       "  position: absolute;\n",
       "  width: 1px;\n",
       "}\n",
       "\n",
       "#sk-container-id-2 div.sk-dashed-wrapped {\n",
       "  border: 1px dashed var(--sklearn-color-line);\n",
       "  margin: 0 0.4em 0.5em 0.4em;\n",
       "  box-sizing: border-box;\n",
       "  padding-bottom: 0.4em;\n",
       "  background-color: var(--sklearn-color-background);\n",
       "}\n",
       "\n",
       "#sk-container-id-2 div.sk-container {\n",
       "  /* jupyter's `normalize.less` sets `[hidden] { display: none; }`\n",
       "     but bootstrap.min.css set `[hidden] { display: none !important; }`\n",
       "     so we also need the `!important` here to be able to override the\n",
       "     default hidden behavior on the sphinx rendered scikit-learn.org.\n",
       "     See: https://github.com/scikit-learn/scikit-learn/issues/21755 */\n",
       "  display: inline-block !important;\n",
       "  position: relative;\n",
       "}\n",
       "\n",
       "#sk-container-id-2 div.sk-text-repr-fallback {\n",
       "  display: none;\n",
       "}\n",
       "\n",
       "div.sk-parallel-item,\n",
       "div.sk-serial,\n",
       "div.sk-item {\n",
       "  /* draw centered vertical line to link estimators */\n",
       "  background-image: linear-gradient(var(--sklearn-color-text-on-default-background), var(--sklearn-color-text-on-default-background));\n",
       "  background-size: 2px 100%;\n",
       "  background-repeat: no-repeat;\n",
       "  background-position: center center;\n",
       "}\n",
       "\n",
       "/* Parallel-specific style estimator block */\n",
       "\n",
       "#sk-container-id-2 div.sk-parallel-item::after {\n",
       "  content: \"\";\n",
       "  width: 100%;\n",
       "  border-bottom: 2px solid var(--sklearn-color-text-on-default-background);\n",
       "  flex-grow: 1;\n",
       "}\n",
       "\n",
       "#sk-container-id-2 div.sk-parallel {\n",
       "  display: flex;\n",
       "  align-items: stretch;\n",
       "  justify-content: center;\n",
       "  background-color: var(--sklearn-color-background);\n",
       "  position: relative;\n",
       "}\n",
       "\n",
       "#sk-container-id-2 div.sk-parallel-item {\n",
       "  display: flex;\n",
       "  flex-direction: column;\n",
       "}\n",
       "\n",
       "#sk-container-id-2 div.sk-parallel-item:first-child::after {\n",
       "  align-self: flex-end;\n",
       "  width: 50%;\n",
       "}\n",
       "\n",
       "#sk-container-id-2 div.sk-parallel-item:last-child::after {\n",
       "  align-self: flex-start;\n",
       "  width: 50%;\n",
       "}\n",
       "\n",
       "#sk-container-id-2 div.sk-parallel-item:only-child::after {\n",
       "  width: 0;\n",
       "}\n",
       "\n",
       "/* Serial-specific style estimator block */\n",
       "\n",
       "#sk-container-id-2 div.sk-serial {\n",
       "  display: flex;\n",
       "  flex-direction: column;\n",
       "  align-items: center;\n",
       "  background-color: var(--sklearn-color-background);\n",
       "  padding-right: 1em;\n",
       "  padding-left: 1em;\n",
       "}\n",
       "\n",
       "\n",
       "/* Toggleable style: style used for estimator/Pipeline/ColumnTransformer box that is\n",
       "clickable and can be expanded/collapsed.\n",
       "- Pipeline and ColumnTransformer use this feature and define the default style\n",
       "- Estimators will overwrite some part of the style using the `sk-estimator` class\n",
       "*/\n",
       "\n",
       "/* Pipeline and ColumnTransformer style (default) */\n",
       "\n",
       "#sk-container-id-2 div.sk-toggleable {\n",
       "  /* Default theme specific background. It is overwritten whether we have a\n",
       "  specific estimator or a Pipeline/ColumnTransformer */\n",
       "  background-color: var(--sklearn-color-background);\n",
       "}\n",
       "\n",
       "/* Toggleable label */\n",
       "#sk-container-id-2 label.sk-toggleable__label {\n",
       "  cursor: pointer;\n",
       "  display: block;\n",
       "  width: 100%;\n",
       "  margin-bottom: 0;\n",
       "  padding: 0.5em;\n",
       "  box-sizing: border-box;\n",
       "  text-align: center;\n",
       "}\n",
       "\n",
       "#sk-container-id-2 label.sk-toggleable__label-arrow:before {\n",
       "  /* Arrow on the left of the label */\n",
       "  content: \"▸\";\n",
       "  float: left;\n",
       "  margin-right: 0.25em;\n",
       "  color: var(--sklearn-color-icon);\n",
       "}\n",
       "\n",
       "#sk-container-id-2 label.sk-toggleable__label-arrow:hover:before {\n",
       "  color: var(--sklearn-color-text);\n",
       "}\n",
       "\n",
       "/* Toggleable content - dropdown */\n",
       "\n",
       "#sk-container-id-2 div.sk-toggleable__content {\n",
       "  max-height: 0;\n",
       "  max-width: 0;\n",
       "  overflow: hidden;\n",
       "  text-align: left;\n",
       "  /* unfitted */\n",
       "  background-color: var(--sklearn-color-unfitted-level-0);\n",
       "}\n",
       "\n",
       "#sk-container-id-2 div.sk-toggleable__content.fitted {\n",
       "  /* fitted */\n",
       "  background-color: var(--sklearn-color-fitted-level-0);\n",
       "}\n",
       "\n",
       "#sk-container-id-2 div.sk-toggleable__content pre {\n",
       "  margin: 0.2em;\n",
       "  border-radius: 0.25em;\n",
       "  color: var(--sklearn-color-text);\n",
       "  /* unfitted */\n",
       "  background-color: var(--sklearn-color-unfitted-level-0);\n",
       "}\n",
       "\n",
       "#sk-container-id-2 div.sk-toggleable__content.fitted pre {\n",
       "  /* unfitted */\n",
       "  background-color: var(--sklearn-color-fitted-level-0);\n",
       "}\n",
       "\n",
       "#sk-container-id-2 input.sk-toggleable__control:checked~div.sk-toggleable__content {\n",
       "  /* Expand drop-down */\n",
       "  max-height: 200px;\n",
       "  max-width: 100%;\n",
       "  overflow: auto;\n",
       "}\n",
       "\n",
       "#sk-container-id-2 input.sk-toggleable__control:checked~label.sk-toggleable__label-arrow:before {\n",
       "  content: \"▾\";\n",
       "}\n",
       "\n",
       "/* Pipeline/ColumnTransformer-specific style */\n",
       "\n",
       "#sk-container-id-2 div.sk-label input.sk-toggleable__control:checked~label.sk-toggleable__label {\n",
       "  color: var(--sklearn-color-text);\n",
       "  background-color: var(--sklearn-color-unfitted-level-2);\n",
       "}\n",
       "\n",
       "#sk-container-id-2 div.sk-label.fitted input.sk-toggleable__control:checked~label.sk-toggleable__label {\n",
       "  background-color: var(--sklearn-color-fitted-level-2);\n",
       "}\n",
       "\n",
       "/* Estimator-specific style */\n",
       "\n",
       "/* Colorize estimator box */\n",
       "#sk-container-id-2 div.sk-estimator input.sk-toggleable__control:checked~label.sk-toggleable__label {\n",
       "  /* unfitted */\n",
       "  background-color: var(--sklearn-color-unfitted-level-2);\n",
       "}\n",
       "\n",
       "#sk-container-id-2 div.sk-estimator.fitted input.sk-toggleable__control:checked~label.sk-toggleable__label {\n",
       "  /* fitted */\n",
       "  background-color: var(--sklearn-color-fitted-level-2);\n",
       "}\n",
       "\n",
       "#sk-container-id-2 div.sk-label label.sk-toggleable__label,\n",
       "#sk-container-id-2 div.sk-label label {\n",
       "  /* The background is the default theme color */\n",
       "  color: var(--sklearn-color-text-on-default-background);\n",
       "}\n",
       "\n",
       "/* On hover, darken the color of the background */\n",
       "#sk-container-id-2 div.sk-label:hover label.sk-toggleable__label {\n",
       "  color: var(--sklearn-color-text);\n",
       "  background-color: var(--sklearn-color-unfitted-level-2);\n",
       "}\n",
       "\n",
       "/* Label box, darken color on hover, fitted */\n",
       "#sk-container-id-2 div.sk-label.fitted:hover label.sk-toggleable__label.fitted {\n",
       "  color: var(--sklearn-color-text);\n",
       "  background-color: var(--sklearn-color-fitted-level-2);\n",
       "}\n",
       "\n",
       "/* Estimator label */\n",
       "\n",
       "#sk-container-id-2 div.sk-label label {\n",
       "  font-family: monospace;\n",
       "  font-weight: bold;\n",
       "  display: inline-block;\n",
       "  line-height: 1.2em;\n",
       "}\n",
       "\n",
       "#sk-container-id-2 div.sk-label-container {\n",
       "  text-align: center;\n",
       "}\n",
       "\n",
       "/* Estimator-specific */\n",
       "#sk-container-id-2 div.sk-estimator {\n",
       "  font-family: monospace;\n",
       "  border: 1px dotted var(--sklearn-color-border-box);\n",
       "  border-radius: 0.25em;\n",
       "  box-sizing: border-box;\n",
       "  margin-bottom: 0.5em;\n",
       "  /* unfitted */\n",
       "  background-color: var(--sklearn-color-unfitted-level-0);\n",
       "}\n",
       "\n",
       "#sk-container-id-2 div.sk-estimator.fitted {\n",
       "  /* fitted */\n",
       "  background-color: var(--sklearn-color-fitted-level-0);\n",
       "}\n",
       "\n",
       "/* on hover */\n",
       "#sk-container-id-2 div.sk-estimator:hover {\n",
       "  /* unfitted */\n",
       "  background-color: var(--sklearn-color-unfitted-level-2);\n",
       "}\n",
       "\n",
       "#sk-container-id-2 div.sk-estimator.fitted:hover {\n",
       "  /* fitted */\n",
       "  background-color: var(--sklearn-color-fitted-level-2);\n",
       "}\n",
       "\n",
       "/* Specification for estimator info (e.g. \"i\" and \"?\") */\n",
       "\n",
       "/* Common style for \"i\" and \"?\" */\n",
       "\n",
       ".sk-estimator-doc-link,\n",
       "a:link.sk-estimator-doc-link,\n",
       "a:visited.sk-estimator-doc-link {\n",
       "  float: right;\n",
       "  font-size: smaller;\n",
       "  line-height: 1em;\n",
       "  font-family: monospace;\n",
       "  background-color: var(--sklearn-color-background);\n",
       "  border-radius: 1em;\n",
       "  height: 1em;\n",
       "  width: 1em;\n",
       "  text-decoration: none !important;\n",
       "  margin-left: 1ex;\n",
       "  /* unfitted */\n",
       "  border: var(--sklearn-color-unfitted-level-1) 1pt solid;\n",
       "  color: var(--sklearn-color-unfitted-level-1);\n",
       "}\n",
       "\n",
       ".sk-estimator-doc-link.fitted,\n",
       "a:link.sk-estimator-doc-link.fitted,\n",
       "a:visited.sk-estimator-doc-link.fitted {\n",
       "  /* fitted */\n",
       "  border: var(--sklearn-color-fitted-level-1) 1pt solid;\n",
       "  color: var(--sklearn-color-fitted-level-1);\n",
       "}\n",
       "\n",
       "/* On hover */\n",
       "div.sk-estimator:hover .sk-estimator-doc-link:hover,\n",
       ".sk-estimator-doc-link:hover,\n",
       "div.sk-label-container:hover .sk-estimator-doc-link:hover,\n",
       ".sk-estimator-doc-link:hover {\n",
       "  /* unfitted */\n",
       "  background-color: var(--sklearn-color-unfitted-level-3);\n",
       "  color: var(--sklearn-color-background);\n",
       "  text-decoration: none;\n",
       "}\n",
       "\n",
       "div.sk-estimator.fitted:hover .sk-estimator-doc-link.fitted:hover,\n",
       ".sk-estimator-doc-link.fitted:hover,\n",
       "div.sk-label-container:hover .sk-estimator-doc-link.fitted:hover,\n",
       ".sk-estimator-doc-link.fitted:hover {\n",
       "  /* fitted */\n",
       "  background-color: var(--sklearn-color-fitted-level-3);\n",
       "  color: var(--sklearn-color-background);\n",
       "  text-decoration: none;\n",
       "}\n",
       "\n",
       "/* Span, style for the box shown on hovering the info icon */\n",
       ".sk-estimator-doc-link span {\n",
       "  display: none;\n",
       "  z-index: 9999;\n",
       "  position: relative;\n",
       "  font-weight: normal;\n",
       "  right: .2ex;\n",
       "  padding: .5ex;\n",
       "  margin: .5ex;\n",
       "  width: min-content;\n",
       "  min-width: 20ex;\n",
       "  max-width: 50ex;\n",
       "  color: var(--sklearn-color-text);\n",
       "  box-shadow: 2pt 2pt 4pt #999;\n",
       "  /* unfitted */\n",
       "  background: var(--sklearn-color-unfitted-level-0);\n",
       "  border: .5pt solid var(--sklearn-color-unfitted-level-3);\n",
       "}\n",
       "\n",
       ".sk-estimator-doc-link.fitted span {\n",
       "  /* fitted */\n",
       "  background: var(--sklearn-color-fitted-level-0);\n",
       "  border: var(--sklearn-color-fitted-level-3);\n",
       "}\n",
       "\n",
       ".sk-estimator-doc-link:hover span {\n",
       "  display: block;\n",
       "}\n",
       "\n",
       "/* \"?\"-specific style due to the `<a>` HTML tag */\n",
       "\n",
       "#sk-container-id-2 a.estimator_doc_link {\n",
       "  float: right;\n",
       "  font-size: 1rem;\n",
       "  line-height: 1em;\n",
       "  font-family: monospace;\n",
       "  background-color: var(--sklearn-color-background);\n",
       "  border-radius: 1rem;\n",
       "  height: 1rem;\n",
       "  width: 1rem;\n",
       "  text-decoration: none;\n",
       "  /* unfitted */\n",
       "  color: var(--sklearn-color-unfitted-level-1);\n",
       "  border: var(--sklearn-color-unfitted-level-1) 1pt solid;\n",
       "}\n",
       "\n",
       "#sk-container-id-2 a.estimator_doc_link.fitted {\n",
       "  /* fitted */\n",
       "  border: var(--sklearn-color-fitted-level-1) 1pt solid;\n",
       "  color: var(--sklearn-color-fitted-level-1);\n",
       "}\n",
       "\n",
       "/* On hover */\n",
       "#sk-container-id-2 a.estimator_doc_link:hover {\n",
       "  /* unfitted */\n",
       "  background-color: var(--sklearn-color-unfitted-level-3);\n",
       "  color: var(--sklearn-color-background);\n",
       "  text-decoration: none;\n",
       "}\n",
       "\n",
       "#sk-container-id-2 a.estimator_doc_link.fitted:hover {\n",
       "  /* fitted */\n",
       "  background-color: var(--sklearn-color-fitted-level-3);\n",
       "}\n",
       "</style><div id=\"sk-container-id-2\" class=\"sk-top-container\"><div class=\"sk-text-repr-fallback\"><pre>Pipeline(steps=[(&#x27;preprocessor&#x27;,\n",
       "                 ColumnTransformer(remainder=&#x27;passthrough&#x27;,\n",
       "                                   transformers=[(&#x27;ohe&#x27;,\n",
       "                                                  Pipeline(steps=[(&#x27;simpleImputer_ohe_one&#x27;,\n",
       "                                                                   SimpleImputer(strategy=&#x27;most_frequent&#x27;)),\n",
       "                                                                  (&#x27;simpleImputer_ohe_two&#x27;,\n",
       "                                                                   SimpleImputer(missing_values=&#x27; &#x27;,\n",
       "                                                                                 strategy=&#x27;most_frequent&#x27;)),\n",
       "                                                                  (&#x27;ohe&#x27;,\n",
       "                                                                   OneHotEncoder(drop=&#x27;first&#x27;,\n",
       "                                                                                 handle_unknown=&#x27;ignore&#x27;))]),\n",
       "                                                  [&#x27;vehicle_type&#x27;, &#x27;gearbox&#x27;,\n",
       "                                                   &#x27;model&#x27;, &#x27;fuel_type&#x27;,\n",
       "                                                   &#x27;brand&#x27;, &#x27;repaired&#x27;]),\n",
       "                                                 (&#x27;num&#x27;, MinMaxScaler(),\n",
       "                                                  [&#x27;registration_year&#x27;, &#x27;power&#x27;,\n",
       "                                                   &#x27;kilometer&#x27;])])),\n",
       "                (&#x27;models&#x27;, LinearRegression())])</pre><b>In a Jupyter environment, please rerun this cell to show the HTML representation or trust the notebook. <br />On GitHub, the HTML representation is unable to render, please try loading this page with nbviewer.org.</b></div><div class=\"sk-container\" hidden><div class=\"sk-item sk-dashed-wrapped\"><div class=\"sk-label-container\"><div class=\"sk-label fitted sk-toggleable\"><input class=\"sk-toggleable__control sk-hidden--visually\" id=\"sk-estimator-id-12\" type=\"checkbox\" ><label for=\"sk-estimator-id-12\" class=\"sk-toggleable__label fitted sk-toggleable__label-arrow fitted\">&nbsp;&nbsp;Pipeline<a class=\"sk-estimator-doc-link fitted\" rel=\"noreferrer\" target=\"_blank\" href=\"https://scikit-learn.org/1.4/modules/generated/sklearn.pipeline.Pipeline.html\">?<span>Documentation for Pipeline</span></a><span class=\"sk-estimator-doc-link fitted\">i<span>Fitted</span></span></label><div class=\"sk-toggleable__content fitted\"><pre>Pipeline(steps=[(&#x27;preprocessor&#x27;,\n",
       "                 ColumnTransformer(remainder=&#x27;passthrough&#x27;,\n",
       "                                   transformers=[(&#x27;ohe&#x27;,\n",
       "                                                  Pipeline(steps=[(&#x27;simpleImputer_ohe_one&#x27;,\n",
       "                                                                   SimpleImputer(strategy=&#x27;most_frequent&#x27;)),\n",
       "                                                                  (&#x27;simpleImputer_ohe_two&#x27;,\n",
       "                                                                   SimpleImputer(missing_values=&#x27; &#x27;,\n",
       "                                                                                 strategy=&#x27;most_frequent&#x27;)),\n",
       "                                                                  (&#x27;ohe&#x27;,\n",
       "                                                                   OneHotEncoder(drop=&#x27;first&#x27;,\n",
       "                                                                                 handle_unknown=&#x27;ignore&#x27;))]),\n",
       "                                                  [&#x27;vehicle_type&#x27;, &#x27;gearbox&#x27;,\n",
       "                                                   &#x27;model&#x27;, &#x27;fuel_type&#x27;,\n",
       "                                                   &#x27;brand&#x27;, &#x27;repaired&#x27;]),\n",
       "                                                 (&#x27;num&#x27;, MinMaxScaler(),\n",
       "                                                  [&#x27;registration_year&#x27;, &#x27;power&#x27;,\n",
       "                                                   &#x27;kilometer&#x27;])])),\n",
       "                (&#x27;models&#x27;, LinearRegression())])</pre></div> </div></div><div class=\"sk-serial\"><div class=\"sk-item sk-dashed-wrapped\"><div class=\"sk-label-container\"><div class=\"sk-label fitted sk-toggleable\"><input class=\"sk-toggleable__control sk-hidden--visually\" id=\"sk-estimator-id-13\" type=\"checkbox\" ><label for=\"sk-estimator-id-13\" class=\"sk-toggleable__label fitted sk-toggleable__label-arrow fitted\">&nbsp;preprocessor: ColumnTransformer<a class=\"sk-estimator-doc-link fitted\" rel=\"noreferrer\" target=\"_blank\" href=\"https://scikit-learn.org/1.4/modules/generated/sklearn.compose.ColumnTransformer.html\">?<span>Documentation for preprocessor: ColumnTransformer</span></a></label><div class=\"sk-toggleable__content fitted\"><pre>ColumnTransformer(remainder=&#x27;passthrough&#x27;,\n",
       "                  transformers=[(&#x27;ohe&#x27;,\n",
       "                                 Pipeline(steps=[(&#x27;simpleImputer_ohe_one&#x27;,\n",
       "                                                  SimpleImputer(strategy=&#x27;most_frequent&#x27;)),\n",
       "                                                 (&#x27;simpleImputer_ohe_two&#x27;,\n",
       "                                                  SimpleImputer(missing_values=&#x27; &#x27;,\n",
       "                                                                strategy=&#x27;most_frequent&#x27;)),\n",
       "                                                 (&#x27;ohe&#x27;,\n",
       "                                                  OneHotEncoder(drop=&#x27;first&#x27;,\n",
       "                                                                handle_unknown=&#x27;ignore&#x27;))]),\n",
       "                                 [&#x27;vehicle_type&#x27;, &#x27;gearbox&#x27;, &#x27;model&#x27;,\n",
       "                                  &#x27;fuel_type&#x27;, &#x27;brand&#x27;, &#x27;repaired&#x27;]),\n",
       "                                (&#x27;num&#x27;, MinMaxScaler(),\n",
       "                                 [&#x27;registration_year&#x27;, &#x27;power&#x27;, &#x27;kilometer&#x27;])])</pre></div> </div></div><div class=\"sk-parallel\"><div class=\"sk-parallel-item\"><div class=\"sk-item\"><div class=\"sk-label-container\"><div class=\"sk-label fitted sk-toggleable\"><input class=\"sk-toggleable__control sk-hidden--visually\" id=\"sk-estimator-id-14\" type=\"checkbox\" ><label for=\"sk-estimator-id-14\" class=\"sk-toggleable__label fitted sk-toggleable__label-arrow fitted\">ohe</label><div class=\"sk-toggleable__content fitted\"><pre>[&#x27;vehicle_type&#x27;, &#x27;gearbox&#x27;, &#x27;model&#x27;, &#x27;fuel_type&#x27;, &#x27;brand&#x27;, &#x27;repaired&#x27;]</pre></div> </div></div><div class=\"sk-serial\"><div class=\"sk-item\"><div class=\"sk-serial\"><div class=\"sk-item\"><div class=\"sk-estimator fitted sk-toggleable\"><input class=\"sk-toggleable__control sk-hidden--visually\" id=\"sk-estimator-id-15\" type=\"checkbox\" ><label for=\"sk-estimator-id-15\" class=\"sk-toggleable__label fitted sk-toggleable__label-arrow fitted\">&nbsp;SimpleImputer<a class=\"sk-estimator-doc-link fitted\" rel=\"noreferrer\" target=\"_blank\" href=\"https://scikit-learn.org/1.4/modules/generated/sklearn.impute.SimpleImputer.html\">?<span>Documentation for SimpleImputer</span></a></label><div class=\"sk-toggleable__content fitted\"><pre>SimpleImputer(strategy=&#x27;most_frequent&#x27;)</pre></div> </div></div><div class=\"sk-item\"><div class=\"sk-estimator fitted sk-toggleable\"><input class=\"sk-toggleable__control sk-hidden--visually\" id=\"sk-estimator-id-16\" type=\"checkbox\" ><label for=\"sk-estimator-id-16\" class=\"sk-toggleable__label fitted sk-toggleable__label-arrow fitted\">&nbsp;SimpleImputer<a class=\"sk-estimator-doc-link fitted\" rel=\"noreferrer\" target=\"_blank\" href=\"https://scikit-learn.org/1.4/modules/generated/sklearn.impute.SimpleImputer.html\">?<span>Documentation for SimpleImputer</span></a></label><div class=\"sk-toggleable__content fitted\"><pre>SimpleImputer(missing_values=&#x27; &#x27;, strategy=&#x27;most_frequent&#x27;)</pre></div> </div></div><div class=\"sk-item\"><div class=\"sk-estimator fitted sk-toggleable\"><input class=\"sk-toggleable__control sk-hidden--visually\" id=\"sk-estimator-id-17\" type=\"checkbox\" ><label for=\"sk-estimator-id-17\" class=\"sk-toggleable__label fitted sk-toggleable__label-arrow fitted\">&nbsp;OneHotEncoder<a class=\"sk-estimator-doc-link fitted\" rel=\"noreferrer\" target=\"_blank\" href=\"https://scikit-learn.org/1.4/modules/generated/sklearn.preprocessing.OneHotEncoder.html\">?<span>Documentation for OneHotEncoder</span></a></label><div class=\"sk-toggleable__content fitted\"><pre>OneHotEncoder(drop=&#x27;first&#x27;, handle_unknown=&#x27;ignore&#x27;)</pre></div> </div></div></div></div></div></div></div><div class=\"sk-parallel-item\"><div class=\"sk-item\"><div class=\"sk-label-container\"><div class=\"sk-label fitted sk-toggleable\"><input class=\"sk-toggleable__control sk-hidden--visually\" id=\"sk-estimator-id-18\" type=\"checkbox\" ><label for=\"sk-estimator-id-18\" class=\"sk-toggleable__label fitted sk-toggleable__label-arrow fitted\">num</label><div class=\"sk-toggleable__content fitted\"><pre>[&#x27;registration_year&#x27;, &#x27;power&#x27;, &#x27;kilometer&#x27;]</pre></div> </div></div><div class=\"sk-serial\"><div class=\"sk-item\"><div class=\"sk-estimator fitted sk-toggleable\"><input class=\"sk-toggleable__control sk-hidden--visually\" id=\"sk-estimator-id-19\" type=\"checkbox\" ><label for=\"sk-estimator-id-19\" class=\"sk-toggleable__label fitted sk-toggleable__label-arrow fitted\">&nbsp;MinMaxScaler<a class=\"sk-estimator-doc-link fitted\" rel=\"noreferrer\" target=\"_blank\" href=\"https://scikit-learn.org/1.4/modules/generated/sklearn.preprocessing.MinMaxScaler.html\">?<span>Documentation for MinMaxScaler</span></a></label><div class=\"sk-toggleable__content fitted\"><pre>MinMaxScaler()</pre></div> </div></div></div></div></div><div class=\"sk-parallel-item\"><div class=\"sk-item\"><div class=\"sk-label-container\"><div class=\"sk-label fitted sk-toggleable\"><input class=\"sk-toggleable__control sk-hidden--visually\" id=\"sk-estimator-id-20\" type=\"checkbox\" ><label for=\"sk-estimator-id-20\" class=\"sk-toggleable__label fitted sk-toggleable__label-arrow fitted\">remainder</label><div class=\"sk-toggleable__content fitted\"><pre>[]</pre></div> </div></div><div class=\"sk-serial\"><div class=\"sk-item\"><div class=\"sk-estimator fitted sk-toggleable\"><input class=\"sk-toggleable__control sk-hidden--visually\" id=\"sk-estimator-id-21\" type=\"checkbox\" ><label for=\"sk-estimator-id-21\" class=\"sk-toggleable__label fitted sk-toggleable__label-arrow fitted\">passthrough</label><div class=\"sk-toggleable__content fitted\"><pre>passthrough</pre></div> </div></div></div></div></div></div></div><div class=\"sk-item\"><div class=\"sk-estimator fitted sk-toggleable\"><input class=\"sk-toggleable__control sk-hidden--visually\" id=\"sk-estimator-id-22\" type=\"checkbox\" ><label for=\"sk-estimator-id-22\" class=\"sk-toggleable__label fitted sk-toggleable__label-arrow fitted\">&nbsp;LinearRegression<a class=\"sk-estimator-doc-link fitted\" rel=\"noreferrer\" target=\"_blank\" href=\"https://scikit-learn.org/1.4/modules/generated/sklearn.linear_model.LinearRegression.html\">?<span>Documentation for LinearRegression</span></a></label><div class=\"sk-toggleable__content fitted\"><pre>LinearRegression()</pre></div> </div></div></div></div></div></div>"
      ],
      "text/plain": [
       "Pipeline(steps=[('preprocessor',\n",
       "                 ColumnTransformer(remainder='passthrough',\n",
       "                                   transformers=[('ohe',\n",
       "                                                  Pipeline(steps=[('simpleImputer_ohe_one',\n",
       "                                                                   SimpleImputer(strategy='most_frequent')),\n",
       "                                                                  ('simpleImputer_ohe_two',\n",
       "                                                                   SimpleImputer(missing_values=' ',\n",
       "                                                                                 strategy='most_frequent')),\n",
       "                                                                  ('ohe',\n",
       "                                                                   OneHotEncoder(drop='first',\n",
       "                                                                                 handle_unknown='ignore'))]),\n",
       "                                                  ['vehicle_type', 'gearbox',\n",
       "                                                   'model', 'fuel_type',\n",
       "                                                   'brand', 'repaired']),\n",
       "                                                 ('num', MinMaxScaler(),\n",
       "                                                  ['registration_year', 'power',\n",
       "                                                   'kilometer'])])),\n",
       "                ('models', LinearRegression())])"
      ]
     },
     "execution_count": 31,
     "metadata": {},
     "output_type": "execute_result"
    }
   ],
   "source": [
    "pipe_final_2 = Pipeline(\n",
    "    [\n",
    "        ('preprocessor', data_preprocessor),\n",
    "        ('models',  LinearRegression())\n",
    "    ]\n",
    ")\n",
    "\n",
    "pipe_final_2.fit(X_train, y_train)"
   ]
  },
  {
   "cell_type": "markdown",
   "metadata": {},
   "source": [
    "### Обучение и анализ."
   ]
  },
  {
   "cell_type": "code",
   "execution_count": 32,
   "metadata": {},
   "outputs": [
    {
     "name": "stderr",
     "output_type": "stream",
     "text": [
      "/opt/conda/lib/python3.9/site-packages/sklearn/preprocessing/_encoders.py:241: UserWarning: Found unknown categories in columns [2] during transform. These unknown categories will be encoded as all zeros\n",
      "  warnings.warn(\n",
      "/opt/conda/lib/python3.9/site-packages/sklearn/preprocessing/_encoders.py:241: UserWarning: Found unknown categories in columns [2] during transform. These unknown categories will be encoded as all zeros\n",
      "  warnings.warn(\n",
      "/opt/conda/lib/python3.9/site-packages/sklearn/preprocessing/_encoders.py:241: UserWarning: Found unknown categories in columns [2] during transform. These unknown categories will be encoded as all zeros\n",
      "  warnings.warn(\n",
      "/opt/conda/lib/python3.9/site-packages/sklearn/preprocessing/_encoders.py:241: UserWarning: Found unknown categories in columns [2] during transform. These unknown categories will be encoded as all zeros\n",
      "  warnings.warn(\n"
     ]
    },
    {
     "name": "stdout",
     "output_type": "stream",
     "text": [
      "Лучшая модель для LGBM и её параметры:\n",
      "\n",
      " Pipeline(steps=[('preprocessor',\n",
      "                 ColumnTransformer(remainder='passthrough',\n",
      "                                   transformers=[('ohe',\n",
      "                                                  Pipeline(steps=[('simpleImputer_ohe_one',\n",
      "                                                                   SimpleImputer(strategy='most_frequent')),\n",
      "                                                                  ('simpleImputer_ohe_two',\n",
      "                                                                   SimpleImputer(missing_values=' ',\n",
      "                                                                                 strategy='most_frequent')),\n",
      "                                                                  ('ohe',\n",
      "                                                                   OneHotEncoder(drop='first',\n",
      "                                                                                 handle_unknown='ignore'))]),\n",
      "                                                  ['vehicle_type', 'gearbox',\n",
      "                                                   'model', 'fuel_type',\n",
      "                                                   'brand', 'repaired']),\n",
      "                                                 ('num', 'passthrough',\n",
      "                                                  ['registration_year', 'power',\n",
      "                                                   'kilometer'])])),\n",
      "                ('models', LGBMRegressor(max_depth=3, random_state=42))])\n"
     ]
    },
    {
     "name": "stderr",
     "output_type": "stream",
     "text": [
      "/opt/conda/lib/python3.9/site-packages/sklearn/preprocessing/_encoders.py:241: UserWarning: Found unknown categories in columns [2] during transform. These unknown categories will be encoded as all zeros\n",
      "  warnings.warn(\n"
     ]
    },
    {
     "name": "stdout",
     "output_type": "stream",
     "text": [
      "Метрика RMSE лучшей модели LGBM на тренировочной выборке: 2055.21161251142\n",
      "Время обучения LGBM: 3.60818 секунд\n",
      "Время предсказания LGBM: 1.30042 секунд\n"
     ]
    }
   ],
   "source": [
    "param_grid_1 = [\n",
    "    {\n",
    "        'models': [lgb.LGBMRegressor(random_state=RANDOM_STATE)],\n",
    "        'models__max_depth': [2, 3],\n",
    "        'preprocessor__num': [StandardScaler(), 'passthrough']\n",
    "    }\n",
    "]\n",
    "\n",
    "grid_search_1 = GridSearchCV(\n",
    "    pipe_final_1,\n",
    "    param_grid_1,\n",
    "    cv=5,\n",
    "    scoring='neg_mean_squared_error',\n",
    "    n_jobs=-1\n",
    ")\n",
    "\n",
    "grid_search_1.fit(X_train, y_train)\n",
    "\n",
    "best_model = grid_search_1.best_estimator_\n",
    "\n",
    "print('Лучшая модель для LGBM и её параметры:\\n\\n', best_model)\n",
    "\n",
    "cv_scores = cross_val_score(best_model, X_train, y_train, cv=5, scoring='neg_mean_squared_error')\n",
    "rmse_value_lgbm = np.sqrt(-cv_scores.mean())\n",
    "print('Метрика RMSE лучшей модели LGBM на тренировочной выборке:', rmse_value_lgbm)\n",
    "\n",
    "start_time = time.time()\n",
    "best_model.fit(X_train, y_train)\n",
    "end_time = time.time()\n",
    "train_time_lgbm = round((end_time - start_time), 5)\n",
    "print(\"Время обучения LGBM: %s секунд\" % train_time_lgbm)\n",
    "\n",
    "start_time = time.time()\n",
    "best_model.predict(X_train)\n",
    "end_time = time.time()\n",
    "predict_time_lgbm = round((end_time - start_time), 5)\n",
    "print(\"Время предсказания LGBM: %s секунд\" % predict_time_lgbm)"
   ]
  },
  {
   "cell_type": "code",
   "execution_count": 33,
   "metadata": {},
   "outputs": [
    {
     "name": "stderr",
     "output_type": "stream",
     "text": [
      "/opt/conda/lib/python3.9/site-packages/sklearn/preprocessing/_encoders.py:241: UserWarning: Found unknown categories in columns [2] during transform. These unknown categories will be encoded as all zeros\n",
      "  warnings.warn(\n",
      "/opt/conda/lib/python3.9/site-packages/sklearn/preprocessing/_encoders.py:241: UserWarning: Found unknown categories in columns [2] during transform. These unknown categories will be encoded as all zeros\n",
      "  warnings.warn(\n",
      "/opt/conda/lib/python3.9/site-packages/sklearn/preprocessing/_encoders.py:241: UserWarning: Found unknown categories in columns [2] during transform. These unknown categories will be encoded as all zeros\n",
      "  warnings.warn(\n"
     ]
    },
    {
     "name": "stdout",
     "output_type": "stream",
     "text": [
      "Лучшая модель для LR и её параметры:\n",
      "\n",
      " Pipeline(steps=[('preprocessor',\n",
      "                 ColumnTransformer(remainder='passthrough',\n",
      "                                   transformers=[('ohe',\n",
      "                                                  Pipeline(steps=[('simpleImputer_ohe_one',\n",
      "                                                                   SimpleImputer(strategy='most_frequent')),\n",
      "                                                                  ('simpleImputer_ohe_two',\n",
      "                                                                   SimpleImputer(missing_values=' ',\n",
      "                                                                                 strategy='most_frequent')),\n",
      "                                                                  ('ohe',\n",
      "                                                                   OneHotEncoder(drop='first',\n",
      "                                                                                 handle_unknown='ignore'))]),\n",
      "                                                  ['vehicle_type', 'gearbox',\n",
      "                                                   'model', 'fuel_type',\n",
      "                                                   'brand', 'repaired']),\n",
      "                                                 ('num', StandardScaler(),\n",
      "                                                  ['registration_year', 'power',\n",
      "                                                   'kilometer'])])),\n",
      "                ('models', LinearRegression())])\n"
     ]
    },
    {
     "name": "stderr",
     "output_type": "stream",
     "text": [
      "/opt/conda/lib/python3.9/site-packages/sklearn/preprocessing/_encoders.py:241: UserWarning: Found unknown categories in columns [2] during transform. These unknown categories will be encoded as all zeros\n",
      "  warnings.warn(\n"
     ]
    },
    {
     "name": "stdout",
     "output_type": "stream",
     "text": [
      "Метрика RMSE лучшей модели LR на тренировочной выборке: 2816.0284419681047\n",
      "Время обучения LR: 35.72756 секунд\n",
      "Время предсказания LR: 0.65871 секунд\n"
     ]
    }
   ],
   "source": [
    "param_grid_2 = [\n",
    "    {\n",
    "        'models': [LinearRegression()],\n",
    "        'preprocessor__num': [StandardScaler(), MinMaxScaler(), 'passthrough'] \n",
    "    }\n",
    "]\n",
    "\n",
    "grid_search_2 = GridSearchCV(\n",
    "    pipe_final_2,\n",
    "    param_grid_2,\n",
    "    cv=5,\n",
    "    scoring='neg_mean_squared_error',\n",
    "    n_jobs=-1\n",
    ")\n",
    "\n",
    "grid_search_2.fit(X_train, y_train)\n",
    "\n",
    "best_model_ = grid_search_2.best_estimator_\n",
    "\n",
    "print('Лучшая модель для LR и её параметры:\\n\\n', best_model_)\n",
    "\n",
    "cv_scores = cross_val_score(best_model_, X_train, y_train, cv=5, scoring='neg_mean_squared_error')\n",
    "rmse_value_lr = np.sqrt(-cv_scores.mean())\n",
    "print('Метрика RMSE лучшей модели LR на тренировочной выборке:', rmse_value_lr)\n",
    "\n",
    "start_time = time.time()\n",
    "best_model_.fit(X_train, y_train)\n",
    "end_time = time.time()\n",
    "train_time_lr = round((end_time - start_time), 5)\n",
    "print(\"Время обучения LR: %s секунд\" % train_time_lr)\n",
    "\n",
    "start_time = time.time()\n",
    "best_model_.predict(X_train)\n",
    "end_time = time.time()\n",
    "predict_time_lr = round((end_time - start_time), 5)\n",
    "print(\"Время предсказания LR: %s секунд\" % predict_time_lr)"
   ]
  },
  {
   "cell_type": "code",
   "execution_count": 34,
   "metadata": {},
   "outputs": [
    {
     "data": {
      "text/html": [
       "<div>\n",
       "<style scoped>\n",
       "    .dataframe tbody tr th:only-of-type {\n",
       "        vertical-align: middle;\n",
       "    }\n",
       "\n",
       "    .dataframe tbody tr th {\n",
       "        vertical-align: top;\n",
       "    }\n",
       "\n",
       "    .dataframe thead th {\n",
       "        text-align: right;\n",
       "    }\n",
       "</style>\n",
       "<table border=\"1\" class=\"dataframe\">\n",
       "  <thead>\n",
       "    <tr style=\"text-align: right;\">\n",
       "      <th></th>\n",
       "      <th>Модель</th>\n",
       "      <th>RMSE на обучающей выборке</th>\n",
       "      <th>Время обучения</th>\n",
       "      <th>Время предсказания</th>\n",
       "    </tr>\n",
       "  </thead>\n",
       "  <tbody>\n",
       "    <tr>\n",
       "      <th>0</th>\n",
       "      <td>LGBM</td>\n",
       "      <td>2055.211613</td>\n",
       "      <td>3.60818</td>\n",
       "      <td>1.30042</td>\n",
       "    </tr>\n",
       "    <tr>\n",
       "      <th>1</th>\n",
       "      <td>Linear Regression</td>\n",
       "      <td>2816.028442</td>\n",
       "      <td>35.72756</td>\n",
       "      <td>0.65871</td>\n",
       "    </tr>\n",
       "  </tbody>\n",
       "</table>\n",
       "</div>"
      ],
      "text/plain": [
       "              Модель  RMSE на обучающей выборке  Время обучения  \\\n",
       "0               LGBM                2055.211613         3.60818   \n",
       "1  Linear Regression                2816.028442        35.72756   \n",
       "\n",
       "   Время предсказания  \n",
       "0             1.30042  \n",
       "1             0.65871  "
      ]
     },
     "execution_count": 34,
     "metadata": {},
     "output_type": "execute_result"
    }
   ],
   "source": [
    "results = pd.DataFrame({\n",
    "    'Модель': ['LGBM', 'Linear Regression'],\n",
    "    'RMSE на обучающей выборке': [rmse_value_lgbm, rmse_value_lr],\n",
    "    'Время обучения': [train_time_lgbm, train_time_lr],\n",
    "    'Время предсказания': [predict_time_lgbm, predict_time_lr]\n",
    "})\n",
    "\n",
    "results"
   ]
  },
  {
   "cell_type": "markdown",
   "metadata": {},
   "source": [
    "**Промежуточный вывод:**<br>Мы обучили две лучшие модели, а именно LightGBM и LinearRegression. В итоге, проанализировав время обучения, время предсказания и качество моделей на тестовой выборке, стоит сказать, что модель LGBM справляется лучше. Linear Regression выигрывает лишь по времени предсказанию, однако совершенно незначительно. Поэтому для данного проекта я выберу LightGBM.<br>Теперь выполним предсказания на тестовой выборке с помощью модели LGBM."
   ]
  },
  {
   "cell_type": "code",
   "execution_count": 38,
   "metadata": {},
   "outputs": [
    {
     "name": "stdout",
     "output_type": "stream",
     "text": [
      "Метрика RMSE лучшей модели на тестовой выборке: 2460.76\n"
     ]
    }
   ],
   "source": [
    "y_pred = best_model.predict(X_test)\n",
    "rmse = np.sqrt(mean_squared_error(y_test, y_pred))\n",
    "print('Метрика RMSE лучшей модели на тестовой выборке:', round(rmse, 2))"
   ]
  },
  {
   "cell_type": "markdown",
   "metadata": {},
   "source": [
    "# Общий вывод."
   ]
  },
  {
   "cell_type": "markdown",
   "metadata": {},
   "source": [
    "В ходе данного проекта мы решали задачу определения рыночной стоимости подержанных автомобилей для сервиса по продаже автомобилей с пробегом «Не бит, не крашен». Наша цель заключалась в создании модели, способной быстро и точно определять стоимость автомобиля на основе его технических характеристик и комплектации.<br><br>Мы начали с предварительного анализа данных, который позволил нам выявить потенциальные проблемы, такие как пропущенные значения, аномалии и дубликаты. Затем мы провели предобработку данных, включая работу с названиями столбцов, заполнение пропущенных значений, удаление дубликатов и обработку аномалий.<br><br>На следующем этапе мы подготовили данные для обучения моделей, включая кодирование категориальных признаков и разделение данных на обучающий и тестовый наборы.<br><br>Затем мы приступили к обучению нескольких моделей, включая LightGBM и LinearRegression, с использованием метода поиска по сетке для настройки гиперпараметров. Мы анализировали время обучения, время предсказания и качество моделей на тестовой выборке.<br><br>В результате анализа мы пришли к выводу, что модель LightGBM лучше подходит для решения поставленной задачи. Она обладает более высокой точностью предсказаний и при этом имеет более низкое время обучения и предсказания по сравнению с моделью LinearRegression.<br><br>Таким образом, наша модель LightGBM может успешно использоваться сервисом для определения рыночной стоимости автомобилей и привлечения новых клиентов."
   ]
  }
 ],
 "metadata": {
  "ExecuteTimeLog": [
   {
    "duration": 323,
    "start_time": "2024-04-14T16:31:27.618Z"
   },
   {
    "duration": 905,
    "start_time": "2024-04-14T16:31:56.109Z"
   },
   {
    "duration": 698,
    "start_time": "2024-04-14T16:32:00.698Z"
   },
   {
    "duration": 93,
    "start_time": "2024-04-14T16:32:21.399Z"
   },
   {
    "duration": 628,
    "start_time": "2024-04-14T16:32:25.846Z"
   },
   {
    "duration": 93,
    "start_time": "2024-04-14T16:32:28.041Z"
   },
   {
    "duration": 74,
    "start_time": "2024-04-14T16:32:52.383Z"
   },
   {
    "duration": 88,
    "start_time": "2024-04-14T16:49:38.525Z"
   },
   {
    "duration": 3,
    "start_time": "2024-04-14T16:54:31.446Z"
   },
   {
    "duration": 3,
    "start_time": "2024-04-14T16:56:33.513Z"
   },
   {
    "duration": 11,
    "start_time": "2024-04-14T16:56:45.644Z"
   },
   {
    "duration": 89,
    "start_time": "2024-04-14T17:13:09.648Z"
   },
   {
    "duration": 71,
    "start_time": "2024-04-14T17:14:23.521Z"
   },
   {
    "duration": 91,
    "start_time": "2024-04-14T17:15:33.123Z"
   },
   {
    "duration": 13,
    "start_time": "2024-04-14T17:15:44.972Z"
   },
   {
    "duration": 24,
    "start_time": "2024-04-14T17:15:52.902Z"
   },
   {
    "duration": 6,
    "start_time": "2024-04-14T17:19:29.549Z"
   },
   {
    "duration": 383,
    "start_time": "2024-04-14T17:19:33.860Z"
   },
   {
    "duration": 27,
    "start_time": "2024-04-14T17:19:56.633Z"
   },
   {
    "duration": 36,
    "start_time": "2024-04-14T17:20:07.011Z"
   },
   {
    "duration": 46,
    "start_time": "2024-04-14T17:20:57.167Z"
   },
   {
    "duration": 27,
    "start_time": "2024-04-14T17:21:11.320Z"
   },
   {
    "duration": 130,
    "start_time": "2024-04-14T17:24:55.087Z"
   },
   {
    "duration": 128,
    "start_time": "2024-04-14T17:26:34.341Z"
   },
   {
    "duration": 88,
    "start_time": "2024-04-14T17:26:39.160Z"
   },
   {
    "duration": 79,
    "start_time": "2024-04-14T17:35:58.270Z"
   },
   {
    "duration": 23,
    "start_time": "2024-04-14T17:53:32.411Z"
   },
   {
    "duration": 15,
    "start_time": "2024-04-14T17:53:38.534Z"
   },
   {
    "duration": 22,
    "start_time": "2024-04-14T17:53:49.246Z"
   },
   {
    "duration": 21,
    "start_time": "2024-04-14T17:54:32.855Z"
   },
   {
    "duration": 38,
    "start_time": "2024-04-14T17:57:28.171Z"
   },
   {
    "duration": 121,
    "start_time": "2024-04-14T17:57:38.169Z"
   },
   {
    "duration": 103,
    "start_time": "2024-04-14T17:57:43.880Z"
   },
   {
    "duration": 110,
    "start_time": "2024-04-14T17:58:08.463Z"
   },
   {
    "duration": 23,
    "start_time": "2024-04-14T18:00:25.206Z"
   },
   {
    "duration": 329,
    "start_time": "2024-04-14T18:00:49.332Z"
   },
   {
    "duration": 665,
    "start_time": "2024-04-14T18:00:49.662Z"
   },
   {
    "duration": 96,
    "start_time": "2024-04-14T18:00:50.328Z"
   },
   {
    "duration": 91,
    "start_time": "2024-04-14T18:00:50.427Z"
   },
   {
    "duration": 10,
    "start_time": "2024-04-14T18:00:50.520Z"
   },
   {
    "duration": 32,
    "start_time": "2024-04-14T18:00:50.531Z"
   },
   {
    "duration": 70,
    "start_time": "2024-04-14T18:00:50.564Z"
   },
   {
    "duration": 151,
    "start_time": "2024-04-14T18:00:50.635Z"
   },
   {
    "duration": 58,
    "start_time": "2024-04-14T18:00:50.787Z"
   },
   {
    "duration": 66,
    "start_time": "2024-04-14T18:00:50.847Z"
   },
   {
    "duration": 76,
    "start_time": "2024-04-14T18:00:50.915Z"
   },
   {
    "duration": 111,
    "start_time": "2024-04-14T18:18:24.880Z"
   },
   {
    "duration": 61,
    "start_time": "2024-04-14T18:19:05.076Z"
   },
   {
    "duration": 58,
    "start_time": "2024-04-14T18:19:05.623Z"
   },
   {
    "duration": 131,
    "start_time": "2024-04-14T18:20:05.678Z"
   },
   {
    "duration": 123,
    "start_time": "2024-04-14T18:20:11.385Z"
   },
   {
    "duration": 122,
    "start_time": "2024-04-14T18:20:17.220Z"
   },
   {
    "duration": 57,
    "start_time": "2024-04-14T18:20:37.057Z"
   },
   {
    "duration": 155,
    "start_time": "2024-04-14T18:20:59.570Z"
   },
   {
    "duration": 269,
    "start_time": "2024-04-14T18:21:09.183Z"
   },
   {
    "duration": 143,
    "start_time": "2024-04-14T18:21:12.837Z"
   },
   {
    "duration": 135,
    "start_time": "2024-04-14T18:21:19.097Z"
   },
   {
    "duration": 348,
    "start_time": "2024-04-14T18:21:28.798Z"
   },
   {
    "duration": 669,
    "start_time": "2024-04-14T18:21:29.147Z"
   },
   {
    "duration": 102,
    "start_time": "2024-04-14T18:21:29.817Z"
   },
   {
    "duration": 88,
    "start_time": "2024-04-14T18:21:29.920Z"
   },
   {
    "duration": 11,
    "start_time": "2024-04-14T18:21:30.009Z"
   },
   {
    "duration": 92,
    "start_time": "2024-04-14T18:21:30.021Z"
   },
   {
    "duration": 83,
    "start_time": "2024-04-14T18:21:30.114Z"
   },
   {
    "duration": 112,
    "start_time": "2024-04-14T18:21:30.198Z"
   },
   {
    "duration": 57,
    "start_time": "2024-04-14T18:21:30.311Z"
   },
   {
    "duration": 160,
    "start_time": "2024-04-14T18:21:30.370Z"
   },
   {
    "duration": 158,
    "start_time": "2024-04-14T18:21:30.531Z"
   },
   {
    "duration": 148,
    "start_time": "2024-04-14T18:21:30.691Z"
   },
   {
    "duration": 53,
    "start_time": "2024-04-14T18:21:30.841Z"
   },
   {
    "duration": 73,
    "start_time": "2024-04-14T18:21:30.895Z"
   },
   {
    "duration": 132,
    "start_time": "2024-04-14T18:21:59.385Z"
   },
   {
    "duration": 139,
    "start_time": "2024-04-14T18:22:00.242Z"
   },
   {
    "duration": 130,
    "start_time": "2024-04-14T18:22:02.293Z"
   },
   {
    "duration": 3,
    "start_time": "2024-04-14T18:22:18.830Z"
   },
   {
    "duration": 4,
    "start_time": "2024-04-14T18:22:30.283Z"
   },
   {
    "duration": 16,
    "start_time": "2024-04-14T18:22:43.505Z"
   },
   {
    "duration": 15,
    "start_time": "2024-04-14T18:23:42.230Z"
   },
   {
    "duration": 5,
    "start_time": "2024-04-14T18:23:44.740Z"
   },
   {
    "duration": 61,
    "start_time": "2024-04-14T18:26:12.650Z"
   },
   {
    "duration": 17,
    "start_time": "2024-04-14T18:26:19.349Z"
   },
   {
    "duration": 5,
    "start_time": "2024-04-14T18:26:26.663Z"
   },
   {
    "duration": 15,
    "start_time": "2024-04-14T18:27:00.654Z"
   },
   {
    "duration": 10,
    "start_time": "2024-04-14T18:27:23.009Z"
   },
   {
    "duration": 17,
    "start_time": "2024-04-14T18:28:18.730Z"
   },
   {
    "duration": 6,
    "start_time": "2024-04-14T18:28:30.684Z"
   },
   {
    "duration": 19,
    "start_time": "2024-04-14T18:28:51.711Z"
   },
   {
    "duration": 18,
    "start_time": "2024-04-14T18:29:57.139Z"
   },
   {
    "duration": 5,
    "start_time": "2024-04-14T18:30:33.486Z"
   },
   {
    "duration": 16,
    "start_time": "2024-04-14T18:30:51.509Z"
   },
   {
    "duration": 20,
    "start_time": "2024-04-14T18:32:14.401Z"
   },
   {
    "duration": 60,
    "start_time": "2024-04-14T18:32:24.489Z"
   },
   {
    "duration": 140,
    "start_time": "2024-04-14T18:33:34.642Z"
   },
   {
    "duration": 104,
    "start_time": "2024-04-14T18:33:35.671Z"
   },
   {
    "duration": 3,
    "start_time": "2024-04-14T18:33:36.078Z"
   },
   {
    "duration": 61,
    "start_time": "2024-04-14T18:35:40.413Z"
   },
   {
    "duration": 19,
    "start_time": "2024-04-14T18:35:44.642Z"
   },
   {
    "duration": 352,
    "start_time": "2024-04-14T18:35:50.396Z"
   },
   {
    "duration": 665,
    "start_time": "2024-04-14T18:35:50.749Z"
   },
   {
    "duration": 99,
    "start_time": "2024-04-14T18:35:51.415Z"
   },
   {
    "duration": 89,
    "start_time": "2024-04-14T18:35:51.516Z"
   },
   {
    "duration": 11,
    "start_time": "2024-04-14T18:35:51.606Z"
   },
   {
    "duration": 27,
    "start_time": "2024-04-14T18:35:51.618Z"
   },
   {
    "duration": 67,
    "start_time": "2024-04-14T18:35:51.646Z"
   },
   {
    "duration": 89,
    "start_time": "2024-04-14T18:35:51.715Z"
   },
   {
    "duration": 57,
    "start_time": "2024-04-14T18:35:51.805Z"
   },
   {
    "duration": 154,
    "start_time": "2024-04-14T18:35:51.864Z"
   },
   {
    "duration": 177,
    "start_time": "2024-04-14T18:35:52.019Z"
   },
   {
    "duration": 122,
    "start_time": "2024-04-14T18:35:52.197Z"
   },
   {
    "duration": 4,
    "start_time": "2024-04-14T18:35:52.320Z"
   },
   {
    "duration": 22,
    "start_time": "2024-04-14T18:35:52.325Z"
   },
   {
    "duration": 5,
    "start_time": "2024-04-14T18:35:52.348Z"
   },
   {
    "duration": 42,
    "start_time": "2024-04-14T18:35:52.354Z"
   },
   {
    "duration": 6,
    "start_time": "2024-04-14T18:35:52.397Z"
   },
   {
    "duration": 8,
    "start_time": "2024-04-14T18:35:52.404Z"
   },
   {
    "duration": 72,
    "start_time": "2024-04-14T18:35:52.413Z"
   },
   {
    "duration": 8,
    "start_time": "2024-04-14T18:35:52.486Z"
   },
   {
    "duration": 15,
    "start_time": "2024-04-14T18:35:52.496Z"
   },
   {
    "duration": 17,
    "start_time": "2024-04-14T18:36:18.416Z"
   },
   {
    "duration": 15,
    "start_time": "2024-04-14T18:36:44.918Z"
   },
   {
    "duration": 330,
    "start_time": "2024-04-14T18:41:06.220Z"
   },
   {
    "duration": 661,
    "start_time": "2024-04-14T18:41:06.551Z"
   },
   {
    "duration": 102,
    "start_time": "2024-04-14T18:41:07.213Z"
   },
   {
    "duration": 86,
    "start_time": "2024-04-14T18:41:07.316Z"
   },
   {
    "duration": 10,
    "start_time": "2024-04-14T18:41:07.403Z"
   },
   {
    "duration": 24,
    "start_time": "2024-04-14T18:41:07.414Z"
   },
   {
    "duration": 69,
    "start_time": "2024-04-14T18:41:07.440Z"
   },
   {
    "duration": 83,
    "start_time": "2024-04-14T18:41:07.517Z"
   },
   {
    "duration": 57,
    "start_time": "2024-04-14T18:41:07.602Z"
   },
   {
    "duration": 154,
    "start_time": "2024-04-14T18:41:07.661Z"
   },
   {
    "duration": 167,
    "start_time": "2024-04-14T18:41:07.817Z"
   },
   {
    "duration": 115,
    "start_time": "2024-04-14T18:41:07.986Z"
   },
   {
    "duration": 3,
    "start_time": "2024-04-14T18:41:08.103Z"
   },
   {
    "duration": 20,
    "start_time": "2024-04-14T18:41:08.109Z"
   },
   {
    "duration": 6,
    "start_time": "2024-04-14T18:41:08.131Z"
   },
   {
    "duration": 52,
    "start_time": "2024-04-14T18:41:08.138Z"
   },
   {
    "duration": 6,
    "start_time": "2024-04-14T18:41:08.191Z"
   },
   {
    "duration": 10,
    "start_time": "2024-04-14T18:41:08.199Z"
   },
   {
    "duration": 61,
    "start_time": "2024-04-14T18:41:08.210Z"
   },
   {
    "duration": 19,
    "start_time": "2024-04-14T18:41:08.272Z"
   },
   {
    "duration": 385,
    "start_time": "2024-04-15T11:41:00.559Z"
   },
   {
    "duration": 1164,
    "start_time": "2024-04-15T11:41:00.946Z"
   },
   {
    "duration": 149,
    "start_time": "2024-04-15T11:41:02.112Z"
   },
   {
    "duration": 206,
    "start_time": "2024-04-15T11:41:02.264Z"
   },
   {
    "duration": 13,
    "start_time": "2024-04-15T11:41:02.472Z"
   },
   {
    "duration": 107,
    "start_time": "2024-04-15T11:41:02.486Z"
   },
   {
    "duration": 163,
    "start_time": "2024-04-15T11:41:02.595Z"
   },
   {
    "duration": 214,
    "start_time": "2024-04-15T11:41:02.759Z"
   },
   {
    "duration": 102,
    "start_time": "2024-04-15T11:41:02.975Z"
   },
   {
    "duration": 246,
    "start_time": "2024-04-15T11:41:03.079Z"
   },
   {
    "duration": 231,
    "start_time": "2024-04-15T11:41:03.327Z"
   },
   {
    "duration": 146,
    "start_time": "2024-04-15T11:41:03.560Z"
   },
   {
    "duration": 3,
    "start_time": "2024-04-15T11:41:03.708Z"
   },
   {
    "duration": 62,
    "start_time": "2024-04-15T11:41:03.713Z"
   },
   {
    "duration": 21,
    "start_time": "2024-04-15T11:41:03.776Z"
   },
   {
    "duration": 80,
    "start_time": "2024-04-15T11:41:03.799Z"
   },
   {
    "duration": 55,
    "start_time": "2024-04-15T11:41:03.880Z"
   },
   {
    "duration": 211,
    "start_time": "2024-04-15T11:41:03.937Z"
   },
   {
    "duration": 156,
    "start_time": "2024-04-15T11:41:04.150Z"
   },
   {
    "duration": 22,
    "start_time": "2024-04-15T11:41:04.308Z"
   },
   {
    "duration": 1058,
    "start_time": "2024-04-15T12:09:21.198Z"
   },
   {
    "duration": 887,
    "start_time": "2024-04-15T12:09:22.258Z"
   },
   {
    "duration": 147,
    "start_time": "2024-04-15T12:09:23.147Z"
   },
   {
    "duration": 87,
    "start_time": "2024-04-15T12:09:23.296Z"
   },
   {
    "duration": 22,
    "start_time": "2024-04-15T12:09:23.384Z"
   },
   {
    "duration": 39,
    "start_time": "2024-04-15T12:09:23.408Z"
   },
   {
    "duration": 124,
    "start_time": "2024-04-15T12:09:23.448Z"
   },
   {
    "duration": 121,
    "start_time": "2024-04-15T12:09:23.573Z"
   },
   {
    "duration": 99,
    "start_time": "2024-04-15T12:09:23.695Z"
   },
   {
    "duration": 173,
    "start_time": "2024-04-15T12:09:23.796Z"
   },
   {
    "duration": 211,
    "start_time": "2024-04-15T12:09:23.970Z"
   },
   {
    "duration": 133,
    "start_time": "2024-04-15T12:09:24.182Z"
   },
   {
    "duration": 4,
    "start_time": "2024-04-15T12:09:24.316Z"
   },
   {
    "duration": 33,
    "start_time": "2024-04-15T12:09:24.321Z"
   },
   {
    "duration": 6,
    "start_time": "2024-04-15T12:09:24.356Z"
   },
   {
    "duration": 48,
    "start_time": "2024-04-15T12:09:24.363Z"
   },
   {
    "duration": 6,
    "start_time": "2024-04-15T12:09:24.412Z"
   },
   {
    "duration": 14,
    "start_time": "2024-04-15T12:09:24.419Z"
   },
   {
    "duration": 98,
    "start_time": "2024-04-15T12:09:24.435Z"
   },
   {
    "duration": 9,
    "start_time": "2024-04-15T12:09:24.535Z"
   },
   {
    "duration": 3,
    "start_time": "2024-04-15T12:12:37.922Z"
   },
   {
    "duration": 85,
    "start_time": "2024-04-15T12:13:03.797Z"
   },
   {
    "duration": 16,
    "start_time": "2024-04-15T12:15:03.517Z"
   },
   {
    "duration": 32,
    "start_time": "2024-04-15T12:15:08.748Z"
   },
   {
    "duration": 13,
    "start_time": "2024-04-15T12:15:24.392Z"
   },
   {
    "duration": 8,
    "start_time": "2024-04-15T12:15:32.363Z"
   },
   {
    "duration": 22,
    "start_time": "2024-04-15T12:15:54.212Z"
   },
   {
    "duration": 56,
    "start_time": "2024-04-15T12:15:57.632Z"
   },
   {
    "duration": 65,
    "start_time": "2024-04-15T12:16:12.944Z"
   },
   {
    "duration": 82,
    "start_time": "2024-04-15T12:16:29.689Z"
   },
   {
    "duration": 56,
    "start_time": "2024-04-15T12:16:35.857Z"
   },
   {
    "duration": 65,
    "start_time": "2024-04-15T12:16:41.316Z"
   },
   {
    "duration": 34,
    "start_time": "2024-04-15T12:19:35.225Z"
   },
   {
    "duration": 1056,
    "start_time": "2024-04-15T12:55:25.317Z"
   },
   {
    "duration": 839,
    "start_time": "2024-04-15T12:55:26.375Z"
   },
   {
    "duration": 140,
    "start_time": "2024-04-15T12:55:27.215Z"
   },
   {
    "duration": 102,
    "start_time": "2024-04-15T12:55:27.357Z"
   },
   {
    "duration": 13,
    "start_time": "2024-04-15T12:55:27.461Z"
   },
   {
    "duration": 36,
    "start_time": "2024-04-15T12:55:27.475Z"
   },
   {
    "duration": 109,
    "start_time": "2024-04-15T12:55:27.512Z"
   },
   {
    "duration": 117,
    "start_time": "2024-04-15T12:55:27.623Z"
   },
   {
    "duration": 96,
    "start_time": "2024-04-15T12:55:27.741Z"
   },
   {
    "duration": 186,
    "start_time": "2024-04-15T12:55:27.839Z"
   },
   {
    "duration": 183,
    "start_time": "2024-04-15T12:55:28.027Z"
   },
   {
    "duration": 129,
    "start_time": "2024-04-15T12:55:28.211Z"
   },
   {
    "duration": 4,
    "start_time": "2024-04-15T12:55:28.341Z"
   },
   {
    "duration": 54,
    "start_time": "2024-04-15T12:55:28.346Z"
   },
   {
    "duration": 6,
    "start_time": "2024-04-15T12:55:28.402Z"
   },
   {
    "duration": 27,
    "start_time": "2024-04-15T12:55:28.410Z"
   },
   {
    "duration": 7,
    "start_time": "2024-04-15T12:55:28.438Z"
   },
   {
    "duration": 51,
    "start_time": "2024-04-15T12:55:28.446Z"
   },
   {
    "duration": 78,
    "start_time": "2024-04-15T12:55:28.499Z"
   },
   {
    "duration": 11,
    "start_time": "2024-04-15T12:55:28.578Z"
   },
   {
    "duration": 18,
    "start_time": "2024-04-15T12:55:28.594Z"
   },
   {
    "duration": 75,
    "start_time": "2024-04-15T12:55:28.613Z"
   },
   {
    "duration": 3,
    "start_time": "2024-04-15T12:55:28.693Z"
   },
   {
    "duration": 144,
    "start_time": "2024-04-15T13:00:19.712Z"
   },
   {
    "duration": 2,
    "start_time": "2024-04-15T13:02:42.037Z"
   },
   {
    "duration": 99,
    "start_time": "2024-04-15T13:03:43.209Z"
   },
   {
    "duration": 3,
    "start_time": "2024-04-15T13:04:02.545Z"
   },
   {
    "duration": 10,
    "start_time": "2024-04-15T13:04:06.210Z"
   },
   {
    "duration": 4,
    "start_time": "2024-04-15T13:04:49.809Z"
   },
   {
    "duration": 8,
    "start_time": "2024-04-15T13:05:06.619Z"
   },
   {
    "duration": 2,
    "start_time": "2024-04-15T13:05:13.381Z"
   },
   {
    "duration": 55,
    "start_time": "2024-04-15T13:05:26.592Z"
   },
   {
    "duration": 3,
    "start_time": "2024-04-15T13:05:26.799Z"
   },
   {
    "duration": 4,
    "start_time": "2024-04-15T13:05:26.968Z"
   },
   {
    "duration": 2,
    "start_time": "2024-04-15T13:05:27.193Z"
   },
   {
    "duration": 8,
    "start_time": "2024-04-15T13:05:36.595Z"
   },
   {
    "duration": 3,
    "start_time": "2024-04-15T13:10:59.159Z"
   },
   {
    "duration": 3,
    "start_time": "2024-04-15T13:11:09.629Z"
   },
   {
    "duration": 9,
    "start_time": "2024-04-15T13:11:20.571Z"
   },
   {
    "duration": 8,
    "start_time": "2024-04-15T13:12:07.133Z"
   },
   {
    "duration": 9,
    "start_time": "2024-04-15T13:12:19.404Z"
   },
   {
    "duration": 185,
    "start_time": "2024-04-15T13:13:02.457Z"
   },
   {
    "duration": 3,
    "start_time": "2024-04-15T13:13:09.824Z"
   },
   {
    "duration": 1618,
    "start_time": "2024-04-15T13:14:43.374Z"
   },
   {
    "duration": 1239,
    "start_time": "2024-04-15T13:17:51.381Z"
   },
   {
    "duration": 895,
    "start_time": "2024-04-15T13:17:52.622Z"
   },
   {
    "duration": 148,
    "start_time": "2024-04-15T13:17:53.519Z"
   },
   {
    "duration": 179,
    "start_time": "2024-04-15T13:17:53.670Z"
   },
   {
    "duration": 14,
    "start_time": "2024-04-15T13:17:53.851Z"
   },
   {
    "duration": 56,
    "start_time": "2024-04-15T13:17:53.866Z"
   },
   {
    "duration": 91,
    "start_time": "2024-04-15T13:17:53.924Z"
   },
   {
    "duration": 162,
    "start_time": "2024-04-15T13:17:54.017Z"
   },
   {
    "duration": 114,
    "start_time": "2024-04-15T13:17:54.180Z"
   },
   {
    "duration": 179,
    "start_time": "2024-04-15T13:17:54.296Z"
   },
   {
    "duration": 199,
    "start_time": "2024-04-15T13:17:54.476Z"
   },
   {
    "duration": 135,
    "start_time": "2024-04-15T13:17:54.677Z"
   },
   {
    "duration": 3,
    "start_time": "2024-04-15T13:17:54.814Z"
   },
   {
    "duration": 55,
    "start_time": "2024-04-15T13:17:54.819Z"
   },
   {
    "duration": 7,
    "start_time": "2024-04-15T13:17:54.875Z"
   },
   {
    "duration": 75,
    "start_time": "2024-04-15T13:17:54.883Z"
   },
   {
    "duration": 13,
    "start_time": "2024-04-15T13:17:54.959Z"
   },
   {
    "duration": 22,
    "start_time": "2024-04-15T13:17:54.974Z"
   },
   {
    "duration": 110,
    "start_time": "2024-04-15T13:17:54.998Z"
   },
   {
    "duration": 9,
    "start_time": "2024-04-15T13:17:55.110Z"
   },
   {
    "duration": 54,
    "start_time": "2024-04-15T13:17:55.120Z"
   },
   {
    "duration": 81,
    "start_time": "2024-04-15T13:17:55.176Z"
   },
   {
    "duration": 2,
    "start_time": "2024-04-15T13:17:55.259Z"
   },
   {
    "duration": 58,
    "start_time": "2024-04-15T13:17:55.262Z"
   },
   {
    "duration": 33,
    "start_time": "2024-04-15T13:17:55.321Z"
   },
   {
    "duration": 26,
    "start_time": "2024-04-15T13:17:55.356Z"
   },
   {
    "duration": 1564,
    "start_time": "2024-04-15T13:17:55.383Z"
   },
   {
    "duration": 9,
    "start_time": "2024-04-15T13:18:18.751Z"
   },
   {
    "duration": 3,
    "start_time": "2024-04-15T13:18:28.929Z"
   },
   {
    "duration": 1588,
    "start_time": "2024-04-15T13:18:29.728Z"
   },
   {
    "duration": 1485,
    "start_time": "2024-04-15T13:18:55.544Z"
   },
   {
    "duration": 1596,
    "start_time": "2024-04-15T13:19:03.048Z"
   },
   {
    "duration": 23,
    "start_time": "2024-04-15T13:24:00.810Z"
   },
   {
    "duration": 63,
    "start_time": "2024-04-15T13:24:01.383Z"
   },
   {
    "duration": 2,
    "start_time": "2024-04-15T13:24:02.115Z"
   },
   {
    "duration": 3,
    "start_time": "2024-04-15T13:24:02.606Z"
   },
   {
    "duration": 3,
    "start_time": "2024-04-15T13:24:03.378Z"
   },
   {
    "duration": 3,
    "start_time": "2024-04-15T13:24:04.065Z"
   },
   {
    "duration": 1856,
    "start_time": "2024-04-15T13:24:04.527Z"
   },
   {
    "duration": 5,
    "start_time": "2024-04-15T13:25:13.410Z"
   },
   {
    "duration": 3,
    "start_time": "2024-04-15T13:25:46.414Z"
   },
   {
    "duration": 1469,
    "start_time": "2024-04-15T13:25:46.947Z"
   },
   {
    "duration": 35,
    "start_time": "2024-04-15T13:26:43.895Z"
   },
   {
    "duration": 63,
    "start_time": "2024-04-15T13:28:19.357Z"
   },
   {
    "duration": 3,
    "start_time": "2024-04-15T13:28:20.890Z"
   },
   {
    "duration": 3,
    "start_time": "2024-04-15T13:28:21.026Z"
   },
   {
    "duration": 3,
    "start_time": "2024-04-15T13:28:21.167Z"
   },
   {
    "duration": 3,
    "start_time": "2024-04-15T13:28:21.316Z"
   },
   {
    "duration": 1473,
    "start_time": "2024-04-15T13:28:21.449Z"
   },
   {
    "duration": 3,
    "start_time": "2024-04-15T13:29:59.428Z"
   },
   {
    "duration": 1563,
    "start_time": "2024-04-15T13:30:03.104Z"
   },
   {
    "duration": 1245,
    "start_time": "2024-04-15T13:30:17.698Z"
   },
   {
    "duration": 915,
    "start_time": "2024-04-15T13:30:18.945Z"
   },
   {
    "duration": 162,
    "start_time": "2024-04-15T13:30:19.861Z"
   },
   {
    "duration": 164,
    "start_time": "2024-04-15T13:30:20.026Z"
   },
   {
    "duration": 19,
    "start_time": "2024-04-15T13:30:20.191Z"
   },
   {
    "duration": 64,
    "start_time": "2024-04-15T13:30:20.212Z"
   },
   {
    "duration": 146,
    "start_time": "2024-04-15T13:30:20.277Z"
   },
   {
    "duration": 139,
    "start_time": "2024-04-15T13:30:20.424Z"
   },
   {
    "duration": 94,
    "start_time": "2024-04-15T13:30:20.564Z"
   },
   {
    "duration": 209,
    "start_time": "2024-04-15T13:30:20.661Z"
   },
   {
    "duration": 196,
    "start_time": "2024-04-15T13:30:20.871Z"
   },
   {
    "duration": 147,
    "start_time": "2024-04-15T13:30:21.069Z"
   },
   {
    "duration": 5,
    "start_time": "2024-04-15T13:30:21.218Z"
   },
   {
    "duration": 59,
    "start_time": "2024-04-15T13:30:21.225Z"
   },
   {
    "duration": 32,
    "start_time": "2024-04-15T13:30:21.285Z"
   },
   {
    "duration": 86,
    "start_time": "2024-04-15T13:30:21.319Z"
   },
   {
    "duration": 58,
    "start_time": "2024-04-15T13:30:21.407Z"
   },
   {
    "duration": 33,
    "start_time": "2024-04-15T13:30:21.467Z"
   },
   {
    "duration": 123,
    "start_time": "2024-04-15T13:30:21.502Z"
   },
   {
    "duration": 9,
    "start_time": "2024-04-15T13:30:21.628Z"
   },
   {
    "duration": 34,
    "start_time": "2024-04-15T13:30:21.639Z"
   },
   {
    "duration": 84,
    "start_time": "2024-04-15T13:30:21.674Z"
   },
   {
    "duration": 30,
    "start_time": "2024-04-15T13:30:21.760Z"
   },
   {
    "duration": 149,
    "start_time": "2024-04-15T13:30:21.791Z"
   },
   {
    "duration": 126,
    "start_time": "2024-04-15T13:30:21.942Z"
   },
   {
    "duration": 43,
    "start_time": "2024-04-15T13:30:22.069Z"
   },
   {
    "duration": 574,
    "start_time": "2024-04-15T13:30:22.114Z"
   },
   {
    "duration": 4,
    "start_time": "2024-04-15T13:31:21.155Z"
   },
   {
    "duration": 3,
    "start_time": "2024-04-15T13:31:21.879Z"
   },
   {
    "duration": 3,
    "start_time": "2024-04-15T13:31:22.033Z"
   },
   {
    "duration": 6448,
    "start_time": "2024-04-15T13:31:22.171Z"
   },
   {
    "duration": 2,
    "start_time": "2024-04-15T14:03:26.346Z"
   },
   {
    "duration": 5,
    "start_time": "2024-04-15T14:06:20.566Z"
   },
   {
    "duration": 10,
    "start_time": "2024-04-15T14:07:22.375Z"
   },
   {
    "duration": 3,
    "start_time": "2024-04-15T14:07:44.327Z"
   },
   {
    "duration": 2,
    "start_time": "2024-04-15T14:07:47.871Z"
   },
   {
    "duration": 3,
    "start_time": "2024-04-15T14:09:22.919Z"
   },
   {
    "duration": 17,
    "start_time": "2024-04-15T14:10:13.509Z"
   },
   {
    "duration": 15,
    "start_time": "2024-04-15T14:10:24.905Z"
   },
   {
    "duration": 4,
    "start_time": "2024-04-15T14:10:46.875Z"
   },
   {
    "duration": 4,
    "start_time": "2024-04-15T14:10:47.736Z"
   },
   {
    "duration": 12,
    "start_time": "2024-04-15T14:10:48.460Z"
   },
   {
    "duration": 13,
    "start_time": "2024-04-15T14:10:56.907Z"
   },
   {
    "duration": 19,
    "start_time": "2024-04-15T14:11:52.160Z"
   },
   {
    "duration": 6,
    "start_time": "2024-04-15T14:12:29.875Z"
   },
   {
    "duration": 3,
    "start_time": "2024-04-15T14:12:30.371Z"
   },
   {
    "duration": 15,
    "start_time": "2024-04-15T14:12:30.931Z"
   },
   {
    "duration": 3,
    "start_time": "2024-04-15T14:13:43.398Z"
   },
   {
    "duration": 3,
    "start_time": "2024-04-15T14:13:54.753Z"
   },
   {
    "duration": 5,
    "start_time": "2024-04-15T14:14:05.802Z"
   },
   {
    "duration": 3,
    "start_time": "2024-04-15T14:14:05.975Z"
   },
   {
    "duration": 4,
    "start_time": "2024-04-15T14:14:06.284Z"
   },
   {
    "duration": 15,
    "start_time": "2024-04-15T14:14:27.281Z"
   },
   {
    "duration": 1150,
    "start_time": "2024-04-15T14:15:35.957Z"
   },
   {
    "duration": 867,
    "start_time": "2024-04-15T14:15:37.109Z"
   },
   {
    "duration": 151,
    "start_time": "2024-04-15T14:15:37.977Z"
   },
   {
    "duration": 149,
    "start_time": "2024-04-15T14:15:38.130Z"
   },
   {
    "duration": 23,
    "start_time": "2024-04-15T14:15:38.282Z"
   },
   {
    "duration": 39,
    "start_time": "2024-04-15T14:15:38.306Z"
   },
   {
    "duration": 105,
    "start_time": "2024-04-15T14:15:38.346Z"
   },
   {
    "duration": 115,
    "start_time": "2024-04-15T14:15:38.453Z"
   },
   {
    "duration": 89,
    "start_time": "2024-04-15T14:15:38.569Z"
   },
   {
    "duration": 172,
    "start_time": "2024-04-15T14:15:38.660Z"
   },
   {
    "duration": 210,
    "start_time": "2024-04-15T14:15:38.833Z"
   },
   {
    "duration": 136,
    "start_time": "2024-04-15T14:15:39.045Z"
   },
   {
    "duration": 4,
    "start_time": "2024-04-15T14:15:39.182Z"
   },
   {
    "duration": 77,
    "start_time": "2024-04-15T14:15:39.193Z"
   },
   {
    "duration": 10,
    "start_time": "2024-04-15T14:15:39.272Z"
   },
   {
    "duration": 60,
    "start_time": "2024-04-15T14:15:39.284Z"
   },
   {
    "duration": 21,
    "start_time": "2024-04-15T14:15:39.346Z"
   },
   {
    "duration": 39,
    "start_time": "2024-04-15T14:15:39.368Z"
   },
   {
    "duration": 124,
    "start_time": "2024-04-15T14:15:39.409Z"
   },
   {
    "duration": 10,
    "start_time": "2024-04-15T14:15:39.535Z"
   },
   {
    "duration": 28,
    "start_time": "2024-04-15T14:15:39.547Z"
   },
   {
    "duration": 84,
    "start_time": "2024-04-15T14:15:39.577Z"
   },
   {
    "duration": 3,
    "start_time": "2024-04-15T14:15:39.662Z"
   },
   {
    "duration": 67,
    "start_time": "2024-04-15T14:15:39.666Z"
   },
   {
    "duration": 110,
    "start_time": "2024-04-15T14:15:39.735Z"
   },
   {
    "duration": 33,
    "start_time": "2024-04-15T14:15:39.846Z"
   },
   {
    "duration": 6932,
    "start_time": "2024-04-15T14:15:39.880Z"
   },
   {
    "duration": 3,
    "start_time": "2024-04-15T14:15:46.813Z"
   },
   {
    "duration": 46,
    "start_time": "2024-04-15T14:15:46.818Z"
   },
   {
    "duration": 15,
    "start_time": "2024-04-15T14:15:46.866Z"
   },
   {
    "duration": 141,
    "start_time": "2024-04-15T14:15:46.882Z"
   },
   {
    "duration": 11,
    "start_time": "2024-04-15T14:17:59.566Z"
   },
   {
    "duration": 6714,
    "start_time": "2024-04-15T14:18:17.892Z"
   },
   {
    "duration": 15,
    "start_time": "2024-04-15T14:27:57.947Z"
   },
   {
    "duration": 14,
    "start_time": "2024-04-15T14:28:09.698Z"
   },
   {
    "duration": 53,
    "start_time": "2024-04-15T14:28:10.184Z"
   },
   {
    "duration": 2,
    "start_time": "2024-04-15T14:28:10.766Z"
   },
   {
    "duration": 2,
    "start_time": "2024-04-15T14:28:10.933Z"
   },
   {
    "duration": 3,
    "start_time": "2024-04-15T14:28:11.068Z"
   },
   {
    "duration": 3,
    "start_time": "2024-04-15T14:28:11.224Z"
   },
   {
    "duration": 8621,
    "start_time": "2024-04-15T14:28:11.398Z"
   },
   {
    "duration": 3,
    "start_time": "2024-04-15T14:28:20.021Z"
   },
   {
    "duration": 71,
    "start_time": "2024-04-15T14:28:20.025Z"
   },
   {
    "duration": 59,
    "start_time": "2024-04-15T14:28:20.098Z"
   },
   {
    "duration": 27,
    "start_time": "2024-04-15T14:28:20.159Z"
   },
   {
    "duration": 7,
    "start_time": "2024-04-15T14:31:58.567Z"
   },
   {
    "duration": 2,
    "start_time": "2024-04-15T14:31:59.199Z"
   },
   {
    "duration": 14,
    "start_time": "2024-04-15T14:31:59.638Z"
   },
   {
    "duration": 15,
    "start_time": "2024-04-15T14:32:40.291Z"
   },
   {
    "duration": 9,
    "start_time": "2024-04-15T14:35:01.565Z"
   },
   {
    "duration": 4,
    "start_time": "2024-04-15T14:35:32.012Z"
   },
   {
    "duration": 12,
    "start_time": "2024-04-15T14:35:35.211Z"
   },
   {
    "duration": 14,
    "start_time": "2024-04-15T14:35:59.291Z"
   },
   {
    "duration": 4,
    "start_time": "2024-04-15T14:36:48.948Z"
   },
   {
    "duration": 2,
    "start_time": "2024-04-15T14:36:49.093Z"
   },
   {
    "duration": 3158,
    "start_time": "2024-04-15T14:36:49.244Z"
   },
   {
    "duration": 15,
    "start_time": "2024-04-15T14:37:56.536Z"
   },
   {
    "duration": 57,
    "start_time": "2024-04-15T14:37:56.679Z"
   },
   {
    "duration": 3,
    "start_time": "2024-04-15T14:37:56.836Z"
   },
   {
    "duration": 3,
    "start_time": "2024-04-15T14:37:56.970Z"
   },
   {
    "duration": 3,
    "start_time": "2024-04-15T14:37:57.127Z"
   },
   {
    "duration": 3,
    "start_time": "2024-04-15T14:37:57.282Z"
   },
   {
    "duration": 33501,
    "start_time": "2024-04-15T14:37:57.416Z"
   },
   {
    "duration": 2,
    "start_time": "2024-04-15T14:38:30.919Z"
   },
   {
    "duration": 41,
    "start_time": "2024-04-15T14:38:30.923Z"
   },
   {
    "duration": 42,
    "start_time": "2024-04-15T14:38:30.966Z"
   },
   {
    "duration": 3404,
    "start_time": "2024-04-15T14:38:31.009Z"
   },
   {
    "duration": 1143,
    "start_time": "2024-04-15T14:38:44.543Z"
   },
   {
    "duration": 882,
    "start_time": "2024-04-15T14:38:45.687Z"
   },
   {
    "duration": 144,
    "start_time": "2024-04-15T14:38:46.571Z"
   },
   {
    "duration": 162,
    "start_time": "2024-04-15T14:38:46.717Z"
   },
   {
    "duration": 14,
    "start_time": "2024-04-15T14:38:46.880Z"
   },
   {
    "duration": 46,
    "start_time": "2024-04-15T14:38:46.896Z"
   },
   {
    "duration": 103,
    "start_time": "2024-04-15T14:38:46.944Z"
   },
   {
    "duration": 138,
    "start_time": "2024-04-15T14:38:47.048Z"
   },
   {
    "duration": 90,
    "start_time": "2024-04-15T14:38:47.187Z"
   },
   {
    "duration": 192,
    "start_time": "2024-04-15T14:38:47.279Z"
   },
   {
    "duration": 197,
    "start_time": "2024-04-15T14:38:47.473Z"
   },
   {
    "duration": 131,
    "start_time": "2024-04-15T14:38:47.672Z"
   },
   {
    "duration": 3,
    "start_time": "2024-04-15T14:38:47.805Z"
   },
   {
    "duration": 71,
    "start_time": "2024-04-15T14:38:47.810Z"
   },
   {
    "duration": 58,
    "start_time": "2024-04-15T14:38:47.883Z"
   },
   {
    "duration": 41,
    "start_time": "2024-04-15T14:38:47.943Z"
   },
   {
    "duration": 17,
    "start_time": "2024-04-15T14:38:47.986Z"
   },
   {
    "duration": 13,
    "start_time": "2024-04-15T14:38:48.005Z"
   },
   {
    "duration": 113,
    "start_time": "2024-04-15T14:38:48.019Z"
   },
   {
    "duration": 10,
    "start_time": "2024-04-15T14:38:48.134Z"
   },
   {
    "duration": 12,
    "start_time": "2024-04-15T14:38:48.145Z"
   },
   {
    "duration": 112,
    "start_time": "2024-04-15T14:38:48.158Z"
   },
   {
    "duration": 0,
    "start_time": "2024-04-15T14:38:48.271Z"
   },
   {
    "duration": 0,
    "start_time": "2024-04-15T14:38:48.272Z"
   },
   {
    "duration": 0,
    "start_time": "2024-04-15T14:38:48.273Z"
   },
   {
    "duration": 0,
    "start_time": "2024-04-15T14:38:48.274Z"
   },
   {
    "duration": 0,
    "start_time": "2024-04-15T14:38:48.275Z"
   },
   {
    "duration": 0,
    "start_time": "2024-04-15T14:38:48.276Z"
   },
   {
    "duration": 0,
    "start_time": "2024-04-15T14:38:48.277Z"
   },
   {
    "duration": 0,
    "start_time": "2024-04-15T14:38:48.278Z"
   },
   {
    "duration": 0,
    "start_time": "2024-04-15T14:38:48.279Z"
   },
   {
    "duration": 1270,
    "start_time": "2024-04-15T14:39:27.127Z"
   },
   {
    "duration": 886,
    "start_time": "2024-04-15T14:39:28.398Z"
   },
   {
    "duration": 150,
    "start_time": "2024-04-15T14:39:29.286Z"
   },
   {
    "duration": 171,
    "start_time": "2024-04-15T14:39:29.439Z"
   },
   {
    "duration": 12,
    "start_time": "2024-04-15T14:39:29.611Z"
   },
   {
    "duration": 44,
    "start_time": "2024-04-15T14:39:29.624Z"
   },
   {
    "duration": 105,
    "start_time": "2024-04-15T14:39:29.669Z"
   },
   {
    "duration": 131,
    "start_time": "2024-04-15T14:39:29.776Z"
   },
   {
    "duration": 92,
    "start_time": "2024-04-15T14:39:29.908Z"
   },
   {
    "duration": 178,
    "start_time": "2024-04-15T14:39:30.002Z"
   },
   {
    "duration": 205,
    "start_time": "2024-04-15T14:39:30.182Z"
   },
   {
    "duration": 131,
    "start_time": "2024-04-15T14:39:30.388Z"
   },
   {
    "duration": 4,
    "start_time": "2024-04-15T14:39:30.521Z"
   },
   {
    "duration": 154,
    "start_time": "2024-04-15T14:39:30.526Z"
   },
   {
    "duration": 119,
    "start_time": "2024-04-15T14:39:30.682Z"
   },
   {
    "duration": 95,
    "start_time": "2024-04-15T14:39:30.802Z"
   },
   {
    "duration": 71,
    "start_time": "2024-04-15T14:39:30.899Z"
   },
   {
    "duration": 266,
    "start_time": "2024-04-15T14:39:30.972Z"
   },
   {
    "duration": 179,
    "start_time": "2024-04-15T14:39:31.240Z"
   },
   {
    "duration": 14,
    "start_time": "2024-04-15T14:39:31.422Z"
   },
   {
    "duration": 72,
    "start_time": "2024-04-15T14:39:31.438Z"
   },
   {
    "duration": 76,
    "start_time": "2024-04-15T14:39:31.513Z"
   },
   {
    "duration": 103,
    "start_time": "2024-04-15T14:39:31.591Z"
   },
   {
    "duration": 55,
    "start_time": "2024-04-15T14:39:31.695Z"
   },
   {
    "duration": 90,
    "start_time": "2024-04-15T14:39:31.752Z"
   },
   {
    "duration": 68,
    "start_time": "2024-04-15T14:39:31.843Z"
   },
   {
    "duration": 160,
    "start_time": "2024-04-15T14:39:31.913Z"
   },
   {
    "duration": 8637,
    "start_time": "2024-04-15T14:39:32.076Z"
   },
   {
    "duration": 3,
    "start_time": "2024-04-15T14:39:40.715Z"
   },
   {
    "duration": 72,
    "start_time": "2024-04-15T14:39:40.719Z"
   },
   {
    "duration": 36,
    "start_time": "2024-04-15T14:39:40.792Z"
   },
   {
    "duration": 4604,
    "start_time": "2024-04-15T14:39:40.829Z"
   },
   {
    "duration": 1131,
    "start_time": "2024-04-15T14:41:13.946Z"
   },
   {
    "duration": 845,
    "start_time": "2024-04-15T14:41:15.079Z"
   },
   {
    "duration": 140,
    "start_time": "2024-04-15T14:41:15.926Z"
   },
   {
    "duration": 91,
    "start_time": "2024-04-15T14:41:16.068Z"
   },
   {
    "duration": 13,
    "start_time": "2024-04-15T14:41:16.161Z"
   },
   {
    "duration": 54,
    "start_time": "2024-04-15T14:41:16.175Z"
   },
   {
    "duration": 121,
    "start_time": "2024-04-15T14:41:16.230Z"
   },
   {
    "duration": 115,
    "start_time": "2024-04-15T14:41:16.353Z"
   },
   {
    "duration": 90,
    "start_time": "2024-04-15T14:41:16.470Z"
   },
   {
    "duration": 194,
    "start_time": "2024-04-15T14:41:16.562Z"
   },
   {
    "duration": 183,
    "start_time": "2024-04-15T14:41:16.757Z"
   },
   {
    "duration": 127,
    "start_time": "2024-04-15T14:41:16.942Z"
   },
   {
    "duration": 4,
    "start_time": "2024-04-15T14:41:17.070Z"
   },
   {
    "duration": 63,
    "start_time": "2024-04-15T14:41:17.076Z"
   },
   {
    "duration": 22,
    "start_time": "2024-04-15T14:41:17.141Z"
   },
   {
    "duration": 42,
    "start_time": "2024-04-15T14:41:17.165Z"
   },
   {
    "duration": 15,
    "start_time": "2024-04-15T14:41:17.209Z"
   },
   {
    "duration": 14,
    "start_time": "2024-04-15T14:41:17.225Z"
   },
   {
    "duration": 103,
    "start_time": "2024-04-15T14:41:17.240Z"
   },
   {
    "duration": 8,
    "start_time": "2024-04-15T14:41:17.345Z"
   },
   {
    "duration": 27,
    "start_time": "2024-04-15T14:41:17.355Z"
   },
   {
    "duration": 36,
    "start_time": "2024-04-15T14:41:17.383Z"
   },
   {
    "duration": 59,
    "start_time": "2024-04-15T14:41:17.420Z"
   },
   {
    "duration": 3,
    "start_time": "2024-04-15T14:41:17.481Z"
   },
   {
    "duration": 27,
    "start_time": "2024-04-15T14:41:17.485Z"
   },
   {
    "duration": 41,
    "start_time": "2024-04-15T14:41:17.514Z"
   },
   {
    "duration": 22,
    "start_time": "2024-04-15T14:41:17.557Z"
   },
   {
    "duration": 8233,
    "start_time": "2024-04-15T14:41:17.581Z"
   },
   {
    "duration": 3,
    "start_time": "2024-04-15T14:41:25.816Z"
   },
   {
    "duration": 37,
    "start_time": "2024-04-15T14:41:25.821Z"
   },
   {
    "duration": 11,
    "start_time": "2024-04-15T14:41:25.860Z"
   },
   {
    "duration": 4469,
    "start_time": "2024-04-15T14:41:25.872Z"
   },
   {
    "duration": 4602,
    "start_time": "2024-04-15T14:46:10.593Z"
   },
   {
    "duration": 4,
    "start_time": "2024-04-15T14:48:25.252Z"
   },
   {
    "duration": 2,
    "start_time": "2024-04-15T14:48:25.699Z"
   },
   {
    "duration": 4529,
    "start_time": "2024-04-15T14:48:26.038Z"
   },
   {
    "duration": 4,
    "start_time": "2024-04-15T14:49:24.808Z"
   },
   {
    "duration": 3,
    "start_time": "2024-04-15T14:49:25.005Z"
   },
   {
    "duration": 4418,
    "start_time": "2024-04-15T14:49:25.220Z"
   },
   {
    "duration": 1224,
    "start_time": "2024-04-15T14:50:16.682Z"
   },
   {
    "duration": 866,
    "start_time": "2024-04-15T14:50:17.908Z"
   },
   {
    "duration": 145,
    "start_time": "2024-04-15T14:50:18.775Z"
   },
   {
    "duration": 102,
    "start_time": "2024-04-15T14:50:18.923Z"
   },
   {
    "duration": 13,
    "start_time": "2024-04-15T14:50:19.027Z"
   },
   {
    "duration": 47,
    "start_time": "2024-04-15T14:50:19.042Z"
   },
   {
    "duration": 109,
    "start_time": "2024-04-15T14:50:19.091Z"
   },
   {
    "duration": 127,
    "start_time": "2024-04-15T14:50:19.202Z"
   },
   {
    "duration": 91,
    "start_time": "2024-04-15T14:50:19.331Z"
   },
   {
    "duration": 214,
    "start_time": "2024-04-15T14:50:19.425Z"
   },
   {
    "duration": 188,
    "start_time": "2024-04-15T14:50:19.640Z"
   },
   {
    "duration": 129,
    "start_time": "2024-04-15T14:50:19.829Z"
   },
   {
    "duration": 4,
    "start_time": "2024-04-15T14:50:19.959Z"
   },
   {
    "duration": 82,
    "start_time": "2024-04-15T14:50:19.964Z"
   },
   {
    "duration": 47,
    "start_time": "2024-04-15T14:50:20.048Z"
   },
   {
    "duration": 103,
    "start_time": "2024-04-15T14:50:20.096Z"
   },
   {
    "duration": 16,
    "start_time": "2024-04-15T14:50:20.201Z"
   },
   {
    "duration": 35,
    "start_time": "2024-04-15T14:50:20.219Z"
   },
   {
    "duration": 128,
    "start_time": "2024-04-15T14:50:20.255Z"
   },
   {
    "duration": 9,
    "start_time": "2024-04-15T14:50:20.385Z"
   },
   {
    "duration": 27,
    "start_time": "2024-04-15T14:50:20.395Z"
   },
   {
    "duration": 37,
    "start_time": "2024-04-15T14:50:20.424Z"
   },
   {
    "duration": 84,
    "start_time": "2024-04-15T14:50:20.462Z"
   },
   {
    "duration": 3,
    "start_time": "2024-04-15T14:50:20.547Z"
   },
   {
    "duration": 55,
    "start_time": "2024-04-15T14:50:20.551Z"
   },
   {
    "duration": 43,
    "start_time": "2024-04-15T14:50:20.607Z"
   },
   {
    "duration": 71,
    "start_time": "2024-04-15T14:50:20.652Z"
   },
   {
    "duration": 12708,
    "start_time": "2024-04-15T14:50:20.726Z"
   },
   {
    "duration": 3,
    "start_time": "2024-04-15T14:50:33.493Z"
   },
   {
    "duration": 70,
    "start_time": "2024-04-15T14:50:33.498Z"
   },
   {
    "duration": 35,
    "start_time": "2024-04-15T14:50:33.570Z"
   },
   {
    "duration": 4541,
    "start_time": "2024-04-15T14:50:33.606Z"
   },
   {
    "duration": 3,
    "start_time": "2024-04-15T14:53:37.740Z"
   },
   {
    "duration": 3,
    "start_time": "2024-04-15T14:53:38.154Z"
   },
   {
    "duration": 4447,
    "start_time": "2024-04-15T14:53:38.578Z"
   },
   {
    "duration": 3,
    "start_time": "2024-04-15T14:53:53.784Z"
   },
   {
    "duration": 13873,
    "start_time": "2024-04-15T14:53:53.946Z"
   },
   {
    "duration": 2,
    "start_time": "2024-04-15T14:54:07.820Z"
   },
   {
    "duration": 18,
    "start_time": "2024-04-15T14:54:07.824Z"
   },
   {
    "duration": 3,
    "start_time": "2024-04-15T14:54:07.894Z"
   },
   {
    "duration": 4376,
    "start_time": "2024-04-15T14:54:07.899Z"
   },
   {
    "duration": 1194,
    "start_time": "2024-04-15T14:54:25.614Z"
   },
   {
    "duration": 842,
    "start_time": "2024-04-15T14:54:26.810Z"
   },
   {
    "duration": 142,
    "start_time": "2024-04-15T14:54:27.654Z"
   },
   {
    "duration": 84,
    "start_time": "2024-04-15T14:54:27.798Z"
   },
   {
    "duration": 13,
    "start_time": "2024-04-15T14:54:27.893Z"
   },
   {
    "duration": 68,
    "start_time": "2024-04-15T14:54:27.908Z"
   },
   {
    "duration": 104,
    "start_time": "2024-04-15T14:54:27.977Z"
   },
   {
    "duration": 124,
    "start_time": "2024-04-15T14:54:28.082Z"
   },
   {
    "duration": 91,
    "start_time": "2024-04-15T14:54:28.207Z"
   },
   {
    "duration": 176,
    "start_time": "2024-04-15T14:54:28.299Z"
   },
   {
    "duration": 188,
    "start_time": "2024-04-15T14:54:28.476Z"
   },
   {
    "duration": 128,
    "start_time": "2024-04-15T14:54:28.666Z"
   },
   {
    "duration": 3,
    "start_time": "2024-04-15T14:54:28.796Z"
   },
   {
    "duration": 48,
    "start_time": "2024-04-15T14:54:28.802Z"
   },
   {
    "duration": 25,
    "start_time": "2024-04-15T14:54:28.851Z"
   },
   {
    "duration": 39,
    "start_time": "2024-04-15T14:54:28.877Z"
   },
   {
    "duration": 5,
    "start_time": "2024-04-15T14:54:28.918Z"
   },
   {
    "duration": 25,
    "start_time": "2024-04-15T14:54:28.925Z"
   },
   {
    "duration": 108,
    "start_time": "2024-04-15T14:54:28.952Z"
   },
   {
    "duration": 38,
    "start_time": "2024-04-15T14:54:29.061Z"
   },
   {
    "duration": 2,
    "start_time": "2024-04-15T14:54:29.100Z"
   },
   {
    "duration": 44,
    "start_time": "2024-04-15T14:54:29.104Z"
   },
   {
    "duration": 65,
    "start_time": "2024-04-15T14:54:29.149Z"
   },
   {
    "duration": 3,
    "start_time": "2024-04-15T14:54:29.216Z"
   },
   {
    "duration": 35,
    "start_time": "2024-04-15T14:54:29.221Z"
   },
   {
    "duration": 42,
    "start_time": "2024-04-15T14:54:29.258Z"
   },
   {
    "duration": 29,
    "start_time": "2024-04-15T14:54:29.301Z"
   },
   {
    "duration": 9183,
    "start_time": "2024-04-15T14:54:29.332Z"
   },
   {
    "duration": 3,
    "start_time": "2024-04-15T14:54:38.516Z"
   },
   {
    "duration": 8,
    "start_time": "2024-04-15T14:54:38.520Z"
   },
   {
    "duration": 23,
    "start_time": "2024-04-15T14:54:38.529Z"
   },
   {
    "duration": 4287,
    "start_time": "2024-04-15T14:54:38.553Z"
   },
   {
    "duration": 1228,
    "start_time": "2024-04-15T14:56:20.189Z"
   },
   {
    "duration": 876,
    "start_time": "2024-04-15T14:56:21.419Z"
   },
   {
    "duration": 143,
    "start_time": "2024-04-15T14:56:22.296Z"
   },
   {
    "duration": 94,
    "start_time": "2024-04-15T14:56:22.440Z"
   },
   {
    "duration": 12,
    "start_time": "2024-04-15T14:56:22.536Z"
   },
   {
    "duration": 31,
    "start_time": "2024-04-15T14:56:22.550Z"
   },
   {
    "duration": 94,
    "start_time": "2024-04-15T14:56:22.583Z"
   },
   {
    "duration": 120,
    "start_time": "2024-04-15T14:56:22.678Z"
   },
   {
    "duration": 96,
    "start_time": "2024-04-15T14:56:22.799Z"
   },
   {
    "duration": 166,
    "start_time": "2024-04-15T14:56:22.896Z"
   },
   {
    "duration": 191,
    "start_time": "2024-04-15T14:56:23.064Z"
   },
   {
    "duration": 132,
    "start_time": "2024-04-15T14:56:23.257Z"
   },
   {
    "duration": 4,
    "start_time": "2024-04-15T14:56:23.390Z"
   },
   {
    "duration": 32,
    "start_time": "2024-04-15T14:56:23.397Z"
   },
   {
    "duration": 8,
    "start_time": "2024-04-15T14:56:23.431Z"
   },
   {
    "duration": 50,
    "start_time": "2024-04-15T14:56:23.440Z"
   },
   {
    "duration": 16,
    "start_time": "2024-04-15T14:56:23.492Z"
   },
   {
    "duration": 67,
    "start_time": "2024-04-15T14:56:23.509Z"
   },
   {
    "duration": 89,
    "start_time": "2024-04-15T14:56:23.578Z"
   },
   {
    "duration": 9,
    "start_time": "2024-04-15T14:56:23.669Z"
   },
   {
    "duration": 19,
    "start_time": "2024-04-15T14:56:23.679Z"
   },
   {
    "duration": 34,
    "start_time": "2024-04-15T14:56:23.700Z"
   },
   {
    "duration": 52,
    "start_time": "2024-04-15T14:56:23.736Z"
   },
   {
    "duration": 3,
    "start_time": "2024-04-15T14:56:23.789Z"
   },
   {
    "duration": 19,
    "start_time": "2024-04-15T14:56:23.793Z"
   },
   {
    "duration": 26,
    "start_time": "2024-04-15T14:56:23.813Z"
   },
   {
    "duration": 33,
    "start_time": "2024-04-15T14:56:23.841Z"
   },
   {
    "duration": 8646,
    "start_time": "2024-04-15T14:56:23.875Z"
   },
   {
    "duration": 3,
    "start_time": "2024-04-15T14:56:32.522Z"
   },
   {
    "duration": 55,
    "start_time": "2024-04-15T14:56:32.526Z"
   },
   {
    "duration": 40,
    "start_time": "2024-04-15T14:56:32.582Z"
   },
   {
    "duration": 4477,
    "start_time": "2024-04-15T14:56:32.623Z"
   },
   {
    "duration": 3,
    "start_time": "2024-04-15T14:58:38.573Z"
   },
   {
    "duration": 2,
    "start_time": "2024-04-15T14:58:39.065Z"
   },
   {
    "duration": 1145,
    "start_time": "2024-04-15T14:59:51.933Z"
   },
   {
    "duration": 876,
    "start_time": "2024-04-15T14:59:53.080Z"
   },
   {
    "duration": 154,
    "start_time": "2024-04-15T14:59:53.958Z"
   },
   {
    "duration": 102,
    "start_time": "2024-04-15T14:59:54.114Z"
   },
   {
    "duration": 13,
    "start_time": "2024-04-15T14:59:54.218Z"
   },
   {
    "duration": 96,
    "start_time": "2024-04-15T14:59:54.232Z"
   },
   {
    "duration": 133,
    "start_time": "2024-04-15T14:59:54.330Z"
   },
   {
    "duration": 138,
    "start_time": "2024-04-15T14:59:54.465Z"
   },
   {
    "duration": 98,
    "start_time": "2024-04-15T14:59:54.605Z"
   },
   {
    "duration": 206,
    "start_time": "2024-04-15T14:59:54.704Z"
   },
   {
    "duration": 193,
    "start_time": "2024-04-15T14:59:54.911Z"
   },
   {
    "duration": 129,
    "start_time": "2024-04-15T14:59:55.105Z"
   },
   {
    "duration": 4,
    "start_time": "2024-04-15T14:59:55.235Z"
   },
   {
    "duration": 40,
    "start_time": "2024-04-15T14:59:55.242Z"
   },
   {
    "duration": 5,
    "start_time": "2024-04-15T14:59:55.284Z"
   },
   {
    "duration": 52,
    "start_time": "2024-04-15T14:59:55.291Z"
   },
   {
    "duration": 5,
    "start_time": "2024-04-15T14:59:55.345Z"
   },
   {
    "duration": 77,
    "start_time": "2024-04-15T14:59:55.351Z"
   },
   {
    "duration": 121,
    "start_time": "2024-04-15T14:59:55.430Z"
   },
   {
    "duration": 10,
    "start_time": "2024-04-15T14:59:55.552Z"
   },
   {
    "duration": 18,
    "start_time": "2024-04-15T14:59:55.563Z"
   },
   {
    "duration": 57,
    "start_time": "2024-04-15T14:59:55.583Z"
   },
   {
    "duration": 152,
    "start_time": "2024-04-15T14:59:55.642Z"
   },
   {
    "duration": 2,
    "start_time": "2024-04-15T14:59:55.796Z"
   },
   {
    "duration": 9,
    "start_time": "2024-04-15T14:59:55.800Z"
   },
   {
    "duration": 25,
    "start_time": "2024-04-15T14:59:55.810Z"
   },
   {
    "duration": 35,
    "start_time": "2024-04-15T14:59:55.836Z"
   },
   {
    "duration": 8743,
    "start_time": "2024-04-15T14:59:55.872Z"
   },
   {
    "duration": 3,
    "start_time": "2024-04-15T15:00:04.616Z"
   },
   {
    "duration": 442,
    "start_time": "2024-04-15T15:00:04.620Z"
   },
   {
    "duration": 43,
    "start_time": "2024-04-15T15:00:05.063Z"
   },
   {
    "duration": 1244,
    "start_time": "2024-04-15T15:01:22.559Z"
   },
   {
    "duration": 857,
    "start_time": "2024-04-15T15:01:23.804Z"
   },
   {
    "duration": 152,
    "start_time": "2024-04-15T15:01:24.663Z"
   },
   {
    "duration": 97,
    "start_time": "2024-04-15T15:01:24.817Z"
   },
   {
    "duration": 14,
    "start_time": "2024-04-15T15:01:24.916Z"
   },
   {
    "duration": 43,
    "start_time": "2024-04-15T15:01:24.931Z"
   },
   {
    "duration": 117,
    "start_time": "2024-04-15T15:01:24.976Z"
   },
   {
    "duration": 109,
    "start_time": "2024-04-15T15:01:25.095Z"
   },
   {
    "duration": 94,
    "start_time": "2024-04-15T15:01:25.205Z"
   },
   {
    "duration": 183,
    "start_time": "2024-04-15T15:01:25.301Z"
   },
   {
    "duration": 184,
    "start_time": "2024-04-15T15:01:25.486Z"
   },
   {
    "duration": 128,
    "start_time": "2024-04-15T15:01:25.671Z"
   },
   {
    "duration": 4,
    "start_time": "2024-04-15T15:01:25.800Z"
   },
   {
    "duration": 54,
    "start_time": "2024-04-15T15:01:25.806Z"
   },
   {
    "duration": 5,
    "start_time": "2024-04-15T15:01:25.861Z"
   },
   {
    "duration": 36,
    "start_time": "2024-04-15T15:01:25.868Z"
   },
   {
    "duration": 6,
    "start_time": "2024-04-15T15:01:25.905Z"
   },
   {
    "duration": 17,
    "start_time": "2024-04-15T15:01:25.912Z"
   },
   {
    "duration": 80,
    "start_time": "2024-04-15T15:01:25.930Z"
   },
   {
    "duration": 9,
    "start_time": "2024-04-15T15:01:26.011Z"
   },
   {
    "duration": 8,
    "start_time": "2024-04-15T15:01:26.022Z"
   },
   {
    "duration": 27,
    "start_time": "2024-04-15T15:01:26.032Z"
   },
   {
    "duration": 63,
    "start_time": "2024-04-15T15:01:26.060Z"
   },
   {
    "duration": 3,
    "start_time": "2024-04-15T15:01:26.124Z"
   },
   {
    "duration": 23,
    "start_time": "2024-04-15T15:01:26.128Z"
   },
   {
    "duration": 34,
    "start_time": "2024-04-15T15:01:26.152Z"
   },
   {
    "duration": 10,
    "start_time": "2024-04-15T15:01:26.187Z"
   },
   {
    "duration": 8135,
    "start_time": "2024-04-15T15:01:26.200Z"
   },
   {
    "duration": 3,
    "start_time": "2024-04-15T15:01:34.394Z"
   },
   {
    "duration": 62,
    "start_time": "2024-04-15T15:01:34.398Z"
   },
   {
    "duration": 43,
    "start_time": "2024-04-15T15:01:34.461Z"
   },
   {
    "duration": 4499,
    "start_time": "2024-04-15T15:01:34.506Z"
   },
   {
    "duration": 4,
    "start_time": "2024-04-15T15:02:13.545Z"
   },
   {
    "duration": 2,
    "start_time": "2024-04-15T15:02:13.749Z"
   },
   {
    "duration": 4422,
    "start_time": "2024-04-15T15:02:13.903Z"
   },
   {
    "duration": 1164,
    "start_time": "2024-04-15T15:03:39.722Z"
   },
   {
    "duration": 853,
    "start_time": "2024-04-15T15:03:40.887Z"
   },
   {
    "duration": 140,
    "start_time": "2024-04-15T15:03:41.742Z"
   },
   {
    "duration": 138,
    "start_time": "2024-04-15T15:03:41.883Z"
   },
   {
    "duration": 12,
    "start_time": "2024-04-15T15:03:42.023Z"
   },
   {
    "duration": 35,
    "start_time": "2024-04-15T15:03:42.037Z"
   },
   {
    "duration": 130,
    "start_time": "2024-04-15T15:03:42.074Z"
   },
   {
    "duration": 137,
    "start_time": "2024-04-15T15:03:42.205Z"
   },
   {
    "duration": 89,
    "start_time": "2024-04-15T15:03:42.343Z"
   },
   {
    "duration": 172,
    "start_time": "2024-04-15T15:03:42.433Z"
   },
   {
    "duration": 188,
    "start_time": "2024-04-15T15:03:42.606Z"
   },
   {
    "duration": 126,
    "start_time": "2024-04-15T15:03:42.796Z"
   },
   {
    "duration": 4,
    "start_time": "2024-04-15T15:03:42.924Z"
   },
   {
    "duration": 47,
    "start_time": "2024-04-15T15:03:42.930Z"
   },
   {
    "duration": 5,
    "start_time": "2024-04-15T15:03:42.978Z"
   },
   {
    "duration": 54,
    "start_time": "2024-04-15T15:03:42.985Z"
   },
   {
    "duration": 5,
    "start_time": "2024-04-15T15:03:43.041Z"
   },
   {
    "duration": 27,
    "start_time": "2024-04-15T15:03:43.047Z"
   },
   {
    "duration": 85,
    "start_time": "2024-04-15T15:03:43.075Z"
   },
   {
    "duration": 9,
    "start_time": "2024-04-15T15:03:43.161Z"
   },
   {
    "duration": 34,
    "start_time": "2024-04-15T15:03:43.171Z"
   },
   {
    "duration": 43,
    "start_time": "2024-04-15T15:03:43.206Z"
   },
   {
    "duration": 70,
    "start_time": "2024-04-15T15:03:43.251Z"
   },
   {
    "duration": 2,
    "start_time": "2024-04-15T15:03:43.323Z"
   },
   {
    "duration": 41,
    "start_time": "2024-04-15T15:03:43.327Z"
   },
   {
    "duration": 28,
    "start_time": "2024-04-15T15:03:43.369Z"
   },
   {
    "duration": 29,
    "start_time": "2024-04-15T15:03:43.399Z"
   },
   {
    "duration": 7279,
    "start_time": "2024-04-15T15:03:43.430Z"
   },
   {
    "duration": 3,
    "start_time": "2024-04-15T15:03:50.710Z"
   },
   {
    "duration": 15,
    "start_time": "2024-04-15T15:03:50.715Z"
   },
   {
    "duration": 13,
    "start_time": "2024-04-15T15:03:50.732Z"
   },
   {
    "duration": 2581,
    "start_time": "2024-04-15T15:03:50.746Z"
   },
   {
    "duration": 3,
    "start_time": "2024-04-15T15:07:41.659Z"
   },
   {
    "duration": 3,
    "start_time": "2024-04-15T15:07:41.802Z"
   },
   {
    "duration": 3,
    "start_time": "2024-04-15T15:07:41.946Z"
   },
   {
    "duration": 3,
    "start_time": "2024-04-15T15:07:42.098Z"
   },
   {
    "duration": 1014,
    "start_time": "2024-04-15T15:07:42.250Z"
   },
   {
    "duration": 0,
    "start_time": "2024-04-15T15:07:43.265Z"
   },
   {
    "duration": 0,
    "start_time": "2024-04-15T15:07:43.266Z"
   },
   {
    "duration": 0,
    "start_time": "2024-04-15T15:07:43.267Z"
   },
   {
    "duration": 29,
    "start_time": "2024-04-15T15:07:43.359Z"
   },
   {
    "duration": 1140,
    "start_time": "2024-04-15T15:08:15.944Z"
   },
   {
    "duration": 876,
    "start_time": "2024-04-15T15:08:17.086Z"
   },
   {
    "duration": 136,
    "start_time": "2024-04-15T15:08:17.963Z"
   },
   {
    "duration": 95,
    "start_time": "2024-04-15T15:08:18.101Z"
   },
   {
    "duration": 12,
    "start_time": "2024-04-15T15:08:18.197Z"
   },
   {
    "duration": 23,
    "start_time": "2024-04-15T15:08:18.211Z"
   },
   {
    "duration": 103,
    "start_time": "2024-04-15T15:08:18.235Z"
   },
   {
    "duration": 120,
    "start_time": "2024-04-15T15:08:18.340Z"
   },
   {
    "duration": 89,
    "start_time": "2024-04-15T15:08:18.461Z"
   },
   {
    "duration": 184,
    "start_time": "2024-04-15T15:08:18.552Z"
   },
   {
    "duration": 184,
    "start_time": "2024-04-15T15:08:18.738Z"
   },
   {
    "duration": 146,
    "start_time": "2024-04-15T15:08:18.924Z"
   },
   {
    "duration": 4,
    "start_time": "2024-04-15T15:08:19.072Z"
   },
   {
    "duration": 51,
    "start_time": "2024-04-15T15:08:19.077Z"
   },
   {
    "duration": 6,
    "start_time": "2024-04-15T15:08:19.129Z"
   },
   {
    "duration": 49,
    "start_time": "2024-04-15T15:08:19.136Z"
   },
   {
    "duration": 5,
    "start_time": "2024-04-15T15:08:19.187Z"
   },
   {
    "duration": 24,
    "start_time": "2024-04-15T15:08:19.193Z"
   },
   {
    "duration": 82,
    "start_time": "2024-04-15T15:08:19.219Z"
   },
   {
    "duration": 9,
    "start_time": "2024-04-15T15:08:19.302Z"
   },
   {
    "duration": 16,
    "start_time": "2024-04-15T15:08:19.313Z"
   },
   {
    "duration": 62,
    "start_time": "2024-04-15T15:08:19.330Z"
   },
   {
    "duration": 76,
    "start_time": "2024-04-15T15:08:19.393Z"
   },
   {
    "duration": 3,
    "start_time": "2024-04-15T15:08:19.470Z"
   },
   {
    "duration": 74,
    "start_time": "2024-04-15T15:08:19.474Z"
   },
   {
    "duration": 29,
    "start_time": "2024-04-15T15:08:19.550Z"
   },
   {
    "duration": 46,
    "start_time": "2024-04-15T15:08:19.580Z"
   },
   {
    "duration": 37486,
    "start_time": "2024-04-15T15:08:19.628Z"
   },
   {
    "duration": 80,
    "start_time": "2024-04-15T15:08:57.115Z"
   },
   {
    "duration": 19,
    "start_time": "2024-04-15T15:08:57.196Z"
   },
   {
    "duration": 48,
    "start_time": "2024-04-15T15:08:57.217Z"
   },
   {
    "duration": 130,
    "start_time": "2024-04-15T15:08:57.266Z"
   },
   {
    "duration": 1185,
    "start_time": "2024-04-15T15:09:23.694Z"
   },
   {
    "duration": 886,
    "start_time": "2024-04-15T15:09:24.881Z"
   },
   {
    "duration": 146,
    "start_time": "2024-04-15T15:09:25.768Z"
   },
   {
    "duration": 98,
    "start_time": "2024-04-15T15:09:25.916Z"
   },
   {
    "duration": 12,
    "start_time": "2024-04-15T15:09:26.016Z"
   },
   {
    "duration": 57,
    "start_time": "2024-04-15T15:09:26.030Z"
   },
   {
    "duration": 125,
    "start_time": "2024-04-15T15:09:26.089Z"
   },
   {
    "duration": 163,
    "start_time": "2024-04-15T15:09:26.215Z"
   },
   {
    "duration": 90,
    "start_time": "2024-04-15T15:09:26.379Z"
   },
   {
    "duration": 170,
    "start_time": "2024-04-15T15:09:26.471Z"
   },
   {
    "duration": 188,
    "start_time": "2024-04-15T15:09:26.643Z"
   },
   {
    "duration": 150,
    "start_time": "2024-04-15T15:09:26.832Z"
   },
   {
    "duration": 5,
    "start_time": "2024-04-15T15:09:26.983Z"
   },
   {
    "duration": 45,
    "start_time": "2024-04-15T15:09:26.994Z"
   },
   {
    "duration": 32,
    "start_time": "2024-04-15T15:09:27.041Z"
   },
   {
    "duration": 77,
    "start_time": "2024-04-15T15:09:27.075Z"
   },
   {
    "duration": 6,
    "start_time": "2024-04-15T15:09:27.154Z"
   },
   {
    "duration": 44,
    "start_time": "2024-04-15T15:09:27.161Z"
   },
   {
    "duration": 111,
    "start_time": "2024-04-15T15:09:27.207Z"
   },
   {
    "duration": 9,
    "start_time": "2024-04-15T15:09:27.319Z"
   },
   {
    "duration": 2,
    "start_time": "2024-04-15T15:09:27.330Z"
   },
   {
    "duration": 24,
    "start_time": "2024-04-15T15:09:27.333Z"
   },
   {
    "duration": 65,
    "start_time": "2024-04-15T15:09:27.358Z"
   },
   {
    "duration": 3,
    "start_time": "2024-04-15T15:09:27.425Z"
   },
   {
    "duration": 33,
    "start_time": "2024-04-15T15:09:27.430Z"
   },
   {
    "duration": 31,
    "start_time": "2024-04-15T15:09:27.466Z"
   },
   {
    "duration": 30,
    "start_time": "2024-04-15T15:09:27.498Z"
   },
   {
    "duration": 8486,
    "start_time": "2024-04-15T15:09:27.531Z"
   },
   {
    "duration": 2,
    "start_time": "2024-04-15T15:09:36.018Z"
   },
   {
    "duration": 16,
    "start_time": "2024-04-15T15:09:36.022Z"
   },
   {
    "duration": 22,
    "start_time": "2024-04-15T15:09:36.040Z"
   },
   {
    "duration": 4465,
    "start_time": "2024-04-15T15:09:36.064Z"
   },
   {
    "duration": 1180,
    "start_time": "2024-04-15T15:32:35.826Z"
   },
   {
    "duration": 874,
    "start_time": "2024-04-15T15:32:37.008Z"
   },
   {
    "duration": 141,
    "start_time": "2024-04-15T15:32:37.883Z"
   },
   {
    "duration": 99,
    "start_time": "2024-04-15T15:32:38.026Z"
   },
   {
    "duration": 12,
    "start_time": "2024-04-15T15:32:38.126Z"
   },
   {
    "duration": 26,
    "start_time": "2024-04-15T15:32:38.140Z"
   },
   {
    "duration": 99,
    "start_time": "2024-04-15T15:32:38.168Z"
   },
   {
    "duration": 124,
    "start_time": "2024-04-15T15:32:38.269Z"
   },
   {
    "duration": 100,
    "start_time": "2024-04-15T15:32:38.394Z"
   },
   {
    "duration": 192,
    "start_time": "2024-04-15T15:32:38.498Z"
   },
   {
    "duration": 192,
    "start_time": "2024-04-15T15:32:38.691Z"
   },
   {
    "duration": 143,
    "start_time": "2024-04-15T15:32:38.884Z"
   },
   {
    "duration": 4,
    "start_time": "2024-04-15T15:32:39.029Z"
   },
   {
    "duration": 84,
    "start_time": "2024-04-15T15:32:39.035Z"
   },
   {
    "duration": 17,
    "start_time": "2024-04-15T15:32:39.121Z"
   },
   {
    "duration": 45,
    "start_time": "2024-04-15T15:32:39.140Z"
   },
   {
    "duration": 7,
    "start_time": "2024-04-15T15:32:39.186Z"
   },
   {
    "duration": 32,
    "start_time": "2024-04-15T15:32:39.194Z"
   },
   {
    "duration": 127,
    "start_time": "2024-04-15T15:32:39.227Z"
   },
   {
    "duration": 9,
    "start_time": "2024-04-15T15:32:39.356Z"
   },
   {
    "duration": 25,
    "start_time": "2024-04-15T15:32:39.367Z"
   },
   {
    "duration": 26,
    "start_time": "2024-04-15T15:32:39.393Z"
   },
   {
    "duration": 65,
    "start_time": "2024-04-15T15:32:39.421Z"
   },
   {
    "duration": 3,
    "start_time": "2024-04-15T15:32:39.488Z"
   },
   {
    "duration": 38,
    "start_time": "2024-04-15T15:32:39.492Z"
   },
   {
    "duration": 17,
    "start_time": "2024-04-15T15:32:39.531Z"
   },
   {
    "duration": 33,
    "start_time": "2024-04-15T15:32:39.549Z"
   },
   {
    "duration": 9323,
    "start_time": "2024-04-15T15:32:39.586Z"
   },
   {
    "duration": 2,
    "start_time": "2024-04-15T15:32:48.910Z"
   },
   {
    "duration": 43,
    "start_time": "2024-04-15T15:32:48.914Z"
   },
   {
    "duration": 53,
    "start_time": "2024-04-15T15:32:48.959Z"
   },
   {
    "duration": 4368,
    "start_time": "2024-04-15T15:32:49.013Z"
   },
   {
    "duration": 49,
    "start_time": "2024-04-15T19:57:36.006Z"
   },
   {
    "duration": 1236,
    "start_time": "2024-04-15T19:57:45.591Z"
   },
   {
    "duration": 1159,
    "start_time": "2024-04-15T19:57:46.829Z"
   },
   {
    "duration": 140,
    "start_time": "2024-04-15T19:57:47.989Z"
   },
   {
    "duration": 98,
    "start_time": "2024-04-15T19:57:48.131Z"
   },
   {
    "duration": 12,
    "start_time": "2024-04-15T19:57:48.231Z"
   },
   {
    "duration": 37,
    "start_time": "2024-04-15T19:57:48.244Z"
   },
   {
    "duration": 98,
    "start_time": "2024-04-15T19:57:48.282Z"
   },
   {
    "duration": 117,
    "start_time": "2024-04-15T19:57:48.382Z"
   },
   {
    "duration": 103,
    "start_time": "2024-04-15T19:57:48.501Z"
   },
   {
    "duration": 195,
    "start_time": "2024-04-15T19:57:48.606Z"
   },
   {
    "duration": 192,
    "start_time": "2024-04-15T19:57:48.802Z"
   },
   {
    "duration": 130,
    "start_time": "2024-04-15T19:57:48.996Z"
   },
   {
    "duration": 4,
    "start_time": "2024-04-15T19:57:49.127Z"
   },
   {
    "duration": 23,
    "start_time": "2024-04-15T19:57:49.132Z"
   },
   {
    "duration": 25,
    "start_time": "2024-04-15T19:57:49.157Z"
   },
   {
    "duration": 27,
    "start_time": "2024-04-15T19:57:49.184Z"
   },
   {
    "duration": 5,
    "start_time": "2024-04-15T19:57:49.213Z"
   },
   {
    "duration": 7,
    "start_time": "2024-04-15T19:57:49.219Z"
   },
   {
    "duration": 116,
    "start_time": "2024-04-15T19:57:49.228Z"
   },
   {
    "duration": 10,
    "start_time": "2024-04-15T19:57:49.345Z"
   },
   {
    "duration": 3,
    "start_time": "2024-04-15T19:57:49.356Z"
   },
   {
    "duration": 26,
    "start_time": "2024-04-15T19:57:49.360Z"
   },
   {
    "duration": 58,
    "start_time": "2024-04-15T19:57:49.388Z"
   },
   {
    "duration": 3,
    "start_time": "2024-04-15T19:57:49.447Z"
   },
   {
    "duration": 5,
    "start_time": "2024-04-15T19:57:49.451Z"
   },
   {
    "duration": 22,
    "start_time": "2024-04-15T19:57:49.458Z"
   },
   {
    "duration": 4,
    "start_time": "2024-04-15T19:57:49.481Z"
   },
   {
    "duration": 11500,
    "start_time": "2024-04-15T19:57:49.488Z"
   },
   {
    "duration": 3,
    "start_time": "2024-04-15T19:58:00.989Z"
   },
   {
    "duration": 59,
    "start_time": "2024-04-15T19:58:00.993Z"
   },
   {
    "duration": 44,
    "start_time": "2024-04-15T19:58:01.054Z"
   },
   {
    "duration": 4891,
    "start_time": "2024-04-15T19:58:01.100Z"
   },
   {
    "duration": 1192,
    "start_time": "2024-04-16T11:48:42.651Z"
   },
   {
    "duration": 1180,
    "start_time": "2024-04-16T11:48:43.845Z"
   },
   {
    "duration": 153,
    "start_time": "2024-04-16T11:48:45.027Z"
   },
   {
    "duration": 226,
    "start_time": "2024-04-16T11:48:45.182Z"
   },
   {
    "duration": 14,
    "start_time": "2024-04-16T11:48:45.409Z"
   },
   {
    "duration": 51,
    "start_time": "2024-04-16T11:48:45.424Z"
   },
   {
    "duration": 105,
    "start_time": "2024-04-16T11:48:45.476Z"
   },
   {
    "duration": 142,
    "start_time": "2024-04-16T11:48:45.582Z"
   },
   {
    "duration": 95,
    "start_time": "2024-04-16T11:48:45.726Z"
   },
   {
    "duration": 199,
    "start_time": "2024-04-16T11:48:45.825Z"
   },
   {
    "duration": 227,
    "start_time": "2024-04-16T11:48:46.027Z"
   },
   {
    "duration": 149,
    "start_time": "2024-04-16T11:48:46.256Z"
   },
   {
    "duration": 4,
    "start_time": "2024-04-16T11:48:46.407Z"
   },
   {
    "duration": 33,
    "start_time": "2024-04-16T11:48:46.414Z"
   },
   {
    "duration": 8,
    "start_time": "2024-04-16T11:48:46.449Z"
   },
   {
    "duration": 46,
    "start_time": "2024-04-16T11:48:46.459Z"
   },
   {
    "duration": 7,
    "start_time": "2024-04-16T11:48:46.507Z"
   },
   {
    "duration": 22,
    "start_time": "2024-04-16T11:48:46.516Z"
   },
   {
    "duration": 89,
    "start_time": "2024-04-16T11:48:46.540Z"
   },
   {
    "duration": 10,
    "start_time": "2024-04-16T11:48:46.631Z"
   },
   {
    "duration": 10,
    "start_time": "2024-04-16T11:48:46.643Z"
   },
   {
    "duration": 26,
    "start_time": "2024-04-16T11:48:46.655Z"
   },
   {
    "duration": 61,
    "start_time": "2024-04-16T11:48:46.682Z"
   },
   {
    "duration": 3,
    "start_time": "2024-04-16T11:48:46.745Z"
   },
   {
    "duration": 10,
    "start_time": "2024-04-16T11:48:46.749Z"
   },
   {
    "duration": 19,
    "start_time": "2024-04-16T11:48:46.761Z"
   },
   {
    "duration": 7,
    "start_time": "2024-04-16T11:48:46.782Z"
   },
   {
    "duration": 10122,
    "start_time": "2024-04-16T11:48:46.792Z"
   },
   {
    "duration": 3,
    "start_time": "2024-04-16T11:48:56.916Z"
   },
   {
    "duration": 17,
    "start_time": "2024-04-16T11:48:56.920Z"
   },
   {
    "duration": 28,
    "start_time": "2024-04-16T11:48:56.939Z"
   },
   {
    "duration": 4907,
    "start_time": "2024-04-16T11:48:56.968Z"
   },
   {
    "duration": 5893,
    "start_time": "2024-04-16T11:52:30.199Z"
   },
   {
    "duration": 2,
    "start_time": "2024-04-16T11:54:16.935Z"
   },
   {
    "duration": 14,
    "start_time": "2024-04-16T11:54:17.119Z"
   },
   {
    "duration": 51,
    "start_time": "2024-04-16T11:54:17.311Z"
   },
   {
    "duration": 4,
    "start_time": "2024-04-16T11:54:17.572Z"
   },
   {
    "duration": 3,
    "start_time": "2024-04-16T11:54:17.728Z"
   },
   {
    "duration": 3,
    "start_time": "2024-04-16T11:54:17.898Z"
   },
   {
    "duration": 3,
    "start_time": "2024-04-16T11:54:18.068Z"
   },
   {
    "duration": 39872,
    "start_time": "2024-04-16T11:54:18.225Z"
   },
   {
    "duration": 3,
    "start_time": "2024-04-16T11:54:58.099Z"
   },
   {
    "duration": 21,
    "start_time": "2024-04-16T11:54:58.104Z"
   },
   {
    "duration": 10,
    "start_time": "2024-04-16T11:54:58.127Z"
   },
   {
    "duration": 57,
    "start_time": "2024-04-16T11:54:58.138Z"
   },
   {
    "duration": 1309,
    "start_time": "2024-04-16T11:56:01.950Z"
   },
   {
    "duration": 933,
    "start_time": "2024-04-16T11:56:03.261Z"
   },
   {
    "duration": 170,
    "start_time": "2024-04-16T11:56:04.195Z"
   },
   {
    "duration": 108,
    "start_time": "2024-04-16T11:56:04.367Z"
   },
   {
    "duration": 19,
    "start_time": "2024-04-16T11:56:04.478Z"
   },
   {
    "duration": 48,
    "start_time": "2024-04-16T11:56:04.499Z"
   },
   {
    "duration": 96,
    "start_time": "2024-04-16T11:56:04.548Z"
   },
   {
    "duration": 129,
    "start_time": "2024-04-16T11:56:04.645Z"
   },
   {
    "duration": 102,
    "start_time": "2024-04-16T11:56:04.775Z"
   },
   {
    "duration": 192,
    "start_time": "2024-04-16T11:56:04.878Z"
   },
   {
    "duration": 198,
    "start_time": "2024-04-16T11:56:05.071Z"
   },
   {
    "duration": 161,
    "start_time": "2024-04-16T11:56:05.270Z"
   },
   {
    "duration": 4,
    "start_time": "2024-04-16T11:56:05.433Z"
   },
   {
    "duration": 66,
    "start_time": "2024-04-16T11:56:05.441Z"
   },
   {
    "duration": 10,
    "start_time": "2024-04-16T11:56:05.509Z"
   },
   {
    "duration": 44,
    "start_time": "2024-04-16T11:56:05.521Z"
   },
   {
    "duration": 5,
    "start_time": "2024-04-16T11:56:05.567Z"
   },
   {
    "duration": 18,
    "start_time": "2024-04-16T11:56:05.574Z"
   },
   {
    "duration": 102,
    "start_time": "2024-04-16T11:56:05.594Z"
   },
   {
    "duration": 9,
    "start_time": "2024-04-16T11:56:05.698Z"
   },
   {
    "duration": 21,
    "start_time": "2024-04-16T11:56:05.709Z"
   },
   {
    "duration": 60,
    "start_time": "2024-04-16T11:56:05.731Z"
   },
   {
    "duration": 68,
    "start_time": "2024-04-16T11:56:05.792Z"
   },
   {
    "duration": 24,
    "start_time": "2024-04-16T11:56:05.861Z"
   },
   {
    "duration": 70,
    "start_time": "2024-04-16T11:56:05.886Z"
   },
   {
    "duration": 17,
    "start_time": "2024-04-16T11:56:05.958Z"
   },
   {
    "duration": 14,
    "start_time": "2024-04-16T11:56:05.976Z"
   },
   {
    "duration": 39314,
    "start_time": "2024-04-16T11:56:05.992Z"
   },
   {
    "duration": 3,
    "start_time": "2024-04-16T11:56:45.308Z"
   },
   {
    "duration": 150,
    "start_time": "2024-04-16T11:56:45.313Z"
   },
   {
    "duration": 51,
    "start_time": "2024-04-16T11:56:45.465Z"
   },
   {
    "duration": 184,
    "start_time": "2024-04-16T11:56:45.518Z"
   },
   {
    "duration": 4,
    "start_time": "2024-04-16T11:58:52.238Z"
   },
   {
    "duration": 3,
    "start_time": "2024-04-16T11:58:52.843Z"
   },
   {
    "duration": 31,
    "start_time": "2024-04-16T11:58:53.053Z"
   },
   {
    "duration": 34,
    "start_time": "2024-04-16T11:59:04.464Z"
   },
   {
    "duration": 1268,
    "start_time": "2024-04-16T11:59:08.801Z"
   },
   {
    "duration": 972,
    "start_time": "2024-04-16T11:59:10.072Z"
   },
   {
    "duration": 163,
    "start_time": "2024-04-16T11:59:11.045Z"
   },
   {
    "duration": 115,
    "start_time": "2024-04-16T11:59:11.211Z"
   },
   {
    "duration": 14,
    "start_time": "2024-04-16T11:59:11.328Z"
   },
   {
    "duration": 47,
    "start_time": "2024-04-16T11:59:11.344Z"
   },
   {
    "duration": 108,
    "start_time": "2024-04-16T11:59:11.393Z"
   },
   {
    "duration": 140,
    "start_time": "2024-04-16T11:59:11.502Z"
   },
   {
    "duration": 125,
    "start_time": "2024-04-16T11:59:11.644Z"
   },
   {
    "duration": 220,
    "start_time": "2024-04-16T11:59:11.771Z"
   },
   {
    "duration": 203,
    "start_time": "2024-04-16T11:59:11.993Z"
   },
   {
    "duration": 145,
    "start_time": "2024-04-16T11:59:12.198Z"
   },
   {
    "duration": 4,
    "start_time": "2024-04-16T11:59:12.345Z"
   },
   {
    "duration": 47,
    "start_time": "2024-04-16T11:59:12.350Z"
   },
   {
    "duration": 6,
    "start_time": "2024-04-16T11:59:12.399Z"
   },
   {
    "duration": 30,
    "start_time": "2024-04-16T11:59:12.406Z"
   },
   {
    "duration": 5,
    "start_time": "2024-04-16T11:59:12.438Z"
   },
   {
    "duration": 10,
    "start_time": "2024-04-16T11:59:12.445Z"
   },
   {
    "duration": 114,
    "start_time": "2024-04-16T11:59:12.457Z"
   },
   {
    "duration": 10,
    "start_time": "2024-04-16T11:59:12.573Z"
   },
   {
    "duration": 24,
    "start_time": "2024-04-16T11:59:12.584Z"
   },
   {
    "duration": 27,
    "start_time": "2024-04-16T11:59:12.609Z"
   },
   {
    "duration": 58,
    "start_time": "2024-04-16T11:59:12.638Z"
   },
   {
    "duration": 3,
    "start_time": "2024-04-16T11:59:12.698Z"
   },
   {
    "duration": 24,
    "start_time": "2024-04-16T11:59:12.702Z"
   },
   {
    "duration": 9,
    "start_time": "2024-04-16T11:59:12.728Z"
   },
   {
    "duration": 8,
    "start_time": "2024-04-16T11:59:12.739Z"
   },
   {
    "duration": 41257,
    "start_time": "2024-04-16T11:59:12.750Z"
   },
   {
    "duration": 4,
    "start_time": "2024-04-16T11:59:54.009Z"
   },
   {
    "duration": 21,
    "start_time": "2024-04-16T11:59:54.015Z"
   },
   {
    "duration": 17,
    "start_time": "2024-04-16T11:59:54.038Z"
   },
   {
    "duration": 165,
    "start_time": "2024-04-16T11:59:54.056Z"
   },
   {
    "duration": 209,
    "start_time": "2024-04-16T12:32:45.596Z"
   },
   {
    "duration": 14,
    "start_time": "2024-04-16T12:47:35.174Z"
   },
   {
    "duration": 45,
    "start_time": "2024-04-16T12:47:49.802Z"
   },
   {
    "duration": 4,
    "start_time": "2024-04-16T12:50:56.691Z"
   },
   {
    "duration": 3,
    "start_time": "2024-04-16T12:50:57.353Z"
   },
   {
    "duration": 38,
    "start_time": "2024-04-16T12:50:57.637Z"
   },
   {
    "duration": 4,
    "start_time": "2024-04-16T12:51:09.876Z"
   },
   {
    "duration": 3,
    "start_time": "2024-04-16T12:51:10.039Z"
   },
   {
    "duration": 39,
    "start_time": "2024-04-16T12:51:10.178Z"
   },
   {
    "duration": 1288,
    "start_time": "2024-04-16T12:52:19.494Z"
   },
   {
    "duration": 998,
    "start_time": "2024-04-16T12:52:20.784Z"
   },
   {
    "duration": 159,
    "start_time": "2024-04-16T12:52:21.784Z"
   },
   {
    "duration": 110,
    "start_time": "2024-04-16T12:52:21.945Z"
   },
   {
    "duration": 15,
    "start_time": "2024-04-16T12:52:22.057Z"
   },
   {
    "duration": 38,
    "start_time": "2024-04-16T12:52:22.074Z"
   },
   {
    "duration": 105,
    "start_time": "2024-04-16T12:52:22.114Z"
   },
   {
    "duration": 140,
    "start_time": "2024-04-16T12:52:22.221Z"
   },
   {
    "duration": 113,
    "start_time": "2024-04-16T12:52:22.363Z"
   },
   {
    "duration": 190,
    "start_time": "2024-04-16T12:52:22.478Z"
   },
   {
    "duration": 229,
    "start_time": "2024-04-16T12:52:22.670Z"
   },
   {
    "duration": 177,
    "start_time": "2024-04-16T12:52:22.901Z"
   },
   {
    "duration": 13,
    "start_time": "2024-04-16T12:52:23.080Z"
   },
   {
    "duration": 32,
    "start_time": "2024-04-16T12:52:23.096Z"
   },
   {
    "duration": 23,
    "start_time": "2024-04-16T12:52:23.129Z"
   },
   {
    "duration": 46,
    "start_time": "2024-04-16T12:52:23.154Z"
   },
   {
    "duration": 6,
    "start_time": "2024-04-16T12:52:23.201Z"
   },
   {
    "duration": 26,
    "start_time": "2024-04-16T12:52:23.208Z"
   },
   {
    "duration": 115,
    "start_time": "2024-04-16T12:52:23.236Z"
   },
   {
    "duration": 10,
    "start_time": "2024-04-16T12:52:23.353Z"
   },
   {
    "duration": 11,
    "start_time": "2024-04-16T12:52:23.365Z"
   },
   {
    "duration": 44,
    "start_time": "2024-04-16T12:52:23.378Z"
   },
   {
    "duration": 62,
    "start_time": "2024-04-16T12:52:23.423Z"
   },
   {
    "duration": 3,
    "start_time": "2024-04-16T12:52:23.486Z"
   },
   {
    "duration": 14,
    "start_time": "2024-04-16T12:52:23.491Z"
   },
   {
    "duration": 21,
    "start_time": "2024-04-16T12:52:23.506Z"
   },
   {
    "duration": 19,
    "start_time": "2024-04-16T12:52:23.529Z"
   },
   {
    "duration": 10242,
    "start_time": "2024-04-16T12:52:23.550Z"
   },
   {
    "duration": 2,
    "start_time": "2024-04-16T12:52:33.794Z"
   },
   {
    "duration": 9,
    "start_time": "2024-04-16T12:52:33.798Z"
   },
   {
    "duration": 27,
    "start_time": "2024-04-16T12:52:33.809Z"
   },
   {
    "duration": 5990,
    "start_time": "2024-04-16T12:52:33.838Z"
   },
   {
    "duration": 4,
    "start_time": "2024-04-16T12:53:19.337Z"
   },
   {
    "duration": 3,
    "start_time": "2024-04-16T12:53:19.830Z"
   },
   {
    "duration": 4872,
    "start_time": "2024-04-16T12:53:19.941Z"
   },
   {
    "duration": 3,
    "start_time": "2024-04-16T12:55:38.827Z"
   },
   {
    "duration": 3,
    "start_time": "2024-04-16T12:55:39.021Z"
   },
   {
    "duration": 4835,
    "start_time": "2024-04-16T12:55:39.212Z"
   },
   {
    "duration": 45,
    "start_time": "2024-04-16T14:20:52.719Z"
   },
   {
    "duration": 1133,
    "start_time": "2024-04-16T14:20:57.707Z"
   },
   {
    "duration": 2860,
    "start_time": "2024-04-16T14:20:58.842Z"
   },
   {
    "duration": 155,
    "start_time": "2024-04-16T14:21:01.703Z"
   },
   {
    "duration": 95,
    "start_time": "2024-04-16T14:21:01.859Z"
   },
   {
    "duration": 18,
    "start_time": "2024-04-16T14:21:01.956Z"
   },
   {
    "duration": 42,
    "start_time": "2024-04-16T14:21:01.975Z"
   },
   {
    "duration": 121,
    "start_time": "2024-04-16T14:21:02.019Z"
   },
   {
    "duration": 120,
    "start_time": "2024-04-16T14:21:02.142Z"
   },
   {
    "duration": 92,
    "start_time": "2024-04-16T14:21:02.265Z"
   },
   {
    "duration": 216,
    "start_time": "2024-04-16T14:21:02.366Z"
   },
   {
    "duration": 187,
    "start_time": "2024-04-16T14:21:02.584Z"
   },
   {
    "duration": 126,
    "start_time": "2024-04-16T14:21:02.773Z"
   },
   {
    "duration": 3,
    "start_time": "2024-04-16T14:21:02.901Z"
   },
   {
    "duration": 37,
    "start_time": "2024-04-16T14:21:02.906Z"
   },
   {
    "duration": 5,
    "start_time": "2024-04-16T14:21:02.945Z"
   },
   {
    "duration": 45,
    "start_time": "2024-04-16T14:21:02.951Z"
   },
   {
    "duration": 7,
    "start_time": "2024-04-16T14:21:02.998Z"
   },
   {
    "duration": 20,
    "start_time": "2024-04-16T14:21:03.007Z"
   },
   {
    "duration": 17,
    "start_time": "2024-04-16T14:21:03.028Z"
   },
   {
    "duration": 60,
    "start_time": "2024-04-16T14:21:03.046Z"
   },
   {
    "duration": 9,
    "start_time": "2024-04-16T14:21:03.107Z"
   },
   {
    "duration": 2,
    "start_time": "2024-04-16T14:21:03.117Z"
   },
   {
    "duration": 41,
    "start_time": "2024-04-16T14:21:03.120Z"
   },
   {
    "duration": 57,
    "start_time": "2024-04-16T14:21:03.162Z"
   },
   {
    "duration": 3,
    "start_time": "2024-04-16T14:21:03.220Z"
   },
   {
    "duration": 18,
    "start_time": "2024-04-16T14:21:03.225Z"
   },
   {
    "duration": 24,
    "start_time": "2024-04-16T14:21:03.244Z"
   },
   {
    "duration": 21,
    "start_time": "2024-04-16T14:21:03.271Z"
   },
   {
    "duration": 10994,
    "start_time": "2024-04-16T14:21:03.294Z"
   },
   {
    "duration": 2,
    "start_time": "2024-04-16T14:21:14.290Z"
   },
   {
    "duration": 32,
    "start_time": "2024-04-16T14:21:14.294Z"
   },
   {
    "duration": 8,
    "start_time": "2024-04-16T14:21:14.328Z"
   },
   {
    "duration": 3591,
    "start_time": "2024-04-16T14:21:14.337Z"
   },
   {
    "duration": 3,
    "start_time": "2024-04-16T14:22:26.843Z"
   },
   {
    "duration": 2,
    "start_time": "2024-04-16T14:22:46.002Z"
   },
   {
    "duration": 3,
    "start_time": "2024-04-16T14:22:46.204Z"
   },
   {
    "duration": 382,
    "start_time": "2024-04-16T14:22:46.377Z"
   },
   {
    "duration": 10367,
    "start_time": "2024-04-16T14:23:57.456Z"
   },
   {
    "duration": 1076,
    "start_time": "2024-04-16T14:24:12.138Z"
   },
   {
    "duration": 2836,
    "start_time": "2024-04-16T14:24:13.216Z"
   },
   {
    "duration": 848,
    "start_time": "2024-04-16T14:24:16.054Z"
   },
   {
    "duration": 139,
    "start_time": "2024-04-16T14:24:16.903Z"
   },
   {
    "duration": 90,
    "start_time": "2024-04-16T14:24:17.043Z"
   },
   {
    "duration": 13,
    "start_time": "2024-04-16T14:24:17.135Z"
   },
   {
    "duration": 39,
    "start_time": "2024-04-16T14:24:17.149Z"
   },
   {
    "duration": 97,
    "start_time": "2024-04-16T14:24:17.189Z"
   },
   {
    "duration": 113,
    "start_time": "2024-04-16T14:24:17.287Z"
   },
   {
    "duration": 85,
    "start_time": "2024-04-16T14:24:17.402Z"
   },
   {
    "duration": 166,
    "start_time": "2024-04-16T14:24:17.488Z"
   },
   {
    "duration": 193,
    "start_time": "2024-04-16T14:24:17.656Z"
   },
   {
    "duration": 131,
    "start_time": "2024-04-16T14:24:17.850Z"
   },
   {
    "duration": 4,
    "start_time": "2024-04-16T14:24:17.983Z"
   },
   {
    "duration": 26,
    "start_time": "2024-04-16T14:24:17.989Z"
   },
   {
    "duration": 5,
    "start_time": "2024-04-16T14:24:18.016Z"
   },
   {
    "duration": 44,
    "start_time": "2024-04-16T14:24:18.023Z"
   },
   {
    "duration": 5,
    "start_time": "2024-04-16T14:24:18.068Z"
   },
   {
    "duration": 12,
    "start_time": "2024-04-16T14:24:18.074Z"
   },
   {
    "duration": 20,
    "start_time": "2024-04-16T14:24:18.088Z"
   },
   {
    "duration": 59,
    "start_time": "2024-04-16T14:24:18.110Z"
   },
   {
    "duration": 9,
    "start_time": "2024-04-16T14:24:18.170Z"
   },
   {
    "duration": 3,
    "start_time": "2024-04-16T14:24:18.181Z"
   },
   {
    "duration": 13,
    "start_time": "2024-04-16T14:24:18.185Z"
   },
   {
    "duration": 63,
    "start_time": "2024-04-16T14:24:18.199Z"
   },
   {
    "duration": 3,
    "start_time": "2024-04-16T14:24:18.263Z"
   },
   {
    "duration": 14,
    "start_time": "2024-04-16T14:24:18.268Z"
   },
   {
    "duration": 5,
    "start_time": "2024-04-16T14:24:18.286Z"
   },
   {
    "duration": 9,
    "start_time": "2024-04-16T14:24:18.294Z"
   },
   {
    "duration": 8205,
    "start_time": "2024-04-16T14:24:18.305Z"
   },
   {
    "duration": 54,
    "start_time": "2024-04-16T14:24:26.511Z"
   },
   {
    "duration": 5,
    "start_time": "2024-04-16T14:24:26.568Z"
   },
   {
    "duration": 6,
    "start_time": "2024-04-16T14:24:26.575Z"
   },
   {
    "duration": 3530,
    "start_time": "2024-04-16T14:24:26.583Z"
   },
   {
    "duration": 14,
    "start_time": "2024-04-16T14:28:33.581Z"
   },
   {
    "duration": 4,
    "start_time": "2024-04-16T14:30:53.195Z"
   },
   {
    "duration": 3,
    "start_time": "2024-04-16T14:30:55.344Z"
   },
   {
    "duration": 1049,
    "start_time": "2024-04-16T14:31:45.841Z"
   },
   {
    "duration": 2808,
    "start_time": "2024-04-16T14:31:46.892Z"
   },
   {
    "duration": 877,
    "start_time": "2024-04-16T14:31:49.702Z"
   },
   {
    "duration": 145,
    "start_time": "2024-04-16T14:31:50.582Z"
   },
   {
    "duration": 106,
    "start_time": "2024-04-16T14:31:50.729Z"
   },
   {
    "duration": 13,
    "start_time": "2024-04-16T14:31:50.837Z"
   },
   {
    "duration": 37,
    "start_time": "2024-04-16T14:31:50.852Z"
   },
   {
    "duration": 104,
    "start_time": "2024-04-16T14:31:50.891Z"
   },
   {
    "duration": 129,
    "start_time": "2024-04-16T14:31:50.997Z"
   },
   {
    "duration": 113,
    "start_time": "2024-04-16T14:31:51.128Z"
   },
   {
    "duration": 177,
    "start_time": "2024-04-16T14:31:51.242Z"
   },
   {
    "duration": 199,
    "start_time": "2024-04-16T14:31:51.420Z"
   },
   {
    "duration": 131,
    "start_time": "2024-04-16T14:31:51.621Z"
   },
   {
    "duration": 4,
    "start_time": "2024-04-16T14:31:51.753Z"
   },
   {
    "duration": 28,
    "start_time": "2024-04-16T14:31:51.758Z"
   },
   {
    "duration": 5,
    "start_time": "2024-04-16T14:31:51.788Z"
   },
   {
    "duration": 36,
    "start_time": "2024-04-16T14:31:51.795Z"
   },
   {
    "duration": 7,
    "start_time": "2024-04-16T14:31:51.833Z"
   },
   {
    "duration": 25,
    "start_time": "2024-04-16T14:31:51.841Z"
   },
   {
    "duration": 25,
    "start_time": "2024-04-16T14:31:51.867Z"
   },
   {
    "duration": 49,
    "start_time": "2024-04-16T14:31:51.893Z"
   },
   {
    "duration": 23,
    "start_time": "2024-04-16T14:31:51.943Z"
   },
   {
    "duration": 3,
    "start_time": "2024-04-16T14:31:51.967Z"
   },
   {
    "duration": 31,
    "start_time": "2024-04-16T14:31:51.971Z"
   },
   {
    "duration": 43,
    "start_time": "2024-04-16T14:31:52.004Z"
   },
   {
    "duration": 2,
    "start_time": "2024-04-16T14:31:52.049Z"
   },
   {
    "duration": 16,
    "start_time": "2024-04-16T14:31:52.053Z"
   },
   {
    "duration": 7,
    "start_time": "2024-04-16T14:31:52.072Z"
   },
   {
    "duration": 5,
    "start_time": "2024-04-16T14:31:52.081Z"
   },
   {
    "duration": 8500,
    "start_time": "2024-04-16T14:31:52.087Z"
   },
   {
    "duration": 2,
    "start_time": "2024-04-16T14:32:00.589Z"
   },
   {
    "duration": 204,
    "start_time": "2024-04-16T14:32:00.593Z"
   },
   {
    "duration": 69,
    "start_time": "2024-04-16T14:32:00.798Z"
   },
   {
    "duration": 1074,
    "start_time": "2024-04-16T14:36:06.143Z"
   },
   {
    "duration": 2961,
    "start_time": "2024-04-16T14:36:07.219Z"
   },
   {
    "duration": 886,
    "start_time": "2024-04-16T14:36:10.182Z"
   },
   {
    "duration": 143,
    "start_time": "2024-04-16T14:36:11.070Z"
   },
   {
    "duration": 105,
    "start_time": "2024-04-16T14:36:11.215Z"
   },
   {
    "duration": 13,
    "start_time": "2024-04-16T14:36:11.322Z"
   },
   {
    "duration": 46,
    "start_time": "2024-04-16T14:36:11.337Z"
   },
   {
    "duration": 90,
    "start_time": "2024-04-16T14:36:11.385Z"
   },
   {
    "duration": 140,
    "start_time": "2024-04-16T14:36:11.477Z"
   },
   {
    "duration": 104,
    "start_time": "2024-04-16T14:36:11.619Z"
   },
   {
    "duration": 181,
    "start_time": "2024-04-16T14:36:11.724Z"
   },
   {
    "duration": 194,
    "start_time": "2024-04-16T14:36:11.906Z"
   },
   {
    "duration": 132,
    "start_time": "2024-04-16T14:36:12.102Z"
   },
   {
    "duration": 4,
    "start_time": "2024-04-16T14:36:12.237Z"
   },
   {
    "duration": 29,
    "start_time": "2024-04-16T14:36:12.242Z"
   },
   {
    "duration": 5,
    "start_time": "2024-04-16T14:36:12.272Z"
   },
   {
    "duration": 25,
    "start_time": "2024-04-16T14:36:12.278Z"
   },
   {
    "duration": 5,
    "start_time": "2024-04-16T14:36:12.305Z"
   },
   {
    "duration": 20,
    "start_time": "2024-04-16T14:36:12.312Z"
   },
   {
    "duration": 19,
    "start_time": "2024-04-16T14:36:12.333Z"
   },
   {
    "duration": 64,
    "start_time": "2024-04-16T14:36:12.353Z"
   },
   {
    "duration": 9,
    "start_time": "2024-04-16T14:36:12.418Z"
   },
   {
    "duration": 2,
    "start_time": "2024-04-16T14:36:12.429Z"
   },
   {
    "duration": 12,
    "start_time": "2024-04-16T14:36:12.432Z"
   },
   {
    "duration": 43,
    "start_time": "2024-04-16T14:36:12.464Z"
   },
   {
    "duration": 2,
    "start_time": "2024-04-16T14:36:12.509Z"
   },
   {
    "duration": 9,
    "start_time": "2024-04-16T14:36:12.512Z"
   },
   {
    "duration": 7,
    "start_time": "2024-04-16T14:36:12.522Z"
   },
   {
    "duration": 4,
    "start_time": "2024-04-16T14:36:12.531Z"
   },
   {
    "duration": 8175,
    "start_time": "2024-04-16T14:36:12.536Z"
   },
   {
    "duration": 2,
    "start_time": "2024-04-16T14:36:20.713Z"
   },
   {
    "duration": 48,
    "start_time": "2024-04-16T14:36:20.717Z"
   },
   {
    "duration": 36,
    "start_time": "2024-04-16T14:36:20.767Z"
   },
   {
    "duration": 47338,
    "start_time": "2024-04-16T14:36:20.804Z"
   },
   {
    "duration": 1035,
    "start_time": "2024-04-16T14:39:11.529Z"
   },
   {
    "duration": 2730,
    "start_time": "2024-04-16T14:39:12.566Z"
   },
   {
    "duration": 900,
    "start_time": "2024-04-16T14:39:15.297Z"
   },
   {
    "duration": 144,
    "start_time": "2024-04-16T14:39:16.199Z"
   },
   {
    "duration": 93,
    "start_time": "2024-04-16T14:39:16.345Z"
   },
   {
    "duration": 13,
    "start_time": "2024-04-16T14:39:16.439Z"
   },
   {
    "duration": 32,
    "start_time": "2024-04-16T14:39:16.453Z"
   },
   {
    "duration": 96,
    "start_time": "2024-04-16T14:39:16.487Z"
   },
   {
    "duration": 118,
    "start_time": "2024-04-16T14:39:16.585Z"
   },
   {
    "duration": 101,
    "start_time": "2024-04-16T14:39:16.705Z"
   },
   {
    "duration": 182,
    "start_time": "2024-04-16T14:39:16.807Z"
   },
   {
    "duration": 209,
    "start_time": "2024-04-16T14:39:16.991Z"
   },
   {
    "duration": 128,
    "start_time": "2024-04-16T14:39:17.201Z"
   },
   {
    "duration": 4,
    "start_time": "2024-04-16T14:39:17.331Z"
   },
   {
    "duration": 30,
    "start_time": "2024-04-16T14:39:17.336Z"
   },
   {
    "duration": 5,
    "start_time": "2024-04-16T14:39:17.367Z"
   },
   {
    "duration": 25,
    "start_time": "2024-04-16T14:39:17.373Z"
   },
   {
    "duration": 6,
    "start_time": "2024-04-16T14:39:17.400Z"
   },
   {
    "duration": 6,
    "start_time": "2024-04-16T14:39:17.407Z"
   },
   {
    "duration": 17,
    "start_time": "2024-04-16T14:39:17.414Z"
   },
   {
    "duration": 85,
    "start_time": "2024-04-16T14:39:17.432Z"
   },
   {
    "duration": 8,
    "start_time": "2024-04-16T14:39:17.519Z"
   },
   {
    "duration": 2,
    "start_time": "2024-04-16T14:39:17.528Z"
   },
   {
    "duration": 11,
    "start_time": "2024-04-16T14:39:17.532Z"
   },
   {
    "duration": 58,
    "start_time": "2024-04-16T14:39:17.545Z"
   },
   {
    "duration": 3,
    "start_time": "2024-04-16T14:39:17.605Z"
   },
   {
    "duration": 9,
    "start_time": "2024-04-16T14:39:17.610Z"
   },
   {
    "duration": 4,
    "start_time": "2024-04-16T14:39:17.622Z"
   },
   {
    "duration": 7,
    "start_time": "2024-04-16T14:39:17.628Z"
   },
   {
    "duration": 7661,
    "start_time": "2024-04-16T14:39:17.637Z"
   },
   {
    "duration": 3,
    "start_time": "2024-04-16T14:39:25.299Z"
   },
   {
    "duration": 10,
    "start_time": "2024-04-16T14:39:25.304Z"
   },
   {
    "duration": 9,
    "start_time": "2024-04-16T14:39:25.315Z"
   },
   {
    "duration": 1323,
    "start_time": "2024-04-18T10:57:08.378Z"
   },
   {
    "duration": 7629,
    "start_time": "2024-04-18T10:57:09.703Z"
   },
   {
    "duration": 1310,
    "start_time": "2024-04-18T10:57:17.334Z"
   },
   {
    "duration": 184,
    "start_time": "2024-04-18T10:57:18.646Z"
   },
   {
    "duration": 111,
    "start_time": "2024-04-18T10:57:18.832Z"
   },
   {
    "duration": 15,
    "start_time": "2024-04-18T10:57:18.945Z"
   },
   {
    "duration": 36,
    "start_time": "2024-04-18T10:57:18.962Z"
   },
   {
    "duration": 118,
    "start_time": "2024-04-18T10:57:19.001Z"
   },
   {
    "duration": 146,
    "start_time": "2024-04-18T10:57:19.120Z"
   },
   {
    "duration": 127,
    "start_time": "2024-04-18T10:57:19.268Z"
   },
   {
    "duration": 198,
    "start_time": "2024-04-18T10:57:19.397Z"
   },
   {
    "duration": 257,
    "start_time": "2024-04-18T10:57:19.596Z"
   },
   {
    "duration": 143,
    "start_time": "2024-04-18T10:57:19.855Z"
   },
   {
    "duration": 4,
    "start_time": "2024-04-18T10:57:20.002Z"
   },
   {
    "duration": 32,
    "start_time": "2024-04-18T10:57:20.008Z"
   },
   {
    "duration": 26,
    "start_time": "2024-04-18T10:57:20.041Z"
   },
   {
    "duration": 70,
    "start_time": "2024-04-18T10:57:20.069Z"
   },
   {
    "duration": 23,
    "start_time": "2024-04-18T10:57:20.141Z"
   },
   {
    "duration": 112,
    "start_time": "2024-04-18T10:57:20.165Z"
   },
   {
    "duration": 74,
    "start_time": "2024-04-18T10:57:20.279Z"
   },
   {
    "duration": 70,
    "start_time": "2024-04-18T10:57:20.355Z"
   },
   {
    "duration": 9,
    "start_time": "2024-04-18T10:57:20.427Z"
   },
   {
    "duration": 18,
    "start_time": "2024-04-18T10:57:20.438Z"
   },
   {
    "duration": 45,
    "start_time": "2024-04-18T10:57:20.458Z"
   },
   {
    "duration": 64,
    "start_time": "2024-04-18T10:57:20.504Z"
   },
   {
    "duration": 3,
    "start_time": "2024-04-18T10:57:20.570Z"
   },
   {
    "duration": 43,
    "start_time": "2024-04-18T10:57:20.575Z"
   },
   {
    "duration": 28,
    "start_time": "2024-04-18T10:57:20.620Z"
   },
   {
    "duration": 34,
    "start_time": "2024-04-18T10:57:20.649Z"
   },
   {
    "duration": 596,
    "start_time": "2024-04-18T10:57:20.684Z"
   },
   {
    "duration": 0,
    "start_time": "2024-04-18T10:57:21.282Z"
   },
   {
    "duration": 0,
    "start_time": "2024-04-18T10:57:21.283Z"
   },
   {
    "duration": 1,
    "start_time": "2024-04-18T10:57:21.283Z"
   },
   {
    "duration": 0,
    "start_time": "2024-04-18T10:57:21.285Z"
   },
   {
    "duration": 431,
    "start_time": "2024-04-18T10:58:04.005Z"
   },
   {
    "duration": 1142,
    "start_time": "2024-04-18T10:58:12.350Z"
   },
   {
    "duration": 3242,
    "start_time": "2024-04-18T10:58:13.495Z"
   },
   {
    "duration": 993,
    "start_time": "2024-04-18T10:58:16.739Z"
   },
   {
    "duration": 192,
    "start_time": "2024-04-18T10:58:17.734Z"
   },
   {
    "duration": 108,
    "start_time": "2024-04-18T10:58:17.929Z"
   },
   {
    "duration": 14,
    "start_time": "2024-04-18T10:58:18.039Z"
   },
   {
    "duration": 43,
    "start_time": "2024-04-18T10:58:18.055Z"
   },
   {
    "duration": 103,
    "start_time": "2024-04-18T10:58:18.100Z"
   },
   {
    "duration": 142,
    "start_time": "2024-04-18T10:58:18.205Z"
   },
   {
    "duration": 113,
    "start_time": "2024-04-18T10:58:18.349Z"
   },
   {
    "duration": 218,
    "start_time": "2024-04-18T10:58:18.463Z"
   },
   {
    "duration": 216,
    "start_time": "2024-04-18T10:58:18.682Z"
   },
   {
    "duration": 150,
    "start_time": "2024-04-18T10:58:18.900Z"
   },
   {
    "duration": 4,
    "start_time": "2024-04-18T10:58:19.052Z"
   },
   {
    "duration": 34,
    "start_time": "2024-04-18T10:58:19.058Z"
   },
   {
    "duration": 6,
    "start_time": "2024-04-18T10:58:19.093Z"
   },
   {
    "duration": 24,
    "start_time": "2024-04-18T10:58:19.101Z"
   },
   {
    "duration": 7,
    "start_time": "2024-04-18T10:58:19.127Z"
   },
   {
    "duration": 11,
    "start_time": "2024-04-18T10:58:19.135Z"
   },
   {
    "duration": 44,
    "start_time": "2024-04-18T10:58:19.147Z"
   },
   {
    "duration": 56,
    "start_time": "2024-04-18T10:58:19.193Z"
   },
   {
    "duration": 10,
    "start_time": "2024-04-18T10:58:19.251Z"
   },
   {
    "duration": 19,
    "start_time": "2024-04-18T10:58:19.262Z"
   },
   {
    "duration": 25,
    "start_time": "2024-04-18T10:58:19.282Z"
   },
   {
    "duration": 45,
    "start_time": "2024-04-18T10:58:19.309Z"
   },
   {
    "duration": 4,
    "start_time": "2024-04-18T10:58:19.356Z"
   },
   {
    "duration": 18,
    "start_time": "2024-04-18T10:58:19.362Z"
   },
   {
    "duration": 4,
    "start_time": "2024-04-18T10:58:19.382Z"
   },
   {
    "duration": 8,
    "start_time": "2024-04-18T10:58:19.387Z"
   },
   {
    "duration": 12535,
    "start_time": "2024-04-18T10:58:19.396Z"
   },
   {
    "duration": 47,
    "start_time": "2024-04-18T10:58:31.933Z"
   },
   {
    "duration": 3,
    "start_time": "2024-04-18T10:58:31.982Z"
   },
   {
    "duration": 26,
    "start_time": "2024-04-18T10:58:31.987Z"
   },
   {
    "duration": 1127,
    "start_time": "2024-04-18T11:00:44.987Z"
   },
   {
    "duration": 3157,
    "start_time": "2024-04-18T11:00:46.116Z"
   },
   {
    "duration": 980,
    "start_time": "2024-04-18T11:00:49.275Z"
   },
   {
    "duration": 167,
    "start_time": "2024-04-18T11:00:50.258Z"
   },
   {
    "duration": 118,
    "start_time": "2024-04-18T11:00:50.427Z"
   },
   {
    "duration": 17,
    "start_time": "2024-04-18T11:00:50.547Z"
   },
   {
    "duration": 45,
    "start_time": "2024-04-18T11:00:50.581Z"
   },
   {
    "duration": 104,
    "start_time": "2024-04-18T11:00:50.628Z"
   },
   {
    "duration": 134,
    "start_time": "2024-04-18T11:00:50.734Z"
   },
   {
    "duration": 100,
    "start_time": "2024-04-18T11:00:50.871Z"
   },
   {
    "duration": 188,
    "start_time": "2024-04-18T11:00:50.979Z"
   },
   {
    "duration": 211,
    "start_time": "2024-04-18T11:00:51.169Z"
   },
   {
    "duration": 144,
    "start_time": "2024-04-18T11:00:51.382Z"
   },
   {
    "duration": 4,
    "start_time": "2024-04-18T11:00:51.527Z"
   },
   {
    "duration": 29,
    "start_time": "2024-04-18T11:00:51.533Z"
   },
   {
    "duration": 30,
    "start_time": "2024-04-18T11:00:51.564Z"
   },
   {
    "duration": 24,
    "start_time": "2024-04-18T11:00:51.596Z"
   },
   {
    "duration": 5,
    "start_time": "2024-04-18T11:00:51.622Z"
   },
   {
    "duration": 16,
    "start_time": "2024-04-18T11:00:51.628Z"
   },
   {
    "duration": 26,
    "start_time": "2024-04-18T11:00:51.645Z"
   },
   {
    "duration": 60,
    "start_time": "2024-04-18T11:00:51.672Z"
   },
   {
    "duration": 9,
    "start_time": "2024-04-18T11:00:51.734Z"
   },
   {
    "duration": 6,
    "start_time": "2024-04-18T11:00:51.744Z"
   },
   {
    "duration": 29,
    "start_time": "2024-04-18T11:00:51.752Z"
   },
   {
    "duration": 50,
    "start_time": "2024-04-18T11:00:51.782Z"
   },
   {
    "duration": 3,
    "start_time": "2024-04-18T11:00:51.833Z"
   },
   {
    "duration": 17,
    "start_time": "2024-04-18T11:00:51.838Z"
   },
   {
    "duration": 8,
    "start_time": "2024-04-18T11:00:51.859Z"
   },
   {
    "duration": 35,
    "start_time": "2024-04-18T11:00:51.868Z"
   },
   {
    "duration": 9226,
    "start_time": "2024-04-18T11:00:51.905Z"
   },
   {
    "duration": 2,
    "start_time": "2024-04-18T11:01:01.181Z"
   },
   {
    "duration": 144,
    "start_time": "2024-04-18T11:01:01.185Z"
   },
   {
    "duration": 79,
    "start_time": "2024-04-18T11:01:01.331Z"
   },
   {
    "duration": 280974,
    "start_time": "2024-04-18T11:01:01.411Z"
   },
   {
    "duration": 128,
    "start_time": "2024-04-18T11:12:31.094Z"
   },
   {
    "duration": 25,
    "start_time": "2024-04-18T11:12:45.711Z"
   },
   {
    "duration": 27,
    "start_time": "2024-04-18T11:12:56.508Z"
   },
   {
    "duration": 30,
    "start_time": "2024-04-18T11:13:11.874Z"
   },
   {
    "duration": 3,
    "start_time": "2024-04-18T11:13:37.520Z"
   },
   {
    "duration": 30,
    "start_time": "2024-04-18T11:13:39.622Z"
   },
   {
    "duration": 28,
    "start_time": "2024-04-18T11:14:57.555Z"
   },
   {
    "duration": 3,
    "start_time": "2024-04-18T11:16:00.348Z"
   },
   {
    "duration": 5,
    "start_time": "2024-04-18T11:16:00.534Z"
   },
   {
    "duration": 3,
    "start_time": "2024-04-18T11:16:00.962Z"
   },
   {
    "duration": 34,
    "start_time": "2024-04-18T11:16:04.487Z"
   },
   {
    "duration": 1103,
    "start_time": "2024-04-18T11:16:44.782Z"
   },
   {
    "duration": 3619,
    "start_time": "2024-04-18T11:16:45.888Z"
   },
   {
    "duration": 991,
    "start_time": "2024-04-18T11:16:49.510Z"
   },
   {
    "duration": 196,
    "start_time": "2024-04-18T11:16:50.503Z"
   },
   {
    "duration": 106,
    "start_time": "2024-04-18T11:16:50.702Z"
   },
   {
    "duration": 14,
    "start_time": "2024-04-18T11:16:50.810Z"
   },
   {
    "duration": 29,
    "start_time": "2024-04-18T11:16:50.826Z"
   },
   {
    "duration": 116,
    "start_time": "2024-04-18T11:16:50.856Z"
   },
   {
    "duration": 138,
    "start_time": "2024-04-18T11:16:50.981Z"
   },
   {
    "duration": 128,
    "start_time": "2024-04-18T11:16:51.121Z"
   },
   {
    "duration": 200,
    "start_time": "2024-04-18T11:16:51.251Z"
   },
   {
    "duration": 221,
    "start_time": "2024-04-18T11:16:51.452Z"
   },
   {
    "duration": 145,
    "start_time": "2024-04-18T11:16:51.675Z"
   },
   {
    "duration": 4,
    "start_time": "2024-04-18T11:16:51.823Z"
   },
   {
    "duration": 35,
    "start_time": "2024-04-18T11:16:51.829Z"
   },
   {
    "duration": 15,
    "start_time": "2024-04-18T11:16:51.866Z"
   },
   {
    "duration": 34,
    "start_time": "2024-04-18T11:16:51.883Z"
   },
   {
    "duration": 5,
    "start_time": "2024-04-18T11:16:51.919Z"
   },
   {
    "duration": 23,
    "start_time": "2024-04-18T11:16:51.926Z"
   },
   {
    "duration": 16,
    "start_time": "2024-04-18T11:16:51.951Z"
   },
   {
    "duration": 59,
    "start_time": "2024-04-18T11:16:51.969Z"
   },
   {
    "duration": 12,
    "start_time": "2024-04-18T11:16:52.029Z"
   },
   {
    "duration": 5,
    "start_time": "2024-04-18T11:16:52.043Z"
   },
   {
    "duration": 38,
    "start_time": "2024-04-18T11:16:52.049Z"
   },
   {
    "duration": 50,
    "start_time": "2024-04-18T11:16:52.089Z"
   },
   {
    "duration": 3,
    "start_time": "2024-04-18T11:16:52.141Z"
   },
   {
    "duration": 20,
    "start_time": "2024-04-18T11:16:52.145Z"
   },
   {
    "duration": 12,
    "start_time": "2024-04-18T11:16:52.167Z"
   },
   {
    "duration": 11,
    "start_time": "2024-04-18T11:16:52.180Z"
   },
   {
    "duration": 234024,
    "start_time": "2024-04-18T11:16:52.192Z"
   },
   {
    "duration": 3,
    "start_time": "2024-04-18T11:20:46.218Z"
   },
   {
    "duration": 36,
    "start_time": "2024-04-18T11:20:46.222Z"
   },
   {
    "duration": 17,
    "start_time": "2024-04-18T11:20:46.259Z"
   },
   {
    "duration": 1165,
    "start_time": "2024-04-18T11:27:33.466Z"
   },
   {
    "duration": 3411,
    "start_time": "2024-04-18T11:27:34.633Z"
   },
   {
    "duration": 1099,
    "start_time": "2024-04-18T11:27:38.047Z"
   },
   {
    "duration": 171,
    "start_time": "2024-04-18T11:27:39.148Z"
   },
   {
    "duration": 118,
    "start_time": "2024-04-18T11:27:39.321Z"
   },
   {
    "duration": 15,
    "start_time": "2024-04-18T11:27:39.441Z"
   },
   {
    "duration": 41,
    "start_time": "2024-04-18T11:27:39.458Z"
   },
   {
    "duration": 119,
    "start_time": "2024-04-18T11:27:39.501Z"
   },
   {
    "duration": 136,
    "start_time": "2024-04-18T11:27:39.623Z"
   },
   {
    "duration": 203,
    "start_time": "2024-04-18T11:27:39.763Z"
   },
   {
    "duration": 196,
    "start_time": "2024-04-18T11:27:39.968Z"
   },
   {
    "duration": 217,
    "start_time": "2024-04-18T11:27:40.166Z"
   },
   {
    "duration": 163,
    "start_time": "2024-04-18T11:27:40.385Z"
   },
   {
    "duration": 4,
    "start_time": "2024-04-18T11:27:40.552Z"
   },
   {
    "duration": 36,
    "start_time": "2024-04-18T11:27:40.559Z"
   },
   {
    "duration": 6,
    "start_time": "2024-04-18T11:27:40.597Z"
   },
   {
    "duration": 27,
    "start_time": "2024-04-18T11:27:40.605Z"
   },
   {
    "duration": 6,
    "start_time": "2024-04-18T11:27:40.634Z"
   },
   {
    "duration": 41,
    "start_time": "2024-04-18T11:27:40.642Z"
   },
   {
    "duration": 22,
    "start_time": "2024-04-18T11:27:40.686Z"
   },
   {
    "duration": 83,
    "start_time": "2024-04-18T11:27:40.709Z"
   },
   {
    "duration": 10,
    "start_time": "2024-04-18T11:27:40.794Z"
   },
   {
    "duration": 5,
    "start_time": "2024-04-18T11:27:40.805Z"
   },
   {
    "duration": 16,
    "start_time": "2024-04-18T11:27:40.812Z"
   },
   {
    "duration": 79,
    "start_time": "2024-04-18T11:27:40.830Z"
   },
   {
    "duration": 3,
    "start_time": "2024-04-18T11:27:40.911Z"
   },
   {
    "duration": 9,
    "start_time": "2024-04-18T11:27:40.916Z"
   },
   {
    "duration": 17,
    "start_time": "2024-04-18T11:27:40.929Z"
   },
   {
    "duration": 8,
    "start_time": "2024-04-18T11:27:40.948Z"
   },
   {
    "duration": 1184,
    "start_time": "2024-04-18T11:33:19.877Z"
   },
   {
    "duration": 3398,
    "start_time": "2024-04-18T11:33:21.063Z"
   },
   {
    "duration": 1121,
    "start_time": "2024-04-18T11:33:24.463Z"
   },
   {
    "duration": 182,
    "start_time": "2024-04-18T11:33:25.588Z"
   },
   {
    "duration": 109,
    "start_time": "2024-04-18T11:33:25.780Z"
   },
   {
    "duration": 15,
    "start_time": "2024-04-18T11:33:25.891Z"
   },
   {
    "duration": 28,
    "start_time": "2024-04-18T11:33:25.908Z"
   },
   {
    "duration": 118,
    "start_time": "2024-04-18T11:33:25.938Z"
   },
   {
    "duration": 152,
    "start_time": "2024-04-18T11:33:26.058Z"
   },
   {
    "duration": 103,
    "start_time": "2024-04-18T11:33:26.213Z"
   },
   {
    "duration": 202,
    "start_time": "2024-04-18T11:33:26.317Z"
   },
   {
    "duration": 322,
    "start_time": "2024-04-18T11:33:26.520Z"
   },
   {
    "duration": 166,
    "start_time": "2024-04-18T11:33:26.844Z"
   },
   {
    "duration": 5,
    "start_time": "2024-04-18T11:33:27.012Z"
   },
   {
    "duration": 24,
    "start_time": "2024-04-18T11:33:27.019Z"
   },
   {
    "duration": 9,
    "start_time": "2024-04-18T11:33:27.045Z"
   },
   {
    "duration": 59,
    "start_time": "2024-04-18T11:33:27.055Z"
   },
   {
    "duration": 10,
    "start_time": "2024-04-18T11:33:27.117Z"
   },
   {
    "duration": 15,
    "start_time": "2024-04-18T11:33:27.129Z"
   },
   {
    "duration": 46,
    "start_time": "2024-04-18T11:33:27.146Z"
   },
   {
    "duration": 91,
    "start_time": "2024-04-18T11:33:27.194Z"
   },
   {
    "duration": 16,
    "start_time": "2024-04-18T11:33:27.288Z"
   },
   {
    "duration": 3,
    "start_time": "2024-04-18T11:33:27.306Z"
   },
   {
    "duration": 16,
    "start_time": "2024-04-18T11:33:27.311Z"
   },
   {
    "duration": 72,
    "start_time": "2024-04-18T11:33:27.329Z"
   },
   {
    "duration": 4,
    "start_time": "2024-04-18T11:33:27.403Z"
   },
   {
    "duration": 7,
    "start_time": "2024-04-18T11:33:27.408Z"
   },
   {
    "duration": 4,
    "start_time": "2024-04-18T11:33:27.418Z"
   },
   {
    "duration": 4,
    "start_time": "2024-04-18T11:33:27.424Z"
   },
   {
    "duration": 1235,
    "start_time": "2024-04-18T11:35:29.822Z"
   },
   {
    "duration": 3406,
    "start_time": "2024-04-18T11:35:31.059Z"
   },
   {
    "duration": 996,
    "start_time": "2024-04-18T11:35:34.468Z"
   },
   {
    "duration": 180,
    "start_time": "2024-04-18T11:35:35.466Z"
   },
   {
    "duration": 122,
    "start_time": "2024-04-18T11:35:35.649Z"
   },
   {
    "duration": 18,
    "start_time": "2024-04-18T11:35:35.773Z"
   },
   {
    "duration": 54,
    "start_time": "2024-04-18T11:35:35.792Z"
   },
   {
    "duration": 107,
    "start_time": "2024-04-18T11:35:35.848Z"
   },
   {
    "duration": 136,
    "start_time": "2024-04-18T11:35:35.956Z"
   },
   {
    "duration": 97,
    "start_time": "2024-04-18T11:35:36.094Z"
   },
   {
    "duration": 202,
    "start_time": "2024-04-18T11:35:36.193Z"
   },
   {
    "duration": 251,
    "start_time": "2024-04-18T11:35:36.397Z"
   },
   {
    "duration": 163,
    "start_time": "2024-04-18T11:35:36.650Z"
   },
   {
    "duration": 4,
    "start_time": "2024-04-18T11:35:36.818Z"
   },
   {
    "duration": 32,
    "start_time": "2024-04-18T11:35:36.824Z"
   },
   {
    "duration": 6,
    "start_time": "2024-04-18T11:35:36.858Z"
   },
   {
    "duration": 38,
    "start_time": "2024-04-18T11:35:36.881Z"
   },
   {
    "duration": 7,
    "start_time": "2024-04-18T11:35:36.926Z"
   },
   {
    "duration": 8,
    "start_time": "2024-04-18T11:35:36.935Z"
   },
   {
    "duration": 44,
    "start_time": "2024-04-18T11:35:36.946Z"
   },
   {
    "duration": 119,
    "start_time": "2024-04-18T11:35:36.993Z"
   },
   {
    "duration": 11,
    "start_time": "2024-04-18T11:35:37.114Z"
   },
   {
    "duration": 3,
    "start_time": "2024-04-18T11:35:37.127Z"
   },
   {
    "duration": 18,
    "start_time": "2024-04-18T11:35:37.131Z"
   },
   {
    "duration": 77,
    "start_time": "2024-04-18T11:35:37.152Z"
   },
   {
    "duration": 3,
    "start_time": "2024-04-18T11:35:37.231Z"
   },
   {
    "duration": 18,
    "start_time": "2024-04-18T11:35:37.236Z"
   },
   {
    "duration": 4,
    "start_time": "2024-04-18T11:35:37.258Z"
   },
   {
    "duration": 151,
    "start_time": "2024-04-18T11:35:37.264Z"
   },
   {
    "duration": 0,
    "start_time": "2024-04-18T11:35:37.417Z"
   },
   {
    "duration": 0,
    "start_time": "2024-04-18T11:35:37.418Z"
   },
   {
    "duration": 0,
    "start_time": "2024-04-18T11:35:37.419Z"
   },
   {
    "duration": 0,
    "start_time": "2024-04-18T11:35:37.421Z"
   },
   {
    "duration": 0,
    "start_time": "2024-04-18T11:35:37.423Z"
   },
   {
    "duration": 0,
    "start_time": "2024-04-18T11:35:37.424Z"
   },
   {
    "duration": 1217,
    "start_time": "2024-04-18T11:35:46.958Z"
   },
   {
    "duration": 3388,
    "start_time": "2024-04-18T11:35:48.177Z"
   },
   {
    "duration": 1070,
    "start_time": "2024-04-18T11:35:51.568Z"
   },
   {
    "duration": 221,
    "start_time": "2024-04-18T11:35:52.641Z"
   },
   {
    "duration": 115,
    "start_time": "2024-04-18T11:35:52.865Z"
   },
   {
    "duration": 16,
    "start_time": "2024-04-18T11:35:52.982Z"
   },
   {
    "duration": 44,
    "start_time": "2024-04-18T11:35:53.000Z"
   },
   {
    "duration": 98,
    "start_time": "2024-04-18T11:35:53.046Z"
   },
   {
    "duration": 149,
    "start_time": "2024-04-18T11:35:53.146Z"
   },
   {
    "duration": 103,
    "start_time": "2024-04-18T11:35:53.296Z"
   },
   {
    "duration": 201,
    "start_time": "2024-04-18T11:35:53.401Z"
   },
   {
    "duration": 221,
    "start_time": "2024-04-18T11:35:53.604Z"
   },
   {
    "duration": 145,
    "start_time": "2024-04-18T11:35:53.827Z"
   },
   {
    "duration": 4,
    "start_time": "2024-04-18T11:35:53.982Z"
   },
   {
    "duration": 31,
    "start_time": "2024-04-18T11:35:53.988Z"
   },
   {
    "duration": 6,
    "start_time": "2024-04-18T11:35:54.021Z"
   },
   {
    "duration": 25,
    "start_time": "2024-04-18T11:35:54.029Z"
   },
   {
    "duration": 26,
    "start_time": "2024-04-18T11:35:54.056Z"
   },
   {
    "duration": 9,
    "start_time": "2024-04-18T11:35:54.085Z"
   },
   {
    "duration": 45,
    "start_time": "2024-04-18T11:35:54.096Z"
   },
   {
    "duration": 66,
    "start_time": "2024-04-18T11:35:54.143Z"
   },
   {
    "duration": 10,
    "start_time": "2024-04-18T11:35:54.211Z"
   },
   {
    "duration": 4,
    "start_time": "2024-04-18T11:35:54.223Z"
   },
   {
    "duration": 14,
    "start_time": "2024-04-18T11:35:54.229Z"
   },
   {
    "duration": 80,
    "start_time": "2024-04-18T11:35:54.245Z"
   },
   {
    "duration": 3,
    "start_time": "2024-04-18T11:35:54.327Z"
   },
   {
    "duration": 7,
    "start_time": "2024-04-18T11:35:54.332Z"
   },
   {
    "duration": 6,
    "start_time": "2024-04-18T11:35:54.341Z"
   },
   {
    "duration": 6,
    "start_time": "2024-04-18T11:35:54.349Z"
   },
   {
    "duration": 361153,
    "start_time": "2024-04-18T11:35:54.380Z"
   },
   {
    "duration": 3,
    "start_time": "2024-04-18T11:41:55.535Z"
   },
   {
    "duration": 41,
    "start_time": "2024-04-18T11:41:55.540Z"
   },
   {
    "duration": 9,
    "start_time": "2024-04-18T11:41:55.583Z"
   },
   {
    "duration": 973812,
    "start_time": "2024-04-18T11:41:55.594Z"
   },
   {
    "duration": 162,
    "start_time": "2024-04-18T11:58:09.408Z"
   },
   {
    "duration": 4,
    "start_time": "2024-04-18T12:17:43.853Z"
   },
   {
    "duration": 4,
    "start_time": "2024-04-18T12:17:46.185Z"
   },
   {
    "duration": 30,
    "start_time": "2024-04-18T12:17:48.403Z"
   },
   {
    "duration": 26,
    "start_time": "2024-04-18T12:18:16.178Z"
   },
   {
    "duration": 91,
    "start_time": "2024-04-18T12:18:36.631Z"
   },
   {
    "duration": 3,
    "start_time": "2024-04-18T12:18:58.108Z"
   },
   {
    "duration": 4,
    "start_time": "2024-04-18T12:18:58.253Z"
   },
   {
    "duration": 3,
    "start_time": "2024-04-18T12:19:00.621Z"
   },
   {
    "duration": 80,
    "start_time": "2024-04-18T12:19:03.434Z"
   },
   {
    "duration": 34,
    "start_time": "2024-04-18T12:19:08.368Z"
   },
   {
    "duration": 33,
    "start_time": "2024-04-18T12:22:21.755Z"
   },
   {
    "duration": 29,
    "start_time": "2024-04-18T12:23:34.550Z"
   },
   {
    "duration": 29,
    "start_time": "2024-04-18T12:27:00.602Z"
   },
   {
    "duration": 103,
    "start_time": "2024-04-18T12:28:45.711Z"
   },
   {
    "duration": 30,
    "start_time": "2024-04-18T12:31:17.567Z"
   },
   {
    "duration": 22,
    "start_time": "2024-04-18T12:34:27.715Z"
   },
   {
    "duration": 11,
    "start_time": "2024-04-18T12:35:33.415Z"
   },
   {
    "duration": 19,
    "start_time": "2024-04-18T12:35:45.268Z"
   },
   {
    "duration": 28,
    "start_time": "2024-04-18T12:40:38.455Z"
   },
   {
    "duration": 16,
    "start_time": "2024-04-18T12:40:53.119Z"
   },
   {
    "duration": 6,
    "start_time": "2024-04-18T12:41:04.486Z"
   },
   {
    "duration": 21,
    "start_time": "2024-04-18T12:41:42.233Z"
   },
   {
    "duration": 26,
    "start_time": "2024-04-18T12:41:42.545Z"
   },
   {
    "duration": 1118,
    "start_time": "2024-04-18T12:59:05.801Z"
   },
   {
    "duration": 3283,
    "start_time": "2024-04-18T12:59:06.921Z"
   },
   {
    "duration": 1029,
    "start_time": "2024-04-18T12:59:10.206Z"
   },
   {
    "duration": 163,
    "start_time": "2024-04-18T12:59:11.237Z"
   },
   {
    "duration": 110,
    "start_time": "2024-04-18T12:59:11.401Z"
   },
   {
    "duration": 15,
    "start_time": "2024-04-18T12:59:11.513Z"
   },
   {
    "duration": 28,
    "start_time": "2024-04-18T12:59:11.530Z"
   },
   {
    "duration": 121,
    "start_time": "2024-04-18T12:59:11.560Z"
   },
   {
    "duration": 129,
    "start_time": "2024-04-18T12:59:11.683Z"
   },
   {
    "duration": 99,
    "start_time": "2024-04-18T12:59:11.816Z"
   },
   {
    "duration": 230,
    "start_time": "2024-04-18T12:59:11.917Z"
   },
   {
    "duration": 214,
    "start_time": "2024-04-18T12:59:12.149Z"
   },
   {
    "duration": 149,
    "start_time": "2024-04-18T12:59:12.364Z"
   },
   {
    "duration": 4,
    "start_time": "2024-04-18T12:59:12.515Z"
   },
   {
    "duration": 30,
    "start_time": "2024-04-18T12:59:12.521Z"
   },
   {
    "duration": 29,
    "start_time": "2024-04-18T12:59:12.553Z"
   },
   {
    "duration": 31,
    "start_time": "2024-04-18T12:59:12.584Z"
   },
   {
    "duration": 8,
    "start_time": "2024-04-18T12:59:12.617Z"
   },
   {
    "duration": 10,
    "start_time": "2024-04-18T12:59:12.627Z"
   },
   {
    "duration": 46,
    "start_time": "2024-04-18T12:59:12.638Z"
   },
   {
    "duration": 56,
    "start_time": "2024-04-18T12:59:12.686Z"
   },
   {
    "duration": 9,
    "start_time": "2024-04-18T12:59:12.744Z"
   },
   {
    "duration": 26,
    "start_time": "2024-04-18T12:59:12.754Z"
   },
   {
    "duration": 14,
    "start_time": "2024-04-18T12:59:12.782Z"
   },
   {
    "duration": 52,
    "start_time": "2024-04-18T12:59:12.797Z"
   },
   {
    "duration": 3,
    "start_time": "2024-04-18T12:59:12.850Z"
   },
   {
    "duration": 5,
    "start_time": "2024-04-18T12:59:12.855Z"
   },
   {
    "duration": 19,
    "start_time": "2024-04-18T12:59:12.862Z"
   },
   {
    "duration": 9,
    "start_time": "2024-04-18T12:59:12.882Z"
   },
   {
    "duration": 408325,
    "start_time": "2024-04-18T12:59:12.892Z"
   },
   {
    "duration": 4,
    "start_time": "2024-04-18T13:06:01.219Z"
   },
   {
    "duration": 1099,
    "start_time": "2024-04-18T13:16:13.594Z"
   },
   {
    "duration": 3229,
    "start_time": "2024-04-18T13:16:14.695Z"
   },
   {
    "duration": 995,
    "start_time": "2024-04-18T13:16:17.927Z"
   },
   {
    "duration": 227,
    "start_time": "2024-04-18T13:16:18.924Z"
   },
   {
    "duration": 109,
    "start_time": "2024-04-18T13:16:19.152Z"
   },
   {
    "duration": 19,
    "start_time": "2024-04-18T13:16:19.263Z"
   },
   {
    "duration": 34,
    "start_time": "2024-04-18T13:16:19.284Z"
   },
   {
    "duration": 121,
    "start_time": "2024-04-18T13:16:19.320Z"
   },
   {
    "duration": 142,
    "start_time": "2024-04-18T13:16:19.442Z"
   },
   {
    "duration": 120,
    "start_time": "2024-04-18T13:16:19.587Z"
   },
   {
    "duration": 200,
    "start_time": "2024-04-18T13:16:19.709Z"
   },
   {
    "duration": 207,
    "start_time": "2024-04-18T13:16:19.911Z"
   },
   {
    "duration": 144,
    "start_time": "2024-04-18T13:16:20.119Z"
   },
   {
    "duration": 4,
    "start_time": "2024-04-18T13:16:20.265Z"
   },
   {
    "duration": 35,
    "start_time": "2024-04-18T13:16:20.271Z"
   },
   {
    "duration": 6,
    "start_time": "2024-04-18T13:16:20.308Z"
   },
   {
    "duration": 46,
    "start_time": "2024-04-18T13:16:20.316Z"
   },
   {
    "duration": 6,
    "start_time": "2024-04-18T13:16:20.364Z"
   },
   {
    "duration": 10,
    "start_time": "2024-04-18T13:16:20.371Z"
   },
   {
    "duration": 29,
    "start_time": "2024-04-18T13:16:20.383Z"
   },
   {
    "duration": 56,
    "start_time": "2024-04-18T13:16:20.414Z"
   },
   {
    "duration": 14,
    "start_time": "2024-04-18T13:16:20.481Z"
   },
   {
    "duration": 25,
    "start_time": "2024-04-18T13:16:20.496Z"
   },
   {
    "duration": 15,
    "start_time": "2024-04-18T13:16:20.523Z"
   },
   {
    "duration": 69,
    "start_time": "2024-04-18T13:16:20.540Z"
   },
   {
    "duration": 4,
    "start_time": "2024-04-18T13:16:20.610Z"
   },
   {
    "duration": 55,
    "start_time": "2024-04-18T13:16:20.616Z"
   },
   {
    "duration": 6,
    "start_time": "2024-04-18T13:16:20.675Z"
   },
   {
    "duration": 11,
    "start_time": "2024-04-18T13:16:20.683Z"
   },
   {
    "duration": 405113,
    "start_time": "2024-04-18T13:16:20.696Z"
   },
   {
    "duration": 5,
    "start_time": "2024-04-18T13:23:05.811Z"
   },
   {
    "duration": 0,
    "start_time": "2024-04-18T13:23:05.818Z"
   },
   {
    "duration": 0,
    "start_time": "2024-04-18T13:23:05.819Z"
   },
   {
    "duration": 0,
    "start_time": "2024-04-18T13:23:05.820Z"
   },
   {
    "duration": 0,
    "start_time": "2024-04-18T13:23:05.821Z"
   },
   {
    "duration": 28417,
    "start_time": "2024-04-18T13:25:26.313Z"
   },
   {
    "duration": 4,
    "start_time": "2024-04-18T13:26:18.223Z"
   },
   {
    "duration": 137,
    "start_time": "2024-04-18T13:26:18.669Z"
   },
   {
    "duration": 12,
    "start_time": "2024-04-18T13:26:19.812Z"
   },
   {
    "duration": 12,
    "start_time": "2024-04-18T13:26:19.959Z"
   },
   {
    "duration": 1153,
    "start_time": "2024-04-18T13:34:27.508Z"
   },
   {
    "duration": 3560,
    "start_time": "2024-04-18T13:34:28.664Z"
   },
   {
    "duration": 1084,
    "start_time": "2024-04-18T13:34:32.226Z"
   },
   {
    "duration": 190,
    "start_time": "2024-04-18T13:34:33.312Z"
   },
   {
    "duration": 107,
    "start_time": "2024-04-18T13:34:33.504Z"
   },
   {
    "duration": 14,
    "start_time": "2024-04-18T13:34:33.613Z"
   },
   {
    "duration": 63,
    "start_time": "2024-04-18T13:34:33.630Z"
   },
   {
    "duration": 138,
    "start_time": "2024-04-18T13:34:33.698Z"
   },
   {
    "duration": 186,
    "start_time": "2024-04-18T13:34:33.838Z"
   },
   {
    "duration": 136,
    "start_time": "2024-04-18T13:34:34.026Z"
   },
   {
    "duration": 219,
    "start_time": "2024-04-18T13:34:34.164Z"
   },
   {
    "duration": 227,
    "start_time": "2024-04-18T13:34:34.386Z"
   },
   {
    "duration": 175,
    "start_time": "2024-04-18T13:34:34.615Z"
   },
   {
    "duration": 5,
    "start_time": "2024-04-18T13:34:34.792Z"
   },
   {
    "duration": 44,
    "start_time": "2024-04-18T13:34:34.798Z"
   },
   {
    "duration": 10,
    "start_time": "2024-04-18T13:34:34.844Z"
   },
   {
    "duration": 44,
    "start_time": "2024-04-18T13:34:34.856Z"
   },
   {
    "duration": 6,
    "start_time": "2024-04-18T13:34:34.902Z"
   },
   {
    "duration": 31,
    "start_time": "2024-04-18T13:34:34.909Z"
   },
   {
    "duration": 30,
    "start_time": "2024-04-18T13:34:34.942Z"
   },
   {
    "duration": 69,
    "start_time": "2024-04-18T13:34:34.973Z"
   },
   {
    "duration": 9,
    "start_time": "2024-04-18T13:34:35.044Z"
   },
   {
    "duration": 31,
    "start_time": "2024-04-18T13:34:35.054Z"
   },
   {
    "duration": 21,
    "start_time": "2024-04-18T13:34:35.087Z"
   },
   {
    "duration": 67,
    "start_time": "2024-04-18T13:34:35.110Z"
   },
   {
    "duration": 14,
    "start_time": "2024-04-18T13:34:35.179Z"
   },
   {
    "duration": 38,
    "start_time": "2024-04-18T13:34:35.195Z"
   },
   {
    "duration": 51,
    "start_time": "2024-04-18T13:34:35.237Z"
   },
   {
    "duration": 25,
    "start_time": "2024-04-18T13:34:35.291Z"
   },
   {
    "duration": 391684,
    "start_time": "2024-04-18T13:34:35.318Z"
   },
   {
    "duration": 27632,
    "start_time": "2024-04-18T13:41:07.004Z"
   },
   {
    "duration": 44,
    "start_time": "2024-04-18T13:41:34.638Z"
   },
   {
    "duration": 1116,
    "start_time": "2024-04-18T13:45:50.307Z"
   },
   {
    "duration": 3498,
    "start_time": "2024-04-18T13:45:51.425Z"
   },
   {
    "duration": 1014,
    "start_time": "2024-04-18T13:45:54.926Z"
   },
   {
    "duration": 174,
    "start_time": "2024-04-18T13:45:55.942Z"
   },
   {
    "duration": 106,
    "start_time": "2024-04-18T13:45:56.118Z"
   },
   {
    "duration": 13,
    "start_time": "2024-04-18T13:45:56.226Z"
   },
   {
    "duration": 53,
    "start_time": "2024-04-18T13:45:56.241Z"
   },
   {
    "duration": 110,
    "start_time": "2024-04-18T13:45:56.296Z"
   },
   {
    "duration": 141,
    "start_time": "2024-04-18T13:45:56.408Z"
   },
   {
    "duration": 121,
    "start_time": "2024-04-18T13:45:56.552Z"
   },
   {
    "duration": 243,
    "start_time": "2024-04-18T13:45:56.675Z"
   },
   {
    "duration": 216,
    "start_time": "2024-04-18T13:45:56.920Z"
   },
   {
    "duration": 172,
    "start_time": "2024-04-18T13:45:57.138Z"
   },
   {
    "duration": 5,
    "start_time": "2024-04-18T13:45:57.311Z"
   },
   {
    "duration": 33,
    "start_time": "2024-04-18T13:45:57.318Z"
   },
   {
    "duration": 7,
    "start_time": "2024-04-18T13:45:57.353Z"
   },
   {
    "duration": 40,
    "start_time": "2024-04-18T13:45:57.362Z"
   },
   {
    "duration": 8,
    "start_time": "2024-04-18T13:45:57.403Z"
   },
   {
    "duration": 8,
    "start_time": "2024-04-18T13:45:57.412Z"
   },
   {
    "duration": 16,
    "start_time": "2024-04-18T13:45:57.422Z"
   },
   {
    "duration": 107,
    "start_time": "2024-04-18T13:45:57.440Z"
   },
   {
    "duration": 11,
    "start_time": "2024-04-18T13:45:57.549Z"
   },
   {
    "duration": 3,
    "start_time": "2024-04-18T13:45:57.562Z"
   },
   {
    "duration": 32,
    "start_time": "2024-04-18T13:45:57.566Z"
   },
   {
    "duration": 55,
    "start_time": "2024-04-18T13:45:57.600Z"
   },
   {
    "duration": 3,
    "start_time": "2024-04-18T13:45:57.657Z"
   },
   {
    "duration": 17,
    "start_time": "2024-04-18T13:45:57.662Z"
   },
   {
    "duration": 5,
    "start_time": "2024-04-18T13:45:57.691Z"
   },
   {
    "duration": 24,
    "start_time": "2024-04-18T13:45:57.698Z"
   },
   {
    "duration": 505819,
    "start_time": "2024-04-18T13:45:57.723Z"
   },
   {
    "duration": 28162,
    "start_time": "2024-04-18T13:54:23.544Z"
   },
   {
    "duration": 4,
    "start_time": "2024-04-18T13:54:51.708Z"
   },
   {
    "duration": 138,
    "start_time": "2024-04-18T13:54:51.713Z"
   },
   {
    "duration": 0,
    "start_time": "2024-04-18T13:54:51.852Z"
   },
   {
    "duration": 0,
    "start_time": "2024-04-18T13:54:51.854Z"
   },
   {
    "duration": 0,
    "start_time": "2024-04-18T13:54:51.855Z"
   },
   {
    "duration": 1180,
    "start_time": "2024-04-18T13:57:29.736Z"
   },
   {
    "duration": 3364,
    "start_time": "2024-04-18T13:57:30.919Z"
   },
   {
    "duration": 1067,
    "start_time": "2024-04-18T13:57:34.286Z"
   },
   {
    "duration": 221,
    "start_time": "2024-04-18T13:57:35.356Z"
   },
   {
    "duration": 112,
    "start_time": "2024-04-18T13:57:35.593Z"
   },
   {
    "duration": 14,
    "start_time": "2024-04-18T13:57:35.707Z"
   },
   {
    "duration": 56,
    "start_time": "2024-04-18T13:57:35.723Z"
   },
   {
    "duration": 127,
    "start_time": "2024-04-18T13:57:35.781Z"
   },
   {
    "duration": 144,
    "start_time": "2024-04-18T13:57:35.910Z"
   },
   {
    "duration": 110,
    "start_time": "2024-04-18T13:57:36.058Z"
   },
   {
    "duration": 212,
    "start_time": "2024-04-18T13:57:36.170Z"
   },
   {
    "duration": 271,
    "start_time": "2024-04-18T13:57:36.387Z"
   },
   {
    "duration": 168,
    "start_time": "2024-04-18T13:57:36.659Z"
   },
   {
    "duration": 5,
    "start_time": "2024-04-18T13:57:36.828Z"
   },
   {
    "duration": 29,
    "start_time": "2024-04-18T13:57:36.834Z"
   },
   {
    "duration": 20,
    "start_time": "2024-04-18T13:57:36.864Z"
   },
   {
    "duration": 27,
    "start_time": "2024-04-18T13:57:36.887Z"
   },
   {
    "duration": 6,
    "start_time": "2024-04-18T13:57:36.916Z"
   },
   {
    "duration": 17,
    "start_time": "2024-04-18T13:57:36.924Z"
   },
   {
    "duration": 45,
    "start_time": "2024-04-18T13:57:36.943Z"
   },
   {
    "duration": 82,
    "start_time": "2024-04-18T13:57:36.994Z"
   },
   {
    "duration": 14,
    "start_time": "2024-04-18T13:57:37.078Z"
   },
   {
    "duration": 5,
    "start_time": "2024-04-18T13:57:37.094Z"
   },
   {
    "duration": 18,
    "start_time": "2024-04-18T13:57:37.103Z"
   },
   {
    "duration": 73,
    "start_time": "2024-04-18T13:57:37.123Z"
   },
   {
    "duration": 3,
    "start_time": "2024-04-18T13:57:37.197Z"
   },
   {
    "duration": 14,
    "start_time": "2024-04-18T13:57:37.202Z"
   },
   {
    "duration": 43,
    "start_time": "2024-04-18T13:57:37.221Z"
   },
   {
    "duration": 36,
    "start_time": "2024-04-18T13:57:37.266Z"
   },
   {
    "duration": 100328,
    "start_time": "2024-04-18T13:57:37.304Z"
   },
   {
    "duration": 29675,
    "start_time": "2024-04-18T13:59:17.633Z"
   },
   {
    "duration": 4,
    "start_time": "2024-04-18T13:59:47.309Z"
   },
   {
    "duration": 183,
    "start_time": "2024-04-18T13:59:47.315Z"
   },
   {
    "duration": 0,
    "start_time": "2024-04-18T13:59:47.499Z"
   },
   {
    "duration": 0,
    "start_time": "2024-04-18T13:59:47.501Z"
   },
   {
    "duration": 0,
    "start_time": "2024-04-18T13:59:47.502Z"
   },
   {
    "duration": 1155,
    "start_time": "2024-04-18T14:03:31.005Z"
   },
   {
    "duration": 3337,
    "start_time": "2024-04-18T14:03:32.162Z"
   },
   {
    "duration": 1013,
    "start_time": "2024-04-18T14:03:35.501Z"
   },
   {
    "duration": 180,
    "start_time": "2024-04-18T14:03:36.517Z"
   },
   {
    "duration": 119,
    "start_time": "2024-04-18T14:03:36.699Z"
   },
   {
    "duration": 21,
    "start_time": "2024-04-18T14:03:36.820Z"
   },
   {
    "duration": 29,
    "start_time": "2024-04-18T14:03:36.842Z"
   },
   {
    "duration": 121,
    "start_time": "2024-04-18T14:03:36.873Z"
   },
   {
    "duration": 131,
    "start_time": "2024-04-18T14:03:36.995Z"
   },
   {
    "duration": 106,
    "start_time": "2024-04-18T14:03:37.129Z"
   },
   {
    "duration": 206,
    "start_time": "2024-04-18T14:03:37.237Z"
   },
   {
    "duration": 216,
    "start_time": "2024-04-18T14:03:37.445Z"
   },
   {
    "duration": 151,
    "start_time": "2024-04-18T14:03:37.663Z"
   },
   {
    "duration": 3,
    "start_time": "2024-04-18T14:03:37.816Z"
   },
   {
    "duration": 22,
    "start_time": "2024-04-18T14:03:37.821Z"
   },
   {
    "duration": 5,
    "start_time": "2024-04-18T14:03:37.845Z"
   },
   {
    "duration": 57,
    "start_time": "2024-04-18T14:03:37.852Z"
   },
   {
    "duration": 7,
    "start_time": "2024-04-18T14:03:37.911Z"
   },
   {
    "duration": 9,
    "start_time": "2024-04-18T14:03:37.920Z"
   },
   {
    "duration": 18,
    "start_time": "2024-04-18T14:03:37.931Z"
   },
   {
    "duration": 75,
    "start_time": "2024-04-18T14:03:37.950Z"
   },
   {
    "duration": 9,
    "start_time": "2024-04-18T14:03:38.026Z"
   },
   {
    "duration": 2,
    "start_time": "2024-04-18T14:03:38.036Z"
   },
   {
    "duration": 14,
    "start_time": "2024-04-18T14:03:38.039Z"
   },
   {
    "duration": 62,
    "start_time": "2024-04-18T14:03:38.054Z"
   },
   {
    "duration": 3,
    "start_time": "2024-04-18T14:03:38.118Z"
   },
   {
    "duration": 6,
    "start_time": "2024-04-18T14:03:38.122Z"
   },
   {
    "duration": 1204,
    "start_time": "2024-04-18T14:04:02.364Z"
   },
   {
    "duration": 3284,
    "start_time": "2024-04-18T14:04:03.570Z"
   },
   {
    "duration": 1037,
    "start_time": "2024-04-18T14:04:06.856Z"
   },
   {
    "duration": 159,
    "start_time": "2024-04-18T14:04:07.894Z"
   },
   {
    "duration": 110,
    "start_time": "2024-04-18T14:04:08.055Z"
   },
   {
    "duration": 29,
    "start_time": "2024-04-18T14:04:08.167Z"
   },
   {
    "duration": 22,
    "start_time": "2024-04-18T14:04:08.200Z"
   },
   {
    "duration": 115,
    "start_time": "2024-04-18T14:04:08.224Z"
   },
   {
    "duration": 151,
    "start_time": "2024-04-18T14:04:08.341Z"
   },
   {
    "duration": 112,
    "start_time": "2024-04-18T14:04:08.495Z"
   },
   {
    "duration": 248,
    "start_time": "2024-04-18T14:04:08.609Z"
   },
   {
    "duration": 218,
    "start_time": "2024-04-18T14:04:08.859Z"
   },
   {
    "duration": 148,
    "start_time": "2024-04-18T14:04:09.080Z"
   },
   {
    "duration": 4,
    "start_time": "2024-04-18T14:04:09.230Z"
   },
   {
    "duration": 22,
    "start_time": "2024-04-18T14:04:09.236Z"
   },
   {
    "duration": 27,
    "start_time": "2024-04-18T14:04:09.260Z"
   },
   {
    "duration": 23,
    "start_time": "2024-04-18T14:04:09.291Z"
   },
   {
    "duration": 5,
    "start_time": "2024-04-18T14:04:09.316Z"
   },
   {
    "duration": 18,
    "start_time": "2024-04-18T14:04:09.323Z"
   },
   {
    "duration": 20,
    "start_time": "2024-04-18T14:04:09.343Z"
   },
   {
    "duration": 67,
    "start_time": "2024-04-18T14:04:09.364Z"
   },
   {
    "duration": 8,
    "start_time": "2024-04-18T14:04:09.433Z"
   },
   {
    "duration": 24,
    "start_time": "2024-04-18T14:04:09.442Z"
   },
   {
    "duration": 25,
    "start_time": "2024-04-18T14:04:09.468Z"
   },
   {
    "duration": 43,
    "start_time": "2024-04-18T14:04:09.494Z"
   },
   {
    "duration": 2,
    "start_time": "2024-04-18T14:04:09.539Z"
   },
   {
    "duration": 5,
    "start_time": "2024-04-18T14:04:09.543Z"
   },
   {
    "duration": 17,
    "start_time": "2024-04-18T14:04:09.549Z"
   },
   {
    "duration": 10,
    "start_time": "2024-04-18T14:04:09.568Z"
   },
   {
    "duration": 98208,
    "start_time": "2024-04-18T14:04:09.580Z"
   },
   {
    "duration": 31728,
    "start_time": "2024-04-18T14:05:47.790Z"
   },
   {
    "duration": 3,
    "start_time": "2024-04-18T14:06:19.520Z"
   },
   {
    "duration": 177,
    "start_time": "2024-04-18T14:06:19.525Z"
   },
   {
    "duration": 0,
    "start_time": "2024-04-18T14:06:19.704Z"
   },
   {
    "duration": 0,
    "start_time": "2024-04-18T14:06:19.705Z"
   },
   {
    "duration": 0,
    "start_time": "2024-04-18T14:06:19.706Z"
   },
   {
    "duration": 1081,
    "start_time": "2024-04-18T14:07:24.124Z"
   },
   {
    "duration": 3111,
    "start_time": "2024-04-18T14:07:25.207Z"
   },
   {
    "duration": 988,
    "start_time": "2024-04-18T14:07:28.320Z"
   },
   {
    "duration": 151,
    "start_time": "2024-04-18T14:07:29.310Z"
   },
   {
    "duration": 104,
    "start_time": "2024-04-18T14:07:29.463Z"
   },
   {
    "duration": 23,
    "start_time": "2024-04-18T14:07:29.568Z"
   },
   {
    "duration": 38,
    "start_time": "2024-04-18T14:07:29.593Z"
   },
   {
    "duration": 100,
    "start_time": "2024-04-18T14:07:29.633Z"
   },
   {
    "duration": 190,
    "start_time": "2024-04-18T14:07:29.735Z"
   },
   {
    "duration": 107,
    "start_time": "2024-04-18T14:07:29.928Z"
   },
   {
    "duration": 246,
    "start_time": "2024-04-18T14:07:30.037Z"
   },
   {
    "duration": 203,
    "start_time": "2024-04-18T14:07:30.285Z"
   },
   {
    "duration": 206,
    "start_time": "2024-04-18T14:07:30.490Z"
   },
   {
    "duration": 37,
    "start_time": "2024-04-18T14:07:30.697Z"
   },
   {
    "duration": 130,
    "start_time": "2024-04-18T14:07:30.735Z"
   },
   {
    "duration": 54,
    "start_time": "2024-04-18T14:07:30.867Z"
   },
   {
    "duration": 59,
    "start_time": "2024-04-18T14:07:30.923Z"
   },
   {
    "duration": 33,
    "start_time": "2024-04-18T14:07:30.984Z"
   },
   {
    "duration": 42,
    "start_time": "2024-04-18T14:07:31.019Z"
   },
   {
    "duration": 67,
    "start_time": "2024-04-18T14:07:31.063Z"
   },
   {
    "duration": 95,
    "start_time": "2024-04-18T14:07:31.132Z"
   },
   {
    "duration": 10,
    "start_time": "2024-04-18T14:07:31.229Z"
   },
   {
    "duration": 30,
    "start_time": "2024-04-18T14:07:31.241Z"
   },
   {
    "duration": 63,
    "start_time": "2024-04-18T14:07:31.273Z"
   },
   {
    "duration": 89,
    "start_time": "2024-04-18T14:07:31.339Z"
   },
   {
    "duration": 3,
    "start_time": "2024-04-18T14:07:31.429Z"
   },
   {
    "duration": 73,
    "start_time": "2024-04-18T14:07:31.434Z"
   },
   {
    "duration": 89,
    "start_time": "2024-04-18T14:07:31.510Z"
   },
   {
    "duration": 57,
    "start_time": "2024-04-18T14:07:31.600Z"
   },
   {
    "duration": 20760,
    "start_time": "2024-04-18T14:07:31.659Z"
   },
   {
    "duration": 36490,
    "start_time": "2024-04-18T14:07:52.420Z"
   },
   {
    "duration": 3,
    "start_time": "2024-04-18T14:08:28.911Z"
   },
   {
    "duration": 92988,
    "start_time": "2024-04-18T14:08:28.916Z"
   },
   {
    "duration": 223058,
    "start_time": "2024-04-18T14:10:01.906Z"
   },
   {
    "duration": 108,
    "start_time": "2024-04-18T14:13:44.980Z"
   },
   {
    "duration": 0,
    "start_time": "2024-04-18T14:13:45.090Z"
   },
   {
    "duration": 34,
    "start_time": "2024-04-18T14:17:39.699Z"
   },
   {
    "duration": 31,
    "start_time": "2024-04-18T14:18:07.202Z"
   },
   {
    "duration": 27,
    "start_time": "2024-04-18T14:18:40.908Z"
   },
   {
    "duration": 25,
    "start_time": "2024-04-18T14:18:46.635Z"
   },
   {
    "duration": 20,
    "start_time": "2024-04-18T14:18:55.493Z"
   },
   {
    "duration": 15,
    "start_time": "2024-04-18T14:19:08.749Z"
   },
   {
    "duration": 1076,
    "start_time": "2024-04-18T14:19:19.196Z"
   },
   {
    "duration": 3208,
    "start_time": "2024-04-18T14:19:20.275Z"
   },
   {
    "duration": 982,
    "start_time": "2024-04-18T14:19:23.486Z"
   },
   {
    "duration": 171,
    "start_time": "2024-04-18T14:19:24.470Z"
   },
   {
    "duration": 114,
    "start_time": "2024-04-18T14:19:24.643Z"
   },
   {
    "duration": 21,
    "start_time": "2024-04-18T14:19:24.759Z"
   },
   {
    "duration": 28,
    "start_time": "2024-04-18T14:19:24.782Z"
   },
   {
    "duration": 113,
    "start_time": "2024-04-18T14:19:24.812Z"
   },
   {
    "duration": 136,
    "start_time": "2024-04-18T14:19:24.926Z"
   },
   {
    "duration": 97,
    "start_time": "2024-04-18T14:19:25.064Z"
   },
   {
    "duration": 197,
    "start_time": "2024-04-18T14:19:25.163Z"
   },
   {
    "duration": 201,
    "start_time": "2024-04-18T14:19:25.362Z"
   },
   {
    "duration": 161,
    "start_time": "2024-04-18T14:19:25.565Z"
   },
   {
    "duration": 4,
    "start_time": "2024-04-18T14:19:25.727Z"
   },
   {
    "duration": 49,
    "start_time": "2024-04-18T14:19:25.733Z"
   },
   {
    "duration": 8,
    "start_time": "2024-04-18T14:19:25.784Z"
   },
   {
    "duration": 33,
    "start_time": "2024-04-18T14:19:25.794Z"
   },
   {
    "duration": 7,
    "start_time": "2024-04-18T14:19:25.829Z"
   },
   {
    "duration": 11,
    "start_time": "2024-04-18T14:19:25.838Z"
   },
   {
    "duration": 40,
    "start_time": "2024-04-18T14:19:25.850Z"
   },
   {
    "duration": 55,
    "start_time": "2024-04-18T14:19:25.892Z"
   },
   {
    "duration": 9,
    "start_time": "2024-04-18T14:19:25.949Z"
   },
   {
    "duration": 20,
    "start_time": "2024-04-18T14:19:25.960Z"
   },
   {
    "duration": 11,
    "start_time": "2024-04-18T14:19:25.982Z"
   },
   {
    "duration": 47,
    "start_time": "2024-04-18T14:19:25.995Z"
   },
   {
    "duration": 3,
    "start_time": "2024-04-18T14:19:26.043Z"
   },
   {
    "duration": 4,
    "start_time": "2024-04-18T14:19:26.048Z"
   },
   {
    "duration": 3,
    "start_time": "2024-04-18T14:19:26.080Z"
   },
   {
    "duration": 35,
    "start_time": "2024-04-18T14:19:26.085Z"
   },
   {
    "duration": 238904,
    "start_time": "2024-04-18T14:19:26.121Z"
   },
   {
    "duration": 33503,
    "start_time": "2024-04-18T14:23:25.027Z"
   },
   {
    "duration": 5,
    "start_time": "2024-04-18T14:23:58.533Z"
   },
   {
    "duration": 993954,
    "start_time": "2024-04-18T14:23:58.540Z"
   },
   {
    "duration": 149,
    "start_time": "2024-04-18T14:40:32.496Z"
   },
   {
    "duration": 0,
    "start_time": "2024-04-18T14:40:32.646Z"
   },
   {
    "duration": 0,
    "start_time": "2024-04-18T14:40:32.648Z"
   },
   {
    "duration": 0,
    "start_time": "2024-04-18T14:40:32.649Z"
   },
   {
    "duration": 0,
    "start_time": "2024-04-18T14:40:32.651Z"
   },
   {
    "duration": 1194,
    "start_time": "2024-04-18T15:21:02.451Z"
   },
   {
    "duration": 3299,
    "start_time": "2024-04-18T15:21:03.647Z"
   },
   {
    "duration": 1060,
    "start_time": "2024-04-18T15:21:06.948Z"
   },
   {
    "duration": 179,
    "start_time": "2024-04-18T15:21:08.010Z"
   },
   {
    "duration": 111,
    "start_time": "2024-04-18T15:21:08.191Z"
   },
   {
    "duration": 15,
    "start_time": "2024-04-18T15:21:08.303Z"
   },
   {
    "duration": 47,
    "start_time": "2024-04-18T15:21:08.319Z"
   },
   {
    "duration": 103,
    "start_time": "2024-04-18T15:21:08.367Z"
   },
   {
    "duration": 144,
    "start_time": "2024-04-18T15:21:08.471Z"
   },
   {
    "duration": 109,
    "start_time": "2024-04-18T15:21:08.618Z"
   },
   {
    "duration": 211,
    "start_time": "2024-04-18T15:21:08.729Z"
   },
   {
    "duration": 238,
    "start_time": "2024-04-18T15:21:08.942Z"
   },
   {
    "duration": 149,
    "start_time": "2024-04-18T15:21:09.182Z"
   },
   {
    "duration": 4,
    "start_time": "2024-04-18T15:21:09.333Z"
   },
   {
    "duration": 40,
    "start_time": "2024-04-18T15:21:09.340Z"
   },
   {
    "duration": 6,
    "start_time": "2024-04-18T15:21:09.382Z"
   },
   {
    "duration": 32,
    "start_time": "2024-04-18T15:21:09.389Z"
   },
   {
    "duration": 6,
    "start_time": "2024-04-18T15:21:09.423Z"
   },
   {
    "duration": 10,
    "start_time": "2024-04-18T15:21:09.431Z"
   },
   {
    "duration": 47,
    "start_time": "2024-04-18T15:21:09.442Z"
   },
   {
    "duration": 56,
    "start_time": "2024-04-18T15:21:09.490Z"
   },
   {
    "duration": 11,
    "start_time": "2024-04-18T15:21:09.548Z"
   },
   {
    "duration": 19,
    "start_time": "2024-04-18T15:21:09.561Z"
   },
   {
    "duration": 23,
    "start_time": "2024-04-18T15:21:09.582Z"
   },
   {
    "duration": 56,
    "start_time": "2024-04-18T15:21:09.608Z"
   },
   {
    "duration": 14,
    "start_time": "2024-04-18T15:21:09.666Z"
   },
   {
    "duration": 4,
    "start_time": "2024-04-18T15:21:09.683Z"
   },
   {
    "duration": 6,
    "start_time": "2024-04-18T15:21:09.692Z"
   },
   {
    "duration": 11,
    "start_time": "2024-04-18T15:21:09.700Z"
   },
   {
    "duration": 224928,
    "start_time": "2024-04-18T15:21:09.713Z"
   },
   {
    "duration": 35344,
    "start_time": "2024-04-18T15:24:54.643Z"
   },
   {
    "duration": 4,
    "start_time": "2024-04-18T15:25:29.990Z"
   },
   {
    "duration": 1218823,
    "start_time": "2024-04-18T15:25:29.996Z"
   },
   {
    "duration": 155,
    "start_time": "2024-04-18T15:45:48.821Z"
   },
   {
    "duration": 0,
    "start_time": "2024-04-18T15:45:48.980Z"
   },
   {
    "duration": 0,
    "start_time": "2024-04-18T15:45:48.981Z"
   },
   {
    "duration": 0,
    "start_time": "2024-04-18T15:45:48.982Z"
   },
   {
    "duration": 0,
    "start_time": "2024-04-18T15:45:48.984Z"
   },
   {
    "duration": 3,
    "start_time": "2024-04-18T15:49:36.724Z"
   },
   {
    "duration": 350287,
    "start_time": "2024-04-18T15:49:39.724Z"
   },
   {
    "duration": 36,
    "start_time": "2024-04-18T15:55:44.946Z"
   },
   {
    "duration": 23,
    "start_time": "2024-04-18T15:55:47.754Z"
   },
   {
    "duration": 26,
    "start_time": "2024-04-18T15:55:51.323Z"
   },
   {
    "duration": 18,
    "start_time": "2024-04-18T15:55:52.358Z"
   },
   {
    "duration": 4,
    "start_time": "2024-04-18T15:56:39.803Z"
   },
   {
    "duration": 28,
    "start_time": "2024-04-18T15:56:45.005Z"
   },
   {
    "duration": 5,
    "start_time": "2024-04-18T15:57:08.817Z"
   },
   {
    "duration": 372545,
    "start_time": "2024-04-18T15:57:12.273Z"
   },
   {
    "duration": 22,
    "start_time": "2024-04-18T16:04:07.162Z"
   },
   {
    "duration": 21,
    "start_time": "2024-04-18T16:04:08.520Z"
   },
   {
    "duration": 27,
    "start_time": "2024-04-18T16:04:12.850Z"
   },
   {
    "duration": 13,
    "start_time": "2024-04-18T16:04:13.190Z"
   },
   {
    "duration": 4,
    "start_time": "2024-04-18T16:06:40.765Z"
   },
   {
    "duration": 10,
    "start_time": "2024-04-18T16:06:40.934Z"
   },
   {
    "duration": 1221,
    "start_time": "2024-04-18T16:07:16.189Z"
   },
   {
    "duration": 3211,
    "start_time": "2024-04-18T16:07:17.412Z"
   },
   {
    "duration": 990,
    "start_time": "2024-04-18T16:07:20.625Z"
   },
   {
    "duration": 165,
    "start_time": "2024-04-18T16:07:21.617Z"
   },
   {
    "duration": 116,
    "start_time": "2024-04-18T16:07:21.784Z"
   },
   {
    "duration": 14,
    "start_time": "2024-04-18T16:07:21.902Z"
   },
   {
    "duration": 70,
    "start_time": "2024-04-18T16:07:21.918Z"
   },
   {
    "duration": 160,
    "start_time": "2024-04-18T16:07:21.990Z"
   },
   {
    "duration": 137,
    "start_time": "2024-04-18T16:07:22.153Z"
   },
   {
    "duration": 119,
    "start_time": "2024-04-18T16:07:22.291Z"
   },
   {
    "duration": 209,
    "start_time": "2024-04-18T16:07:22.411Z"
   },
   {
    "duration": 216,
    "start_time": "2024-04-18T16:07:22.622Z"
   },
   {
    "duration": 158,
    "start_time": "2024-04-18T16:07:22.840Z"
   },
   {
    "duration": 6,
    "start_time": "2024-04-18T16:07:23.003Z"
   },
   {
    "duration": 55,
    "start_time": "2024-04-18T16:07:23.011Z"
   },
   {
    "duration": 23,
    "start_time": "2024-04-18T16:07:23.068Z"
   },
   {
    "duration": 88,
    "start_time": "2024-04-18T16:07:23.093Z"
   },
   {
    "duration": 7,
    "start_time": "2024-04-18T16:07:23.183Z"
   },
   {
    "duration": 21,
    "start_time": "2024-04-18T16:07:23.192Z"
   },
   {
    "duration": 31,
    "start_time": "2024-04-18T16:07:23.216Z"
   },
   {
    "duration": 55,
    "start_time": "2024-04-18T16:07:23.249Z"
   },
   {
    "duration": 10,
    "start_time": "2024-04-18T16:07:23.306Z"
   },
   {
    "duration": 30,
    "start_time": "2024-04-18T16:07:23.317Z"
   },
   {
    "duration": 27,
    "start_time": "2024-04-18T16:07:23.349Z"
   },
   {
    "duration": 46,
    "start_time": "2024-04-18T16:07:23.378Z"
   },
   {
    "duration": 3,
    "start_time": "2024-04-18T16:07:23.425Z"
   },
   {
    "duration": 20,
    "start_time": "2024-04-18T16:07:23.430Z"
   },
   {
    "duration": 38,
    "start_time": "2024-04-18T16:07:23.452Z"
   },
   {
    "duration": 12,
    "start_time": "2024-04-18T16:07:23.492Z"
   },
   {
    "duration": 296010,
    "start_time": "2024-04-18T16:07:23.505Z"
   },
   {
    "duration": 1162,
    "start_time": "2024-04-18T16:40:11.998Z"
   },
   {
    "duration": 3288,
    "start_time": "2024-04-18T16:40:13.162Z"
   },
   {
    "duration": 1030,
    "start_time": "2024-04-18T16:40:16.452Z"
   },
   {
    "duration": 157,
    "start_time": "2024-04-18T16:40:17.484Z"
   },
   {
    "duration": 116,
    "start_time": "2024-04-18T16:40:17.643Z"
   },
   {
    "duration": 23,
    "start_time": "2024-04-18T16:40:17.761Z"
   },
   {
    "duration": 89,
    "start_time": "2024-04-18T16:40:17.785Z"
   },
   {
    "duration": 171,
    "start_time": "2024-04-18T16:40:17.876Z"
   },
   {
    "duration": 162,
    "start_time": "2024-04-18T16:40:18.049Z"
   },
   {
    "duration": 105,
    "start_time": "2024-04-18T16:40:18.213Z"
   },
   {
    "duration": 200,
    "start_time": "2024-04-18T16:40:18.320Z"
   },
   {
    "duration": 235,
    "start_time": "2024-04-18T16:40:18.522Z"
   },
   {
    "duration": 151,
    "start_time": "2024-04-18T16:40:18.759Z"
   },
   {
    "duration": 5,
    "start_time": "2024-04-18T16:40:18.913Z"
   },
   {
    "duration": 45,
    "start_time": "2024-04-18T16:40:18.919Z"
   },
   {
    "duration": 8,
    "start_time": "2024-04-18T16:40:18.966Z"
   },
   {
    "duration": 33,
    "start_time": "2024-04-18T16:40:18.976Z"
   },
   {
    "duration": 6,
    "start_time": "2024-04-18T16:40:19.011Z"
   },
   {
    "duration": 78,
    "start_time": "2024-04-18T16:40:19.018Z"
   },
   {
    "duration": 38,
    "start_time": "2024-04-18T16:40:19.098Z"
   },
   {
    "duration": 88,
    "start_time": "2024-04-18T16:40:19.138Z"
   },
   {
    "duration": 14,
    "start_time": "2024-04-18T16:40:19.228Z"
   },
   {
    "duration": 3,
    "start_time": "2024-04-18T16:40:19.245Z"
   },
   {
    "duration": 32,
    "start_time": "2024-04-18T16:40:19.250Z"
   },
   {
    "duration": 60,
    "start_time": "2024-04-18T16:40:19.284Z"
   },
   {
    "duration": 4,
    "start_time": "2024-04-18T16:40:19.345Z"
   },
   {
    "duration": 25,
    "start_time": "2024-04-18T16:40:19.350Z"
   },
   {
    "duration": 20,
    "start_time": "2024-04-18T16:40:19.377Z"
   },
   {
    "duration": 11,
    "start_time": "2024-04-18T16:40:19.399Z"
   },
   {
    "duration": 400137,
    "start_time": "2024-04-18T16:40:19.412Z"
   },
   {
    "duration": 1212,
    "start_time": "2024-04-18T17:17:37.947Z"
   },
   {
    "duration": 3225,
    "start_time": "2024-04-18T17:17:39.161Z"
   },
   {
    "duration": 1059,
    "start_time": "2024-04-18T17:17:42.388Z"
   },
   {
    "duration": 164,
    "start_time": "2024-04-18T17:17:43.449Z"
   },
   {
    "duration": 119,
    "start_time": "2024-04-18T17:17:43.614Z"
   },
   {
    "duration": 23,
    "start_time": "2024-04-18T17:17:43.735Z"
   },
   {
    "duration": 49,
    "start_time": "2024-04-18T17:17:43.761Z"
   },
   {
    "duration": 109,
    "start_time": "2024-04-18T17:17:43.812Z"
   },
   {
    "duration": 154,
    "start_time": "2024-04-18T17:17:43.922Z"
   },
   {
    "duration": 107,
    "start_time": "2024-04-18T17:17:44.079Z"
   },
   {
    "duration": 201,
    "start_time": "2024-04-18T17:17:44.188Z"
   },
   {
    "duration": 215,
    "start_time": "2024-04-18T17:17:44.391Z"
   },
   {
    "duration": 151,
    "start_time": "2024-04-18T17:17:44.608Z"
   },
   {
    "duration": 3,
    "start_time": "2024-04-18T17:17:44.761Z"
   },
   {
    "duration": 34,
    "start_time": "2024-04-18T17:17:44.766Z"
   },
   {
    "duration": 6,
    "start_time": "2024-04-18T17:17:44.802Z"
   },
   {
    "duration": 33,
    "start_time": "2024-04-18T17:17:44.809Z"
   },
   {
    "duration": 6,
    "start_time": "2024-04-18T17:17:44.844Z"
   },
   {
    "duration": 10,
    "start_time": "2024-04-18T17:17:44.852Z"
   },
   {
    "duration": 17,
    "start_time": "2024-04-18T17:17:44.879Z"
   },
   {
    "duration": 56,
    "start_time": "2024-04-18T17:17:44.898Z"
   },
   {
    "duration": 30,
    "start_time": "2024-04-18T17:17:44.956Z"
   },
   {
    "duration": 2,
    "start_time": "2024-04-18T17:17:44.988Z"
   },
   {
    "duration": 16,
    "start_time": "2024-04-18T17:17:44.992Z"
   },
   {
    "duration": 49,
    "start_time": "2024-04-18T17:17:45.010Z"
   },
   {
    "duration": 19,
    "start_time": "2024-04-18T17:17:45.061Z"
   },
   {
    "duration": 84,
    "start_time": "2024-04-18T17:17:45.082Z"
   },
   {
    "duration": 24,
    "start_time": "2024-04-18T17:17:45.171Z"
   },
   {
    "duration": 30,
    "start_time": "2024-04-18T17:17:45.196Z"
   },
   {
    "duration": 302215,
    "start_time": "2024-04-18T17:17:45.228Z"
   },
   {
    "duration": 1081,
    "start_time": "2024-04-18T17:47:48.881Z"
   },
   {
    "duration": 3064,
    "start_time": "2024-04-18T17:47:49.964Z"
   },
   {
    "duration": 954,
    "start_time": "2024-04-18T17:47:53.030Z"
   },
   {
    "duration": 152,
    "start_time": "2024-04-18T17:47:53.986Z"
   },
   {
    "duration": 106,
    "start_time": "2024-04-18T17:47:54.140Z"
   },
   {
    "duration": 16,
    "start_time": "2024-04-18T17:47:54.247Z"
   },
   {
    "duration": 28,
    "start_time": "2024-04-18T17:47:54.279Z"
   },
   {
    "duration": 106,
    "start_time": "2024-04-18T17:47:54.308Z"
   },
   {
    "duration": 141,
    "start_time": "2024-04-18T17:47:54.415Z"
   },
   {
    "duration": 112,
    "start_time": "2024-04-18T17:47:54.559Z"
   },
   {
    "duration": 184,
    "start_time": "2024-04-18T17:47:54.672Z"
   },
   {
    "duration": 211,
    "start_time": "2024-04-18T17:47:54.858Z"
   },
   {
    "duration": 157,
    "start_time": "2024-04-18T17:47:55.071Z"
   },
   {
    "duration": 5,
    "start_time": "2024-04-18T17:47:55.230Z"
   },
   {
    "duration": 44,
    "start_time": "2024-04-18T17:47:55.237Z"
   },
   {
    "duration": 6,
    "start_time": "2024-04-18T17:47:55.283Z"
   },
   {
    "duration": 26,
    "start_time": "2024-04-18T17:47:55.290Z"
   },
   {
    "duration": 13,
    "start_time": "2024-04-18T17:47:55.317Z"
   },
   {
    "duration": 10,
    "start_time": "2024-04-18T17:47:55.332Z"
   },
   {
    "duration": 51,
    "start_time": "2024-04-18T17:47:55.344Z"
   },
   {
    "duration": 54,
    "start_time": "2024-04-18T17:47:55.397Z"
   },
   {
    "duration": 28,
    "start_time": "2024-04-18T17:47:55.452Z"
   },
   {
    "duration": 2,
    "start_time": "2024-04-18T17:47:55.482Z"
   },
   {
    "duration": 14,
    "start_time": "2024-04-18T17:47:55.486Z"
   },
   {
    "duration": 82,
    "start_time": "2024-04-18T17:47:55.502Z"
   },
   {
    "duration": 3,
    "start_time": "2024-04-18T17:47:55.586Z"
   },
   {
    "duration": 5,
    "start_time": "2024-04-18T17:47:55.591Z"
   },
   {
    "duration": 3,
    "start_time": "2024-04-18T17:47:55.600Z"
   },
   {
    "duration": 5,
    "start_time": "2024-04-18T17:47:55.605Z"
   },
   {
    "duration": 414409,
    "start_time": "2024-04-18T17:47:55.612Z"
   },
   {
    "duration": 1090,
    "start_time": "2024-04-18T20:03:53.193Z"
   },
   {
    "duration": 3169,
    "start_time": "2024-04-18T20:03:54.285Z"
   },
   {
    "duration": 970,
    "start_time": "2024-04-18T20:03:57.457Z"
   },
   {
    "duration": 176,
    "start_time": "2024-04-18T20:03:58.428Z"
   },
   {
    "duration": 121,
    "start_time": "2024-04-18T20:03:58.607Z"
   },
   {
    "duration": 16,
    "start_time": "2024-04-18T20:03:58.730Z"
   },
   {
    "duration": 48,
    "start_time": "2024-04-18T20:03:58.748Z"
   },
   {
    "duration": 113,
    "start_time": "2024-04-18T20:03:58.798Z"
   },
   {
    "duration": 122,
    "start_time": "2024-04-18T20:03:58.912Z"
   },
   {
    "duration": 115,
    "start_time": "2024-04-18T20:03:59.035Z"
   },
   {
    "duration": 187,
    "start_time": "2024-04-18T20:03:59.152Z"
   },
   {
    "duration": 249,
    "start_time": "2024-04-18T20:03:59.341Z"
   },
   {
    "duration": 148,
    "start_time": "2024-04-18T20:03:59.592Z"
   },
   {
    "duration": 4,
    "start_time": "2024-04-18T20:03:59.743Z"
   },
   {
    "duration": 34,
    "start_time": "2024-04-18T20:03:59.749Z"
   },
   {
    "duration": 6,
    "start_time": "2024-04-18T20:03:59.785Z"
   },
   {
    "duration": 24,
    "start_time": "2024-04-18T20:03:59.793Z"
   },
   {
    "duration": 5,
    "start_time": "2024-04-18T20:03:59.819Z"
   },
   {
    "duration": 7,
    "start_time": "2024-04-18T20:03:59.825Z"
   },
   {
    "duration": 47,
    "start_time": "2024-04-18T20:03:59.834Z"
   },
   {
    "duration": 52,
    "start_time": "2024-04-18T20:03:59.882Z"
   },
   {
    "duration": 10,
    "start_time": "2024-04-18T20:03:59.935Z"
   },
   {
    "duration": 3,
    "start_time": "2024-04-18T20:03:59.946Z"
   },
   {
    "duration": 30,
    "start_time": "2024-04-18T20:03:59.950Z"
   },
   {
    "duration": 45,
    "start_time": "2024-04-18T20:03:59.982Z"
   },
   {
    "duration": 3,
    "start_time": "2024-04-18T20:04:00.029Z"
   },
   {
    "duration": 37,
    "start_time": "2024-04-18T20:04:00.033Z"
   },
   {
    "duration": 45,
    "start_time": "2024-04-18T20:04:00.072Z"
   },
   {
    "duration": 66,
    "start_time": "2024-04-18T20:04:00.118Z"
   },
   {
    "duration": 170730,
    "start_time": "2024-04-18T20:04:00.186Z"
   },
   {
    "duration": 44704,
    "start_time": "2024-04-18T20:06:50.918Z"
   },
   {
    "duration": 86,
    "start_time": "2024-04-18T20:07:35.624Z"
   },
   {
    "duration": 0,
    "start_time": "2024-04-18T20:07:35.711Z"
   },
   {
    "duration": 0,
    "start_time": "2024-04-18T20:07:35.712Z"
   },
   {
    "duration": 0,
    "start_time": "2024-04-18T20:07:35.714Z"
   },
   {
    "duration": 0,
    "start_time": "2024-04-18T20:07:35.715Z"
   },
   {
    "duration": 0,
    "start_time": "2024-04-18T20:07:35.716Z"
   },
   {
    "duration": 0,
    "start_time": "2024-04-18T20:07:35.717Z"
   },
   {
    "duration": 4,
    "start_time": "2024-04-18T20:07:53.836Z"
   },
   {
    "duration": 959288,
    "start_time": "2024-04-18T20:07:55.523Z"
   },
   {
    "duration": 800338,
    "start_time": "2024-04-18T20:23:54.813Z"
   },
   {
    "duration": 30,
    "start_time": "2024-04-18T20:37:15.152Z"
   },
   {
    "duration": 56,
    "start_time": "2024-04-18T20:37:15.184Z"
   },
   {
    "duration": 62,
    "start_time": "2024-04-18T20:37:15.242Z"
   },
   {
    "duration": 44,
    "start_time": "2024-04-18T20:37:15.306Z"
   },
   {
    "duration": 13,
    "start_time": "2024-04-18T20:43:55.693Z"
   },
   {
    "duration": 22,
    "start_time": "2024-04-18T20:43:58.855Z"
   },
   {
    "duration": 4,
    "start_time": "2024-04-18T20:46:15.369Z"
   },
   {
    "duration": 4,
    "start_time": "2024-04-18T20:47:01.669Z"
   },
   {
    "duration": 44,
    "start_time": "2024-04-19T07:48:55.327Z"
   },
   {
    "duration": 2036,
    "start_time": "2024-04-19T07:51:57.075Z"
   },
   {
    "duration": 1278,
    "start_time": "2024-04-19T08:02:44.533Z"
   },
   {
    "duration": 6328,
    "start_time": "2024-04-19T08:02:45.813Z"
   },
   {
    "duration": 2891,
    "start_time": "2024-04-19T08:02:52.144Z"
   },
   {
    "duration": 132,
    "start_time": "2024-04-19T08:02:55.037Z"
   },
   {
    "duration": 100,
    "start_time": "2024-04-19T08:02:55.171Z"
   },
   {
    "duration": 12,
    "start_time": "2024-04-19T08:02:55.273Z"
   },
   {
    "duration": 40,
    "start_time": "2024-04-19T08:02:55.286Z"
   },
   {
    "duration": 93,
    "start_time": "2024-04-19T08:02:55.328Z"
   },
   {
    "duration": 128,
    "start_time": "2024-04-19T08:02:55.423Z"
   },
   {
    "duration": 92,
    "start_time": "2024-04-19T08:02:55.554Z"
   },
   {
    "duration": 159,
    "start_time": "2024-04-19T08:02:55.647Z"
   },
   {
    "duration": 191,
    "start_time": "2024-04-19T08:02:55.808Z"
   },
   {
    "duration": 128,
    "start_time": "2024-04-19T08:02:56.000Z"
   },
   {
    "duration": 4,
    "start_time": "2024-04-19T08:02:56.129Z"
   },
   {
    "duration": 31,
    "start_time": "2024-04-19T08:02:56.135Z"
   },
   {
    "duration": 5,
    "start_time": "2024-04-19T08:02:56.168Z"
   },
   {
    "duration": 38,
    "start_time": "2024-04-19T08:02:56.174Z"
   },
   {
    "duration": 21,
    "start_time": "2024-04-19T08:02:56.214Z"
   },
   {
    "duration": 12,
    "start_time": "2024-04-19T08:02:56.237Z"
   },
   {
    "duration": 33,
    "start_time": "2024-04-19T08:02:56.251Z"
   },
   {
    "duration": 69,
    "start_time": "2024-04-19T08:02:56.286Z"
   },
   {
    "duration": 8,
    "start_time": "2024-04-19T08:02:56.357Z"
   },
   {
    "duration": 6,
    "start_time": "2024-04-19T08:02:56.366Z"
   },
   {
    "duration": 14,
    "start_time": "2024-04-19T08:02:56.373Z"
   },
   {
    "duration": 40,
    "start_time": "2024-04-19T08:02:56.389Z"
   },
   {
    "duration": 3,
    "start_time": "2024-04-19T08:02:56.444Z"
   },
   {
    "duration": 13,
    "start_time": "2024-04-19T08:02:56.448Z"
   },
   {
    "duration": 15,
    "start_time": "2024-04-19T08:02:56.464Z"
   },
   {
    "duration": 30,
    "start_time": "2024-04-19T08:02:56.480Z"
   },
   {
    "duration": 473,
    "start_time": "2024-04-19T08:02:56.512Z"
   },
   {
    "duration": 0,
    "start_time": "2024-04-19T08:02:56.987Z"
   },
   {
    "duration": 0,
    "start_time": "2024-04-19T08:02:56.988Z"
   },
   {
    "duration": 0,
    "start_time": "2024-04-19T08:02:56.989Z"
   },
   {
    "duration": 0,
    "start_time": "2024-04-19T08:02:56.990Z"
   },
   {
    "duration": 0,
    "start_time": "2024-04-19T08:02:56.991Z"
   },
   {
    "duration": 0,
    "start_time": "2024-04-19T08:02:56.992Z"
   },
   {
    "duration": 0,
    "start_time": "2024-04-19T08:02:56.993Z"
   },
   {
    "duration": 0,
    "start_time": "2024-04-19T08:02:56.994Z"
   },
   {
    "duration": 0,
    "start_time": "2024-04-19T08:02:56.995Z"
   },
   {
    "duration": 0,
    "start_time": "2024-04-19T08:02:56.996Z"
   },
   {
    "duration": 1896,
    "start_time": "2024-04-19T08:05:47.626Z"
   },
   {
    "duration": 2676,
    "start_time": "2024-04-19T08:05:49.524Z"
   },
   {
    "duration": 851,
    "start_time": "2024-04-19T08:05:52.202Z"
   },
   {
    "duration": 150,
    "start_time": "2024-04-19T08:05:53.055Z"
   },
   {
    "duration": 90,
    "start_time": "2024-04-19T08:05:53.206Z"
   },
   {
    "duration": 13,
    "start_time": "2024-04-19T08:05:53.297Z"
   },
   {
    "duration": 38,
    "start_time": "2024-04-19T08:05:53.311Z"
   },
   {
    "duration": 96,
    "start_time": "2024-04-19T08:05:53.350Z"
   },
   {
    "duration": 120,
    "start_time": "2024-04-19T08:05:53.447Z"
   },
   {
    "duration": 96,
    "start_time": "2024-04-19T08:05:53.570Z"
   },
   {
    "duration": 180,
    "start_time": "2024-04-19T08:05:53.667Z"
   },
   {
    "duration": 220,
    "start_time": "2024-04-19T08:05:53.848Z"
   },
   {
    "duration": 122,
    "start_time": "2024-04-19T08:05:54.069Z"
   },
   {
    "duration": 4,
    "start_time": "2024-04-19T08:05:54.192Z"
   },
   {
    "duration": 24,
    "start_time": "2024-04-19T08:05:54.198Z"
   },
   {
    "duration": 5,
    "start_time": "2024-04-19T08:05:54.224Z"
   },
   {
    "duration": 22,
    "start_time": "2024-04-19T08:05:54.246Z"
   },
   {
    "duration": 5,
    "start_time": "2024-04-19T08:05:54.270Z"
   },
   {
    "duration": 6,
    "start_time": "2024-04-19T08:05:54.276Z"
   },
   {
    "duration": 15,
    "start_time": "2024-04-19T08:05:54.283Z"
   },
   {
    "duration": 75,
    "start_time": "2024-04-19T08:05:54.299Z"
   },
   {
    "duration": 9,
    "start_time": "2024-04-19T08:05:54.375Z"
   },
   {
    "duration": 3,
    "start_time": "2024-04-19T08:05:54.385Z"
   },
   {
    "duration": 12,
    "start_time": "2024-04-19T08:05:54.389Z"
   },
   {
    "duration": 59,
    "start_time": "2024-04-19T08:05:54.402Z"
   },
   {
    "duration": 3,
    "start_time": "2024-04-19T08:05:54.462Z"
   },
   {
    "duration": 5,
    "start_time": "2024-04-19T08:05:54.466Z"
   },
   {
    "duration": 6,
    "start_time": "2024-04-19T08:05:54.474Z"
   },
   {
    "duration": 14,
    "start_time": "2024-04-19T08:05:54.481Z"
   },
   {
    "duration": 7473,
    "start_time": "2024-04-19T08:05:54.497Z"
   },
   {
    "duration": 36194,
    "start_time": "2024-04-19T08:06:01.972Z"
   },
   {
    "duration": 47862,
    "start_time": "2024-04-19T08:06:38.168Z"
   },
   {
    "duration": 3,
    "start_time": "2024-04-19T08:07:26.031Z"
   },
   {
    "duration": 71738,
    "start_time": "2024-04-19T08:07:26.035Z"
   },
   {
    "duration": 310537,
    "start_time": "2024-04-19T08:08:37.775Z"
   },
   {
    "duration": 1191,
    "start_time": "2024-04-19T08:48:39.104Z"
   },
   {
    "duration": 2637,
    "start_time": "2024-04-19T08:48:40.296Z"
   },
   {
    "duration": 777,
    "start_time": "2024-04-19T08:48:42.935Z"
   },
   {
    "duration": 149,
    "start_time": "2024-04-19T08:48:43.713Z"
   },
   {
    "duration": 87,
    "start_time": "2024-04-19T08:48:43.864Z"
   },
   {
    "duration": 12,
    "start_time": "2024-04-19T08:48:43.953Z"
   },
   {
    "duration": 22,
    "start_time": "2024-04-19T08:48:43.966Z"
   },
   {
    "duration": 115,
    "start_time": "2024-04-19T08:48:43.989Z"
   },
   {
    "duration": 110,
    "start_time": "2024-04-19T08:48:44.106Z"
   },
   {
    "duration": 82,
    "start_time": "2024-04-19T08:48:44.218Z"
   },
   {
    "duration": 165,
    "start_time": "2024-04-19T08:48:44.302Z"
   },
   {
    "duration": 173,
    "start_time": "2024-04-19T08:48:44.468Z"
   },
   {
    "duration": 119,
    "start_time": "2024-04-19T08:48:44.644Z"
   },
   {
    "duration": 4,
    "start_time": "2024-04-19T08:48:44.767Z"
   },
   {
    "duration": 23,
    "start_time": "2024-04-19T08:48:44.772Z"
   },
   {
    "duration": 5,
    "start_time": "2024-04-19T08:48:44.797Z"
   },
   {
    "duration": 30,
    "start_time": "2024-04-19T08:48:44.803Z"
   },
   {
    "duration": 23,
    "start_time": "2024-04-19T08:48:44.835Z"
   },
   {
    "duration": 14,
    "start_time": "2024-04-19T08:48:44.860Z"
   },
   {
    "duration": 14,
    "start_time": "2024-04-19T08:48:44.875Z"
   },
   {
    "duration": 46,
    "start_time": "2024-04-19T08:48:44.890Z"
   },
   {
    "duration": 11,
    "start_time": "2024-04-19T08:48:44.937Z"
   },
   {
    "duration": 8,
    "start_time": "2024-04-19T08:48:44.949Z"
   },
   {
    "duration": 14,
    "start_time": "2024-04-19T08:48:44.958Z"
   },
   {
    "duration": 40,
    "start_time": "2024-04-19T08:48:44.973Z"
   },
   {
    "duration": 2,
    "start_time": "2024-04-19T08:48:45.014Z"
   },
   {
    "duration": 33,
    "start_time": "2024-04-19T08:48:45.018Z"
   },
   {
    "duration": 50,
    "start_time": "2024-04-19T08:48:45.053Z"
   },
   {
    "duration": 54,
    "start_time": "2024-04-19T08:48:45.104Z"
   },
   {
    "duration": 6826,
    "start_time": "2024-04-19T08:48:45.159Z"
   },
   {
    "duration": 36272,
    "start_time": "2024-04-19T08:48:51.987Z"
   },
   {
    "duration": 46987,
    "start_time": "2024-04-19T08:49:28.260Z"
   },
   {
    "duration": 4,
    "start_time": "2024-04-19T08:50:15.248Z"
   },
   {
    "duration": 66553,
    "start_time": "2024-04-19T08:50:15.253Z"
   },
   {
    "duration": 304997,
    "start_time": "2024-04-19T08:51:21.808Z"
   },
   {
    "duration": 3,
    "start_time": "2024-04-19T08:56:26.806Z"
   },
   {
    "duration": 24,
    "start_time": "2024-04-19T08:56:26.810Z"
   },
   {
    "duration": 23,
    "start_time": "2024-04-19T08:56:26.844Z"
   },
   {
    "duration": 17,
    "start_time": "2024-04-19T08:56:26.869Z"
   },
   {
    "duration": 28,
    "start_time": "2024-04-19T08:56:26.888Z"
   },
   {
    "duration": 169,
    "start_time": "2024-04-19T09:00:08.546Z"
   },
   {
    "duration": 19,
    "start_time": "2024-04-19T09:00:20.925Z"
   },
   {
    "duration": 13,
    "start_time": "2024-04-19T09:00:36.683Z"
   },
   {
    "duration": 12,
    "start_time": "2024-04-19T09:00:49.420Z"
   },
   {
    "duration": 12,
    "start_time": "2024-04-19T09:01:03.818Z"
   },
   {
    "duration": 18,
    "start_time": "2024-04-19T09:01:42.102Z"
   },
   {
    "duration": 12,
    "start_time": "2024-04-19T09:01:42.214Z"
   },
   {
    "duration": 14,
    "start_time": "2024-04-19T09:01:45.629Z"
   },
   {
    "duration": 12,
    "start_time": "2024-04-19T09:01:45.829Z"
   },
   {
    "duration": 20,
    "start_time": "2024-04-19T09:02:27.392Z"
   },
   {
    "duration": 17,
    "start_time": "2024-04-19T09:02:27.535Z"
   },
   {
    "duration": 20,
    "start_time": "2024-04-19T09:02:42.901Z"
   },
   {
    "duration": 13,
    "start_time": "2024-04-19T09:02:43.034Z"
   },
   {
    "duration": 20,
    "start_time": "2024-04-19T09:03:23.533Z"
   },
   {
    "duration": 29,
    "start_time": "2024-04-19T09:03:49.817Z"
   },
   {
    "duration": 25,
    "start_time": "2024-04-19T09:04:00.683Z"
   },
   {
    "duration": 22,
    "start_time": "2024-04-19T09:04:37.584Z"
   },
   {
    "duration": 19,
    "start_time": "2024-04-19T09:05:13.499Z"
   },
   {
    "duration": 25,
    "start_time": "2024-04-19T09:05:29.722Z"
   },
   {
    "duration": 19,
    "start_time": "2024-04-19T09:05:30.512Z"
   },
   {
    "duration": 22,
    "start_time": "2024-04-19T09:05:32.906Z"
   },
   {
    "duration": 18,
    "start_time": "2024-04-19T09:05:33.717Z"
   },
   {
    "duration": 48,
    "start_time": "2024-04-19T18:34:08.036Z"
   },
   {
    "duration": 1195,
    "start_time": "2024-04-19T18:51:49.878Z"
   },
   {
    "duration": 6267,
    "start_time": "2024-04-19T18:51:51.075Z"
   },
   {
    "duration": 2857,
    "start_time": "2024-04-19T18:51:57.343Z"
   },
   {
    "duration": 137,
    "start_time": "2024-04-19T18:52:00.203Z"
   },
   {
    "duration": 173,
    "start_time": "2024-04-19T18:52:00.342Z"
   },
   {
    "duration": 12,
    "start_time": "2024-04-19T18:52:00.517Z"
   },
   {
    "duration": 70,
    "start_time": "2024-04-19T18:52:00.531Z"
   },
   {
    "duration": 120,
    "start_time": "2024-04-19T18:52:00.602Z"
   },
   {
    "duration": 121,
    "start_time": "2024-04-19T18:52:00.724Z"
   },
   {
    "duration": 104,
    "start_time": "2024-04-19T18:52:00.847Z"
   },
   {
    "duration": 182,
    "start_time": "2024-04-19T18:52:00.953Z"
   },
   {
    "duration": 221,
    "start_time": "2024-04-19T18:52:01.136Z"
   },
   {
    "duration": 141,
    "start_time": "2024-04-19T18:52:01.358Z"
   },
   {
    "duration": 4,
    "start_time": "2024-04-19T18:52:01.501Z"
   },
   {
    "duration": 150,
    "start_time": "2024-04-19T18:52:01.507Z"
   },
   {
    "duration": 7,
    "start_time": "2024-04-19T18:52:01.659Z"
   },
   {
    "duration": 37,
    "start_time": "2024-04-19T18:52:01.667Z"
   },
   {
    "duration": 30,
    "start_time": "2024-04-19T18:52:01.705Z"
   },
   {
    "duration": 35,
    "start_time": "2024-04-19T18:52:01.737Z"
   },
   {
    "duration": 36,
    "start_time": "2024-04-19T18:52:01.774Z"
   },
   {
    "duration": 69,
    "start_time": "2024-04-19T18:52:01.812Z"
   },
   {
    "duration": 10,
    "start_time": "2024-04-19T18:52:01.882Z"
   },
   {
    "duration": 26,
    "start_time": "2024-04-19T18:52:01.893Z"
   },
   {
    "duration": 86,
    "start_time": "2024-04-19T18:52:01.920Z"
   },
   {
    "duration": 151,
    "start_time": "2024-04-19T18:52:02.007Z"
   },
   {
    "duration": 29,
    "start_time": "2024-04-19T18:52:02.159Z"
   },
   {
    "duration": 27,
    "start_time": "2024-04-19T18:52:02.190Z"
   },
   {
    "duration": 40,
    "start_time": "2024-04-19T18:52:02.220Z"
   },
   {
    "duration": 17,
    "start_time": "2024-04-19T18:52:02.263Z"
   },
   {
    "duration": 515,
    "start_time": "2024-04-19T18:52:02.281Z"
   },
   {
    "duration": 0,
    "start_time": "2024-04-19T18:52:02.798Z"
   },
   {
    "duration": 0,
    "start_time": "2024-04-19T18:52:02.799Z"
   },
   {
    "duration": 0,
    "start_time": "2024-04-19T18:52:02.800Z"
   },
   {
    "duration": 0,
    "start_time": "2024-04-19T18:52:02.801Z"
   },
   {
    "duration": 0,
    "start_time": "2024-04-19T18:52:02.802Z"
   },
   {
    "duration": 0,
    "start_time": "2024-04-19T18:52:02.803Z"
   },
   {
    "duration": 0,
    "start_time": "2024-04-19T18:52:02.804Z"
   },
   {
    "duration": 0,
    "start_time": "2024-04-19T18:52:02.805Z"
   },
   {
    "duration": 0,
    "start_time": "2024-04-19T18:52:02.806Z"
   },
   {
    "duration": 1,
    "start_time": "2024-04-19T18:52:02.807Z"
   },
   {
    "duration": 1269,
    "start_time": "2024-04-19T18:53:11.148Z"
   },
   {
    "duration": 2715,
    "start_time": "2024-04-19T18:53:12.419Z"
   },
   {
    "duration": 825,
    "start_time": "2024-04-19T18:53:15.136Z"
   },
   {
    "duration": 141,
    "start_time": "2024-04-19T18:53:15.963Z"
   },
   {
    "duration": 89,
    "start_time": "2024-04-19T18:53:16.105Z"
   },
   {
    "duration": 12,
    "start_time": "2024-04-19T18:53:16.196Z"
   },
   {
    "duration": 37,
    "start_time": "2024-04-19T18:53:16.209Z"
   },
   {
    "duration": 111,
    "start_time": "2024-04-19T18:53:16.248Z"
   },
   {
    "duration": 118,
    "start_time": "2024-04-19T18:53:16.360Z"
   },
   {
    "duration": 87,
    "start_time": "2024-04-19T18:53:16.480Z"
   },
   {
    "duration": 164,
    "start_time": "2024-04-19T18:53:16.568Z"
   },
   {
    "duration": 217,
    "start_time": "2024-04-19T18:53:16.733Z"
   },
   {
    "duration": 121,
    "start_time": "2024-04-19T18:53:16.951Z"
   },
   {
    "duration": 4,
    "start_time": "2024-04-19T18:53:17.073Z"
   },
   {
    "duration": 30,
    "start_time": "2024-04-19T18:53:17.078Z"
   },
   {
    "duration": 5,
    "start_time": "2024-04-19T18:53:17.110Z"
   },
   {
    "duration": 40,
    "start_time": "2024-04-19T18:53:17.116Z"
   },
   {
    "duration": 6,
    "start_time": "2024-04-19T18:53:17.158Z"
   },
   {
    "duration": 19,
    "start_time": "2024-04-19T18:53:17.166Z"
   },
   {
    "duration": 18,
    "start_time": "2024-04-19T18:53:17.186Z"
   },
   {
    "duration": 64,
    "start_time": "2024-04-19T18:53:17.206Z"
   },
   {
    "duration": 7,
    "start_time": "2024-04-19T18:53:17.271Z"
   },
   {
    "duration": 17,
    "start_time": "2024-04-19T18:53:17.279Z"
   },
   {
    "duration": 41,
    "start_time": "2024-04-19T18:53:17.297Z"
   },
   {
    "duration": 43,
    "start_time": "2024-04-19T18:53:17.340Z"
   },
   {
    "duration": 3,
    "start_time": "2024-04-19T18:53:17.384Z"
   },
   {
    "duration": 11,
    "start_time": "2024-04-19T18:53:17.388Z"
   },
   {
    "duration": 11,
    "start_time": "2024-04-19T18:53:17.402Z"
   },
   {
    "duration": 56,
    "start_time": "2024-04-19T18:53:17.414Z"
   },
   {
    "duration": 6618,
    "start_time": "2024-04-19T18:53:17.472Z"
   },
   {
    "duration": 36272,
    "start_time": "2024-04-19T18:53:24.092Z"
   },
   {
    "duration": 49145,
    "start_time": "2024-04-19T18:54:00.365Z"
   },
   {
    "duration": 2,
    "start_time": "2024-04-19T18:54:49.512Z"
   },
   {
    "duration": 71141,
    "start_time": "2024-04-19T18:54:49.515Z"
   },
   {
    "duration": 90,
    "start_time": "2024-04-19T18:56:00.657Z"
   },
   {
    "duration": 102,
    "start_time": "2024-04-19T18:56:00.749Z"
   },
   {
    "duration": 7,
    "start_time": "2024-04-19T18:56:00.852Z"
   },
   {
    "duration": 365293,
    "start_time": "2024-04-19T18:56:00.860Z"
   },
   {
    "duration": 107,
    "start_time": "2024-04-19T19:02:06.245Z"
   },
   {
    "duration": 18,
    "start_time": "2024-04-19T19:02:06.354Z"
   },
   {
    "duration": 1273,
    "start_time": "2024-04-19T19:23:50.511Z"
   },
   {
    "duration": 2748,
    "start_time": "2024-04-19T19:23:51.785Z"
   },
   {
    "duration": 801,
    "start_time": "2024-04-19T19:23:54.535Z"
   },
   {
    "duration": 150,
    "start_time": "2024-04-19T19:23:55.337Z"
   },
   {
    "duration": 98,
    "start_time": "2024-04-19T19:23:55.490Z"
   },
   {
    "duration": 13,
    "start_time": "2024-04-19T19:23:55.590Z"
   },
   {
    "duration": 31,
    "start_time": "2024-04-19T19:23:55.605Z"
   },
   {
    "duration": 102,
    "start_time": "2024-04-19T19:23:55.638Z"
   },
   {
    "duration": 115,
    "start_time": "2024-04-19T19:23:55.745Z"
   },
   {
    "duration": 87,
    "start_time": "2024-04-19T19:23:55.862Z"
   },
   {
    "duration": 171,
    "start_time": "2024-04-19T19:23:55.950Z"
   },
   {
    "duration": 220,
    "start_time": "2024-04-19T19:23:56.122Z"
   },
   {
    "duration": 122,
    "start_time": "2024-04-19T19:23:56.343Z"
   },
   {
    "duration": 4,
    "start_time": "2024-04-19T19:23:56.467Z"
   },
   {
    "duration": 22,
    "start_time": "2024-04-19T19:23:56.472Z"
   },
   {
    "duration": 4,
    "start_time": "2024-04-19T19:23:56.496Z"
   },
   {
    "duration": 20,
    "start_time": "2024-04-19T19:23:56.502Z"
   },
   {
    "duration": 25,
    "start_time": "2024-04-19T19:23:56.523Z"
   },
   {
    "duration": 6,
    "start_time": "2024-04-19T19:23:56.550Z"
   },
   {
    "duration": 17,
    "start_time": "2024-04-19T19:23:56.557Z"
   },
   {
    "duration": 47,
    "start_time": "2024-04-19T19:23:56.575Z"
   },
   {
    "duration": 8,
    "start_time": "2024-04-19T19:23:56.644Z"
   },
   {
    "duration": 2,
    "start_time": "2024-04-19T19:23:56.653Z"
   },
   {
    "duration": 11,
    "start_time": "2024-04-19T19:23:56.657Z"
   },
   {
    "duration": 40,
    "start_time": "2024-04-19T19:23:56.670Z"
   },
   {
    "duration": 3,
    "start_time": "2024-04-19T19:23:56.711Z"
   },
   {
    "duration": 30,
    "start_time": "2024-04-19T19:23:56.715Z"
   },
   {
    "duration": 3,
    "start_time": "2024-04-19T19:23:56.746Z"
   },
   {
    "duration": 21,
    "start_time": "2024-04-19T19:23:56.750Z"
   },
   {
    "duration": 7316,
    "start_time": "2024-04-19T19:23:56.772Z"
   },
   {
    "duration": 36389,
    "start_time": "2024-04-19T19:24:04.090Z"
   },
   {
    "duration": 3,
    "start_time": "2024-04-19T19:24:40.481Z"
   },
   {
    "duration": 71664,
    "start_time": "2024-04-19T19:24:40.485Z"
   },
   {
    "duration": 19,
    "start_time": "2024-04-19T19:25:52.150Z"
   },
   {
    "duration": 89,
    "start_time": "2024-04-19T19:25:52.171Z"
   },
   {
    "duration": 3,
    "start_time": "2024-04-19T19:25:52.262Z"
   },
   {
    "duration": 307785,
    "start_time": "2024-04-19T19:25:52.267Z"
   },
   {
    "duration": 190,
    "start_time": "2024-04-19T19:31:00.056Z"
   },
   {
    "duration": 73,
    "start_time": "2024-04-19T19:31:00.247Z"
   },
   {
    "duration": 1295,
    "start_time": "2024-04-21T10:21:18.174Z"
   },
   {
    "duration": 7321,
    "start_time": "2024-04-21T10:21:19.471Z"
   },
   {
    "duration": 2897,
    "start_time": "2024-04-21T10:21:26.794Z"
   },
   {
    "duration": 156,
    "start_time": "2024-04-21T10:21:29.693Z"
   },
   {
    "duration": 99,
    "start_time": "2024-04-21T10:21:29.850Z"
   },
   {
    "duration": 18,
    "start_time": "2024-04-21T10:21:29.950Z"
   },
   {
    "duration": 28,
    "start_time": "2024-04-21T10:21:29.969Z"
   },
   {
    "duration": 123,
    "start_time": "2024-04-21T10:21:29.998Z"
   },
   {
    "duration": 167,
    "start_time": "2024-04-21T10:21:30.123Z"
   },
   {
    "duration": 87,
    "start_time": "2024-04-21T10:21:30.292Z"
   },
   {
    "duration": 218,
    "start_time": "2024-04-21T10:21:30.381Z"
   },
   {
    "duration": 192,
    "start_time": "2024-04-21T10:21:30.600Z"
   },
   {
    "duration": 128,
    "start_time": "2024-04-21T10:21:30.793Z"
   },
   {
    "duration": 47,
    "start_time": "2024-04-21T10:21:30.923Z"
   },
   {
    "duration": 214,
    "start_time": "2024-04-21T10:21:30.971Z"
   },
   {
    "duration": 47,
    "start_time": "2024-04-21T10:21:31.187Z"
   },
   {
    "duration": 47,
    "start_time": "2024-04-21T10:21:31.236Z"
   },
   {
    "duration": 21,
    "start_time": "2024-04-21T10:21:31.285Z"
   },
   {
    "duration": 71,
    "start_time": "2024-04-21T10:21:31.309Z"
   },
   {
    "duration": 78,
    "start_time": "2024-04-21T10:21:31.382Z"
   },
   {
    "duration": 65,
    "start_time": "2024-04-21T10:21:31.462Z"
   },
   {
    "duration": 8,
    "start_time": "2024-04-21T10:21:31.529Z"
   },
   {
    "duration": 16,
    "start_time": "2024-04-21T10:21:31.539Z"
   },
   {
    "duration": 31,
    "start_time": "2024-04-21T10:21:31.556Z"
   },
   {
    "duration": 43,
    "start_time": "2024-04-21T10:21:31.589Z"
   },
   {
    "duration": 6,
    "start_time": "2024-04-21T10:21:31.633Z"
   },
   {
    "duration": 24,
    "start_time": "2024-04-21T10:21:31.640Z"
   },
   {
    "duration": 16,
    "start_time": "2024-04-21T10:21:31.667Z"
   },
   {
    "duration": 25,
    "start_time": "2024-04-21T10:21:31.684Z"
   },
   {
    "duration": 495,
    "start_time": "2024-04-21T10:21:31.710Z"
   },
   {
    "duration": 0,
    "start_time": "2024-04-21T10:21:32.207Z"
   },
   {
    "duration": 0,
    "start_time": "2024-04-21T10:21:32.208Z"
   },
   {
    "duration": 1343,
    "start_time": "2024-04-21T10:22:22.968Z"
   },
   {
    "duration": 2850,
    "start_time": "2024-04-21T10:22:24.313Z"
   },
   {
    "duration": 871,
    "start_time": "2024-04-21T10:22:27.165Z"
   },
   {
    "duration": 144,
    "start_time": "2024-04-21T10:22:28.038Z"
   },
   {
    "duration": 156,
    "start_time": "2024-04-21T10:22:28.185Z"
   },
   {
    "duration": 17,
    "start_time": "2024-04-21T10:22:28.343Z"
   },
   {
    "duration": 27,
    "start_time": "2024-04-21T10:22:28.362Z"
   },
   {
    "duration": 99,
    "start_time": "2024-04-21T10:22:28.391Z"
   },
   {
    "duration": 129,
    "start_time": "2024-04-21T10:22:28.492Z"
   },
   {
    "duration": 91,
    "start_time": "2024-04-21T10:22:28.623Z"
   },
   {
    "duration": 180,
    "start_time": "2024-04-21T10:22:28.716Z"
   },
   {
    "duration": 249,
    "start_time": "2024-04-21T10:22:28.898Z"
   },
   {
    "duration": 140,
    "start_time": "2024-04-21T10:22:29.149Z"
   },
   {
    "duration": 4,
    "start_time": "2024-04-21T10:22:29.292Z"
   },
   {
    "duration": 25,
    "start_time": "2024-04-21T10:22:29.297Z"
   },
   {
    "duration": 5,
    "start_time": "2024-04-21T10:22:29.324Z"
   },
   {
    "duration": 38,
    "start_time": "2024-04-21T10:22:29.330Z"
   },
   {
    "duration": 5,
    "start_time": "2024-04-21T10:22:29.369Z"
   },
   {
    "duration": 9,
    "start_time": "2024-04-21T10:22:29.376Z"
   },
   {
    "duration": 16,
    "start_time": "2024-04-21T10:22:29.386Z"
   },
   {
    "duration": 69,
    "start_time": "2024-04-21T10:22:29.404Z"
   },
   {
    "duration": 9,
    "start_time": "2024-04-21T10:22:29.474Z"
   },
   {
    "duration": 2,
    "start_time": "2024-04-21T10:22:29.485Z"
   },
   {
    "duration": 15,
    "start_time": "2024-04-21T10:22:29.489Z"
   },
   {
    "duration": 60,
    "start_time": "2024-04-21T10:22:29.506Z"
   },
   {
    "duration": 3,
    "start_time": "2024-04-21T10:22:29.567Z"
   },
   {
    "duration": 6,
    "start_time": "2024-04-21T10:22:29.572Z"
   },
   {
    "duration": 4,
    "start_time": "2024-04-21T10:22:29.579Z"
   },
   {
    "duration": 6,
    "start_time": "2024-04-21T10:22:29.584Z"
   },
   {
    "duration": 9701,
    "start_time": "2024-04-21T10:22:29.592Z"
   },
   {
    "duration": 33402,
    "start_time": "2024-04-21T10:22:39.294Z"
   },
   {
    "duration": 113,
    "start_time": "2024-04-21T10:23:12.698Z"
   },
   {
    "duration": 396122,
    "start_time": "2024-04-21T10:24:59.258Z"
   },
   {
    "duration": 311276,
    "start_time": "2024-04-21T10:34:21.496Z"
   },
   {
    "duration": 5,
    "start_time": "2024-04-21T10:43:56.230Z"
   },
   {
    "duration": 4,
    "start_time": "2024-04-21T10:44:03.678Z"
   },
   {
    "duration": 4,
    "start_time": "2024-04-21T10:44:30.074Z"
   },
   {
    "duration": 4,
    "start_time": "2024-04-21T10:44:37.929Z"
   },
   {
    "duration": 4,
    "start_time": "2024-04-21T10:44:41.419Z"
   },
   {
    "duration": 4,
    "start_time": "2024-04-21T10:44:51.276Z"
   },
   {
    "duration": 5,
    "start_time": "2024-04-21T10:45:34.084Z"
   },
   {
    "duration": 5,
    "start_time": "2024-04-21T10:45:53.614Z"
   },
   {
    "duration": 1329,
    "start_time": "2024-04-21T10:45:59.797Z"
   },
   {
    "duration": 2816,
    "start_time": "2024-04-21T10:46:01.128Z"
   },
   {
    "duration": 914,
    "start_time": "2024-04-21T10:46:03.947Z"
   },
   {
    "duration": 155,
    "start_time": "2024-04-21T10:46:04.865Z"
   },
   {
    "duration": 102,
    "start_time": "2024-04-21T10:46:05.021Z"
   },
   {
    "duration": 13,
    "start_time": "2024-04-21T10:46:05.125Z"
   },
   {
    "duration": 38,
    "start_time": "2024-04-21T10:46:05.139Z"
   },
   {
    "duration": 112,
    "start_time": "2024-04-21T10:46:05.179Z"
   },
   {
    "duration": 120,
    "start_time": "2024-04-21T10:46:05.292Z"
   },
   {
    "duration": 92,
    "start_time": "2024-04-21T10:46:05.415Z"
   },
   {
    "duration": 178,
    "start_time": "2024-04-21T10:46:05.509Z"
   },
   {
    "duration": 240,
    "start_time": "2024-04-21T10:46:05.689Z"
   },
   {
    "duration": 128,
    "start_time": "2024-04-21T10:46:05.931Z"
   },
   {
    "duration": 5,
    "start_time": "2024-04-21T10:46:06.061Z"
   },
   {
    "duration": 34,
    "start_time": "2024-04-21T10:46:06.067Z"
   },
   {
    "duration": 5,
    "start_time": "2024-04-21T10:46:06.102Z"
   },
   {
    "duration": 23,
    "start_time": "2024-04-21T10:46:06.108Z"
   },
   {
    "duration": 13,
    "start_time": "2024-04-21T10:46:06.133Z"
   },
   {
    "duration": 12,
    "start_time": "2024-04-21T10:46:06.147Z"
   },
   {
    "duration": 21,
    "start_time": "2024-04-21T10:46:06.160Z"
   },
   {
    "duration": 51,
    "start_time": "2024-04-21T10:46:06.183Z"
   },
   {
    "duration": 9,
    "start_time": "2024-04-21T10:46:06.235Z"
   },
   {
    "duration": 3,
    "start_time": "2024-04-21T10:46:06.245Z"
   },
   {
    "duration": 21,
    "start_time": "2024-04-21T10:46:06.265Z"
   },
   {
    "duration": 58,
    "start_time": "2024-04-21T10:46:06.288Z"
   },
   {
    "duration": 3,
    "start_time": "2024-04-21T10:46:06.347Z"
   },
   {
    "duration": 4,
    "start_time": "2024-04-21T10:46:06.365Z"
   },
   {
    "duration": 13,
    "start_time": "2024-04-21T10:46:06.371Z"
   },
   {
    "duration": 8,
    "start_time": "2024-04-21T10:46:06.385Z"
   },
   {
    "duration": 12004,
    "start_time": "2024-04-21T10:46:06.394Z"
   },
   {
    "duration": 34800,
    "start_time": "2024-04-21T10:46:18.400Z"
   },
   {
    "duration": 84690,
    "start_time": "2024-04-21T10:46:53.202Z"
   },
   {
    "duration": 326101,
    "start_time": "2024-04-21T10:48:17.893Z"
   },
   {
    "duration": 5,
    "start_time": "2024-04-21T10:53:43.996Z"
   },
   {
    "duration": 5,
    "start_time": "2024-04-21T10:54:31.561Z"
   },
   {
    "duration": 5,
    "start_time": "2024-04-21T10:55:25.389Z"
   },
   {
    "duration": 5,
    "start_time": "2024-04-21T10:55:34.121Z"
   },
   {
    "duration": 5,
    "start_time": "2024-04-21T10:56:31.093Z"
   },
   {
    "duration": 1514,
    "start_time": "2024-04-22T16:17:21.277Z"
   },
   {
    "duration": 7423,
    "start_time": "2024-04-22T16:17:22.793Z"
   },
   {
    "duration": 1271,
    "start_time": "2024-04-22T16:17:30.218Z"
   },
   {
    "duration": 154,
    "start_time": "2024-04-22T16:17:31.492Z"
   },
   {
    "duration": 177,
    "start_time": "2024-04-22T16:17:31.647Z"
   },
   {
    "duration": 14,
    "start_time": "2024-04-22T16:17:31.825Z"
   },
   {
    "duration": 66,
    "start_time": "2024-04-22T16:17:31.841Z"
   },
   {
    "duration": 172,
    "start_time": "2024-04-22T16:17:31.910Z"
   },
   {
    "duration": 501,
    "start_time": "2024-04-22T16:17:32.083Z"
   },
   {
    "duration": 92,
    "start_time": "2024-04-22T16:17:32.587Z"
   },
   {
    "duration": 277,
    "start_time": "2024-04-22T16:17:32.680Z"
   },
   {
    "duration": 227,
    "start_time": "2024-04-22T16:17:32.959Z"
   },
   {
    "duration": 153,
    "start_time": "2024-04-22T16:17:33.188Z"
   },
   {
    "duration": 127,
    "start_time": "2024-04-22T16:17:33.343Z"
   },
   {
    "duration": 233,
    "start_time": "2024-04-22T16:17:33.471Z"
   },
   {
    "duration": 96,
    "start_time": "2024-04-22T16:17:33.705Z"
   },
   {
    "duration": 46,
    "start_time": "2024-04-22T16:17:33.803Z"
   },
   {
    "duration": 23,
    "start_time": "2024-04-22T16:17:33.850Z"
   },
   {
    "duration": 27,
    "start_time": "2024-04-22T16:17:33.875Z"
   },
   {
    "duration": 40,
    "start_time": "2024-04-22T16:17:33.904Z"
   },
   {
    "duration": 64,
    "start_time": "2024-04-22T16:17:33.946Z"
   },
   {
    "duration": 10,
    "start_time": "2024-04-22T16:17:34.011Z"
   },
   {
    "duration": 14,
    "start_time": "2024-04-22T16:17:34.023Z"
   },
   {
    "duration": 58,
    "start_time": "2024-04-22T16:17:34.038Z"
   },
   {
    "duration": 67,
    "start_time": "2024-04-22T16:17:34.097Z"
   },
   {
    "duration": 3,
    "start_time": "2024-04-22T16:17:34.166Z"
   },
   {
    "duration": 28,
    "start_time": "2024-04-22T16:17:34.170Z"
   },
   {
    "duration": 22,
    "start_time": "2024-04-22T16:17:34.202Z"
   },
   {
    "duration": 35,
    "start_time": "2024-04-22T16:17:34.225Z"
   },
   {
    "duration": 540,
    "start_time": "2024-04-22T16:17:34.262Z"
   },
   {
    "duration": 0,
    "start_time": "2024-04-22T16:17:34.805Z"
   },
   {
    "duration": 0,
    "start_time": "2024-04-22T16:17:34.806Z"
   },
   {
    "duration": 0,
    "start_time": "2024-04-22T16:17:34.808Z"
   },
   {
    "duration": 0,
    "start_time": "2024-04-22T16:17:34.809Z"
   },
   {
    "duration": 0,
    "start_time": "2024-04-22T16:17:34.811Z"
   },
   {
    "duration": 1550,
    "start_time": "2024-04-22T16:18:15.627Z"
   },
   {
    "duration": 3340,
    "start_time": "2024-04-22T16:18:17.179Z"
   },
   {
    "duration": 1009,
    "start_time": "2024-04-22T16:18:20.521Z"
   },
   {
    "duration": 182,
    "start_time": "2024-04-22T16:18:21.533Z"
   },
   {
    "duration": 118,
    "start_time": "2024-04-22T16:18:21.716Z"
   },
   {
    "duration": 24,
    "start_time": "2024-04-22T16:18:21.836Z"
   },
   {
    "duration": 29,
    "start_time": "2024-04-22T16:18:21.862Z"
   },
   {
    "duration": 134,
    "start_time": "2024-04-22T16:18:21.893Z"
   },
   {
    "duration": 140,
    "start_time": "2024-04-22T16:18:22.028Z"
   },
   {
    "duration": 98,
    "start_time": "2024-04-22T16:18:22.171Z"
   },
   {
    "duration": 199,
    "start_time": "2024-04-22T16:18:22.270Z"
   },
   {
    "duration": 263,
    "start_time": "2024-04-22T16:18:22.471Z"
   },
   {
    "duration": 163,
    "start_time": "2024-04-22T16:18:22.735Z"
   },
   {
    "duration": 4,
    "start_time": "2024-04-22T16:18:22.900Z"
   },
   {
    "duration": 26,
    "start_time": "2024-04-22T16:18:22.906Z"
   },
   {
    "duration": 6,
    "start_time": "2024-04-22T16:18:22.934Z"
   },
   {
    "duration": 40,
    "start_time": "2024-04-22T16:18:22.941Z"
   },
   {
    "duration": 6,
    "start_time": "2024-04-22T16:18:22.983Z"
   },
   {
    "duration": 7,
    "start_time": "2024-04-22T16:18:22.991Z"
   },
   {
    "duration": 22,
    "start_time": "2024-04-22T16:18:23.000Z"
   },
   {
    "duration": 90,
    "start_time": "2024-04-22T16:18:23.024Z"
   },
   {
    "duration": 9,
    "start_time": "2024-04-22T16:18:23.115Z"
   },
   {
    "duration": 2,
    "start_time": "2024-04-22T16:18:23.126Z"
   },
   {
    "duration": 29,
    "start_time": "2024-04-22T16:18:23.130Z"
   },
   {
    "duration": 48,
    "start_time": "2024-04-22T16:18:23.160Z"
   },
   {
    "duration": 3,
    "start_time": "2024-04-22T16:18:23.210Z"
   },
   {
    "duration": 7,
    "start_time": "2024-04-22T16:18:23.215Z"
   },
   {
    "duration": 7,
    "start_time": "2024-04-22T16:18:23.225Z"
   },
   {
    "duration": 42,
    "start_time": "2024-04-22T16:18:23.233Z"
   },
   {
    "duration": 7632,
    "start_time": "2024-04-22T16:18:23.277Z"
   },
   {
    "duration": 36580,
    "start_time": "2024-04-22T16:18:30.911Z"
   },
   {
    "duration": 91362,
    "start_time": "2024-04-22T16:19:07.493Z"
   },
   {
    "duration": 0,
    "start_time": "2024-04-22T16:20:38.858Z"
   },
   {
    "duration": 0,
    "start_time": "2024-04-22T16:20:38.861Z"
   },
   {
    "duration": 0,
    "start_time": "2024-04-22T16:20:38.862Z"
   },
   {
    "duration": 80873,
    "start_time": "2024-04-22T16:28:42.624Z"
   },
   {
    "duration": 5,
    "start_time": "2024-04-22T16:36:54.434Z"
   },
   {
    "duration": 105314,
    "start_time": "2024-04-22T16:37:35.260Z"
   },
   {
    "duration": 1453,
    "start_time": "2024-04-22T16:45:51.865Z"
   },
   {
    "duration": 3349,
    "start_time": "2024-04-22T16:45:53.320Z"
   },
   {
    "duration": 1104,
    "start_time": "2024-04-22T16:45:56.672Z"
   },
   {
    "duration": 161,
    "start_time": "2024-04-22T16:45:57.777Z"
   },
   {
    "duration": 110,
    "start_time": "2024-04-22T16:45:57.940Z"
   },
   {
    "duration": 15,
    "start_time": "2024-04-22T16:45:58.059Z"
   },
   {
    "duration": 29,
    "start_time": "2024-04-22T16:45:58.075Z"
   },
   {
    "duration": 112,
    "start_time": "2024-04-22T16:45:58.106Z"
   },
   {
    "duration": 140,
    "start_time": "2024-04-22T16:45:58.220Z"
   },
   {
    "duration": 103,
    "start_time": "2024-04-22T16:45:58.362Z"
   },
   {
    "duration": 194,
    "start_time": "2024-04-22T16:45:58.468Z"
   },
   {
    "duration": 210,
    "start_time": "2024-04-22T16:45:58.663Z"
   },
   {
    "duration": 150,
    "start_time": "2024-04-22T16:45:58.875Z"
   },
   {
    "duration": 4,
    "start_time": "2024-04-22T16:45:59.029Z"
   },
   {
    "duration": 34,
    "start_time": "2024-04-22T16:45:59.035Z"
   },
   {
    "duration": 6,
    "start_time": "2024-04-22T16:45:59.071Z"
   },
   {
    "duration": 31,
    "start_time": "2024-04-22T16:45:59.079Z"
   },
   {
    "duration": 8,
    "start_time": "2024-04-22T16:45:59.112Z"
   },
   {
    "duration": 10,
    "start_time": "2024-04-22T16:45:59.122Z"
   },
   {
    "duration": 20,
    "start_time": "2024-04-22T16:45:59.159Z"
   },
   {
    "duration": 58,
    "start_time": "2024-04-22T16:45:59.181Z"
   },
   {
    "duration": 22,
    "start_time": "2024-04-22T16:45:59.241Z"
   },
   {
    "duration": 12,
    "start_time": "2024-04-22T16:45:59.265Z"
   },
   {
    "duration": 19,
    "start_time": "2024-04-22T16:45:59.278Z"
   },
   {
    "duration": 60,
    "start_time": "2024-04-22T16:45:59.299Z"
   },
   {
    "duration": 2,
    "start_time": "2024-04-22T16:45:59.361Z"
   },
   {
    "duration": 26,
    "start_time": "2024-04-22T16:45:59.365Z"
   },
   {
    "duration": 12,
    "start_time": "2024-04-22T16:45:59.393Z"
   },
   {
    "duration": 5,
    "start_time": "2024-04-22T16:45:59.407Z"
   },
   {
    "duration": 9382,
    "start_time": "2024-04-22T16:45:59.414Z"
   },
   {
    "duration": 35177,
    "start_time": "2024-04-22T16:46:08.798Z"
   },
   {
    "duration": 772391,
    "start_time": "2024-04-22T16:46:43.977Z"
   },
   {
    "duration": 589457,
    "start_time": "2024-04-22T16:59:36.370Z"
   },
   {
    "duration": 136,
    "start_time": "2024-04-22T17:09:25.832Z"
   },
   {
    "duration": 0,
    "start_time": "2024-04-22T17:09:25.970Z"
   },
   {
    "duration": 10,
    "start_time": "2024-04-22T17:10:16.979Z"
   },
   {
    "duration": 18,
    "start_time": "2024-04-22T17:10:26.191Z"
   },
   {
    "duration": 11,
    "start_time": "2024-04-22T17:10:40.271Z"
   },
   {
    "duration": 13,
    "start_time": "2024-04-22T17:10:45.343Z"
   },
   {
    "duration": 5,
    "start_time": "2024-04-22T17:10:49.717Z"
   },
   {
    "duration": 13,
    "start_time": "2024-04-22T17:10:54.854Z"
   },
   {
    "duration": 20,
    "start_time": "2024-04-22T17:11:09.677Z"
   },
   {
    "duration": 10,
    "start_time": "2024-04-22T17:11:26.041Z"
   },
   {
    "duration": 10,
    "start_time": "2024-04-22T17:11:36.237Z"
   },
   {
    "duration": 41,
    "start_time": "2024-04-22T19:14:08.346Z"
   },
   {
    "duration": 1313,
    "start_time": "2024-04-22T19:14:12.839Z"
   },
   {
    "duration": 5856,
    "start_time": "2024-04-22T19:14:14.154Z"
   },
   {
    "duration": 2841,
    "start_time": "2024-04-22T19:14:20.012Z"
   },
   {
    "duration": 135,
    "start_time": "2024-04-22T19:14:22.856Z"
   },
   {
    "duration": 118,
    "start_time": "2024-04-22T19:14:22.992Z"
   },
   {
    "duration": 11,
    "start_time": "2024-04-22T19:14:23.112Z"
   },
   {
    "duration": 29,
    "start_time": "2024-04-22T19:14:23.124Z"
   },
   {
    "duration": 84,
    "start_time": "2024-04-22T19:14:23.154Z"
   },
   {
    "duration": 105,
    "start_time": "2024-04-22T19:14:23.246Z"
   },
   {
    "duration": 97,
    "start_time": "2024-04-22T19:14:23.354Z"
   },
   {
    "duration": 166,
    "start_time": "2024-04-22T19:14:23.452Z"
   },
   {
    "duration": 212,
    "start_time": "2024-04-22T19:14:23.619Z"
   },
   {
    "duration": 132,
    "start_time": "2024-04-22T19:14:23.832Z"
   },
   {
    "duration": 4,
    "start_time": "2024-04-22T19:14:23.966Z"
   },
   {
    "duration": 28,
    "start_time": "2024-04-22T19:14:23.972Z"
   },
   {
    "duration": 7,
    "start_time": "2024-04-22T19:14:24.001Z"
   },
   {
    "duration": 16,
    "start_time": "2024-04-22T19:14:24.009Z"
   },
   {
    "duration": 23,
    "start_time": "2024-04-22T19:14:24.026Z"
   },
   {
    "duration": 7,
    "start_time": "2024-04-22T19:14:24.050Z"
   },
   {
    "duration": 19,
    "start_time": "2024-04-22T19:14:24.059Z"
   },
   {
    "duration": 46,
    "start_time": "2024-04-22T19:14:24.079Z"
   },
   {
    "duration": 9,
    "start_time": "2024-04-22T19:14:24.144Z"
   },
   {
    "duration": 3,
    "start_time": "2024-04-22T19:14:24.154Z"
   },
   {
    "duration": 11,
    "start_time": "2024-04-22T19:14:24.159Z"
   },
   {
    "duration": 40,
    "start_time": "2024-04-22T19:14:24.172Z"
   },
   {
    "duration": 3,
    "start_time": "2024-04-22T19:14:24.214Z"
   },
   {
    "duration": 3,
    "start_time": "2024-04-22T19:14:24.245Z"
   },
   {
    "duration": 5,
    "start_time": "2024-04-22T19:14:24.250Z"
   },
   {
    "duration": 4,
    "start_time": "2024-04-22T19:14:24.256Z"
   },
   {
    "duration": 458,
    "start_time": "2024-04-22T19:14:24.261Z"
   },
   {
    "duration": 0,
    "start_time": "2024-04-22T19:14:24.720Z"
   },
   {
    "duration": 0,
    "start_time": "2024-04-22T19:14:24.722Z"
   },
   {
    "duration": 0,
    "start_time": "2024-04-22T19:14:24.723Z"
   },
   {
    "duration": 0,
    "start_time": "2024-04-22T19:14:24.725Z"
   },
   {
    "duration": 0,
    "start_time": "2024-04-22T19:14:24.726Z"
   },
   {
    "duration": 1254,
    "start_time": "2024-04-22T19:15:41.446Z"
   },
   {
    "duration": 2571,
    "start_time": "2024-04-22T19:15:42.702Z"
   },
   {
    "duration": 811,
    "start_time": "2024-04-22T19:15:45.275Z"
   },
   {
    "duration": 135,
    "start_time": "2024-04-22T19:15:46.088Z"
   },
   {
    "duration": 83,
    "start_time": "2024-04-22T19:15:46.225Z"
   },
   {
    "duration": 12,
    "start_time": "2024-04-22T19:15:46.309Z"
   },
   {
    "duration": 34,
    "start_time": "2024-04-22T19:15:46.323Z"
   },
   {
    "duration": 89,
    "start_time": "2024-04-22T19:15:46.358Z"
   },
   {
    "duration": 108,
    "start_time": "2024-04-22T19:15:46.448Z"
   },
   {
    "duration": 89,
    "start_time": "2024-04-22T19:15:46.559Z"
   },
   {
    "duration": 178,
    "start_time": "2024-04-22T19:15:46.649Z"
   },
   {
    "duration": 176,
    "start_time": "2024-04-22T19:15:46.828Z"
   },
   {
    "duration": 120,
    "start_time": "2024-04-22T19:15:47.006Z"
   },
   {
    "duration": 4,
    "start_time": "2024-04-22T19:15:47.128Z"
   },
   {
    "duration": 21,
    "start_time": "2024-04-22T19:15:47.144Z"
   },
   {
    "duration": 5,
    "start_time": "2024-04-22T19:15:47.167Z"
   },
   {
    "duration": 26,
    "start_time": "2024-04-22T19:15:47.173Z"
   },
   {
    "duration": 6,
    "start_time": "2024-04-22T19:15:47.200Z"
   },
   {
    "duration": 18,
    "start_time": "2024-04-22T19:15:47.207Z"
   },
   {
    "duration": 29,
    "start_time": "2024-04-22T19:15:47.226Z"
   },
   {
    "duration": 47,
    "start_time": "2024-04-22T19:15:47.256Z"
   },
   {
    "duration": 8,
    "start_time": "2024-04-22T19:15:47.304Z"
   },
   {
    "duration": 19,
    "start_time": "2024-04-22T19:15:47.314Z"
   },
   {
    "duration": 17,
    "start_time": "2024-04-22T19:15:47.334Z"
   },
   {
    "duration": 37,
    "start_time": "2024-04-22T19:15:47.353Z"
   },
   {
    "duration": 2,
    "start_time": "2024-04-22T19:15:47.392Z"
   },
   {
    "duration": 24,
    "start_time": "2024-04-22T19:15:47.395Z"
   },
   {
    "duration": 10,
    "start_time": "2024-04-22T19:15:47.422Z"
   },
   {
    "duration": 10,
    "start_time": "2024-04-22T19:15:47.433Z"
   },
   {
    "duration": 6932,
    "start_time": "2024-04-22T19:15:47.444Z"
   },
   {
    "duration": 36389,
    "start_time": "2024-04-22T19:15:54.377Z"
   },
   {
    "duration": 115190,
    "start_time": "2024-04-22T19:16:30.767Z"
   },
   {
    "duration": 436563,
    "start_time": "2024-04-22T19:18:25.958Z"
   },
   {
    "duration": 9,
    "start_time": "2024-04-22T19:25:42.522Z"
   },
   {
    "duration": 27,
    "start_time": "2024-04-22T19:25:42.532Z"
   },
   {
    "duration": 139,
    "start_time": "2024-04-22T19:29:39.441Z"
   },
   {
    "duration": 13,
    "start_time": "2024-04-22T19:29:57.284Z"
   },
   {
    "duration": 14,
    "start_time": "2024-04-22T19:30:11.501Z"
   },
   {
    "duration": 3,
    "start_time": "2024-04-22T19:33:42.505Z"
   }
  ],
  "kernelspec": {
   "display_name": "Python 3 (ipykernel)",
   "language": "python",
   "name": "python3"
  },
  "language_info": {
   "codemirror_mode": {
    "name": "ipython",
    "version": 3
   },
   "file_extension": ".py",
   "mimetype": "text/x-python",
   "name": "python",
   "nbconvert_exporter": "python",
   "pygments_lexer": "ipython3",
   "version": "3.9.5"
  },
  "toc": {
   "base_numbering": 1,
   "nav_menu": {},
   "number_sections": true,
   "sideBar": true,
   "skip_h1_title": true,
   "title_cell": "Table of Contents",
   "title_sidebar": "Contents",
   "toc_cell": false,
   "toc_position": {
    "height": "calc(100% - 180px)",
    "left": "10px",
    "top": "150px",
    "width": "165px"
   },
   "toc_section_display": true,
   "toc_window_display": true
  }
 },
 "nbformat": 4,
 "nbformat_minor": 2
}
